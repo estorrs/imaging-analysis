{
 "cells": [
  {
   "cell_type": "code",
   "execution_count": 8,
   "id": "fcbdfa55",
   "metadata": {},
   "outputs": [],
   "source": [
    "from ome_types import from_tiff\n",
    "import pandas as pd"
   ]
  },
  {
   "cell_type": "code",
   "execution_count": 3,
   "id": "338cdbdc",
   "metadata": {},
   "outputs": [
    {
     "data": {
      "text/plain": [
       "['/diskmnt/primary/CODEX/HTAN/20231220_Human_CCRCC_C3L-00970-13u2_top_C3N-00733-12U2-PA00002352U1_Btom/C3L-00970-13u2__20231220.ome.tiff',\n",
       " '/diskmnt/primary/CODEX/HTAN/20231219_Human_CCRCC_C3L-01287-11Us1_2_top_C3N-01200-11Us1_2_middle_C3N-01200-13-U2_btm/C3L-01287-11Us1__20231219.ome.tiff',\n",
       " '/diskmnt/primary/CODEX/HTAN/20211008_HT323B1-S1H3A4/HT323B1-S1H3A4__20211008.ome.tiff',\n",
       " '/diskmnt/primary/CODEX/HTAN/042623_MULTIPLE_HTAN_HT413C1-K2_TOP_HT339B2-H1_HT553P1-H2_HT565B1-H2_BTM/HT339B2-H1__20230427.ome.tiff',\n",
       " '/diskmnt/primary/CODEX/HTAN/042623_MULTIPLE_HTAN_HT413C1-K2_TOP_HT339B2-H1_HT553P1-H2_HT565B1-H2_BTM/HT413C1-K2__20230427.ome.tiff',\n",
       " '/diskmnt/primary/CODEX/HTAN/041823_CRC_HT488C1-Th1K1Fp1-U14/HT488C1-Th1K1Fp1-U14__20230419.ome.tiff',\n",
       " '/diskmnt/primary/CODEX/HTAN/041323_CRC_HT488C1-Th1K1Fp1-U2/HT488C1-Th1K1Fp1__20230413.ome.tiff',\n",
       " '/diskmnt/primary/CODEX/HTAN/042623_MULTIPLE_HTAN_HT413C1-K2_TOP_HT339B2-H1_HT553P1-H2_HT565B1-H2_BTM/HT565B1-H2__20230427.ome.tiff',\n",
       " '/diskmnt/primary/CODEX/HTAN/20230309_CRC_Met_S15_1909_C2_Section3/S15_1909_C2_Section3__20230308.ome.tiff',\n",
       " '/diskmnt/primary/CODEX/HTAN/20230826_mCRC_S16-32775_Primary_and_Met/mCRC_S16-32775_Met__20230826.ome.tiff',\n",
       " '/diskmnt/primary/CODEX/HTAN/08232023_mCRC_S16-38794_Met/mCRC_S16-38794_Met__20230823.ome.tiff',\n",
       " '/diskmnt/primary/CODEX/HTAN/20230824_mCRC_S16-38794_Primary/mCRC_S16-38794_Primary__20230824.ome.tiff']"
      ]
     },
     "execution_count": 3,
     "metadata": {},
     "output_type": "execute_result"
    }
   ],
   "source": [
    "fps = \"\"\"\n",
    "/diskmnt/primary/CODEX/HTAN/20231220_Human_CCRCC_C3L-00970-13u2_top_C3N-00733-12U2-PA00002352U1_Btom/C3L-00970-13u2__20231220.ome.tiff\n",
    "/diskmnt/primary/CODEX/HTAN/20231219_Human_CCRCC_C3L-01287-11Us1_2_top_C3N-01200-11Us1_2_middle_C3N-01200-13-U2_btm/C3L-01287-11Us1__20231219.ome.tiff\n",
    "/diskmnt/primary/CODEX/HTAN/20211008_HT323B1-S1H3A4/HT323B1-S1H3A4__20211008.ome.tiff\n",
    "/diskmnt/primary/CODEX/HTAN/042623_MULTIPLE_HTAN_HT413C1-K2_TOP_HT339B2-H1_HT553P1-H2_HT565B1-H2_BTM/HT339B2-H1__20230427.ome.tiff\n",
    "/diskmnt/primary/CODEX/HTAN/042623_MULTIPLE_HTAN_HT413C1-K2_TOP_HT339B2-H1_HT553P1-H2_HT565B1-H2_BTM/HT413C1-K2__20230427.ome.tiff\n",
    "/diskmnt/primary/CODEX/HTAN/041823_CRC_HT488C1-Th1K1Fp1-U14/HT488C1-Th1K1Fp1-U14__20230419.ome.tiff\n",
    "/diskmnt/primary/CODEX/HTAN/041323_CRC_HT488C1-Th1K1Fp1-U2/HT488C1-Th1K1Fp1__20230413.ome.tiff\n",
    "/diskmnt/primary/CODEX/HTAN/042623_MULTIPLE_HTAN_HT413C1-K2_TOP_HT339B2-H1_HT553P1-H2_HT565B1-H2_BTM/HT565B1-H2__20230427.ome.tiff\n",
    "/diskmnt/primary/CODEX/HTAN/20230309_CRC_Met_S15_1909_C2_Section3/S15_1909_C2_Section3__20230308.ome.tiff\n",
    "/diskmnt/primary/CODEX/HTAN/20230826_mCRC_S16-32775_Primary_and_Met/mCRC_S16-32775_Met__20230826.ome.tiff\n",
    "/diskmnt/primary/CODEX/HTAN/08232023_mCRC_S16-38794_Met/mCRC_S16-38794_Met__20230823.ome.tiff\n",
    "/diskmnt/primary/CODEX/HTAN/20230824_mCRC_S16-38794_Primary/mCRC_S16-38794_Primary__20230824.ome.tiff\n",
    "\"\"\".strip().split('\\n')\n",
    "fps"
   ]
  },
  {
   "cell_type": "code",
   "execution_count": 4,
   "id": "ec4ee9ed",
   "metadata": {},
   "outputs": [
    {
     "data": {
      "text/plain": [
       "OME(images=[<1 field_type>])"
      ]
     },
     "execution_count": 4,
     "metadata": {},
     "output_type": "execute_result"
    }
   ],
   "source": [
    "ome = from_tiff(fps[0])\n",
    "ome"
   ]
  },
  {
   "cell_type": "code",
   "execution_count": 5,
   "id": "5f71631a",
   "metadata": {},
   "outputs": [
    {
     "data": {
      "text/plain": [
       "Image(\n",
       "   id='Image:0',\n",
       "   pixels={'channels': [{'annotation_refs': [], 'id': 'Channel:0', 'name': 'DAPI', 'color': Color('white', rgb=(255, 255, 255))}, {'annotation_refs': [], 'id': 'Channel:1', 'name': 'E-cadherin', 'color': Color('white', rgb=(255, 255, 255))}, {'annotation_refs': [], 'id': 'Channel:2', 'name': 'AR (D)', 'color': Color('white', rgb=(255, 255, 255))}, {'annotation_refs': [], 'id': 'Channel:3', 'name': 'CD4', 'color': Color('white', rgb=(255, 255, 255))}, {'annotation_refs': [], 'id': 'Channel:4', 'name': 'BCA1(D)', 'color': Color('white', rgb=(255, 255, 255))}, {'annotation_refs': [], 'id': 'Channel:5', 'name': 'LYVE1', 'color': Color('white', rgb=(255, 255, 255))}, {'annotation_refs': [], 'id': 'Channel:6', 'name': 'CD68', 'color': Color('white', rgb=(255, 255, 255))}, {'annotation_refs': [], 'id': 'Channel:7', 'name': 'Podoplanin', 'color': Color('white', rgb=(255, 255, 255))}, {'annotation_refs': [], 'id': 'Channel:8', 'name': 'SMA(D)', 'color': Color('white', rgb=(255, 255, 255))}, {'annotation_refs': [], 'id': 'Channel:9', 'name': 'CD45(D)', 'color': Color('white', rgb=(255, 255, 255))}, {'annotation_refs': [], 'id': 'Channel:10', 'name': 'CD8', 'color': Color('white', rgb=(255, 255, 255))}, {'annotation_refs': [], 'id': 'Channel:11', 'name': 'Pan-Cytokeratin', 'color': Color('white', rgb=(255, 255, 255))}, {'annotation_refs': [], 'id': 'Channel:12', 'name': 'Aqp2', 'color': Color('white', rgb=(255, 255, 255))}, {'annotation_refs': [], 'id': 'Channel:13', 'name': 'Granzyme B', 'color': Color('white', rgb=(255, 255, 255))}, {'annotation_refs': [], 'id': 'Channel:14', 'name': 'Vim', 'color': Color('white', rgb=(255, 255, 255))}, {'annotation_refs': [], 'id': 'Channel:15', 'name': 'LRP2', 'color': Color('white', rgb=(255, 255, 255))}, {'annotation_refs': [], 'id': 'Channel:16', 'name': 'CD163', 'color': Color('white', rgb=(255, 255, 255))}, {'annotation_refs': [], 'id': 'Channel:17', 'name': 'UMOD', 'color': Color('white', rgb=(255, 255, 255))}, {'annotation_refs': [], 'id': 'Channel:18', 'name': 'CALB1', 'color': Color('white', rgb=(255, 255, 255))}, {'annotation_refs': [], 'id': 'Channel:19', 'name': 'CD20', 'color': Color('white', rgb=(255, 255, 255))}, {'annotation_refs': [], 'id': 'Channel:20', 'name': 'AQP1', 'color': Color('white', rgb=(255, 255, 255))}, {'annotation_refs': [], 'id': 'Channel:21', 'name': 'FOXP3', 'color': Color('white', rgb=(255, 255, 255))}, {'annotation_refs': [], 'id': 'Channel:22', 'name': 'Ki67', 'color': Color('white', rgb=(255, 255, 255))}, {'annotation_refs': [], 'id': 'Channel:23', 'name': 'CP', 'color': Color('white', rgb=(255, 255, 255))}, {'annotation_refs': [], 'id': 'Channel:24', 'name': 'CA9', 'color': Color('white', rgb=(255, 255, 255))}, {'annotation_refs': [], 'id': 'Channel:25', 'name': 'UCHL1', 'color': Color('white', rgb=(255, 255, 255))}, {'annotation_refs': [], 'id': 'Channel:26', 'name': 'CD3e', 'color': Color('white', rgb=(255, 255, 255))}, {'annotation_refs': [], 'id': 'Channel:27', 'name': 'BAP1', 'color': Color('white', rgb=(255, 255, 255))}, {'annotation_refs': [], 'id': 'Channel:28', 'name': 'CD31', 'color': Color('white', rgb=(255, 255, 255))}], 'bin_data_blocks': [], 'tiff_data_blocks': [{'plane_count': 29}], 'planes': [{'annotation_refs': [], 'the_z': 0, 'the_t': 0, 'the_c': 0}, {'annotation_refs': [], 'the_z': 0, 'the_t': 0, 'the_c': 1}, {'annotation_refs': [], 'the_z': 0, 'the_t': 0, 'the_c': 2}, {'annotation_refs': [], 'the_z': 0, 'the_t': 0, 'the_c': 3}, {'annotation_refs': [], 'the_z': 0, 'the_t': 0, 'the_c': 4}, {'annotation_refs': [], 'the_z': 0, 'the_t': 0, 'the_c': 5}, {'annotation_refs': [], 'the_z': 0, 'the_t': 0, 'the_c': 6}, {'annotation_refs': [], 'the_z': 0, 'the_t': 0, 'the_c': 7}, {'annotation_refs': [], 'the_z': 0, 'the_t': 0, 'the_c': 8}, {'annotation_refs': [], 'the_z': 0, 'the_t': 0, 'the_c': 9}, {'annotation_refs': [], 'the_z': 0, 'the_t': 0, 'the_c': 10}, {'annotation_refs': [], 'the_z': 0, 'the_t': 0, 'the_c': 11}, {'annotation_refs': [], 'the_z': 0, 'the_t': 0, 'the_c': 12}, {'annotation_refs': [], 'the_z': 0, 'the_t': 0, 'the_c': 13}, {'annotation_refs': [], 'the_z': 0, 'the_t': 0, 'the_c': 14}, {'annotation_refs': [], 'the_z': 0, 'the_t': 0, 'the_c': 15}, {'annotation_refs': [], 'the_z': 0, 'the_t': 0, 'the_c': 16}, {'annotation_refs': [], 'the_z': 0, 'the_t': 0, 'the_c': 17}, {'annotation_refs': [], 'the_z': 0, 'the_t': 0, 'the_c': 18}, {'annotation_refs': [], 'the_z': 0, 'the_t': 0, 'the_c': 19}, {'annotation_refs': [], 'the_z': 0, 'the_t': 0, 'the_c': 20}, {'annotation_refs': [], 'the_z': 0, 'the_t': 0, 'the_c': 21}, {'annotation_refs': [], 'the_z': 0, 'the_t': 0, 'the_c': 22}, {'annotation_refs': [], 'the_z': 0, 'the_t': 0, 'the_c': 23}, {'annotation_refs': [], 'the_z': 0, 'the_t': 0, 'the_c': 24}, {'annotation_refs': [], 'the_z': 0, 'the_t': 0, 'the_c': 25}, {'annotation_refs': [], 'the_z': 0, 'the_t': 0, 'the_c': 26}, {'annotation_refs': [], 'the_z': 0, 'the_t': 0, 'the_c': 27}, {'annotation_refs': [], 'the_z': 0, 'the_t': 0, 'the_c': 28}], 'id': 'Pixels:0', 'dimension_order': <Pixels_DimensionOrder.XYCZT: 'XYCZT'>, 'type': <PixelType.UINT8: 'uint8'>, 'big_endian': False, 'size_x': 22000, 'size_y': 15000, 'size_z': 1, 'size_c': 29, 'size_t': 1, 'physical_size_x': 0.5100762527233116, 'physical_size_y': 0.5100762527233116},\n",
       ")"
      ]
     },
     "execution_count": 5,
     "metadata": {},
     "output_type": "execute_result"
    }
   ],
   "source": [
    "ome.images[0]"
   ]
  },
  {
   "cell_type": "code",
   "execution_count": 6,
   "id": "0960460f",
   "metadata": {},
   "outputs": [
    {
     "data": {
      "text/plain": [
       "Pixels(\n",
       "   id='Pixels:0',\n",
       "   channels=[<29 field_type>],\n",
       "   tiff_data_blocks=[{'plane_count': 29}],\n",
       "   planes=[<29 field_type>],\n",
       "   dimension_order='XYCZT',\n",
       "   type='uint8',\n",
       "   big_endian=False,\n",
       "   size_x=22000,\n",
       "   size_y=15000,\n",
       "   size_z=1,\n",
       "   size_c=29,\n",
       "   size_t=1,\n",
       "   physical_size_x=0.5100762527233116,\n",
       "   physical_size_y=0.5100762527233116,\n",
       ")"
      ]
     },
     "execution_count": 6,
     "metadata": {},
     "output_type": "execute_result"
    }
   ],
   "source": [
    "ome.images[0].pixels"
   ]
  },
  {
   "cell_type": "code",
   "execution_count": 10,
   "id": "2dbe9fe5",
   "metadata": {},
   "outputs": [
    {
     "data": {
      "text/html": [
       "<div>\n",
       "<style scoped>\n",
       "    .dataframe tbody tr th:only-of-type {\n",
       "        vertical-align: middle;\n",
       "    }\n",
       "\n",
       "    .dataframe tbody tr th {\n",
       "        vertical-align: top;\n",
       "    }\n",
       "\n",
       "    .dataframe thead th {\n",
       "        text-align: right;\n",
       "    }\n",
       "</style>\n",
       "<table border=\"1\" class=\"dataframe\">\n",
       "  <thead>\n",
       "    <tr style=\"text-align: right;\">\n",
       "      <th></th>\n",
       "      <th>filepath</th>\n",
       "      <th>size_x</th>\n",
       "      <th>physical_size_x</th>\n",
       "      <th>size_y</th>\n",
       "      <th>physical_size_y</th>\n",
       "      <th>size_c</th>\n",
       "    </tr>\n",
       "  </thead>\n",
       "  <tbody>\n",
       "    <tr>\n",
       "      <th>0</th>\n",
       "      <td>/diskmnt/primary/CODEX/HTAN/20231220_Human_CCR...</td>\n",
       "      <td>22000</td>\n",
       "      <td>0.510076</td>\n",
       "      <td>15000</td>\n",
       "      <td>0.510076</td>\n",
       "      <td>29</td>\n",
       "    </tr>\n",
       "    <tr>\n",
       "      <th>1</th>\n",
       "      <td>/diskmnt/primary/CODEX/HTAN/20231219_Human_CCR...</td>\n",
       "      <td>25760</td>\n",
       "      <td>0.510076</td>\n",
       "      <td>18000</td>\n",
       "      <td>0.510076</td>\n",
       "      <td>29</td>\n",
       "    </tr>\n",
       "    <tr>\n",
       "      <th>2</th>\n",
       "      <td>/diskmnt/primary/CODEX/HTAN/20211008_HT323B1-S...</td>\n",
       "      <td>21504</td>\n",
       "      <td>0.377426</td>\n",
       "      <td>14112</td>\n",
       "      <td>0.377426</td>\n",
       "      <td>20</td>\n",
       "    </tr>\n",
       "    <tr>\n",
       "      <th>3</th>\n",
       "      <td>/diskmnt/primary/CODEX/HTAN/042623_MULTIPLE_HT...</td>\n",
       "      <td>12000</td>\n",
       "      <td>0.510076</td>\n",
       "      <td>12000</td>\n",
       "      <td>0.510076</td>\n",
       "      <td>33</td>\n",
       "    </tr>\n",
       "    <tr>\n",
       "      <th>4</th>\n",
       "      <td>/diskmnt/primary/CODEX/HTAN/042623_MULTIPLE_HT...</td>\n",
       "      <td>11000</td>\n",
       "      <td>0.510076</td>\n",
       "      <td>13000</td>\n",
       "      <td>0.510076</td>\n",
       "      <td>33</td>\n",
       "    </tr>\n",
       "    <tr>\n",
       "      <th>5</th>\n",
       "      <td>/diskmnt/primary/CODEX/HTAN/041823_CRC_HT488C1...</td>\n",
       "      <td>12480</td>\n",
       "      <td>0.510076</td>\n",
       "      <td>10800</td>\n",
       "      <td>0.510076</td>\n",
       "      <td>18</td>\n",
       "    </tr>\n",
       "    <tr>\n",
       "      <th>6</th>\n",
       "      <td>/diskmnt/primary/CODEX/HTAN/041323_CRC_HT488C1...</td>\n",
       "      <td>11520</td>\n",
       "      <td>0.510076</td>\n",
       "      <td>11520</td>\n",
       "      <td>0.510076</td>\n",
       "      <td>19</td>\n",
       "    </tr>\n",
       "    <tr>\n",
       "      <th>7</th>\n",
       "      <td>/diskmnt/primary/CODEX/HTAN/042623_MULTIPLE_HT...</td>\n",
       "      <td>14400</td>\n",
       "      <td>0.510076</td>\n",
       "      <td>12800</td>\n",
       "      <td>0.510076</td>\n",
       "      <td>33</td>\n",
       "    </tr>\n",
       "    <tr>\n",
       "      <th>8</th>\n",
       "      <td>/diskmnt/primary/CODEX/HTAN/20230309_CRC_Met_S...</td>\n",
       "      <td>35520</td>\n",
       "      <td>0.510076</td>\n",
       "      <td>35280</td>\n",
       "      <td>0.510076</td>\n",
       "      <td>19</td>\n",
       "    </tr>\n",
       "    <tr>\n",
       "      <th>9</th>\n",
       "      <td>/diskmnt/primary/CODEX/HTAN/20230826_mCRC_S16-...</td>\n",
       "      <td>19300</td>\n",
       "      <td>0.510076</td>\n",
       "      <td>18060</td>\n",
       "      <td>0.510076</td>\n",
       "      <td>24</td>\n",
       "    </tr>\n",
       "    <tr>\n",
       "      <th>10</th>\n",
       "      <td>/diskmnt/primary/CODEX/HTAN/08232023_mCRC_S16-...</td>\n",
       "      <td>35520</td>\n",
       "      <td>0.510076</td>\n",
       "      <td>42480</td>\n",
       "      <td>0.510076</td>\n",
       "      <td>25</td>\n",
       "    </tr>\n",
       "    <tr>\n",
       "      <th>11</th>\n",
       "      <td>/diskmnt/primary/CODEX/HTAN/20230824_mCRC_S16-...</td>\n",
       "      <td>35520</td>\n",
       "      <td>0.510076</td>\n",
       "      <td>66960</td>\n",
       "      <td>0.510076</td>\n",
       "      <td>25</td>\n",
       "    </tr>\n",
       "  </tbody>\n",
       "</table>\n",
       "</div>"
      ],
      "text/plain": [
       "                                             filepath  size_x  \\\n",
       "0   /diskmnt/primary/CODEX/HTAN/20231220_Human_CCR...   22000   \n",
       "1   /diskmnt/primary/CODEX/HTAN/20231219_Human_CCR...   25760   \n",
       "2   /diskmnt/primary/CODEX/HTAN/20211008_HT323B1-S...   21504   \n",
       "3   /diskmnt/primary/CODEX/HTAN/042623_MULTIPLE_HT...   12000   \n",
       "4   /diskmnt/primary/CODEX/HTAN/042623_MULTIPLE_HT...   11000   \n",
       "5   /diskmnt/primary/CODEX/HTAN/041823_CRC_HT488C1...   12480   \n",
       "6   /diskmnt/primary/CODEX/HTAN/041323_CRC_HT488C1...   11520   \n",
       "7   /diskmnt/primary/CODEX/HTAN/042623_MULTIPLE_HT...   14400   \n",
       "8   /diskmnt/primary/CODEX/HTAN/20230309_CRC_Met_S...   35520   \n",
       "9   /diskmnt/primary/CODEX/HTAN/20230826_mCRC_S16-...   19300   \n",
       "10  /diskmnt/primary/CODEX/HTAN/08232023_mCRC_S16-...   35520   \n",
       "11  /diskmnt/primary/CODEX/HTAN/20230824_mCRC_S16-...   35520   \n",
       "\n",
       "    physical_size_x  size_y  physical_size_y  size_c  \n",
       "0          0.510076   15000         0.510076      29  \n",
       "1          0.510076   18000         0.510076      29  \n",
       "2          0.377426   14112         0.377426      20  \n",
       "3          0.510076   12000         0.510076      33  \n",
       "4          0.510076   13000         0.510076      33  \n",
       "5          0.510076   10800         0.510076      18  \n",
       "6          0.510076   11520         0.510076      19  \n",
       "7          0.510076   12800         0.510076      33  \n",
       "8          0.510076   35280         0.510076      19  \n",
       "9          0.510076   18060         0.510076      24  \n",
       "10         0.510076   42480         0.510076      25  \n",
       "11         0.510076   66960         0.510076      25  "
      ]
     },
     "execution_count": 10,
     "metadata": {},
     "output_type": "execute_result"
    }
   ],
   "source": [
    "data = []\n",
    "for fp in fps:\n",
    "    ome = from_tiff(fp)\n",
    "    im = ome.images[0]\n",
    "    pixels = im.pixels\n",
    "    data.append([\n",
    "        fp, pixels.size_x, pixels.physical_size_x, pixels.size_y, pixels.physical_size_y, pixels.size_c\n",
    "    ])\n",
    "df = pd.DataFrame(\n",
    "    data,\n",
    "    columns=['filepath', 'size_x', 'physical_size_x', 'size_y', 'physical_size_y', 'size_c']\n",
    ")\n",
    "df"
   ]
  },
  {
   "cell_type": "code",
   "execution_count": 11,
   "id": "453b0fb6",
   "metadata": {},
   "outputs": [],
   "source": [
    "df.to_csv('/diskmnt/Projects/Users/estorrs/sandbox/clara_file_metadata.txt', sep='\\t', index=False)"
   ]
  },
  {
   "cell_type": "code",
   "execution_count": null,
   "id": "9bbaf2a6",
   "metadata": {},
   "outputs": [],
   "source": []
  }
 ],
 "metadata": {
  "kernelspec": {
   "display_name": "Python 3 (ipykernel)",
   "language": "python",
   "name": "python3"
  },
  "language_info": {
   "codemirror_mode": {
    "name": "ipython",
    "version": 3
   },
   "file_extension": ".py",
   "mimetype": "text/x-python",
   "name": "python",
   "nbconvert_exporter": "python",
   "pygments_lexer": "ipython3",
   "version": "3.10.13"
  }
 },
 "nbformat": 4,
 "nbformat_minor": 5
}
