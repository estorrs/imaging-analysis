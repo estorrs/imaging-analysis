{
 "cells": [
  {
   "cell_type": "code",
   "execution_count": 29,
   "id": "ac552363",
   "metadata": {},
   "outputs": [],
   "source": [
    "import os\n",
    "from pathlib import Path\n",
    "import shutil\n",
    "\n",
    "import tifffile\n",
    "import re\n",
    "from multiplex_imaging_pipeline.utils import listfiles"
   ]
  },
  {
   "cell_type": "code",
   "execution_count": null,
   "id": "8247112e",
   "metadata": {},
   "outputs": [],
   "source": [
    "def deidentify_svs(fp, output_fp=None, redact=None):\n",
    "    if output_fp is not None:\n",
    "        shutil.copy(fp, output_fp)\n",
    "        fp = output_fp\n",
    "    \n",
    "    description = tifffile.tiffcomment(fp)\n",
    "\n",
    "    pattern = r'\\|(Date|Time Zone|ScanScope ID|User|Time|DSR ID) = ([^\\|]+)'\n",
    "\n",
    "    if redact is None:\n",
    "        replacement = \"\"\n",
    "    else:\n",
    "        replacement = \"|\\\\1 = \" + redact\n",
    "\n",
    "\n",
    "    description_clean = re.sub(pattern, replacement, description)\n",
    "\n",
    "    tifffile.tiffcomment(fp, comment = description_clean)"
   ]
  },
  {
   "cell_type": "code",
   "execution_count": null,
   "id": "f1fb774b",
   "metadata": {},
   "outputs": [],
   "source": [
    "def deidentify_tif(fp, output_fp=None):\n",
    "    if output_fp is not None:\n",
    "        shutil.copy(fp, output_fp)\n",
    "        fp = output_fp\n",
    "    \n",
    "    tf = tifffile.TiffFile(fp)\n",
    "    p = next(iter(tf.pages))\n",
    "    \n",
    "    remove = [306] # ['DateTime']\n",
    "    p.tags = {k:v for k, v in p.tags.items() if k not in remove}\n",
    "    \n",
    "    \n",
    "    \n",
    "    tifffile.tiffcomment(fp, comment = description_clean)"
   ]
  },
  {
   "cell_type": "code",
   "execution_count": null,
   "id": "201458ca",
   "metadata": {},
   "outputs": [],
   "source": [
    "fps = sorted(listfiles('/diskmnt/Projects/Users/estorrs/imaging/data/he/john_he_to_deidentify_10212022/',\n",
    "                       regex=r'.svs$'))\n",
    "fps"
   ]
  },
  {
   "cell_type": "code",
   "execution_count": null,
   "id": "1c7e82a3",
   "metadata": {},
   "outputs": [],
   "source": [
    "for fp in fps:\n",
    "    deidentify_svs(fp)"
   ]
  },
  {
   "cell_type": "code",
   "execution_count": null,
   "id": "cf03df25",
   "metadata": {},
   "outputs": [],
   "source": []
  },
  {
   "cell_type": "code",
   "execution_count": 51,
   "id": "4dab7c3b",
   "metadata": {},
   "outputs": [
    {
     "name": "stdout",
     "output_type": "stream",
     "text": [
      "254 TiffTag 254 NewSubfileType @10 LONG @18 = UNDEFINED\n",
      "256 TiffTag 256 ImageWidth @22 SHORT @30 = 19650\n",
      "257 TiffTag 257 ImageLength @34 SHORT @42 = 19897\n",
      "258 TiffTag 258 BitsPerSample @46 SHORT[3] @266 = (8, 8, 8)\n",
      "259 TiffTag 259 Compression @58 SHORT @66 = LZW\n",
      "262 TiffTag 262 PhotometricInterpretation @70 SHORT @78 = RGB\n",
      "273 TiffTag 273 StripOffsets @82 LONG[4975] @272 = (65348, 75584, 88326, 103370, 12\n",
      "274 TiffTag 274 Orientation @94 SHORT @102 = TOPLEFT\n",
      "277 TiffTag 277 SamplesPerPixel @106 SHORT @114 = 3\n",
      "278 TiffTag 278 RowsPerStrip @118 SHORT @126 = 4\n",
      "279 TiffTag 279 StripByteCounts @130 LONG[4975] @20172 = (10236, 12742, 15044, 1915\n",
      "282 TiffTag 282 XResolution @142 RATIONAL @40072 = (720000, 10000)\n",
      "283 TiffTag 283 YResolution @154 RATIONAL @40080 = (720000, 10000)\n",
      "284 TiffTag 284 PlanarConfiguration @166 SHORT @174 = CONTIG\n",
      "296 TiffTag 296 ResolutionUnit @178 SHORT @186 = INCH\n",
      "305 TiffTag 305 Software @190 ASCII[28] @40088 = Adobe Photoshop CS4 Windows\n",
      "306 TiffTag 306 DateTime @202 ASCII[20] @40116 = ()\n",
      "317 TiffTag 317 Predictor @214 SHORT @222 = HORIZONTAL\n",
      "700 TiffTag 700 XMP @226 BYTE[15769] @40136 = 3c 3f 78 70 61 63 6b 65 74 20 62 65 6\n",
      "34377 TiffTag 34377 ImageResources @238 BYTE[9442] @55906 = 38 42 49 4d 04 25 00 00 0\n",
      "34665 TiffTag 34665 ExifTag @250 LONG @546958664 = {'ColorSpace': 65535, 'PixelXDimen\n"
     ]
    }
   ],
   "source": [
    "remove = [306] # ['DateTime']\n",
    "with tifffile.TiffFile(fp, mode='r+') as tif:\n",
    "#     tif.pages[0].tags = {k:v for k, v in tif.pages[0].tags.items() if k not in remove}\n",
    "    for code in remove:\n",
    "        if code in tif.pages[0].tags.keys():\n",
    "            tif.pages[0].tags[code].overwrite(None)\n",
    "    for k, v in tif.pages[0].tags.items():\n",
    "        print(k, v)"
   ]
  },
  {
   "cell_type": "code",
   "execution_count": null,
   "id": "fa8cc907",
   "metadata": {},
   "outputs": [],
   "source": [
    "p.tags."
   ]
  },
  {
   "cell_type": "code",
   "execution_count": null,
   "id": "531ef0d7",
   "metadata": {},
   "outputs": [],
   "source": []
  },
  {
   "cell_type": "code",
   "execution_count": 30,
   "id": "2aa16b4c",
   "metadata": {},
   "outputs": [
    {
     "data": {
      "text/plain": [
       "'/diskmnt/Datasets/Spatial_Transcriptomics/images/all/D1_HT323B1-S1H1Fc2U1_deident.tif'"
      ]
     },
     "execution_count": 30,
     "metadata": {},
     "output_type": "execute_result"
    }
   ],
   "source": [
    "shutil.copy(fp, '/diskmnt/Datasets/Spatial_Transcriptomics/images/all/D1_HT323B1-S1H1Fc2U1_deident.tif')"
   ]
  },
  {
   "cell_type": "code",
   "execution_count": 31,
   "id": "916b9a30",
   "metadata": {},
   "outputs": [],
   "source": [
    "fp = '/diskmnt/Datasets/Spatial_Transcriptomics/images/all/D1_HT323B1-S1H1Fc2U1_deident.tif'\n"
   ]
  },
  {
   "cell_type": "code",
   "execution_count": 41,
   "id": "d79408be",
   "metadata": {},
   "outputs": [],
   "source": [
    "tf = tifffile.TiffFile(fp)\n"
   ]
  },
  {
   "cell_type": "code",
   "execution_count": 42,
   "id": "29a4c867",
   "metadata": {},
   "outputs": [
    {
     "data": {
      "text/plain": [
       "<tifffile.TiffPage 0 @8>"
      ]
     },
     "execution_count": 42,
     "metadata": {},
     "output_type": "execute_result"
    }
   ],
   "source": [
    "p = next(iter(tf.pages))\n",
    "p"
   ]
  },
  {
   "cell_type": "code",
   "execution_count": 43,
   "id": "3186f79e",
   "metadata": {},
   "outputs": [
    {
     "name": "stdout",
     "output_type": "stream",
     "text": [
      "254 TiffTag 254 NewSubfileType @10 LONG @18 = UNDEFINED\n",
      "256 TiffTag 256 ImageWidth @22 SHORT @30 = 19650\n",
      "257 TiffTag 257 ImageLength @34 SHORT @42 = 19897\n",
      "258 TiffTag 258 BitsPerSample @46 SHORT[3] @266 = (8, 8, 8)\n",
      "259 TiffTag 259 Compression @58 SHORT @66 = LZW\n",
      "262 TiffTag 262 PhotometricInterpretation @70 SHORT @78 = RGB\n",
      "273 TiffTag 273 StripOffsets @82 LONG[4975] @272 = (65348, 75584, 88326, 103370, 12\n",
      "274 TiffTag 274 Orientation @94 SHORT @102 = TOPLEFT\n",
      "277 TiffTag 277 SamplesPerPixel @106 SHORT @114 = 3\n",
      "278 TiffTag 278 RowsPerStrip @118 SHORT @126 = 4\n",
      "279 TiffTag 279 StripByteCounts @130 LONG[4975] @20172 = (10236, 12742, 15044, 1915\n",
      "282 TiffTag 282 XResolution @142 RATIONAL @40072 = (720000, 10000)\n",
      "283 TiffTag 283 YResolution @154 RATIONAL @40080 = (720000, 10000)\n",
      "284 TiffTag 284 PlanarConfiguration @166 SHORT @174 = CONTIG\n",
      "296 TiffTag 296 ResolutionUnit @178 SHORT @186 = INCH\n",
      "305 TiffTag 305 Software @190 ASCII[28] @40088 = Adobe Photoshop CS4 Windows\n",
      "306 TiffTag 306 DateTime @202 ASCII[20] @40116 = 2021:07:28 15:06:09\n",
      "317 TiffTag 317 Predictor @214 SHORT @222 = HORIZONTAL\n",
      "700 TiffTag 700 XMP @226 BYTE[15769] @40136 = 3c 3f 78 70 61 63 6b 65 74 20 62 65 6\n",
      "34377 TiffTag 34377 ImageResources @238 BYTE[9442] @55906 = 38 42 49 4d 04 25 00 00 0\n",
      "34665 TiffTag 34665 ExifTag @250 LONG @546958664 = {'ColorSpace': 65535, 'PixelXDimen\n"
     ]
    }
   ],
   "source": [
    "for k, v in p.tags.items():\n",
    "    print(k, v)"
   ]
  },
  {
   "cell_type": "code",
   "execution_count": 44,
   "id": "e7d9b8aa",
   "metadata": {},
   "outputs": [
    {
     "data": {
      "text/plain": [
       "<tifffile.TiffTag 306 DateTime @202>"
      ]
     },
     "execution_count": 44,
     "metadata": {},
     "output_type": "execute_result"
    }
   ],
   "source": [
    "p.tags[306]."
   ]
  },
  {
   "cell_type": "code",
   "execution_count": 47,
   "id": "1e778e37",
   "metadata": {},
   "outputs": [],
   "source": [
    "tag = p.tags[306]"
   ]
  },
  {
   "cell_type": "code",
   "execution_count": 48,
   "id": "26be2593",
   "metadata": {},
   "outputs": [
    {
     "ename": "UnsupportedOperation",
     "evalue": "write",
     "output_type": "error",
     "traceback": [
      "\u001b[0;31m---------------------------------------------------------------------------\u001b[0m",
      "\u001b[0;31mUnsupportedOperation\u001b[0m                      Traceback (most recent call last)",
      "\u001b[0;32m/diskmnt/Projects/Users/estorrs/sandbox/tmp/ipykernel_98156/2808998656.py\u001b[0m in \u001b[0;36m?\u001b[0;34m()\u001b[0m\n\u001b[0;32m----> 1\u001b[0;31m \u001b[0mtag\u001b[0m\u001b[0;34m.\u001b[0m\u001b[0moverwrite\u001b[0m\u001b[0;34m(\u001b[0m\u001b[0;32mNone\u001b[0m\u001b[0;34m)\u001b[0m\u001b[0;34m\u001b[0m\u001b[0;34m\u001b[0m\u001b[0m\n\u001b[0m",
      "\u001b[0;32m/diskmnt/Projects/Users/estorrs/miniconda3/envs/imaging_analysis_v2/lib/python3.10/site-packages/tifffile/tifffile.py\u001b[0m in \u001b[0;36m?\u001b[0;34m(self, value, dtype, erase)\u001b[0m\n\u001b[1;32m  11334\u001b[0m                     \u001b[0mfh\u001b[0m\u001b[0;34m.\u001b[0m\u001b[0mseek\u001b[0m\u001b[0;34m(\u001b[0m\u001b[0mself\u001b[0m\u001b[0;34m.\u001b[0m\u001b[0mvalueoffset\u001b[0m\u001b[0;34m)\u001b[0m\u001b[0;34m\u001b[0m\u001b[0;34m\u001b[0m\u001b[0m\n\u001b[1;32m  11335\u001b[0m                     \u001b[0mfh\u001b[0m\u001b[0;34m.\u001b[0m\u001b[0mwrite\u001b[0m\u001b[0;34m(\u001b[0m\u001b[0;34mb'\\x00'\u001b[0m \u001b[0;34m*\u001b[0m \u001b[0moldsize\u001b[0m\u001b[0;34m)\u001b[0m\u001b[0;34m\u001b[0m\u001b[0;34m\u001b[0m\u001b[0m\n\u001b[1;32m  11336\u001b[0m \u001b[0;34m\u001b[0m\u001b[0m\n\u001b[1;32m  11337\u001b[0m         \u001b[0;32mfinally\u001b[0m\u001b[0;34m:\u001b[0m\u001b[0;34m\u001b[0m\u001b[0;34m\u001b[0m\u001b[0m\n\u001b[0;32m> 11338\u001b[0;31m             \u001b[0mfh\u001b[0m\u001b[0;34m.\u001b[0m\u001b[0mseek\u001b[0m\u001b[0;34m(\u001b[0m\u001b[0mpos\u001b[0m\u001b[0;34m)\u001b[0m  \u001b[0;31m# must restore file position\u001b[0m\u001b[0;34m\u001b[0m\u001b[0;34m\u001b[0m\u001b[0m\n\u001b[0m\u001b[1;32m  11339\u001b[0m \u001b[0;34m\u001b[0m\u001b[0m\n\u001b[1;32m  11340\u001b[0m         return TiffTag(\n\u001b[1;32m  11341\u001b[0m             \u001b[0mself\u001b[0m\u001b[0;34m.\u001b[0m\u001b[0mparent\u001b[0m\u001b[0;34m,\u001b[0m\u001b[0;34m\u001b[0m\u001b[0;34m\u001b[0m\u001b[0m\n",
      "\u001b[0;32m/diskmnt/Projects/Users/estorrs/miniconda3/envs/imaging_analysis_v2/lib/python3.10/site-packages/tifffile/tifffile.py\u001b[0m in \u001b[0;36m?\u001b[0;34m(self, buffer)\u001b[0m\n\u001b[1;32m  14467\u001b[0m             \u001b[0mNumber\u001b[0m \u001b[0mof\u001b[0m \u001b[0mbytes\u001b[0m \u001b[0mwritten\u001b[0m\u001b[0;34m.\u001b[0m\u001b[0;34m\u001b[0m\u001b[0;34m\u001b[0m\u001b[0m\n\u001b[1;32m  14468\u001b[0m \u001b[0;34m\u001b[0m\u001b[0m\n\u001b[1;32m  14469\u001b[0m         \"\"\"\n\u001b[1;32m  14470\u001b[0m         \u001b[0;32massert\u001b[0m \u001b[0mself\u001b[0m\u001b[0;34m.\u001b[0m\u001b[0m_fh\u001b[0m \u001b[0;32mis\u001b[0m \u001b[0;32mnot\u001b[0m \u001b[0;32mNone\u001b[0m\u001b[0;34m\u001b[0m\u001b[0;34m\u001b[0m\u001b[0m\n\u001b[0;32m> 14471\u001b[0;31m         \u001b[0;32mreturn\u001b[0m \u001b[0mself\u001b[0m\u001b[0;34m.\u001b[0m\u001b[0m_fh\u001b[0m\u001b[0;34m.\u001b[0m\u001b[0mwrite\u001b[0m\u001b[0;34m(\u001b[0m\u001b[0mbuffer\u001b[0m\u001b[0;34m)\u001b[0m\u001b[0;34m\u001b[0m\u001b[0;34m\u001b[0m\u001b[0m\n\u001b[0m",
      "\u001b[0;31mUnsupportedOperation\u001b[0m: write"
     ]
    }
   ],
   "source": [
    "tag.overwrite(None)"
   ]
  },
  {
   "cell_type": "code",
   "execution_count": null,
   "id": "f36ffabd",
   "metadata": {},
   "outputs": [],
   "source": []
  },
  {
   "cell_type": "code",
   "execution_count": 8,
   "id": "e49e6c58",
   "metadata": {},
   "outputs": [
    {
     "data": {
      "text/plain": [
       "''"
      ]
     },
     "execution_count": 8,
     "metadata": {},
     "output_type": "execute_result"
    }
   ],
   "source": [
    "p.description1"
   ]
  },
  {
   "cell_type": "code",
   "execution_count": 9,
   "id": "230200f1",
   "metadata": {},
   "outputs": [
    {
     "data": {
      "text/plain": [
       "{'uniform'}"
      ]
     },
     "execution_count": 9,
     "metadata": {},
     "output_type": "execute_result"
    }
   ],
   "source": [
    "tf.flags"
   ]
  },
  {
   "cell_type": "code",
   "execution_count": 10,
   "id": "dec34319",
   "metadata": {},
   "outputs": [
    {
     "data": {
      "text/plain": [
       "os.stat_result(st_mode=33261, st_ino=196221, st_dev=52, st_nlink=1, st_uid=1051, st_gid=100, st_size=546958708, st_atime=1707234467, st_mtime=1630005636, st_ctime=1705077618)"
      ]
     },
     "execution_count": 10,
     "metadata": {},
     "output_type": "execute_result"
    }
   ],
   "source": [
    "tf.fstat"
   ]
  },
  {
   "cell_type": "code",
   "execution_count": 11,
   "id": "79b940ea",
   "metadata": {},
   "outputs": [],
   "source": [
    "tf."
   ]
  },
  {
   "cell_type": "code",
   "execution_count": 14,
   "id": "03e78d51",
   "metadata": {},
   "outputs": [
    {
     "data": {
      "text/plain": [
       "datetime.datetime(2021, 7, 28, 15, 6, 9)"
      ]
     },
     "execution_count": 14,
     "metadata": {},
     "output_type": "execute_result"
    }
   ],
   "source": [
    "p.datetime"
   ]
  },
  {
   "cell_type": "code",
   "execution_count": 15,
   "id": "e41baa35",
   "metadata": {},
   "outputs": [
    {
     "data": {
      "text/plain": [
       "<function tifffile.tifffile.TiffPage.decode.<locals>.decode_other(data: 'bytes | None', index: 'int', /, *, jpegtables: 'bytes | None' = None, jpegheader: 'bytes | None' = None, _fullsize: 'bool' = False) -> 'tuple[NDArray[Any] | None, tuple[int, int, int, int, int], tuple[int, int, int, int]]'>"
      ]
     },
     "execution_count": 15,
     "metadata": {},
     "output_type": "execute_result"
    }
   ],
   "source": [
    "p.decode"
   ]
  },
  {
   "cell_type": "code",
   "execution_count": 16,
   "id": "13b558a9",
   "metadata": {},
   "outputs": [
    {
     "data": {
      "text/plain": [
       "set()"
      ]
     },
     "execution_count": 16,
     "metadata": {},
     "output_type": "execute_result"
    }
   ],
   "source": [
    "p.flags"
   ]
  },
  {
   "cell_type": "code",
   "execution_count": 19,
   "id": "07240e0c",
   "metadata": {},
   "outputs": [
    {
     "data": {
      "text/plain": [
       "'Adobe Photoshop CS4 Windows'"
      ]
     },
     "execution_count": 19,
     "metadata": {},
     "output_type": "execute_result"
    }
   ],
   "source": [
    "p.software"
   ]
  },
  {
   "cell_type": "code",
   "execution_count": 20,
   "id": "f35ba6ca",
   "metadata": {},
   "outputs": [
    {
     "ename": "AttributeError",
     "evalue": "can't set attribute 'datetime'",
     "output_type": "error",
     "traceback": [
      "\u001b[0;31m---------------------------------------------------------------------------\u001b[0m",
      "\u001b[0;31mAttributeError\u001b[0m                            Traceback (most recent call last)",
      "Cell \u001b[0;32mIn[20], line 1\u001b[0m\n\u001b[0;32m----> 1\u001b[0m \u001b[43mp\u001b[49m\u001b[38;5;241;43m.\u001b[39;49m\u001b[43mdatetime\u001b[49m \u001b[38;5;241m=\u001b[39m \u001b[38;5;28;01mNone\u001b[39;00m\n",
      "\u001b[0;31mAttributeError\u001b[0m: can't set attribute 'datetime'"
     ]
    }
   ],
   "source": [
    "p.datetime = None"
   ]
  },
  {
   "cell_type": "code",
   "execution_count": 21,
   "id": "fb05e7ff",
   "metadata": {},
   "outputs": [
    {
     "ename": "ValueError",
     "evalue": "no ImageDescription tag found",
     "output_type": "error",
     "traceback": [
      "\u001b[0;31m---------------------------------------------------------------------------\u001b[0m",
      "\u001b[0;31mValueError\u001b[0m                                Traceback (most recent call last)",
      "\u001b[0;32m/diskmnt/Projects/Users/estorrs/sandbox/tmp/ipykernel_98156/3434511118.py\u001b[0m in \u001b[0;36m?\u001b[0;34m()\u001b[0m\n\u001b[0;32m----> 1\u001b[0;31m \u001b[0mtifffile\u001b[0m\u001b[0;34m.\u001b[0m\u001b[0mtiffcomment\u001b[0m\u001b[0;34m(\u001b[0m\u001b[0mfp\u001b[0m\u001b[0;34m)\u001b[0m\u001b[0;34m\u001b[0m\u001b[0;34m\u001b[0m\u001b[0m\n\u001b[0m",
      "\u001b[0;32m/diskmnt/Projects/Users/estorrs/miniconda3/envs/imaging_analysis_v2/lib/python3.10/site-packages/tifffile/tifffile.py\u001b[0m in \u001b[0;36m?\u001b[0;34m(arg, comment, pageindex, tagcode)\u001b[0m\n\u001b[1;32m  24023\u001b[0m         \u001b[0;32mif\u001b[0m \u001b[0;32mnot\u001b[0m \u001b[0misinstance\u001b[0m\u001b[0;34m(\u001b[0m\u001b[0mpage\u001b[0m\u001b[0;34m,\u001b[0m \u001b[0mTiffPage\u001b[0m\u001b[0;34m)\u001b[0m\u001b[0;34m:\u001b[0m\u001b[0;34m\u001b[0m\u001b[0;34m\u001b[0m\u001b[0m\n\u001b[1;32m  24024\u001b[0m             \u001b[0;32mraise\u001b[0m \u001b[0mIndexError\u001b[0m\u001b[0;34m(\u001b[0m\u001b[0;34mf'TiffPage {pageindex} not found'\u001b[0m\u001b[0;34m)\u001b[0m\u001b[0;34m\u001b[0m\u001b[0;34m\u001b[0m\u001b[0m\n\u001b[1;32m  24025\u001b[0m         \u001b[0mtag\u001b[0m \u001b[0;34m=\u001b[0m \u001b[0mpage\u001b[0m\u001b[0;34m.\u001b[0m\u001b[0mtags\u001b[0m\u001b[0;34m.\u001b[0m\u001b[0mget\u001b[0m\u001b[0;34m(\u001b[0m\u001b[0mtagcode\u001b[0m\u001b[0;34m,\u001b[0m \u001b[0;32mNone\u001b[0m\u001b[0;34m)\u001b[0m\u001b[0;34m\u001b[0m\u001b[0;34m\u001b[0m\u001b[0m\n\u001b[1;32m  24026\u001b[0m         \u001b[0;32mif\u001b[0m \u001b[0mtag\u001b[0m \u001b[0;32mis\u001b[0m \u001b[0;32mNone\u001b[0m\u001b[0;34m:\u001b[0m\u001b[0;34m\u001b[0m\u001b[0;34m\u001b[0m\u001b[0m\n\u001b[0;32m> 24027\u001b[0;31m             \u001b[0;32mraise\u001b[0m \u001b[0mValueError\u001b[0m\u001b[0;34m(\u001b[0m\u001b[0;34mf'no {TIFF.TAGS[tagcode]} tag found'\u001b[0m\u001b[0;34m)\u001b[0m\u001b[0;34m\u001b[0m\u001b[0;34m\u001b[0m\u001b[0m\n\u001b[0m\u001b[1;32m  24028\u001b[0m         \u001b[0;32mif\u001b[0m \u001b[0mcomment\u001b[0m \u001b[0;32mis\u001b[0m \u001b[0;32mNone\u001b[0m\u001b[0;34m:\u001b[0m\u001b[0;34m\u001b[0m\u001b[0;34m\u001b[0m\u001b[0m\n\u001b[1;32m  24029\u001b[0m             \u001b[0;32mreturn\u001b[0m \u001b[0mtag\u001b[0m\u001b[0;34m.\u001b[0m\u001b[0mvalue\u001b[0m\u001b[0;34m\u001b[0m\u001b[0;34m\u001b[0m\u001b[0m\n\u001b[1;32m  24030\u001b[0m         \u001b[0mtag\u001b[0m\u001b[0;34m.\u001b[0m\u001b[0moverwrite\u001b[0m\u001b[0;34m(\u001b[0m\u001b[0mcomment\u001b[0m\u001b[0;34m)\u001b[0m\u001b[0;34m\u001b[0m\u001b[0;34m\u001b[0m\u001b[0m\n",
      "\u001b[0;31mValueError\u001b[0m: no ImageDescription tag found"
     ]
    }
   ],
   "source": [
    "tifffile.tiffcomment(fp)"
   ]
  },
  {
   "cell_type": "code",
   "execution_count": 27,
   "id": "ee585f05",
   "metadata": {},
   "outputs": [
    {
     "name": "stdout",
     "output_type": "stream",
     "text": [
      "254 TiffTag 254 NewSubfileType @10 LONG @18 = UNDEFINED\n",
      "256 TiffTag 256 ImageWidth @22 SHORT @30 = 19650\n",
      "257 TiffTag 257 ImageLength @34 SHORT @42 = 19897\n",
      "258 TiffTag 258 BitsPerSample @46 SHORT[3] @266 = (8, 8, 8)\n",
      "259 TiffTag 259 Compression @58 SHORT @66 = LZW\n",
      "262 TiffTag 262 PhotometricInterpretation @70 SHORT @78 = RGB\n",
      "273 TiffTag 273 StripOffsets @82 LONG[4975] @272 = (65348, 75584, 88326, 103370, 12\n",
      "274 TiffTag 274 Orientation @94 SHORT @102 = TOPLEFT\n",
      "277 TiffTag 277 SamplesPerPixel @106 SHORT @114 = 3\n",
      "278 TiffTag 278 RowsPerStrip @118 SHORT @126 = 4\n",
      "279 TiffTag 279 StripByteCounts @130 LONG[4975] @20172 = (10236, 12742, 15044, 1915\n",
      "282 TiffTag 282 XResolution @142 RATIONAL @40072 = (720000, 10000)\n",
      "283 TiffTag 283 YResolution @154 RATIONAL @40080 = (720000, 10000)\n",
      "284 TiffTag 284 PlanarConfiguration @166 SHORT @174 = CONTIG\n",
      "296 TiffTag 296 ResolutionUnit @178 SHORT @186 = INCH\n",
      "305 TiffTag 305 Software @190 ASCII[28] @40088 = Adobe Photoshop CS4 Windows\n",
      "306 TiffTag 306 DateTime @202 ASCII[20] @40116 = 2021:07:28 15:06:09\n",
      "317 TiffTag 317 Predictor @214 SHORT @222 = HORIZONTAL\n",
      "700 TiffTag 700 XMP @226 BYTE[15769] @40136 = 3c 3f 78 70 61 63 6b 65 74 20 62 65 6\n",
      "34377 TiffTag 34377 ImageResources @238 BYTE[9442] @55906 = 38 42 49 4d 04 25 00 00 0\n",
      "34665 TiffTag 34665 ExifTag @250 LONG @546958664 = {'ColorSpace': 65535, 'PixelXDimen\n"
     ]
    }
   ],
   "source": [
    "for k, v in p.tags.items():\n",
    "    print(k, v)"
   ]
  },
  {
   "cell_type": "code",
   "execution_count": 22,
   "id": "9733cd09",
   "metadata": {},
   "outputs": [
    {
     "data": {
      "text/plain": [
       "<tifffile.TiffTags @0x00007F7703294400>"
      ]
     },
     "execution_count": 22,
     "metadata": {},
     "output_type": "execute_result"
    }
   ],
   "source": [
    "p.tags"
   ]
  },
  {
   "cell_type": "code",
   "execution_count": 23,
   "id": "ae1377af",
   "metadata": {},
   "outputs": [
    {
     "name": "stdout",
     "output_type": "stream",
     "text": [
      "TiffTag 254 NewSubfileType @10 LONG @18 = UNDEFINED\n",
      "TiffTag 256 ImageWidth @22 SHORT @30 = 19650\n",
      "TiffTag 257 ImageLength @34 SHORT @42 = 19897\n",
      "TiffTag 258 BitsPerSample @46 SHORT[3] @266 = (8, 8, 8)\n",
      "TiffTag 259 Compression @58 SHORT @66 = LZW\n",
      "TiffTag 262 PhotometricInterpretation @70 SHORT @78 = RGB\n",
      "TiffTag 273 StripOffsets @82 LONG[4975] @272 = (65348, 75584, 88326, 103370, 12\n",
      "TiffTag 274 Orientation @94 SHORT @102 = TOPLEFT\n",
      "TiffTag 277 SamplesPerPixel @106 SHORT @114 = 3\n",
      "TiffTag 278 RowsPerStrip @118 SHORT @126 = 4\n",
      "TiffTag 279 StripByteCounts @130 LONG[4975] @20172 = (10236, 12742, 15044, 1915\n",
      "TiffTag 282 XResolution @142 RATIONAL @40072 = (720000, 10000)\n",
      "TiffTag 283 YResolution @154 RATIONAL @40080 = (720000, 10000)\n",
      "TiffTag 284 PlanarConfiguration @166 SHORT @174 = CONTIG\n",
      "TiffTag 296 ResolutionUnit @178 SHORT @186 = INCH\n",
      "TiffTag 305 Software @190 ASCII[28] @40088 = Adobe Photoshop CS4 Windows\n",
      "TiffTag 306 DateTime @202 ASCII[20] @40116 = 2021:07:28 15:06:09\n",
      "TiffTag 317 Predictor @214 SHORT @222 = HORIZONTAL\n",
      "TiffTag 700 XMP @226 BYTE[15769] @40136 = 3c 3f 78 70 61 63 6b 65 74 20 62 65 6\n",
      "TiffTag 34377 ImageResources @238 BYTE[9442] @55906 = 38 42 49 4d 04 25 00 00 0\n",
      "TiffTag 34665 ExifTag @250 LONG @546958664 = {'ColorSpace': 65535, 'PixelXDimen\n"
     ]
    }
   ],
   "source": [
    "for t in p.tags:\n",
    "    print(t)"
   ]
  },
  {
   "cell_type": "code",
   "execution_count": 24,
   "id": "84778925",
   "metadata": {},
   "outputs": [
    {
     "data": {
      "text/plain": [
       "tifffile.tifffile.TiffTags"
      ]
     },
     "execution_count": 24,
     "metadata": {},
     "output_type": "execute_result"
    }
   ],
   "source": [
    "type(p.tags)"
   ]
  },
  {
   "cell_type": "code",
   "execution_count": 25,
   "id": "e0354e3c",
   "metadata": {},
   "outputs": [],
   "source": [
    "??tifffile.tifffile.TiffTags"
   ]
  },
  {
   "cell_type": "code",
   "execution_count": null,
   "id": "8ca9de94",
   "metadata": {},
   "outputs": [],
   "source": []
  }
 ],
 "metadata": {
  "kernelspec": {
   "display_name": "Python 3 (ipykernel)",
   "language": "python",
   "name": "python3"
  },
  "language_info": {
   "codemirror_mode": {
    "name": "ipython",
    "version": 3
   },
   "file_extension": ".py",
   "mimetype": "text/x-python",
   "name": "python",
   "nbconvert_exporter": "python",
   "pygments_lexer": "ipython3",
   "version": "3.10.13"
  }
 },
 "nbformat": 4,
 "nbformat_minor": 5
}
