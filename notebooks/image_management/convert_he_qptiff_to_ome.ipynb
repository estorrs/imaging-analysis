{
 "cells": [
  {
   "cell_type": "code",
   "execution_count": 1,
   "id": "ec430054",
   "metadata": {},
   "outputs": [
    {
     "name": "stderr",
     "output_type": "stream",
     "text": [
      "2024-02-21 11:32:10.186822: W tensorflow/stream_executor/platform/default/dso_loader.cc:64] Could not load dynamic library 'libcudart.so.11.0'; dlerror: libcudart.so.11.0: cannot open shared object file: No such file or directory; LD_LIBRARY_PATH: /diskmnt/Projects/Users/estorrs/miniconda3/envs/imaging_analysis_v2/lib/python3.10/site-packages/cv2/../../lib64:/usr/local/lib:/usr/lib64:/usr/local/lib:/usr/lib64:\n",
      "2024-02-21 11:32:10.186897: I tensorflow/stream_executor/cuda/cudart_stub.cc:29] Ignore above cudart dlerror if you do not have a GPU set up on your machine.\n"
     ]
    }
   ],
   "source": [
    "import re\n",
    "import os\n",
    "\n",
    "import numpy\n",
    "import matplotlib.pyplot as plt\n",
    "import tifffile\n",
    "\n",
    "import multiplex_imaging_pipeline.multiplex_imaging_pipeline as mip"
   ]
  },
  {
   "cell_type": "code",
   "execution_count": 2,
   "id": "1ca9c763",
   "metadata": {},
   "outputs": [],
   "source": [
    "import multiplex_imaging_pipeline.utils as utils"
   ]
  },
  {
   "cell_type": "code",
   "execution_count": null,
   "id": "ecbd9b5d",
   "metadata": {},
   "outputs": [],
   "source": []
  },
  {
   "cell_type": "code",
   "execution_count": 4,
   "id": "b5e1b433",
   "metadata": {},
   "outputs": [
    {
     "data": {
      "text/plain": [
       "['/diskmnt/Projects/Users/estorrs/imaging-analysis/data/htan_talk/he/HT397B1/HT397B1-S1H3A1U11_Scan1.qptiff',\n",
       " '/diskmnt/Projects/Users/estorrs/imaging-analysis/data/htan_talk/he/HT397B1/HT397B1-S1H3A1U16_Scan1.qptiff',\n",
       " '/diskmnt/Projects/Users/estorrs/imaging-analysis/data/htan_talk/he/HT397B1/HT397B1-S1H3A1U20_Scan1.qptiff',\n",
       " '/diskmnt/Projects/Users/estorrs/imaging-analysis/data/htan_talk/he/HT397B1/HT397B1-S1H3A1U28_Scan1.qptiff',\n",
       " '/diskmnt/Projects/Users/estorrs/imaging-analysis/data/htan_talk/he/HT397B1/HT397B1-S1H3A1U4_Scan1.qptiff',\n",
       " '/diskmnt/Projects/Users/estorrs/imaging-analysis/data/htan_talk/he/HT397B1/HT397B1-S1H3A1U8_Scan1.qptiff']"
      ]
     },
     "execution_count": 4,
     "metadata": {},
     "output_type": "execute_result"
    }
   ],
   "source": [
    "fps = sorted(utils.listfiles(\n",
    "    '/diskmnt/Projects/Users/estorrs/imaging-analysis/data/htan_talk/he/HT397B1', regex=r'qptiff$'))\n",
    "fps"
   ]
  },
  {
   "cell_type": "code",
   "execution_count": 6,
   "id": "53ece856",
   "metadata": {},
   "outputs": [
    {
     "data": {
      "text/plain": [
       "(17280, 17280, 3)"
      ]
     },
     "execution_count": 6,
     "metadata": {},
     "output_type": "execute_result"
    }
   ],
   "source": [
    "x = tifffile.imread(fps[0])\n",
    "x.shape"
   ]
  },
  {
   "cell_type": "code",
   "execution_count": 5,
   "id": "ba328908",
   "metadata": {},
   "outputs": [
    {
     "name": "stderr",
     "output_type": "stream",
     "text": [
      "2024-02-21 11:34:56,683 - 17280 total markers\n",
      "2024-02-21 11:34:56,685 - writing as uint8\n"
     ]
    },
    {
     "name": "stdout",
     "output_type": "stream",
     "text": [
      "/diskmnt/Projects/Users/estorrs/imaging-analysis/data/htan_talk/he/HT397B1/HT397B1-S1H3A1U11_Scan1.qptiff\n"
     ]
    },
    {
     "ename": "MemoryError",
     "evalue": "Unable to allocate 4.69 TiB for an array with shape (17280, 17280, 17280, 1, 1) and data type uint8",
     "output_type": "error",
     "traceback": [
      "\u001b[0;31m---------------------------------------------------------------------------\u001b[0m",
      "\u001b[0;31mMemoryError\u001b[0m                               Traceback (most recent call last)",
      "Cell \u001b[0;32mIn[5], line 4\u001b[0m\n\u001b[1;32m      2\u001b[0m \u001b[38;5;28mprint\u001b[39m(fp)\n\u001b[1;32m      3\u001b[0m new_fp \u001b[38;5;241m=\u001b[39m fp\u001b[38;5;241m.\u001b[39mreplace(\u001b[38;5;124m'\u001b[39m\u001b[38;5;124m.qptiff\u001b[39m\u001b[38;5;124m'\u001b[39m, \u001b[38;5;124m'\u001b[39m\u001b[38;5;124m.ome.tif\u001b[39m\u001b[38;5;124m'\u001b[39m)\n\u001b[0;32m----> 4\u001b[0m \u001b[43mmip\u001b[49m\u001b[38;5;241;43m.\u001b[39;49m\u001b[43mgenerate_ome_from_qptiff\u001b[49m\u001b[43m(\u001b[49m\u001b[43mfp\u001b[49m\u001b[43m,\u001b[49m\u001b[43m \u001b[49m\u001b[43mnew_fp\u001b[49m\u001b[43m)\u001b[49m\n",
      "File \u001b[0;32m/diskmnt/Projects/Users/estorrs/multiplex-imaging-pipeline/multiplex_imaging_pipeline/ome.py:177\u001b[0m, in \u001b[0;36mgenerate_ome_from_qptiff\u001b[0;34m(qptiff_fp, output_fp, bbox, pixel_type, subresolutions)\u001b[0m\n\u001b[1;32m    174\u001b[0m logging\u001b[38;5;241m.\u001b[39minfo(\u001b[38;5;124mf\u001b[39m\u001b[38;5;124m'\u001b[39m\u001b[38;5;124mwriting as \u001b[39m\u001b[38;5;132;01m{\u001b[39;00mpixel_type\u001b[38;5;132;01m}\u001b[39;00m\u001b[38;5;124m'\u001b[39m)\n\u001b[1;32m    176\u001b[0m \u001b[38;5;28;01mif\u001b[39;00m bbox \u001b[38;5;129;01mis\u001b[39;00m \u001b[38;5;28;01mNone\u001b[39;00m:\n\u001b[0;32m--> 177\u001b[0m     data \u001b[38;5;241m=\u001b[39m \u001b[43mnp\u001b[49m\u001b[38;5;241;43m.\u001b[39;49m\u001b[43mzeros\u001b[49m\u001b[43m(\u001b[49m\u001b[43m(\u001b[49m\u001b[43mshape\u001b[49m\u001b[43m[\u001b[49m\u001b[38;5;241;43m1\u001b[39;49m\u001b[43m]\u001b[49m\u001b[43m,\u001b[49m\u001b[43m \u001b[49m\u001b[43mshape\u001b[49m\u001b[43m[\u001b[49m\u001b[38;5;241;43m0\u001b[39;49m\u001b[43m]\u001b[49m\u001b[43m,\u001b[49m\u001b[43m \u001b[49m\u001b[43mn_channels\u001b[49m\u001b[43m,\u001b[49m\u001b[43m \u001b[49m\u001b[38;5;241;43m1\u001b[39;49m\u001b[43m,\u001b[49m\u001b[43m \u001b[49m\u001b[38;5;241;43m1\u001b[39;49m\u001b[43m)\u001b[49m\u001b[43m,\u001b[49m\n\u001b[1;32m    178\u001b[0m \u001b[43m                    \u001b[49m\u001b[43mdtype\u001b[49m\u001b[38;5;241;43m=\u001b[39;49m\u001b[43mnp\u001b[49m\u001b[38;5;241;43m.\u001b[39;49m\u001b[43muint8\u001b[49m\u001b[43m \u001b[49m\u001b[38;5;28;43;01mif\u001b[39;49;00m\u001b[43m \u001b[49m\u001b[43mpixel_type\u001b[49m\u001b[38;5;241;43m==\u001b[39;49m\u001b[38;5;124;43m'\u001b[39;49m\u001b[38;5;124;43muint8\u001b[39;49m\u001b[38;5;124;43m'\u001b[39;49m\u001b[43m \u001b[49m\u001b[38;5;28;43;01melse\u001b[39;49;00m\u001b[43m \u001b[49m\u001b[43mnp\u001b[49m\u001b[38;5;241;43m.\u001b[39;49m\u001b[43muint16\u001b[49m\u001b[43m)\u001b[49m\n\u001b[1;32m    179\u001b[0m \u001b[38;5;28;01melse\u001b[39;00m:\n\u001b[1;32m    180\u001b[0m     logging\u001b[38;5;241m.\u001b[39minfo(\u001b[38;5;124mf\u001b[39m\u001b[38;5;124m'\u001b[39m\u001b[38;5;124mbbox detected: \u001b[39m\u001b[38;5;132;01m{\u001b[39;00mbbox\u001b[38;5;132;01m}\u001b[39;00m\u001b[38;5;124m'\u001b[39m)\n",
      "\u001b[0;31mMemoryError\u001b[0m: Unable to allocate 4.69 TiB for an array with shape (17280, 17280, 17280, 1, 1) and data type uint8"
     ]
    }
   ],
   "source": [
    "for fp in fps:\n",
    "    print(fp)\n",
    "    new_fp = fp.replace('.qptiff', '.ome.tif')\n",
    "    mip.generate_ome_from_qptiff(fp, new_fp)"
   ]
  },
  {
   "cell_type": "code",
   "execution_count": null,
   "id": "ba4ddf0f",
   "metadata": {},
   "outputs": [],
   "source": []
  }
 ],
 "metadata": {
  "kernelspec": {
   "display_name": "Python 3 (ipykernel)",
   "language": "python",
   "name": "python3"
  },
  "language_info": {
   "codemirror_mode": {
    "name": "ipython",
    "version": 3
   },
   "file_extension": ".py",
   "mimetype": "text/x-python",
   "name": "python",
   "nbconvert_exporter": "python",
   "pygments_lexer": "ipython3",
   "version": "3.10.13"
  }
 },
 "nbformat": 4,
 "nbformat_minor": 5
}
