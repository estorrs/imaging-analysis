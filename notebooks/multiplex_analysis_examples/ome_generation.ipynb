{
 "cells": [
  {
   "cell_type": "code",
   "execution_count": 27,
   "id": "883d3b42-8e69-4b2e-ad11-96b083e530d0",
   "metadata": {},
   "outputs": [],
   "source": [
    "import os\n",
    "from pathlib import Path"
   ]
  },
  {
   "cell_type": "code",
   "execution_count": 28,
   "id": "db56a2e1-1d6d-4f47-a1b7-98e4a4fe763d",
   "metadata": {},
   "outputs": [
    {
     "ename": "ModuleNotFoundError",
     "evalue": "No module named 'mip'",
     "output_type": "error",
     "traceback": [
      "\u001b[0;31m---------------------------------------------------------------------------\u001b[0m",
      "\u001b[0;31mModuleNotFoundError\u001b[0m                       Traceback (most recent call last)",
      "Cell \u001b[0;32mIn[28], line 1\u001b[0m\n\u001b[0;32m----> 1\u001b[0m \u001b[38;5;28;01mimport\u001b[39;00m\u001b[38;5;250m \u001b[39m\u001b[38;5;21;01mmip\u001b[39;00m\n",
      "\u001b[0;31mModuleNotFoundError\u001b[0m: No module named 'mip'"
     ]
    }
   ],
   "source": [
    "import mip"
   ]
  },
  {
   "cell_type": "markdown",
   "id": "789bbdb4-9b54-4d89-8ff6-62a0e45657a5",
   "metadata": {},
   "source": [
    "## using julia's image as example"
   ]
  },
  {
   "cell_type": "code",
   "execution_count": 26,
   "id": "160c1a7b-57de-4a00-92b8-9b963edd73b0",
   "metadata": {},
   "outputs": [],
   "source": [
    "sample_id = '20260818_BONE_IRD_Slide_1'\n",
    "qptiff_path = Path('/diskmnt/Projects/myeloma_scRNA_analysis/MMY_IRD/analysis/CODEX/Run_08182026/BONE_IRD_Slide_1_Scan1.qptiff')\n",
    "assert qptiff_path.is_file()"
   ]
  },
  {
   "cell_type": "code",
   "execution_count": null,
   "id": "472739d1-733f-47c6-948c-31c297e51d51",
   "metadata": {},
   "outputs": [],
   "source": []
  },
  {
   "cell_type": "code",
   "execution_count": null,
   "id": "7936d40f-bc34-46b1-b225-91bc0017d529",
   "metadata": {},
   "outputs": [],
   "source": []
  },
  {
   "cell_type": "code",
   "execution_count": null,
   "id": "388a45b3-a3c1-483e-ab72-525e2455780d",
   "metadata": {},
   "outputs": [],
   "source": []
  },
  {
   "cell_type": "code",
   "execution_count": 2,
   "id": "fe9277f9-79d6-465b-8de2-3e7954f8d81f",
   "metadata": {},
   "outputs": [],
   "source": [
    "qptiff_path = Path('/diskmnt/Projects/myeloma_scRNA_analysis/MMY_IRD/analysis/CODEX/Run_08182026/BONE_IRD_Slide_1_Scan1.qptiff')\n",
    "assert qptiff_path.is_file()"
   ]
  },
  {
   "cell_type": "code",
   "execution_count": 42,
   "id": "3bc959d1-4d5f-41e1-a5e7-2df04121a260",
   "metadata": {},
   "outputs": [
    {
     "data": {
      "text/plain": [
       "('5 total markers', 'writing as uint8')"
      ]
     },
     "execution_count": 42,
     "metadata": {},
     "output_type": "execute_result"
    }
   ],
   "source": [
    "bbox = (10000,12000,10000,11000)\n",
    "pixel_type = 'uint8'\n",
    "subresolutions = 4\n",
    "n_channels = 5\n",
    "\n",
    "tf = tifffile.TiffFile(qptiff_path)\n",
    "s = tf.series[0] # full res tiffs are in the first series\n",
    "# n_channels = s.get_shape()[0]\n",
    "shape = s.pages[0].shape\n",
    "\n",
    "f'{n_channels} total markers', f'writing as {pixel_type}'"
   ]
  },
  {
   "cell_type": "code",
   "execution_count": 43,
   "id": "2f2c9e82-1f5c-499e-85b2-07e46e102529",
   "metadata": {},
   "outputs": [
    {
     "data": {
      "text/plain": [
       "(1000, 2000, 5, 1, 1)"
      ]
     },
     "execution_count": 43,
     "metadata": {},
     "output_type": "execute_result"
    }
   ],
   "source": [
    "if bbox is None:\n",
    "    data = np.zeros((shape[1], shape[0], n_channels, 1, 1),\n",
    "                    dtype=np.uint8 if pixel_type=='uint8' else np.uint16)\n",
    "else:\n",
    "    data = np.zeros((bbox[3] - bbox[2], bbox[1] - bbox[0], n_channels, 1, 1),\n",
    "                    dtype=np.uint8 if pixel_type=='uint8' else np.uint16)\n",
    "data.shape"
   ]
  },
  {
   "cell_type": "code",
   "execution_count": 44,
   "id": "c221fabd-ab29-471e-8c42-62251b41f722",
   "metadata": {},
   "outputs": [
    {
     "name": "stdout",
     "output_type": "stream",
     "text": [
      "DAPI\n",
      "CD8\n",
      "CD20\n",
      "CD45\n",
      "TACI\n"
     ]
    }
   ],
   "source": [
    "biomarkers = []\n",
    "for i, p in enumerate(s.pages[:n_channels]):\n",
    "    img = p.asarray()\n",
    "    d = tifffile.xml2dict(p.description)['PerkinElmer-QPI-ImageDescription']\n",
    "    biomarker = d['Biomarker']\n",
    "    print(biomarker)\n",
    "    biomarkers.append(biomarker)\n",
    "    if bbox is not None:\n",
    "        r1, r2, c1, c2 = bbox\n",
    "        img = img[r1:r2, c1:c2]\n",
    "\n",
    "    if pixel_type=='uint8':\n",
    "        img = img.astype(np.uint8)\n",
    "    else:\n",
    "        img = img.astype(np.float32)\n",
    "        img /= img.max()\n",
    "        img *= 65535\n",
    "        img = img.astype(np.uint16)\n",
    "        logging.info('writing as uint16')\n",
    "\n",
    "    data[..., i, 0, 0] = np.swapaxes(img, 0, 1)"
   ]
  },
  {
   "cell_type": "code",
   "execution_count": 45,
   "id": "e2f1833b-7353-40b6-9667-3fc2db4ddfa3",
   "metadata": {},
   "outputs": [
    {
     "data": {
      "text/plain": [
       "(1000, 2000, 5, 1, 1)"
      ]
     },
     "execution_count": 45,
     "metadata": {},
     "output_type": "execute_result"
    }
   ],
   "source": [
    "data.shape"
   ]
  },
  {
   "cell_type": "code",
   "execution_count": 46,
   "id": "88ab0acb-e47c-4564-aaac-0d6d1ded20fe",
   "metadata": {},
   "outputs": [
    {
     "data": {
      "text/plain": [
       "OME(\n",
       "   images=[<1 field_type>],\n",
       "   structured_annotations={'xml_annotations': [], 'file_annotations': [], 'list_annotations': [], 'long_annotations': [], 'double_annotations': [], 'comment_annotations': [], 'boolean_annotations': [], 'timestamp_annotations': [], 'tag_annotations': [], 'term_annotations': [], 'map_annotations': []},\n",
       ")"
      ]
     },
     "execution_count": 46,
     "metadata": {},
     "output_type": "execute_result"
    }
   ],
   "source": [
    "PHENOCYCLER_PIXELS_PER_MICRON = 1.9604911906033102\n",
    "from ome_types import from_tiff, from_xml, to_xml, model\n",
    "\n",
    "o = model.OME()\n",
    "o.images.append(\n",
    "    model.Image(\n",
    "        id='Image:0',\n",
    "        pixels=model.Pixels(\n",
    "            dimension_order='XYCZT',\n",
    "            size_c=n_channels,\n",
    "            size_t=1,\n",
    "            size_x=data.shape[0],\n",
    "            size_y=data.shape[1],\n",
    "            size_z=data.shape[3],\n",
    "            type=pixel_type,\n",
    "            big_endian=False,\n",
    "            channels=[model.Channel(id=f'Channel:{i}', name=c) for i, c in enumerate(biomarkers)],\n",
    "            physical_size_x=1 / PHENOCYCLER_PIXELS_PER_MICRON,\n",
    "            physical_size_y=1 / PHENOCYCLER_PIXELS_PER_MICRON,\n",
    "            physical_size_x_unit='µm',\n",
    "            physical_size_y_unit='µm'\n",
    "        )\n",
    "    )\n",
    ")\n",
    "\n",
    "im = o.images[0]\n",
    "for i in range(len(im.pixels.channels)):\n",
    "    im.pixels.planes.append(model.Plane(the_c=i, the_t=0, the_z=0))\n",
    "im.pixels.tiff_data_blocks.append(model.TiffData(plane_count=len(im.pixels.channels)))\n",
    "\n",
    "o"
   ]
  },
  {
   "cell_type": "code",
   "execution_count": 49,
   "id": "02c73cc2-7dc3-4bb9-808e-8cc9ac5f6f29",
   "metadata": {},
   "outputs": [],
   "source": [
    "# 'x y c z t -> t c y x z'\n",
    "\n",
    "def write_HTAN_ome(output_fp, data, ome_model, subresolutions=4):\n",
    "    import gc\n",
    "    with tifffile.TiffWriter(output_fp, ome=True, bigtiff=True) as out_tif:\n",
    "        opts = {\n",
    "            'compression': 'LZW',\n",
    "        }\n",
    "        out_tif.write( \n",
    "            rearrange(data[..., 0, 0], 'x y c -> c y x'),\n",
    "            subifds=subresolutions,\n",
    "            **opts\n",
    "        )\n",
    "        gc.collect()\n",
    "        for level in range(subresolutions):\n",
    "            mag = 2**(level + 1)\n",
    "            print(f'writting subres {mag}')\n",
    "            # x = data[::mag, ::mag, :, 0, 0]\n",
    "            # x = rearrange(torch.tensor(data[..., 0, 0]), 'w h c -> c h w')\n",
    "            \n",
    "            # shape = (int(x.shape[-2] / mag), int(x.shape[-1] / mag))\n",
    "            # sampled = rearrange(\n",
    "            #     TF.resize(x, shape, antialias=True),\n",
    "            #     'c h w -> w h c 1 1'\n",
    "            # )\n",
    "            # del(x)\n",
    "            # gc.collect()\n",
    "            out_tif.write(\n",
    "                rearrange(data[::mag, ::mag, :, 0, 0], 'x y c -> c y x'),\n",
    "                subfiletype=1,\n",
    "                **opts\n",
    "            )\n",
    "            # del(sampled)\n",
    "        xml_str = to_xml(ome_model)\n",
    "        out_tif.overwrite_description(xml_str.encode())"
   ]
  },
  {
   "cell_type": "code",
   "execution_count": 50,
   "id": "451a7db3-e75b-4bad-86f1-71886470ad94",
   "metadata": {},
   "outputs": [
    {
     "name": "stdout",
     "output_type": "stream",
     "text": [
      "writting subres 2\n",
      "writting subres 4\n",
      "writting subres 8\n",
      "writting subres 16\n"
     ]
    }
   ],
   "source": [
    "write_HTAN_ome('../../../sandbox/temp.ome.tif', data, o, subresolutions=4)"
   ]
  },
  {
   "cell_type": "code",
   "execution_count": 34,
   "id": "4bdb2f39-69b2-4be1-85d9-40513f9b90ca",
   "metadata": {},
   "outputs": [
    {
     "data": {
      "text/plain": [
       "PosixPath('/diskmnt/Users2/estorrs/imaging-analysis/notebooks/multiplex_analysis_examples/../../../sandbox/temp.ome.tif')"
      ]
     },
     "execution_count": 34,
     "metadata": {},
     "output_type": "execute_result"
    }
   ],
   "source": [
    "Path('../../../sandbox/temp.ome.tif').absolute()"
   ]
  },
  {
   "cell_type": "code",
   "execution_count": null,
   "id": "38da49cd-7ba3-45bc-bd63-9c13f047e480",
   "metadata": {},
   "outputs": [],
   "source": []
  },
  {
   "cell_type": "code",
   "execution_count": null,
   "id": "604601f5-d57f-4b76-8afc-401df9899f47",
   "metadata": {},
   "outputs": [],
   "source": []
  },
  {
   "cell_type": "code",
   "execution_count": 3,
   "id": "6ac884c1-05ce-4527-8d54-677e53cc18a7",
   "metadata": {},
   "outputs": [],
   "source": [
    "def generate_ome_from_qptiff(qptiff_fp, output_fp, bbox=None, pixel_type='uint8', subresolutions=4):\n",
    "    \"\"\"\n",
    "    Generate an HTAN compatible ome tiff from qptiff output by codex phenocycler\n",
    "    \"\"\"\n",
    "    tf = tifffile.TiffFile(qptiff_fp)\n",
    "    s = tf.series[0] # full res tiffs are in the first series\n",
    "    n_channels = s.get_shape()[0]\n",
    "    shape = s.pages[0].shape\n",
    "\n",
    "    logging.info(f'{n_channels} total markers')\n",
    "    logging.info(f'writing as {pixel_type}')\n",
    "\n",
    "    if bbox is None:\n",
    "        data = np.zeros((shape[1], shape[0], n_channels, 1, 1),\n",
    "                        dtype=np.uint8 if pixel_type=='uint8' else np.uint16)\n",
    "    else:\n",
    "        logging.info(f'bbox detected: {bbox}')\n",
    "        data = np.zeros((bbox[3] - bbox[2], bbox[1] - bbox[0], n_channels, 1, 1),\n",
    "                        dtype=np.uint8 if pixel_type=='uint8' else np.uint16)\n",
    "    biomarkers = []\n",
    "    for i, p in enumerate(s.pages):\n",
    "        img = p.asarray()\n",
    "        d = tifffile.xml2dict(p.description)['PerkinElmer-QPI-ImageDescription']\n",
    "        biomarker = d['Biomarker']\n",
    "        logging.info(f'loading {biomarker}')\n",
    "        biomarkers.append(biomarker)\n",
    "        if bbox is not None:\n",
    "            r1, r2, c1, c2 = bbox\n",
    "            img = img[r1:r2, c1:c2]\n",
    "\n",
    "        if pixel_type=='uint8':\n",
    "            img = img.astype(np.uint8)\n",
    "        else:\n",
    "            img = img.astype(np.float32)\n",
    "            img /= img.max()\n",
    "            img *= 65535\n",
    "            img = img.astype(np.uint16)\n",
    "            logging.info('writing as uint16')\n",
    "\n",
    "        data[..., i, 0, 0] = np.swapaxes(img, 0, 1)\n",
    "\n",
    "    o = model.OME()\n",
    "    o.images.append(\n",
    "        model.Image(\n",
    "            id='Image:0',\n",
    "            pixels=model.Pixels(\n",
    "                dimension_order='XYCZT',\n",
    "                size_c=n_channels,\n",
    "                size_t=1,\n",
    "                size_x=data.shape[0],\n",
    "                size_y=data.shape[1],\n",
    "                size_z=data.shape[3],\n",
    "                type=pixel_type,\n",
    "                big_endian=False,\n",
    "                channels=[model.Channel(id=f'Channel:{i}', name=c) for i, c in enumerate(biomarkers)],\n",
    "                physical_size_x=1 / PHENOCYCLER_PIXELS_PER_MICRON,\n",
    "                physical_size_y=1 / PHENOCYCLER_PIXELS_PER_MICRON,\n",
    "                physical_size_x_unit='µm',\n",
    "                physical_size_y_unit='µm'\n",
    "            )\n",
    "        )\n",
    "    )\n",
    "\n",
    "    im = o.images[0]\n",
    "    for i in range(len(im.pixels.channels)):\n",
    "        im.pixels.planes.append(model.Plane(the_c=i, the_t=0, the_z=0))\n",
    "    im.pixels.tiff_data_blocks.append(model.TiffData(plane_count=len(im.pixels.channels)))\n",
    "\n",
    "    write_HTAN_ome(output_fp, data, o, subresolutions=subresolutions)"
   ]
  },
  {
   "cell_type": "code",
   "execution_count": null,
   "id": "c409a3aa-5f55-42cc-98d8-d824ebfefebf",
   "metadata": {},
   "outputs": [],
   "source": [
    "def write_HTAN_ome(output_fp, data, ome_model, subresolutions=4):\n",
    "    import gc\n",
    "    with tifffile.TiffWriter(output_fp, ome=True, bigtiff=True) as out_tif:\n",
    "        opts = {\n",
    "            'compression': 'LZW',\n",
    "        }\n",
    "        logging.info(f'writting full res image')\n",
    "        out_tif.write(\n",
    "            rearrange(data, 'x y c z t -> t c y x z'),\n",
    "            subifds=subresolutions,\n",
    "            **opts\n",
    "        )\n",
    "        gc.collect()\n",
    "        for level in range(subresolutions):\n",
    "            mag = 2**(level + 1)\n",
    "            logging.info(f'writting subres {mag}')\n",
    "            x = rearrange(torch.tensor(data[..., 0, 0]), 'w h c -> c h w')\n",
    "            shape = (int(x.shape[-2] / mag), int(x.shape[-1] / mag))\n",
    "            sampled = rearrange(\n",
    "                TF.resize(x, shape, antialias=True),\n",
    "                'c h w -> w h c 1 1'\n",
    "            )\n",
    "            logging.info(f'subresolution shape: {shape}')\n",
    "            del(x)\n",
    "            gc.collect()\n",
    "            out_tif.write(\n",
    "                rearrange(sampled.numpy().astype(np.uint8), 'x y c z t -> t c y x z'),\n",
    "                subfiletype=1,\n",
    "                **opts\n",
    "            )\n",
    "            del(sampled)\n",
    "        xml_str = to_xml(ome_model)\n",
    "        out_tif.overwrite_description(xml_str.encode())"
   ]
  },
  {
   "cell_type": "code",
   "execution_count": null,
   "id": "3c32152c-6e38-41a1-9fe8-32a267c4de38",
   "metadata": {},
   "outputs": [],
   "source": []
  },
  {
   "cell_type": "code",
   "execution_count": null,
   "id": "078dc570-1ec4-4c24-83c2-c2cf30c88921",
   "metadata": {},
   "outputs": [],
   "source": []
  },
  {
   "cell_type": "code",
   "execution_count": null,
   "id": "147fc458-597c-4190-a056-bf0e5cbdd9da",
   "metadata": {},
   "outputs": [],
   "source": []
  },
  {
   "cell_type": "code",
   "execution_count": null,
   "id": "0294b8a0-842a-407c-9c50-d9a44998d715",
   "metadata": {},
   "outputs": [],
   "source": []
  },
  {
   "cell_type": "code",
   "execution_count": null,
   "id": "40c1b19b-20bc-4d35-b1a3-e6e76b5dd92e",
   "metadata": {},
   "outputs": [],
   "source": []
  },
  {
   "cell_type": "code",
   "execution_count": null,
   "id": "25fefbed-5291-4e03-8602-16aa4668843d",
   "metadata": {},
   "outputs": [],
   "source": []
  },
  {
   "cell_type": "code",
   "execution_count": null,
   "id": "4c837912-52d2-4031-b27e-fdd2dba76d87",
   "metadata": {},
   "outputs": [],
   "source": []
  },
  {
   "cell_type": "code",
   "execution_count": null,
   "id": "a6931038-91bc-4868-813a-848324e165a5",
   "metadata": {},
   "outputs": [],
   "source": []
  },
  {
   "cell_type": "code",
   "execution_count": null,
   "id": "63f00bf3-facb-48b3-895c-7a24f59330c1",
   "metadata": {},
   "outputs": [],
   "source": []
  },
  {
   "cell_type": "code",
   "execution_count": null,
   "id": "6f286cfc-e98d-431e-b980-9021ba14b44e",
   "metadata": {},
   "outputs": [],
   "source": []
  },
  {
   "cell_type": "code",
   "execution_count": null,
   "id": "8ebce840-1981-430d-83b2-d2112c654348",
   "metadata": {},
   "outputs": [],
   "source": [
    "\n"
   ]
  }
 ],
 "metadata": {
  "kernelspec": {
   "display_name": "Python 3 (ipykernel)",
   "language": "python",
   "name": "python3"
  },
  "language_info": {
   "codemirror_mode": {
    "name": "ipython",
    "version": 3
   },
   "file_extension": ".py",
   "mimetype": "text/x-python",
   "name": "python",
   "nbconvert_exporter": "python",
   "pygments_lexer": "ipython3",
   "version": "3.9.23"
  }
 },
 "nbformat": 4,
 "nbformat_minor": 5
}
