{
 "cells": [
  {
   "cell_type": "code",
   "execution_count": 30,
   "id": "15a3a02a",
   "metadata": {},
   "outputs": [],
   "source": [
    "import logging\n",
    "import json\n",
    "import os\n",
    "import re\n",
    "from pathlib import Path\n",
    "from collections import Counter\n",
    "\n",
    "import anndata\n",
    "import pandas as pd\n",
    "import numpy as np\n",
    "import tifffile\n",
    "from einops import rearrange\n",
    "from skimage.measure import regionprops\n",
    "from skimage.morphology import label"
   ]
  },
  {
   "cell_type": "code",
   "execution_count": 2,
   "id": "3f64d6eb",
   "metadata": {},
   "outputs": [],
   "source": [
    "%load_ext autoreload"
   ]
  },
  {
   "cell_type": "code",
   "execution_count": 3,
   "id": "f02d4ff3",
   "metadata": {},
   "outputs": [],
   "source": [
    "%autoreload 2"
   ]
  },
  {
   "cell_type": "code",
   "execution_count": 4,
   "id": "80cfad0f",
   "metadata": {},
   "outputs": [
    {
     "name": "stderr",
     "output_type": "stream",
     "text": [
      "2024-03-26 08:06:27.245328: W tensorflow/stream_executor/platform/default/dso_loader.cc:64] Could not load dynamic library 'libcudart.so.11.0'; dlerror: libcudart.so.11.0: cannot open shared object file: No such file or directory; LD_LIBRARY_PATH: /diskmnt/Projects/Users/estorrs/miniconda3/envs/imaging_analysis_v2/lib/python3.10/site-packages/cv2/../../lib64:/usr/local/lib:/usr/lib64:/usr/local/lib:/usr/lib64:\n",
      "2024-03-26 08:06:27.245386: I tensorflow/stream_executor/cuda/cudart_stub.cc:29] Ignore above cudart dlerror if you do not have a GPU set up on your machine.\n"
     ]
    }
   ],
   "source": [
    "import multiplex_imaging_pipeline.utils as utils\n",
    "import multiplex_imaging_pipeline.ome as ome\n",
    "import multiplex_imaging_pipeline.segmentation as seg\n",
    "import multiplex_imaging_pipeline.multiplex_imaging_pipeline as mip\n",
    "from multiplex_imaging_pipeline.spatial_features import DEFAULT_GATING_STRATEGY"
   ]
  },
  {
   "cell_type": "code",
   "execution_count": 5,
   "id": "14e592c6",
   "metadata": {},
   "outputs": [],
   "source": [
    "parent_dir = f'/diskmnt/Projects/Users/estorrs/imaging-analysis/results/subclone'\n",
    "seg_dir = os.path.join(parent_dir, 'segmentations')\n",
    "Path(seg_dir).mkdir(parents=True, exist_ok=True)"
   ]
  },
  {
   "cell_type": "code",
   "execution_count": 21,
   "id": "d534bfd6",
   "metadata": {},
   "outputs": [
    {
     "data": {
      "text/plain": [
       "'/diskmnt/Projects/Users/estorrs/imaging-analysis/results/subclone/segmentations'"
      ]
     },
     "execution_count": 21,
     "metadata": {},
     "output_type": "execute_result"
    }
   ],
   "source": [
    "seg_dir"
   ]
  },
  {
   "cell_type": "code",
   "execution_count": 6,
   "id": "63d0dc2e",
   "metadata": {},
   "outputs": [],
   "source": [
    "nuclei_channels = ['DAPI']\n",
    "membrane_channels = [\n",
    "    'Pan-Cytokeratin', 'HLA-DR', 'SMA', 'CD4', 'CD45', 'Hep-Par-1', 'CD31', 'E-cadherin', 'CD68', 'CD3e']"
   ]
  },
  {
   "cell_type": "code",
   "execution_count": null,
   "id": "e7cb8c9a",
   "metadata": {},
   "outputs": [],
   "source": [
    "2023-12-19_C3L-01287-11Us1\t/diskmnt/primary/CODEX/HTAN/20231219_Human_CCRCC_C3L-01287-11Us1_2_top_C3N-01200-11Us1_2_middle_C3N-01200-13-U2_btm/C3L-01287-11Us1__20231219.ome.tiff\n",
    "2023-07-01_HT565B1-S1H2_left\t/diskmnt/primary/CODEX/HTAN/07012023_BRCA_HT206B1-S1H5_TOP_HT297B1-S1H1_HT339B2-H2_HT565B1-S1H2_BTTM/HT565B1-S1H2_left__20230701.ome.tiff\n",
    "2023-07-01_HT565B1-S1H2_right\t/diskmnt/primary/CODEX/HTAN/07012023_BRCA_HT206B1-S1H5_TOP_HT297B1-S1H1_HT339B2-H2_HT565B1-S1H2_BTTM/HT565B1-S1H2_right__20230701.ome.tiff\n",
    "2023-04-20_HT308B1-S1H5A4\t/diskmnt/primary/CODEX/HTAN/041923_BRCA_HT171B1-S1H9A1-4_top_HT243B1-S1H4A4_HT271B1-S1H6A5_HT308B1-S1H5A4_btm/HT308B1-S1H5A4__20230420.ome.tiff\n",
    "2023-04-27_HT565B1-H2\t/diskmnt/primary/CODEX/HTAN/042623_MULTIPLE_HTAN_HT413C1-K2_TOP_HT339B2-H1_HT553P1-H2_HT565B1-H2_BTM/HT565B1-H2__20230427.ome.tiff\n",
    "2022-05-05_HT397B1-H2A2\t/diskmnt/primary/CODEX/HTAN/20220505-HT397B1-H2A2/HT397B1-H2A2__20220505.ome.tiff\n",
    "2022-04-29_HT397B1-H3A1\t/diskmnt/primary/CODEX/HTAN/20220429-HT397B1-H3A1/HT397B1-H3A1__20220429.ome.tiff\n",
    "2021-10-08_HT323B1-S1H3A4\t/diskmnt/primary/CODEX/HTAN/20211008_HT323B1-S1H3A4/HT323B1-S1H3A4__20211008.ome.tiff\n",
    "2023-08-26_mCRC_S15-32775_Met\t/diskmnt/primary/CODEX/HTAN/20230826_mCRC_S16-32775_Primary_and_Met/mCRC_S16-32775_Met__20230826.ome.tiff\n",
    "2023-08-24_mCRC_S16-38794_Primary\t/diskmnt/primary/CODEX/HTAN/20230824_mCRC_S16-38794_Primary/mCRC_S16-38794_Primary__20230824.ome.tiff\n",
    "2023-08-23_mCRC_S16-38794_Met\t/diskmnt/primary/CODEX/HTAN/08232023_mCRC_S16-38794_Met/mCRC_S16-38794_Met__20230823.ome.tiff\n",
    "2023-03-08_S15_1909_C2_Section3\t/diskmnt/primary/CODEX/HTAN/20230309_CRC_Met_S15_1909_C2_Section3/S15_1909_C2_Section3__20230308.ome.tiff\n",
    "2023-04-13_HT488C1-Th1K1Fp1\t/diskmnt/primary/CODEX/HTAN/041323_CRC_HT488C1-Th1K1Fp1-U2/HT488C1-Th1K1Fp1__20230413.ome.tiff\n",
    "2023-04-19_HT488C1-Th1K1Fp1-U14\t/diskmnt/primary/CODEX/HTAN/041823_CRC_HT488C1-Th1K1Fp1-U14/HT488C1-Th1K1Fp1-U14__20230419.ome.tiff"
   ]
  },
  {
   "cell_type": "code",
   "execution_count": 7,
   "id": "108e8d5d",
   "metadata": {},
   "outputs": [
    {
     "data": {
      "text/plain": [
       "['/diskmnt/primary/CODEX/HTAN/20231220_Human_CCRCC_C3L-00970-13u2_top_C3N-00733-12U2-PA00002352U1_Btom/C3L-00970-13u2__20231220.ome.tiff',\n",
       " '/diskmnt/primary/CODEX/HTAN/20231219_Human_CCRCC_C3L-01287-11Us1_2_top_C3N-01200-11Us1_2_middle_C3N-01200-13-U2_btm/C3L-01287-11Us1__20231219.ome.tiff',\n",
       " '/diskmnt/primary/CODEX/HTAN/07012023_BRCA_HT206B1-S1H5_TOP_HT297B1-S1H1_HT339B2-H2_HT565B1-S1H2_BTTM/HT565B1-S1H2_left__20230701.ome.tiff',\n",
       " '/diskmnt/primary/CODEX/HTAN/07012023_BRCA_HT206B1-S1H5_TOP_HT297B1-S1H1_HT339B2-H2_HT565B1-S1H2_BTTM/HT565B1-S1H2_right__20230701.ome.tiff',\n",
       " '/diskmnt/primary/CODEX/HTAN/041923_BRCA_HT171B1-S1H9A1-4_top_HT243B1-S1H4A4_HT271B1-S1H6A5_HT308B1-S1H5A4_btm/HT308B1-S1H5A4__20230420.ome.tiff',\n",
       " '/diskmnt/primary/CODEX/HTAN/042623_MULTIPLE_HTAN_HT413C1-K2_TOP_HT339B2-H1_HT553P1-H2_HT565B1-H2_BTM/HT413C1-K2__20230427.ome.tiff',\n",
       " '/diskmnt/primary/CODEX/HTAN/042623_MULTIPLE_HTAN_HT413C1-K2_TOP_HT339B2-H1_HT553P1-H2_HT565B1-H2_BTM/HT339B2-H1__20230427.ome.tiff',\n",
       " '/diskmnt/primary/CODEX/HTAN/042623_MULTIPLE_HTAN_HT413C1-K2_TOP_HT339B2-H1_HT553P1-H2_HT565B1-H2_BTM/HT553P1-H2__20230427.ome.tiff',\n",
       " '/diskmnt/primary/CODEX/HTAN/042623_MULTIPLE_HTAN_HT413C1-K2_TOP_HT339B2-H1_HT553P1-H2_HT565B1-H2_BTM/HT565B1-H2__20230427.ome.tiff',\n",
       " '/diskmnt/primary/CODEX/HTAN/041223_BRCA_HT397B1-S1H3A1-U22/HT397B1-S1H3A1-U22__20230413.ome.tiff',\n",
       " '/diskmnt/primary/CODEX/HTAN/031623_BRCA_HT397B1-U2/HT397B1-S1H3A1-U2__20230315.ome.tiff',\n",
       " '/diskmnt/primary/CODEX/HTAN/040623_BRCA_HT397B1-U31/HT397B1-S1H3A1-U31__20230407.ome.tiff',\n",
       " '/diskmnt/primary/CODEX/HTAN/03172023_BRCA_HT397B1-U12/HT397B1-S1H3A1-U12__20230316.ome.tiff',\n",
       " '/diskmnt/primary/CODEX/HTAN/20220505-HT397B1-H2A2/HT397B1-H2A2__20220505.ome.tiff',\n",
       " '/diskmnt/primary/CODEX/HTAN/20220429-HT397B1-H3A1/HT397B1-H3A1__20220429.ome.tiff',\n",
       " '/diskmnt/primary/CODEX/HTAN/20211008_HT323B1-S1H3A4/HT323B1-S1H3A4__20211008.ome.tiff',\n",
       " '/diskmnt/primary/CODEX/HTAN/20230826_mCRC_S16-32775_Primary_and_Met/mCRC_S16-32775_Met__20230826.ome.tiff',\n",
       " '/diskmnt/primary/CODEX/HTAN/20230824_mCRC_S16-38794_Primary/mCRC_S16-38794_Primary__20230824.ome.tiff',\n",
       " '/diskmnt/primary/CODEX/HTAN/08232023_mCRC_S16-38794_Met/mCRC_S16-38794_Met__20230823.ome.tiff',\n",
       " '/diskmnt/primary/CODEX/HTAN/20230309_CRC_Met_S15_1909_C2_Section3/S15_1909_C2_Section3__20230308.ome.tiff',\n",
       " '/diskmnt/primary/CODEX/HTAN/041323_CRC_HT488C1-Th1K1Fp1-U2/HT488C1-Th1K1Fp1__20230413.ome.tiff',\n",
       " '/diskmnt/primary/CODEX/HTAN/041823_CRC_HT488C1-Th1K1Fp1-U14/HT488C1-Th1K1Fp1-U14__20230419.ome.tiff']"
      ]
     },
     "execution_count": 7,
     "metadata": {},
     "output_type": "execute_result"
    }
   ],
   "source": [
    "fp_str = \"\"\"/diskmnt/primary/CODEX/HTAN/20231220_Human_CCRCC_C3L-00970-13u2_top_C3N-00733-12U2-PA00002352U1_Btom/C3L-00970-13u2__20231220.ome.tiff\n",
    "/diskmnt/primary/CODEX/HTAN/20231219_Human_CCRCC_C3L-01287-11Us1_2_top_C3N-01200-11Us1_2_middle_C3N-01200-13-U2_btm/C3L-01287-11Us1__20231219.ome.tiff\n",
    "/diskmnt/primary/CODEX/HTAN/07012023_BRCA_HT206B1-S1H5_TOP_HT297B1-S1H1_HT339B2-H2_HT565B1-S1H2_BTTM/HT565B1-S1H2_left__20230701.ome.tiff\n",
    "/diskmnt/primary/CODEX/HTAN/07012023_BRCA_HT206B1-S1H5_TOP_HT297B1-S1H1_HT339B2-H2_HT565B1-S1H2_BTTM/HT565B1-S1H2_right__20230701.ome.tiff\n",
    "/diskmnt/primary/CODEX/HTAN/041923_BRCA_HT171B1-S1H9A1-4_top_HT243B1-S1H4A4_HT271B1-S1H6A5_HT308B1-S1H5A4_btm/HT308B1-S1H5A4__20230420.ome.tiff\n",
    "/diskmnt/primary/CODEX/HTAN/042623_MULTIPLE_HTAN_HT413C1-K2_TOP_HT339B2-H1_HT553P1-H2_HT565B1-H2_BTM/HT413C1-K2__20230427.ome.tiff\n",
    "/diskmnt/primary/CODEX/HTAN/042623_MULTIPLE_HTAN_HT413C1-K2_TOP_HT339B2-H1_HT553P1-H2_HT565B1-H2_BTM/HT339B2-H1__20230427.ome.tiff\n",
    "/diskmnt/primary/CODEX/HTAN/042623_MULTIPLE_HTAN_HT413C1-K2_TOP_HT339B2-H1_HT553P1-H2_HT565B1-H2_BTM/HT553P1-H2__20230427.ome.tiff\n",
    "/diskmnt/primary/CODEX/HTAN/042623_MULTIPLE_HTAN_HT413C1-K2_TOP_HT339B2-H1_HT553P1-H2_HT565B1-H2_BTM/HT565B1-H2__20230427.ome.tiff\n",
    "/diskmnt/primary/CODEX/HTAN/041223_BRCA_HT397B1-S1H3A1-U22/HT397B1-S1H3A1-U22__20230413.ome.tiff\n",
    "/diskmnt/primary/CODEX/HTAN/031623_BRCA_HT397B1-U2/HT397B1-S1H3A1-U2__20230315.ome.tiff\n",
    "/diskmnt/primary/CODEX/HTAN/040623_BRCA_HT397B1-U31/HT397B1-S1H3A1-U31__20230407.ome.tiff\n",
    "/diskmnt/primary/CODEX/HTAN/03172023_BRCA_HT397B1-U12/HT397B1-S1H3A1-U12__20230316.ome.tiff\n",
    "/diskmnt/primary/CODEX/HTAN/20220505-HT397B1-H2A2/HT397B1-H2A2__20220505.ome.tiff\n",
    "/diskmnt/primary/CODEX/HTAN/20220429-HT397B1-H3A1/HT397B1-H3A1__20220429.ome.tiff\n",
    "/diskmnt/primary/CODEX/HTAN/20211008_HT323B1-S1H3A4/HT323B1-S1H3A4__20211008.ome.tiff\n",
    "/diskmnt/primary/CODEX/HTAN/20230826_mCRC_S16-32775_Primary_and_Met/mCRC_S16-32775_Met__20230826.ome.tiff\n",
    "/diskmnt/primary/CODEX/HTAN/20230824_mCRC_S16-38794_Primary/mCRC_S16-38794_Primary__20230824.ome.tiff\n",
    "/diskmnt/primary/CODEX/HTAN/08232023_mCRC_S16-38794_Met/mCRC_S16-38794_Met__20230823.ome.tiff\n",
    "/diskmnt/primary/CODEX/HTAN/20230309_CRC_Met_S15_1909_C2_Section3/S15_1909_C2_Section3__20230308.ome.tiff\n",
    "/diskmnt/primary/CODEX/HTAN/041323_CRC_HT488C1-Th1K1Fp1-U2/HT488C1-Th1K1Fp1__20230413.ome.tiff\n",
    "/diskmnt/primary/CODEX/HTAN/041823_CRC_HT488C1-Th1K1Fp1-U14/HT488C1-Th1K1Fp1-U14__20230419.ome.tiff\"\"\"\n",
    "fps = fp_str.split('\\n')\n",
    "fps"
   ]
  },
  {
   "cell_type": "code",
   "execution_count": 8,
   "id": "c95ce952",
   "metadata": {},
   "outputs": [
    {
     "name": "stderr",
     "output_type": "stream",
     "text": [
      "2024-03-26 08:06:54,896 - starting segmentation for /diskmnt/primary/CODEX/HTAN/08232023_mCRC_S16-38794_Met/mCRC_S16-38794_Met__20230823.ome.tiff\n",
      "2024-03-26 08:06:54,897 - Checking for cached data\n"
     ]
    },
    {
     "name": "stdout",
     "output_type": "stream",
     "text": [
      "mCRC_S16-38794_Met__20230823\n"
     ]
    },
    {
     "name": "stderr",
     "output_type": "stream",
     "text": [
      "2024-03-26 08:06:56,015 - Checking MultiplexSegmentation-9.tar.gz against provided file_hash...\n",
      "2024-03-26 08:06:56,017 - MultiplexSegmentation-9.tar.gz with hash a1dfbce2594f927b9112f23a0a1739e0 already available.\n",
      "2024-03-26 08:06:56,017 - Extracting /home/estorrs/.deepcell/models/MultiplexSegmentation-9.tar.gz\n",
      "2024-03-26 08:06:58,913 - Successfully extracted /home/estorrs/.deepcell/models/MultiplexSegmentation-9.tar.gz into /home/estorrs/.deepcell/models\n",
      "2024-03-26 08:06:59.097194: W tensorflow/stream_executor/platform/default/dso_loader.cc:64] Could not load dynamic library 'libcuda.so.1'; dlerror: libcuda.so.1: cannot open shared object file: No such file or directory; LD_LIBRARY_PATH: /diskmnt/Projects/Users/estorrs/miniconda3/envs/imaging_analysis_v2/lib/python3.10/site-packages/cv2/../../lib64:/usr/local/lib:/usr/lib64:/usr/local/lib:/usr/lib64:\n",
      "2024-03-26 08:06:59.097239: W tensorflow/stream_executor/cuda/cuda_driver.cc:269] failed call to cuInit: UNKNOWN ERROR (303)\n",
      "2024-03-26 08:06:59.097272: I tensorflow/stream_executor/cuda/cuda_diagnostics.cc:156] kernel driver does not appear to be running on this host (kobuk): /proc/driver/nvidia/version does not exist\n",
      "2024-03-26 08:06:59.097590: I tensorflow/core/platform/cpu_feature_guard.cc:151] This TensorFlow binary is optimized with oneAPI Deep Neural Network Library (oneDNN) to use the following CPU instructions in performance-critical operations:  AVX2 AVX512F FMA\n",
      "To enable them in other operations, rebuild TensorFlow with the appropriate compiler flags.\n"
     ]
    },
    {
     "name": "stdout",
     "output_type": "stream",
     "text": [
      "WARNING:tensorflow:No training configuration found in save file, so the model was *not* compiled. Compile it manually.\n"
     ]
    },
    {
     "name": "stderr",
     "output_type": "stream",
     "text": [
      "2024-03-26 08:07:06,344 - No training configuration found in save file, so the model was *not* compiled. Compile it manually.\n"
     ]
    },
    {
     "name": "stdout",
     "output_type": "stream",
     "text": [
      "warning: CD4 not in image\n"
     ]
    },
    {
     "name": "stderr",
     "output_type": "stream",
     "text": [
      "2024-03-26 08:26:21,982 - spliting into nrows: 2, ncols: 2\n",
      "2024-03-26 08:26:21,987 - 0 0\n",
      "2024-03-26 08:26:21,988 - window: 0, 25000, 0, 25000\n",
      "/diskmnt/Projects/Users/estorrs/miniconda3/envs/imaging_analysis_v2/lib/python3.10/site-packages/deepcell_toolbox/deep_watershed.py:108: UserWarning: h_maxima peak finding algorithm was selected, but the provided image is larger than 5k x 5k pixels.This will lead to slow prediction performance.\n",
      "  warnings.warn('h_maxima peak finding algorithm was selected, '\n",
      "2024-03-26 10:13:33,107 - 0 1\n",
      "2024-03-26 10:13:33,113 - window: 0, 25000, 24800, 49800\n",
      "2024-03-26 11:02:22,964 - 1 0\n",
      "2024-03-26 11:02:22,969 - window: 24800, 49800, 0, 25000\n",
      "2024-03-26 12:18:07,697 - 1 1\n",
      "2024-03-26 12:18:07,707 - window: 24800, 49800, 24800, 49800\n",
      "2024-03-26 12:50:13,280 - finished segmentation\n",
      "2024-03-26 12:50:13,287 - writing /diskmnt/Projects/Users/estorrs/imaging-analysis/results/subclone/segmentations/mCRC_S16-38794_Met__20230823_nuclei_segmentation.tif\n",
      "2024-03-26 12:50:23,961 - writing /diskmnt/Projects/Users/estorrs/imaging-analysis/results/subclone/segmentations/mCRC_S16-38794_Met__20230823_cell_segmentation.tif\n",
      "2024-03-26 12:50:38,358 - starting segmentation for /diskmnt/primary/CODEX/HTAN/20230309_CRC_Met_S15_1909_C2_Section3/S15_1909_C2_Section3__20230308.ome.tiff\n",
      "2024-03-26 12:50:38,365 - Checking for cached data\n"
     ]
    },
    {
     "name": "stdout",
     "output_type": "stream",
     "text": [
      "S15_1909_C2_Section3__20230308\n"
     ]
    },
    {
     "name": "stderr",
     "output_type": "stream",
     "text": [
      "2024-03-26 12:50:38,571 - Checking MultiplexSegmentation-9.tar.gz against provided file_hash...\n",
      "2024-03-26 12:50:38,572 - MultiplexSegmentation-9.tar.gz with hash a1dfbce2594f927b9112f23a0a1739e0 already available.\n",
      "2024-03-26 12:50:38,572 - Extracting /home/estorrs/.deepcell/models/MultiplexSegmentation-9.tar.gz\n",
      "2024-03-26 12:50:41,375 - Successfully extracted /home/estorrs/.deepcell/models/MultiplexSegmentation-9.tar.gz into /home/estorrs/.deepcell/models\n"
     ]
    },
    {
     "name": "stdout",
     "output_type": "stream",
     "text": [
      "WARNING:tensorflow:No training configuration found in save file, so the model was *not* compiled. Compile it manually.\n"
     ]
    },
    {
     "name": "stderr",
     "output_type": "stream",
     "text": [
      "2024-03-26 12:50:49,337 - No training configuration found in save file, so the model was *not* compiled. Compile it manually.\n"
     ]
    },
    {
     "name": "stdout",
     "output_type": "stream",
     "text": [
      "warning: CD4 not in image\n",
      "warning: CD45 not in image\n",
      "warning: E-cadherin not in image\n",
      "warning: CD3e not in image\n"
     ]
    },
    {
     "name": "stderr",
     "output_type": "stream",
     "text": [
      "2024-03-26 13:01:07,015 - spliting into nrows: 2, ncols: 2\n",
      "2024-03-26 13:01:07,018 - 0 0\n",
      "2024-03-26 13:01:07,019 - window: 0, 25000, 0, 25000\n",
      "/diskmnt/Projects/Users/estorrs/miniconda3/envs/imaging_analysis_v2/lib/python3.10/site-packages/deepcell_toolbox/deep_watershed.py:108: UserWarning: h_maxima peak finding algorithm was selected, but the provided image is larger than 5k x 5k pixels.This will lead to slow prediction performance.\n",
      "  warnings.warn('h_maxima peak finding algorithm was selected, '\n",
      "2024-03-26 14:51:35,377 - 0 1\n",
      "2024-03-26 14:51:35,382 - window: 0, 25000, 24800, 49800\n",
      "2024-03-26 15:23:47,095 - 1 0\n",
      "2024-03-26 15:23:47,103 - window: 24800, 49800, 0, 25000\n",
      "2024-03-26 15:57:12,526 - 1 1\n",
      "2024-03-26 15:57:12,532 - window: 24800, 49800, 24800, 49800\n",
      "2024-03-26 16:07:40,675 - finished segmentation\n",
      "2024-03-26 16:07:40,684 - writing /diskmnt/Projects/Users/estorrs/imaging-analysis/results/subclone/segmentations/S15_1909_C2_Section3__20230308_nuclei_segmentation.tif\n",
      "2024-03-26 16:07:49,150 - writing /diskmnt/Projects/Users/estorrs/imaging-analysis/results/subclone/segmentations/S15_1909_C2_Section3__20230308_cell_segmentation.tif\n",
      "2024-03-26 16:07:59,981 - starting segmentation for /diskmnt/primary/CODEX/HTAN/041323_CRC_HT488C1-Th1K1Fp1-U2/HT488C1-Th1K1Fp1__20230413.ome.tiff\n",
      "2024-03-26 16:07:59,987 - Checking for cached data\n"
     ]
    },
    {
     "name": "stdout",
     "output_type": "stream",
     "text": [
      "HT488C1-Th1K1Fp1__20230413\n"
     ]
    },
    {
     "name": "stderr",
     "output_type": "stream",
     "text": [
      "2024-03-26 16:08:00,248 - Checking MultiplexSegmentation-9.tar.gz against provided file_hash...\n",
      "2024-03-26 16:08:00,250 - MultiplexSegmentation-9.tar.gz with hash a1dfbce2594f927b9112f23a0a1739e0 already available.\n",
      "2024-03-26 16:08:00,251 - Extracting /home/estorrs/.deepcell/models/MultiplexSegmentation-9.tar.gz\n",
      "2024-03-26 16:08:03,162 - Successfully extracted /home/estorrs/.deepcell/models/MultiplexSegmentation-9.tar.gz into /home/estorrs/.deepcell/models\n"
     ]
    },
    {
     "name": "stdout",
     "output_type": "stream",
     "text": [
      "WARNING:tensorflow:No training configuration found in save file, so the model was *not* compiled. Compile it manually.\n"
     ]
    },
    {
     "name": "stderr",
     "output_type": "stream",
     "text": [
      "2024-03-26 16:08:11,131 - No training configuration found in save file, so the model was *not* compiled. Compile it manually.\n"
     ]
    },
    {
     "name": "stdout",
     "output_type": "stream",
     "text": [
      "warning: CD4 not in image\n"
     ]
    },
    {
     "name": "stderr",
     "output_type": "stream",
     "text": [
      "/diskmnt/Projects/Users/estorrs/miniconda3/envs/imaging_analysis_v2/lib/python3.10/site-packages/deepcell_toolbox/deep_watershed.py:108: UserWarning: h_maxima peak finding algorithm was selected, but the provided image is larger than 5k x 5k pixels.This will lead to slow prediction performance.\n",
      "  warnings.warn('h_maxima peak finding algorithm was selected, '\n",
      "2024-03-26 16:22:47,043 - finished segmentation\n",
      "2024-03-26 16:22:47,048 - writing /diskmnt/Projects/Users/estorrs/imaging-analysis/results/subclone/segmentations/HT488C1-Th1K1Fp1__20230413_nuclei_segmentation.tif\n",
      "2024-03-26 16:22:47,719 - writing /diskmnt/Projects/Users/estorrs/imaging-analysis/results/subclone/segmentations/HT488C1-Th1K1Fp1__20230413_cell_segmentation.tif\n",
      "2024-03-26 16:22:48,409 - starting segmentation for /diskmnt/primary/CODEX/HTAN/041823_CRC_HT488C1-Th1K1Fp1-U14/HT488C1-Th1K1Fp1-U14__20230419.ome.tiff\n",
      "2024-03-26 16:22:48,411 - Checking for cached data\n"
     ]
    },
    {
     "name": "stdout",
     "output_type": "stream",
     "text": [
      "HT488C1-Th1K1Fp1-U14__20230419\n"
     ]
    },
    {
     "name": "stderr",
     "output_type": "stream",
     "text": [
      "2024-03-26 16:22:48,646 - Checking MultiplexSegmentation-9.tar.gz against provided file_hash...\n",
      "2024-03-26 16:22:48,647 - MultiplexSegmentation-9.tar.gz with hash a1dfbce2594f927b9112f23a0a1739e0 already available.\n",
      "2024-03-26 16:22:48,648 - Extracting /home/estorrs/.deepcell/models/MultiplexSegmentation-9.tar.gz\n",
      "2024-03-26 16:22:51,342 - Successfully extracted /home/estorrs/.deepcell/models/MultiplexSegmentation-9.tar.gz into /home/estorrs/.deepcell/models\n"
     ]
    },
    {
     "name": "stdout",
     "output_type": "stream",
     "text": [
      "WARNING:tensorflow:No training configuration found in save file, so the model was *not* compiled. Compile it manually.\n"
     ]
    },
    {
     "name": "stderr",
     "output_type": "stream",
     "text": [
      "2024-03-26 16:23:00,209 - No training configuration found in save file, so the model was *not* compiled. Compile it manually.\n"
     ]
    },
    {
     "name": "stdout",
     "output_type": "stream",
     "text": [
      "warning: Hep-Par-1 not in image\n"
     ]
    },
    {
     "name": "stderr",
     "output_type": "stream",
     "text": [
      "/diskmnt/Projects/Users/estorrs/miniconda3/envs/imaging_analysis_v2/lib/python3.10/site-packages/deepcell_toolbox/deep_watershed.py:108: UserWarning: h_maxima peak finding algorithm was selected, but the provided image is larger than 5k x 5k pixels.This will lead to slow prediction performance.\n",
      "  warnings.warn('h_maxima peak finding algorithm was selected, '\n",
      "2024-03-26 16:36:42,817 - finished segmentation\n",
      "2024-03-26 16:36:42,820 - writing /diskmnt/Projects/Users/estorrs/imaging-analysis/results/subclone/segmentations/HT488C1-Th1K1Fp1-U14__20230419_nuclei_segmentation.tif\n",
      "2024-03-26 16:36:45,140 - writing /diskmnt/Projects/Users/estorrs/imaging-analysis/results/subclone/segmentations/HT488C1-Th1K1Fp1-U14__20230419_cell_segmentation.tif\n"
     ]
    }
   ],
   "source": [
    "for fp in fps:\n",
    "    specimen = fp.split('/')[-1].replace('.ome.tiff', '')\n",
    "    print(specimen)\n",
    "    prefix = os.path.join(seg_dir, specimen)\n",
    "\n",
    "    try:\n",
    "        mip.segment_ome(fp, prefix, 25000, nuclei_channels, membrane_channels)\n",
    "    except:\n",
    "        print(f'{specimen} failed')"
   ]
  },
  {
   "cell_type": "code",
   "execution_count": 24,
   "id": "3b9165bf",
   "metadata": {},
   "outputs": [],
   "source": [
    "# nuclei_channels = ['DAPI']\n",
    "# membrane_channels = [\n",
    "#     'Pan-Cytokeratin', 'HLA-DR', 'SMA', 'CD4', 'CD45', 'Hep-Par-1', 'CD31', 'E-cadherin', 'CD68', 'CD3e']"
   ]
  },
  {
   "cell_type": "code",
   "execution_count": 25,
   "id": "9885b791",
   "metadata": {},
   "outputs": [],
   "source": [
    "# R_CHANNEL_MAPPING = seg.R_CHANNEL_MAPPING"
   ]
  },
  {
   "cell_type": "code",
   "execution_count": 27,
   "id": "e4a877dd",
   "metadata": {},
   "outputs": [],
   "source": [
    "# channel_to_img = seg.extract_ome_tiff(fp)\n",
    "    \n",
    "# channel_to_img = {R_CHANNEL_MAPPING.get(k, k):v for k, v in channel_to_img.items()}\n",
    "# nuclei_channels = [R_CHANNEL_MAPPING.get(k, k) for k in nuclei_channels]\n",
    "# membrane_channels = [R_CHANNEL_MAPPING.get(k, k) for k in membrane_channels]"
   ]
  },
  {
   "cell_type": "code",
   "execution_count": 23,
   "id": "f428a032",
   "metadata": {},
   "outputs": [],
   "source": [
    "# # fp = '/diskmnt/primary/CODEX/HTAN/07012023_BRCA_HT206B1-S1H5_TOP_HT297B1-S1H1_HT339B2-H2_HT565B1-S1H2_BTTM/HT565B1-S1H2_left__20230701.ome.tiff'\n",
    "# # fp = '/diskmnt/primary/CODEX/HTAN/07012023_BRCA_HT206B1-S1H5_TOP_HT297B1-S1H1_HT339B2-H2_HT565B1-S1H2_BTTM/HT565B1-S1H2_right__20230701.ome.tiff'\n",
    "# fp = '/diskmnt/primary/CODEX/HTAN/20230824_mCRC_S16-38794_Primary/mCRC_S16-38794_Primary__20230824.ome.tiff'\n",
    "\n",
    "# specimen = fp.split('/')[-1].replace('.ome.tiff', '')\n",
    "# prefix = os.path.join(seg_dir, specimen)\n",
    "\n",
    "\n",
    "# mip.segment_ome(fp, prefix, 25000, nuclei_channels, membrane_channels)\n",
    "\n",
    "\n"
   ]
  },
  {
   "cell_type": "code",
   "execution_count": null,
   "id": "08cb6f33",
   "metadata": {},
   "outputs": [],
   "source": []
  },
  {
   "cell_type": "code",
   "execution_count": 36,
   "id": "eb433db7",
   "metadata": {},
   "outputs": [
    {
     "data": {
      "text/plain": [
       "['/diskmnt/Projects/Users/estorrs/imaging-analysis/results/subclone/segmentations/C3L-00970-13u2__20231220_nuclei_segmentation.tif',\n",
       " '/diskmnt/Projects/Users/estorrs/imaging-analysis/results/subclone/segmentations/C3L-01287-11Us1__20231219_nuclei_segmentation.tif',\n",
       " '/diskmnt/Projects/Users/estorrs/imaging-analysis/results/subclone/segmentations/HT308B1-S1H5A4__20230420_nuclei_segmentation.tif',\n",
       " '/diskmnt/Projects/Users/estorrs/imaging-analysis/results/subclone/segmentations/HT323B1-S1H3A4__20211008_nuclei_segmentation.tif',\n",
       " '/diskmnt/Projects/Users/estorrs/imaging-analysis/results/subclone/segmentations/HT339B2-H1__20230427_nuclei_segmentation.tif',\n",
       " '/diskmnt/Projects/Users/estorrs/imaging-analysis/results/subclone/segmentations/HT397B1-H2A2__20220505_nuclei_segmentation.tif',\n",
       " '/diskmnt/Projects/Users/estorrs/imaging-analysis/results/subclone/segmentations/HT397B1-H3A1__20220429_nuclei_segmentation.tif',\n",
       " '/diskmnt/Projects/Users/estorrs/imaging-analysis/results/subclone/segmentations/HT397B1-S1H3A1-U12__20230316_nuclei_segmentation.tif',\n",
       " '/diskmnt/Projects/Users/estorrs/imaging-analysis/results/subclone/segmentations/HT397B1-S1H3A1-U22__20230413_nuclei_segmentation.tif',\n",
       " '/diskmnt/Projects/Users/estorrs/imaging-analysis/results/subclone/segmentations/HT397B1-S1H3A1-U2__20230315_nuclei_segmentation.tif',\n",
       " '/diskmnt/Projects/Users/estorrs/imaging-analysis/results/subclone/segmentations/HT397B1-S1H3A1-U31__20230407_nuclei_segmentation.tif',\n",
       " '/diskmnt/Projects/Users/estorrs/imaging-analysis/results/subclone/segmentations/HT413C1-K2__20230427_nuclei_segmentation.tif',\n",
       " '/diskmnt/Projects/Users/estorrs/imaging-analysis/results/subclone/segmentations/HT488C1-Th1K1Fp1-U14__20230419_nuclei_segmentation.tif',\n",
       " '/diskmnt/Projects/Users/estorrs/imaging-analysis/results/subclone/segmentations/HT488C1-Th1K1Fp1__20230413_nuclei_segmentation.tif',\n",
       " '/diskmnt/Projects/Users/estorrs/imaging-analysis/results/subclone/segmentations/HT553P1-H2__20230427_nuclei_segmentation.tif',\n",
       " '/diskmnt/Projects/Users/estorrs/imaging-analysis/results/subclone/segmentations/HT565B1-H2__20230427_nuclei_segmentation.tif',\n",
       " '/diskmnt/Projects/Users/estorrs/imaging-analysis/results/subclone/segmentations/HT565B1-S1H2_left__20230701_nuclei_segmentation.tif',\n",
       " '/diskmnt/Projects/Users/estorrs/imaging-analysis/results/subclone/segmentations/HT565B1-S1H2_right__20230701_nuclei_segmentation.tif',\n",
       " '/diskmnt/Projects/Users/estorrs/imaging-analysis/results/subclone/segmentations/S15_1909_C2_Section3__20230308_nuclei_segmentation.tif',\n",
       " '/diskmnt/Projects/Users/estorrs/imaging-analysis/results/subclone/segmentations/mCRC_S16-32775_Met__20230826_nuclei_segmentation.tif',\n",
       " '/diskmnt/Projects/Users/estorrs/imaging-analysis/results/subclone/segmentations/mCRC_S16-38794_Met__20230823_nuclei_segmentation.tif',\n",
       " '/diskmnt/Projects/Users/estorrs/imaging-analysis/results/subclone/segmentations/mCRC_S16-38794_Primary__20230824_nuclei_segmentation.tif']"
      ]
     },
     "execution_count": 36,
     "metadata": {},
     "output_type": "execute_result"
    }
   ],
   "source": [
    "fps = sorted(utils.listfiles(seg_dir, regex=r'nuclei'))\n",
    "fps"
   ]
  },
  {
   "cell_type": "code",
   "execution_count": 37,
   "id": "f73aed9a",
   "metadata": {},
   "outputs": [
    {
     "name": "stdout",
     "output_type": "stream",
     "text": [
      "/diskmnt/Projects/Users/estorrs/imaging-analysis/results/subclone/segmentations/C3L-00970-13u2__20231220_nuclei_segmentation.tif\n",
      "/diskmnt/Projects/Users/estorrs/imaging-analysis/results/subclone/segmentations/C3L-01287-11Us1__20231219_nuclei_segmentation.tif\n",
      "/diskmnt/Projects/Users/estorrs/imaging-analysis/results/subclone/segmentations/HT308B1-S1H5A4__20230420_nuclei_segmentation.tif\n",
      "/diskmnt/Projects/Users/estorrs/imaging-analysis/results/subclone/segmentations/HT323B1-S1H3A4__20211008_nuclei_segmentation.tif\n",
      "/diskmnt/Projects/Users/estorrs/imaging-analysis/results/subclone/segmentations/HT339B2-H1__20230427_nuclei_segmentation.tif\n",
      "/diskmnt/Projects/Users/estorrs/imaging-analysis/results/subclone/segmentations/HT397B1-H2A2__20220505_nuclei_segmentation.tif\n",
      "/diskmnt/Projects/Users/estorrs/imaging-analysis/results/subclone/segmentations/HT397B1-H3A1__20220429_nuclei_segmentation.tif\n",
      "/diskmnt/Projects/Users/estorrs/imaging-analysis/results/subclone/segmentations/HT397B1-S1H3A1-U12__20230316_nuclei_segmentation.tif\n",
      "/diskmnt/Projects/Users/estorrs/imaging-analysis/results/subclone/segmentations/HT397B1-S1H3A1-U22__20230413_nuclei_segmentation.tif\n",
      "/diskmnt/Projects/Users/estorrs/imaging-analysis/results/subclone/segmentations/HT397B1-S1H3A1-U2__20230315_nuclei_segmentation.tif\n",
      "/diskmnt/Projects/Users/estorrs/imaging-analysis/results/subclone/segmentations/HT397B1-S1H3A1-U31__20230407_nuclei_segmentation.tif\n",
      "/diskmnt/Projects/Users/estorrs/imaging-analysis/results/subclone/segmentations/HT413C1-K2__20230427_nuclei_segmentation.tif\n",
      "/diskmnt/Projects/Users/estorrs/imaging-analysis/results/subclone/segmentations/HT488C1-Th1K1Fp1-U14__20230419_nuclei_segmentation.tif\n",
      "/diskmnt/Projects/Users/estorrs/imaging-analysis/results/subclone/segmentations/HT488C1-Th1K1Fp1__20230413_nuclei_segmentation.tif\n",
      "/diskmnt/Projects/Users/estorrs/imaging-analysis/results/subclone/segmentations/HT553P1-H2__20230427_nuclei_segmentation.tif\n",
      "/diskmnt/Projects/Users/estorrs/imaging-analysis/results/subclone/segmentations/HT565B1-H2__20230427_nuclei_segmentation.tif\n",
      "/diskmnt/Projects/Users/estorrs/imaging-analysis/results/subclone/segmentations/HT565B1-S1H2_left__20230701_nuclei_segmentation.tif\n",
      "/diskmnt/Projects/Users/estorrs/imaging-analysis/results/subclone/segmentations/HT565B1-S1H2_right__20230701_nuclei_segmentation.tif\n",
      "/diskmnt/Projects/Users/estorrs/imaging-analysis/results/subclone/segmentations/S15_1909_C2_Section3__20230308_nuclei_segmentation.tif\n",
      "/diskmnt/Projects/Users/estorrs/imaging-analysis/results/subclone/segmentations/mCRC_S16-32775_Met__20230826_nuclei_segmentation.tif\n",
      "/diskmnt/Projects/Users/estorrs/imaging-analysis/results/subclone/segmentations/mCRC_S16-38794_Met__20230823_nuclei_segmentation.tif\n",
      "/diskmnt/Projects/Users/estorrs/imaging-analysis/results/subclone/segmentations/mCRC_S16-38794_Primary__20230824_nuclei_segmentation.tif\n"
     ]
    }
   ],
   "source": [
    "for fp in fps:\n",
    "    print(fp)"
   ]
  },
  {
   "cell_type": "code",
   "execution_count": 33,
   "id": "61e55e8a",
   "metadata": {},
   "outputs": [
    {
     "name": "stdout",
     "output_type": "stream",
     "text": [
      "193926 C3L-00970-13u2__20231220_nuclei_segmentation.tif\n",
      "270082 C3L-01287-11Us1__20231219_nuclei_segmentation.tif\n",
      "118967 HT308B1-S1H5A4__20230420_nuclei_segmentation.tif\n",
      "287757 HT323B1-S1H3A4__20211008_nuclei_segmentation.tif\n",
      "41146 HT339B2-H1__20230427_nuclei_segmentation.tif\n",
      "171277 HT397B1-H2A2__20220505_nuclei_segmentation.tif\n",
      "335316 HT397B1-H3A1__20220429_nuclei_segmentation.tif\n",
      "175377 HT397B1-S1H3A1-U12__20230316_nuclei_segmentation.tif\n",
      "149727 HT397B1-S1H3A1-U22__20230413_nuclei_segmentation.tif\n",
      "196804 HT397B1-S1H3A1-U2__20230315_nuclei_segmentation.tif\n",
      "113147 HT397B1-S1H3A1-U31__20230407_nuclei_segmentation.tif\n",
      "127132 HT413C1-K2__20230427_nuclei_segmentation.tif\n",
      "44261 HT488C1-Th1K1Fp1-U14__20230419_nuclei_segmentation.tif\n",
      "67033 HT488C1-Th1K1Fp1__20230413_nuclei_segmentation.tif\n",
      "58551 HT553P1-H2__20230427_nuclei_segmentation.tif\n",
      "69763 HT565B1-H2__20230427_nuclei_segmentation.tif\n",
      "106086 HT565B1-S1H2_left__20230701_nuclei_segmentation.tif\n",
      "105317 HT565B1-S1H2_right__20230701_nuclei_segmentation.tif\n",
      "1102185 S15_1909_C2_Section3__20230308_nuclei_segmentation.tif\n",
      "317759 mCRC_S16-32775_Met__20230826_nuclei_segmentation.tif\n",
      "1204275 mCRC_S16-38794_Met__20230823_nuclei_segmentation.tif\n",
      "1519732 mCRC_S16-38794_Primary__20230824_nuclei_segmentation.tif\n"
     ]
    }
   ],
   "source": [
    "count = 0\n",
    "for fp in fps:\n",
    "    img = tifffile.imread(fp)\n",
    "    labeled = label(img)\n",
    "    print(labeled.max(), fp.split('/')[-1])\n",
    "    count += labeled.max()"
   ]
  },
  {
   "cell_type": "code",
   "execution_count": 34,
   "id": "e67fc6ba",
   "metadata": {},
   "outputs": [
    {
     "data": {
      "text/plain": [
       "6775620"
      ]
     },
     "execution_count": 34,
     "metadata": {},
     "output_type": "execute_result"
    }
   ],
   "source": [
    "count"
   ]
  },
  {
   "cell_type": "code",
   "execution_count": null,
   "id": "1d2640e6",
   "metadata": {},
   "outputs": [],
   "source": []
  }
 ],
 "metadata": {
  "kernelspec": {
   "display_name": "Python 3 (ipykernel)",
   "language": "python",
   "name": "python3"
  },
  "language_info": {
   "codemirror_mode": {
    "name": "ipython",
    "version": 3
   },
   "file_extension": ".py",
   "mimetype": "text/x-python",
   "name": "python",
   "nbconvert_exporter": "python",
   "pygments_lexer": "ipython3",
   "version": "3.10.13"
  }
 },
 "nbformat": 4,
 "nbformat_minor": 5
}
