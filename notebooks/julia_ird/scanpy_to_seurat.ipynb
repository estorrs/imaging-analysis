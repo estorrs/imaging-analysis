{
 "cells": [
  {
   "cell_type": "code",
   "execution_count": 7,
   "id": "f3fc0c11-8546-4497-998e-d0e19c0f8f04",
   "metadata": {},
   "outputs": [],
   "source": [
    "import os\n",
    "import gzip\n",
    "from pathlib import Path\n",
    "\n",
    "import anndata\n",
    "import numpy as np\n",
    "import pandas as pd\n",
    "import scanpy as sc\n",
    "from scipy import sparse\n",
    "from scipy.io import mmwrite, mmread"
   ]
  },
  {
   "cell_type": "code",
   "execution_count": 2,
   "id": "4bf50d23-e53a-4c2b-b00c-a0993c1cbab4",
   "metadata": {},
   "outputs": [],
   "source": [
    "input_dir = Path('/diskmnt/Projects/myeloma_scRNA_analysis/MMY_IRD/revision/merge/lineage')\n",
    "output_dir = Path('/diskmnt/Users2/estorrs/imaging-analysis/data/julia_ird/single_cell_conversion')"
   ]
  },
  {
   "cell_type": "code",
   "execution_count": 3,
   "id": "fe978907-3c71-41f2-9d27-fa1b0a77f4cb",
   "metadata": {},
   "outputs": [
    {
     "data": {
      "text/plain": [
       "[PosixPath('/diskmnt/Projects/myeloma_scRNA_analysis/MMY_IRD/revision/merge/lineage/PC.h5ad'),\n",
       " PosixPath('/diskmnt/Projects/myeloma_scRNA_analysis/MMY_IRD/revision/merge/lineage/Ery.h5ad'),\n",
       " PosixPath('/diskmnt/Projects/myeloma_scRNA_analysis/MMY_IRD/revision/merge/lineage/T_NK.h5ad'),\n",
       " PosixPath('/diskmnt/Projects/myeloma_scRNA_analysis/MMY_IRD/revision/merge/lineage/Mye.h5ad'),\n",
       " PosixPath('/diskmnt/Projects/myeloma_scRNA_analysis/MMY_IRD/revision/merge/lineage/MKC.h5ad'),\n",
       " PosixPath('/diskmnt/Projects/myeloma_scRNA_analysis/MMY_IRD/revision/merge/lineage/pDC.h5ad'),\n",
       " PosixPath('/diskmnt/Projects/myeloma_scRNA_analysis/MMY_IRD/revision/merge/lineage/B.h5ad')]"
      ]
     },
     "execution_count": 3,
     "metadata": {},
     "output_type": "execute_result"
    }
   ],
   "source": [
    "paths = [input_dir / path for path in os.listdir(input_dir) if '.h5ad' in path]\n",
    "paths"
   ]
  },
  {
   "cell_type": "code",
   "execution_count": 20,
   "id": "43629185-62b0-4749-b9ee-5e89a070d3d1",
   "metadata": {},
   "outputs": [
    {
     "name": "stdout",
     "output_type": "stream",
     "text": [
      "Ery\n",
      "T_NK\n",
      "Mye\n",
      "MKC\n",
      "pDC\n",
      "B\n"
     ]
    }
   ],
   "source": [
    "for path in paths:\n",
    "    cell_type = path.name.split('.')[0]\n",
    "    print(cell_type)\n",
    "\n",
    "    adata = sc.read_h5ad(path)\n",
    "    X = adata.layers['counts']\n",
    "\n",
    "    with gzip.open(output_dir / f\"{cell_type}_count_matrix.mtx.gz\", \"wb\") as f:\n",
    "        mmwrite(f, X)\n",
    "\n",
    "    adata.obs.to_csv(output_dir / f'{cell_type}_cell_metadata.tsv.gz', sep = '\\t')\n",
    "    adata.obs[[]].to_csv(output_dir / f'{cell_type}_barcodes.tsv.gz', sep = '\\t', header = None)\n",
    "    adata.var.iloc[:, :1].to_csv(output_dir / f'{cell_type}_features.tsv.gz', sep = '\\t', header = None)"
   ]
  },
  {
   "cell_type": "code",
   "execution_count": null,
   "id": "0a36ab31-a53e-4031-b20b-da927ecbe0ad",
   "metadata": {},
   "outputs": [],
   "source": []
  },
  {
   "cell_type": "code",
   "execution_count": null,
   "id": "18fecaba-90fc-4fd3-ac81-c5ca4d555142",
   "metadata": {},
   "outputs": [],
   "source": []
  },
  {
   "cell_type": "code",
   "execution_count": null,
   "id": "153f5dcc-2070-4f74-af0a-a779970ec77d",
   "metadata": {},
   "outputs": [],
   "source": []
  },
  {
   "cell_type": "code",
   "execution_count": null,
   "id": "7cad5c95-6307-483b-a3aa-525c6a759c66",
   "metadata": {},
   "outputs": [],
   "source": []
  }
 ],
 "metadata": {
  "kernelspec": {
   "display_name": "Python 3 (ipykernel)",
   "language": "python",
   "name": "python3"
  },
  "language_info": {
   "codemirror_mode": {
    "name": "ipython",
    "version": 3
   },
   "file_extension": ".py",
   "mimetype": "text/x-python",
   "name": "python",
   "nbconvert_exporter": "python",
   "pygments_lexer": "ipython3",
   "version": "3.13.5"
  }
 },
 "nbformat": 4,
 "nbformat_minor": 5
}
