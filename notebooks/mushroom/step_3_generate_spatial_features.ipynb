{
 "cells": [
  {
   "cell_type": "code",
   "execution_count": null,
   "id": "8f1e490f",
   "metadata": {},
   "outputs": [],
   "source": [
    "import logging\n",
    "import json\n",
    "import os\n",
    "import re\n",
    "from pathlib import Path\n",
    "from collections import Counter\n",
    "\n",
    "import anndata\n",
    "import matplotlib.pyplot as plt\n",
    "import pandas as pd\n",
    "import numpy as np\n",
    "import seaborn as sns\n",
    "import tifffile\n",
    "from einops import rearrange\n",
    "from skimage.measure import regionprops"
   ]
  },
  {
   "cell_type": "code",
   "execution_count": null,
   "id": "069689f8",
   "metadata": {},
   "outputs": [],
   "source": [
    "%load_ext autoreload"
   ]
  },
  {
   "cell_type": "code",
   "execution_count": null,
   "id": "599a72a9",
   "metadata": {},
   "outputs": [],
   "source": [
    "%autoreload 2"
   ]
  },
  {
   "cell_type": "code",
   "execution_count": null,
   "id": "447d9928",
   "metadata": {},
   "outputs": [],
   "source": [
    "import multiplex_imaging_pipeline.utils as utils\n",
    "import multiplex_imaging_pipeline.ome as ome\n",
    "import multiplex_imaging_pipeline.segmentation as seg\n",
    "import multiplex_imaging_pipeline.multiplex_imaging_pipeline as mip\n",
    "from multiplex_imaging_pipeline.spatial_features import DEFAULT_GATING_STRATEGY"
   ]
  },
  {
   "cell_type": "code",
   "execution_count": null,
   "id": "555d2d61",
   "metadata": {},
   "outputs": [],
   "source": [
    "parent_dir = f'/diskmnt/Projects/Users/estorrs/imaging-analysis/results/mushroom'\n",
    "specimen_metadata_fp = '/diskmnt/Projects/Users/estorrs/sandbox/specimen_tracking.tsv'"
   ]
  },
  {
   "cell_type": "markdown",
   "id": "cc15787a",
   "metadata": {},
   "source": [
    "## Define inputs"
   ]
  },
  {
   "cell_type": "code",
   "execution_count": null,
   "id": "9f430ca5",
   "metadata": {},
   "outputs": [],
   "source": [
    "def qc_channel_names():\n",
    "    mapping = utils.R_CHANNEL_MAPPING\n",
    "    for fp in metadata['filepath']:\n",
    "        channels = utils.get_ome_tiff_channels(fp)\n",
    "        for c in channels:\n",
    "            assert c in mapping, f'channel {c} is not in channel mapping, to ensure all channel names match consider adding {c} to channel mapping. If you do not it may impact cell gating.'\n",
    "\n",
    "        print(fp, [mapping[c] for c in channels])\n",
    "        \n",
    "def get_channel_thresholds():\n",
    "    channel_thresholds = json.load(open(os.path.join(output_dir, 'channel_thresholds.json')))\n",
    "    channel_thresholds = {k.split(' | ')[-1]:v for k, v in channel_thresholds.items()} # fps should be unique\n",
    "    return channel_thresholds"
   ]
  },
  {
   "cell_type": "markdown",
   "id": "4f1061b1",
   "metadata": {
    "heading_collapsed": true
   },
   "source": [
    "###### HT413C1-Th1k4A1"
   ]
  },
  {
   "cell_type": "code",
   "execution_count": null,
   "id": "adaa84c7",
   "metadata": {
    "hidden": true
   },
   "outputs": [],
   "source": [
    "case = 'HT413C1-Th1k4A1'\n",
    "runs = [\n",
    "    '2024-01-11_HT413C1_Th1k4A1',\n",
    "    '2024-01-10_HT413C1_Th1k4A1'\n",
    "]\n",
    "\n",
    "metadata = pd.read_csv(specimen_metadata_fp, sep='\\t')\n",
    "metadata = metadata[[True if x in runs else False for x in metadata['omero_run_name']]]\n",
    "\n",
    "output_dir = os.path.join(parent_dir, case)\n",
    "spatial_dir = os.path.join(output_dir, 'spatial_features')\n",
    "Path(spatial_dir).mkdir(parents=True, exist_ok=True)"
   ]
  },
  {
   "cell_type": "code",
   "execution_count": null,
   "id": "7a2cbb42",
   "metadata": {
    "hidden": true
   },
   "outputs": [],
   "source": [
    "qc_channel_names()"
   ]
  },
  {
   "cell_type": "code",
   "execution_count": null,
   "id": "5f8fe5ea",
   "metadata": {
    "hidden": true
   },
   "outputs": [],
   "source": [
    "channel_thresholds = get_channel_thresholds()\n",
    "channel_thresholds.keys(), next(iter(channel_thresholds.values()))"
   ]
  },
  {
   "cell_type": "code",
   "execution_count": null,
   "id": "eb26ecdd",
   "metadata": {
    "hidden": true
   },
   "outputs": [],
   "source": [
    "val = .05\n",
    "gating_strategy = [\n",
    "    {'name': 'Hepatocyte',\n",
    "        'strategy': [{'channel': 'Hep-Par-1', 'value': val, 'direction': 'pos'}]},\n",
    "    {'name': 'Epithelial',\n",
    "        'strategy': [{'channel': 'Pan-Cytokeratin', 'value': val, 'direction': 'pos'}]},\n",
    "    {'name': 'Epithelial',\n",
    "        'strategy': [{'channel': 'E-cadherin', 'value': val, 'direction': 'pos'}]},\n",
    "    {'name': 'Treg',\n",
    "        'strategy': [\n",
    "            {'channel': 'CD3e', 'value': val, 'direction': 'pos'},\n",
    "            {'channel': 'FOXP3', 'value': val, 'direction': 'pos'}]},\n",
    "    {'name': 'CD4 T cell',\n",
    "        'strategy': [{'channel': 'CD3e', 'value': val, 'direction': 'pos'},\n",
    "            {'channel': 'CD4', 'value': val, 'direction': 'pos'}]},\n",
    "    {'name': 'CD8 T cell',\n",
    "        'strategy': [{'channel': 'CD3e', 'value': val, 'direction': 'pos'},\n",
    "            {'channel': 'CD8', 'value': val, 'direction': 'pos'}]},\n",
    "    {'name': 'T cell',\n",
    "        'strategy': [{'channel': 'CD3e', 'value': val, 'direction': 'pos'}]},\n",
    "    {'name': 'Dendritic',\n",
    "        'strategy': [\n",
    "            {'channel': 'CD11b', 'value': val, 'direction': 'pos'},\n",
    "            {'channel': 'CD3e', 'value': val, 'direction': 'neg'}]},\n",
    "    {'name': 'B cell',\n",
    "        'strategy': [\n",
    "            {'channel': 'CD20', 'value': val, 'direction': 'pos'},\n",
    "            {'channel': 'Pan-Cytokeratin', 'value': val, 'direction': 'neg'},\n",
    "            {'channel': 'E-cadherin', 'value': val, 'direction': 'neg'}]},\n",
    "    {'name': 'Endothelial',\n",
    "        'strategy': [{'channel': 'CD31', 'value': val, 'direction': 'pos'}]},\n",
    "    {'name': 'Macrophage',\n",
    "        'strategy': [{'channel': 'CD68', 'value': val, 'direction': 'pos'}]},\n",
    "    {'name': 'Macrophage - M2',\n",
    "        'strategy': [{'channel': 'CD68', 'value': val, 'direction': 'pos'},\n",
    "            {'channel': 'CD163', 'value': val, 'direction': 'pos'}]},\n",
    "    {'name': 'Immune',\n",
    "        'strategy': [{'channel': 'CD45', 'value': val, 'direction': 'pos'}]},\n",
    "    {'name': 'Immune',\n",
    "        'strategy': [{'channel': 'CD11b', 'value': val, 'direction': 'pos'}]},\n",
    "    {'name': 'Immune',\n",
    "        'strategy': [{'channel': 'CD4', 'value': val, 'direction': 'pos'}]},\n",
    "    {'name': 'Immune',\n",
    "        'strategy': [{'channel': 'CD163', 'value': val, 'direction': 'pos'}]},\n",
    "    {'name': 'Immune',\n",
    "        'strategy': [{'channel': 'HLA-DR', 'value': val, 'direction': 'pos'}]},\n",
    "    {'name': 'Fibroblast',\n",
    "        'strategy': [{'channel': 'SMA', 'value': val, 'direction': 'pos'}]},\n",
    "    {'name': 'Fibroblast',\n",
    "        'strategy': [{'channel': 'Podoplanin', 'value': val, 'direction': 'pos'}]}\n",
    "]"
   ]
  },
  {
   "cell_type": "markdown",
   "id": "ea29be32",
   "metadata": {
    "heading_collapsed": true
   },
   "source": [
    "###### HT397B1"
   ]
  },
  {
   "cell_type": "code",
   "execution_count": null,
   "id": "500c7735",
   "metadata": {
    "hidden": true
   },
   "outputs": [],
   "source": [
    "case = 'HT397B1'\n",
    "runs = [\n",
    "    '2023-03-15_HT397B1',\n",
    "    '2023-03-16_HT397B1',\n",
    "    '2023-04-07_HT397B1',\n",
    "    '2023-04-13_HT397B1'\n",
    "]\n",
    "\n",
    "metadata = pd.read_csv(specimen_metadata_fp, sep='\\t')\n",
    "metadata = metadata[[True if x in runs else False for x in metadata['omero_run_name']]]\n",
    "\n",
    "output_dir = os.path.join(parent_dir, case)\n",
    "spatial_dir = os.path.join(output_dir, 'spatial_features')\n",
    "Path(spatial_dir).mkdir(parents=True, exist_ok=True)\n",
    "\n",
    "metadata"
   ]
  },
  {
   "cell_type": "code",
   "execution_count": null,
   "id": "ded9642d",
   "metadata": {
    "hidden": true
   },
   "outputs": [],
   "source": [
    "channel_thresholds = get_channel_thresholds()\n",
    "channel_thresholds.keys(), next(iter(channel_thresholds.values()))"
   ]
  },
  {
   "cell_type": "code",
   "execution_count": null,
   "id": "ddcc399b",
   "metadata": {
    "hidden": true
   },
   "outputs": [],
   "source": [
    "qc_channel_names()"
   ]
  },
  {
   "cell_type": "code",
   "execution_count": null,
   "id": "5ce4afe5",
   "metadata": {
    "hidden": true
   },
   "outputs": [],
   "source": [
    "val = .05\n",
    "gating_strategy = [\n",
    "    {'name': 'Epithelial',\n",
    "        'strategy': [{'channel': 'Pan-Cytokeratin', 'value': val, 'direction': 'pos'}]},\n",
    "    {'name': 'Epithelial',\n",
    "        'strategy': [{'channel': 'E-cadherin', 'value': val, 'direction': 'pos'}]},\n",
    "    {'name': 'Treg',\n",
    "        'strategy': [\n",
    "            {'channel': 'CD3e', 'value': val, 'direction': 'pos'},\n",
    "            {'channel': 'FOXP3', 'value': val, 'direction': 'pos'}]},\n",
    "    {'name': 'CD4 T cell',\n",
    "        'strategy': [\n",
    "            {'channel': 'CD3e', 'value': val, 'direction': 'pos'}, # no cd3 in some of these sections\n",
    "            {'channel': 'CD4', 'value': val, 'direction': 'pos'}]},\n",
    "    {'name': 'CD8 T cell',\n",
    "        'strategy': [\n",
    "            {'channel': 'CD3e', 'value': val, 'direction': 'pos'},\n",
    "            {'channel': 'CD8', 'value': val, 'direction': 'pos'}]},\n",
    "    {'name': 'T cell',\n",
    "        'strategy': [{'channel': 'CD3e', 'value': val, 'direction': 'pos'}]},\n",
    "    {'name': 'Dendritic', # not all have cd11b\n",
    "        'strategy': [\n",
    "            {'channel': 'CD11b', 'value': val, 'direction': 'pos'},\n",
    "            {'channel': 'CD3e', 'value': val, 'direction': 'neg'}\n",
    "        ]},\n",
    "    {'name': 'Endothelial',\n",
    "        'strategy': [{'channel': 'CD31', 'value': val, 'direction': 'pos'}]},\n",
    "    {'name': 'B cell',\n",
    "        'strategy': [\n",
    "            {'channel': 'CD20', 'value': val, 'direction': 'pos'},\n",
    "            {'channel': 'Pan-Cytokeratin', 'value': val, 'direction': 'neg'},\n",
    "            {'channel': 'E-cadherin', 'value': val, 'direction': 'neg'}]},\n",
    "    {'name': 'Macrophage',\n",
    "        'strategy': [{'channel': 'CD68', 'value': val, 'direction': 'pos'}]},\n",
    "    {'name': 'Macrophage - M2',\n",
    "        'strategy': [{'channel': 'CD68', 'value': val, 'direction': 'pos'},\n",
    "            {'channel': 'CD163', 'value': val, 'direction': 'pos'}]},\n",
    "    {'name': 'Immune',\n",
    "        'strategy': [{'channel': 'CD45', 'value': val, 'direction': 'pos'}]},\n",
    "    {'name': 'Immune',\n",
    "        'strategy': [{'channel': 'CD11b', 'value': val, 'direction': 'pos'}]},\n",
    "    {'name': 'Immune',\n",
    "        'strategy': [{'channel': 'CD4', 'value': val, 'direction': 'pos'}]},\n",
    "    {'name': 'Immune',\n",
    "        'strategy': [{'channel': 'CD163', 'value': val, 'direction': 'pos'}]},\n",
    "    {'name': 'Immune',\n",
    "        'strategy': [{'channel': 'HLA-DR', 'value': val, 'direction': 'pos'}]},\n",
    "    {'name': 'Fibroblast',\n",
    "        'strategy': [{'channel': 'SMA', 'value': val, 'direction': 'pos'}]},\n",
    "    {'name': 'Fibroblast',\n",
    "        'strategy': [{'channel': 'Podoplanin', 'value': val, 'direction': 'pos'}]}\n",
    "]"
   ]
  },
  {
   "cell_type": "markdown",
   "id": "d00492da",
   "metadata": {
    "heading_collapsed": true
   },
   "source": [
    "###### S18-9906"
   ]
  },
  {
   "cell_type": "code",
   "execution_count": null,
   "id": "7bb9774b",
   "metadata": {
    "hidden": true
   },
   "outputs": [],
   "source": [
    "case = 'S18-9906'\n",
    "runs = [\n",
    "    '2023-10-06_S18-9906'\n",
    "]\n",
    "\n",
    "metadata = pd.read_csv(specimen_metadata_fp, sep='\\t')\n",
    "metadata = metadata[[True if x in runs else False for x in metadata['omero_run_name']]]\n",
    "\n",
    "output_dir = os.path.join(parent_dir, case)\n",
    "spatial_dir = os.path.join(output_dir, 'spatial_features')\n",
    "Path(spatial_dir).mkdir(parents=True, exist_ok=True)\n",
    "\n",
    "metadata"
   ]
  },
  {
   "cell_type": "code",
   "execution_count": null,
   "id": "90ce35bd",
   "metadata": {
    "hidden": true
   },
   "outputs": [],
   "source": [
    "channel_thresholds = get_channel_thresholds()\n",
    "channel_thresholds.keys(), next(iter(channel_thresholds.values()))"
   ]
  },
  {
   "cell_type": "code",
   "execution_count": null,
   "id": "376b61e0",
   "metadata": {
    "hidden": true
   },
   "outputs": [],
   "source": [
    "qc_channel_names()"
   ]
  },
  {
   "cell_type": "code",
   "execution_count": null,
   "id": "6f7d37e3",
   "metadata": {
    "hidden": true
   },
   "outputs": [],
   "source": [
    "val = .05\n",
    "gating_strategy = [\n",
    "    {'name': 'Epithelial',\n",
    "        'strategy': [{'channel': 'Pan-Cytokeratin', 'value': val, 'direction': 'pos'}]},\n",
    "    {'name': 'Epithelial',\n",
    "        'strategy': [{'channel': 'E-cadherin', 'value': val, 'direction': 'pos'}]},\n",
    "    {'name': 'Treg',\n",
    "        'strategy': [\n",
    "            {'channel': 'CD3e', 'value': val, 'direction': 'pos'},\n",
    "            {'channel': 'FOXP3', 'value': val, 'direction': 'pos'}]},\n",
    "    {'name': 'CD4 T cell',\n",
    "        'strategy': [\n",
    "            {'channel': 'CD3e', 'value': val, 'direction': 'pos'},\n",
    "            {'channel': 'CD4', 'value': val, 'direction': 'pos'}]},\n",
    "    {'name': 'CD8 T cell',\n",
    "        'strategy': [\n",
    "            {'channel': 'CD3e', 'value': val, 'direction': 'pos'},\n",
    "            {'channel': 'CD8', 'value': val, 'direction': 'pos'}]},\n",
    "    {'name': 'T cell',\n",
    "        'strategy': [{'channel': 'CD3e', 'value': val, 'direction': 'pos'}]},\n",
    "    {'name': 'Dendritic', \n",
    "        'strategy': [\n",
    "            {'channel': 'CD11b', 'value': val, 'direction': 'pos'},\n",
    "            {'channel': 'CD3e', 'value': val, 'direction': 'neg'}\n",
    "        ]},\n",
    "    {'name': 'B cell',\n",
    "        'strategy': [\n",
    "            {'channel': 'CD20', 'value': val, 'direction': 'pos'},\n",
    "            {'channel': 'Pan-Cytokeratin', 'value': val, 'direction': 'neg'},\n",
    "            {'channel': 'E-cadherin', 'value': val, 'direction': 'neg'}]},\n",
    "    {'name': 'Endothelial',\n",
    "        'strategy': [{'channel': 'CD31', 'value': val, 'direction': 'pos'}]},\n",
    "    {'name': 'Macrophage',\n",
    "        'strategy': [{'channel': 'CD68', 'value': val, 'direction': 'pos'}]},\n",
    "    {'name': 'Macrophage - M2',\n",
    "        'strategy': [{'channel': 'CD68', 'value': val, 'direction': 'pos'},\n",
    "            {'channel': 'CD163', 'value': val, 'direction': 'pos'}]},\n",
    "    {'name': 'Immune',\n",
    "        'strategy': [{'channel': 'CD45', 'value': val, 'direction': 'pos'}]},\n",
    "    {'name': 'Immune',\n",
    "        'strategy': [{'channel': 'CD11b', 'value': val, 'direction': 'pos'}]},\n",
    "    {'name': 'Immune',\n",
    "        'strategy': [{'channel': 'CD4', 'value': val, 'direction': 'pos'}]},\n",
    "    {'name': 'Immune',\n",
    "        'strategy': [{'channel': 'CD163', 'value': val, 'direction': 'pos'}]},\n",
    "    {'name': 'Immune',\n",
    "        'strategy': [{'channel': 'HLA-DR', 'value': val, 'direction': 'pos'}]},\n",
    "    {'name': 'Fibroblast',\n",
    "        'strategy': [{'channel': 'SMA', 'value': val, 'direction': 'pos'}]},\n",
    "    {'name': 'Fibroblast',\n",
    "        'strategy': [{'channel': 'Podoplanin', 'value': val, 'direction': 'pos'}]}\n",
    "]"
   ]
  },
  {
   "cell_type": "markdown",
   "id": "4552d94b",
   "metadata": {
    "heading_collapsed": true
   },
   "source": [
    "###### S18-25943-A7"
   ]
  },
  {
   "cell_type": "code",
   "execution_count": null,
   "id": "8073f721",
   "metadata": {
    "hidden": true
   },
   "outputs": [],
   "source": [
    "case = 'S18-25943-A7'\n",
    "runs = [\n",
    "    '2023-11-22__S18-25943'\n",
    "]\n",
    "\n",
    "metadata = pd.read_csv(specimen_metadata_fp, sep='\\t')\n",
    "metadata = metadata[[True if x in runs else False for x in metadata['omero_run_name']]]\n",
    "\n",
    "output_dir = os.path.join(parent_dir, case)\n",
    "spatial_dir = os.path.join(output_dir, 'spatial_features')\n",
    "Path(spatial_dir).mkdir(parents=True, exist_ok=True)\n",
    "\n",
    "metadata"
   ]
  },
  {
   "cell_type": "code",
   "execution_count": null,
   "id": "028c43ef",
   "metadata": {
    "hidden": true
   },
   "outputs": [],
   "source": [
    "channel_thresholds = get_channel_thresholds()\n",
    "channel_thresholds.keys(), next(iter(channel_thresholds.values()))"
   ]
  },
  {
   "cell_type": "code",
   "execution_count": null,
   "id": "7bd26858",
   "metadata": {
    "hidden": true
   },
   "outputs": [],
   "source": [
    "qc_channel_names()"
   ]
  },
  {
   "cell_type": "code",
   "execution_count": null,
   "id": "106756e1",
   "metadata": {
    "hidden": true
   },
   "outputs": [],
   "source": [
    "val = .05\n",
    "gating_strategy = [\n",
    "    {'name': 'Islet',\n",
    "        'strategy': [{'channel': 'INS', 'value': val, 'direction': 'pos'}]},\n",
    "    {'name': 'Epithelial',\n",
    "        'strategy': [{'channel': 'Pan-Cytokeratin', 'value': val, 'direction': 'pos'}]},\n",
    "    {'name': 'Epithelial',\n",
    "        'strategy': [{'channel': 'E-cadherin', 'value': val, 'direction': 'pos'}]},\n",
    "    {'name': 'Treg',\n",
    "        'strategy': [\n",
    "            {'channel': 'CD3e', 'value': val, 'direction': 'pos'},\n",
    "            {'channel': 'FOXP3', 'value': val, 'direction': 'pos'}]},\n",
    "    {'name': 'CD4 T cell',\n",
    "        'strategy': [\n",
    "            {'channel': 'CD3e', 'value': val, 'direction': 'pos'},\n",
    "            {'channel': 'CD4', 'value': val, 'direction': 'pos'}]},\n",
    "    {'name': 'CD8 T cell',\n",
    "        'strategy': [\n",
    "            {'channel': 'CD3e', 'value': val, 'direction': 'pos'},\n",
    "            {'channel': 'CD8', 'value': val, 'direction': 'pos'}]},\n",
    "    {'name': 'T cell',\n",
    "        'strategy': [{'channel': 'CD3e', 'value': val, 'direction': 'pos'}]},\n",
    "    {'name': 'Dendritic', \n",
    "        'strategy': [\n",
    "            {'channel': 'CD11b', 'value': val, 'direction': 'pos'},\n",
    "            {'channel': 'CD3e', 'value': val, 'direction': 'neg'}\n",
    "        ]},\n",
    "    {'name': 'B cell',\n",
    "        'strategy': [\n",
    "            {'channel': 'CD20', 'value': val, 'direction': 'pos'},\n",
    "            {'channel': 'Pan-Cytokeratin', 'value': val, 'direction': 'neg'},\n",
    "            {'channel': 'E-cadherin', 'value': val, 'direction': 'neg'}]},\n",
    "    {'name': 'Endothelial',\n",
    "        'strategy': [{'channel': 'CD31', 'value': val, 'direction': 'pos'}]},\n",
    "    {'name': 'Macrophage',\n",
    "        'strategy': [{'channel': 'CD68', 'value': val, 'direction': 'pos'}]},\n",
    "    {'name': 'Macrophage - M2',\n",
    "        'strategy': [{'channel': 'CD68', 'value': val, 'direction': 'pos'},\n",
    "            {'channel': 'CD163', 'value': val, 'direction': 'pos'}]},\n",
    "    {'name': 'Immune',\n",
    "        'strategy': [{'channel': 'CD45', 'value': val, 'direction': 'pos'}]},\n",
    "    {'name': 'Immune',\n",
    "        'strategy': [{'channel': 'CD11b', 'value': val, 'direction': 'pos'}]},\n",
    "    {'name': 'Immune',\n",
    "        'strategy': [{'channel': 'CD4', 'value': val, 'direction': 'pos'}]},\n",
    "    {'name': 'Immune',\n",
    "        'strategy': [{'channel': 'CD163', 'value': val, 'direction': 'pos'}]},\n",
    "    {'name': 'Immune',\n",
    "        'strategy': [{'channel': 'HLA-DR', 'value': val, 'direction': 'pos'}]},\n",
    "    {'name': 'Fibroblast',\n",
    "        'strategy': [{'channel': 'SMA', 'value': val, 'direction': 'pos'}]},\n",
    "    {'name': 'Fibroblast',\n",
    "        'strategy': [{'channel': 'Podoplanin', 'value': val, 'direction': 'pos'}]}\n",
    "]"
   ]
  },
  {
   "cell_type": "markdown",
   "id": "0a5df0de",
   "metadata": {
    "heading_collapsed": true
   },
   "source": [
    "###### S18-5591-C8"
   ]
  },
  {
   "cell_type": "code",
   "execution_count": null,
   "id": "3281436c",
   "metadata": {
    "hidden": true
   },
   "outputs": [],
   "source": [
    "case = 'S18-5591-C8'\n",
    "runs = [\n",
    "    '2023-11-16__S18-5591',\n",
    "    '2023-11-18__S18-5591'\n",
    "]\n",
    "\n",
    "metadata = pd.read_csv(specimen_metadata_fp, sep='\\t')\n",
    "metadata = metadata[[True if x in runs else False for x in metadata['omero_run_name']]]\n",
    "\n",
    "output_dir = os.path.join(parent_dir, case)\n",
    "spatial_dir = os.path.join(output_dir, 'spatial_features')\n",
    "Path(spatial_dir).mkdir(parents=True, exist_ok=True)\n",
    "\n",
    "metadata"
   ]
  },
  {
   "cell_type": "code",
   "execution_count": null,
   "id": "a10c1fe0",
   "metadata": {
    "hidden": true
   },
   "outputs": [],
   "source": [
    "channel_thresholds = get_channel_thresholds()\n",
    "channel_thresholds.keys(), next(iter(channel_thresholds.values()))"
   ]
  },
  {
   "cell_type": "code",
   "execution_count": null,
   "id": "3ed1a31f",
   "metadata": {
    "hidden": true
   },
   "outputs": [],
   "source": [
    "qc_channel_names()"
   ]
  },
  {
   "cell_type": "code",
   "execution_count": null,
   "id": "884e1103",
   "metadata": {
    "hidden": true
   },
   "outputs": [],
   "source": [
    "val = .05\n",
    "gating_strategy = [\n",
    "    {'name': 'Epithelial',\n",
    "        'strategy': [{'channel': 'Pan-Cytokeratin', 'value': val, 'direction': 'pos'}]},\n",
    "    {'name': 'Epithelial',\n",
    "        'strategy': [{'channel': 'E-cadherin', 'value': val, 'direction': 'pos'}]},\n",
    "    {'name': 'Treg',\n",
    "        'strategy': [\n",
    "            {'channel': 'CD3e', 'value': val, 'direction': 'pos'},\n",
    "            {'channel': 'FOXP3', 'value': val, 'direction': 'pos'}]},\n",
    "    {'name': 'CD4 T cell',\n",
    "        'strategy': [\n",
    "            {'channel': 'CD3e', 'value': val, 'direction': 'pos'},\n",
    "            {'channel': 'CD4', 'value': val, 'direction': 'pos'}]},\n",
    "    {'name': 'CD8 T cell',\n",
    "        'strategy': [\n",
    "            {'channel': 'CD3e', 'value': val, 'direction': 'pos'},\n",
    "            {'channel': 'CD8', 'value': val, 'direction': 'pos'}]},\n",
    "    {'name': 'T cell',\n",
    "        'strategy': [{'channel': 'CD3e', 'value': val, 'direction': 'pos'}]},\n",
    "    {'name': 'Dendritic', \n",
    "        'strategy': [\n",
    "            {'channel': 'CD11b', 'value': val, 'direction': 'pos'},\n",
    "            {'channel': 'CD3e', 'value': val, 'direction': 'neg'}\n",
    "        ]},\n",
    "    {'name': 'B cell',\n",
    "        'strategy': [\n",
    "            {'channel': 'CD20', 'value': val, 'direction': 'pos'},\n",
    "            {'channel': 'Pan-Cytokeratin', 'value': val, 'direction': 'neg'},\n",
    "            {'channel': 'E-cadherin', 'value': val, 'direction': 'neg'}]},\n",
    "    {'name': 'Endothelial',\n",
    "        'strategy': [{'channel': 'CD31', 'value': val, 'direction': 'pos'}]},\n",
    "    {'name': 'Macrophage',\n",
    "        'strategy': [\n",
    "            {'channel': 'CD68', 'value': val, 'direction': 'pos'},\n",
    "            {'channel': 'HLA-DR', 'value': val, 'direction': 'pos'}\n",
    "        ]},\n",
    "    {'name': 'Macrophage - M2',\n",
    "        'strategy': [{'channel': 'CD68', 'value': val, 'direction': 'pos'},\n",
    "            {'channel': 'CD163', 'value': val, 'direction': 'pos'},\n",
    "            {'channel': 'HLA-DR', 'value': val, 'direction': 'pos'}]},\n",
    "    {'name': 'Immune',\n",
    "        'strategy': [{'channel': 'CD45', 'value': val, 'direction': 'pos'}]},\n",
    "    {'name': 'Immune',\n",
    "        'strategy': [{'channel': 'CD11b', 'value': val, 'direction': 'pos'}]},\n",
    "    {'name': 'Immune',\n",
    "        'strategy': [{'channel': 'CD4', 'value': val, 'direction': 'pos'}]},\n",
    "    {'name': 'Immune',\n",
    "        'strategy': [{'channel': 'CD163', 'value': val, 'direction': 'pos'}]},\n",
    "    {'name': 'Immune',\n",
    "        'strategy': [{'channel': 'HLA-DR', 'value': val, 'direction': 'pos'}]},\n",
    "    {'name': 'Fibroblast',\n",
    "        'strategy': [{'channel': 'SMA', 'value': val, 'direction': 'pos'}]},\n",
    "    {'name': 'Fibroblast',\n",
    "        'strategy': [{'channel': 'Podoplanin', 'value': val, 'direction': 'pos'}]}\n",
    "]"
   ]
  },
  {
   "cell_type": "markdown",
   "id": "82b056f6",
   "metadata": {
    "heading_collapsed": true
   },
   "source": [
    "###### HT206B1"
   ]
  },
  {
   "cell_type": "code",
   "execution_count": null,
   "id": "ba89b3bc",
   "metadata": {
    "hidden": true
   },
   "outputs": [],
   "source": [
    "case = 'HT206B1'\n",
    "runs = [\n",
    "    '2023-09-14_HT206B1',\n",
    "    '2023-10-02_HT206B1'\n",
    "]\n",
    "\n",
    "metadata = pd.read_csv(specimen_metadata_fp, sep='\\t')\n",
    "metadata = metadata[[True if x in runs else False for x in metadata['omero_run_name']]]\n",
    "\n",
    "output_dir = os.path.join(parent_dir, case)\n",
    "spatial_dir = os.path.join(output_dir, 'spatial_features')\n",
    "Path(spatial_dir).mkdir(parents=True, exist_ok=True)\n",
    "\n",
    "metadata"
   ]
  },
  {
   "cell_type": "code",
   "execution_count": null,
   "id": "e9525603",
   "metadata": {
    "hidden": true
   },
   "outputs": [],
   "source": [
    "qc_channel_names()"
   ]
  },
  {
   "cell_type": "code",
   "execution_count": null,
   "id": "2f95dfae",
   "metadata": {
    "hidden": true
   },
   "outputs": [],
   "source": [
    "channel_thresholds = get_channel_thresholds()\n",
    "channel_thresholds.keys(), next(iter(channel_thresholds.values()))"
   ]
  },
  {
   "cell_type": "code",
   "execution_count": null,
   "id": "4c6484ac",
   "metadata": {
    "hidden": true
   },
   "outputs": [],
   "source": [
    "val = .05\n",
    "gating_strategy = [ # cd3 not present in all sections\n",
    "    {'name': 'Epithelial',\n",
    "        'strategy': [{'channel': 'Pan-Cytokeratin', 'value': val, 'direction': 'pos'}]},\n",
    "    {'name': 'Epithelial',\n",
    "        'strategy': [{'channel': 'E-cadherin', 'value': val, 'direction': 'pos'}]},\n",
    "    {'name': 'Treg',\n",
    "        'strategy': [\n",
    "            {'channel': 'CD3e', 'value': val, 'direction': 'pos'},\n",
    "            {'channel': 'FOXP3', 'value': val, 'direction': 'pos'}]},\n",
    "    {'name': 'CD4 T cell',\n",
    "        'strategy': [\n",
    "            {'channel': 'CD3e', 'value': val, 'direction': 'pos'},\n",
    "            {'channel': 'CD4', 'value': val, 'direction': 'pos'},\n",
    "        ]},\n",
    "    {'name': 'CD8 T cell',\n",
    "        'strategy': [\n",
    "            {'channel': 'CD3e', 'value': val, 'direction': 'pos'},\n",
    "            {'channel': 'CD8', 'value': val, 'direction': 'pos'}]},\n",
    "    {'name': 'T cell',\n",
    "        'strategy': [{'channel': 'CD3e', 'value': val, 'direction': 'pos'}]},\n",
    "    {'name': 'Macrophage',\n",
    "        'strategy': [\n",
    "            {'channel': 'CD68', 'value': val, 'direction': 'pos'},\n",
    "        ]},\n",
    "    {'name': 'Macrophage - M2',\n",
    "        'strategy': [{'channel': 'CD68', 'value': val, 'direction': 'pos'},\n",
    "            {'channel': 'CD163', 'value': val, 'direction': 'pos'},\n",
    "            {'channel': 'HLA-DR', 'value': val, 'direction': 'pos'}]},\n",
    "    {'name': 'Dendritic', \n",
    "        'strategy': [\n",
    "            {'channel': 'CD11b', 'value': val, 'direction': 'pos'},\n",
    "#             {'channel': 'CD3e', 'value': val, 'direction': 'neg'}\n",
    "        ]},\n",
    "    {'name': 'B cell',\n",
    "        'strategy': [\n",
    "            {'channel': 'CD20', 'value': val, 'direction': 'pos'},\n",
    "            {'channel': 'Pan-Cytokeratin', 'value': val, 'direction': 'neg'},\n",
    "            {'channel': 'E-cadherin', 'value': val, 'direction': 'neg'}]},\n",
    "    {'name': 'Endothelial',\n",
    "        'strategy': [{'channel': 'CD31', 'value': val, 'direction': 'pos'}]},\n",
    "    {'name': 'Immune',\n",
    "        'strategy': [{'channel': 'CD45', 'value': val, 'direction': 'pos'}]},\n",
    "    {'name': 'Immune',\n",
    "        'strategy': [{'channel': 'CD11b', 'value': val, 'direction': 'pos'}]},\n",
    "    {'name': 'Immune',\n",
    "        'strategy': [{'channel': 'CD4', 'value': val, 'direction': 'pos'}]},\n",
    "    {'name': 'Immune',\n",
    "        'strategy': [{'channel': 'CD163', 'value': val, 'direction': 'pos'}]},\n",
    "    {'name': 'Immune',\n",
    "        'strategy': [{'channel': 'HLA-DR', 'value': val, 'direction': 'pos'}]},\n",
    "    {'name': 'Fibroblast',\n",
    "        'strategy': [{'channel': 'SMA', 'value': val, 'direction': 'pos'}]},\n",
    "    {'name': 'Fibroblast',\n",
    "        'strategy': [{'channel': 'Podoplanin', 'value': val, 'direction': 'pos'}]}\n",
    "]"
   ]
  },
  {
   "cell_type": "code",
   "execution_count": null,
   "id": "6da0acfe",
   "metadata": {
    "hidden": true
   },
   "outputs": [],
   "source": []
  },
  {
   "cell_type": "markdown",
   "id": "1c2ec6eb",
   "metadata": {
    "heading_collapsed": true
   },
   "source": [
    "###### C3L-00982"
   ]
  },
  {
   "cell_type": "code",
   "execution_count": null,
   "id": "3d94e6df",
   "metadata": {
    "hidden": true
   },
   "outputs": [],
   "source": [
    "case = 'C3L-00982'\n",
    "runs = [\n",
    "    '2024-01-17_C3L-00982',\n",
    "]\n",
    "\n",
    "metadata = pd.read_csv(specimen_metadata_fp, sep='\\t')\n",
    "metadata = metadata[[True if x in runs else False for x in metadata['omero_run_name']]]\n",
    "\n",
    "output_dir = os.path.join(parent_dir, case)\n",
    "spatial_dir = os.path.join(output_dir, 'spatial_features')\n",
    "Path(spatial_dir).mkdir(parents=True, exist_ok=True)\n",
    "\n",
    "metadata"
   ]
  },
  {
   "cell_type": "code",
   "execution_count": null,
   "id": "9f956b65",
   "metadata": {
    "hidden": true
   },
   "outputs": [],
   "source": [
    "case = 'C3L-00982'\n",
    "runs = [\n",
    "    '2024-01-17_C3L-00982',\n",
    "]"
   ]
  },
  {
   "cell_type": "code",
   "execution_count": null,
   "id": "a5cbf5db",
   "metadata": {
    "hidden": true
   },
   "outputs": [],
   "source": [
    "qc_channel_names()"
   ]
  },
  {
   "cell_type": "code",
   "execution_count": null,
   "id": "329490c9",
   "metadata": {
    "hidden": true
   },
   "outputs": [],
   "source": [
    "channel_thresholds = get_channel_thresholds()\n",
    "channel_thresholds.keys(), next(iter(channel_thresholds.values()))"
   ]
  },
  {
   "cell_type": "code",
   "execution_count": null,
   "id": "61b16725",
   "metadata": {
    "hidden": true
   },
   "outputs": [],
   "source": [
    "val = .05\n",
    "gating_strategy = [\n",
    "    {'name': 'Proximal Tubule',\n",
    "        'strategy': [{'channel': 'AQP1', 'value': val, 'direction': 'pos'},\n",
    "                    {'channel': 'CD31', 'value': val, 'direction': 'neg'}]},\n",
    "    {'name': 'Epithelial',\n",
    "        'strategy': [{'channel': 'CA9', 'value': val, 'direction': 'pos'}]},\n",
    "    {'name': 'Epithelial',\n",
    "        'strategy': [{'channel': 'LRP2', 'value': val, 'direction': 'pos'}]},\n",
    "    {'name': 'CD4 T cell',\n",
    "        'strategy': [\n",
    "            {'channel': 'CD3e', 'value': val, 'direction': 'pos'},\n",
    "            {'channel': 'CD4', 'value': val, 'direction': 'pos'},\n",
    "        ]},\n",
    "    {'name': 'CD8 T cell',\n",
    "        'strategy': [\n",
    "            {'channel': 'CD3e', 'value': val, 'direction': 'pos'},\n",
    "            {'channel': 'CD8', 'value': val, 'direction': 'pos'}]},\n",
    "    {'name': 'T cell',\n",
    "        'strategy': [{'channel': 'CD3e', 'value': val, 'direction': 'pos'}]},\n",
    "    {'name': 'Macrophage - CD68+/IBA1+',\n",
    "        'strategy': [\n",
    "            {'channel': 'CD68', 'value': val, 'direction': 'pos'},\n",
    "            {'channel': 'IBA1', 'value': val, 'direction': 'pos'}\n",
    "        ]},\n",
    "    {'name': 'Macrophage - IBA1+',\n",
    "        'strategy': [\n",
    "            {'channel': 'IBA1', 'value': val, 'direction': 'pos'},\n",
    "        ]},\n",
    "    {'name': 'Macrophage - CD68+',\n",
    "        'strategy': [\n",
    "            {'channel': 'CD68', 'value': val, 'direction': 'pos'},\n",
    "        ]},\n",
    "    {'name': 'Dendritic', \n",
    "        'strategy': [\n",
    "            {'channel': 'CD11b', 'value': val, 'direction': 'pos'},\n",
    "            {'channel': 'CD3e', 'value': val, 'direction': 'neg'}\n",
    "        ]},\n",
    "    {'name': 'B cell',\n",
    "        'strategy': [\n",
    "            {'channel': 'CD20', 'value': val, 'direction': 'pos'},\n",
    "            {'channel': 'Pan-Cytokeratin', 'value': val, 'direction': 'neg'},\n",
    "            {'channel': 'E-cadherin', 'value': val, 'direction': 'neg'}]},\n",
    "    {'name': 'Endothelial',\n",
    "        'strategy': [{'channel': 'CD31', 'value': val, 'direction': 'pos'}]},\n",
    "    {'name': 'Immune',\n",
    "        'strategy': [{'channel': 'CD45', 'value': val, 'direction': 'pos'}]},\n",
    "    {'name': 'Immune',\n",
    "        'strategy': [{'channel': 'CD11b', 'value': val, 'direction': 'pos'}]},\n",
    "    {'name': 'Immune',\n",
    "        'strategy': [{'channel': 'CD4', 'value': val, 'direction': 'pos'}]},\n",
    "    {'name': 'Immune',\n",
    "        'strategy': [{'channel': 'HLA-DR', 'value': val, 'direction': 'pos'}]},\n",
    "    {'name': 'Fibroblast',\n",
    "        'strategy': [{'channel': 'SMA', 'value': val, 'direction': 'pos'}]},\n",
    "    {'name': 'Fibroblast',\n",
    "        'strategy': [{'channel': 'Podoplanin', 'value': val, 'direction': 'pos'}]}\n",
    "]"
   ]
  },
  {
   "cell_type": "markdown",
   "id": "7def11cc",
   "metadata": {
    "heading_collapsed": true
   },
   "source": [
    "###### C3L-02551"
   ]
  },
  {
   "cell_type": "code",
   "execution_count": null,
   "id": "786d9d34",
   "metadata": {
    "hidden": true
   },
   "outputs": [],
   "source": [
    "case = 'C3L-02551'\n",
    "runs = [\n",
    "    '2024-01-18_C3L-02551',\n",
    "]\n",
    "\n",
    "metadata = pd.read_csv(specimen_metadata_fp, sep='\\t')\n",
    "metadata = metadata[[True if x in runs else False for x in metadata['omero_run_name']]]\n",
    "\n",
    "output_dir = os.path.join(parent_dir, case)\n",
    "spatial_dir = os.path.join(output_dir, 'spatial_features')\n",
    "Path(spatial_dir).mkdir(parents=True, exist_ok=True)\n",
    "\n",
    "metadata"
   ]
  },
  {
   "cell_type": "code",
   "execution_count": null,
   "id": "60212a30",
   "metadata": {
    "hidden": true
   },
   "outputs": [],
   "source": [
    "qc_channel_names()"
   ]
  },
  {
   "cell_type": "code",
   "execution_count": null,
   "id": "3fa99725",
   "metadata": {
    "hidden": true,
    "scrolled": true
   },
   "outputs": [],
   "source": [
    "channel_thresholds = get_channel_thresholds()\n",
    "channel_thresholds.keys(), next(iter(channel_thresholds.values()))"
   ]
  },
  {
   "cell_type": "code",
   "execution_count": null,
   "id": "c6b110c5",
   "metadata": {
    "hidden": true
   },
   "outputs": [],
   "source": [
    "val = .05\n",
    "gating_strategy = [\n",
    "    {'name': 'Proximal Tubule',\n",
    "        'strategy': [{'channel': 'AQP1', 'value': val, 'direction': 'pos'},\n",
    "                    {'channel': 'CD31', 'value': val, 'direction': 'neg'}]},\n",
    "    {'name': 'Epithelial',\n",
    "        'strategy': [{'channel': 'CA9', 'value': val, 'direction': 'pos'}]},\n",
    "    {'name': 'Epithelial',\n",
    "        'strategy': [{'channel': 'LRP2', 'value': val, 'direction': 'pos'}]},\n",
    "    {'name': 'CD4 T cell',\n",
    "        'strategy': [\n",
    "            {'channel': 'CD3e', 'value': val, 'direction': 'pos'},\n",
    "            {'channel': 'CD4', 'value': val, 'direction': 'pos'},\n",
    "        ]},\n",
    "    {'name': 'CD8 T cell',\n",
    "        'strategy': [\n",
    "            {'channel': 'CD3e', 'value': val, 'direction': 'pos'},\n",
    "            {'channel': 'CD8', 'value': val, 'direction': 'pos'}]},\n",
    "    {'name': 'T cell',\n",
    "        'strategy': [{'channel': 'CD3e', 'value': val, 'direction': 'pos'}]},\n",
    "    {'name': 'Macrophage - CD68+/IBA1+',\n",
    "        'strategy': [\n",
    "            {'channel': 'CD68', 'value': val, 'direction': 'pos'},\n",
    "            {'channel': 'IBA1', 'value': val, 'direction': 'pos'}\n",
    "        ]},\n",
    "    {'name': 'Macrophage - IBA1+',\n",
    "        'strategy': [\n",
    "            {'channel': 'IBA1', 'value': val, 'direction': 'pos'},\n",
    "        ]},\n",
    "    {'name': 'Macrophage - CD68+',\n",
    "        'strategy': [\n",
    "            {'channel': 'CD68', 'value': val, 'direction': 'pos'},\n",
    "        ]},\n",
    "    {'name': 'Dendritic', \n",
    "        'strategy': [\n",
    "            {'channel': 'CD11b', 'value': val, 'direction': 'pos'},\n",
    "            {'channel': 'CD3e', 'value': val, 'direction': 'neg'}\n",
    "        ]},\n",
    "    {'name': 'B cell',\n",
    "        'strategy': [\n",
    "            {'channel': 'CD20', 'value': val, 'direction': 'pos'},\n",
    "            {'channel': 'Pan-Cytokeratin', 'value': val, 'direction': 'neg'},\n",
    "            {'channel': 'E-cadherin', 'value': val, 'direction': 'neg'}]},\n",
    "    {'name': 'Endothelial',\n",
    "        'strategy': [{'channel': 'CD31', 'value': val, 'direction': 'pos'}]},\n",
    "    {'name': 'Immune',\n",
    "        'strategy': [{'channel': 'CD45', 'value': val, 'direction': 'pos'}]},\n",
    "    {'name': 'Immune',\n",
    "        'strategy': [{'channel': 'CD11b', 'value': val, 'direction': 'pos'}]},\n",
    "    {'name': 'Immune',\n",
    "        'strategy': [{'channel': 'CD4', 'value': val, 'direction': 'pos'}]},\n",
    "    {'name': 'Immune',\n",
    "        'strategy': [{'channel': 'HLA-DR', 'value': val, 'direction': 'pos'}]},\n",
    "    {'name': 'Fibroblast',\n",
    "        'strategy': [{'channel': 'SMA', 'value': val, 'direction': 'pos'}]},\n",
    "    {'name': 'Fibroblast',\n",
    "        'strategy': [{'channel': 'Podoplanin', 'value': val, 'direction': 'pos'}]}\n",
    "]"
   ]
  },
  {
   "cell_type": "markdown",
   "id": "2339072d",
   "metadata": {
    "heading_collapsed": true
   },
   "source": [
    "###### C3L-00970"
   ]
  },
  {
   "cell_type": "code",
   "execution_count": null,
   "id": "59e43b22",
   "metadata": {
    "hidden": true
   },
   "outputs": [],
   "source": [
    "case = 'C3L-00970'\n",
    "runs = [\n",
    "    '2023-12-20_C3L-00970__C3N-00733__PA00002352',\n",
    "]\n",
    "\n",
    "metadata = pd.read_csv(specimen_metadata_fp, sep='\\t')\n",
    "metadata = metadata[[True if x in runs else False for x in metadata['omero_run_name']]]\n",
    "metadata = metadata[[True if case in x else False for x in metadata['specimen']]]\n",
    "\n",
    "output_dir = os.path.join(parent_dir, case)\n",
    "spatial_dir = os.path.join(output_dir, 'spatial_features')\n",
    "Path(spatial_dir).mkdir(parents=True, exist_ok=True)\n",
    "\n",
    "metadata"
   ]
  },
  {
   "cell_type": "code",
   "execution_count": null,
   "id": "3efbe021",
   "metadata": {
    "hidden": true
   },
   "outputs": [],
   "source": [
    "qc_channel_names()"
   ]
  },
  {
   "cell_type": "code",
   "execution_count": null,
   "id": "8d11deb7",
   "metadata": {
    "hidden": true,
    "scrolled": true
   },
   "outputs": [],
   "source": [
    "channel_thresholds = get_channel_thresholds()\n",
    "channel_thresholds.keys(), next(iter(channel_thresholds.values()))"
   ]
  },
  {
   "cell_type": "code",
   "execution_count": null,
   "id": "69f25d9b",
   "metadata": {
    "hidden": true
   },
   "outputs": [],
   "source": [
    "val = .05\n",
    "gating_strategy = [\n",
    "    {'name': 'Proximal Tubule',\n",
    "        'strategy': [{'channel': 'AQP1', 'value': val, 'direction': 'pos'},\n",
    "                    {'channel': 'CD31', 'value': val, 'direction': 'neg'}]},\n",
    "    {'name': 'Epithelial',\n",
    "        'strategy': [{'channel': 'Pan-Cytokeratin', 'value': val, 'direction': 'pos'}]},\n",
    "    {'name': 'Epithelial',\n",
    "        'strategy': [{'channel': 'CA9', 'value': val, 'direction': 'pos'}]},\n",
    "    {'name': 'Epithelial',\n",
    "        'strategy': [{'channel': 'LRP2', 'value': val, 'direction': 'pos'}]},\n",
    "    {'name': 'CD4 T cell',\n",
    "        'strategy': [\n",
    "            {'channel': 'CD3e', 'value': val, 'direction': 'pos'},\n",
    "            {'channel': 'CD4', 'value': val, 'direction': 'pos'},\n",
    "        ]},\n",
    "    {'name': 'CD8 T cell',\n",
    "        'strategy': [\n",
    "            {'channel': 'CD3e', 'value': val, 'direction': 'pos'},\n",
    "            {'channel': 'CD8', 'value': val, 'direction': 'pos'}]},\n",
    "    {'name': 'T cell',\n",
    "        'strategy': [{'channel': 'CD3e', 'value': val, 'direction': 'pos'}]},\n",
    "    {'name': 'Macrophage',\n",
    "        'strategy': [\n",
    "            {'channel': 'CD68', 'value': val, 'direction': 'pos'},\n",
    "        ]},\n",
    "    {'name': 'Dendritic', \n",
    "        'strategy': [\n",
    "            {'channel': 'CD11b', 'value': val, 'direction': 'pos'},\n",
    "            {'channel': 'CD3e', 'value': val, 'direction': 'neg'}\n",
    "        ]},\n",
    "    {'name': 'B cell',\n",
    "        'strategy': [\n",
    "            {'channel': 'CD20', 'value': val, 'direction': 'pos'},\n",
    "            {'channel': 'Pan-Cytokeratin', 'value': val, 'direction': 'neg'},\n",
    "            {'channel': 'E-cadherin', 'value': val, 'direction': 'neg'}]},\n",
    "    {'name': 'Endothelial',\n",
    "        'strategy': [{'channel': 'CD31', 'value': val, 'direction': 'pos'}]},\n",
    "    {'name': 'Immune',\n",
    "        'strategy': [{'channel': 'CD45', 'value': val, 'direction': 'pos'}]},\n",
    "    {'name': 'Immune',\n",
    "        'strategy': [{'channel': 'CD11b', 'value': val, 'direction': 'pos'}]},\n",
    "    {'name': 'Immune',\n",
    "        'strategy': [{'channel': 'CD4', 'value': val, 'direction': 'pos'}]},\n",
    "    {'name': 'Immune',\n",
    "        'strategy': [{'channel': 'HLA-DR', 'value': val, 'direction': 'pos'}]},\n",
    "    {'name': 'Fibroblast',\n",
    "        'strategy': [{'channel': 'SMA', 'value': val, 'direction': 'pos'}]},\n",
    "    {'name': 'Fibroblast',\n",
    "        'strategy': [{'channel': 'Podoplanin', 'value': val, 'direction': 'pos'}]}\n",
    "]"
   ]
  },
  {
   "cell_type": "markdown",
   "id": "5aed5f32",
   "metadata": {
    "heading_collapsed": true
   },
   "source": [
    "###### C3L-01287"
   ]
  },
  {
   "cell_type": "code",
   "execution_count": null,
   "id": "c4220037",
   "metadata": {
    "hidden": true
   },
   "outputs": [],
   "source": [
    "case = 'C3L-01287'\n",
    "runs = [\n",
    "    '2023-12-19_C3L-01287__C3N-01200',\n",
    "]\n",
    "\n",
    "metadata = pd.read_csv(specimen_metadata_fp, sep='\\t')\n",
    "metadata = metadata[[True if x in runs else False for x in metadata['omero_run_name']]]\n",
    "metadata = metadata[[True if case in x else False for x in metadata['specimen']]]\n",
    "\n",
    "output_dir = os.path.join(parent_dir, case)\n",
    "spatial_dir = os.path.join(output_dir, 'spatial_features')\n",
    "Path(spatial_dir).mkdir(parents=True, exist_ok=True)\n",
    "\n",
    "metadata"
   ]
  },
  {
   "cell_type": "code",
   "execution_count": null,
   "id": "b6abe0ae",
   "metadata": {
    "hidden": true
   },
   "outputs": [],
   "source": [
    "qc_channel_names()"
   ]
  },
  {
   "cell_type": "code",
   "execution_count": null,
   "id": "5e9654e2",
   "metadata": {
    "hidden": true,
    "scrolled": true
   },
   "outputs": [],
   "source": [
    "channel_thresholds = get_channel_thresholds()\n",
    "channel_thresholds.keys(), next(iter(channel_thresholds.values()))"
   ]
  },
  {
   "cell_type": "code",
   "execution_count": null,
   "id": "6a8ec3d6",
   "metadata": {
    "hidden": true
   },
   "outputs": [],
   "source": [
    "val = .05\n",
    "gating_strategy = [\n",
    "    {'name': 'Proximal Tubule',\n",
    "        'strategy': [{'channel': 'AQP1', 'value': val, 'direction': 'pos'},\n",
    "                    {'channel': 'CD31', 'value': val, 'direction': 'neg'}]},\n",
    "    {'name': 'Epithelial',\n",
    "        'strategy': [{'channel': 'Pan-Cytokeratin', 'value': val, 'direction': 'pos'}]},\n",
    "    {'name': 'Epithelial',\n",
    "        'strategy': [{'channel': 'CA9', 'value': val, 'direction': 'pos'}]},\n",
    "    {'name': 'Epithelial',\n",
    "        'strategy': [{'channel': 'LRP2', 'value': val, 'direction': 'pos'}]},\n",
    "    {'name': 'CD4 T cell',\n",
    "        'strategy': [\n",
    "            {'channel': 'CD3e', 'value': val, 'direction': 'pos'},\n",
    "            {'channel': 'CD4', 'value': val, 'direction': 'pos'},\n",
    "        ]},\n",
    "    {'name': 'CD8 T cell',\n",
    "        'strategy': [\n",
    "            {'channel': 'CD3e', 'value': val, 'direction': 'pos'},\n",
    "            {'channel': 'CD8', 'value': val, 'direction': 'pos'}]},\n",
    "    {'name': 'T cell',\n",
    "        'strategy': [{'channel': 'CD3e', 'value': val, 'direction': 'pos'}]},\n",
    "    {'name': 'Macrophage',\n",
    "        'strategy': [\n",
    "            {'channel': 'CD68', 'value': val, 'direction': 'pos'},\n",
    "        ]},\n",
    "    {'name': 'Dendritic', \n",
    "        'strategy': [\n",
    "            {'channel': 'CD11b', 'value': val, 'direction': 'pos'},\n",
    "            {'channel': 'CD3e', 'value': val, 'direction': 'neg'}\n",
    "        ]},\n",
    "    {'name': 'B cell',\n",
    "        'strategy': [\n",
    "            {'channel': 'CD20', 'value': val, 'direction': 'pos'},\n",
    "            {'channel': 'Pan-Cytokeratin', 'value': val, 'direction': 'neg'},\n",
    "            {'channel': 'E-cadherin', 'value': val, 'direction': 'neg'}]},\n",
    "    {'name': 'Endothelial',\n",
    "        'strategy': [{'channel': 'CD31', 'value': val, 'direction': 'pos'}]},\n",
    "    {'name': 'Immune',\n",
    "        'strategy': [{'channel': 'CD45', 'value': val, 'direction': 'pos'}]},\n",
    "    {'name': 'Immune',\n",
    "        'strategy': [{'channel': 'CD11b', 'value': val, 'direction': 'pos'}]},\n",
    "    {'name': 'Immune',\n",
    "        'strategy': [{'channel': 'CD4', 'value': val, 'direction': 'pos'}]},\n",
    "    {'name': 'Immune',\n",
    "        'strategy': [{'channel': 'HLA-DR', 'value': val, 'direction': 'pos'}]},\n",
    "    {'name': 'Fibroblast',\n",
    "        'strategy': [{'channel': 'SMA', 'value': val, 'direction': 'pos'}]},\n",
    "    {'name': 'Fibroblast',\n",
    "        'strategy': [{'channel': 'Podoplanin', 'value': val, 'direction': 'pos'}]}\n",
    "]"
   ]
  },
  {
   "cell_type": "markdown",
   "id": "df005991",
   "metadata": {
    "heading_collapsed": true
   },
   "source": [
    "###### HT413C1-K2"
   ]
  },
  {
   "cell_type": "code",
   "execution_count": null,
   "id": "f2c5b372",
   "metadata": {
    "hidden": true
   },
   "outputs": [],
   "source": [
    "case = 'HT413C1-K2'\n",
    "runs = [\n",
    "    '2023-04-27_HT339B2__HT413C1__HT553P1__HT565B1',\n",
    "]\n",
    "\n",
    "metadata = pd.read_csv(specimen_metadata_fp, sep='\\t')\n",
    "metadata = metadata[[True if x in runs else False for x in metadata['omero_run_name']]]\n",
    "metadata = metadata[[True if case in x else False for x in metadata['specimen']]]\n",
    "\n",
    "output_dir = os.path.join(parent_dir, case)\n",
    "spatial_dir = os.path.join(output_dir, 'spatial_features')\n",
    "Path(spatial_dir).mkdir(parents=True, exist_ok=True)\n",
    "\n",
    "metadata"
   ]
  },
  {
   "cell_type": "code",
   "execution_count": null,
   "id": "e1277154",
   "metadata": {
    "hidden": true
   },
   "outputs": [],
   "source": [
    "qc_channel_names()"
   ]
  },
  {
   "cell_type": "code",
   "execution_count": null,
   "id": "00f3ab99",
   "metadata": {
    "hidden": true,
    "scrolled": true
   },
   "outputs": [],
   "source": [
    "channel_thresholds = get_channel_thresholds()\n",
    "channel_thresholds.keys(), next(iter(channel_thresholds.values()))"
   ]
  },
  {
   "cell_type": "code",
   "execution_count": null,
   "id": "3bc731b9",
   "metadata": {
    "hidden": true
   },
   "outputs": [],
   "source": [
    "val = .05\n",
    "gating_strategy = [\n",
    "    {'name': 'Epithelial',\n",
    "        'strategy': [{'channel': 'Pan-Cytokeratin', 'value': val, 'direction': 'pos'}]},\n",
    "    {'name': 'CD4 T cell',\n",
    "        'strategy': [\n",
    "            {'channel': 'CD3e', 'value': val, 'direction': 'pos'},\n",
    "            {'channel': 'CD4', 'value': val, 'direction': 'pos'},\n",
    "        ]},\n",
    "    {'name': 'CD8 T cell',\n",
    "        'strategy': [\n",
    "            {'channel': 'CD3e', 'value': val, 'direction': 'pos'},\n",
    "            {'channel': 'CD8', 'value': val, 'direction': 'pos'}]},\n",
    "    {'name': 'T cell',\n",
    "        'strategy': [{'channel': 'CD3e', 'value': val, 'direction': 'pos'}]},\n",
    "    {'name': 'Macrophage',\n",
    "        'strategy': [\n",
    "            {'channel': 'CD68', 'value': val, 'direction': 'pos'},\n",
    "        ]},\n",
    "    {'name': 'Dendritic', \n",
    "        'strategy': [\n",
    "            {'channel': 'CD11b', 'value': val, 'direction': 'pos'},\n",
    "            {'channel': 'CD3e', 'value': val, 'direction': 'neg'}\n",
    "        ]},\n",
    "    {'name': 'B cell',\n",
    "        'strategy': [\n",
    "            {'channel': 'CD20', 'value': val, 'direction': 'pos'},\n",
    "            {'channel': 'Pan-Cytokeratin', 'value': val, 'direction': 'neg'},\n",
    "            {'channel': 'E-cadherin', 'value': val, 'direction': 'neg'}]},\n",
    "    {'name': 'Endothelial',\n",
    "        'strategy': [{'channel': 'CD31', 'value': val, 'direction': 'pos'}]},\n",
    "    {'name': 'Immune',\n",
    "        'strategy': [{'channel': 'CD45', 'value': val, 'direction': 'pos'}]},\n",
    "    {'name': 'Immune',\n",
    "        'strategy': [{'channel': 'CD11b', 'value': val, 'direction': 'pos'}]},\n",
    "    {'name': 'Immune',\n",
    "        'strategy': [{'channel': 'CD4', 'value': val, 'direction': 'pos'}]},\n",
    "    {'name': 'Immune',\n",
    "        'strategy': [{'channel': 'HLA-DR', 'value': val, 'direction': 'pos'}]},\n",
    "    {'name': 'Fibroblast',\n",
    "        'strategy': [{'channel': 'SMA', 'value': val, 'direction': 'pos'}]},\n",
    "    {'name': 'Fibroblast',\n",
    "        'strategy': [{'channel': 'Podoplanin', 'value': val, 'direction': 'pos'}]}\n",
    "]"
   ]
  },
  {
   "cell_type": "markdown",
   "id": "e082d232",
   "metadata": {
    "heading_collapsed": true
   },
   "source": [
    "###### HT339B2-H1"
   ]
  },
  {
   "cell_type": "code",
   "execution_count": null,
   "id": "419faa19",
   "metadata": {
    "hidden": true
   },
   "outputs": [],
   "source": [
    "case = 'HT339B2-H1'\n",
    "runs = [\n",
    "    '2023-04-27_HT339B2__HT413C1__HT553P1__HT565B1',\n",
    "]\n",
    "\n",
    "metadata = pd.read_csv(specimen_metadata_fp, sep='\\t')\n",
    "metadata = metadata[[True if x in runs else False for x in metadata['omero_run_name']]]\n",
    "metadata = metadata[[True if case in x else False for x in metadata['specimen']]]\n",
    "\n",
    "output_dir = os.path.join(parent_dir, case)\n",
    "spatial_dir = os.path.join(output_dir, 'spatial_features')\n",
    "Path(spatial_dir).mkdir(parents=True, exist_ok=True)\n",
    "\n",
    "metadata"
   ]
  },
  {
   "cell_type": "code",
   "execution_count": null,
   "id": "3f2a2f7a",
   "metadata": {
    "hidden": true
   },
   "outputs": [],
   "source": [
    "qc_channel_names()"
   ]
  },
  {
   "cell_type": "code",
   "execution_count": null,
   "id": "8737ba30",
   "metadata": {
    "hidden": true,
    "scrolled": true
   },
   "outputs": [],
   "source": [
    "channel_thresholds = get_channel_thresholds()\n",
    "channel_thresholds.keys(), next(iter(channel_thresholds.values()))"
   ]
  },
  {
   "cell_type": "code",
   "execution_count": null,
   "id": "2b73f524",
   "metadata": {
    "hidden": true
   },
   "outputs": [],
   "source": [
    "val = .05\n",
    "gating_strategy = [\n",
    "    {'name': 'Epithelial',\n",
    "        'strategy': [{'channel': 'Pan-Cytokeratin', 'value': val, 'direction': 'pos'}]},\n",
    "    {'name': 'CD4 T cell',\n",
    "        'strategy': [\n",
    "            {'channel': 'CD3e', 'value': val, 'direction': 'pos'},\n",
    "            {'channel': 'CD4', 'value': val, 'direction': 'pos'},\n",
    "        ]},\n",
    "    {'name': 'CD8 T cell',\n",
    "        'strategy': [\n",
    "            {'channel': 'CD3e', 'value': val, 'direction': 'pos'},\n",
    "            {'channel': 'CD8', 'value': val, 'direction': 'pos'}]},\n",
    "    {'name': 'T cell',\n",
    "        'strategy': [{'channel': 'CD3e', 'value': val, 'direction': 'pos'}]},\n",
    "    {'name': 'Macrophage',\n",
    "        'strategy': [\n",
    "            {'channel': 'CD68', 'value': val, 'direction': 'pos'},\n",
    "        ]},\n",
    "    {'name': 'Dendritic', \n",
    "        'strategy': [\n",
    "            {'channel': 'CD11b', 'value': val, 'direction': 'pos'},\n",
    "            {'channel': 'CD3e', 'value': val, 'direction': 'neg'}\n",
    "        ]},\n",
    "    {'name': 'B cell',\n",
    "        'strategy': [\n",
    "            {'channel': 'CD20', 'value': val, 'direction': 'pos'},\n",
    "            {'channel': 'Pan-Cytokeratin', 'value': val, 'direction': 'neg'},\n",
    "            {'channel': 'E-cadherin', 'value': val, 'direction': 'neg'}]},\n",
    "    {'name': 'Endothelial',\n",
    "        'strategy': [{'channel': 'CD31', 'value': val, 'direction': 'pos'}]},\n",
    "    {'name': 'Immune',\n",
    "        'strategy': [{'channel': 'CD45', 'value': val, 'direction': 'pos'}]},\n",
    "    {'name': 'Immune',\n",
    "        'strategy': [{'channel': 'CD11b', 'value': val, 'direction': 'pos'}]},\n",
    "    {'name': 'Immune',\n",
    "        'strategy': [{'channel': 'CD4', 'value': val, 'direction': 'pos'}]},\n",
    "    {'name': 'Immune',\n",
    "        'strategy': [{'channel': 'HLA-DR', 'value': val, 'direction': 'pos'}]},\n",
    "    {'name': 'Fibroblast',\n",
    "        'strategy': [{'channel': 'SMA', 'value': val, 'direction': 'pos'}]},\n",
    "    {'name': 'Fibroblast',\n",
    "        'strategy': [{'channel': 'Podoplanin', 'value': val, 'direction': 'pos'}]}\n",
    "]"
   ]
  },
  {
   "cell_type": "markdown",
   "id": "9529de57",
   "metadata": {
    "heading_collapsed": true
   },
   "source": [
    "###### HT553P1-H2"
   ]
  },
  {
   "cell_type": "code",
   "execution_count": null,
   "id": "4701036b",
   "metadata": {
    "hidden": true
   },
   "outputs": [],
   "source": [
    "case = 'HT553P1-H2'\n",
    "runs = [\n",
    "    '2023-04-27_HT339B2__HT413C1__HT553P1__HT565B1',\n",
    "]\n",
    "\n",
    "metadata = pd.read_csv(specimen_metadata_fp, sep='\\t')\n",
    "metadata = metadata[[True if x in runs else False for x in metadata['omero_run_name']]]\n",
    "metadata = metadata[[True if case in x else False for x in metadata['specimen']]]\n",
    "\n",
    "output_dir = os.path.join(parent_dir, case)\n",
    "spatial_dir = os.path.join(output_dir, 'spatial_features')\n",
    "Path(spatial_dir).mkdir(parents=True, exist_ok=True)\n",
    "\n",
    "metadata"
   ]
  },
  {
   "cell_type": "code",
   "execution_count": null,
   "id": "bde253ed",
   "metadata": {
    "hidden": true
   },
   "outputs": [],
   "source": [
    "qc_channel_names()"
   ]
  },
  {
   "cell_type": "code",
   "execution_count": null,
   "id": "bd756634",
   "metadata": {
    "hidden": true,
    "scrolled": true
   },
   "outputs": [],
   "source": [
    "channel_thresholds = get_channel_thresholds()\n",
    "channel_thresholds.keys(), next(iter(channel_thresholds.values()))"
   ]
  },
  {
   "cell_type": "code",
   "execution_count": null,
   "id": "2030f169",
   "metadata": {
    "hidden": true
   },
   "outputs": [],
   "source": [
    "val = .05\n",
    "gating_strategy = [\n",
    "    {'name': 'Epithelial',\n",
    "        'strategy': [{'channel': 'Pan-Cytokeratin', 'value': val, 'direction': 'pos'}]},\n",
    "    {'name': 'CD4 T cell',\n",
    "        'strategy': [\n",
    "            {'channel': 'CD3e', 'value': val, 'direction': 'pos'},\n",
    "            {'channel': 'CD4', 'value': val, 'direction': 'pos'},\n",
    "        ]},\n",
    "    {'name': 'CD8 T cell',\n",
    "        'strategy': [\n",
    "            {'channel': 'CD3e', 'value': val, 'direction': 'pos'},\n",
    "            {'channel': 'CD8', 'value': val, 'direction': 'pos'}]},\n",
    "    {'name': 'T cell',\n",
    "        'strategy': [{'channel': 'CD3e', 'value': val, 'direction': 'pos'}]},\n",
    "    {'name': 'Macrophage',\n",
    "        'strategy': [\n",
    "            {'channel': 'CD68', 'value': val, 'direction': 'pos'},\n",
    "        ]},\n",
    "    {'name': 'Dendritic', \n",
    "        'strategy': [\n",
    "            {'channel': 'CD11b', 'value': val, 'direction': 'pos'},\n",
    "            {'channel': 'CD3e', 'value': val, 'direction': 'neg'}\n",
    "        ]},\n",
    "    {'name': 'B cell',\n",
    "        'strategy': [\n",
    "            {'channel': 'CD20', 'value': val, 'direction': 'pos'},\n",
    "            {'channel': 'Pan-Cytokeratin', 'value': val, 'direction': 'neg'},\n",
    "            {'channel': 'E-cadherin', 'value': val, 'direction': 'neg'}]},\n",
    "    {'name': 'Endothelial',\n",
    "        'strategy': [{'channel': 'CD31', 'value': val, 'direction': 'pos'}]},\n",
    "    {'name': 'Immune',\n",
    "        'strategy': [{'channel': 'CD45', 'value': val, 'direction': 'pos'}]},\n",
    "    {'name': 'Immune',\n",
    "        'strategy': [{'channel': 'CD11b', 'value': val, 'direction': 'pos'}]},\n",
    "    {'name': 'Immune',\n",
    "        'strategy': [{'channel': 'CD4', 'value': val, 'direction': 'pos'}]},\n",
    "    {'name': 'Immune',\n",
    "        'strategy': [{'channel': 'HLA-DR', 'value': val, 'direction': 'pos'}]},\n",
    "    {'name': 'Fibroblast',\n",
    "        'strategy': [{'channel': 'SMA', 'value': val, 'direction': 'pos'}]},\n",
    "    {'name': 'Fibroblast',\n",
    "        'strategy': [{'channel': 'Podoplanin', 'value': val, 'direction': 'pos'}]}\n",
    "]"
   ]
  },
  {
   "cell_type": "markdown",
   "id": "ddc1d39c",
   "metadata": {
    "heading_collapsed": true
   },
   "source": [
    "###### HT565B1-H2"
   ]
  },
  {
   "cell_type": "code",
   "execution_count": null,
   "id": "a7fef7f3",
   "metadata": {
    "hidden": true
   },
   "outputs": [],
   "source": [
    "case = 'HT565B1-H2'\n",
    "runs = [\n",
    "    '2023-04-27_HT339B2__HT413C1__HT553P1__HT565B1',\n",
    "]\n",
    "\n",
    "metadata = pd.read_csv(specimen_metadata_fp, sep='\\t')\n",
    "metadata = metadata[[True if x in runs else False for x in metadata['omero_run_name']]]\n",
    "metadata = metadata[[True if case in x else False for x in metadata['specimen']]]\n",
    "\n",
    "output_dir = os.path.join(parent_dir, case)\n",
    "spatial_dir = os.path.join(output_dir, 'spatial_features')\n",
    "Path(spatial_dir).mkdir(parents=True, exist_ok=True)\n",
    "\n",
    "metadata"
   ]
  },
  {
   "cell_type": "code",
   "execution_count": null,
   "id": "bbd9bf76",
   "metadata": {
    "hidden": true
   },
   "outputs": [],
   "source": [
    "qc_channel_names()"
   ]
  },
  {
   "cell_type": "code",
   "execution_count": null,
   "id": "3bde0cdb",
   "metadata": {
    "hidden": true,
    "scrolled": true
   },
   "outputs": [],
   "source": [
    "channel_thresholds = get_channel_thresholds()\n",
    "channel_thresholds.keys(), next(iter(channel_thresholds.values()))"
   ]
  },
  {
   "cell_type": "code",
   "execution_count": null,
   "id": "f16bd38c",
   "metadata": {
    "hidden": true
   },
   "outputs": [],
   "source": [
    "val = .05\n",
    "gating_strategy = [\n",
    "    {'name': 'Epithelial',\n",
    "        'strategy': [{'channel': 'Pan-Cytokeratin', 'value': val, 'direction': 'pos'}]},\n",
    "    {'name': 'CD4 T cell',\n",
    "        'strategy': [\n",
    "            {'channel': 'CD3e', 'value': val, 'direction': 'pos'},\n",
    "            {'channel': 'CD4', 'value': val, 'direction': 'pos'},\n",
    "        ]},\n",
    "    {'name': 'CD8 T cell',\n",
    "        'strategy': [\n",
    "            {'channel': 'CD3e', 'value': val, 'direction': 'pos'},\n",
    "            {'channel': 'CD8', 'value': val, 'direction': 'pos'}]},\n",
    "    {'name': 'T cell',\n",
    "        'strategy': [{'channel': 'CD3e', 'value': val, 'direction': 'pos'}]},\n",
    "    {'name': 'Macrophage',\n",
    "        'strategy': [\n",
    "            {'channel': 'CD68', 'value': val, 'direction': 'pos'},\n",
    "        ]},\n",
    "    {'name': 'Dendritic', \n",
    "        'strategy': [\n",
    "            {'channel': 'CD11b', 'value': val, 'direction': 'pos'},\n",
    "            {'channel': 'CD3e', 'value': val, 'direction': 'neg'}\n",
    "        ]},\n",
    "    {'name': 'B cell',\n",
    "        'strategy': [\n",
    "            {'channel': 'CD20', 'value': val, 'direction': 'pos'},\n",
    "            {'channel': 'Pan-Cytokeratin', 'value': val, 'direction': 'neg'},\n",
    "            {'channel': 'E-cadherin', 'value': val, 'direction': 'neg'}]},\n",
    "    {'name': 'Endothelial',\n",
    "        'strategy': [{'channel': 'CD31', 'value': val, 'direction': 'pos'}]},\n",
    "    {'name': 'Immune',\n",
    "        'strategy': [{'channel': 'CD45', 'value': val, 'direction': 'pos'}]},\n",
    "    {'name': 'Immune',\n",
    "        'strategy': [{'channel': 'CD11b', 'value': val, 'direction': 'pos'}]},\n",
    "    {'name': 'Immune',\n",
    "        'strategy': [{'channel': 'CD4', 'value': val, 'direction': 'pos'}]},\n",
    "    {'name': 'Immune',\n",
    "        'strategy': [{'channel': 'HLA-DR', 'value': val, 'direction': 'pos'}]},\n",
    "    {'name': 'Fibroblast',\n",
    "        'strategy': [{'channel': 'SMA', 'value': val, 'direction': 'pos'}]},\n",
    "    {'name': 'Fibroblast',\n",
    "        'strategy': [{'channel': 'Podoplanin', 'value': val, 'direction': 'pos'}]}\n",
    "]"
   ]
  },
  {
   "cell_type": "markdown",
   "id": "39707163",
   "metadata": {
    "heading_collapsed": true
   },
   "source": [
    "###### HT448C1-Th1K1Fp1"
   ]
  },
  {
   "cell_type": "code",
   "execution_count": null,
   "id": "dd2d9ebc",
   "metadata": {
    "hidden": true
   },
   "outputs": [],
   "source": [
    "case = 'HT448C1-Th1K1Fp1'\n",
    "runs = [\n",
    "    '2023-04-13_HT488C1',\n",
    "    '2023-04-19_HT488C1'\n",
    "]\n",
    "\n",
    "metadata = pd.read_csv(specimen_metadata_fp, sep='\\t')\n",
    "metadata = metadata[[True if x in runs else False for x in metadata['omero_run_name']]]\n",
    "# metadata = metadata[[True if case in x else False for x in metadata['specimen']]]\n",
    "\n",
    "output_dir = os.path.join(parent_dir, case)\n",
    "spatial_dir = os.path.join(output_dir, 'spatial_features')\n",
    "Path(spatial_dir).mkdir(parents=True, exist_ok=True)\n",
    "\n",
    "metadata"
   ]
  },
  {
   "cell_type": "code",
   "execution_count": null,
   "id": "9e6af128",
   "metadata": {
    "hidden": true
   },
   "outputs": [],
   "source": [
    "qc_channel_names()"
   ]
  },
  {
   "cell_type": "code",
   "execution_count": null,
   "id": "bcd47267",
   "metadata": {
    "hidden": true,
    "scrolled": true
   },
   "outputs": [],
   "source": [
    "channel_thresholds = get_channel_thresholds()\n",
    "channel_thresholds.keys(), next(iter(channel_thresholds.values()))"
   ]
  },
  {
   "cell_type": "code",
   "execution_count": null,
   "id": "a37f7aa6",
   "metadata": {
    "hidden": true
   },
   "outputs": [],
   "source": [
    "val = .05\n",
    "gating_strategy = [\n",
    "    {'name': 'Epithelial',\n",
    "        'strategy': [{'channel': 'Pan-Cytokeratin', 'value': val, 'direction': 'pos'}]},\n",
    "    {'name': 'CD4 T cell',\n",
    "        'strategy': [\n",
    "            {'channel': 'CD3e', 'value': val, 'direction': 'pos'},\n",
    "            {'channel': 'CD4', 'value': val, 'direction': 'pos'},\n",
    "        ]},\n",
    "    {'name': 'CD8 T cell',\n",
    "        'strategy': [\n",
    "            {'channel': 'CD3e', 'value': val, 'direction': 'pos'},\n",
    "            {'channel': 'CD8', 'value': val, 'direction': 'pos'}]},\n",
    "    {'name': 'T cell',\n",
    "        'strategy': [{'channel': 'CD3e', 'value': val, 'direction': 'pos'}]},\n",
    "    {'name': 'Macrophage',\n",
    "        'strategy': [\n",
    "            {'channel': 'CD68', 'value': val, 'direction': 'pos'},\n",
    "        ]},\n",
    "    {'name': 'Dendritic', \n",
    "        'strategy': [\n",
    "            {'channel': 'CD11b', 'value': val, 'direction': 'pos'},\n",
    "            {'channel': 'CD3e', 'value': val, 'direction': 'neg'}\n",
    "        ]},\n",
    "    {'name': 'B cell',\n",
    "        'strategy': [\n",
    "            {'channel': 'CD20', 'value': val, 'direction': 'pos'},\n",
    "            {'channel': 'Pan-Cytokeratin', 'value': val, 'direction': 'neg'},\n",
    "            {'channel': 'E-cadherin', 'value': val, 'direction': 'neg'}]},\n",
    "    {'name': 'Endothelial',\n",
    "        'strategy': [{'channel': 'CD31', 'value': val, 'direction': 'pos'}]},\n",
    "    {'name': 'Immune',\n",
    "        'strategy': [{'channel': 'CD45', 'value': val, 'direction': 'pos'}]},\n",
    "    {'name': 'Immune',\n",
    "        'strategy': [{'channel': 'CD11b', 'value': val, 'direction': 'pos'}]},\n",
    "    {'name': 'Immune',\n",
    "        'strategy': [{'channel': 'CD4', 'value': val, 'direction': 'pos'}]},\n",
    "    {'name': 'Immune',\n",
    "        'strategy': [{'channel': 'HLA-DR', 'value': val, 'direction': 'pos'}]},\n",
    "    {'name': 'Fibroblast',\n",
    "        'strategy': [{'channel': 'SMA', 'value': val, 'direction': 'pos'}]},\n",
    "    {'name': 'Fibroblast',\n",
    "        'strategy': [{'channel': 'Podoplanin', 'value': val, 'direction': 'pos'}]}\n",
    "]"
   ]
  },
  {
   "cell_type": "code",
   "execution_count": null,
   "id": "af63681d",
   "metadata": {
    "hidden": true
   },
   "outputs": [],
   "source": []
  },
  {
   "cell_type": "markdown",
   "id": "e9223428",
   "metadata": {},
   "source": [
    "## gate cells"
   ]
  },
  {
   "cell_type": "code",
   "execution_count": null,
   "id": "382e7ec7",
   "metadata": {},
   "outputs": [],
   "source": [
    "set(specimen_to_ome.keys()), set(specimen_to_seg.keys())"
   ]
  },
  {
   "cell_type": "code",
   "execution_count": null,
   "id": "26fefa6f",
   "metadata": {},
   "outputs": [],
   "source": [
    "fps = sorted(utils.listfiles(output_dir, f'cell_segmentation.tif$'))\n",
    "specimen_to_ome = {specimen:fp for specimen, fp in zip(metadata['specimen'], metadata['filepath'])}\n",
    "specimen_to_seg = {fp.split('/')[-1].replace('_cell_segmentation.tif', ''):fp for fp in fps}\n",
    "set(specimen_to_ome.keys()) - set(specimen_to_seg.keys())"
   ]
  },
  {
   "cell_type": "code",
   "execution_count": null,
   "id": "71f681a4",
   "metadata": {},
   "outputs": [],
   "source": [
    "assert sorted([fp.split('/')[-1] for fp in specimen_to_ome.values()]) == sorted(channel_thresholds.keys())"
   ]
  },
  {
   "cell_type": "code",
   "execution_count": null,
   "id": "9e20e9e2",
   "metadata": {},
   "outputs": [],
   "source": [
    "# sorted([fp.split('/')[-1] for fp in specimen_to_ome.values()]), sorted(channel_thresholds.keys())"
   ]
  },
  {
   "cell_type": "code",
   "execution_count": null,
   "id": "3abbb8db",
   "metadata": {
    "scrolled": true
   },
   "outputs": [],
   "source": [
    "for specimen, ome_fp in specimen_to_ome.items():\n",
    "    print(specimen)\n",
    "    seg_fp = specimen_to_seg[specimen]\n",
    "    thresholds = channel_thresholds[ome_fp.split('/')[-1]]\n",
    "    \n",
    "    df, a = mip.get_spatial_features(seg_fp, ome_fp, thresholds=thresholds, gating_strategy=gating_strategy)\n",
    "    a.write_h5ad(os.path.join(spatial_dir, f'{specimen}_spatial_features.h5ad'))\n",
    "    df.to_csv(os.path.join(spatial_dir, f'{specimen}_spatial_features.txt'), sep='\\t', index=False)"
   ]
  },
  {
   "cell_type": "code",
   "execution_count": null,
   "id": "816db9e6",
   "metadata": {},
   "outputs": [],
   "source": [
    "fps = sorted(utils.listfiles(spatial_dir, regex=r'_spatial_features.txt'))\n",
    "fps"
   ]
  },
  {
   "cell_type": "code",
   "execution_count": null,
   "id": "54a299a9",
   "metadata": {},
   "outputs": [],
   "source": [
    "df = pd.read_csv(next(iter(fps)), sep='\\t')\n",
    "df"
   ]
  },
  {
   "cell_type": "code",
   "execution_count": null,
   "id": "d61f1f51",
   "metadata": {},
   "outputs": [],
   "source": [
    "cell_types = sorted(set([x['name'] for x in gating_strategy]))\n",
    "cell_types.append('Unlabeled')\n",
    "cmap = sns.color_palette('tab20') + sns.color_palette('tab20b') + sns.color_palette('tab20c')\n",
    "cell_type_to_color = {ct:c for ct, c in zip(cell_types, cmap)}"
   ]
  },
  {
   "cell_type": "code",
   "execution_count": null,
   "id": "e19b68ba",
   "metadata": {},
   "outputs": [],
   "source": [
    "def format_axis(ax):\n",
    "    ax.invert_yaxis()\n",
    "    ax.axis('equal')\n",
    "    ax.set_xticks([])\n",
    "    ax.set_yticks([])\n",
    "    ax.title.set_fontsize(8)\n",
    "    ax.yaxis.label.set_fontsize(6)\n",
    "\n",
    "nrows, ncols = len(fps), len(cell_types) + 1\n",
    "fig, axs = plt.subplots(nrows=nrows, ncols=ncols, figsize=(ncols, nrows))\n",
    "if nrows == 1:\n",
    "    axs = rearrange(axs, 'n -> 1 n')\n",
    "for i, fp in enumerate(fps):\n",
    "    ax = axs[i, 0]\n",
    "    sid = fp.split('/')[-1].replace('_spatial_features.txt', '')\n",
    "    df = pd.read_csv(fp, sep='\\t')\n",
    "    ax.scatter(df['col'], df['row'], c=[cell_type_to_color[x] for x in df['cell_type']], s=.02, marker='.')\n",
    "    ax.set_ylabel(sid, rotation=0)\n",
    "    if i == 0:\n",
    "        ax.set_title('cell_type', rotation=90)\n",
    "    format_axis(ax)\n",
    "    \n",
    "    for j, ct in enumerate(cell_types):\n",
    "        ax = axs[i, j + 1]\n",
    "        f = df[df['cell_type']==ct]\n",
    "        ax.scatter(f['col'], f['row'], s=.02, marker='.')\n",
    "        \n",
    "        if i == 0:\n",
    "            ax.set_title(ct, rotation=90)\n",
    "        format_axis(ax)\n",
    "\n",
    "plt.savefig(os.path.join(spatial_dir, f'cell_types.png'))"
   ]
  },
  {
   "cell_type": "code",
   "execution_count": null,
   "id": "b50f007b",
   "metadata": {},
   "outputs": [],
   "source": [
    "data, sids = [], []\n",
    "for i, fp in enumerate(fps):\n",
    "    sid = fp.split('/')[-1].replace('_spatial_features.txt', '')\n",
    "    df = pd.read_csv(fp, sep='\\t')\n",
    "    counts = Counter(df['cell_type'])\n",
    "    data.append([counts.get(ct, 0) for ct in cell_types])\n",
    "    sids.append(sid)\n",
    "count_df = pd.DataFrame(data=data, columns=cell_types, index=sids)\n",
    "count_df"
   ]
  },
  {
   "cell_type": "code",
   "execution_count": null,
   "id": "68524933",
   "metadata": {},
   "outputs": [],
   "source": [
    "frac_df = count_df.copy()\n",
    "frac_df /= count_df.values.sum(1, keepdims=True)\n",
    "frac_df"
   ]
  },
  {
   "cell_type": "code",
   "execution_count": null,
   "id": "c1678736",
   "metadata": {},
   "outputs": [],
   "source": []
  },
  {
   "cell_type": "code",
   "execution_count": null,
   "id": "5347b36c",
   "metadata": {},
   "outputs": [],
   "source": []
  }
 ],
 "metadata": {
  "kernelspec": {
   "display_name": "Python 3 (ipykernel)",
   "language": "python",
   "name": "python3"
  },
  "language_info": {
   "codemirror_mode": {
    "name": "ipython",
    "version": 3
   },
   "file_extension": ".py",
   "mimetype": "text/x-python",
   "name": "python",
   "nbconvert_exporter": "python",
   "pygments_lexer": "ipython3",
   "version": "3.10.13"
  }
 },
 "nbformat": 4,
 "nbformat_minor": 5
}
