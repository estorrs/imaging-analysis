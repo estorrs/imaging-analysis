{
 "cells": [
  {
   "cell_type": "code",
   "execution_count": 24,
   "id": "8f1e490f",
   "metadata": {},
   "outputs": [],
   "source": [
    "import logging\n",
    "import json\n",
    "import os\n",
    "import re\n",
    "from pathlib import Path\n",
    "from collections import Counter\n",
    "\n",
    "import anndata\n",
    "import matplotlib.pyplot as plt\n",
    "import pandas as pd\n",
    "import numpy as np\n",
    "import seaborn as sns\n",
    "import tifffile\n",
    "from einops import rearrange\n",
    "from skimage.measure import regionprops"
   ]
  },
  {
   "cell_type": "code",
   "execution_count": 2,
   "id": "069689f8",
   "metadata": {},
   "outputs": [],
   "source": [
    "%load_ext autoreload"
   ]
  },
  {
   "cell_type": "code",
   "execution_count": 3,
   "id": "599a72a9",
   "metadata": {},
   "outputs": [],
   "source": [
    "%autoreload 2"
   ]
  },
  {
   "cell_type": "code",
   "execution_count": 4,
   "id": "447d9928",
   "metadata": {},
   "outputs": [
    {
     "name": "stderr",
     "output_type": "stream",
     "text": [
      "2024-02-14 08:28:57.892569: W tensorflow/stream_executor/platform/default/dso_loader.cc:64] Could not load dynamic library 'libcudart.so.11.0'; dlerror: libcudart.so.11.0: cannot open shared object file: No such file or directory; LD_LIBRARY_PATH: /diskmnt/Projects/Users/estorrs/miniconda3/envs/imaging_analysis_v2/lib/python3.10/site-packages/cv2/../../lib64:/usr/local/lib:/usr/lib64:/usr/local/lib:/usr/lib64:\n",
      "2024-02-14 08:28:57.892608: I tensorflow/stream_executor/cuda/cudart_stub.cc:29] Ignore above cudart dlerror if you do not have a GPU set up on your machine.\n"
     ]
    }
   ],
   "source": [
    "import multiplex_imaging_pipeline.utils as utils\n",
    "import multiplex_imaging_pipeline.ome as ome\n",
    "import multiplex_imaging_pipeline.segmentation as seg\n",
    "import multiplex_imaging_pipeline.multiplex_imaging_pipeline as mip\n",
    "from multiplex_imaging_pipeline.spatial_features import DEFAULT_GATING_STRATEGY"
   ]
  },
  {
   "cell_type": "code",
   "execution_count": 63,
   "id": "1854f1d3",
   "metadata": {},
   "outputs": [],
   "source": [
    "parent_dir = f'/diskmnt/Projects/Users/estorrs/imaging-analysis/results/mushroom'\n",
    "specimen_metadata_fp = '/diskmnt/Projects/Users/estorrs/sandbox/specimen_tracking.tsv'"
   ]
  },
  {
   "cell_type": "markdown",
   "id": "5caa41dc",
   "metadata": {},
   "source": [
    "## Define inputs"
   ]
  },
  {
   "cell_type": "code",
   "execution_count": 64,
   "id": "34ac0dd3",
   "metadata": {},
   "outputs": [],
   "source": [
    "def qc_channel_names():\n",
    "    mapping = utils.R_CHANNEL_MAPPING\n",
    "    for fp in metadata['filepath']:\n",
    "        channels = utils.get_ome_tiff_channels(fp)\n",
    "        for c in channels:\n",
    "            assert c in mapping, f'channel {c} is not in channel mapping, to ensure all channel names match consider adding {c} to channel mapping. If you do not it may impact cell gating.'\n",
    "\n",
    "        print(fp, [mapping[c] for c in channels])\n",
    "        \n",
    "def get_channel_thresholds():\n",
    "    channel_thresholds = json.load(open(os.path.join(output_dir, 'channel_thresholds.json')))\n",
    "    channel_thresholds = {k.split(' | ')[-1]:v for k, v in channel_thresholds.items()} # fps should be unique\n",
    "    return channel_thresholds"
   ]
  },
  {
   "cell_type": "markdown",
   "id": "a5470678",
   "metadata": {
    "heading_collapsed": true
   },
   "source": [
    "###### HT413C1-Th1k4A1"
   ]
  },
  {
   "cell_type": "code",
   "execution_count": 104,
   "id": "adaa84c7",
   "metadata": {
    "hidden": true
   },
   "outputs": [],
   "source": [
    "case = 'HT413C1-Th1k4A1'\n",
    "runs = [\n",
    "    '2024-01-11_HT413C1_Th1k4A1',\n",
    "    '2024-01-10_HT413C1_Th1k4A1'\n",
    "]\n",
    "\n",
    "metadata = pd.read_csv(specimen_metadata_fp, sep='\\t')\n",
    "metadata = metadata[[True if x in runs else False for x in metadata['omero_run_name']]]\n",
    "\n",
    "output_dir = os.path.join(parent_dir, case)\n",
    "spatial_dir = os.path.join(output_dir, 'spatial_features')\n",
    "Path(spatial_dir).mkdir(parents=True, exist_ok=True)"
   ]
  },
  {
   "cell_type": "code",
   "execution_count": 105,
   "id": "54b7bd24",
   "metadata": {
    "hidden": true
   },
   "outputs": [
    {
     "name": "stdout",
     "output_type": "stream",
     "text": [
      "/diskmnt/primary/CODEX/HTAN/20240111_Human_mCRC_serial_sectrion_HT413C1_Th1k4A1_Slide_8/HT413C1_Th1k4A1_U10__20240111.ome.tiff ['DAPI', 'Podoplanin', 'Pan-Cytokeratin', 'HLA-DR', 'CD8', 'SMA', 'CD45', 'Ki67', 'Hep-Par-1', 'GLUT1', 'CK14', 'CD31', 'CCL2', 'E-cadherin', 'MUC2', 'CD11b', 'SOX9', 'CD20', 'FOXP3', 'P21', 'CK7', 'CD68', 'P16', 'CD4', 'PAI1', 'CD3e', 'CK8/18']\n",
      "/diskmnt/primary/CODEX/HTAN/20240111_Human_mCRC_serial_sectrion_HT413C1_Th1k4A1_Slide_8/HT413C1_Th1k4A1_U26__20240111.ome.tiff ['DAPI', 'Podoplanin', 'Pan-Cytokeratin', 'HLA-DR', 'CD8', 'SMA', 'CD45', 'Ki67', 'Hep-Par-1', 'GLUT1', 'CK14', 'CD31', 'CCL2', 'E-cadherin', 'MUC2', 'CD11b', 'SOX9', 'CD20', 'FOXP3', 'P21', 'CK7', 'CD68', 'P16', 'CD4', 'PAI1', 'CD3e', 'CK8/18']\n",
      "/diskmnt/primary/CODEX/HTAN/20240111_Human_mCRC_serial_sectrion_HT413C1_Th1k4A1_Slide_8/HT413C1_Th1k4A1_U37__20240111.ome.tiff ['DAPI', 'Podoplanin', 'Pan-Cytokeratin', 'HLA-DR', 'CD8', 'SMA', 'CD45', 'Ki67', 'Hep-Par-1', 'GLUT1', 'CK14', 'CD31', 'CCL2', 'E-cadherin', 'MUC2', 'CD11b', 'SOX9', 'CD20', 'FOXP3', 'P21', 'CK7', 'CD68', 'P16', 'CD4', 'PAI1', 'CD3e', 'CK8/18']\n",
      "/diskmnt/primary/CODEX/HTAN/20240111_Human_mCRC_serial_sectrion_HT413C1_Th1k4A1_Slide_8/HT413C1_Th1k4A1_U42__20240111.ome.tiff ['DAPI', 'Podoplanin', 'Pan-Cytokeratin', 'HLA-DR', 'CD8', 'SMA', 'CD45', 'Ki67', 'Hep-Par-1', 'GLUT1', 'CK14', 'CD31', 'CCL2', 'E-cadherin', 'MUC2', 'CD11b', 'SOX9', 'CD20', 'FOXP3', 'P21', 'CK7', 'CD68', 'P16', 'CD4', 'PAI1', 'CD3e', 'CK8/18']\n",
      "/diskmnt/primary/CODEX/HTAN/20240110_Human_mCRC_Serial_section_HT413C1_Th1k4A1_Slide3/HT413C1_Th1k4A1_U3__20240110.ome.tiff ['DAPI', 'Podoplanin', 'Pan-Cytokeratin', 'HLA-DR', 'CD8', 'SMA', 'CD45', 'Ki67', 'Hep-Par-1', 'GLUT1', 'CK14', 'CD31', 'CCL2', 'E-cadherin', 'MUC2', 'CD11b', 'SOX9', 'CD20', 'FOXP3', 'P21', 'CK7', 'CD68', 'P16', 'CD4', 'PAI1', 'CD3e', 'CK8/18']\n",
      "/diskmnt/primary/CODEX/HTAN/20240110_Human_mCRC_Serial_section_HT413C1_Th1k4A1_Slide3/HT413C1_Th1k4A1_U20__20240110.ome.tiff ['DAPI', 'Podoplanin', 'Pan-Cytokeratin', 'HLA-DR', 'CD8', 'SMA', 'CD45', 'Ki67', 'Hep-Par-1', 'GLUT1', 'CK14', 'CD31', 'CCL2', 'E-cadherin', 'MUC2', 'CD11b', 'SOX9', 'CD20', 'FOXP3', 'P21', 'CK7', 'CD68', 'P16', 'CD4', 'PAI1', 'CD3e', 'CK8/18']\n",
      "/diskmnt/primary/CODEX/HTAN/20240110_Human_mCRC_Serial_section_HT413C1_Th1k4A1_Slide3/HT413C1_Th1k4A1_U32__20240110.ome.tiff ['DAPI', 'Podoplanin', 'Pan-Cytokeratin', 'HLA-DR', 'CD8', 'SMA', 'CD45', 'Ki67', 'Hep-Par-1', 'GLUT1', 'CK14', 'CD31', 'CCL2', 'E-cadherin', 'MUC2', 'CD11b', 'SOX9', 'CD20', 'FOXP3', 'P21', 'CK7', 'CD68', 'P16', 'CD4', 'PAI1', 'CD3e', 'CK8/18']\n",
      "/diskmnt/primary/CODEX/HTAN/20240110_Human_mCRC_Serial_section_HT413C1_Th1k4A1_Slide3/HT413C1_Th1k4A1_U41__20240110.ome.tiff ['DAPI', 'Podoplanin', 'Pan-Cytokeratin', 'HLA-DR', 'CD8', 'SMA', 'CD45', 'Ki67', 'Hep-Par-1', 'GLUT1', 'CK14', 'CD31', 'CCL2', 'E-cadherin', 'MUC2', 'CD11b', 'SOX9', 'CD20', 'FOXP3', 'P21', 'CK7', 'CD68', 'P16', 'CD4', 'PAI1', 'CD3e', 'CK8/18']\n"
     ]
    }
   ],
   "source": [
    "qc_channel_names()"
   ]
  },
  {
   "cell_type": "code",
   "execution_count": 106,
   "id": "75930bf0",
   "metadata": {
    "hidden": true
   },
   "outputs": [
    {
     "data": {
      "text/plain": [
       "(dict_keys(['HT413C1_Th1k4A1_U20__20240110.ome.tiff', 'HT413C1_Th1k4A1_U32__20240110.ome.tiff', 'HT413C1_Th1k4A1_U3__20240110.ome.tiff', 'HT413C1_Th1k4A1_U41__20240110.ome.tiff', 'HT413C1_Th1k4A1_U10__20240111.ome.tiff', 'HT413C1_Th1k4A1_U26__20240111.ome.tiff', 'HT413C1_Th1k4A1_U37__20240111.ome.tiff', 'HT413C1_Th1k4A1_U42__20240111.ome.tiff']),\n",
       " {'DAPI': 0.0,\n",
       "  'Podoplanin': 0.0,\n",
       "  'PanCytokeratin': 19.0,\n",
       "  'HLA-DR': 99.0,\n",
       "  'CD8': 10.0,\n",
       "  'SMA (D)': 19.0,\n",
       "  'CD45': 99.0,\n",
       "  'Ki67': 0.0,\n",
       "  'Hep-Par-1 (D)': 40.0,\n",
       "  'GLUT1 (D)': 0.0,\n",
       "  'CK14': 0.0,\n",
       "  'CD31': 10.0,\n",
       "  'CCL2': 0.0,\n",
       "  'E-cadherin': 20.0,\n",
       "  'MUC2': 0.0,\n",
       "  'CD11b': 10.0,\n",
       "  'SOX9': 0.0,\n",
       "  'CD20 (D)': 0.0,\n",
       "  'FoxP3': 100.0,\n",
       "  'P21 (D)': 0.0,\n",
       "  'CK7': 149.0,\n",
       "  'CD68 (D)': 60.0,\n",
       "  'P16 (Dnew)': 0.0,\n",
       "  'CD4 (D)': 29.0,\n",
       "  'PAI1 (D)': 0.0,\n",
       "  'CD3e (D)': 19.0,\n",
       "  'CK8/18': 0.0})"
      ]
     },
     "execution_count": 106,
     "metadata": {},
     "output_type": "execute_result"
    }
   ],
   "source": [
    "channel_thresholds = get_channel_thresholds()\n",
    "channel_thresholds.keys(), next(iter(channel_thresholds.values()))"
   ]
  },
  {
   "cell_type": "code",
   "execution_count": 107,
   "id": "fed4773f",
   "metadata": {
    "hidden": true
   },
   "outputs": [],
   "source": [
    "val = .05\n",
    "gating_strategy = [\n",
    "    {'name': 'Hepatocyte',\n",
    "        'strategy': [{'channel': 'Hep-Par-1', 'value': val, 'direction': 'pos'}]},\n",
    "    {'name': 'Epithelial',\n",
    "        'strategy': [{'channel': 'Pan-Cytokeratin', 'value': val, 'direction': 'pos'}]},\n",
    "    {'name': 'Epithelial',\n",
    "        'strategy': [{'channel': 'E-cadherin', 'value': val, 'direction': 'pos'}]},\n",
    "    {'name': 'Treg',\n",
    "        'strategy': [\n",
    "            {'channel': 'CD3e', 'value': val, 'direction': 'pos'},\n",
    "            {'channel': 'FOXP3', 'value': val, 'direction': 'pos'}]},\n",
    "    {'name': 'CD4 T cell',\n",
    "        'strategy': [{'channel': 'CD3e', 'value': val, 'direction': 'pos'},\n",
    "            {'channel': 'CD4', 'value': val, 'direction': 'pos'}]},\n",
    "    {'name': 'CD8 T cell',\n",
    "        'strategy': [{'channel': 'CD3e', 'value': val, 'direction': 'pos'},\n",
    "            {'channel': 'CD8', 'value': val, 'direction': 'pos'}]},\n",
    "    {'name': 'T cell',\n",
    "        'strategy': [{'channel': 'CD3e', 'value': val, 'direction': 'pos'}]},\n",
    "    {'name': 'Dendritic',\n",
    "        'strategy': [\n",
    "            {'channel': 'CD11b', 'value': val, 'direction': 'pos'},\n",
    "            {'channel': 'CD3e', 'value': val, 'direction': 'neg'}]},\n",
    "    {'name': 'B cell',\n",
    "        'strategy': [\n",
    "            {'channel': 'CD20', 'value': val, 'direction': 'pos'},\n",
    "            {'channel': 'Pan-Cytokeratin', 'value': val, 'direction': 'neg'},\n",
    "            {'channel': 'E-cadherin', 'value': val, 'direction': 'neg'}]},\n",
    "    {'name': 'Endothelial',\n",
    "        'strategy': [{'channel': 'CD31', 'value': val, 'direction': 'pos'}]},\n",
    "    {'name': 'Macrophage',\n",
    "        'strategy': [{'channel': 'CD68', 'value': val, 'direction': 'pos'}]},\n",
    "    {'name': 'Macrophage - M2',\n",
    "        'strategy': [{'channel': 'CD68', 'value': val, 'direction': 'pos'},\n",
    "            {'channel': 'CD163', 'value': val, 'direction': 'pos'}]},\n",
    "    {'name': 'Immune',\n",
    "        'strategy': [{'channel': 'CD45', 'value': val, 'direction': 'pos'}]},\n",
    "    {'name': 'Immune',\n",
    "        'strategy': [{'channel': 'CD11b', 'value': val, 'direction': 'pos'}]},\n",
    "    {'name': 'Immune',\n",
    "        'strategy': [{'channel': 'CD4', 'value': val, 'direction': 'pos'}]},\n",
    "    {'name': 'Immune',\n",
    "        'strategy': [{'channel': 'CD163', 'value': val, 'direction': 'pos'}]},\n",
    "    {'name': 'Immune',\n",
    "        'strategy': [{'channel': 'HLA-DR', 'value': val, 'direction': 'pos'}]},\n",
    "    {'name': 'Fibroblast',\n",
    "        'strategy': [{'channel': 'SMA', 'value': val, 'direction': 'pos'}]},\n",
    "    {'name': 'Fibroblast',\n",
    "        'strategy': [{'channel': 'Podoplanin', 'value': val, 'direction': 'pos'}]}\n",
    "]"
   ]
  },
  {
   "cell_type": "markdown",
   "id": "89592e8b",
   "metadata": {
    "heading_collapsed": true
   },
   "source": [
    "###### HT397B1"
   ]
  },
  {
   "cell_type": "code",
   "execution_count": 79,
   "id": "ddbc1aac",
   "metadata": {
    "hidden": true
   },
   "outputs": [
    {
     "data": {
      "text/html": [
       "<div>\n",
       "<style scoped>\n",
       "    .dataframe tbody tr th:only-of-type {\n",
       "        vertical-align: middle;\n",
       "    }\n",
       "\n",
       "    .dataframe tbody tr th {\n",
       "        vertical-align: top;\n",
       "    }\n",
       "\n",
       "    .dataframe thead th {\n",
       "        text-align: right;\n",
       "    }\n",
       "</style>\n",
       "<table border=\"1\" class=\"dataframe\">\n",
       "  <thead>\n",
       "    <tr style=\"text-align: right;\">\n",
       "      <th></th>\n",
       "      <th>run_name</th>\n",
       "      <th>omero_run_name</th>\n",
       "      <th>date</th>\n",
       "      <th>case</th>\n",
       "      <th>specimen</th>\n",
       "      <th>bbox</th>\n",
       "      <th>filepath</th>\n",
       "    </tr>\n",
       "  </thead>\n",
       "  <tbody>\n",
       "    <tr>\n",
       "      <th>165</th>\n",
       "      <td>HT397B1-S1H3A1-U22_Scan1</td>\n",
       "      <td>2023-04-13_HT397B1</td>\n",
       "      <td>20230413</td>\n",
       "      <td>HT397B1</td>\n",
       "      <td>HT397B1-S1H3A1-U22</td>\n",
       "      <td>NaN</td>\n",
       "      <td>/diskmnt/primary/CODEX/HTAN/041223_BRCA_HT397B...</td>\n",
       "    </tr>\n",
       "    <tr>\n",
       "      <th>166</th>\n",
       "      <td>HT397B1-U2_Scan1</td>\n",
       "      <td>2023-03-15_HT397B1</td>\n",
       "      <td>20230315</td>\n",
       "      <td>HT397B1</td>\n",
       "      <td>HT397B1-S1H3A1-U2</td>\n",
       "      <td>NaN</td>\n",
       "      <td>/diskmnt/primary/CODEX/HTAN/031623_BRCA_HT397B...</td>\n",
       "    </tr>\n",
       "    <tr>\n",
       "      <th>167</th>\n",
       "      <td>HT397B1-S1H3A1U31_Scan2</td>\n",
       "      <td>2023-04-07_HT397B1</td>\n",
       "      <td>20230407</td>\n",
       "      <td>HT397B1</td>\n",
       "      <td>HT397B1-S1H3A1-U31</td>\n",
       "      <td>NaN</td>\n",
       "      <td>/diskmnt/primary/CODEX/HTAN/040623_BRCA_HT397B...</td>\n",
       "    </tr>\n",
       "    <tr>\n",
       "      <th>168</th>\n",
       "      <td>HT397B1-U12_Scan1</td>\n",
       "      <td>2023-03-16_HT397B1</td>\n",
       "      <td>20230316</td>\n",
       "      <td>HT397B1</td>\n",
       "      <td>HT397B1-S1H3A1-U12</td>\n",
       "      <td>NaN</td>\n",
       "      <td>/diskmnt/primary/CODEX/HTAN/03172023_BRCA_HT39...</td>\n",
       "    </tr>\n",
       "  </tbody>\n",
       "</table>\n",
       "</div>"
      ],
      "text/plain": [
       "                     run_name      omero_run_name      date     case  \\\n",
       "165  HT397B1-S1H3A1-U22_Scan1  2023-04-13_HT397B1  20230413  HT397B1   \n",
       "166          HT397B1-U2_Scan1  2023-03-15_HT397B1  20230315  HT397B1   \n",
       "167   HT397B1-S1H3A1U31_Scan2  2023-04-07_HT397B1  20230407  HT397B1   \n",
       "168         HT397B1-U12_Scan1  2023-03-16_HT397B1  20230316  HT397B1   \n",
       "\n",
       "               specimen bbox  \\\n",
       "165  HT397B1-S1H3A1-U22  NaN   \n",
       "166   HT397B1-S1H3A1-U2  NaN   \n",
       "167  HT397B1-S1H3A1-U31  NaN   \n",
       "168  HT397B1-S1H3A1-U12  NaN   \n",
       "\n",
       "                                              filepath  \n",
       "165  /diskmnt/primary/CODEX/HTAN/041223_BRCA_HT397B...  \n",
       "166  /diskmnt/primary/CODEX/HTAN/031623_BRCA_HT397B...  \n",
       "167  /diskmnt/primary/CODEX/HTAN/040623_BRCA_HT397B...  \n",
       "168  /diskmnt/primary/CODEX/HTAN/03172023_BRCA_HT39...  "
      ]
     },
     "execution_count": 79,
     "metadata": {},
     "output_type": "execute_result"
    }
   ],
   "source": [
    "case = 'HT397B1'\n",
    "runs = [\n",
    "    '2023-03-15_HT397B1',\n",
    "    '2023-03-16_HT397B1',\n",
    "    '2023-04-07_HT397B1',\n",
    "    '2023-04-13_HT397B1'\n",
    "]\n",
    "\n",
    "metadata = pd.read_csv(specimen_metadata_fp, sep='\\t')\n",
    "metadata = metadata[[True if x in runs else False for x in metadata['omero_run_name']]]\n",
    "\n",
    "output_dir = os.path.join(parent_dir, case)\n",
    "spatial_dir = os.path.join(output_dir, 'spatial_features')\n",
    "Path(spatial_dir).mkdir(parents=True, exist_ok=True)\n",
    "\n",
    "metadata"
   ]
  },
  {
   "cell_type": "code",
   "execution_count": 81,
   "id": "832ca914",
   "metadata": {
    "hidden": true
   },
   "outputs": [
    {
     "data": {
      "text/plain": [
       "(dict_keys(['HT397B1-S1H3A1-U2__20230315.ome.tiff', 'HT397B1-S1H3A1-U12__20230316.ome.tiff', 'HT397B1-S1H3A1-U31__20230407.ome.tiff', 'HT397B1-S1H3A1-U22__20230413.ome.tiff']),\n",
       " {'DAPI': 0.0,\n",
       "  'CD8': 20.0,\n",
       "  'Her2 (D)': 20.0,\n",
       "  'GATA3 (D)': 29.0,\n",
       "  'cKIT-(D)': 20.0,\n",
       "  'Pan-Cytokeratin': 30.0,\n",
       "  'GLUT1-(D)': 0.0,\n",
       "  'Podoplanin': 19.0,\n",
       "  'CD68 (D)': 0.0,\n",
       "  'HLA-DR': 19.0,\n",
       "  'Keratin 14': 19.0,\n",
       "  'FoxP3': 20.0,\n",
       "  'MGP-(D)': 20.0,\n",
       "  'CD20-(D)': 20.0,\n",
       "  'SMA-(D)': 15.0,\n",
       "  'Ki67': 15.0,\n",
       "  'Vimentin-(D)': 19.0,\n",
       "  'PR-(D)': 49.0,\n",
       "  'Bap1 (D)': 0.0,\n",
       "  'CD45 (D)': 20.0,\n",
       "  'ER': 79.0,\n",
       "  'CD31': 14.0,\n",
       "  'COX6c (D)': 0.0,\n",
       "  'CK19': 14.0,\n",
       "  'PLAT/tPA (D)': 0.0})"
      ]
     },
     "execution_count": 81,
     "metadata": {},
     "output_type": "execute_result"
    }
   ],
   "source": [
    "channel_thresholds = get_channel_thresholds()\n",
    "channel_thresholds.keys(), next(iter(channel_thresholds.values()))"
   ]
  },
  {
   "cell_type": "code",
   "execution_count": 82,
   "id": "651d6935",
   "metadata": {
    "hidden": true
   },
   "outputs": [
    {
     "name": "stdout",
     "output_type": "stream",
     "text": [
      "/diskmnt/primary/CODEX/HTAN/041223_BRCA_HT397B1-S1H3A1-U22/HT397B1-S1H3A1-U22__20230413.ome.tiff ['DAPI', 'CD8', 'Her2', 'GATA3', 'cKit', 'Pan-Cytokeratin', 'GLUT1', 'Podoplanin', 'CD68', 'HLA-DR', 'CK14', 'FOXP3', 'MGP', 'E-cadherin', 'SMA', 'CD3e', 'Ki67', 'Vimentin', 'CD11b', 'PR', 'Bap1', 'CD45', 'ER', 'CD31', 'COX6c', 'CK19', 'PLAT/tPA']\n",
      "/diskmnt/primary/CODEX/HTAN/031623_BRCA_HT397B1-U2/HT397B1-S1H3A1-U2__20230315.ome.tiff ['DAPI', 'CD8', 'Her2', 'GATA3', 'cKit', 'Pan-Cytokeratin', 'GLUT1', 'Podoplanin', 'CD68', 'HLA-DR', 'CK14', 'FOXP3', 'MGP', 'CD20', 'SMA', 'Ki67', 'Vimentin', 'PR', 'Bap1', 'CD45', 'ER', 'CD31', 'COX6c', 'CK19', 'PLAT/tPA']\n",
      "/diskmnt/primary/CODEX/HTAN/040623_BRCA_HT397B1-U31/HT397B1-S1H3A1-U31__20230407.ome.tiff ['DAPI', 'CD8', 'Her2', 'GATA3', 'cKit', 'Pan-Cytokeratin', 'GLUT1', 'Podoplanin', 'CD68', 'HLA-DR', 'CK14', 'FOXP3', 'MGP', 'SMA', 'CD3e', 'Ki67', 'Vimentin', 'PR', 'Bap1', 'CD45', 'ER', 'CD31', 'COX6c', 'CK19', 'PLAT/tPA']\n",
      "/diskmnt/primary/CODEX/HTAN/03172023_BRCA_HT397B1-U12/HT397B1-S1H3A1-U12__20230316.ome.tiff ['DAPI', 'CD8', 'Her2', 'GATA3', 'cKit', 'Pan-Cytokeratin', 'GLUT1', 'Podoplanin', 'CD68', 'HLA-DR', 'CK14', 'FOXP3', 'MGP', 'CD20', 'SMA', 'Ki67', 'Vimentin', 'PR', 'Bap1', 'CD45', 'ER', 'CD31', 'COX6c', 'CK19', 'PLAT/tPA']\n"
     ]
    }
   ],
   "source": [
    "qc_channel_names()"
   ]
  },
  {
   "cell_type": "code",
   "execution_count": 94,
   "id": "1a8350cd",
   "metadata": {
    "hidden": true
   },
   "outputs": [],
   "source": [
    "val = .05\n",
    "gating_strategy = [\n",
    "    {'name': 'Epithelial',\n",
    "        'strategy': [{'channel': 'Pan-Cytokeratin', 'value': val, 'direction': 'pos'}]},\n",
    "    {'name': 'Epithelial',\n",
    "        'strategy': [{'channel': 'E-cadherin', 'value': val, 'direction': 'pos'}]},\n",
    "    {'name': 'Treg',\n",
    "        'strategy': [\n",
    "#             {'channel': 'CD3e', 'value': val, 'direction': 'pos'},\n",
    "            {'channel': 'FOXP3', 'value': val, 'direction': 'pos'}]},\n",
    "    {'name': 'CD4 T cell',\n",
    "        'strategy': [\n",
    "#             {'channel': 'CD3e', 'value': val, 'direction': 'pos'}, # no cd3 in some of these sections\n",
    "            {'channel': 'CD4', 'value': val, 'direction': 'pos'}]},\n",
    "    {'name': 'CD8 T cell',\n",
    "        'strategy': [\n",
    "#             {'channel': 'CD3e', 'value': val, 'direction': 'pos'},\n",
    "            {'channel': 'CD8', 'value': val, 'direction': 'pos'}]},\n",
    "#     {'name': 'T cell',\n",
    "#         'strategy': [{'channel': 'CD3e', 'value': val, 'direction': 'pos'}]},\n",
    "#     {'name': 'Dendritic', # not all have cd11b\n",
    "#         'strategy': [\n",
    "#             {'channel': 'CD11b', 'value': val, 'direction': 'pos'},\n",
    "# #             {'channel': 'CD3e', 'value': val, 'direction': 'neg'}\n",
    "#         ]},\n",
    "    {'name': 'Endothelial',\n",
    "        'strategy': [{'channel': 'CD31', 'value': val, 'direction': 'pos'}]},\n",
    "    {'name': 'B cell',\n",
    "        'strategy': [\n",
    "            {'channel': 'CD20', 'value': val, 'direction': 'pos'},\n",
    "            {'channel': 'Pan-Cytokeratin', 'value': val, 'direction': 'neg'},\n",
    "            {'channel': 'E-cadherin', 'value': val, 'direction': 'neg'}]},\n",
    "    {'name': 'Macrophage',\n",
    "        'strategy': [{'channel': 'CD68', 'value': val, 'direction': 'pos'}]},\n",
    "    {'name': 'Macrophage - M2',\n",
    "        'strategy': [{'channel': 'CD68', 'value': val, 'direction': 'pos'},\n",
    "            {'channel': 'CD163', 'value': val, 'direction': 'pos'}]},\n",
    "    {'name': 'Immune',\n",
    "        'strategy': [{'channel': 'CD45', 'value': val, 'direction': 'pos'}]},\n",
    "    {'name': 'Immune',\n",
    "        'strategy': [{'channel': 'CD11b', 'value': val, 'direction': 'pos'}]},\n",
    "    {'name': 'Immune',\n",
    "        'strategy': [{'channel': 'CD4', 'value': val, 'direction': 'pos'}]},\n",
    "    {'name': 'Immune',\n",
    "        'strategy': [{'channel': 'CD163', 'value': val, 'direction': 'pos'}]},\n",
    "    {'name': 'Immune',\n",
    "        'strategy': [{'channel': 'HLA-DR', 'value': val, 'direction': 'pos'}]},\n",
    "    {'name': 'Fibroblast',\n",
    "        'strategy': [{'channel': 'SMA', 'value': val, 'direction': 'pos'}]},\n",
    "    {'name': 'Fibroblast',\n",
    "        'strategy': [{'channel': 'Podoplanin', 'value': val, 'direction': 'pos'}]}\n",
    "]"
   ]
  },
  {
   "cell_type": "markdown",
   "id": "1ca9cca7",
   "metadata": {
    "heading_collapsed": true
   },
   "source": [
    "###### S18-9906"
   ]
  },
  {
   "cell_type": "code",
   "execution_count": 117,
   "id": "2c279552",
   "metadata": {
    "hidden": true
   },
   "outputs": [
    {
     "data": {
      "text/html": [
       "<div>\n",
       "<style scoped>\n",
       "    .dataframe tbody tr th:only-of-type {\n",
       "        vertical-align: middle;\n",
       "    }\n",
       "\n",
       "    .dataframe tbody tr th {\n",
       "        vertical-align: top;\n",
       "    }\n",
       "\n",
       "    .dataframe thead th {\n",
       "        text-align: right;\n",
       "    }\n",
       "</style>\n",
       "<table border=\"1\" class=\"dataframe\">\n",
       "  <thead>\n",
       "    <tr style=\"text-align: right;\">\n",
       "      <th></th>\n",
       "      <th>run_name</th>\n",
       "      <th>omero_run_name</th>\n",
       "      <th>date</th>\n",
       "      <th>case</th>\n",
       "      <th>specimen</th>\n",
       "      <th>bbox</th>\n",
       "      <th>filepath</th>\n",
       "    </tr>\n",
       "  </thead>\n",
       "  <tbody>\n",
       "    <tr>\n",
       "      <th>64</th>\n",
       "      <td>20231006_Prostate_Serial_S18-9906_slide_3</td>\n",
       "      <td>2023-10-06_S18-9906</td>\n",
       "      <td>20231006</td>\n",
       "      <td>S18-9906</td>\n",
       "      <td>S18-9906-U25</td>\n",
       "      <td>50000,66960,1000,18000</td>\n",
       "      <td>/diskmnt/primary/CODEX/HTAN/20231006_Prostate_...</td>\n",
       "    </tr>\n",
       "    <tr>\n",
       "      <th>65</th>\n",
       "      <td>20231006_Prostate_Serial_S18-9906_slide_3</td>\n",
       "      <td>2023-10-06_S18-9906</td>\n",
       "      <td>20231006</td>\n",
       "      <td>S18-9906</td>\n",
       "      <td>S18-9906-U18</td>\n",
       "      <td>33000,50000,2000,19000</td>\n",
       "      <td>/diskmnt/primary/CODEX/HTAN/20231006_Prostate_...</td>\n",
       "    </tr>\n",
       "    <tr>\n",
       "      <th>66</th>\n",
       "      <td>20231006_Prostate_Serial_S18-9906_slide_3</td>\n",
       "      <td>2023-10-06_S18-9906</td>\n",
       "      <td>20231006</td>\n",
       "      <td>S18-9906</td>\n",
       "      <td>S18-9906-U10</td>\n",
       "      <td>16000,33000,3000,20000</td>\n",
       "      <td>/diskmnt/primary/CODEX/HTAN/20231006_Prostate_...</td>\n",
       "    </tr>\n",
       "    <tr>\n",
       "      <th>67</th>\n",
       "      <td>20231006_Prostate_Serial_S18-9906_slide_3</td>\n",
       "      <td>2023-10-06_S18-9906</td>\n",
       "      <td>20231006</td>\n",
       "      <td>S18-9906</td>\n",
       "      <td>S18-9906-U3</td>\n",
       "      <td>0,16000,2000,19000</td>\n",
       "      <td>/diskmnt/primary/CODEX/HTAN/20231006_Prostate_...</td>\n",
       "    </tr>\n",
       "  </tbody>\n",
       "</table>\n",
       "</div>"
      ],
      "text/plain": [
       "                                     run_name       omero_run_name      date  \\\n",
       "64  20231006_Prostate_Serial_S18-9906_slide_3  2023-10-06_S18-9906  20231006   \n",
       "65  20231006_Prostate_Serial_S18-9906_slide_3  2023-10-06_S18-9906  20231006   \n",
       "66  20231006_Prostate_Serial_S18-9906_slide_3  2023-10-06_S18-9906  20231006   \n",
       "67  20231006_Prostate_Serial_S18-9906_slide_3  2023-10-06_S18-9906  20231006   \n",
       "\n",
       "        case      specimen                    bbox  \\\n",
       "64  S18-9906  S18-9906-U25  50000,66960,1000,18000   \n",
       "65  S18-9906  S18-9906-U18  33000,50000,2000,19000   \n",
       "66  S18-9906  S18-9906-U10  16000,33000,3000,20000   \n",
       "67  S18-9906   S18-9906-U3      0,16000,2000,19000   \n",
       "\n",
       "                                             filepath  \n",
       "64  /diskmnt/primary/CODEX/HTAN/20231006_Prostate_...  \n",
       "65  /diskmnt/primary/CODEX/HTAN/20231006_Prostate_...  \n",
       "66  /diskmnt/primary/CODEX/HTAN/20231006_Prostate_...  \n",
       "67  /diskmnt/primary/CODEX/HTAN/20231006_Prostate_...  "
      ]
     },
     "execution_count": 117,
     "metadata": {},
     "output_type": "execute_result"
    }
   ],
   "source": [
    "case = 'S18-9906'\n",
    "runs = [\n",
    "    '2023-10-06_S18-9906'\n",
    "]\n",
    "\n",
    "metadata = pd.read_csv(specimen_metadata_fp, sep='\\t')\n",
    "metadata = metadata[[True if x in runs else False for x in metadata['omero_run_name']]]\n",
    "\n",
    "output_dir = os.path.join(parent_dir, case)\n",
    "spatial_dir = os.path.join(output_dir, 'spatial_features')\n",
    "Path(spatial_dir).mkdir(parents=True, exist_ok=True)\n",
    "\n",
    "metadata"
   ]
  },
  {
   "cell_type": "code",
   "execution_count": 118,
   "id": "7d3890a5",
   "metadata": {
    "hidden": true
   },
   "outputs": [
    {
     "data": {
      "text/plain": [
       "(dict_keys(['S18-9906-U10__20231006.ome.tiff', 'S18-9906-U18__20231006.ome.tiff', 'S18-9906-U25__20231006.ome.tiff', 'S18-9906-U3__20231006.ome.tiff']),\n",
       " {'DAPI': 0.0,\n",
       "  'CK14': 25.0,\n",
       "  'LYVE1': 0.0,\n",
       "  'CD4': 19.0,\n",
       "  'CK5': 0.0,\n",
       "  'STEAP4': 0.0,\n",
       "  'CD68': 100.0,\n",
       "  'E-Cadherin': 20.0,\n",
       "  'SMA (D)': 49.0,\n",
       "  'CD45(D)': 20.0,\n",
       "  'p63': 0.0,\n",
       "  'Pan-Cytokeratin': 20.0,\n",
       "  'HLA-DR': 100.0,\n",
       "  'Podoplanin': 20.0,\n",
       "  'Vimentin': 20.0,\n",
       "  'CD3e': 19.0,\n",
       "  'CD8': 10.0,\n",
       "  'CK7': 50.0,\n",
       "  'CD31 (D)': 10.0,\n",
       "  'CD20 (D)': 0.0,\n",
       "  'Foxp3': 15.0,\n",
       "  'Ki67': 10.0,\n",
       "  'AR': 0.0,\n",
       "  'AMACR': 0.0})"
      ]
     },
     "execution_count": 118,
     "metadata": {},
     "output_type": "execute_result"
    }
   ],
   "source": [
    "channel_thresholds = get_channel_thresholds()\n",
    "channel_thresholds.keys(), next(iter(channel_thresholds.values()))"
   ]
  },
  {
   "cell_type": "code",
   "execution_count": 119,
   "id": "f58b8cf1",
   "metadata": {
    "hidden": true
   },
   "outputs": [
    {
     "name": "stdout",
     "output_type": "stream",
     "text": [
      "/diskmnt/primary/CODEX/HTAN/20231006_Prostate_Serial_S18-9906_slide_3/S18-9906-U25__20231006.ome.tiff ['DAPI', 'CK14', 'Lyve-1', 'CD4', 'CK5', 'STEAP4', 'CD68', 'E-cadherin', 'SMA', 'CD45', 'P63', 'Pan-Cytokeratin', 'HLA-DR', 'Podoplanin', 'Vimentin', 'CD3e', 'CD8', 'CK7', 'CD31', 'CD20', 'FOXP3', 'Ki67', 'AR', 'AMACR']\n",
      "/diskmnt/primary/CODEX/HTAN/20231006_Prostate_Serial_S18-9906_slide_3/S18-9906-U18__20231006.ome.tiff ['DAPI', 'CK14', 'Lyve-1', 'CD4', 'CK5', 'STEAP4', 'CD68', 'E-cadherin', 'SMA', 'CD45', 'P63', 'Pan-Cytokeratin', 'HLA-DR', 'Podoplanin', 'Vimentin', 'CD3e', 'CD8', 'CK7', 'CD31', 'CD20', 'FOXP3', 'Ki67', 'AR', 'AMACR']\n",
      "/diskmnt/primary/CODEX/HTAN/20231006_Prostate_Serial_S18-9906_slide_3/S18-9906-U10__20231006.ome.tiff ['DAPI', 'CK14', 'Lyve-1', 'CD4', 'CK5', 'STEAP4', 'CD68', 'E-cadherin', 'SMA', 'CD45', 'P63', 'Pan-Cytokeratin', 'HLA-DR', 'Podoplanin', 'Vimentin', 'CD3e', 'CD8', 'CK7', 'CD31', 'CD20', 'FOXP3', 'Ki67', 'AR', 'AMACR']\n",
      "/diskmnt/primary/CODEX/HTAN/20231006_Prostate_Serial_S18-9906_slide_3/S18-9906-U3__20231006.ome.tiff ['DAPI', 'CK14', 'Lyve-1', 'CD4', 'CK5', 'STEAP4', 'CD68', 'E-cadherin', 'SMA', 'CD45', 'P63', 'Pan-Cytokeratin', 'HLA-DR', 'Podoplanin', 'Vimentin', 'CD3e', 'CD8', 'CK7', 'CD31', 'CD20', 'FOXP3', 'Ki67', 'AR', 'AMACR']\n"
     ]
    }
   ],
   "source": [
    "qc_channel_names()"
   ]
  },
  {
   "cell_type": "code",
   "execution_count": 120,
   "id": "56f1825e",
   "metadata": {
    "hidden": true
   },
   "outputs": [],
   "source": [
    "val = .05\n",
    "gating_strategy = [\n",
    "    {'name': 'Epithelial',\n",
    "        'strategy': [{'channel': 'Pan-Cytokeratin', 'value': val, 'direction': 'pos'}]},\n",
    "    {'name': 'Epithelial',\n",
    "        'strategy': [{'channel': 'E-cadherin', 'value': val, 'direction': 'pos'}]},\n",
    "    {'name': 'Treg',\n",
    "        'strategy': [\n",
    "            {'channel': 'CD3e', 'value': val, 'direction': 'pos'},\n",
    "            {'channel': 'FOXP3', 'value': val, 'direction': 'pos'}]},\n",
    "    {'name': 'CD4 T cell',\n",
    "        'strategy': [\n",
    "            {'channel': 'CD3e', 'value': val, 'direction': 'pos'},\n",
    "            {'channel': 'CD4', 'value': val, 'direction': 'pos'}]},\n",
    "    {'name': 'CD8 T cell',\n",
    "        'strategy': [\n",
    "            {'channel': 'CD3e', 'value': val, 'direction': 'pos'},\n",
    "            {'channel': 'CD8', 'value': val, 'direction': 'pos'}]},\n",
    "    {'name': 'T cell',\n",
    "        'strategy': [{'channel': 'CD3e', 'value': val, 'direction': 'pos'}]},\n",
    "    {'name': 'Dendritic', \n",
    "        'strategy': [\n",
    "            {'channel': 'CD11b', 'value': val, 'direction': 'pos'},\n",
    "            {'channel': 'CD3e', 'value': val, 'direction': 'neg'}\n",
    "        ]},\n",
    "    {'name': 'B cell',\n",
    "        'strategy': [\n",
    "            {'channel': 'CD20', 'value': val, 'direction': 'pos'},\n",
    "            {'channel': 'Pan-Cytokeratin', 'value': val, 'direction': 'neg'},\n",
    "            {'channel': 'E-cadherin', 'value': val, 'direction': 'neg'}]},\n",
    "    {'name': 'Endothelial',\n",
    "        'strategy': [{'channel': 'CD31', 'value': val, 'direction': 'pos'}]},\n",
    "    {'name': 'Macrophage',\n",
    "        'strategy': [{'channel': 'CD68', 'value': val, 'direction': 'pos'}]},\n",
    "    {'name': 'Macrophage - M2',\n",
    "        'strategy': [{'channel': 'CD68', 'value': val, 'direction': 'pos'},\n",
    "            {'channel': 'CD163', 'value': val, 'direction': 'pos'}]},\n",
    "    {'name': 'Immune',\n",
    "        'strategy': [{'channel': 'CD45', 'value': val, 'direction': 'pos'}]},\n",
    "    {'name': 'Immune',\n",
    "        'strategy': [{'channel': 'CD11b', 'value': val, 'direction': 'pos'}]},\n",
    "    {'name': 'Immune',\n",
    "        'strategy': [{'channel': 'CD4', 'value': val, 'direction': 'pos'}]},\n",
    "    {'name': 'Immune',\n",
    "        'strategy': [{'channel': 'CD163', 'value': val, 'direction': 'pos'}]},\n",
    "    {'name': 'Immune',\n",
    "        'strategy': [{'channel': 'HLA-DR', 'value': val, 'direction': 'pos'}]},\n",
    "    {'name': 'Fibroblast',\n",
    "        'strategy': [{'channel': 'SMA', 'value': val, 'direction': 'pos'}]},\n",
    "    {'name': 'Fibroblast',\n",
    "        'strategy': [{'channel': 'Podoplanin', 'value': val, 'direction': 'pos'}]}\n",
    "]"
   ]
  },
  {
   "cell_type": "markdown",
   "id": "7578856a",
   "metadata": {
    "heading_collapsed": true
   },
   "source": [
    "###### S18-25943-A7"
   ]
  },
  {
   "cell_type": "code",
   "execution_count": 131,
   "id": "14f9f9fc",
   "metadata": {
    "hidden": true
   },
   "outputs": [
    {
     "data": {
      "text/html": [
       "<div>\n",
       "<style scoped>\n",
       "    .dataframe tbody tr th:only-of-type {\n",
       "        vertical-align: middle;\n",
       "    }\n",
       "\n",
       "    .dataframe tbody tr th {\n",
       "        vertical-align: top;\n",
       "    }\n",
       "\n",
       "    .dataframe thead th {\n",
       "        text-align: right;\n",
       "    }\n",
       "</style>\n",
       "<table border=\"1\" class=\"dataframe\">\n",
       "  <thead>\n",
       "    <tr style=\"text-align: right;\">\n",
       "      <th></th>\n",
       "      <th>run_name</th>\n",
       "      <th>omero_run_name</th>\n",
       "      <th>date</th>\n",
       "      <th>case</th>\n",
       "      <th>specimen</th>\n",
       "      <th>bbox</th>\n",
       "      <th>filepath</th>\n",
       "    </tr>\n",
       "  </thead>\n",
       "  <tbody>\n",
       "    <tr>\n",
       "      <th>37</th>\n",
       "      <td>20231122_Human_pancreatic_cancer_S18-25943-A7U...</td>\n",
       "      <td>2023-11-22__S18-25943</td>\n",
       "      <td>20231122</td>\n",
       "      <td>S18-25943</td>\n",
       "      <td>S18-25943-U16</td>\n",
       "      <td>53000,66960,2000,24960</td>\n",
       "      <td>/diskmnt/primary/CODEX/HTAN/20231122_Human_pan...</td>\n",
       "    </tr>\n",
       "    <tr>\n",
       "      <th>38</th>\n",
       "      <td>20231122_Human_pancreatic_cancer_S18-25943-A7U...</td>\n",
       "      <td>2023-11-22__S18-25943</td>\n",
       "      <td>20231122</td>\n",
       "      <td>S18-25943</td>\n",
       "      <td>S18-25943-U13</td>\n",
       "      <td>33000,53000,1000,24000</td>\n",
       "      <td>/diskmnt/primary/CODEX/HTAN/20231122_Human_pan...</td>\n",
       "    </tr>\n",
       "    <tr>\n",
       "      <th>39</th>\n",
       "      <td>20231122_Human_pancreatic_cancer_S18-25943-A7U...</td>\n",
       "      <td>2023-11-22__S18-25943</td>\n",
       "      <td>20231122</td>\n",
       "      <td>S18-25943</td>\n",
       "      <td>S18-25943-U9</td>\n",
       "      <td>12000,33000,1000,24960</td>\n",
       "      <td>/diskmnt/primary/CODEX/HTAN/20231122_Human_pan...</td>\n",
       "    </tr>\n",
       "    <tr>\n",
       "      <th>40</th>\n",
       "      <td>20231122_Human_pancreatic_cancer_S18-25943-A7U...</td>\n",
       "      <td>2023-11-22__S18-25943</td>\n",
       "      <td>20231122</td>\n",
       "      <td>S18-25943</td>\n",
       "      <td>S18-25943-U2</td>\n",
       "      <td>0,10000,1000,24960</td>\n",
       "      <td>/diskmnt/primary/CODEX/HTAN/20231122_Human_pan...</td>\n",
       "    </tr>\n",
       "  </tbody>\n",
       "</table>\n",
       "</div>"
      ],
      "text/plain": [
       "                                             run_name         omero_run_name  \\\n",
       "37  20231122_Human_pancreatic_cancer_S18-25943-A7U...  2023-11-22__S18-25943   \n",
       "38  20231122_Human_pancreatic_cancer_S18-25943-A7U...  2023-11-22__S18-25943   \n",
       "39  20231122_Human_pancreatic_cancer_S18-25943-A7U...  2023-11-22__S18-25943   \n",
       "40  20231122_Human_pancreatic_cancer_S18-25943-A7U...  2023-11-22__S18-25943   \n",
       "\n",
       "        date       case       specimen                    bbox  \\\n",
       "37  20231122  S18-25943  S18-25943-U16  53000,66960,2000,24960   \n",
       "38  20231122  S18-25943  S18-25943-U13  33000,53000,1000,24000   \n",
       "39  20231122  S18-25943   S18-25943-U9  12000,33000,1000,24960   \n",
       "40  20231122  S18-25943   S18-25943-U2      0,10000,1000,24960   \n",
       "\n",
       "                                             filepath  \n",
       "37  /diskmnt/primary/CODEX/HTAN/20231122_Human_pan...  \n",
       "38  /diskmnt/primary/CODEX/HTAN/20231122_Human_pan...  \n",
       "39  /diskmnt/primary/CODEX/HTAN/20231122_Human_pan...  \n",
       "40  /diskmnt/primary/CODEX/HTAN/20231122_Human_pan...  "
      ]
     },
     "execution_count": 131,
     "metadata": {},
     "output_type": "execute_result"
    }
   ],
   "source": [
    "case = 'S18-25943-A7'\n",
    "runs = [\n",
    "    '2023-11-22__S18-25943'\n",
    "]\n",
    "\n",
    "metadata = pd.read_csv(specimen_metadata_fp, sep='\\t')\n",
    "metadata = metadata[[True if x in runs else False for x in metadata['omero_run_name']]]\n",
    "\n",
    "output_dir = os.path.join(parent_dir, case)\n",
    "spatial_dir = os.path.join(output_dir, 'spatial_features')\n",
    "Path(spatial_dir).mkdir(parents=True, exist_ok=True)\n",
    "\n",
    "metadata"
   ]
  },
  {
   "cell_type": "code",
   "execution_count": 132,
   "id": "655eb4d5",
   "metadata": {
    "hidden": true
   },
   "outputs": [
    {
     "data": {
      "text/plain": [
       "(dict_keys(['S18-25943-U13__20231122.ome.tiff', 'S18-25943-U16__20231122.ome.tiff', 'S18-25943-U2__20231122.ome.tiff', 'S18-25943-U9__20231122.ome.tiff']),\n",
       " {'DAPI': 0.0,\n",
       "  'E-cadherin': 19.0,\n",
       "  'SMA': 20.0,\n",
       "  'PGC (D)': 0.0,\n",
       "  'CFTR (D)': 0.0,\n",
       "  'Vimentin': 20.0,\n",
       "  'CD4': 20.0,\n",
       "  'Podoplanin': 20.0,\n",
       "  'REG3A (D)': 0.0,\n",
       "  'CD68': 20.0,\n",
       "  'CD8': 20.0,\n",
       "  'LAMC2 (D)': 0.0,\n",
       "  'CD45': 20.0,\n",
       "  'Amylase (D)': 0.0,\n",
       "  'INS (D)': 20.0,\n",
       "  'CD11b (D)': 20.0,\n",
       "  'CRP (D)': 0.0,\n",
       "  'TFF1 (D)': 0.0,\n",
       "  'HLA-DR': 50.0,\n",
       "  'CD163': 0.0,\n",
       "  'CD74 (D)': 0.0,\n",
       "  'CD3e': 20.0,\n",
       "  'Ki67': 0.0,\n",
       "  'MUC5AC (D)': 0.0,\n",
       "  'CD31 (D)': 19.0,\n",
       "  'CD20 (D)': 0.0})"
      ]
     },
     "execution_count": 132,
     "metadata": {},
     "output_type": "execute_result"
    }
   ],
   "source": [
    "channel_thresholds = get_channel_thresholds()\n",
    "channel_thresholds.keys(), next(iter(channel_thresholds.values()))"
   ]
  },
  {
   "cell_type": "code",
   "execution_count": 133,
   "id": "22e0098e",
   "metadata": {
    "hidden": true
   },
   "outputs": [
    {
     "name": "stdout",
     "output_type": "stream",
     "text": [
      "/diskmnt/primary/CODEX/HTAN/20231122_Human_pancreatic_cancer_S18-25943-A7Us1_2__Us1_9__Us1_13__Us1_16/S18-25943-U16__20231122.ome.tiff ['DAPI', 'E-cadherin', 'SMA', 'PGC', 'CFTR', 'Vimentin', 'CD4', 'Podoplanin', 'REG3A', 'CD68', 'CD8', 'LAMC2', 'CD45', 'a-Amylase', 'INS', 'CD11b', 'CRP', 'TFF1', 'HLA-DR', 'CD163', 'CD74', 'CD3e', 'Ki67', 'MUC5AC', 'CD31', 'CD20']\n",
      "/diskmnt/primary/CODEX/HTAN/20231122_Human_pancreatic_cancer_S18-25943-A7Us1_2__Us1_9__Us1_13__Us1_16/S18-25943-U13__20231122.ome.tiff ['DAPI', 'E-cadherin', 'SMA', 'PGC', 'CFTR', 'Vimentin', 'CD4', 'Podoplanin', 'REG3A', 'CD68', 'CD8', 'LAMC2', 'CD45', 'a-Amylase', 'INS', 'CD11b', 'CRP', 'TFF1', 'HLA-DR', 'CD163', 'CD74', 'CD3e', 'Ki67', 'MUC5AC', 'CD31', 'CD20']\n",
      "/diskmnt/primary/CODEX/HTAN/20231122_Human_pancreatic_cancer_S18-25943-A7Us1_2__Us1_9__Us1_13__Us1_16/S18-25943-U9__20231122.ome.tiff ['DAPI', 'E-cadherin', 'SMA', 'PGC', 'CFTR', 'Vimentin', 'CD4', 'Podoplanin', 'REG3A', 'CD68', 'CD8', 'LAMC2', 'CD45', 'a-Amylase', 'INS', 'CD11b', 'CRP', 'TFF1', 'HLA-DR', 'CD163', 'CD74', 'CD3e', 'Ki67', 'MUC5AC', 'CD31', 'CD20']\n",
      "/diskmnt/primary/CODEX/HTAN/20231122_Human_pancreatic_cancer_S18-25943-A7Us1_2__Us1_9__Us1_13__Us1_16/S18-25943-U2__20231122.ome.tiff ['DAPI', 'E-cadherin', 'SMA', 'PGC', 'CFTR', 'Vimentin', 'CD4', 'Podoplanin', 'REG3A', 'CD68', 'CD8', 'LAMC2', 'CD45', 'a-Amylase', 'INS', 'CD11b', 'CRP', 'TFF1', 'HLA-DR', 'CD163', 'CD74', 'CD3e', 'Ki67', 'MUC5AC', 'CD31', 'CD20']\n"
     ]
    }
   ],
   "source": [
    "qc_channel_names()"
   ]
  },
  {
   "cell_type": "code",
   "execution_count": 134,
   "id": "5f7bb7fe",
   "metadata": {
    "hidden": true
   },
   "outputs": [],
   "source": [
    "val = .05\n",
    "gating_strategy = [\n",
    "    {'name': 'Islet',\n",
    "        'strategy': [{'channel': 'INS', 'value': val, 'direction': 'pos'}]},\n",
    "    {'name': 'Epithelial',\n",
    "        'strategy': [{'channel': 'Pan-Cytokeratin', 'value': val, 'direction': 'pos'}]},\n",
    "    {'name': 'Epithelial',\n",
    "        'strategy': [{'channel': 'E-cadherin', 'value': val, 'direction': 'pos'}]},\n",
    "    {'name': 'Treg',\n",
    "        'strategy': [\n",
    "            {'channel': 'CD3e', 'value': val, 'direction': 'pos'},\n",
    "            {'channel': 'FOXP3', 'value': val, 'direction': 'pos'}]},\n",
    "    {'name': 'CD4 T cell',\n",
    "        'strategy': [\n",
    "            {'channel': 'CD3e', 'value': val, 'direction': 'pos'},\n",
    "            {'channel': 'CD4', 'value': val, 'direction': 'pos'}]},\n",
    "    {'name': 'CD8 T cell',\n",
    "        'strategy': [\n",
    "            {'channel': 'CD3e', 'value': val, 'direction': 'pos'},\n",
    "            {'channel': 'CD8', 'value': val, 'direction': 'pos'}]},\n",
    "    {'name': 'T cell',\n",
    "        'strategy': [{'channel': 'CD3e', 'value': val, 'direction': 'pos'}]},\n",
    "    {'name': 'Dendritic', \n",
    "        'strategy': [\n",
    "            {'channel': 'CD11b', 'value': val, 'direction': 'pos'},\n",
    "            {'channel': 'CD3e', 'value': val, 'direction': 'neg'}\n",
    "        ]},\n",
    "    {'name': 'B cell',\n",
    "        'strategy': [\n",
    "            {'channel': 'CD20', 'value': val, 'direction': 'pos'},\n",
    "            {'channel': 'Pan-Cytokeratin', 'value': val, 'direction': 'neg'},\n",
    "            {'channel': 'E-cadherin', 'value': val, 'direction': 'neg'}]},\n",
    "    {'name': 'Endothelial',\n",
    "        'strategy': [{'channel': 'CD31', 'value': val, 'direction': 'pos'}]},\n",
    "    {'name': 'Macrophage',\n",
    "        'strategy': [{'channel': 'CD68', 'value': val, 'direction': 'pos'}]},\n",
    "    {'name': 'Macrophage - M2',\n",
    "        'strategy': [{'channel': 'CD68', 'value': val, 'direction': 'pos'},\n",
    "            {'channel': 'CD163', 'value': val, 'direction': 'pos'}]},\n",
    "    {'name': 'Immune',\n",
    "        'strategy': [{'channel': 'CD45', 'value': val, 'direction': 'pos'}]},\n",
    "    {'name': 'Immune',\n",
    "        'strategy': [{'channel': 'CD11b', 'value': val, 'direction': 'pos'}]},\n",
    "    {'name': 'Immune',\n",
    "        'strategy': [{'channel': 'CD4', 'value': val, 'direction': 'pos'}]},\n",
    "    {'name': 'Immune',\n",
    "        'strategy': [{'channel': 'CD163', 'value': val, 'direction': 'pos'}]},\n",
    "    {'name': 'Immune',\n",
    "        'strategy': [{'channel': 'HLA-DR', 'value': val, 'direction': 'pos'}]},\n",
    "    {'name': 'Fibroblast',\n",
    "        'strategy': [{'channel': 'SMA', 'value': val, 'direction': 'pos'}]},\n",
    "    {'name': 'Fibroblast',\n",
    "        'strategy': [{'channel': 'Podoplanin', 'value': val, 'direction': 'pos'}]}\n",
    "]"
   ]
  },
  {
   "cell_type": "markdown",
   "id": "683c3ca1",
   "metadata": {},
   "source": [
    "###### S18-5591-C8"
   ]
  },
  {
   "cell_type": "code",
   "execution_count": null,
   "id": "f052f1db",
   "metadata": {},
   "outputs": [],
   "source": [
    "case = 'S18-5591-C8'\n",
    "runs = [\n",
    "    '2023-11-16__S18-5591',\n",
    "    '2023-11-18__S18-5591'\n",
    "]\n",
    "\n",
    "metadata = pd.read_csv(specimen_metadata_fp, sep='\\t')\n",
    "metadata = metadata[[True if x in runs else False for x in metadata['omero_run_name']]]\n",
    "\n",
    "output_dir = os.path.join(parent_dir, case)\n",
    "spatial_dir = os.path.join(output_dir, 'spatial_features')\n",
    "Path(spatial_dir).mkdir(parents=True, exist_ok=True)\n",
    "\n",
    "metadata"
   ]
  },
  {
   "cell_type": "code",
   "execution_count": null,
   "id": "5f5c87d5",
   "metadata": {},
   "outputs": [],
   "source": [
    "channel_thresholds = get_channel_thresholds()\n",
    "channel_thresholds.keys(), next(iter(channel_thresholds.values()))"
   ]
  },
  {
   "cell_type": "code",
   "execution_count": null,
   "id": "324c4995",
   "metadata": {},
   "outputs": [],
   "source": [
    "qc_channel_names()"
   ]
  },
  {
   "cell_type": "code",
   "execution_count": null,
   "id": "711f7d3b",
   "metadata": {},
   "outputs": [],
   "source": [
    "val = .05\n",
    "gating_strategy = [\n",
    "    {'name': 'Epithelial',\n",
    "        'strategy': [{'channel': 'Pan-Cytokeratin', 'value': val, 'direction': 'pos'}]},\n",
    "    {'name': 'Epithelial',\n",
    "        'strategy': [{'channel': 'E-cadherin', 'value': val, 'direction': 'pos'}]},\n",
    "    {'name': 'Treg',\n",
    "        'strategy': [\n",
    "            {'channel': 'CD3e', 'value': val, 'direction': 'pos'},\n",
    "            {'channel': 'FOXP3', 'value': val, 'direction': 'pos'}]},\n",
    "    {'name': 'CD4 T cell',\n",
    "        'strategy': [\n",
    "            {'channel': 'CD3e', 'value': val, 'direction': 'pos'},\n",
    "            {'channel': 'CD4', 'value': val, 'direction': 'pos'}]},\n",
    "    {'name': 'CD8 T cell',\n",
    "        'strategy': [\n",
    "            {'channel': 'CD3e', 'value': val, 'direction': 'pos'},\n",
    "            {'channel': 'CD8', 'value': val, 'direction': 'pos'}]},\n",
    "    {'name': 'T cell',\n",
    "        'strategy': [{'channel': 'CD3e', 'value': val, 'direction': 'pos'}]},\n",
    "    {'name': 'Dendritic', \n",
    "        'strategy': [\n",
    "            {'channel': 'CD11b', 'value': val, 'direction': 'pos'},\n",
    "            {'channel': 'CD3e', 'value': val, 'direction': 'neg'}\n",
    "        ]},\n",
    "    {'name': 'B cell',\n",
    "        'strategy': [\n",
    "            {'channel': 'CD20', 'value': val, 'direction': 'pos'},\n",
    "            {'channel': 'Pan-Cytokeratin', 'value': val, 'direction': 'neg'},\n",
    "            {'channel': 'E-cadherin', 'value': val, 'direction': 'neg'}]},\n",
    "    {'name': 'Endothelial',\n",
    "        'strategy': [{'channel': 'CD31', 'value': val, 'direction': 'pos'}]},\n",
    "    {'name': 'Macrophage',\n",
    "        'strategy': [\n",
    "            {'channel': 'CD68', 'value': val, 'direction': 'pos'},\n",
    "            {'channel': 'HLA-DR', 'value': val, 'direction': 'pos'}\n",
    "        ]},\n",
    "    {'name': 'Macrophage - M2',\n",
    "        'strategy': [{'channel': 'CD68', 'value': val, 'direction': 'pos'},\n",
    "            {'channel': 'CD163', 'value': val, 'direction': 'pos'},\n",
    "            {'channel': 'HLA-DR', 'value': val, 'direction': 'pos'}]},\n",
    "    {'name': 'Immune',\n",
    "        'strategy': [{'channel': 'CD45', 'value': val, 'direction': 'pos'}]},\n",
    "    {'name': 'Immune',\n",
    "        'strategy': [{'channel': 'CD11b', 'value': val, 'direction': 'pos'}]},\n",
    "    {'name': 'Immune',\n",
    "        'strategy': [{'channel': 'CD4', 'value': val, 'direction': 'pos'}]},\n",
    "    {'name': 'Immune',\n",
    "        'strategy': [{'channel': 'CD163', 'value': val, 'direction': 'pos'}]},\n",
    "    {'name': 'Immune',\n",
    "        'strategy': [{'channel': 'HLA-DR', 'value': val, 'direction': 'pos'}]},\n",
    "    {'name': 'Fibroblast',\n",
    "        'strategy': [{'channel': 'SMA', 'value': val, 'direction': 'pos'}]},\n",
    "    {'name': 'Fibroblast',\n",
    "        'strategy': [{'channel': 'Podoplanin', 'value': val, 'direction': 'pos'}]}\n",
    "]"
   ]
  },
  {
   "cell_type": "code",
   "execution_count": null,
   "id": "7d78ff37",
   "metadata": {},
   "outputs": [],
   "source": []
  },
  {
   "cell_type": "markdown",
   "id": "170fba9c",
   "metadata": {},
   "source": [
    "## gate cells"
   ]
  },
  {
   "cell_type": "code",
   "execution_count": 135,
   "id": "26fefa6f",
   "metadata": {},
   "outputs": [
    {
     "data": {
      "text/plain": [
       "set()"
      ]
     },
     "execution_count": 135,
     "metadata": {},
     "output_type": "execute_result"
    }
   ],
   "source": [
    "fps = sorted(utils.listfiles(output_dir, f'cell_segmentation.tif$'))\n",
    "specimen_to_ome = {specimen:fp for specimen, fp in zip(metadata['specimen'], metadata['filepath'])}\n",
    "specimen_to_seg = {fp.split('/')[-1].replace('_cell_segmentation.tif', ''):fp for fp in fps}\n",
    "set(specimen_to_ome.keys()) - set(specimen_to_seg.keys())"
   ]
  },
  {
   "cell_type": "code",
   "execution_count": 136,
   "id": "13865cf9",
   "metadata": {},
   "outputs": [],
   "source": [
    "assert sorted([fp.split('/')[-1] for fp in specimen_to_ome.values()]) == sorted(channel_thresholds.keys())"
   ]
  },
  {
   "cell_type": "code",
   "execution_count": null,
   "id": "3abbb8db",
   "metadata": {
    "scrolled": true
   },
   "outputs": [
    {
     "name": "stderr",
     "output_type": "stream",
     "text": [
      "2024-02-14 13:49:21,877 - extracting /diskmnt/primary/CODEX/HTAN/20231122_Human_pancreatic_cancer_S18-25943-A7Us1_2__Us1_9__Us1_13__Us1_16/S18-25943-U16__20231122.ome.tiff\n"
     ]
    },
    {
     "name": "stdout",
     "output_type": "stream",
     "text": [
      "S18-25943-U16\n"
     ]
    },
    {
     "name": "stderr",
     "output_type": "stream",
     "text": [
      "2024-02-14 13:50:22,442 - extracting /diskmnt/Projects/Users/estorrs/imaging-analysis/results/mushroom/S18-25943-A7/segmentation/S18-25943-U16_cell_segmentation.tif\n",
      "2024-02-14 13:50:25,483 - thresholds detected: [('DAPI', 0.0), ('E-cadherin', 19.0), ('SMA', 20.0), ('PGC (D)', 0.0), ('CFTR (D)', 0.0), ('Vimentin', 20.0), ('CD4', 20.0), ('Podoplanin', 20.0), ('REG3A (D)', 0.0), ('CD68', 20.0), ('CD8', 20.0), ('LAMC2 (D)', 0.0), ('CD45', 20.0), ('Amylase (D)', 0.0), ('INS (D)', 20.0), ('CD11b (D)', 20.0), ('CRP (D)', 0.0), ('TFF1 (D)', 0.0), ('HLA-DR', 50.0), ('CD163', 0.0), ('CD74 (D)', 0.0), ('CD3e', 20.0), ('Ki67', 0.0), ('MUC5AC (D)', 0.0), ('CD31 (D)', 19.0), ('CD20 (D)', 0.0)]\n",
      "2024-02-14 13:51:08,168 - num cells: 283360\n",
      "2024-02-14 13:55:17,748 - cell typing key is: fraction\n",
      "2024-02-14 13:55:17,754 - gating cells with the following markers: ['CD11b', 'CD31', 'CD3e', 'CD45', 'CD4', 'CD68', 'CD8', 'E-cadherin', 'HLA-DR', 'INS', 'Podoplanin', 'SMA', 'Vimentin']\n",
      "2024-02-14 13:55:18,071 - cells gated: [('Fibroblast', 95644), ('Epithelial', 68053), ('Macrophage', 34093), ('Endothelial', 27432), ('Unlabeled', 22511), ('CD4 T cell', 12138), ('Immune', 8203), ('Islet', 5485), ('CD8 T cell', 5356), ('T cell', 3039), ('Dendritic', 1406)]\n",
      "/diskmnt/Projects/Users/estorrs/miniconda3/envs/imaging_analysis_v2/lib/python3.10/site-packages/anndata/_core/anndata.py:183: ImplicitModificationWarning: Transforming to str index.\n",
      "  warnings.warn(\"Transforming to str index.\", ImplicitModificationWarning)\n",
      "... storing 'cell_type' as categorical\n",
      "2024-02-14 13:55:45,269 - extracting /diskmnt/primary/CODEX/HTAN/20231122_Human_pancreatic_cancer_S18-25943-A7Us1_2__Us1_9__Us1_13__Us1_16/S18-25943-U13__20231122.ome.tiff\n"
     ]
    },
    {
     "name": "stdout",
     "output_type": "stream",
     "text": [
      "S18-25943-U13\n"
     ]
    },
    {
     "name": "stderr",
     "output_type": "stream",
     "text": [
      "2024-02-14 13:56:58,293 - extracting /diskmnt/Projects/Users/estorrs/imaging-analysis/results/mushroom/S18-25943-A7/segmentation/S18-25943-U13_cell_segmentation.tif\n",
      "2024-02-14 13:57:03,266 - thresholds detected: [('DAPI', 0.0), ('E-cadherin', 19.0), ('SMA', 20.0), ('PGC (D)', 0.0), ('CFTR (D)', 0.0), ('Vimentin', 20.0), ('CD4', 20.0), ('Podoplanin', 20.0), ('REG3A (D)', 0.0), ('CD68', 20.0), ('CD8', 20.0), ('LAMC2 (D)', 0.0), ('CD45', 20.0), ('Amylase (D)', 0.0), ('INS (D)', 20.0), ('CD11b (D)', 20.0), ('CRP (D)', 0.0), ('TFF1 (D)', 0.0), ('HLA-DR', 50.0), ('CD163', 0.0), ('CD74 (D)', 0.0), ('CD3e', 20.0), ('Ki67', 0.0), ('MUC5AC (D)', 0.0), ('CD31 (D)', 19.0), ('CD20 (D)', 0.0)]\n",
      "2024-02-14 13:57:42,709 - num cells: 478182\n",
      "2024-02-14 14:02:53,688 - cell typing key is: fraction\n",
      "2024-02-14 14:02:53,694 - gating cells with the following markers: ['CD11b', 'CD31', 'CD3e', 'CD45', 'CD4', 'CD68', 'CD8', 'E-cadherin', 'HLA-DR', 'INS', 'Podoplanin', 'SMA', 'Vimentin']\n",
      "2024-02-14 14:02:54,162 - cells gated: [('Epithelial', 189831), ('Fibroblast', 105712), ('Macrophage', 46892), ('Endothelial', 43460), ('Unlabeled', 32685), ('CD4 T cell', 20108), ('Islet', 12215), ('Immune', 11095), ('CD8 T cell', 9284), ('T cell', 4532), ('Dendritic', 2368)]\n",
      "/diskmnt/Projects/Users/estorrs/miniconda3/envs/imaging_analysis_v2/lib/python3.10/site-packages/anndata/_core/anndata.py:183: ImplicitModificationWarning: Transforming to str index.\n",
      "  warnings.warn(\"Transforming to str index.\", ImplicitModificationWarning)\n",
      "... storing 'cell_type' as categorical\n",
      "2024-02-14 14:03:36,083 - extracting /diskmnt/primary/CODEX/HTAN/20231122_Human_pancreatic_cancer_S18-25943-A7Us1_2__Us1_9__Us1_13__Us1_16/S18-25943-U9__20231122.ome.tiff\n"
     ]
    },
    {
     "name": "stdout",
     "output_type": "stream",
     "text": [
      "S18-25943-U9\n"
     ]
    },
    {
     "name": "stderr",
     "output_type": "stream",
     "text": [
      "2024-02-14 14:04:58,721 - extracting /diskmnt/Projects/Users/estorrs/imaging-analysis/results/mushroom/S18-25943-A7/segmentation/S18-25943-U9_cell_segmentation.tif\n",
      "2024-02-14 14:05:03,819 - thresholds detected: [('DAPI', 0.0), ('E-cadherin', 19.0), ('SMA', 20.0), ('PGC (D)', 0.0), ('CFTR (D)', 0.0), ('Vimentin', 20.0), ('CD4', 20.0), ('Podoplanin', 20.0), ('REG3A (D)', 0.0), ('CD68', 20.0), ('CD8', 20.0), ('LAMC2 (D)', 0.0), ('CD45', 20.0), ('Amylase (D)', 0.0), ('INS (D)', 20.0), ('CD11b (D)', 20.0), ('CRP (D)', 0.0), ('TFF1 (D)', 0.0), ('HLA-DR', 50.0), ('CD163', 0.0), ('CD74 (D)', 0.0), ('CD3e', 20.0), ('Ki67', 0.0), ('MUC5AC (D)', 0.0), ('CD31 (D)', 19.0), ('CD20 (D)', 0.0)]\n",
      "2024-02-14 14:05:44,362 - num cells: 431815\n"
     ]
    }
   ],
   "source": [
    "for specimen, ome_fp in specimen_to_ome.items():\n",
    "    print(specimen)\n",
    "    seg_fp = specimen_to_seg[specimen]\n",
    "    thresholds = channel_thresholds[ome_fp.split('/')[-1]]\n",
    "    \n",
    "    df, a = mip.get_spatial_features(seg_fp, ome_fp, thresholds=thresholds, gating_strategy=gating_strategy)\n",
    "    a.write_h5ad(os.path.join(spatial_dir, f'{specimen}_spatial_features.h5ad'))\n",
    "    df.to_csv(os.path.join(spatial_dir, f'{specimen}_spatial_features.txt'), sep='\\t', index=False)"
   ]
  },
  {
   "cell_type": "code",
   "execution_count": null,
   "id": "816db9e6",
   "metadata": {},
   "outputs": [],
   "source": [
    "fps = sorted(utils.listfiles(spatial_dir, regex=r'_spatial_features.txt'))\n",
    "fps"
   ]
  },
  {
   "cell_type": "code",
   "execution_count": null,
   "id": "74ab9459",
   "metadata": {},
   "outputs": [],
   "source": [
    "df = pd.read_csv(next(iter(fps)), sep='\\t')\n",
    "df"
   ]
  },
  {
   "cell_type": "code",
   "execution_count": null,
   "id": "7e762ca3",
   "metadata": {},
   "outputs": [],
   "source": [
    "cell_types = sorted(set([x['name'] for x in gating_strategy]))\n",
    "cell_types.append('Unlabeled')\n",
    "cmap = sns.color_palette('tab20') + sns.color_palette('tab20b') + sns.color_palette('tab20c')\n",
    "cell_type_to_color = {ct:c for ct, c in zip(cell_types, cmap)}"
   ]
  },
  {
   "cell_type": "code",
   "execution_count": null,
   "id": "d3922f7d",
   "metadata": {},
   "outputs": [],
   "source": [
    "def format_axis(ax):\n",
    "    ax.invert_yaxis()\n",
    "    ax.axis('equal')\n",
    "    ax.set_xticks([])\n",
    "    ax.set_yticks([])\n",
    "    ax.title.set_fontsize(8)\n",
    "    ax.yaxis.label.set_fontsize(6)\n",
    "\n",
    "nrows, ncols = len(fps), len(cell_types) + 1\n",
    "fig, axs = plt.subplots(nrows=nrows, ncols=ncols, figsize=(ncols, nrows))\n",
    "for i, fp in enumerate(fps):\n",
    "    ax = axs[i, 0]\n",
    "    sid = fp.split('/')[-1].replace('_spatial_features.txt', '')\n",
    "    df = pd.read_csv(fp, sep='\\t')\n",
    "    ax.scatter(df['col'], df['row'], c=[cell_type_to_color[x] for x in df['cell_type']], s=.1)\n",
    "    ax.set_ylabel(sid, rotation=0)\n",
    "    if i == 0:\n",
    "        ax.set_title('cell_type', rotation=90)\n",
    "    format_axis(ax)\n",
    "    \n",
    "    for j, ct in enumerate(cell_types):\n",
    "        ax = axs[i, j + 1]\n",
    "        f = df[df['cell_type']==ct]\n",
    "        ax.scatter(f['col'], f['row'], s=.1)\n",
    "        \n",
    "        if i == 0:\n",
    "            ax.set_title(ct, rotation=90)\n",
    "        format_axis(ax)\n",
    "\n",
    "plt.savefig(os.path.join(spatial_dir, f'cell_types.png'))"
   ]
  },
  {
   "cell_type": "code",
   "execution_count": null,
   "id": "1e74537e",
   "metadata": {},
   "outputs": [],
   "source": [
    "data, sids = [], []\n",
    "for i, fp in enumerate(fps):\n",
    "    sid = fp.split('/')[-1].replace('_spatial_features.txt', '')\n",
    "    df = pd.read_csv(fp, sep='\\t')\n",
    "    counts = Counter(df['cell_type'])\n",
    "    data.append([counts.get(ct, 0) for ct in cell_types])\n",
    "    sids.append(sid)\n",
    "count_df = pd.DataFrame(data=data, columns=cell_types, index=sids)\n",
    "count_df"
   ]
  },
  {
   "cell_type": "code",
   "execution_count": null,
   "id": "e8805be6",
   "metadata": {},
   "outputs": [],
   "source": [
    "frac_df = count_df.copy()\n",
    "frac_df /= count_df.values.sum(1, keepdims=True)\n",
    "frac_df"
   ]
  },
  {
   "cell_type": "code",
   "execution_count": null,
   "id": "1974efa4",
   "metadata": {},
   "outputs": [],
   "source": []
  },
  {
   "cell_type": "code",
   "execution_count": null,
   "id": "03795f36",
   "metadata": {},
   "outputs": [],
   "source": []
  }
 ],
 "metadata": {
  "kernelspec": {
   "display_name": "Python 3 (ipykernel)",
   "language": "python",
   "name": "python3"
  },
  "language_info": {
   "codemirror_mode": {
    "name": "ipython",
    "version": 3
   },
   "file_extension": ".py",
   "mimetype": "text/x-python",
   "name": "python",
   "nbconvert_exporter": "python",
   "pygments_lexer": "ipython3",
   "version": "3.10.13"
  }
 },
 "nbformat": 4,
 "nbformat_minor": 5
}
