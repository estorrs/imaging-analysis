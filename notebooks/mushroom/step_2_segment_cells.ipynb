{
 "cells": [
  {
   "cell_type": "code",
   "execution_count": 1,
   "id": "8f1e490f",
   "metadata": {},
   "outputs": [],
   "source": [
    "import logging\n",
    "import json\n",
    "import os\n",
    "import re\n",
    "from pathlib import Path\n",
    "from collections import Counter\n",
    "\n",
    "import anndata\n",
    "import pandas as pd\n",
    "import numpy as np\n",
    "import tifffile\n",
    "from einops import rearrange\n",
    "from skimage.measure import regionprops"
   ]
  },
  {
   "cell_type": "code",
   "execution_count": 2,
   "id": "069689f8",
   "metadata": {},
   "outputs": [],
   "source": [
    "%load_ext autoreload"
   ]
  },
  {
   "cell_type": "code",
   "execution_count": 3,
   "id": "599a72a9",
   "metadata": {},
   "outputs": [],
   "source": [
    "%autoreload 2"
   ]
  },
  {
   "cell_type": "code",
   "execution_count": 4,
   "id": "447d9928",
   "metadata": {},
   "outputs": [
    {
     "name": "stderr",
     "output_type": "stream",
     "text": [
      "2024-02-13 13:55:41.880465: W tensorflow/stream_executor/platform/default/dso_loader.cc:64] Could not load dynamic library 'libcudart.so.11.0'; dlerror: libcudart.so.11.0: cannot open shared object file: No such file or directory; LD_LIBRARY_PATH: /diskmnt/Projects/Users/estorrs/miniconda3/envs/imaging_analysis_v2/lib/python3.10/site-packages/cv2/../../lib64:/usr/local/lib:/usr/lib64:/usr/local/lib:/usr/lib64:\n",
      "2024-02-13 13:55:41.880509: I tensorflow/stream_executor/cuda/cudart_stub.cc:29] Ignore above cudart dlerror if you do not have a GPU set up on your machine.\n"
     ]
    }
   ],
   "source": [
    "import multiplex_imaging_pipeline.utils as utils\n",
    "import multiplex_imaging_pipeline.ome as ome\n",
    "import multiplex_imaging_pipeline.segmentation as seg\n",
    "import multiplex_imaging_pipeline.multiplex_imaging_pipeline as mip\n",
    "from multiplex_imaging_pipeline.spatial_features import DEFAULT_GATING_STRATEGY"
   ]
  },
  {
   "cell_type": "code",
   "execution_count": 5,
   "id": "d6b780f7",
   "metadata": {},
   "outputs": [],
   "source": [
    "parent_dir = f'/diskmnt/Projects/Users/estorrs/imaging-analysis/results/mushroom'"
   ]
  },
  {
   "cell_type": "markdown",
   "id": "5323305f",
   "metadata": {},
   "source": [
    "## define inputs"
   ]
  },
  {
   "cell_type": "markdown",
   "id": "c451dcc3",
   "metadata": {},
   "source": [
    "###### S18-9906"
   ]
  },
  {
   "cell_type": "code",
   "execution_count": 6,
   "id": "bd275715",
   "metadata": {},
   "outputs": [],
   "source": [
    "case = 'S18-9906'\n",
    "runs = [\n",
    "    '2023-10-06_S18-9906'\n",
    "]\n",
    "output_dir = os.path.join(parent_dir, case)"
   ]
  },
  {
   "cell_type": "markdown",
   "id": "a801d789",
   "metadata": {},
   "source": [
    "###### HT397B1"
   ]
  },
  {
   "cell_type": "code",
   "execution_count": 19,
   "id": "78bb3885",
   "metadata": {},
   "outputs": [],
   "source": [
    "case = 'HT397B1'\n",
    "runs = [\n",
    "    '2023-03-15_HT397B1',\n",
    "    '2023-03-16_HT397B1',\n",
    "    '2023-04-07_HT397B1',\n",
    "    '2023-04-13_HT397B1'\n",
    "]\n",
    "output_dir = os.path.join(parent_dir, case)"
   ]
  },
  {
   "cell_type": "markdown",
   "id": "509df363",
   "metadata": {},
   "source": [
    "###### HT413C1-Th1k4A1"
   ]
  },
  {
   "cell_type": "code",
   "execution_count": 24,
   "id": "adaa84c7",
   "metadata": {},
   "outputs": [],
   "source": [
    "case = 'HT413C1-Th1k4A1'\n",
    "runs = [\n",
    "    '2024-01-11_HT413C1_Th1k4A1',\n",
    "    '2024-01-10_HT413C1_Th1k4A1'\n",
    "]\n",
    "output_dir = os.path.join(parent_dir, case)"
   ]
  },
  {
   "cell_type": "markdown",
   "id": "464aebc4",
   "metadata": {},
   "source": [
    "###### S18-25943-A7"
   ]
  },
  {
   "cell_type": "code",
   "execution_count": 31,
   "id": "3a0f54b7",
   "metadata": {},
   "outputs": [],
   "source": [
    "case = 'S18-25943-A7'\n",
    "runs = [\n",
    "    '2023-11-22__S18-25943'\n",
    "]\n",
    "output_dir = os.path.join(parent_dir, case)\n",
    "Path(output_dir).mkdir(parents=True, exist_ok=True)"
   ]
  },
  {
   "cell_type": "markdown",
   "id": "c29bbb6e",
   "metadata": {},
   "source": [
    "###### S18-5591-C8"
   ]
  },
  {
   "cell_type": "code",
   "execution_count": 46,
   "id": "02f4f26e",
   "metadata": {},
   "outputs": [],
   "source": [
    "case = 'S18-5591-C8'\n",
    "runs = [\n",
    "    '2023-11-16__S18-5591',\n",
    "    '2023-11-18__S18-5591'\n",
    "]\n",
    "output_dir = os.path.join(parent_dir, case)\n",
    "Path(output_dir).mkdir(parents=True, exist_ok=True)"
   ]
  },
  {
   "cell_type": "markdown",
   "id": "cee56e34",
   "metadata": {},
   "source": [
    "###### HT206B1-H2L1"
   ]
  },
  {
   "cell_type": "code",
   "execution_count": null,
   "id": "9ddbdb46",
   "metadata": {},
   "outputs": [],
   "source": [
    "case = 'HT206B1'\n",
    "runs = [\n",
    "    '2023-09-14_HT206B1',\n",
    "    '2023-10-02_HT206B1'\n",
    "]\n",
    "output_dir = os.path.join(parent_dir, case)\n",
    "Path(output_dir).mkdir(parents=True, exist_ok=True)"
   ]
  },
  {
   "cell_type": "code",
   "execution_count": null,
   "id": "947a2808",
   "metadata": {},
   "outputs": [],
   "source": []
  },
  {
   "cell_type": "markdown",
   "id": "990febdd",
   "metadata": {},
   "source": [
    "## segmentation"
   ]
  },
  {
   "cell_type": "code",
   "execution_count": 51,
   "id": "3e5c9a1a",
   "metadata": {},
   "outputs": [
    {
     "data": {
      "text/html": [
       "<div>\n",
       "<style scoped>\n",
       "    .dataframe tbody tr th:only-of-type {\n",
       "        vertical-align: middle;\n",
       "    }\n",
       "\n",
       "    .dataframe tbody tr th {\n",
       "        vertical-align: top;\n",
       "    }\n",
       "\n",
       "    .dataframe thead th {\n",
       "        text-align: right;\n",
       "    }\n",
       "</style>\n",
       "<table border=\"1\" class=\"dataframe\">\n",
       "  <thead>\n",
       "    <tr style=\"text-align: right;\">\n",
       "      <th></th>\n",
       "      <th>run_name</th>\n",
       "      <th>omero_run_name</th>\n",
       "      <th>date</th>\n",
       "      <th>case</th>\n",
       "      <th>specimen</th>\n",
       "      <th>bbox</th>\n",
       "      <th>filepath</th>\n",
       "    </tr>\n",
       "  </thead>\n",
       "  <tbody>\n",
       "    <tr>\n",
       "      <th>41</th>\n",
       "      <td>20231118_Human_prostate_African_American_seria...</td>\n",
       "      <td>2023-11-18__S18-5591</td>\n",
       "      <td>20231118</td>\n",
       "      <td>S18-5591</td>\n",
       "      <td>S18-5591-U24</td>\n",
       "      <td>44000,61200,1000,27000</td>\n",
       "      <td>/diskmnt/primary/CODEX/HTAN/20231118_Human_pro...</td>\n",
       "    </tr>\n",
       "    <tr>\n",
       "      <th>42</th>\n",
       "      <td>20231118_Human_prostate_African_American_seria...</td>\n",
       "      <td>2023-11-18__S18-5591</td>\n",
       "      <td>20231118</td>\n",
       "      <td>S18-5591</td>\n",
       "      <td>S18-5591-U21</td>\n",
       "      <td>28000,44000,1000,26000</td>\n",
       "      <td>/diskmnt/primary/CODEX/HTAN/20231118_Human_pro...</td>\n",
       "    </tr>\n",
       "    <tr>\n",
       "      <th>43</th>\n",
       "      <td>20231118_Human_prostate_African_American_seria...</td>\n",
       "      <td>2023-11-18__S18-5591</td>\n",
       "      <td>20231118</td>\n",
       "      <td>S18-5591</td>\n",
       "      <td>S18-5591-U14</td>\n",
       "      <td>8000,28000,2000,27000</td>\n",
       "      <td>/diskmnt/primary/CODEX/HTAN/20231118_Human_pro...</td>\n",
       "    </tr>\n",
       "    <tr>\n",
       "      <th>44</th>\n",
       "      <td>20231118_Human_prostate_African_American_seria...</td>\n",
       "      <td>2023-11-18__S18-5591</td>\n",
       "      <td>20231118</td>\n",
       "      <td>S18-5591</td>\n",
       "      <td>S18-5591-U6</td>\n",
       "      <td>0,8000,3000,26000</td>\n",
       "      <td>/diskmnt/primary/CODEX/HTAN/20231118_Human_pro...</td>\n",
       "    </tr>\n",
       "    <tr>\n",
       "      <th>45</th>\n",
       "      <td>20231116_Human_prostate_African_American_seria...</td>\n",
       "      <td>2023-11-16__S18-5591</td>\n",
       "      <td>20231116</td>\n",
       "      <td>S18-5591</td>\n",
       "      <td>S18-5591-U23</td>\n",
       "      <td>38000,56000,0,27000</td>\n",
       "      <td>/diskmnt/primary/CODEX/HTAN/20231116_Human_pro...</td>\n",
       "    </tr>\n",
       "    <tr>\n",
       "      <th>46</th>\n",
       "      <td>20231116_Human_prostate_African_American_seria...</td>\n",
       "      <td>2023-11-16__S18-5591</td>\n",
       "      <td>20231116</td>\n",
       "      <td>S18-5591</td>\n",
       "      <td>S18-5591-U19</td>\n",
       "      <td>23000,38000,1000,25000</td>\n",
       "      <td>/diskmnt/primary/CODEX/HTAN/20231116_Human_pro...</td>\n",
       "    </tr>\n",
       "    <tr>\n",
       "      <th>47</th>\n",
       "      <td>20231116_Human_prostate_African_American_seria...</td>\n",
       "      <td>2023-11-16__S18-5591</td>\n",
       "      <td>20231116</td>\n",
       "      <td>S18-5591</td>\n",
       "      <td>S18-5591-U8</td>\n",
       "      <td>7000,23000,2000,26000</td>\n",
       "      <td>/diskmnt/primary/CODEX/HTAN/20231116_Human_pro...</td>\n",
       "    </tr>\n",
       "    <tr>\n",
       "      <th>48</th>\n",
       "      <td>20231116_Human_prostate_African_American_seria...</td>\n",
       "      <td>2023-11-16__S18-5591</td>\n",
       "      <td>20231116</td>\n",
       "      <td>S18-5591</td>\n",
       "      <td>S18-5591-U2</td>\n",
       "      <td>0,7000,3000,23000</td>\n",
       "      <td>/diskmnt/primary/CODEX/HTAN/20231116_Human_pro...</td>\n",
       "    </tr>\n",
       "  </tbody>\n",
       "</table>\n",
       "</div>"
      ],
      "text/plain": [
       "                                             run_name        omero_run_name  \\\n",
       "41  20231118_Human_prostate_African_American_seria...  2023-11-18__S18-5591   \n",
       "42  20231118_Human_prostate_African_American_seria...  2023-11-18__S18-5591   \n",
       "43  20231118_Human_prostate_African_American_seria...  2023-11-18__S18-5591   \n",
       "44  20231118_Human_prostate_African_American_seria...  2023-11-18__S18-5591   \n",
       "45  20231116_Human_prostate_African_American_seria...  2023-11-16__S18-5591   \n",
       "46  20231116_Human_prostate_African_American_seria...  2023-11-16__S18-5591   \n",
       "47  20231116_Human_prostate_African_American_seria...  2023-11-16__S18-5591   \n",
       "48  20231116_Human_prostate_African_American_seria...  2023-11-16__S18-5591   \n",
       "\n",
       "        date      case      specimen                    bbox  \\\n",
       "41  20231118  S18-5591  S18-5591-U24  44000,61200,1000,27000   \n",
       "42  20231118  S18-5591  S18-5591-U21  28000,44000,1000,26000   \n",
       "43  20231118  S18-5591  S18-5591-U14   8000,28000,2000,27000   \n",
       "44  20231118  S18-5591   S18-5591-U6       0,8000,3000,26000   \n",
       "45  20231116  S18-5591  S18-5591-U23     38000,56000,0,27000   \n",
       "46  20231116  S18-5591  S18-5591-U19  23000,38000,1000,25000   \n",
       "47  20231116  S18-5591   S18-5591-U8   7000,23000,2000,26000   \n",
       "48  20231116  S18-5591   S18-5591-U2       0,7000,3000,23000   \n",
       "\n",
       "                                             filepath  \n",
       "41  /diskmnt/primary/CODEX/HTAN/20231118_Human_pro...  \n",
       "42  /diskmnt/primary/CODEX/HTAN/20231118_Human_pro...  \n",
       "43  /diskmnt/primary/CODEX/HTAN/20231118_Human_pro...  \n",
       "44  /diskmnt/primary/CODEX/HTAN/20231118_Human_pro...  \n",
       "45  /diskmnt/primary/CODEX/HTAN/20231116_Human_pro...  \n",
       "46  /diskmnt/primary/CODEX/HTAN/20231116_Human_pro...  \n",
       "47  /diskmnt/primary/CODEX/HTAN/20231116_Human_pro...  \n",
       "48  /diskmnt/primary/CODEX/HTAN/20231116_Human_pro...  "
      ]
     },
     "execution_count": 51,
     "metadata": {},
     "output_type": "execute_result"
    }
   ],
   "source": [
    "metadata = pd.read_csv('/diskmnt/Projects/Users/estorrs/sandbox/specimen_tracking.tsv', sep='\\t')\n",
    "metadata = metadata[[True if x in runs else False for x in metadata['omero_run_name']]]\n",
    "metadata"
   ]
  },
  {
   "cell_type": "code",
   "execution_count": 54,
   "id": "b44ccb0a",
   "metadata": {},
   "outputs": [
    {
     "name": "stdout",
     "output_type": "stream",
     "text": [
      "/diskmnt/primary/CODEX/HTAN/20231118_Human_prostate_African_American_serial_S18_5591_Slide_6/S18-5591-U24__20231118.ome.tiff ['DAPI', 'CK14', 'Lyve-1', 'CD4', 'CK5', 'STEAP4', 'CD68', 'E-cadherin', 'SMA', 'CD45', 'P63', 'Pan-Cytokeratin', 'HLA-DR', 'Podoplanin', 'Vimentin', 'CD3e', 'CD8', 'CK7', 'CD31', 'CD20', 'CK8/18', 'Ki67', 'AR', 'AMACR']\n",
      "/diskmnt/primary/CODEX/HTAN/20231118_Human_prostate_African_American_serial_S18_5591_Slide_6/S18-5591-U21__20231118.ome.tiff ['DAPI', 'CK14', 'Lyve-1', 'CD4', 'CK5', 'STEAP4', 'CD68', 'E-cadherin', 'SMA', 'CD45', 'P63', 'Pan-Cytokeratin', 'HLA-DR', 'Podoplanin', 'Vimentin', 'CD3e', 'CD8', 'CK7', 'CD31', 'CD20', 'CK8/18', 'Ki67', 'AR', 'AMACR']\n",
      "/diskmnt/primary/CODEX/HTAN/20231118_Human_prostate_African_American_serial_S18_5591_Slide_6/S18-5591-U14__20231118.ome.tiff ['DAPI', 'CK14', 'Lyve-1', 'CD4', 'CK5', 'STEAP4', 'CD68', 'E-cadherin', 'SMA', 'CD45', 'P63', 'Pan-Cytokeratin', 'HLA-DR', 'Podoplanin', 'Vimentin', 'CD3e', 'CD8', 'CK7', 'CD31', 'CD20', 'CK8/18', 'Ki67', 'AR', 'AMACR']\n",
      "/diskmnt/primary/CODEX/HTAN/20231118_Human_prostate_African_American_serial_S18_5591_Slide_6/S18-5591-U6__20231118.ome.tiff ['DAPI', 'CK14', 'Lyve-1', 'CD4', 'CK5', 'STEAP4', 'CD68', 'E-cadherin', 'SMA', 'CD45', 'P63', 'Pan-Cytokeratin', 'HLA-DR', 'Podoplanin', 'Vimentin', 'CD3e', 'CD8', 'CK7', 'CD31', 'CD20', 'CK8/18', 'Ki67', 'AR', 'AMACR']\n",
      "/diskmnt/primary/CODEX/HTAN/20231116_Human_prostate_African_American_serial_S18_5591_Slide_2/S18-5591-U23__20231116.ome.tiff ['DAPI', 'CK14', 'Lyve-1', 'CD4', 'CK5', 'STEAP4', 'CD68', 'E-cadherin', 'SMA', 'CD45', 'P63', 'Pan-Cytokeratin', 'HLA-DR', 'Podoplanin', 'Vimentin', 'CD3e', 'CD8', 'CK7', 'CD31', 'CD20', 'CK8/18', 'Ki67', 'AR', 'AMACR']\n",
      "/diskmnt/primary/CODEX/HTAN/20231116_Human_prostate_African_American_serial_S18_5591_Slide_2/S18-5591-U19__20231116.ome.tiff ['DAPI', 'CK14', 'Lyve-1', 'CD4', 'CK5', 'STEAP4', 'CD68', 'E-cadherin', 'SMA', 'CD45', 'P63', 'Pan-Cytokeratin', 'HLA-DR', 'Podoplanin', 'Vimentin', 'CD3e', 'CD8', 'CK7', 'CD31', 'CD20', 'CK8/18', 'Ki67', 'AR', 'AMACR']\n",
      "/diskmnt/primary/CODEX/HTAN/20231116_Human_prostate_African_American_serial_S18_5591_Slide_2/S18-5591-U8__20231116.ome.tiff ['DAPI', 'CK14', 'Lyve-1', 'CD4', 'CK5', 'STEAP4', 'CD68', 'E-cadherin', 'SMA', 'CD45', 'P63', 'Pan-Cytokeratin', 'HLA-DR', 'Podoplanin', 'Vimentin', 'CD3e', 'CD8', 'CK7', 'CD31', 'CD20', 'CK8/18', 'Ki67', 'AR', 'AMACR']\n",
      "/diskmnt/primary/CODEX/HTAN/20231116_Human_prostate_African_American_serial_S18_5591_Slide_2/S18-5591-U2__20231116.ome.tiff ['DAPI', 'CK14', 'Lyve-1', 'CD4', 'CK5', 'STEAP4', 'CD68', 'E-cadherin', 'SMA', 'CD45', 'P63', 'Pan-Cytokeratin', 'HLA-DR', 'Podoplanin', 'Vimentin', 'CD3e', 'CD8', 'CK7', 'CD31', 'CD20', 'CK8/18', 'Ki67', 'AR', 'AMACR']\n"
     ]
    },
    {
     "data": {
      "text/plain": [
       "['AMACR',\n",
       " 'AR',\n",
       " 'CD20',\n",
       " 'CD31',\n",
       " 'CD3e',\n",
       " 'CD4',\n",
       " 'CD45',\n",
       " 'CD68',\n",
       " 'CD8',\n",
       " 'CK14',\n",
       " 'CK5',\n",
       " 'CK7',\n",
       " 'CK8/18',\n",
       " 'DAPI',\n",
       " 'E-cadherin',\n",
       " 'HLA-DR',\n",
       " 'Ki67',\n",
       " 'Lyve-1',\n",
       " 'P63',\n",
       " 'Pan-Cytokeratin',\n",
       " 'Podoplanin',\n",
       " 'SMA',\n",
       " 'STEAP4',\n",
       " 'Vimentin']"
      ]
     },
     "execution_count": 54,
     "metadata": {},
     "output_type": "execute_result"
    }
   ],
   "source": [
    "mapping = utils.R_CHANNEL_MAPPING\n",
    "common = set()\n",
    "for fp in metadata['filepath']:\n",
    "    channels = utils.get_ome_tiff_channels(fp)\n",
    "    for c in channels:\n",
    "        assert c in mapping, f'channel {c} is not in channel mapping, to ensure all channel names match consider adding {c} to channel mapping'\n",
    "        common.add(mapping[c])\n",
    "        \n",
    "    print(fp, [mapping[c] for c in channels])\n",
    "sorted(common)"
   ]
  },
  {
   "cell_type": "code",
   "execution_count": 55,
   "id": "104ed09a",
   "metadata": {},
   "outputs": [],
   "source": [
    "nuclei_channels = ['DAPI']\n",
    "# membrane_channels = [\n",
    "#     'Pan-Cytokeratin', 'HLA-DR', 'SMA', 'CD4', 'CD45', 'Hep-Par-1', 'CD31', 'E-cadherin', 'CD68', 'CD3e']\n",
    "# membrane_channels = [\n",
    "#     'Pan-Cytokeratin', 'HLA-DR', 'SMA', 'CD4', 'CD45', 'CD31', 'E-cadherin', 'CD68', 'CD3e']\n",
    "# membrane_channels = [\n",
    "#     'Pan-Cytokeratin', 'HLA-DR', 'SMA', 'CD4', 'CD45', 'CD31', 'E-cadherin', 'CD3e']\n",
    "# membrane_channels = [\n",
    "#     'HLA-DR', 'SMA', 'CD4', 'CD45', 'CD31', 'E-cadherin', 'CD68', 'CD3e']\n",
    "membrane_channels = [\n",
    "    'Pan-Cytokeratin', 'HLA-DR', 'SMA', 'CD4', 'CD45', 'CD31', 'E-cadherin', 'CD68', 'CD3e']"
   ]
  },
  {
   "cell_type": "code",
   "execution_count": null,
   "id": "9cfd0f25",
   "metadata": {},
   "outputs": [
    {
     "name": "stderr",
     "output_type": "stream",
     "text": [
      "2024-02-14 13:07:00,167 - starting segmentation for /diskmnt/primary/CODEX/HTAN/20231118_Human_prostate_African_American_serial_S18_5591_Slide_6/S18-5591-U24__20231118.ome.tiff\n",
      "2024-02-14 13:07:00,169 - Checking for cached data\n"
     ]
    },
    {
     "name": "stdout",
     "output_type": "stream",
     "text": [
      "S18-5591-U24\n"
     ]
    },
    {
     "name": "stderr",
     "output_type": "stream",
     "text": [
      "2024-02-14 13:07:00,461 - Checking MultiplexSegmentation-9.tar.gz against provided file_hash...\n",
      "2024-02-14 13:07:00,462 - MultiplexSegmentation-9.tar.gz with hash a1dfbce2594f927b9112f23a0a1739e0 already available.\n",
      "2024-02-14 13:07:00,463 - Extracting /home/estorrs/.deepcell/models/MultiplexSegmentation-9.tar.gz\n",
      "2024-02-14 13:07:03,274 - Successfully extracted /home/estorrs/.deepcell/models/MultiplexSegmentation-9.tar.gz into /home/estorrs/.deepcell/models\n"
     ]
    },
    {
     "name": "stdout",
     "output_type": "stream",
     "text": [
      "WARNING:tensorflow:No training configuration found in save file, so the model was *not* compiled. Compile it manually.\n"
     ]
    },
    {
     "name": "stderr",
     "output_type": "stream",
     "text": [
      "2024-02-14 13:07:10,824 - No training configuration found in save file, so the model was *not* compiled. Compile it manually.\n",
      "2024-02-14 13:11:55,535 - spliting into nrows: 1, ncols: 2\n",
      "2024-02-14 13:11:55,539 - 0 0\n",
      "2024-02-14 13:11:55,540 - window: 0, 25000, 0, 25000\n",
      "/diskmnt/Projects/Users/estorrs/miniconda3/envs/imaging_analysis_v2/lib/python3.10/site-packages/deepcell_toolbox/deep_watershed.py:108: UserWarning: h_maxima peak finding algorithm was selected, but the provided image is larger than 5k x 5k pixels.This will lead to slow prediction performance.\n",
      "  warnings.warn('h_maxima peak finding algorithm was selected, '\n"
     ]
    }
   ],
   "source": [
    "seg_dir = os.path.join(output_dir, 'segmentation')\n",
    "Path(seg_dir).mkdir(parents=True, exist_ok=True)\n",
    "for specimen, fp in zip(metadata['specimen'], metadata['filepath']):\n",
    "    print(specimen)\n",
    "    prefix = os.path.join(seg_dir, specimen)\n",
    "    mip.segment_ome(fp, prefix, 25000, nuclei_channels, membrane_channels)"
   ]
  },
  {
   "cell_type": "code",
   "execution_count": null,
   "id": "816db9e6",
   "metadata": {},
   "outputs": [],
   "source": []
  }
 ],
 "metadata": {
  "kernelspec": {
   "display_name": "Python 3 (ipykernel)",
   "language": "python",
   "name": "python3"
  },
  "language_info": {
   "codemirror_mode": {
    "name": "ipython",
    "version": 3
   },
   "file_extension": ".py",
   "mimetype": "text/x-python",
   "name": "python",
   "nbconvert_exporter": "python",
   "pygments_lexer": "ipython3",
   "version": "3.10.13"
  }
 },
 "nbformat": 4,
 "nbformat_minor": 5
}
