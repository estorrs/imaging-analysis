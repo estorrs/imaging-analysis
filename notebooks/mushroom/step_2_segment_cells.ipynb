{
 "cells": [
  {
   "cell_type": "code",
   "execution_count": 1,
   "id": "8f1e490f",
   "metadata": {},
   "outputs": [],
   "source": [
    "import logging\n",
    "import json\n",
    "import os\n",
    "import re\n",
    "from pathlib import Path\n",
    "from collections import Counter\n",
    "\n",
    "import anndata\n",
    "import pandas as pd\n",
    "import numpy as np\n",
    "import tifffile\n",
    "from einops import rearrange\n",
    "from skimage.measure import regionprops"
   ]
  },
  {
   "cell_type": "code",
   "execution_count": 2,
   "id": "069689f8",
   "metadata": {},
   "outputs": [],
   "source": [
    "%load_ext autoreload"
   ]
  },
  {
   "cell_type": "code",
   "execution_count": 3,
   "id": "599a72a9",
   "metadata": {},
   "outputs": [],
   "source": [
    "%autoreload 2"
   ]
  },
  {
   "cell_type": "code",
   "execution_count": 4,
   "id": "447d9928",
   "metadata": {},
   "outputs": [
    {
     "name": "stderr",
     "output_type": "stream",
     "text": [
      "2024-02-13 13:55:41.880465: W tensorflow/stream_executor/platform/default/dso_loader.cc:64] Could not load dynamic library 'libcudart.so.11.0'; dlerror: libcudart.so.11.0: cannot open shared object file: No such file or directory; LD_LIBRARY_PATH: /diskmnt/Projects/Users/estorrs/miniconda3/envs/imaging_analysis_v2/lib/python3.10/site-packages/cv2/../../lib64:/usr/local/lib:/usr/lib64:/usr/local/lib:/usr/lib64:\n",
      "2024-02-13 13:55:41.880509: I tensorflow/stream_executor/cuda/cudart_stub.cc:29] Ignore above cudart dlerror if you do not have a GPU set up on your machine.\n"
     ]
    }
   ],
   "source": [
    "import multiplex_imaging_pipeline.utils as utils\n",
    "import multiplex_imaging_pipeline.ome as ome\n",
    "import multiplex_imaging_pipeline.segmentation as seg\n",
    "import multiplex_imaging_pipeline.multiplex_imaging_pipeline as mip\n",
    "from multiplex_imaging_pipeline.spatial_features import DEFAULT_GATING_STRATEGY"
   ]
  },
  {
   "cell_type": "code",
   "execution_count": 5,
   "id": "c49db93a",
   "metadata": {},
   "outputs": [],
   "source": [
    "parent_dir = f'/diskmnt/Projects/Users/estorrs/imaging-analysis/results/mushroom'"
   ]
  },
  {
   "cell_type": "markdown",
   "id": "5dc49aec",
   "metadata": {},
   "source": [
    "## define inputs"
   ]
  },
  {
   "cell_type": "markdown",
   "id": "d2407d8e",
   "metadata": {
    "heading_collapsed": true
   },
   "source": [
    "###### S18-9906"
   ]
  },
  {
   "cell_type": "code",
   "execution_count": 6,
   "id": "efba7535",
   "metadata": {
    "hidden": true
   },
   "outputs": [],
   "source": [
    "case = 'S18-9906'\n",
    "runs = [\n",
    "    '2023-10-06_S18-9906'\n",
    "]\n",
    "output_dir = os.path.join(parent_dir, case)"
   ]
  },
  {
   "cell_type": "markdown",
   "id": "86bb60e8",
   "metadata": {
    "heading_collapsed": true
   },
   "source": [
    "###### HT397B1"
   ]
  },
  {
   "cell_type": "code",
   "execution_count": 19,
   "id": "54954741",
   "metadata": {
    "hidden": true
   },
   "outputs": [],
   "source": [
    "case = 'HT397B1'\n",
    "runs = [\n",
    "    '2023-03-15_HT397B1',\n",
    "    '2023-03-16_HT397B1',\n",
    "    '2023-04-07_HT397B1',\n",
    "    '2023-04-13_HT397B1'\n",
    "]\n",
    "output_dir = os.path.join(parent_dir, case)"
   ]
  },
  {
   "cell_type": "markdown",
   "id": "e51b2469",
   "metadata": {
    "heading_collapsed": true
   },
   "source": [
    "###### HT413C1-Th1k4A1"
   ]
  },
  {
   "cell_type": "code",
   "execution_count": 24,
   "id": "adaa84c7",
   "metadata": {
    "hidden": true
   },
   "outputs": [],
   "source": [
    "case = 'HT413C1-Th1k4A1'\n",
    "runs = [\n",
    "    '2024-01-11_HT413C1_Th1k4A1',\n",
    "    '2024-01-10_HT413C1_Th1k4A1'\n",
    "]\n",
    "output_dir = os.path.join(parent_dir, case)"
   ]
  },
  {
   "cell_type": "markdown",
   "id": "0070f792",
   "metadata": {
    "heading_collapsed": true
   },
   "source": [
    "###### S18-25943-A7"
   ]
  },
  {
   "cell_type": "code",
   "execution_count": 31,
   "id": "168ec293",
   "metadata": {
    "hidden": true
   },
   "outputs": [],
   "source": [
    "case = 'S18-25943-A7'\n",
    "runs = [\n",
    "    '2023-11-22__S18-25943'\n",
    "]\n",
    "output_dir = os.path.join(parent_dir, case)\n",
    "Path(output_dir).mkdir(parents=True, exist_ok=True)"
   ]
  },
  {
   "cell_type": "markdown",
   "id": "d404d4ab",
   "metadata": {
    "heading_collapsed": true
   },
   "source": [
    "###### S18-5591-C8"
   ]
  },
  {
   "cell_type": "code",
   "execution_count": 46,
   "id": "37202d56",
   "metadata": {
    "hidden": true
   },
   "outputs": [],
   "source": [
    "case = 'S18-5591-C8'\n",
    "runs = [\n",
    "    '2023-11-16__S18-5591',\n",
    "    '2023-11-18__S18-5591'\n",
    "]\n",
    "output_dir = os.path.join(parent_dir, case)\n",
    "Path(output_dir).mkdir(parents=True, exist_ok=True)"
   ]
  },
  {
   "cell_type": "markdown",
   "id": "57b4195d",
   "metadata": {
    "heading_collapsed": true
   },
   "source": [
    "###### HT206B1-H2L1"
   ]
  },
  {
   "cell_type": "code",
   "execution_count": 62,
   "id": "33f2398c",
   "metadata": {
    "hidden": true
   },
   "outputs": [],
   "source": [
    "case = 'HT206B1'\n",
    "runs = [\n",
    "    '2023-09-14_HT206B1',\n",
    "    '2023-10-02_HT206B1'\n",
    "]\n",
    "output_dir = os.path.join(parent_dir, case)\n",
    "Path(output_dir).mkdir(parents=True, exist_ok=True)"
   ]
  },
  {
   "cell_type": "markdown",
   "id": "726dbb52",
   "metadata": {
    "heading_collapsed": true
   },
   "source": [
    "###### C3L-00982"
   ]
  },
  {
   "cell_type": "code",
   "execution_count": 64,
   "id": "0dd6c663",
   "metadata": {
    "hidden": true
   },
   "outputs": [],
   "source": [
    "case = 'C3L-00982'\n",
    "runs = [\n",
    "    '2024-01-17_C3L-00982',\n",
    "]\n",
    "output_dir = os.path.join(parent_dir, case)\n",
    "Path(output_dir).mkdir(parents=True, exist_ok=True)"
   ]
  },
  {
   "cell_type": "markdown",
   "id": "8ca58b4f",
   "metadata": {
    "heading_collapsed": true
   },
   "source": [
    "###### C3L-02551"
   ]
  },
  {
   "cell_type": "code",
   "execution_count": 80,
   "id": "62c5037a",
   "metadata": {
    "hidden": true
   },
   "outputs": [],
   "source": [
    "case = 'C3L-02551'\n",
    "runs = [\n",
    "    '2024-01-18_C3L-02551',\n",
    "]\n",
    "output_dir = os.path.join(parent_dir, case)\n",
    "Path(output_dir).mkdir(parents=True, exist_ok=True)"
   ]
  },
  {
   "cell_type": "markdown",
   "id": "b66948d0",
   "metadata": {
    "heading_collapsed": true
   },
   "source": [
    "###### C3L-00970"
   ]
  },
  {
   "cell_type": "code",
   "execution_count": 111,
   "id": "5c8e779f",
   "metadata": {
    "hidden": true
   },
   "outputs": [],
   "source": [
    "case = 'C3L-00970'\n",
    "runs = [\n",
    "    '2023-12-20_C3L-00970__C3N-00733__PA00002352',\n",
    "]\n",
    "output_dir = os.path.join(parent_dir, case)\n",
    "Path(output_dir).mkdir(parents=True, exist_ok=True)"
   ]
  },
  {
   "cell_type": "markdown",
   "id": "4735ddb4",
   "metadata": {
    "heading_collapsed": true
   },
   "source": [
    "###### C3L-01287"
   ]
  },
  {
   "cell_type": "code",
   "execution_count": 116,
   "id": "92f8cd6d",
   "metadata": {
    "hidden": true
   },
   "outputs": [],
   "source": [
    "case = 'C3L-01287'\n",
    "runs = [\n",
    "    '2023-12-19_C3L-01287__C3N-01200',\n",
    "]\n",
    "output_dir = os.path.join(parent_dir, case)\n",
    "Path(output_dir).mkdir(parents=True, exist_ok=True)"
   ]
  },
  {
   "cell_type": "markdown",
   "id": "8d61f9d1",
   "metadata": {
    "heading_collapsed": true
   },
   "source": [
    "###### HT413C1-K2"
   ]
  },
  {
   "cell_type": "code",
   "execution_count": 121,
   "id": "b00e35df",
   "metadata": {
    "hidden": true
   },
   "outputs": [],
   "source": [
    "case = 'HT413C1-K2'\n",
    "runs = [\n",
    "    '2023-04-27_HT339B2__HT413C1__HT553P1__HT565B1',\n",
    "]\n",
    "output_dir = os.path.join(parent_dir, case)\n",
    "Path(output_dir).mkdir(parents=True, exist_ok=True)"
   ]
  },
  {
   "cell_type": "markdown",
   "id": "15833557",
   "metadata": {
    "heading_collapsed": true
   },
   "source": [
    "###### HT339B2-H1"
   ]
  },
  {
   "cell_type": "code",
   "execution_count": 128,
   "id": "d527b931",
   "metadata": {
    "hidden": true
   },
   "outputs": [],
   "source": [
    "case = 'HT339B2-H1'\n",
    "runs = [\n",
    "    '2023-04-27_HT339B2__HT413C1__HT553P1__HT565B1',\n",
    "]\n",
    "output_dir = os.path.join(parent_dir, case)\n",
    "Path(output_dir).mkdir(parents=True, exist_ok=True)"
   ]
  },
  {
   "cell_type": "markdown",
   "id": "ce5ca39c",
   "metadata": {
    "heading_collapsed": true
   },
   "source": [
    "###### HT553P1-H2"
   ]
  },
  {
   "cell_type": "code",
   "execution_count": 133,
   "id": "a67b2aeb",
   "metadata": {
    "hidden": true
   },
   "outputs": [],
   "source": [
    "case = 'HT553P1-H2'\n",
    "runs = [\n",
    "    '2023-04-27_HT339B2__HT413C1__HT553P1__HT565B1',\n",
    "]\n",
    "output_dir = os.path.join(parent_dir, case)\n",
    "Path(output_dir).mkdir(parents=True, exist_ok=True)"
   ]
  },
  {
   "cell_type": "markdown",
   "id": "8b0d0dd4",
   "metadata": {
    "heading_collapsed": true
   },
   "source": [
    "###### HT565B1-H2"
   ]
  },
  {
   "cell_type": "code",
   "execution_count": 138,
   "id": "99b1272b",
   "metadata": {
    "hidden": true
   },
   "outputs": [],
   "source": [
    "case = 'HT565B1-H2'\n",
    "runs = [\n",
    "    '2023-04-27_HT339B2__HT413C1__HT553P1__HT565B1',\n",
    "]\n",
    "output_dir = os.path.join(parent_dir, case)\n",
    "Path(output_dir).mkdir(parents=True, exist_ok=True)"
   ]
  },
  {
   "cell_type": "markdown",
   "id": "aa480ae1",
   "metadata": {
    "heading_collapsed": true
   },
   "source": [
    "###### HT448C1-Th1K1Fp1"
   ]
  },
  {
   "cell_type": "code",
   "execution_count": 151,
   "id": "132be354",
   "metadata": {
    "hidden": true
   },
   "outputs": [],
   "source": [
    "case = 'HT448C1-Th1K1Fp1'\n",
    "runs = [\n",
    "    '2023-04-13_HT488C1',\n",
    "    '2023-04-19_HT488C1'\n",
    "]\n",
    "output_dir = os.path.join(parent_dir, case)\n",
    "Path(output_dir).mkdir(parents=True, exist_ok=True)"
   ]
  },
  {
   "cell_type": "markdown",
   "id": "298138bd",
   "metadata": {},
   "source": [
    "## segmentation"
   ]
  },
  {
   "cell_type": "code",
   "execution_count": 152,
   "id": "3e5c9a1a",
   "metadata": {},
   "outputs": [
    {
     "data": {
      "text/html": [
       "<div>\n",
       "<style scoped>\n",
       "    .dataframe tbody tr th:only-of-type {\n",
       "        vertical-align: middle;\n",
       "    }\n",
       "\n",
       "    .dataframe tbody tr th {\n",
       "        vertical-align: top;\n",
       "    }\n",
       "\n",
       "    .dataframe thead th {\n",
       "        text-align: right;\n",
       "    }\n",
       "</style>\n",
       "<table border=\"1\" class=\"dataframe\">\n",
       "  <thead>\n",
       "    <tr style=\"text-align: right;\">\n",
       "      <th></th>\n",
       "      <th>run_name</th>\n",
       "      <th>omero_run_name</th>\n",
       "      <th>date</th>\n",
       "      <th>case</th>\n",
       "      <th>specimen</th>\n",
       "      <th>bbox</th>\n",
       "      <th>filepath</th>\n",
       "    </tr>\n",
       "  </thead>\n",
       "  <tbody>\n",
       "    <tr>\n",
       "      <th>157</th>\n",
       "      <td>HT488C1-Th1K1Fp1_Scan1</td>\n",
       "      <td>2023-04-13_HT488C1</td>\n",
       "      <td>20230413</td>\n",
       "      <td>HT488C1</td>\n",
       "      <td>HT488C1-Th1K1Fp1</td>\n",
       "      <td>NaN</td>\n",
       "      <td>/diskmnt/primary/CODEX/HTAN/041323_CRC_HT488C1...</td>\n",
       "    </tr>\n",
       "    <tr>\n",
       "      <th>169</th>\n",
       "      <td>HT488C1-Th1K1Fp1-U14_Scan1</td>\n",
       "      <td>2023-04-19_HT488C1</td>\n",
       "      <td>20230419</td>\n",
       "      <td>HT488C1</td>\n",
       "      <td>HT488C1-Th1K1Fp1-U14</td>\n",
       "      <td>NaN</td>\n",
       "      <td>/diskmnt/primary/CODEX/HTAN/041823_CRC_HT488C1...</td>\n",
       "    </tr>\n",
       "  </tbody>\n",
       "</table>\n",
       "</div>"
      ],
      "text/plain": [
       "                       run_name      omero_run_name      date     case  \\\n",
       "157      HT488C1-Th1K1Fp1_Scan1  2023-04-13_HT488C1  20230413  HT488C1   \n",
       "169  HT488C1-Th1K1Fp1-U14_Scan1  2023-04-19_HT488C1  20230419  HT488C1   \n",
       "\n",
       "                 specimen bbox  \\\n",
       "157      HT488C1-Th1K1Fp1  NaN   \n",
       "169  HT488C1-Th1K1Fp1-U14  NaN   \n",
       "\n",
       "                                              filepath  \n",
       "157  /diskmnt/primary/CODEX/HTAN/041323_CRC_HT488C1...  \n",
       "169  /diskmnt/primary/CODEX/HTAN/041823_CRC_HT488C1...  "
      ]
     },
     "execution_count": 152,
     "metadata": {},
     "output_type": "execute_result"
    }
   ],
   "source": [
    "metadata = pd.read_csv('/diskmnt/Projects/Users/estorrs/sandbox/specimen_tracking.tsv', sep='\\t')\n",
    "metadata = metadata[[True if x in runs else False for x in metadata['omero_run_name']]]\n",
    "# metadata = metadata[[True if case in x else False for x in metadata['specimen']]]\n",
    "metadata"
   ]
  },
  {
   "cell_type": "code",
   "execution_count": 147,
   "id": "b44ccb0a",
   "metadata": {},
   "outputs": [
    {
     "name": "stdout",
     "output_type": "stream",
     "text": [
      "/diskmnt/primary/CODEX/HTAN/041323_CRC_HT488C1-Th1K1Fp1-U2/HT488C1-Th1K1Fp1__20230413.ome.tiff ['DAPI', 'Podoplanin', 'Pan-Cytokeratin', 'HLA-DR', 'CD8', 'SMA', 'CD45', 'Ki67', 'Vimentin', 'GLUT1', 'CK19', 'Hep-Par-1', 'CD3e', 'E-cadherin', 'CK7', 'CD11b', 'CD68', 'CD31', 'FOXP3']\n",
      "/diskmnt/primary/CODEX/HTAN/041823_CRC_HT488C1-Th1K1Fp1-U14/HT488C1-Th1K1Fp1-U14__20230419.ome.tiff ['DAPI', 'Podoplanin', 'Pan-Cytokeratin', 'HLA-DR', 'CD8', 'SMA', 'CD45', 'Ki67', 'Vimentin', 'GLUT1', 'CK19', 'CK7', 'CD3e', 'E-cadherin', 'CD11b', 'CD31', 'CD4', 'CD68']\n"
     ]
    },
    {
     "data": {
      "text/plain": [
       "['CD11b',\n",
       " 'CD31',\n",
       " 'CD3e',\n",
       " 'CD4',\n",
       " 'CD45',\n",
       " 'CD68',\n",
       " 'CD8',\n",
       " 'CK19',\n",
       " 'CK7',\n",
       " 'DAPI',\n",
       " 'E-cadherin',\n",
       " 'FOXP3',\n",
       " 'GLUT1',\n",
       " 'HLA-DR',\n",
       " 'Hep-Par-1',\n",
       " 'Ki67',\n",
       " 'Pan-Cytokeratin',\n",
       " 'Podoplanin',\n",
       " 'SMA',\n",
       " 'Vimentin']"
      ]
     },
     "execution_count": 147,
     "metadata": {},
     "output_type": "execute_result"
    }
   ],
   "source": [
    "mapping = utils.R_CHANNEL_MAPPING\n",
    "common = set()\n",
    "for fp in metadata['filepath']:\n",
    "    channels = utils.get_ome_tiff_channels(fp)\n",
    "    for c in channels:\n",
    "        assert c in mapping, f'channel {c} is not in channel mapping, to ensure all channel names match consider adding {c} to channel mapping'\n",
    "        common.add(mapping[c])\n",
    "        \n",
    "    print(fp, [mapping[c] for c in channels])\n",
    "sorted(common)"
   ]
  },
  {
   "cell_type": "code",
   "execution_count": 148,
   "id": "b3f35c88",
   "metadata": {},
   "outputs": [],
   "source": [
    "nuclei_channels = ['DAPI']\n",
    "membrane_channels = [\n",
    "    'Pan-Cytokeratin', 'HLA-DR', 'SMA', 'CD4', 'CD45', 'Hep-Par-1', 'CD31', 'E-cadherin', 'CD68', 'CD3e']\n",
    "# membrane_channels = [\n",
    "#     'Pan-Cytokeratin', 'HLA-DR', 'SMA', 'CD4', 'CD45', 'CD31', 'E-cadherin', 'CD68', 'CD3e']\n",
    "# membrane_channels = [\n",
    "#     'Pan-Cytokeratin', 'HLA-DR', 'SMA', 'CD4', 'CD45', 'CD31', 'E-cadherin', 'CD3e']\n",
    "# membrane_channels = [\n",
    "#     'HLA-DR', 'SMA', 'CD4', 'CD45', 'CD31', 'E-cadherin', 'CD68', 'CD3e']\n",
    "# membrane_channels = [\n",
    "#     'Pan-Cytokeratin', 'HLA-DR', 'SMA', 'CD4', 'CD45', 'CD31', 'E-cadherin', 'CD68', 'CD3e']\n",
    "# membrane_channels = [\n",
    "#     'SMA', 'CD4', 'CD45', 'CD31', 'CD68', 'CD3e', 'AQP1', 'AQP2', 'CA9', 'IBA1', 'LRP2']\n",
    "# membrane_channels = [\n",
    "#     'Pan-Cytokeratin', 'SMA', 'CD4', 'CD45', 'CD31', 'CD68', 'CD3e', 'AQP1', 'AQP2', 'CA9', 'IBA1', 'LRP2']"
   ]
  },
  {
   "cell_type": "code",
   "execution_count": 150,
   "id": "9cfd0f25",
   "metadata": {},
   "outputs": [
    {
     "name": "stderr",
     "output_type": "stream",
     "text": [
      "2024-02-19 09:38:49,358 - starting segmentation for /diskmnt/primary/CODEX/HTAN/041323_CRC_HT488C1-Th1K1Fp1-U2/HT488C1-Th1K1Fp1__20230413.ome.tiff\n",
      "2024-02-19 09:38:49,360 - Checking for cached data\n"
     ]
    },
    {
     "name": "stdout",
     "output_type": "stream",
     "text": [
      "HT488C1-Th1K1Fp1\n"
     ]
    },
    {
     "name": "stderr",
     "output_type": "stream",
     "text": [
      "2024-02-19 09:38:49,652 - Checking MultiplexSegmentation-9.tar.gz against provided file_hash...\n",
      "2024-02-19 09:38:49,653 - MultiplexSegmentation-9.tar.gz with hash a1dfbce2594f927b9112f23a0a1739e0 already available.\n",
      "2024-02-19 09:38:49,654 - Extracting /home/estorrs/.deepcell/models/MultiplexSegmentation-9.tar.gz\n",
      "2024-02-19 09:38:52,565 - Successfully extracted /home/estorrs/.deepcell/models/MultiplexSegmentation-9.tar.gz into /home/estorrs/.deepcell/models\n"
     ]
    },
    {
     "name": "stdout",
     "output_type": "stream",
     "text": [
      "WARNING:tensorflow:No training configuration found in save file, so the model was *not* compiled. Compile it manually.\n"
     ]
    },
    {
     "name": "stderr",
     "output_type": "stream",
     "text": [
      "2024-02-19 09:39:01,665 - No training configuration found in save file, so the model was *not* compiled. Compile it manually.\n"
     ]
    },
    {
     "name": "stdout",
     "output_type": "stream",
     "text": [
      "warning: CD4 not in image\n",
      "warning: Hep-Par-1 not in image\n"
     ]
    },
    {
     "name": "stderr",
     "output_type": "stream",
     "text": [
      "/diskmnt/Projects/Users/estorrs/miniconda3/envs/imaging_analysis_v2/lib/python3.10/site-packages/deepcell_toolbox/deep_watershed.py:108: UserWarning: h_maxima peak finding algorithm was selected, but the provided image is larger than 5k x 5k pixels.This will lead to slow prediction performance.\n",
      "  warnings.warn('h_maxima peak finding algorithm was selected, '\n",
      "2024-02-19 09:57:30,121 - finished segmentation\n",
      "2024-02-19 09:57:30,126 - writing /diskmnt/Projects/Users/estorrs/imaging-analysis/results/mushroom/HT448C1-Th1K1Fp1/segmentation/HT488C1-Th1K1Fp1_nuclei_segmentation.tif\n",
      "2024-02-19 09:57:30,911 - writing /diskmnt/Projects/Users/estorrs/imaging-analysis/results/mushroom/HT448C1-Th1K1Fp1/segmentation/HT488C1-Th1K1Fp1_cell_segmentation.tif\n",
      "2024-02-19 09:57:31,832 - starting segmentation for /diskmnt/primary/CODEX/HTAN/041823_CRC_HT488C1-Th1K1Fp1-U14/HT488C1-Th1K1Fp1-U14__20230419.ome.tiff\n",
      "2024-02-19 09:57:31,835 - Checking for cached data\n"
     ]
    },
    {
     "name": "stdout",
     "output_type": "stream",
     "text": [
      "HT488C1-Th1K1Fp1-U14\n"
     ]
    },
    {
     "name": "stderr",
     "output_type": "stream",
     "text": [
      "2024-02-19 09:57:32,135 - Checking MultiplexSegmentation-9.tar.gz against provided file_hash...\n",
      "2024-02-19 09:57:32,136 - MultiplexSegmentation-9.tar.gz with hash a1dfbce2594f927b9112f23a0a1739e0 already available.\n",
      "2024-02-19 09:57:32,137 - Extracting /home/estorrs/.deepcell/models/MultiplexSegmentation-9.tar.gz\n",
      "2024-02-19 09:57:35,076 - Successfully extracted /home/estorrs/.deepcell/models/MultiplexSegmentation-9.tar.gz into /home/estorrs/.deepcell/models\n"
     ]
    },
    {
     "name": "stdout",
     "output_type": "stream",
     "text": [
      "WARNING:tensorflow:No training configuration found in save file, so the model was *not* compiled. Compile it manually.\n"
     ]
    },
    {
     "name": "stderr",
     "output_type": "stream",
     "text": [
      "2024-02-19 09:57:44,917 - No training configuration found in save file, so the model was *not* compiled. Compile it manually.\n"
     ]
    },
    {
     "name": "stdout",
     "output_type": "stream",
     "text": [
      "warning: Hep-Par-1 not in image\n"
     ]
    },
    {
     "name": "stderr",
     "output_type": "stream",
     "text": [
      "/diskmnt/Projects/Users/estorrs/miniconda3/envs/imaging_analysis_v2/lib/python3.10/site-packages/deepcell_toolbox/deep_watershed.py:108: UserWarning: h_maxima peak finding algorithm was selected, but the provided image is larger than 5k x 5k pixels.This will lead to slow prediction performance.\n",
      "  warnings.warn('h_maxima peak finding algorithm was selected, '\n",
      "2024-02-19 10:15:31,318 - finished segmentation\n",
      "2024-02-19 10:15:31,321 - writing /diskmnt/Projects/Users/estorrs/imaging-analysis/results/mushroom/HT448C1-Th1K1Fp1/segmentation/HT488C1-Th1K1Fp1-U14_nuclei_segmentation.tif\n",
      "2024-02-19 10:15:31,990 - writing /diskmnt/Projects/Users/estorrs/imaging-analysis/results/mushroom/HT448C1-Th1K1Fp1/segmentation/HT488C1-Th1K1Fp1-U14_cell_segmentation.tif\n"
     ]
    }
   ],
   "source": [
    "seg_dir = os.path.join(output_dir, 'segmentation')\n",
    "Path(seg_dir).mkdir(parents=True, exist_ok=True)\n",
    "for specimen, fp in zip(metadata['specimen'], metadata['filepath']):\n",
    "    print(specimen)\n",
    "    prefix = os.path.join(seg_dir, specimen)\n",
    "#     prefix = os.path.join(seg_dir, case)\n",
    "    mip.segment_ome(fp, prefix, 25000, nuclei_channels, membrane_channels)"
   ]
  },
  {
   "cell_type": "code",
   "execution_count": null,
   "id": "816db9e6",
   "metadata": {},
   "outputs": [],
   "source": []
  }
 ],
 "metadata": {
  "kernelspec": {
   "display_name": "Python 3 (ipykernel)",
   "language": "python",
   "name": "python3"
  },
  "language_info": {
   "codemirror_mode": {
    "name": "ipython",
    "version": 3
   },
   "file_extension": ".py",
   "mimetype": "text/x-python",
   "name": "python",
   "nbconvert_exporter": "python",
   "pygments_lexer": "ipython3",
   "version": "3.10.13"
  }
 },
 "nbformat": 4,
 "nbformat_minor": 5
}
