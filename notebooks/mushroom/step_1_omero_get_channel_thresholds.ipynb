{
 "cells": [
  {
   "cell_type": "code",
   "execution_count": 1,
   "id": "681793d8",
   "metadata": {},
   "outputs": [],
   "source": [
    "import json\n",
    "import os\n",
    "import re\n",
    "from pathlib import Path\n",
    "\n",
    "import pandas as pd\n",
    "import numpy as np\n",
    "import omero.clients\n",
    "\n",
    "from omero.gateway import BlitzGateway"
   ]
  },
  {
   "cell_type": "code",
   "execution_count": 2,
   "id": "461df970",
   "metadata": {},
   "outputs": [],
   "source": [
    "parent_dir = f'/diskmnt/Projects/Users/estorrs/imaging-analysis/results/mushroom'\n",
    "Path(parent_dir).mkdir(parents=True, exist_ok=True)"
   ]
  },
  {
   "cell_type": "code",
   "execution_count": 3,
   "id": "99c05ee0",
   "metadata": {},
   "outputs": [],
   "source": [
    "password = '' # password here"
   ]
  },
  {
   "cell_type": "code",
   "execution_count": 4,
   "id": "6580a2d6",
   "metadata": {},
   "outputs": [],
   "source": [
    "group = 'HTAN'\n",
    "project = 'CODEX'\n",
    "username = 'estorrs'\n",
    "host = 'htan-imaging.wucon.wustl.edu'\n",
    "port = '4064'"
   ]
  },
  {
   "cell_type": "code",
   "execution_count": 5,
   "id": "9ce1e7c6",
   "metadata": {},
   "outputs": [
    {
     "data": {
      "text/plain": [
       "True"
      ]
     },
     "execution_count": 5,
     "metadata": {},
     "output_type": "execute_result"
    }
   ],
   "source": [
    "conn = BlitzGateway(username, password, host=host, port=port,\n",
    "                    secure=True, group=group)\n",
    "conn.connect()"
   ]
  },
  {
   "cell_type": "code",
   "execution_count": 6,
   "id": "12abd625",
   "metadata": {},
   "outputs": [],
   "source": [
    "project = next(iter(conn.getObjects(\"Project\", attributes={\"name\": project})))"
   ]
  },
  {
   "cell_type": "code",
   "execution_count": 7,
   "id": "858ed899",
   "metadata": {},
   "outputs": [
    {
     "data": {
      "text/plain": [
       "['2021-07-20_HT264P1 | 2021-07-20_HT264P1.ome.tiff',\n",
       " '2021-07-20_HT264P1 | HT264P1-S1H2A2__20210720.ome.tiff',\n",
       " '2021-07-20_HT264P1_2 | 2021-07-20_HT264P1_2.ome.tiff',\n",
       " '2021-07-20_HT264P1_2 | HT264P1-S1H2A2__20210720.ome.tiff',\n",
       " '2021-07-20_HT264P1_2 | HT264P1-S1H2A2__2__20210720.ome.tiff',\n",
       " '2021-09-21_HT293N1 | 2021-09-21_HT293N1.ome.tiff',\n",
       " '2021-09-21_HT293N1 | HT293N1-S1H3A1__20210921.ome.tiff',\n",
       " '2021-09-21_HT293N1_2 | 2021-09-21_HT293N1_2.ome.tiff',\n",
       " '2021-09-21_HT293N1_2 | HT293N1-S1H3A1__20210921.ome.tiff',\n",
       " '2021-09-21_HT293N1_2 | HT293N1-S1H3A1__2__20210921.ome.tiff',\n",
       " '2021-09-21_HT293N1_3 | 2021-09-21_HT293N1_3.ome.tiff',\n",
       " '2021-09-21_HT293N1_3 | HT293N1-S1H3A1__20210921.ome.tiff',\n",
       " '2021-09-21_HT293N1_3 | HT293N1-S1H3A1__3__20210921.ome.tiff',\n",
       " '2021-09-28_Human_Kidney_292 | 2021-09-28_Human_Kidney_292.ome.tiff',\n",
       " '2021-09-28_Human_Kidney_292 | Human_Kidney_292__20210928.ome.tiff',\n",
       " '2021-10-08_HT323B1 | 2021-10-08_HT323B1.ome.tiff',\n",
       " '2021-10-08_HT323B1 | HT323B1-S1H3A4__20211008.ome.tiff',\n",
       " '2021-10-19_HT339B1 | 2021-10-19_HT339B1.ome.tiff',\n",
       " '2021-10-19_HT339B1 | HT339B1-S1H3A1__20211019.ome.tiff',\n",
       " '2021-12-29_HT122P1 | 2021-12-29_HT122P1.ome.tiff',\n",
       " '2021-12-29_HT122P1 | HT122P1-H4__20211229.ome.tiff',\n",
       " '2022-01-10_HT206B1 | 2022-01-10_HT206B1.ome.tiff',\n",
       " '2022-01-10_HT206B1 | HT206B1-H1__20220110.ome.tiff',\n",
       " '2022-01-28_HT434P1 | 2022-01-28_HT434P1.ome.tiff',\n",
       " '2022-01-28_HT434P1 | HT434P1-H1__20220128.ome.tiff',\n",
       " '2022-02-10_HT323B1 | 2022-02-10_HT323B1.ome.tiff',\n",
       " '2022-02-10_HT323B1 | HT323B1-H1A4__20220210.ome.tiff',\n",
       " '2022-02-10_HT323B1_2 | 2022-02-10_HT323B1_2.ome.tiff',\n",
       " '2022-02-10_HT323B1_2 | HT323B1-A1__20220210.ome.tiff',\n",
       " '2022-02-11_HT323B1 | 2022-02-11_HT323B1.ome.tiff',\n",
       " '2022-02-11_HT323B1 | HT323B1-H3__20220211.ome.tiff',\n",
       " '2022-02-17_HT308B1 | 2022-02-17_HT308B1.ome.tiff',\n",
       " '2022-02-17_HT308B1 | HT308B1-H5A4__20220217.ome.tiff',\n",
       " '2022-02-21_HT308B1 | 2022-02-21_HT308B1.ome.tiff',\n",
       " '2022-02-21_HT308B1 | HT308B1-H4A1__20220221.ome.tiff',\n",
       " '2022-03-02_HT339B1 | 2022-03-02_HT339B1.ome.tiff',\n",
       " '2022-03-02_HT339B1 | HT339B1-H2A1__20220302.ome.tiff',\n",
       " '2022-03-02_HT339B1_2 | 2022-03-02_HT339B1_2.ome.tiff',\n",
       " '2022-03-02_HT339B1_2 | HT339B1-H1A1__20220302.ome.tiff',\n",
       " '2022-03-06_HT339B1 | 2022-03-06_HT339B1.ome.tiff',\n",
       " '2022-03-06_HT339B1 | HT339B1-H4A4__20220306.ome.tiff',\n",
       " '2022-04-29_HT397B1 | 2022-04-29_HT397B1.ome.tiff',\n",
       " '2022-04-29_HT397B1 | HT397B1-H3A1__20220429.ome.tiff',\n",
       " '2022-05-05_HT397B1 | 2022-05-05_HT397B1.ome.tiff',\n",
       " '2022-05-05_HT397B1 | HT397B1-H2A2__20220505.ome.tiff',\n",
       " '2022-06-25_HT206B1 | 2022-06-25_HT206B1.ome.tiff',\n",
       " '2022-06-25_HT206B1 | HT206B1-H1__20220625.ome.tiff',\n",
       " '2022-08-04_HT297B1 | 2022-08-04_HT297B1.ome.tiff',\n",
       " '2022-08-04_HT297B1 | HT297B1-H1__20220804.ome.tiff',\n",
       " '2022-08-04_HT323B1 | 2022-08-04_HT323B1.ome.tiff',\n",
       " '2022-08-04_HT323B1 | HT323B1-H1__20220804.ome.tiff',\n",
       " '2022-08-18_DEG_150F | 2022-08-18_DEG_150F.ome.tiff',\n",
       " '2022-08-18_DEG_150F | DEG_150F__20220818.ome.tiff',\n",
       " '2022-08-18_DEG_292M | 2022-08-18_DEG_292M.ome.tiff',\n",
       " '2022-08-18_DEG_292M | DEG_292M__20220818.ome.tiff',\n",
       " '2022-09-02_DEG_150F | 2022-09-02_DEG_150F.ome.tiff',\n",
       " '2022-09-02_DEG_150F | DEG_150F__20220902.ome.tiff',\n",
       " '2022-09-02_DEG_292M | 2022-09-02_DEG_292M.ome.tiff',\n",
       " '2022-09-02_DEG_292M | DEG_292M__20220902.ome.tiff',\n",
       " '2022-09-06_DEG_150F | 2022-09-06_DEG_150F.ome.tiff',\n",
       " '2022-09-06_DEG_150F | DEG_150F__20220906.ome.tiff',\n",
       " '2022-09-06_DEG_292M | 2022-09-06_DEG_292M.ome.tiff',\n",
       " '2022-09-06_DEG_292M | DEG_292M__20220906.ome.tiff',\n",
       " '2022-09-15_HT480B1 | 2022-09-15_HT480B1.ome.tiff',\n",
       " '2022-09-15_HT480B1 | HT480B1-S1H2__20220915.ome.tiff',\n",
       " '2022-09-17_HT480B1 | 2022-09-17_HT480B1.ome.tiff',\n",
       " '2022-09-17_HT480B1 | HT480B1-S1H2__20220917.ome.tiff',\n",
       " '2022-10-20_HT206B1__HT427P1 | 2022-10-20_HT206B1__HT427P1.ome.tiff',\n",
       " '2022-10-20_HT206B1__HT427P1 | HT206B1-S1H2L4__20221020.ome.tiff',\n",
       " '2022-10-20_HT206B1__HT427P1 | HT427P1_S1H1A3__20221020.ome.tiff',\n",
       " '2022-10-28_HT206B1__HT427P1 | 2022-10-28_HT206B1__HT427P1.ome.tiff',\n",
       " '2022-10-28_HT206B1__HT427P1 | HT206B1-S1H2L4__20221028.ome.tiff',\n",
       " '2022-10-28_HT206B1__HT427P1 | HT427P1-S1H1A3__20221028.ome.tiff',\n",
       " '2022-11-05_HT206B1 | 2022-11-05_HT206B1.ome.tiff',\n",
       " '2022-11-05_HT206B1 | HT206B1-S1H2L4__20221105.ome.tiff',\n",
       " '2022-11-12_HT308B1__MouseMarrow_179 | 2022-11-12_HT308B1__MouseMarrow_179.ome.tiff',\n",
       " '2022-11-12_HT308B1__MouseMarrow_179 | HT308B1__20221112.ome.tiff',\n",
       " '2022-11-12_HT308B1__MouseMarrow_179 | MouseMarrow_179__20221112.ome.tiff',\n",
       " '2022-11-18_HT171B1__HT271B1 | 2022-11-18_HT171B1__HT271B1.ome.tiff',\n",
       " '2022-11-18_HT171B1__HT271B1 | HT171B1-S1H1A1__20221118.ome.tiff',\n",
       " '2022-11-18_HT171B1__HT271B1 | HT171B1-S1H1A4__20221118.ome.tiff',\n",
       " '2022-11-18_HT171B1__HT271B1 | HT271B1_S1H3A5__20221118.ome.tiff',\n",
       " '2022-11-22_HT171B1 | 2022-11-22_HT171B1.ome.tiff',\n",
       " '2022-11-22_HT171B1 | HT171B1_S1H1A1__20221122.ome.tiff',\n",
       " '2022-12-02_HT171B1__HT271B1 | 2022-12-02_HT171B1__HT271B1.ome.tiff',\n",
       " '2022-12-02_HT171B1__HT271B1 | HT171B1-S1H1A1__20221202.ome.tiff',\n",
       " '2022-12-02_HT171B1__HT271B1 | HT171B1-S1H1A4__20221202.ome.tiff',\n",
       " '2022-12-02_HT171B1__HT271B1 | HT271B1_S1H3A5__20221202.ome.tiff',\n",
       " '2022-12-05_HT171B1 | 2022-12-05_HT171B1.ome.tiff',\n",
       " '2022-12-05_HT171B1 | HT171B1_S1H1A4__20221205.ome.tiff',\n",
       " '2022-12-16_HT110B1__HT243B1__HT305B1 | HT110B1-S1H4__20221216.ome.tiff',\n",
       " '2022-12-16_HT110B1__HT243B1__HT305B1 | HT243B1-S1H4__20221216.ome.tiff',\n",
       " '2022-12-16_HT110B1__HT243B1__HT305B1 | HT305B1-S1H1__20221216.ome.tiff',\n",
       " '2022-12-20_SN011__SN045 | SN011__20221220.ome.tiff',\n",
       " '2022-12-20_SN011__SN045 | SN045_OLD_section1__20221220.ome.tiff',\n",
       " '2022-12-20_SN011__SN045 | SN045_OLD_section2__20221220.ome.tiff',\n",
       " '2022-12-21_K1301459__K2200110-6__K2200452 | 2022-12-21_K1301459__K2200110-6__K2200452.ome.tiff',\n",
       " '2022-12-21_K1301459__K2200110-6__K2200452 | K1301459__20221221.ome.tiff',\n",
       " '2022-12-21_K1301459__K2200110-6__K2200452 | K2200110-6__20221221.ome.tiff',\n",
       " '2022-12-21_K1301459__K2200110-6__K2200452 | K2200452_2PB__20221221.ome.tiff',\n",
       " '2023-01-07_SN001H1 | 2023-01-07_SN001H1.ome.tiff',\n",
       " '2023-01-07_SN001H1 | SN001H1__20230107.ome.tiff',\n",
       " '2023-01-08_SN001H1 | 2023-01-08_SN001H1.ome.tiff',\n",
       " '2023-01-08_SN001H1 | SN001H1-Md1Fp2_1__20230108.ome.tiff',\n",
       " '2023-01-13_SN002H1__SN050H1 | 2023-01-13_SN002H1__SN050H1.ome.tiff',\n",
       " '2023-01-13_SN002H1__SN050H1 | SN002H1-Ma1Fp2__20230113.ome.tiff',\n",
       " '2023-01-13_SN002H1__SN050H1 | SN050H1__20230113.ome.tiff',\n",
       " '2023-01-14_SN002__SN050 | 2023-01-14_SN002__SN050.ome.tiff',\n",
       " '2023-01-14_SN002__SN050 | SN002__20230114.ome.tiff',\n",
       " '2023-01-14_SN002__SN050 | SN050__20230114.ome.tiff',\n",
       " '2023-01-20_K1301459__K200452-2PB__K2200446-4PB | K1301459__20230120.ome.tiff',\n",
       " '2023-01-20_K1301459__K200452-2PB__K2200446-4PB | K200452-2PB__20230120.ome.tiff',\n",
       " '2023-01-20_K1301459__K200452-2PB__K2200446-4PB | K2200446-4PB__20230120.ome.tiff',\n",
       " '2023-01-26_K1301459 | 2023-01-26_K1301459.ome.tiff',\n",
       " '2023-01-26_K1301459 | K1301459__20230126.ome.tiff',\n",
       " '2023-01-28_K2200446_3PB | 2024-01-28_K2200446_3PB.ome.tiff',\n",
       " '2023-01-28_K2200446_3PB | K2200446_3PB__20240128.ome.tiff',\n",
       " '2023-02-02_K2200452_2PB | 2023-02-02_K2200452_2PB.ome.tiff',\n",
       " '2023-02-02_K2200452_2PB | K2200452_2PB__20230202.ome.tiff',\n",
       " '2023-02-03_K2200444_2PB | 2023-02-03_K2200444_2PB.ome.tiff',\n",
       " '2023-02-03_K2200444_2PB | K2200444_2PB__20230203.ome.tiff',\n",
       " '2023-02-08_MousePKD_741_21d | 2023-02-08_MousePKD_741_21d.ome.tiff',\n",
       " '2023-02-08_MousePKD_741_21d | MousePKD_741_21d__20230208.ome.tiff',\n",
       " '2023-02-17_HT271B1 | 2023-02-17_HT271B1.ome.tiff',\n",
       " '2023-02-17_HT271B1 | HT271B1_S1H3A5__20230217.ome.tiff',\n",
       " '2023-02-21_HT365B | 2023-02-21_HT365B.ome.tiff',\n",
       " '2023-02-21_HT365B | HT365B1_S1H1__20230221.ome.tiff',\n",
       " '2023-02-23_pkd_14519_38d__pkd_14801_38d__pkd_738_21d__pkd_743_21d | pkd_14519_38d__20230223.ome.tiff',\n",
       " '2023-02-23_pkd_14519_38d__pkd_14801_38d__pkd_738_21d__pkd_743_21d | pkd_14801_38d__20230223.ome.tiff',\n",
       " '2023-02-23_pkd_14519_38d__pkd_14801_38d__pkd_738_21d__pkd_743_21d | pkd_738_21d__20230223.ome.tiff',\n",
       " '2023-02-23_pkd_14519_38d__pkd_14801_38d__pkd_738_21d__pkd_743_21d | pkd_743_21d__20230223.ome.tiff',\n",
       " '2023-03-04_HT342C1__HT347C1 | 2023-03-04_HT342C1__HT347C1.ome.tiff',\n",
       " '2023-03-04_HT342C1__HT347C1 | HT342C1-Th1K4A1_section1__20230304.ome.tiff',\n",
       " '2023-03-04_HT342C1__HT347C1 | HT342C1-Th1K4A1_section2__20230304.ome.tiff',\n",
       " '2023-03-04_HT342C1__HT347C1 | HT347C1-Th1K2A1_section1__20230304.ome.tiff',\n",
       " '2023-03-04_HT342C1__HT347C1 | HT347C1-Th1K2A1_section2__20230304.ome.tiff',\n",
       " '2023-03-07_S15_1909 | 2023-03-07_S15_1909.ome.tiff',\n",
       " '2023-03-07_S15_1909 | S15_1909_A3_Section3__20230307.ome.tiff',\n",
       " '2023-03-08_S15_1909 | 2023-03-08_S15_1909.ome.tiff',\n",
       " '2023-03-08_S15_1909 | S15_1909_C2_Section3__20230308.ome.tiff',\n",
       " '2023-03-15_HT397B1 | 2023-03-15_HT397B1.ome.tiff',\n",
       " '2023-03-15_HT397B1 | HT397B1-S1H3A1-U2__20230315.ome.tiff',\n",
       " '2023-03-16_HT397B1 | 2023-03-16_HT397B1.ome.tiff',\n",
       " '2023-03-16_HT397B1 | HT397B1-S1H3A1-U12__20230316.ome.tiff',\n",
       " '2023-04-07_HT397B1 | 2023-04-07_HT397B1.ome.tiff',\n",
       " '2023-04-07_HT397B1 | HT397B1-S1H3A1-U31__20230407.ome.tiff',\n",
       " '2023-04-13_HT397B1 | 2023-04-13_HT397B1.ome.tiff',\n",
       " '2023-04-13_HT397B1 | HT397B1-S1H3A1-U22__20230413.ome.tiff',\n",
       " '2023-04-13_HT488C1 | 2023-04-13_HT488C1.ome.tiff',\n",
       " '2023-04-13_HT488C1 | HT488C1-Th1K1Fp1__20230413.ome.tiff',\n",
       " '2023-04-14_SN002__SN024__SN056 | SN002-Th_right__20230414.ome.tiff',\n",
       " '2023-04-14_SN002__SN024__SN056 | SN002_left__20230414.ome.tiff',\n",
       " '2023-04-14_SN002__SN024__SN056 | SN024_left__20230414.ome.tiff',\n",
       " '2023-04-14_SN002__SN024__SN056 | SN024_right__20230414.ome.tiff',\n",
       " '2023-04-14_SN002__SN024__SN056 | SN056_left__20230414.ome.tiff',\n",
       " '2023-04-14_SN002__SN024__SN056 | SN056_right__20230414.ome.tiff',\n",
       " '2023-04-19_HT488C1 | 2023-04-19_HT488C1.ome.tiff',\n",
       " '2023-04-19_HT488C1 | HT488C1-Th1K1Fp1-U14__20230419.ome.tiff',\n",
       " '2023-04-20_HT171B1__HT243B1__HT308B1___HT271B1 | HT171B1-S1H9A1-4_04192023.ome.tiff',\n",
       " '2023-04-20_HT171B1__HT243B1__HT308B1___HT271B1 | HT171B1-S1H9A1-4_top_HT243B1-S1H4A4_HT271B1-S1H6A5_HT308B1-S1H5A4_btm_Scan3.qptiff [Label]',\n",
       " '2023-04-20_HT171B1__HT243B1__HT308B1___HT271B1 | HT171B1-S1H9A1-4_top_HT243B1-S1H4A4_HT271B1-S1H6A5_HT308B1-S1H5A4_btm_Scan3.qptiff [Overview]',\n",
       " '2023-04-20_HT171B1__HT243B1__HT308B1___HT271B1 | HT171B1-S1H9A1-4_top_HT243B1-S1H4A4_HT271B1-S1H6A5_HT308B1-S1H5A4_btm_Scan3.qptiff [resolution #1]',\n",
       " '2023-04-20_HT171B1__HT243B1__HT308B1___HT271B1 | HT171B1-S1H9A1-4_top_HT243B1-S1H4A4_HT271B1-S1H6A5_HT308B1-S1H5A4_btm_Scan3.qptiff [thumbnail]',\n",
       " '2023-04-20_HT171B1__HT243B1__HT308B1___HT271B1 | HT171B1-S1H9A1_left__20230420.ome.tiff',\n",
       " '2023-04-20_HT171B1__HT243B1__HT308B1___HT271B1 | HT171B1-S1H9A1_right__20230420.ome.tiff',\n",
       " '2023-04-20_HT171B1__HT243B1__HT308B1___HT271B1 | HT243B1-S1H4A4_04192023.ome.tiff',\n",
       " '2023-04-20_HT171B1__HT243B1__HT308B1___HT271B1 | HT243B1-S1H4A4__20230420.ome.tiff',\n",
       " '2023-04-20_HT171B1__HT243B1__HT308B1___HT271B1 | HT271B1-S1H6A5_04192023.ome.tiff',\n",
       " '2023-04-20_HT171B1__HT243B1__HT308B1___HT271B1 | HT308B1-S1H5A4_04192023.ome.tiff',\n",
       " '2023-04-20_HT171B1__HT243B1__HT308B1___HT271B1 | HT308B1-S1H5A4__20230420.ome.tiff',\n",
       " '2023-04-20_HT171B1__HT243B1__HT308B1___HT271B1 | _HT271B1-S1H6A5__20230420.ome.tiff',\n",
       " '2023-04-20_K2200581-3__K2200591-2___K2200609-2 | 2023-04-20_K2200581-3__K2200591-2___K2200609-2.ome.tiff',\n",
       " '2023-04-20_K2200581-3__K2200591-2___K2200609-2 | K2200581-3__20230420.ome.tiff',\n",
       " '2023-04-20_K2200581-3__K2200591-2___K2200609-2 | K2200591-2___20230420.ome.tiff',\n",
       " '2023-04-20_K2200581-3__K2200591-2___K2200609-2 | K2200609-2__20230420.ome.tiff',\n",
       " '2023-04-22_21d_PKD_Mouse__38d_PKD_Mouse | 21d_PKD_Mouse_section1__20230422.ome.tiff',\n",
       " '2023-04-22_21d_PKD_Mouse__38d_PKD_Mouse | 28d_PKD_Mouse_section2__20230422.ome.tiff',\n",
       " '2023-04-22_21d_PKD_Mouse__38d_PKD_Mouse | 38d_PKD_Mouse_section1__20230422.ome.tiff',\n",
       " '2023-04-22_21d_PKD_Mouse__38d_PKD_Mouse | 38d_PKD_Mouse_section2__20230422.ome.tiff',\n",
       " '2023-04-27_HT339B2__HT413C1__HT553P1__HT565B1 | 2023-04-27_HT339B2__HT413C1__HT553P1__HT565B1.ome.tiff',\n",
       " '2023-04-27_HT339B2__HT413C1__HT553P1__HT565B1 | HT339B2-H1__20230427.ome.tiff',\n",
       " '2023-04-27_HT339B2__HT413C1__HT553P1__HT565B1 | HT413C1-K2__20230427.ome.tiff',\n",
       " '2023-04-27_HT339B2__HT413C1__HT553P1__HT565B1 | HT553P1-H2__20230427.ome.tiff',\n",
       " '2023-04-27_HT339B2__HT413C1__HT553P1__HT565B1 | HT565B1-H2__20230427.ome.tiff',\n",
       " '2023-04-28_E16.5_female__E16.5_male__P1_female__P1_male__P21_male__p21_female | E16.5_female_section1__20230428.ome.tiff',\n",
       " '2023-04-28_E16.5_female__E16.5_male__P1_female__P1_male__P21_male__p21_female | E16.5_female_section2__20230428.ome.tiff',\n",
       " '2023-04-28_E16.5_female__E16.5_male__P1_female__P1_male__P21_male__p21_female | E16.5_male_section1__20230428.ome.tiff',\n",
       " '2023-04-28_E16.5_female__E16.5_male__P1_female__P1_male__P21_male__p21_female | E16.5_male_section2__20230428.ome.tiff',\n",
       " '2023-04-28_E16.5_female__E16.5_male__P1_female__P1_male__P21_male__p21_female | P1_female_section1__20230428.ome.tiff',\n",
       " '2023-04-28_E16.5_female__E16.5_male__P1_female__P1_male__P21_male__p21_female | P1_female_section2__20230428.ome.tiff',\n",
       " '2023-04-28_E16.5_female__E16.5_male__P1_female__P1_male__P21_male__p21_female | P1_male_section1__20230428.ome.tiff',\n",
       " '2023-04-28_E16.5_female__E16.5_male__P1_female__P1_male__P21_male__p21_female | P1_male_section2__20230428.ome.tiff',\n",
       " '2023-04-28_E16.5_female__E16.5_male__P1_female__P1_male__P21_male__p21_female | P21_female__20230428.ome.tiff',\n",
       " '2023-04-28_E16.5_female__E16.5_male__P1_female__P1_male__P21_male__p21_female | P21_male__20230428.ome.tiff',\n",
       " '2023-05-12_HT171B1__HT243B1__HT271B1__HT308B1 | HT171B1-S1H9A1-4_left__20230512.ome.tiff',\n",
       " '2023-05-12_HT171B1__HT243B1__HT271B1__HT308B1 | HT171B1-S1H9A1-4_right__20230512.ome.tiff',\n",
       " '2023-05-12_HT171B1__HT243B1__HT271B1__HT308B1 | HT243B1-S1H4A4_left__20230512.ome.tiff',\n",
       " '2023-05-12_HT171B1__HT243B1__HT271B1__HT308B1 | HT243B1-S1H4A4_right__20230512.ome.tiff',\n",
       " '2023-05-12_HT171B1__HT243B1__HT271B1__HT308B1 | HT271B1-S1H6A5_left__20230512.ome.tiff',\n",
       " '2023-05-12_HT171B1__HT243B1__HT271B1__HT308B1 | HT271B1-S1H6A5_right__20230512.ome.tiff',\n",
       " '2023-05-12_HT171B1__HT243B1__HT271B1__HT308B1 | HT308B1-S1H5A4_left__20230512.ome.tiff',\n",
       " '2023-05-12_HT171B1__HT243B1__HT271B1__HT308B1 | HT308B1-S1H5A4_right__20230512.ome.tiff',\n",
       " '2023-05-26_HT171B1__HT243B1__HT271B1__HT308B1 | HT171B1-S1H9A1-A4_left__20230526.ome.tiff',\n",
       " '2023-05-26_HT171B1__HT243B1__HT271B1__HT308B1 | HT171B1-S1H9A1-A4_right__20230526.ome.tiff',\n",
       " '2023-05-26_HT171B1__HT243B1__HT271B1__HT308B1 | HT243B1-S1H4A4_left__20230526.ome.tiff',\n",
       " '2023-05-26_HT171B1__HT243B1__HT271B1__HT308B1 | HT243B1-S1H4A4_right__20230526.ome.tiff',\n",
       " '2023-05-26_HT171B1__HT243B1__HT271B1__HT308B1 | HT271B1-S1H6A5_left__20230526.ome.tiff',\n",
       " '2023-05-26_HT171B1__HT243B1__HT271B1__HT308B1 | HT271B1-S1H6A5_middle__20230526.ome.tiff',\n",
       " '2023-05-26_HT171B1__HT243B1__HT271B1__HT308B1 | HT271B1-S1H6A5_right__20230526.ome.tiff',\n",
       " '2023-05-26_HT171B1__HT243B1__HT271B1__HT308B1 | HT308B1-S1H5A4_left__20230526.ome.tiff',\n",
       " '2023-05-26_HT171B1__HT243B1__HT271B1__HT308B1 | HT308B1-S1H5A4_right__20230526.ome.tiff',\n",
       " '2023-06-05_PYVT_12wk__PYVT_15wk__PYVT_3wk__PYVT_6wk | PYVT_12wk__20230605.ome.tiff',\n",
       " '2023-06-05_PYVT_12wk__PYVT_15wk__PYVT_3wk__PYVT_6wk | PYVT_15wk__20230605.ome.tiff',\n",
       " '2023-06-05_PYVT_12wk__PYVT_15wk__PYVT_3wk__PYVT_6wk | PYVT_3wk__20230605.ome.tiff',\n",
       " '2023-06-05_PYVT_12wk__PYVT_15wk__PYVT_3wk__PYVT_6wk | PYVT_6wk__20230605.ome.tiff',\n",
       " '2023-06-06_HS-18-6934-2A__HS-19-14816-1J | 2023-06-06_HS-18-6934-2A__HS-19-14816-1J.ome.tiff',\n",
       " '2023-06-06_HS-18-6934-2A__HS-19-14816-1J | HS-18-6934-2A__20230606.ome.tiff',\n",
       " '2023-06-06_HS-18-6934-2A__HS-19-14816-1J | HS-19-14816-1J__20230606.ome.tiff',\n",
       " '2023-06-10_HS-18-11250-1B__HS-19-6647-1B | 2023-06-10_HS-18-11250-1B__HS-19-6647-1B.ome.tiff',\n",
       " '2023-06-10_HS-18-11250-1B__HS-19-6647-1B | HS-18-11250-1B__20230610.ome.tiff',\n",
       " '2023-06-10_HS-18-11250-1B__HS-19-6647-1B | HS-19-6647-1B__20230610.ome.tiff',\n",
       " '2023-06-20_pkd_14504__pkd_14508__pkd_811__pkd_813 | pkd_14504__20230620.ome.tiff',\n",
       " '2023-06-20_pkd_14504__pkd_14508__pkd_811__pkd_813 | pkd_14508__20230620.ome.tiff',\n",
       " '2023-06-20_pkd_14504__pkd_14508__pkd_811__pkd_813 | pkd_811__20230620.ome.tiff',\n",
       " '2023-06-20_pkd_14504__pkd_14508__pkd_811__pkd_813 | pkd_813__20230620.ome.tiff',\n",
       " '2023-06-23_K2300120-3__K2300125-2__K2300132-3 | K2300120-3__20230623.ome.tiff',\n",
       " '2023-06-23_K2300120-3__K2300125-2__K2300132-3 | K2300125-2__20230623.ome.tiff',\n",
       " '2023-06-23_K2300120-3__K2300125-2__K2300132-3 | K2300132-3__20230623.ome.tiff',\n",
       " '2023-07-01_HT206B1__HT297B1__HT339B2__HT565B1 | HT206B1-S1H5_left__20230701.ome.tiff',\n",
       " '2023-07-01_HT206B1__HT297B1__HT339B2__HT565B1 | HT206B1-S1H5_right__20230701.ome.tiff',\n",
       " '2023-07-01_HT206B1__HT297B1__HT339B2__HT565B1 | HT297B1-S1H1_left__20230701.ome.tiff',\n",
       " '2023-07-01_HT206B1__HT297B1__HT339B2__HT565B1 | HT297B1-S1H1_right__20230701.ome.tiff',\n",
       " '2023-07-01_HT206B1__HT297B1__HT339B2__HT565B1 | HT339B2-H2_left__20230701.ome.tiff',\n",
       " '2023-07-01_HT206B1__HT297B1__HT339B2__HT565B1 | HT339B2-H2_right__20230701.ome.tiff',\n",
       " '2023-07-01_HT206B1__HT297B1__HT339B2__HT565B1 | HT565B1-S1H2_left__20230701.ome.tiff',\n",
       " '2023-07-01_HT206B1__HT297B1__HT339B2__HT565B1 | HT565B1-S1H2_right__20230701.ome.tiff',\n",
       " '2023-07-19_E165_F4LM2L__P1_F2LM3l__P21_F4RM5R | 2023-07-19_E165_F4LM2L__P1_F2LM3l__P21_F4RM5R.ome.tiff',\n",
       " '2023-07-19_E165_F4LM2L__P1_F2LM3l__P21_F4RM5R | E165_F4LM2L_left__20230719.ome.tiff',\n",
       " '2023-07-19_E165_F4LM2L__P1_F2LM3l__P21_F4RM5R | E165_F4LM2L_right__20230719.ome.tiff',\n",
       " '2023-07-19_E165_F4LM2L__P1_F2LM3l__P21_F4RM5R | P1_F2LM3l_left__20230719.ome.tiff',\n",
       " '2023-07-19_E165_F4LM2L__P1_F2LM3l__P21_F4RM5R | P1_F2LM3l_right__20230719.ome.tiff',\n",
       " '2023-07-19_E165_F4LM2L__P1_F2LM3l__P21_F4RM5R | P21_F4RM5R_left__20230719.ome.tiff',\n",
       " '2023-07-19_E165_F4LM2L__P1_F2LM3l__P21_F4RM5R | P21_F4RM5R_right__20230719.ome.tiff',\n",
       " '2023-07-20_E165_F6RM3R__P1_F1LM3l__P21_F2RM6R | E165_F6RM3R_left__20230720.ome.tiff',\n",
       " '2023-07-20_E165_F6RM3R__P1_F1LM3l__P21_F2RM6R | E165_F6RM3R_right__20230720.ome.tiff',\n",
       " '2023-07-20_E165_F6RM3R__P1_F1LM3l__P21_F2RM6R | P1_F1LM3l_left__20230720.ome.tiff',\n",
       " '2023-07-20_E165_F6RM3R__P1_F1LM3l__P21_F2RM6R | P1_F1LM3l_right__20230720.ome.tiff',\n",
       " '2023-07-20_E165_F6RM3R__P1_F1LM3l__P21_F2RM6R | P21_F2RM6R_left__20230720.ome.tiff',\n",
       " '2023-07-20_E165_F6RM3R__P1_F1LM3l__P21_F2RM6R | P21_F2RM6R_right__20230720.ome.tiff',\n",
       " '2023-07-28_P1_F1LM3l__P21_F2RM6R | 2023-07-28_P1_F1LM3l__P21_F2RM6R.ome.tiff',\n",
       " '2023-07-28_P1_F1LM3l__P21_F2RM6R | P1_F1LM3l_left__20230728.ome.tiff',\n",
       " '2023-07-28_P1_F1LM3l__P21_F2RM6R | P1_F1LM3l_right__20230728.ome.tiff',\n",
       " '2023-07-28_P1_F1LM3l__P21_F2RM6R | P21_F2RM6R_left__20230728.ome.tiff',\n",
       " '2023-07-28_P1_F1LM3l__P21_F2RM6R | P21_F2RM6R_right__20230728.ome.tiff',\n",
       " '2023-07-29_E165_F4LM2L__P1_F2LM3l__P21_F4RM5R | 2023-07-29_E165_F4LM2L__P1_F2LM3l__P21_F4RM5R.ome.tiff',\n",
       " '2023-07-29_E165_F4LM2L__P1_F2LM3l__P21_F4RM5R | E165_F4LM2L_left__20230729.ome.tiff',\n",
       " '2023-07-29_E165_F4LM2L__P1_F2LM3l__P21_F4RM5R | E165_F4LM2L_right__20230729.ome.tiff',\n",
       " '2023-07-29_E165_F4LM2L__P1_F2LM3l__P21_F4RM5R | P1_F2LM3l_left__20230729.ome.tiff',\n",
       " '2023-07-29_E165_F4LM2L__P1_F2LM3l__P21_F4RM5R | P1_F2LM3l_right__20230729.ome.tiff',\n",
       " '2023-07-29_E165_F4LM2L__P1_F2LM3l__P21_F4RM5R | P21_F4RM5R_left__20230729.ome.tiff',\n",
       " '2023-07-29_E165_F4LM2L__P1_F2LM3l__P21_F4RM5R | P21_F4RM5R_right__20230729.ome.tiff',\n",
       " '2023-08-03_P1_F1LM3l__P21_F2RM6R | 2023-08-03_P1_F1LM3l__P21_F2RM6R.ome.tiff',\n",
       " '2023-08-03_P1_F1LM3l__P21_F2RM6R | P1_F1LM3l_left__20230803.ome.tiff',\n",
       " '2023-08-03_P1_F1LM3l__P21_F2RM6R | P1_F1LM3l_right__20230803.ome.tiff',\n",
       " '2023-08-03_P1_F1LM3l__P21_F2RM6R | P21_F2RM6R_bottom_left__20230803.ome.tiff',\n",
       " '2023-08-03_P1_F1LM3l__P21_F2RM6R | P21_F2RM6R_bottom_right__20230803.ome.tiff',\n",
       " '2023-08-03_P1_F1LM3l__P21_F2RM6R | P21_F2RM6R_middle_left__20230803.ome.tiff',\n",
       " '2023-08-03_P1_F1LM3l__P21_F2RM6R | P21_F2RM6R_middle_right__20230803.ome.tiff',\n",
       " '2023-08-10_C3N-03070__C3N-03448__C3N-03450 | 2023-08-10_C3N-03070__C3N-03448__C3N-03450.ome.tiff',\n",
       " '2023-08-10_C3N-03070__C3N-03448__C3N-03450 | C3N-03070-12__20230810.ome.tiff',\n",
       " '2023-08-10_C3N-03070__C3N-03448__C3N-03450 | C3N-03448-11__20230810.ome.tiff',\n",
       " '2023-08-10_C3N-03070__C3N-03448__C3N-03450 | C3N-03450-18__20230810.ome.tiff',\n",
       " '2023-08-10_C3N-03070__C3N-03448__C3N-03450 | PANCPRAC_TMA_UNST_TW17-2886-132_Scan1.qptiff [Label]',\n",
       " '2023-08-10_C3N-03070__C3N-03448__C3N-03450 | PANCPRAC_TMA_UNST_TW17-2886-132_Scan1.qptiff [Overview]',\n",
       " '2023-08-10_C3N-03070__C3N-03448__C3N-03450 | PANCPRAC_TMA_UNST_TW17-2886-132_Scan1.qptiff [resolution #1]',\n",
       " '2023-08-10_C3N-03070__C3N-03448__C3N-03450 | PANCPRAC_TMA_UNST_TW17-2886-132_Scan1.qptiff [thumbnail]',\n",
       " '2023-08-23_S16-38794 | 2023-08-23_S16-38794.ome.tiff',\n",
       " '2023-08-23_S16-38794 | mCRC_S16-38794_Met__20230823.ome.tiff',\n",
       " '2023-08-26_S15-32775 | mCRC_S15-32775_Met__20230826.ome.tiff',\n",
       " '2023-08-26_S15-32775 | mCRC_S15-32775_Primary__20230826.ome.tiff',\n",
       " '2023-08-29_HS-16-21554__HS-17-12425 | 2023-08-29_HS-16-21554__HS-17-12425.ome.tiff',\n",
       " '2023-08-29_HS-16-21554__HS-17-12425 | HS-16-21554_2D__20230829.ome.tiff',\n",
       " '2023-08-29_HS-16-21554__HS-17-12425 | HS-17-12425_3B__20230829.ome.tiff',\n",
       " '2023-08-30_C3L-01046__C3L-02041__C3N-01197 | 2023-08-30_C3L-01046__C3L-02041__C3N-01197.ome.tiff',\n",
       " '2023-08-30_C3L-01046__C3L-02041__C3N-01197 | C3L-01046-14__20230830.ome.tiff',\n",
       " '2023-08-30_C3L-01046__C3L-02041__C3N-01197 | C3L-02041-12__20230830.ome.tiff',\n",
       " '2023-08-30_C3L-01046__C3L-02041__C3N-01197 | C3N-01197-15__20230830.ome.tiff',\n",
       " '2023-09-13_HT425B1__HT591B1 | 2023-09-13_HT425B1__HT591B1.ome.tiff',\n",
       " '2023-09-13_HT425B1__HT591B1 | HT425B1-Extra__20230913.ome.tiff',\n",
       " '2023-09-13_HT425B1__HT591B1 | HT591B1-S1H1__20230913.ome.tiff',\n",
       " '2023-09-13_HT425B1__HT591B1 | HT591B1-S1H2__20230913.ome.tiff',\n",
       " '2023-09-14_HT206B1 | 2023-09-14_HT206B1.ome.tiff',\n",
       " '2023-09-14_HT206B1 | HT206B1-H2L1-U10__20230914.ome.tiff',\n",
       " '2023-09-14_HT206B1 | HT206B1-H2L1-U18__20230914.ome.tiff',\n",
       " '2023-09-14_HT206B1 | HT206B1-H2L1-U2__20230914.ome.tiff',\n",
       " '2023-10-02_HT206B1 | 2023-10-02_HT206B1.ome.tiff',\n",
       " '2023-10-02_HT206B1 | HT206B1-H2L1-U13__20231002.ome.tiff',\n",
       " '2023-10-02_HT206B1 | HT206B1-H2L1-U21__20231002.ome.tiff',\n",
       " '2023-10-02_HT206B1 | HT206B1-H2L1-U5__20231002.ome.tiff',\n",
       " '2023-10-06_S18-9906 | 2023-10-06_S18-9906.ome.tiff',\n",
       " '2023-10-06_S18-9906 | S18-9906-U10__20231006.ome.tiff',\n",
       " '2023-10-06_S18-9906 | S18-9906-U18__20231006.ome.tiff',\n",
       " '2023-10-06_S18-9906 | S18-9906-U25__20231006.ome.tiff',\n",
       " '2023-10-06_S18-9906 | S18-9906-U3__20231006.ome.tiff',\n",
       " '2023-10-07_S18_15142__S18_18215__S18_11798 | 2023-10-07_S18_15142__S18_18215__S18_11798.ome.tiff',\n",
       " '2023-10-07_S18_15142__S18_18215__S18_11798 | S18_11798__20231007.ome.tiff',\n",
       " '2023-10-07_S18_15142__S18_18215__S18_11798 | S18_15142__20231007.ome.tiff',\n",
       " '2023-10-07_S18_15142__S18_18215__S18_11798 | S18_18215__20231007.ome.tiff',\n",
       " '2023-10-19_S21_11816__S21_44455 | 2023-10-19_S21_11816__S21_44455.ome.tiff',\n",
       " '2023-10-19_S21_11816__S21_44455 | S21-11816A2__20231019.ome.tiff',\n",
       " '2023-10-19_S21_11816__S21_44455 | S21-44455A1__20231019.ome.tiff',\n",
       " '2023-10-21_S21_34912__S21_53957__S19_41530__S22_53426 | 2023-10-21_S21_34912__S21_53957__S19_41530__S22_53426.ome.tiff',\n",
       " '2023-10-21_S21_34912__S21_53957__S19_41530__S22_53426 | S19-41530D1__20231021.ome.tiff',\n",
       " '2023-10-21_S21_34912__S21_53957__S19_41530__S22_53426 | S21-34912A2__20231021.ome.tiff',\n",
       " '2023-10-21_S21_34912__S21_53957__S19_41530__S22_53426 | S21-53957A1__20231021.ome.tiff',\n",
       " '2023-10-21_S21_34912__S21_53957__S19_41530__S22_53426 | S22-53426A1__20231021.ome.tiff',\n",
       " '2023-11-02__SN039H1__SN004H1__SN032H1 | 2023-11-02__SN039H1__SN004H1__SN032H1.ome.tiff',\n",
       " '2023-11-02__SN039H1__SN004H1__SN032H1 | SN004H1__20231102.ome.tiff',\n",
       " '2023-11-02__SN039H1__SN004H1__SN032H1 | SN032H1__20231102.ome.tiff',\n",
       " '2023-11-02__SN039H1__SN004H1__SN032H1 | SN039H1__20231102.ome.tiff',\n",
       " '2023-11-04__HT378B1__HT088B1 | 2023-11-04__HT378B1__HT088B1.ome.tiff',\n",
       " '2023-11-04__HT378B1__HT088B1 | HT088B1__20231104.ome.tiff',\n",
       " '2023-11-04__HT378B1__HT088B1 | HT378B1-bottom__20231104.ome.tiff',\n",
       " '2023-11-04__HT378B1__HT088B1 | HT378B1-middle__20231104.ome.tiff',\n",
       " '2023-11-16__S18-5591 | 2023-11-16__S18-5591.ome.tiff',\n",
       " '2023-11-16__S18-5591 | S18-5591-U19__20231116.ome.tiff',\n",
       " '2023-11-16__S18-5591 | S18-5591-U23__20231116.ome.tiff',\n",
       " '2023-11-16__S18-5591 | S18-5591-U2__20231116.ome.tiff',\n",
       " '2023-11-16__S18-5591 | S18-5591-U8__20231116.ome.tiff',\n",
       " '2023-11-18__S18-5591 | 2023-11-18__S18-5591.ome.tiff',\n",
       " '2023-11-18__S18-5591 | S18-5591-U14__20231118.ome.tiff',\n",
       " '2023-11-18__S18-5591 | S18-5591-U21__20231118.ome.tiff',\n",
       " '2023-11-18__S18-5591 | S18-5591-U24__20231118.ome.tiff',\n",
       " '2023-11-18__S18-5591 | S18-5591-U6__20231118.ome.tiff',\n",
       " '2023-11-22__S18-25943 | 2023-11-22__S18-25943.ome.tiff',\n",
       " '2023-11-22__S18-25943 | S18-25943-U13__20231122.ome.tiff',\n",
       " '2023-11-22__S18-25943 | S18-25943-U16__20231122.ome.tiff',\n",
       " '2023-11-22__S18-25943 | S18-25943-U2__20231122.ome.tiff',\n",
       " '2023-11-22__S18-25943 | S18-25943-U9__20231122.ome.tiff',\n",
       " '2023-11-23_Human_pancreatic_cancer_TMA_UNST_TW17-2886-132 | PANCPRAC_TMA_UNST_TW17-2886-132_Scan1.ome.tiff',\n",
       " '2023-11-23_Human_pancreatic_cancer_TMA_UNST_TW17-2886-132 | PANCPRAC_TMA_UNST_TW17-2886-132_Scan1.qptiff [Label]',\n",
       " '2023-11-23_Human_pancreatic_cancer_TMA_UNST_TW17-2886-132 | PANCPRAC_TMA_UNST_TW17-2886-132_Scan1.qptiff [Overview]',\n",
       " '2023-11-23_Human_pancreatic_cancer_TMA_UNST_TW17-2886-132 | PANCPRAC_TMA_UNST_TW17-2886-132_Scan1.qptiff [resolution #1]',\n",
       " '2023-11-23_Human_pancreatic_cancer_TMA_UNST_TW17-2886-132 | PANCPRAC_TMA_UNST_TW17-2886-132_Scan1.qptiff [thumbnail]',\n",
       " '2023-11-23_Human_pancreatic_cancer_TMA_UNST_TW17-2886-132 | PANCPRAC_TMA_UNST_TW17-2886-132_Scan1_punch_A10_PDAC.ome.tiff',\n",
       " '2023-11-23_Human_pancreatic_cancer_TMA_UNST_TW17-2886-132 | PANCPRAC_TMA_UNST_TW17-2886-132_Scan1_punch_A4_PDAC.ome.tiff',\n",
       " '2023-11-23_Human_pancreatic_cancer_TMA_UNST_TW17-2886-132 | PANCPRAC_TMA_UNST_TW17-2886-132_Scan1_punch_A6_PDAC.ome.tiff',\n",
       " '2023-11-23_Human_pancreatic_cancer_TMA_UNST_TW17-2886-132 | PANCPRAC_TMA_UNST_TW17-2886-132_Scan1_punch_A8_PDAC.ome.tiff',\n",
       " '2023-11-23_Human_pancreatic_cancer_TMA_UNST_TW17-2886-132 | PANCPRAC_TMA_UNST_TW17-2886-132_Scan1_punch_A9_PDAC.ome.tiff',\n",
       " '2023-11-23_Human_pancreatic_cancer_TMA_UNST_TW17-2886-132 | PANCPRAC_TMA_UNST_TW17-2886-132_Scan1_punch_B10_PDAC.ome.tiff',\n",
       " '2023-11-23_Human_pancreatic_cancer_TMA_UNST_TW17-2886-132 | PANCPRAC_TMA_UNST_TW17-2886-132_Scan1_punch_B4_PDAC.ome.tiff',\n",
       " '2023-11-23_Human_pancreatic_cancer_TMA_UNST_TW17-2886-132 | PANCPRAC_TMA_UNST_TW17-2886-132_Scan1_punch_B6_PDAC.ome.tiff',\n",
       " '2023-11-23_Human_pancreatic_cancer_TMA_UNST_TW17-2886-132 | PANCPRAC_TMA_UNST_TW17-2886-132_Scan1_punch_B7_PDAC.ome.tiff',\n",
       " '2023-11-23_Human_pancreatic_cancer_TMA_UNST_TW17-2886-132 | PANCPRAC_TMA_UNST_TW17-2886-132_Scan1_punch_B8_PDAC.ome.tiff',\n",
       " '2023-11-23_Human_pancreatic_cancer_TMA_UNST_TW17-2886-132 | PANCPRAC_TMA_UNST_TW17-2886-132_Scan1_punch_B9_PDAC.ome.tiff',\n",
       " '2023-11-23_Human_pancreatic_cancer_TMA_UNST_TW17-2886-132 | PANCPRAC_TMA_UNST_TW17-2886-132_Scan1_punch_C10_Normal_Pancreas.ome.tiff',\n",
       " '2023-11-23_Human_pancreatic_cancer_TMA_UNST_TW17-2886-132 | PANCPRAC_TMA_UNST_TW17-2886-132_Scan1_punch_C3_PDAC.ome.tiff',\n",
       " '2023-11-23_Human_pancreatic_cancer_TMA_UNST_TW17-2886-132 | PANCPRAC_TMA_UNST_TW17-2886-132_Scan1_punch_C5_PDAC.ome.tiff',\n",
       " '2023-11-23_Human_pancreatic_cancer_TMA_UNST_TW17-2886-132 | PANCPRAC_TMA_UNST_TW17-2886-132_Scan1_punch_C6_Normal_Pancreas.ome.tiff',\n",
       " '2023-11-23_Human_pancreatic_cancer_TMA_UNST_TW17-2886-132 | PANCPRAC_TMA_UNST_TW17-2886-132_Scan1_punch_C7_Normal_Pancreas.ome.tiff',\n",
       " '2023-11-23_Human_pancreatic_cancer_TMA_UNST_TW17-2886-132 | PANCPRAC_TMA_UNST_TW17-2886-132_Scan1_punch_C8_Normal_Pancreas.ome.tiff',\n",
       " '2023-11-23_Human_pancreatic_cancer_TMA_UNST_TW17-2886-132 | PANCPRAC_TMA_UNST_TW17-2886-132_Scan1_punch_C9_Normal_Pancreas.ome.tiff',\n",
       " '2023-11-23_Human_pancreatic_cancer_TMA_UNST_TW17-2886-132 | PANCPRAC_TMA_UNST_TW17-2886-132_Scan1_punch_D10_Normal_Pancreas.ome.tiff',\n",
       " '2023-11-23_Human_pancreatic_cancer_TMA_UNST_TW17-2886-132 | PANCPRAC_TMA_UNST_TW17-2886-132_Scan1_punch_D3_Normal_Pancreas.ome.tiff',\n",
       " '2023-11-23_Human_pancreatic_cancer_TMA_UNST_TW17-2886-132 | PANCPRAC_TMA_UNST_TW17-2886-132_Scan1_punch_D5_Normal_Pancreas.ome.tiff',\n",
       " '2023-11-23_Human_pancreatic_cancer_TMA_UNST_TW17-2886-132 | PANCPRAC_TMA_UNST_TW17-2886-132_Scan1_punch_D6_Normal_Pancreas.ome.tiff',\n",
       " '2023-11-23_Human_pancreatic_cancer_TMA_UNST_TW17-2886-132 | PANCPRAC_TMA_UNST_TW17-2886-132_Scan1_punch_D7_Normal_Pancreas.ome.tiff',\n",
       " '2023-11-23_Human_pancreatic_cancer_TMA_UNST_TW17-2886-132 | PANCPRAC_TMA_UNST_TW17-2886-132_Scan1_punch_D8_Normal_Pancreas.ome.tiff',\n",
       " '2023-11-23_Human_pancreatic_cancer_TMA_UNST_TW17-2886-132 | PANCPRAC_TMA_UNST_TW17-2886-132_Scan1_punch_D9_Normal_Pancreas.ome.tiff',\n",
       " '2023-11-23_Human_pancreatic_cancer_TMA_UNST_TW17-2886-132 | PANCPRAC_TMA_UNST_TW17-2886-132_Scan1_punch_E10_Normal_Pancreas.ome.tiff',\n",
       " '2023-11-23_Human_pancreatic_cancer_TMA_UNST_TW17-2886-132 | PANCPRAC_TMA_UNST_TW17-2886-132_Scan1_punch_E3_Normal_Pancreas.ome.tiff',\n",
       " '2023-11-23_Human_pancreatic_cancer_TMA_UNST_TW17-2886-132 | PANCPRAC_TMA_UNST_TW17-2886-132_Scan1_punch_E4_Normal_Pancreas.ome.tiff',\n",
       " '2023-11-23_Human_pancreatic_cancer_TMA_UNST_TW17-2886-132 | PANCPRAC_TMA_UNST_TW17-2886-132_Scan1_punch_E5_Normal_Pancreas.ome.tiff',\n",
       " '2023-11-23_Human_pancreatic_cancer_TMA_UNST_TW17-2886-132 | PANCPRAC_TMA_UNST_TW17-2886-132_Scan1_punch_E7_Normal_Pancreas.ome.tiff',\n",
       " '2023-11-23_Human_pancreatic_cancer_TMA_UNST_TW17-2886-132 | PANCPRAC_TMA_UNST_TW17-2886-132_Scan1_punch_E8_Normal_Pancreas.ome.tiff',\n",
       " '2023-11-23_Human_pancreatic_cancer_TMA_UNST_TW17-2886-132 | PANCPRAC_TMA_UNST_TW17-2886-132_Scan1_punch_E9_Normal_Pancreas.ome.tiff',\n",
       " '2023-12-07__S110TLF | 2023-12-07__S110TLF.ome.tiff',\n",
       " '2023-12-07__S110TLF | S110TLF__20231207.ome.tiff',\n",
       " '2023-12-08__S123TRF | 2023-12-08__S123TRF.ome.tiff',\n",
       " '2023-12-08__S123TRF | S123TRF__20231208.ome.tiff',\n",
       " '2023-12-19_C3L-01287__C3N-01200 | 2023-12-19_C3L-01287__C3N-01200.ome.tiff',\n",
       " '2023-12-19_C3L-01287__C3N-01200 | C3L-01287-11Us1__20231219.ome.tiff',\n",
       " '2023-12-19_C3L-01287__C3N-01200 | C3N-01200-11Us1_2__20231219.ome.tiff',\n",
       " '2023-12-19_C3L-01287__C3N-01200 | C3N-01200-13-U2__20231219.ome.tiff',\n",
       " '2023-12-20_C3L-00970__C3N-00733__PA00002352 | 2023-12-20_C3L-00970__C3N-00733__PA00002352.ome.tiff',\n",
       " '2023-12-20_C3L-00970__C3N-00733__PA00002352 | C3L-00970-13u2__20231220.ome.tiff',\n",
       " '2023-12-20_C3L-00970__C3N-00733__PA00002352 | C3N-00733-12U2__20231220.ome.tiff',\n",
       " '2023-12-20_C3L-00970__C3N-00733__PA00002352 | PA00002352U1__20231220.ome.tiff',\n",
       " '2024-01-10_HT413C1_Th1k4A1 | 2024-01-10_HT413C1_Th1k4A1.ome.tiff',\n",
       " '2024-01-10_HT413C1_Th1k4A1 | HT413C1_Th1k4A1_U20__20240110.ome.tiff',\n",
       " '2024-01-10_HT413C1_Th1k4A1 | HT413C1_Th1k4A1_U32__20240110.ome.tiff',\n",
       " '2024-01-10_HT413C1_Th1k4A1 | HT413C1_Th1k4A1_U3__20240110.ome.tiff',\n",
       " '2024-01-10_HT413C1_Th1k4A1 | HT413C1_Th1k4A1_U41__20240110.ome.tiff',\n",
       " '2024-01-11_HT413C1_Th1k4A1 | 2024-01-11_HT413C1_Th1k4A1.ome.tiff',\n",
       " '2024-01-11_HT413C1_Th1k4A1 | HT413C1_Th1k4A1_U10__20240111.ome.tiff',\n",
       " '2024-01-11_HT413C1_Th1k4A1 | HT413C1_Th1k4A1_U26__20240111.ome.tiff',\n",
       " '2024-01-11_HT413C1_Th1k4A1 | HT413C1_Th1k4A1_U37__20240111.ome.tiff',\n",
       " '2024-01-11_HT413C1_Th1k4A1 | HT413C1_Th1k4A1_U42__20240111.ome.tiff',\n",
       " '2024-01-17_C3L-00982 | 2024-01-17_C3L-00982.ome.tiff',\n",
       " '2024-01-17_C3L-00982 | C3L-00982-11_U1__20240117.ome.tiff',\n",
       " '2024-01-17_C3L-00982 | C3L-00982-11_U4__20240117.ome.tiff',\n",
       " '2024-01-17_C3L-00982 | C3L-00982-11_U7__20240117.ome.tiff',\n",
       " '2024-01-18_C3L-02551 | 2024-01-18_C3L-02551.ome.tiff',\n",
       " '2024-01-18_C3L-02551 | C3L-02551-11_U1__20240118.ome.tiff',\n",
       " '2024-01-18_C3L-02551 | C3L-02551-11_U4__20240118.ome.tiff',\n",
       " '2024-01-18_C3L-02551 | C3L-02551-11_U8__20240118.ome.tiff',\n",
       " '2024-01-25_SN007H1__SN010H1__SN018H1__SN018H1-Md1Fp2b | 2024-01-25_SN007H1__SN010H1__SN018H1__SN018H1-Md1Fp2b.ome.tiff',\n",
       " '2024-01-25_SN007H1__SN010H1__SN018H1__SN018H1-Md1Fp2b | SN007H1-Md1Fp2__20240125.ome.tiff',\n",
       " '2024-01-25_SN007H1__SN010H1__SN018H1__SN018H1-Md1Fp2b | SN010H1-Md1Fp2__20240125.ome.tiff',\n",
       " '2024-01-25_SN007H1__SN010H1__SN018H1__SN018H1-Md1Fp2b | SN018H1-Md1Fp2b_U1__20240125.ome.tiff',\n",
       " '2024-01-25_SN007H1__SN010H1__SN018H1__SN018H1-Md1Fp2b | SN018H1-Md1Fp2b_U2__20240125.ome.tiff',\n",
       " '2024-01-26_SN001H1__SN009H1__SN046H1__SN047H1 | 2024-01-26_SN001H1__SN009H1__SN046H1__SN047H1.ome.tiff',\n",
       " '2024-01-26_SN001H1__SN009H1__SN046H1__SN047H1 | SN001H1-Md1Fp2b__20240126.ome.tiff',\n",
       " '2024-01-26_SN001H1__SN009H1__SN046H1__SN047H1 | SN009H1-Md1Fp2__20240126.ome.tiff',\n",
       " '2024-01-26_SN001H1__SN009H1__SN046H1__SN047H1 | SN046H1-Md1Fp2__20240126.ome.tiff',\n",
       " '2024-01-26_SN001H1__SN009H1__SN046H1__SN047H1 | SN047H1-Md1Fp2__20240126.ome.tiff',\n",
       " '2024-02-01_HS-13-23034__HS-14-13304 | 2024-02-01_HS-13-23034__HS-14-13304.ome.tiff',\n",
       " '2024-02-01_HS-13-23034__HS-14-13304 | HS-13-23034_1C__20240201.ome.tiff',\n",
       " '2024-02-01_HS-13-23034__HS-14-13304 | HS-14-13304_1C__20240201.ome.tiff',\n",
       " '2024-02-02_HS-12-30984__HS-13-18789 | 2024-02-02_HS-12-30984__HS-13-18789.ome.tiff',\n",
       " '2024-02-02_HS-12-30984__HS-13-18789 | HS-12-30984_1F__20240202.ome.tiff',\n",
       " '2024-02-02_HS-12-30984__HS-13-18789 | HS-13-18789_1B__20240202.ome.tiff',\n",
       " '2024-02-06_HS-13-6668_2B__HS-16-40491 | 2024-02-06_HS-13-6668_2B__HS-16-40491.ome.tiff',\n",
       " '2024-02-06_HS-13-6668_2B__HS-16-40491 | HS-13-6668_2B__20240206.ome.tiff',\n",
       " '2024-02-06_HS-13-6668_2B__HS-16-40491 | HS-16-40491_1D__20240206.ome.tiff']"
      ]
     },
     "execution_count": 7,
     "metadata": {},
     "output_type": "execute_result"
    }
   ],
   "source": [
    "# list out all images in the project\n",
    "name_to_img = {}\n",
    "for dataset in project.listChildren():\n",
    "    for img in dataset.listChildren():\n",
    "        name_to_img[f'{dataset.getName()} | {img.getName()}'] = img\n",
    "sorted(name_to_img.keys())"
   ]
  },
  {
   "cell_type": "markdown",
   "id": "4aa3c5a0",
   "metadata": {},
   "source": [
    "## define inputs"
   ]
  },
  {
   "cell_type": "markdown",
   "id": "fbdc36ba",
   "metadata": {
    "heading_collapsed": true
   },
   "source": [
    "###### HT397B1"
   ]
  },
  {
   "cell_type": "code",
   "execution_count": 36,
   "id": "3f78ffa4",
   "metadata": {
    "hidden": true
   },
   "outputs": [],
   "source": [
    "case = 'HT397B1'\n",
    "names = [\n",
    "    '2023-03-15_HT397B1 | HT397B1-S1H3A1-U2__20230315.ome.tiff',\n",
    "    '2023-03-16_HT397B1 | HT397B1-S1H3A1-U12__20230316.ome.tiff',\n",
    "    '2023-04-07_HT397B1 | HT397B1-S1H3A1-U31__20230407.ome.tiff',\n",
    "    '2023-04-13_HT397B1 | HT397B1-S1H3A1-U22__20230413.ome.tiff',\n",
    "]\n",
    "\n",
    "output_dir = os.path.join(parent_dir, case)\n",
    "Path(output_dir).mkdir(parents=True, exist_ok=True)"
   ]
  },
  {
   "cell_type": "markdown",
   "id": "ef4b132c",
   "metadata": {
    "heading_collapsed": true
   },
   "source": [
    "###### S18-9906"
   ]
  },
  {
   "cell_type": "code",
   "execution_count": 25,
   "id": "b9eb47d5",
   "metadata": {
    "hidden": true
   },
   "outputs": [],
   "source": [
    "case = 'S18-9906'\n",
    "names = [\n",
    "    '2023-10-06_S18-9906 | S18-9906-U10__20231006.ome.tiff',\n",
    "    '2023-10-06_S18-9906 | S18-9906-U18__20231006.ome.tiff',\n",
    "    '2023-10-06_S18-9906 | S18-9906-U25__20231006.ome.tiff',\n",
    "    '2023-10-06_S18-9906 | S18-9906-U3__20231006.ome.tiff',\n",
    "]\n",
    "\n",
    "output_dir = os.path.join(parent_dir, case)\n",
    "Path(output_dir).mkdir(parents=True, exist_ok=True)"
   ]
  },
  {
   "cell_type": "markdown",
   "id": "986aa7b9",
   "metadata": {
    "heading_collapsed": true
   },
   "source": [
    "###### HT413C1-Th1k4A1"
   ]
  },
  {
   "cell_type": "code",
   "execution_count": 47,
   "id": "176ce853",
   "metadata": {
    "hidden": true
   },
   "outputs": [],
   "source": [
    "case = 'HT413C1-Th1k4A1'\n",
    "names = [\n",
    "    '2024-01-10_HT413C1_Th1k4A1 | HT413C1_Th1k4A1_U20__20240110.ome.tiff',\n",
    "    '2024-01-10_HT413C1_Th1k4A1 | HT413C1_Th1k4A1_U32__20240110.ome.tiff',\n",
    "    '2024-01-10_HT413C1_Th1k4A1 | HT413C1_Th1k4A1_U3__20240110.ome.tiff',\n",
    "    '2024-01-10_HT413C1_Th1k4A1 | HT413C1_Th1k4A1_U41__20240110.ome.tiff',\n",
    "    '2024-01-11_HT413C1_Th1k4A1 | HT413C1_Th1k4A1_U10__20240111.ome.tiff',\n",
    "    '2024-01-11_HT413C1_Th1k4A1 | HT413C1_Th1k4A1_U26__20240111.ome.tiff',\n",
    "    '2024-01-11_HT413C1_Th1k4A1 | HT413C1_Th1k4A1_U37__20240111.ome.tiff',\n",
    "    '2024-01-11_HT413C1_Th1k4A1 | HT413C1_Th1k4A1_U42__20240111.ome.tiff',\n",
    "]\n",
    "\n",
    "output_dir = os.path.join(parent_dir, case)\n",
    "Path(output_dir).mkdir(parents=True, exist_ok=True)"
   ]
  },
  {
   "cell_type": "markdown",
   "id": "68952165",
   "metadata": {
    "heading_collapsed": true
   },
   "source": [
    "###### S18-25943-A7"
   ]
  },
  {
   "cell_type": "code",
   "execution_count": 59,
   "id": "a52c165a",
   "metadata": {
    "hidden": true
   },
   "outputs": [],
   "source": [
    "case = 'S18-25943-A7'\n",
    "names = [\n",
    "    '2023-11-22__S18-25943 | S18-25943-U13__20231122.ome.tiff',\n",
    "    '2023-11-22__S18-25943 | S18-25943-U16__20231122.ome.tiff',\n",
    "    '2023-11-22__S18-25943 | S18-25943-U2__20231122.ome.tiff',\n",
    "    '2023-11-22__S18-25943 | S18-25943-U9__20231122.ome.tiff',\n",
    "]\n",
    "\n",
    "output_dir = os.path.join(parent_dir, case)\n",
    "Path(output_dir).mkdir(parents=True, exist_ok=True)"
   ]
  },
  {
   "cell_type": "markdown",
   "id": "6a9c8a98",
   "metadata": {
    "heading_collapsed": true
   },
   "source": [
    "###### S18-5591-C8"
   ]
  },
  {
   "cell_type": "code",
   "execution_count": 68,
   "id": "d4c3ad4b",
   "metadata": {
    "hidden": true
   },
   "outputs": [],
   "source": [
    "case = 'S18-5591-C8'\n",
    "names = [\n",
    "    '2023-11-16__S18-5591 | S18-5591-U19__20231116.ome.tiff',\n",
    "    '2023-11-16__S18-5591 | S18-5591-U23__20231116.ome.tiff',\n",
    "    '2023-11-16__S18-5591 | S18-5591-U2__20231116.ome.tiff',\n",
    "    '2023-11-16__S18-5591 | S18-5591-U8__20231116.ome.tiff',\n",
    "    '2023-11-18__S18-5591 | S18-5591-U14__20231118.ome.tiff',\n",
    "    '2023-11-18__S18-5591 | S18-5591-U21__20231118.ome.tiff',\n",
    "    '2023-11-18__S18-5591 | S18-5591-U24__20231118.ome.tiff',\n",
    "    '2023-11-18__S18-5591 | S18-5591-U6__20231118.ome.tiff',\n",
    "]\n",
    "\n",
    "output_dir = os.path.join(parent_dir, case)\n",
    "Path(output_dir).mkdir(parents=True, exist_ok=True)"
   ]
  },
  {
   "cell_type": "markdown",
   "id": "8639071d",
   "metadata": {
    "heading_collapsed": true
   },
   "source": [
    "###### HT206B1"
   ]
  },
  {
   "cell_type": "code",
   "execution_count": 94,
   "id": "3860e724",
   "metadata": {
    "hidden": true
   },
   "outputs": [],
   "source": [
    "case = 'HT206B1'\n",
    "names = [\n",
    "    '2023-09-14_HT206B1 | HT206B1-H2L1-U10__20230914.ome.tiff',\n",
    "    '2023-09-14_HT206B1 | HT206B1-H2L1-U18__20230914.ome.tiff',\n",
    "    '2023-09-14_HT206B1 | HT206B1-H2L1-U2__20230914.ome.tiff',\n",
    "    '2023-10-02_HT206B1 | HT206B1-H2L1-U13__20231002.ome.tiff',\n",
    "    '2023-10-02_HT206B1 | HT206B1-H2L1-U21__20231002.ome.tiff',\n",
    "    '2023-10-02_HT206B1 | HT206B1-H2L1-U5__20231002.ome.tiff',\n",
    "]\n",
    "\n",
    "output_dir = os.path.join(parent_dir, case)\n",
    "Path(output_dir).mkdir(parents=True, exist_ok=True)"
   ]
  },
  {
   "cell_type": "markdown",
   "id": "27f0b1b5",
   "metadata": {
    "heading_collapsed": true
   },
   "source": [
    "###### C3L-00982-11"
   ]
  },
  {
   "cell_type": "code",
   "execution_count": 121,
   "id": "31bfc5ef",
   "metadata": {
    "hidden": true
   },
   "outputs": [],
   "source": [
    "case = 'C3L-00982'\n",
    "names = [\n",
    "    '2024-01-17_C3L-00982 | C3L-00982-11_U1__20240117.ome.tiff',\n",
    "    '2024-01-17_C3L-00982 | C3L-00982-11_U4__20240117.ome.tiff',\n",
    "    '2024-01-17_C3L-00982 | C3L-00982-11_U7__20240117.ome.tiff',\n",
    "]\n",
    "\n",
    "output_dir = os.path.join(parent_dir, case)\n",
    "Path(output_dir).mkdir(parents=True, exist_ok=True)"
   ]
  },
  {
   "cell_type": "markdown",
   "id": "b6b670b7",
   "metadata": {
    "heading_collapsed": true
   },
   "source": [
    "###### C3L-02551-11"
   ]
  },
  {
   "cell_type": "code",
   "execution_count": 132,
   "id": "f189146a",
   "metadata": {
    "hidden": true
   },
   "outputs": [],
   "source": [
    "case = 'C3L-02551'\n",
    "names = [\n",
    "    '2024-01-18_C3L-02551 | C3L-02551-11_U1__20240118.ome.tiff',\n",
    "    '2024-01-18_C3L-02551 | C3L-02551-11_U4__20240118.ome.tiff',\n",
    "    '2024-01-18_C3L-02551 | C3L-02551-11_U8__20240118.ome.tiff',\n",
    "]\n",
    "\n",
    "output_dir = os.path.join(parent_dir, case)\n",
    "Path(output_dir).mkdir(parents=True, exist_ok=True)"
   ]
  },
  {
   "cell_type": "markdown",
   "id": "51cd5fa2",
   "metadata": {
    "heading_collapsed": true
   },
   "source": [
    "###### C3L-00970"
   ]
  },
  {
   "cell_type": "code",
   "execution_count": 145,
   "id": "bde13288",
   "metadata": {
    "hidden": true
   },
   "outputs": [],
   "source": [
    "case = 'C3L-00970'\n",
    "names = [\n",
    "    '2023-12-20_C3L-00970__C3N-00733__PA00002352 | C3L-00970-13u2__20231220.ome.tiff',\n",
    "]\n",
    "\n",
    "output_dir = os.path.join(parent_dir, case)\n",
    "Path(output_dir).mkdir(parents=True, exist_ok=True)"
   ]
  },
  {
   "cell_type": "markdown",
   "id": "e12d3948",
   "metadata": {
    "heading_collapsed": true
   },
   "source": [
    "###### C3L-01287"
   ]
  },
  {
   "cell_type": "code",
   "execution_count": 148,
   "id": "ce280954",
   "metadata": {
    "hidden": true
   },
   "outputs": [],
   "source": [
    "case = 'C3L-01287'\n",
    "names = [\n",
    "    '2023-12-19_C3L-01287__C3N-01200 | C3L-01287-11Us1__20231219.ome.tiff',\n",
    "]\n",
    "\n",
    "output_dir = os.path.join(parent_dir, case)\n",
    "Path(output_dir).mkdir(parents=True, exist_ok=True)"
   ]
  },
  {
   "cell_type": "markdown",
   "id": "2d8f4aa4",
   "metadata": {
    "heading_collapsed": true
   },
   "source": [
    "###### HT413C1-K2"
   ]
  },
  {
   "cell_type": "code",
   "execution_count": 8,
   "id": "ba8b42e6",
   "metadata": {
    "hidden": true
   },
   "outputs": [],
   "source": [
    "case = 'HT413C1-K2'\n",
    "names = [\n",
    "    '2023-04-27_HT339B2__HT413C1__HT553P1__HT565B1 | HT413C1-K2__20230427.ome.tiff',\n",
    "]\n",
    "\n",
    "output_dir = os.path.join(parent_dir, case)\n",
    "Path(output_dir).mkdir(parents=True, exist_ok=True)"
   ]
  },
  {
   "cell_type": "markdown",
   "id": "448c8b57",
   "metadata": {
    "heading_collapsed": true
   },
   "source": [
    "###### HT339B2-H1"
   ]
  },
  {
   "cell_type": "code",
   "execution_count": 11,
   "id": "d6ac15ce",
   "metadata": {
    "hidden": true
   },
   "outputs": [],
   "source": [
    "case = 'HT339B2-H1'\n",
    "names = [\n",
    "    '2023-04-27_HT339B2__HT413C1__HT553P1__HT565B1 | HT339B2-H1__20230427.ome.tiff',\n",
    "]\n",
    "output_dir = os.path.join(parent_dir, case)\n",
    "Path(output_dir).mkdir(parents=True, exist_ok=True)"
   ]
  },
  {
   "cell_type": "markdown",
   "id": "0f56c07a",
   "metadata": {
    "heading_collapsed": true
   },
   "source": [
    "###### HT553P1-H2"
   ]
  },
  {
   "cell_type": "code",
   "execution_count": 14,
   "id": "6dc7f4a6",
   "metadata": {
    "hidden": true
   },
   "outputs": [],
   "source": [
    "case = 'HT553P1-H2'\n",
    "names = [\n",
    "    '2023-04-27_HT339B2__HT413C1__HT553P1__HT565B1 | HT553P1-H2__20230427.ome.tiff',\n",
    "]\n",
    "output_dir = os.path.join(parent_dir, case)\n",
    "Path(output_dir).mkdir(parents=True, exist_ok=True)"
   ]
  },
  {
   "cell_type": "markdown",
   "id": "6a1cfbc3",
   "metadata": {
    "heading_collapsed": true
   },
   "source": [
    "###### HT565B1-H2"
   ]
  },
  {
   "cell_type": "code",
   "execution_count": 17,
   "id": "b138e4e2",
   "metadata": {
    "hidden": true
   },
   "outputs": [],
   "source": [
    "case = 'HT565B1-H2'\n",
    "names = [\n",
    "    '2023-04-27_HT339B2__HT413C1__HT553P1__HT565B1 | HT565B1-H2__20230427.ome.tiff',\n",
    "]\n",
    "output_dir = os.path.join(parent_dir, case)\n",
    "Path(output_dir).mkdir(parents=True, exist_ok=True)"
   ]
  },
  {
   "cell_type": "markdown",
   "id": "cd22f9fd",
   "metadata": {
    "heading_collapsed": true
   },
   "source": [
    "###### HT448C1-Th1K1Fp1"
   ]
  },
  {
   "cell_type": "code",
   "execution_count": 8,
   "id": "8ac1d0d5",
   "metadata": {
    "hidden": true
   },
   "outputs": [],
   "source": [
    "case = 'HT448C1-Th1K1Fp1'\n",
    "names = [\n",
    "    '2023-04-13_HT488C1 | HT488C1-Th1K1Fp1__20230413.ome.tiff',\n",
    "    '2023-04-19_HT488C1 | HT488C1-Th1K1Fp1-U14__20230419.ome.tiff'\n",
    "]\n",
    "output_dir = os.path.join(parent_dir, case)\n",
    "Path(output_dir).mkdir(parents=True, exist_ok=True)"
   ]
  },
  {
   "cell_type": "code",
   "execution_count": null,
   "id": "023954f4",
   "metadata": {
    "hidden": true
   },
   "outputs": [],
   "source": []
  },
  {
   "cell_type": "code",
   "execution_count": null,
   "id": "76c75ad5",
   "metadata": {
    "hidden": true
   },
   "outputs": [],
   "source": []
  },
  {
   "cell_type": "code",
   "execution_count": null,
   "id": "f8737f15",
   "metadata": {
    "hidden": true
   },
   "outputs": [],
   "source": []
  },
  {
   "cell_type": "code",
   "execution_count": null,
   "id": "c4a63a8c",
   "metadata": {
    "hidden": true
   },
   "outputs": [],
   "source": []
  },
  {
   "cell_type": "code",
   "execution_count": null,
   "id": "4cd1774f",
   "metadata": {
    "hidden": true
   },
   "outputs": [],
   "source": []
  },
  {
   "cell_type": "code",
   "execution_count": null,
   "id": "96545b08",
   "metadata": {
    "hidden": true
   },
   "outputs": [],
   "source": []
  },
  {
   "cell_type": "code",
   "execution_count": null,
   "id": "22efff84",
   "metadata": {
    "hidden": true
   },
   "outputs": [],
   "source": []
  },
  {
   "cell_type": "code",
   "execution_count": null,
   "id": "814a6a74",
   "metadata": {
    "hidden": true
   },
   "outputs": [],
   "source": []
  },
  {
   "cell_type": "code",
   "execution_count": null,
   "id": "3518a695",
   "metadata": {
    "hidden": true
   },
   "outputs": [],
   "source": []
  },
  {
   "cell_type": "code",
   "execution_count": null,
   "id": "5a6aea9c",
   "metadata": {
    "hidden": true
   },
   "outputs": [],
   "source": []
  },
  {
   "cell_type": "markdown",
   "id": "5c07d17f",
   "metadata": {},
   "source": [
    "## save thresholds"
   ]
  },
  {
   "cell_type": "code",
   "execution_count": 9,
   "id": "fff0da6f",
   "metadata": {},
   "outputs": [
    {
     "data": {
      "text/plain": [
       "{'DAPI': 0.0,\n",
       " 'Podoplanin': 20.0,\n",
       " 'Pan-Cytokeratin': 39.0,\n",
       " 'HLA-DR': 20.0,\n",
       " 'CD8': 20.0,\n",
       " 'SMA-(D)': 20.0,\n",
       " 'CD45 (D)': 0.0,\n",
       " 'Ki67': 0.0,\n",
       " 'Vimentin-(D)': 25.0,\n",
       " 'GLUT1-(D)': 0.0,\n",
       " 'CK19-(D)': 0.0,\n",
       " 'HepPar1-(D)': 0.0,\n",
       " 'CD3e': 30.0,\n",
       " 'E-cadherin': 20.0,\n",
       " 'CK7-(D)': 20.0,\n",
       " 'CD11b (D)': 20.0,\n",
       " 'CD68 (D)': 0.0,\n",
       " 'CD31': 20.0,\n",
       " 'FoxP3': 0.0}"
      ]
     },
     "execution_count": 9,
     "metadata": {},
     "output_type": "execute_result"
    }
   ],
   "source": [
    "channel_thresholds = {}\n",
    "for name in names:\n",
    "    img = name_to_img[name]\n",
    "    rendering_defs = img.getAllRenderingDefs()\n",
    "    channel_metadata = rendering_defs[0]['c']\n",
    "    channel_names = img.getChannelLabels()\n",
    "    thresholds = {channel_name:c['start'] for c, channel_name in zip(channel_metadata, channel_names)}\n",
    "    \n",
    "    if np.asarray(thresholds).sum() == 0:\n",
    "        print('warning: all thresholds are zero. maybe they are not set for this image?', name)\n",
    "\n",
    "    channel_thresholds[name] = thresholds\n",
    "next(iter(channel_thresholds.values()))"
   ]
  },
  {
   "cell_type": "code",
   "execution_count": 10,
   "id": "3fc06bb0",
   "metadata": {},
   "outputs": [],
   "source": [
    "json.dump(channel_thresholds, open(os.path.join(output_dir, 'channel_thresholds.json'), 'w'))"
   ]
  },
  {
   "cell_type": "code",
   "execution_count": 11,
   "id": "6c24bd00",
   "metadata": {},
   "outputs": [],
   "source": [
    "conn.close()"
   ]
  },
  {
   "cell_type": "code",
   "execution_count": null,
   "id": "3104e749",
   "metadata": {},
   "outputs": [],
   "source": []
  }
 ],
 "metadata": {
  "kernelspec": {
   "display_name": "Python 3 (ipykernel)",
   "language": "python",
   "name": "python3"
  },
  "language_info": {
   "codemirror_mode": {
    "name": "ipython",
    "version": 3
   },
   "file_extension": ".py",
   "mimetype": "text/x-python",
   "name": "python",
   "nbconvert_exporter": "python",
   "pygments_lexer": "ipython3",
   "version": "3.7.12"
  }
 },
 "nbformat": 4,
 "nbformat_minor": 5
}
