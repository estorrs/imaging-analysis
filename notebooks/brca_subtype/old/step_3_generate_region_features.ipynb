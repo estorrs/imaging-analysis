{
 "cells": [
  {
   "cell_type": "code",
   "execution_count": 1,
   "id": "504a2a30",
   "metadata": {},
   "outputs": [],
   "source": [
    "import logging\n",
    "import os\n",
    "import math\n",
    "import shutil\n",
    "import subprocess\n",
    "from pathlib import Path\n",
    "from collections import Counter\n",
    "\n",
    "import tifffile\n",
    "import scanpy as sc\n",
    "import pandas as pd\n",
    "import numpy as np\n",
    "import seaborn as sns\n",
    "import matplotlib.pyplot as plt\n",
    "import torchvision.transforms.functional as TF\n",
    "import torch\n",
    "from skimage.filters import gaussian\n",
    "from skimage.morphology import binary_erosion, remove_small_objects, binary_dilation, label\n",
    "from skimage.measure import regionprops_table, regionprops\n",
    "from scipy.ndimage import binary_fill_holes\n",
    "from skimage.segmentation import expand_labels\n",
    "from skimage.exposure import rescale_intensity\n",
    "from einops import rearrange\n"
   ]
  },
  {
   "cell_type": "code",
   "execution_count": 2,
   "id": "6767b96a",
   "metadata": {},
   "outputs": [],
   "source": [
    "%load_ext autoreload"
   ]
  },
  {
   "cell_type": "code",
   "execution_count": 3,
   "id": "d76d13b3",
   "metadata": {},
   "outputs": [],
   "source": [
    "%autoreload 2"
   ]
  },
  {
   "cell_type": "code",
   "execution_count": 4,
   "id": "a8cf8c80",
   "metadata": {},
   "outputs": [],
   "source": [
    "import multiplex_imaging_pipeline.utils as utils\n",
    "from multiplex_imaging_pipeline.region_features import get_region_features"
   ]
  },
  {
   "cell_type": "code",
   "execution_count": 5,
   "id": "51c9d9f7",
   "metadata": {},
   "outputs": [],
   "source": [
    "output_dir = '/diskmnt/Projects/Users/estorrs/imaging-analysis/results/brca_subtype/revision_v1'\n",
    "Path(output_dir).mkdir(parents=True, exist_ok=True)"
   ]
  },
  {
   "cell_type": "code",
   "execution_count": 6,
   "id": "fbf10bb4",
   "metadata": {},
   "outputs": [],
   "source": [
    "adata_fps = sorted(utils.listfiles(os.path.join(output_dir, 'spatial_features'), regex=r'.h5ad$'))\n",
    "sample_to_adata = {fp.split('/')[-1].replace('.h5ad', ''):fp for fp in adata_fps}"
   ]
  },
  {
   "cell_type": "code",
   "execution_count": 7,
   "id": "9a11c411",
   "metadata": {},
   "outputs": [],
   "source": [
    "ome_fps = sorted(utils.listfiles('/diskmnt/Projects/Users/estorrs/multiplex_data/codex/htan',\n",
    "                         regex='/level_2/[^/]+.ome.tiff$'))\n",
    "sample_to_ome = {fp.split('/')[-1].replace('.ome.tiff', ''):fp for fp in ome_fps}"
   ]
  },
  {
   "cell_type": "code",
   "execution_count": null,
   "id": "ff5201a5",
   "metadata": {},
   "outputs": [],
   "source": []
  },
  {
   "cell_type": "code",
   "execution_count": null,
   "id": "015530e9",
   "metadata": {},
   "outputs": [],
   "source": []
  },
  {
   "cell_type": "code",
   "execution_count": 8,
   "id": "1bf674b0",
   "metadata": {},
   "outputs": [
    {
     "data": {
      "text/plain": [
       "dict_keys(['HT110B1_S1H4', 'HT171B1-S1H9A1-4_left_05122023', 'HT171B1-S1H9A1-4_right_05122023', 'HT171B1-S1H9A1-A4_left_05262023', 'HT171B1-S1H9A1-A4_right_05262023', 'HT206B1-S1H5_U1_07012023', 'HT206B1-S1H5_U2_07012023', 'HT206B1_H1', 'HT206B1_H1_06252022', 'HT206B1_S1H2L4_20221028', 'HT243B1-S1H4A4_04192023', 'HT243B1-S1H4A4_left_05122023', 'HT243B1-S1H4A4_left_05262023', 'HT243B1-S1H4A4_right_05122023', 'HT243B1-S1H4A4_right_05262023', 'HT243B1_S1H4', 'HT271B1-S1H6A5_04192023', 'HT271B1-S1H6A5_left_05122023', 'HT271B1-S1H6A5_left_05262023', 'HT271B1-S1H6A5_mid_05262023', 'HT271B1-S1H6A5_right_05122023', 'HT271B1-S1H6A5_right_05262023', 'HT271B1_S1H3A5_02172023', 'HT297B1-S1H1_U1_07012023', 'HT297B1-S1H1_U2_07012023', 'HT305B1_S1H1', 'HT308B1-S1H5A4_04192023', 'HT308B1-S1H5A4_left_05122023', 'HT308B1-S1H5A4_left_05262023', 'HT308B1-S1H5A4_right_05122023', 'HT308B1-S1H5A4_right_05262023', 'HT323B1_H1A1', 'HT323B1_H1A4', 'HT323B1_H1_08042022', 'HT323B1_H3', 'HT339B1_H1A1', 'HT339B1_H2A1', 'HT339B2-H2_U1_07012023', 'HT339B2-H2_U2_07012023', 'HT365B1_S1H1_02132023', 'HT397B1_H2A2', 'HT397B1_H3A1', 'HT397B1_S1H1A3U22_04122023', 'HT397B1_S1H1A3U31_04062023', 'HT397B1_U12_03172023', 'HT397B1_U2_03162023', 'HT480B1_S1H2_R001', 'HT480B1_S1H2_R002', 'HT565B1-H2_04262023', 'HT565B1-S1H2_U1_07012023', 'HT565B1-S1H2_U2_07012023'])"
      ]
     },
     "execution_count": 8,
     "metadata": {},
     "output_type": "execute_result"
    }
   ],
   "source": [
    "sample_to_adata.keys()"
   ]
  },
  {
   "cell_type": "code",
   "execution_count": 9,
   "id": "905afbc8",
   "metadata": {},
   "outputs": [
    {
     "data": {
      "text/plain": [
       "['20230120_PKD_K1301459',\n",
       " '20230120_PKD_K200452_2PB',\n",
       " '20230120_PKD_K2200446_4PB',\n",
       " 'CRC112',\n",
       " 'E16.5_female_section1_04272023',\n",
       " 'E16.5_female_section2_04272023',\n",
       " 'E16.5_male_section1_04272023',\n",
       " 'E16.5_male_section2_04272023',\n",
       " 'E165_F4LM2L_left_07192023',\n",
       " 'E165_F4LM2L_right_07192023',\n",
       " 'E165_F6RM3R_left_07202023',\n",
       " 'E165_F6RM3R_right_07202023',\n",
       " 'HS-18-11250-1B_06102023',\n",
       " 'HS-18-6934-2A_06062023',\n",
       " 'HS-19-14816-1J_06062023',\n",
       " 'HS-19-6647-1B_06102023',\n",
       " 'HT110B1-S1H4',\n",
       " 'HT171B1-S1H1A1',\n",
       " 'HT171B1-S1H1A4',\n",
       " 'HT171B1-S1H9A1-4_04192023',\n",
       " 'HT171B1-S1H9A1-4_left_05122023',\n",
       " 'HT171B1-S1H9A1-4_right_05122023',\n",
       " 'HT171B1-S1H9A1-A4_left_05262023',\n",
       " 'HT171B1-S1H9A1-A4_right_05262023',\n",
       " 'HT171B1_20221205',\n",
       " 'HT171B1_S1H1A1',\n",
       " 'HT171B1_S1H1A4',\n",
       " 'HT171B1_S1H8A1_20221122',\n",
       " 'HT206B1-H1',\n",
       " 'HT206B1-S1H5_U1_07012023',\n",
       " 'HT206B1-S1H5_U2_07012023',\n",
       " 'HT206B1_Ctrl',\n",
       " 'HT206B1_H1_06252022',\n",
       " 'HT206B1_S1H2L4',\n",
       " 'HT243B1-S1H4',\n",
       " 'HT243B1-S1H4A4_04192023',\n",
       " 'HT243B1-S1H4A4_left_05122023',\n",
       " 'HT243B1-S1H4A4_left_05262023',\n",
       " 'HT243B1-S1H4A4_right_05122023',\n",
       " 'HT243B1-S1H4A4_right_05262023',\n",
       " 'HT271B1-S1H3A5',\n",
       " 'HT271B1-S1H6A5_04192023',\n",
       " 'HT271B1-S1H6A5_left_05122023',\n",
       " 'HT271B1-S1H6A5_left_05262023',\n",
       " 'HT271B1-S1H6A5_mid_05262023',\n",
       " 'HT271B1-S1H6A5_right_05122023',\n",
       " 'HT271B1-S1H6A5_right_05262023',\n",
       " 'HT271B1_S1H3A5',\n",
       " 'HT297B1-H1-08042022',\n",
       " 'HT297B1-S1H1_U1_07012023',\n",
       " 'HT297B1-S1H1_U2_07012023',\n",
       " 'HT305B1-S1H1',\n",
       " 'HT308B1',\n",
       " 'HT308B1-S1H5A4_04192023',\n",
       " 'HT308B1-S1H5A4_left_05122023',\n",
       " 'HT308B1-S1H5A4_left_05262023',\n",
       " 'HT308B1-S1H5A4_right_05122023',\n",
       " 'HT308B1-S1H5A4_right_05262023',\n",
       " 'HT323B1-H1-08042022',\n",
       " 'HT323B1-H1A1',\n",
       " 'HT323B1-H1A4',\n",
       " 'HT323B1-H3',\n",
       " 'HT339B1-H1A1',\n",
       " 'HT339B1-H2A1',\n",
       " 'HT339B1-H4A4',\n",
       " 'HT339B2-H1_04262023',\n",
       " 'HT339B2-H2_U1_07012023',\n",
       " 'HT339B2-H2_U2_07012023',\n",
       " 'HT342C1_Th1K4A1_section1_03042022',\n",
       " 'HT342C1_Th1K4A1_section2_03042022',\n",
       " 'HT347C1_Th1K2A1_section1_03042022',\n",
       " 'HT347C1_Th1K2A1_section2_03042022',\n",
       " 'HT365B1_S1H1',\n",
       " 'HT397B1-H2A2',\n",
       " 'HT397B1-H3A1',\n",
       " 'HT397B1_S1H1A3U22_04122023',\n",
       " 'HT397B1_S1H1A3U31_04062023',\n",
       " 'HT397B1_U12_03172023',\n",
       " 'HT397B1_U2_03162023',\n",
       " 'HT413C1-K2_04262023',\n",
       " 'HT427P1_S1H1A3',\n",
       " 'HT434P1-H1',\n",
       " 'HT480B1-S1H2-R001',\n",
       " 'HT480B1-S1H2-R002',\n",
       " 'HT488C1-Th1K1Fp1-U14_041823',\n",
       " 'HT488C1-Th1K1Fp1-U2_041323',\n",
       " 'HT553P1-H2_04262023',\n",
       " 'HT565B1-H2_04262023',\n",
       " 'HT565B1-S1H2_U1_07012023',\n",
       " 'HT565B1-S1H2_U2_07012023',\n",
       " 'K1301459',\n",
       " 'K1301459_3',\n",
       " 'K2200110-6',\n",
       " 'K2200444_2PB',\n",
       " 'K2200446_3PB',\n",
       " 'K2200452_2PB',\n",
       " 'K2200453_2_03012023',\n",
       " 'K2200487_2_03012023',\n",
       " 'K2200493_2_03012023',\n",
       " 'K2200581-3_04202023',\n",
       " 'K2200591-2_04202023',\n",
       " 'K2200609-2_04202023',\n",
       " 'K2300120-3_06232023',\n",
       " 'K2300125-2_06232023',\n",
       " 'K2300132-3_06232023',\n",
       " 'MMTV_PYV1_12wk_06052023',\n",
       " 'MMTV_PYV1_15wk_06052023',\n",
       " 'MMTV_PYV1_3wk_06052023',\n",
       " 'MMTV_PYV1_6wk_06052023',\n",
       " 'Mouse_PKD_741',\n",
       " 'P1_F1LM3l_left_07202023',\n",
       " 'P1_F1LM3l_right_07202023',\n",
       " 'P1_F2LM3l_left_07192023',\n",
       " 'P1_F2LM3l_right_07192023',\n",
       " 'P1_female_section1_04272023',\n",
       " 'P1_female_section2_04272023',\n",
       " 'P1_male_section1_04272023',\n",
       " 'P1_male_section2_04272023',\n",
       " 'P21_F2RM6R_left_07202023',\n",
       " 'P21_F2RM6R_right_07202023',\n",
       " 'P21_F4RM5R_left_07192023',\n",
       " 'P21_F4RM5R_right_07192023',\n",
       " 'P21_male_04272023',\n",
       " 'S15_1909_A3_Section3_03082023',\n",
       " 'S15_1909_C2_Section3_03092023',\n",
       " 'SN001H1',\n",
       " 'SN002_SN050',\n",
       " 'SN002_left_04152023',\n",
       " 'SN002_right_04152023',\n",
       " 'SN024_left_04152023',\n",
       " 'SN024_right_04152023',\n",
       " 'SN056_left_04152023',\n",
       " 'SN056_right_04152023',\n",
       " 'codex_processed_hu_pancreas_TrisEDTA_2020-10-08',\n",
       " 'p21_female_04272023',\n",
       " 'pkd_14504',\n",
       " 'pkd_14508',\n",
       " 'pkd_14519_38d_02232023',\n",
       " 'pkd_14801_38d_02232023',\n",
       " 'pkd_21d_04212023',\n",
       " 'pkd_28d_04212023',\n",
       " 'pkd_38d_s1_04212023',\n",
       " 'pkd_38d_s2_04212023',\n",
       " 'pkd_738_21d_02232023',\n",
       " 'pkd_743_21d_02232023',\n",
       " 'pkd_811',\n",
       " 'pkd_813',\n",
       " 'test']"
      ]
     },
     "execution_count": 9,
     "metadata": {},
     "output_type": "execute_result"
    }
   ],
   "source": [
    "sorted(sample_to_ome.keys())"
   ]
  },
  {
   "cell_type": "code",
   "execution_count": 10,
   "id": "99603f5c",
   "metadata": {},
   "outputs": [
    {
     "data": {
      "text/plain": [
       "{'HT110B1_S1H4',\n",
       " 'HT206B1_H1',\n",
       " 'HT206B1_S1H2L4_20221028',\n",
       " 'HT243B1_S1H4',\n",
       " 'HT271B1_S1H3A5_02172023',\n",
       " 'HT305B1_S1H1',\n",
       " 'HT323B1_H1A1',\n",
       " 'HT323B1_H1A4',\n",
       " 'HT323B1_H1_08042022',\n",
       " 'HT323B1_H3',\n",
       " 'HT339B1_H1A1',\n",
       " 'HT339B1_H2A1',\n",
       " 'HT365B1_S1H1_02132023',\n",
       " 'HT397B1_H2A2',\n",
       " 'HT397B1_H3A1',\n",
       " 'HT480B1_S1H2_R001',\n",
       " 'HT480B1_S1H2_R002'}"
      ]
     },
     "execution_count": 10,
     "metadata": {},
     "output_type": "execute_result"
    }
   ],
   "source": [
    "set(sample_to_adata.keys()).difference(set(sample_to_ome.keys()))"
   ]
  },
  {
   "cell_type": "code",
   "execution_count": 11,
   "id": "a13875d2",
   "metadata": {},
   "outputs": [],
   "source": [
    "name_map = {\n",
    "    'HT110B1-S1H4': 'HT110B1_S1H4',\n",
    "    'HT206B1-H1': 'HT206B1_H1',\n",
    "    'HT206B1_S1H2L4': 'HT206B1_S1H2L4_20221028',\n",
    "    'HT243B1-S1H4': 'HT243B1_S1H4',\n",
    "    'HT271B1-S1H3A5': 'HT271B1_S1H3A5_02172023',\n",
    "    'HT305B1-S1H1': 'HT305B1_S1H1',\n",
    "    'HT323B1-H1A1': 'HT323B1_H1A1',\n",
    "    'HT323B1-H1A4': 'HT323B1_H1A4',\n",
    "    'HT323B1-H1-08042022': 'HT323B1_H1_08042022',\n",
    "    'HT323B1-H3': 'HT323B1_H3',\n",
    "    'HT339B1-H1A1': 'HT339B1_H1A1',\n",
    "    'HT339B1-H2A1': 'HT339B1_H2A1',\n",
    "    'HT365B1_S1H1': 'HT365B1_S1H1_02132023',\n",
    "    'HT397B1-H2A2': 'HT397B1_H2A2',\n",
    "    'HT397B1-H3A1': 'HT397B1_H3A1',\n",
    "    'HT480B1-S1H2-R001': 'HT480B1_S1H2_R001',\n",
    "    'HT480B1-S1H2-R002': 'HT480B1_S1H2_R002'\n",
    "}\n",
    "\n",
    "sample_to_ome = {name_map.get(k, k):v for k, v in sample_to_ome.items()}"
   ]
  },
  {
   "cell_type": "code",
   "execution_count": null,
   "id": "64322ecd",
   "metadata": {},
   "outputs": [],
   "source": []
  },
  {
   "cell_type": "markdown",
   "id": "a5d26f31",
   "metadata": {
    "heading_collapsed": true
   },
   "source": [
    "#### only run to generate masks"
   ]
  },
  {
   "cell_type": "code",
   "execution_count": 17,
   "id": "a7e4c618",
   "metadata": {
    "hidden": true
   },
   "outputs": [],
   "source": [
    "def generate_mask(mask, sigma=1., min_area=10000):\n",
    "    mask = gaussian(mask, sigma=sigma)\n",
    "    mask = binary_fill_holes(mask)\n",
    "    \n",
    "    labeled = label(mask)\n",
    "    props = regionprops(labeled)\n",
    "    \n",
    "    mask = labeled > 0\n",
    "    for prop in props:\n",
    "        if prop.area < min_area:\n",
    "            r1, c1, r2, c2 = prop.bbox\n",
    "            r1, c1 = max(r1 - 10, 0), max(c1 - 10, 0)\n",
    "            r2, c2, = r2 + 10, c2 + 10\n",
    "            mask[r1:r2, c1:c2][labeled[r1:r2, c1:c2]==prop.label] = 0\n",
    "            \n",
    "    return mask"
   ]
  },
  {
   "cell_type": "code",
   "execution_count": 18,
   "id": "c340dad2",
   "metadata": {
    "hidden": true
   },
   "outputs": [],
   "source": [
    "out = os.path.join(output_dir, 'region_masks')\n",
    "Path(out).mkdir(parents=True, exist_ok=True)"
   ]
  },
  {
   "cell_type": "code",
   "execution_count": 21,
   "id": "600a2d68",
   "metadata": {
    "hidden": true
   },
   "outputs": [
    {
     "name": "stdout",
     "output_type": "stream",
     "text": [
      "HT110B1_S1H4\n"
     ]
    },
    {
     "name": "stderr",
     "output_type": "stream",
     "text": [
      "/diskmnt/Projects/Users/estorrs/miniconda3/envs/mip/lib/python3.8/site-packages/ome_types/_convenience.py:112: FutureWarning: The default XML parser will be changing from 'xmlschema' to 'lxml' in version 0.4.0.  To silence this warning, please provide the `parser` argument, specifying either 'lxml' (to opt into the new behavior), or'xmlschema' (to retain the old behavior).\n",
      "  d = to_dict(os.fspath(xml), parser=parser, validate=validate)\n",
      "/diskmnt/Projects/Users/estorrs/sandbox/tmp/ipykernel_214946/578118905.py:23: DeprecationWarning: <tifffile.imsave> is deprecated. Use tifffile.imwrite\n",
      "  tifffile.imsave(os.path.join(out, f'{sample}.tif'), mask)\n"
     ]
    },
    {
     "name": "stdout",
     "output_type": "stream",
     "text": [
      "HT171B1-S1H9A1-4_left_05122023\n"
     ]
    },
    {
     "name": "stderr",
     "output_type": "stream",
     "text": [
      "/diskmnt/Projects/Users/estorrs/miniconda3/envs/mip/lib/python3.8/site-packages/ome_types/_convenience.py:112: FutureWarning: The default XML parser will be changing from 'xmlschema' to 'lxml' in version 0.4.0.  To silence this warning, please provide the `parser` argument, specifying either 'lxml' (to opt into the new behavior), or'xmlschema' (to retain the old behavior).\n",
      "  d = to_dict(os.fspath(xml), parser=parser, validate=validate)\n",
      "/diskmnt/Projects/Users/estorrs/sandbox/tmp/ipykernel_214946/578118905.py:23: DeprecationWarning: <tifffile.imsave> is deprecated. Use tifffile.imwrite\n",
      "  tifffile.imsave(os.path.join(out, f'{sample}.tif'), mask)\n",
      "/diskmnt/Projects/Users/estorrs/miniconda3/envs/mip/lib/python3.8/site-packages/ome_types/_convenience.py:112: FutureWarning: The default XML parser will be changing from 'xmlschema' to 'lxml' in version 0.4.0.  To silence this warning, please provide the `parser` argument, specifying either 'lxml' (to opt into the new behavior), or'xmlschema' (to retain the old behavior).\n",
      "  d = to_dict(os.fspath(xml), parser=parser, validate=validate)\n"
     ]
    },
    {
     "name": "stdout",
     "output_type": "stream",
     "text": [
      "HT171B1-S1H9A1-4_right_05122023\n"
     ]
    },
    {
     "name": "stderr",
     "output_type": "stream",
     "text": [
      "/diskmnt/Projects/Users/estorrs/sandbox/tmp/ipykernel_214946/578118905.py:23: DeprecationWarning: <tifffile.imsave> is deprecated. Use tifffile.imwrite\n",
      "  tifffile.imsave(os.path.join(out, f'{sample}.tif'), mask)\n",
      "/diskmnt/Projects/Users/estorrs/miniconda3/envs/mip/lib/python3.8/site-packages/ome_types/_convenience.py:112: FutureWarning: The default XML parser will be changing from 'xmlschema' to 'lxml' in version 0.4.0.  To silence this warning, please provide the `parser` argument, specifying either 'lxml' (to opt into the new behavior), or'xmlschema' (to retain the old behavior).\n",
      "  d = to_dict(os.fspath(xml), parser=parser, validate=validate)\n"
     ]
    },
    {
     "name": "stdout",
     "output_type": "stream",
     "text": [
      "HT171B1-S1H9A1-A4_left_05262023\n"
     ]
    },
    {
     "name": "stderr",
     "output_type": "stream",
     "text": [
      "/diskmnt/Projects/Users/estorrs/sandbox/tmp/ipykernel_214946/578118905.py:23: DeprecationWarning: <tifffile.imsave> is deprecated. Use tifffile.imwrite\n",
      "  tifffile.imsave(os.path.join(out, f'{sample}.tif'), mask)\n",
      "/diskmnt/Projects/Users/estorrs/miniconda3/envs/mip/lib/python3.8/site-packages/ome_types/_convenience.py:112: FutureWarning: The default XML parser will be changing from 'xmlschema' to 'lxml' in version 0.4.0.  To silence this warning, please provide the `parser` argument, specifying either 'lxml' (to opt into the new behavior), or'xmlschema' (to retain the old behavior).\n",
      "  d = to_dict(os.fspath(xml), parser=parser, validate=validate)\n"
     ]
    },
    {
     "name": "stdout",
     "output_type": "stream",
     "text": [
      "HT171B1-S1H9A1-A4_right_05262023\n"
     ]
    },
    {
     "name": "stderr",
     "output_type": "stream",
     "text": [
      "/diskmnt/Projects/Users/estorrs/sandbox/tmp/ipykernel_214946/578118905.py:23: DeprecationWarning: <tifffile.imsave> is deprecated. Use tifffile.imwrite\n",
      "  tifffile.imsave(os.path.join(out, f'{sample}.tif'), mask)\n",
      "/diskmnt/Projects/Users/estorrs/miniconda3/envs/mip/lib/python3.8/site-packages/ome_types/_convenience.py:112: FutureWarning: The default XML parser will be changing from 'xmlschema' to 'lxml' in version 0.4.0.  To silence this warning, please provide the `parser` argument, specifying either 'lxml' (to opt into the new behavior), or'xmlschema' (to retain the old behavior).\n",
      "  d = to_dict(os.fspath(xml), parser=parser, validate=validate)\n"
     ]
    },
    {
     "name": "stdout",
     "output_type": "stream",
     "text": [
      "HT206B1-S1H5_U1_07012023\n"
     ]
    },
    {
     "name": "stderr",
     "output_type": "stream",
     "text": [
      "/diskmnt/Projects/Users/estorrs/sandbox/tmp/ipykernel_214946/578118905.py:23: DeprecationWarning: <tifffile.imsave> is deprecated. Use tifffile.imwrite\n",
      "  tifffile.imsave(os.path.join(out, f'{sample}.tif'), mask)\n",
      "/diskmnt/Projects/Users/estorrs/miniconda3/envs/mip/lib/python3.8/site-packages/ome_types/_convenience.py:112: FutureWarning: The default XML parser will be changing from 'xmlschema' to 'lxml' in version 0.4.0.  To silence this warning, please provide the `parser` argument, specifying either 'lxml' (to opt into the new behavior), or'xmlschema' (to retain the old behavior).\n",
      "  d = to_dict(os.fspath(xml), parser=parser, validate=validate)\n"
     ]
    },
    {
     "name": "stdout",
     "output_type": "stream",
     "text": [
      "HT206B1-S1H5_U2_07012023\n"
     ]
    },
    {
     "name": "stderr",
     "output_type": "stream",
     "text": [
      "/diskmnt/Projects/Users/estorrs/sandbox/tmp/ipykernel_214946/578118905.py:23: DeprecationWarning: <tifffile.imsave> is deprecated. Use tifffile.imwrite\n",
      "  tifffile.imsave(os.path.join(out, f'{sample}.tif'), mask)\n",
      "/diskmnt/Projects/Users/estorrs/miniconda3/envs/mip/lib/python3.8/site-packages/ome_types/_convenience.py:112: FutureWarning: The default XML parser will be changing from 'xmlschema' to 'lxml' in version 0.4.0.  To silence this warning, please provide the `parser` argument, specifying either 'lxml' (to opt into the new behavior), or'xmlschema' (to retain the old behavior).\n",
      "  d = to_dict(os.fspath(xml), parser=parser, validate=validate)\n"
     ]
    },
    {
     "name": "stdout",
     "output_type": "stream",
     "text": [
      "HT206B1_H1\n"
     ]
    },
    {
     "name": "stderr",
     "output_type": "stream",
     "text": [
      "/diskmnt/Projects/Users/estorrs/sandbox/tmp/ipykernel_214946/578118905.py:23: DeprecationWarning: <tifffile.imsave> is deprecated. Use tifffile.imwrite\n",
      "  tifffile.imsave(os.path.join(out, f'{sample}.tif'), mask)\n",
      "/diskmnt/Projects/Users/estorrs/miniconda3/envs/mip/lib/python3.8/site-packages/ome_types/_convenience.py:112: FutureWarning: The default XML parser will be changing from 'xmlschema' to 'lxml' in version 0.4.0.  To silence this warning, please provide the `parser` argument, specifying either 'lxml' (to opt into the new behavior), or'xmlschema' (to retain the old behavior).\n",
      "  d = to_dict(os.fspath(xml), parser=parser, validate=validate)\n"
     ]
    },
    {
     "name": "stdout",
     "output_type": "stream",
     "text": [
      "HT206B1_H1_06252022\n"
     ]
    },
    {
     "name": "stderr",
     "output_type": "stream",
     "text": [
      "/diskmnt/Projects/Users/estorrs/sandbox/tmp/ipykernel_214946/578118905.py:23: DeprecationWarning: <tifffile.imsave> is deprecated. Use tifffile.imwrite\n",
      "  tifffile.imsave(os.path.join(out, f'{sample}.tif'), mask)\n"
     ]
    },
    {
     "name": "stdout",
     "output_type": "stream",
     "text": [
      "HT206B1_S1H2L4_20221028\n"
     ]
    },
    {
     "name": "stderr",
     "output_type": "stream",
     "text": [
      "/diskmnt/Projects/Users/estorrs/miniconda3/envs/mip/lib/python3.8/site-packages/ome_types/_convenience.py:112: FutureWarning: The default XML parser will be changing from 'xmlschema' to 'lxml' in version 0.4.0.  To silence this warning, please provide the `parser` argument, specifying either 'lxml' (to opt into the new behavior), or'xmlschema' (to retain the old behavior).\n",
      "  d = to_dict(os.fspath(xml), parser=parser, validate=validate)\n",
      "/diskmnt/Projects/Users/estorrs/sandbox/tmp/ipykernel_214946/578118905.py:23: DeprecationWarning: <tifffile.imsave> is deprecated. Use tifffile.imwrite\n",
      "  tifffile.imsave(os.path.join(out, f'{sample}.tif'), mask)\n"
     ]
    },
    {
     "name": "stdout",
     "output_type": "stream",
     "text": [
      "HT243B1-S1H4A4_04192023\n"
     ]
    },
    {
     "name": "stderr",
     "output_type": "stream",
     "text": [
      "/diskmnt/Projects/Users/estorrs/miniconda3/envs/mip/lib/python3.8/site-packages/ome_types/_convenience.py:112: FutureWarning: The default XML parser will be changing from 'xmlschema' to 'lxml' in version 0.4.0.  To silence this warning, please provide the `parser` argument, specifying either 'lxml' (to opt into the new behavior), or'xmlschema' (to retain the old behavior).\n",
      "  d = to_dict(os.fspath(xml), parser=parser, validate=validate)\n",
      "/diskmnt/Projects/Users/estorrs/sandbox/tmp/ipykernel_214946/578118905.py:23: DeprecationWarning: <tifffile.imsave> is deprecated. Use tifffile.imwrite\n",
      "  tifffile.imsave(os.path.join(out, f'{sample}.tif'), mask)\n"
     ]
    },
    {
     "name": "stdout",
     "output_type": "stream",
     "text": [
      "HT243B1-S1H4A4_left_05122023\n"
     ]
    },
    {
     "name": "stderr",
     "output_type": "stream",
     "text": [
      "/diskmnt/Projects/Users/estorrs/miniconda3/envs/mip/lib/python3.8/site-packages/ome_types/_convenience.py:112: FutureWarning: The default XML parser will be changing from 'xmlschema' to 'lxml' in version 0.4.0.  To silence this warning, please provide the `parser` argument, specifying either 'lxml' (to opt into the new behavior), or'xmlschema' (to retain the old behavior).\n",
      "  d = to_dict(os.fspath(xml), parser=parser, validate=validate)\n",
      "/diskmnt/Projects/Users/estorrs/sandbox/tmp/ipykernel_214946/578118905.py:23: DeprecationWarning: <tifffile.imsave> is deprecated. Use tifffile.imwrite\n",
      "  tifffile.imsave(os.path.join(out, f'{sample}.tif'), mask)\n"
     ]
    },
    {
     "name": "stdout",
     "output_type": "stream",
     "text": [
      "HT243B1-S1H4A4_left_05262023\n"
     ]
    },
    {
     "name": "stderr",
     "output_type": "stream",
     "text": [
      "/diskmnt/Projects/Users/estorrs/miniconda3/envs/mip/lib/python3.8/site-packages/ome_types/_convenience.py:112: FutureWarning: The default XML parser will be changing from 'xmlschema' to 'lxml' in version 0.4.0.  To silence this warning, please provide the `parser` argument, specifying either 'lxml' (to opt into the new behavior), or'xmlschema' (to retain the old behavior).\n",
      "  d = to_dict(os.fspath(xml), parser=parser, validate=validate)\n",
      "/diskmnt/Projects/Users/estorrs/sandbox/tmp/ipykernel_214946/578118905.py:23: DeprecationWarning: <tifffile.imsave> is deprecated. Use tifffile.imwrite\n",
      "  tifffile.imsave(os.path.join(out, f'{sample}.tif'), mask)\n",
      "/diskmnt/Projects/Users/estorrs/miniconda3/envs/mip/lib/python3.8/site-packages/ome_types/_convenience.py:112: FutureWarning: The default XML parser will be changing from 'xmlschema' to 'lxml' in version 0.4.0.  To silence this warning, please provide the `parser` argument, specifying either 'lxml' (to opt into the new behavior), or'xmlschema' (to retain the old behavior).\n",
      "  d = to_dict(os.fspath(xml), parser=parser, validate=validate)\n"
     ]
    },
    {
     "name": "stdout",
     "output_type": "stream",
     "text": [
      "HT243B1-S1H4A4_right_05122023\n"
     ]
    },
    {
     "name": "stderr",
     "output_type": "stream",
     "text": [
      "/diskmnt/Projects/Users/estorrs/sandbox/tmp/ipykernel_214946/578118905.py:23: DeprecationWarning: <tifffile.imsave> is deprecated. Use tifffile.imwrite\n",
      "  tifffile.imsave(os.path.join(out, f'{sample}.tif'), mask)\n"
     ]
    },
    {
     "name": "stdout",
     "output_type": "stream",
     "text": [
      "HT243B1-S1H4A4_right_05262023\n"
     ]
    },
    {
     "name": "stderr",
     "output_type": "stream",
     "text": [
      "/diskmnt/Projects/Users/estorrs/miniconda3/envs/mip/lib/python3.8/site-packages/ome_types/_convenience.py:112: FutureWarning: The default XML parser will be changing from 'xmlschema' to 'lxml' in version 0.4.0.  To silence this warning, please provide the `parser` argument, specifying either 'lxml' (to opt into the new behavior), or'xmlschema' (to retain the old behavior).\n",
      "  d = to_dict(os.fspath(xml), parser=parser, validate=validate)\n",
      "/diskmnt/Projects/Users/estorrs/sandbox/tmp/ipykernel_214946/578118905.py:23: DeprecationWarning: <tifffile.imsave> is deprecated. Use tifffile.imwrite\n",
      "  tifffile.imsave(os.path.join(out, f'{sample}.tif'), mask)\n",
      "/diskmnt/Projects/Users/estorrs/miniconda3/envs/mip/lib/python3.8/site-packages/ome_types/_convenience.py:112: FutureWarning: The default XML parser will be changing from 'xmlschema' to 'lxml' in version 0.4.0.  To silence this warning, please provide the `parser` argument, specifying either 'lxml' (to opt into the new behavior), or'xmlschema' (to retain the old behavior).\n",
      "  d = to_dict(os.fspath(xml), parser=parser, validate=validate)\n"
     ]
    },
    {
     "name": "stdout",
     "output_type": "stream",
     "text": [
      "HT243B1_S1H4\n"
     ]
    },
    {
     "name": "stderr",
     "output_type": "stream",
     "text": [
      "/diskmnt/Projects/Users/estorrs/sandbox/tmp/ipykernel_214946/578118905.py:23: DeprecationWarning: <tifffile.imsave> is deprecated. Use tifffile.imwrite\n",
      "  tifffile.imsave(os.path.join(out, f'{sample}.tif'), mask)\n"
     ]
    },
    {
     "name": "stdout",
     "output_type": "stream",
     "text": [
      "HT271B1-S1H6A5_04192023\n"
     ]
    },
    {
     "name": "stderr",
     "output_type": "stream",
     "text": [
      "/diskmnt/Projects/Users/estorrs/miniconda3/envs/mip/lib/python3.8/site-packages/ome_types/_convenience.py:112: FutureWarning: The default XML parser will be changing from 'xmlschema' to 'lxml' in version 0.4.0.  To silence this warning, please provide the `parser` argument, specifying either 'lxml' (to opt into the new behavior), or'xmlschema' (to retain the old behavior).\n",
      "  d = to_dict(os.fspath(xml), parser=parser, validate=validate)\n",
      "/diskmnt/Projects/Users/estorrs/sandbox/tmp/ipykernel_214946/578118905.py:23: DeprecationWarning: <tifffile.imsave> is deprecated. Use tifffile.imwrite\n",
      "  tifffile.imsave(os.path.join(out, f'{sample}.tif'), mask)\n"
     ]
    },
    {
     "name": "stdout",
     "output_type": "stream",
     "text": [
      "HT271B1-S1H6A5_left_05122023\n"
     ]
    },
    {
     "name": "stderr",
     "output_type": "stream",
     "text": [
      "/diskmnt/Projects/Users/estorrs/miniconda3/envs/mip/lib/python3.8/site-packages/ome_types/_convenience.py:112: FutureWarning: The default XML parser will be changing from 'xmlschema' to 'lxml' in version 0.4.0.  To silence this warning, please provide the `parser` argument, specifying either 'lxml' (to opt into the new behavior), or'xmlschema' (to retain the old behavior).\n",
      "  d = to_dict(os.fspath(xml), parser=parser, validate=validate)\n",
      "/diskmnt/Projects/Users/estorrs/sandbox/tmp/ipykernel_214946/578118905.py:23: DeprecationWarning: <tifffile.imsave> is deprecated. Use tifffile.imwrite\n",
      "  tifffile.imsave(os.path.join(out, f'{sample}.tif'), mask)\n",
      "/diskmnt/Projects/Users/estorrs/miniconda3/envs/mip/lib/python3.8/site-packages/ome_types/_convenience.py:112: FutureWarning: The default XML parser will be changing from 'xmlschema' to 'lxml' in version 0.4.0.  To silence this warning, please provide the `parser` argument, specifying either 'lxml' (to opt into the new behavior), or'xmlschema' (to retain the old behavior).\n",
      "  d = to_dict(os.fspath(xml), parser=parser, validate=validate)\n"
     ]
    },
    {
     "name": "stdout",
     "output_type": "stream",
     "text": [
      "HT271B1-S1H6A5_left_05262023\n"
     ]
    },
    {
     "name": "stderr",
     "output_type": "stream",
     "text": [
      "/diskmnt/Projects/Users/estorrs/sandbox/tmp/ipykernel_214946/578118905.py:23: DeprecationWarning: <tifffile.imsave> is deprecated. Use tifffile.imwrite\n",
      "  tifffile.imsave(os.path.join(out, f'{sample}.tif'), mask)\n",
      "/diskmnt/Projects/Users/estorrs/miniconda3/envs/mip/lib/python3.8/site-packages/ome_types/_convenience.py:112: FutureWarning: The default XML parser will be changing from 'xmlschema' to 'lxml' in version 0.4.0.  To silence this warning, please provide the `parser` argument, specifying either 'lxml' (to opt into the new behavior), or'xmlschema' (to retain the old behavior).\n",
      "  d = to_dict(os.fspath(xml), parser=parser, validate=validate)\n"
     ]
    },
    {
     "name": "stdout",
     "output_type": "stream",
     "text": [
      "HT271B1-S1H6A5_mid_05262023\n"
     ]
    },
    {
     "name": "stderr",
     "output_type": "stream",
     "text": [
      "/diskmnt/Projects/Users/estorrs/sandbox/tmp/ipykernel_214946/578118905.py:23: DeprecationWarning: <tifffile.imsave> is deprecated. Use tifffile.imwrite\n",
      "  tifffile.imsave(os.path.join(out, f'{sample}.tif'), mask)\n",
      "/diskmnt/Projects/Users/estorrs/miniconda3/envs/mip/lib/python3.8/site-packages/ome_types/_convenience.py:112: FutureWarning: The default XML parser will be changing from 'xmlschema' to 'lxml' in version 0.4.0.  To silence this warning, please provide the `parser` argument, specifying either 'lxml' (to opt into the new behavior), or'xmlschema' (to retain the old behavior).\n",
      "  d = to_dict(os.fspath(xml), parser=parser, validate=validate)\n"
     ]
    },
    {
     "name": "stdout",
     "output_type": "stream",
     "text": [
      "HT271B1-S1H6A5_right_05122023\n"
     ]
    },
    {
     "name": "stderr",
     "output_type": "stream",
     "text": [
      "/diskmnt/Projects/Users/estorrs/sandbox/tmp/ipykernel_214946/578118905.py:23: DeprecationWarning: <tifffile.imsave> is deprecated. Use tifffile.imwrite\n",
      "  tifffile.imsave(os.path.join(out, f'{sample}.tif'), mask)\n"
     ]
    },
    {
     "name": "stdout",
     "output_type": "stream",
     "text": [
      "HT271B1-S1H6A5_right_05262023\n"
     ]
    },
    {
     "name": "stderr",
     "output_type": "stream",
     "text": [
      "/diskmnt/Projects/Users/estorrs/miniconda3/envs/mip/lib/python3.8/site-packages/ome_types/_convenience.py:112: FutureWarning: The default XML parser will be changing from 'xmlschema' to 'lxml' in version 0.4.0.  To silence this warning, please provide the `parser` argument, specifying either 'lxml' (to opt into the new behavior), or'xmlschema' (to retain the old behavior).\n",
      "  d = to_dict(os.fspath(xml), parser=parser, validate=validate)\n",
      "/diskmnt/Projects/Users/estorrs/sandbox/tmp/ipykernel_214946/578118905.py:23: DeprecationWarning: <tifffile.imsave> is deprecated. Use tifffile.imwrite\n",
      "  tifffile.imsave(os.path.join(out, f'{sample}.tif'), mask)\n",
      "/diskmnt/Projects/Users/estorrs/miniconda3/envs/mip/lib/python3.8/site-packages/ome_types/_convenience.py:112: FutureWarning: The default XML parser will be changing from 'xmlschema' to 'lxml' in version 0.4.0.  To silence this warning, please provide the `parser` argument, specifying either 'lxml' (to opt into the new behavior), or'xmlschema' (to retain the old behavior).\n",
      "  d = to_dict(os.fspath(xml), parser=parser, validate=validate)\n"
     ]
    },
    {
     "name": "stdout",
     "output_type": "stream",
     "text": [
      "HT271B1_S1H3A5_02172023\n"
     ]
    },
    {
     "name": "stderr",
     "output_type": "stream",
     "text": [
      "/diskmnt/Projects/Users/estorrs/sandbox/tmp/ipykernel_214946/578118905.py:23: DeprecationWarning: <tifffile.imsave> is deprecated. Use tifffile.imwrite\n",
      "  tifffile.imsave(os.path.join(out, f'{sample}.tif'), mask)\n",
      "/diskmnt/Projects/Users/estorrs/miniconda3/envs/mip/lib/python3.8/site-packages/ome_types/_convenience.py:112: FutureWarning: The default XML parser will be changing from 'xmlschema' to 'lxml' in version 0.4.0.  To silence this warning, please provide the `parser` argument, specifying either 'lxml' (to opt into the new behavior), or'xmlschema' (to retain the old behavior).\n",
      "  d = to_dict(os.fspath(xml), parser=parser, validate=validate)\n"
     ]
    },
    {
     "name": "stdout",
     "output_type": "stream",
     "text": [
      "HT297B1-S1H1_U1_07012023\n"
     ]
    },
    {
     "name": "stderr",
     "output_type": "stream",
     "text": [
      "/diskmnt/Projects/Users/estorrs/sandbox/tmp/ipykernel_214946/578118905.py:23: DeprecationWarning: <tifffile.imsave> is deprecated. Use tifffile.imwrite\n",
      "  tifffile.imsave(os.path.join(out, f'{sample}.tif'), mask)\n",
      "/diskmnt/Projects/Users/estorrs/miniconda3/envs/mip/lib/python3.8/site-packages/ome_types/_convenience.py:112: FutureWarning: The default XML parser will be changing from 'xmlschema' to 'lxml' in version 0.4.0.  To silence this warning, please provide the `parser` argument, specifying either 'lxml' (to opt into the new behavior), or'xmlschema' (to retain the old behavior).\n",
      "  d = to_dict(os.fspath(xml), parser=parser, validate=validate)\n"
     ]
    },
    {
     "name": "stdout",
     "output_type": "stream",
     "text": [
      "HT297B1-S1H1_U2_07012023\n"
     ]
    },
    {
     "name": "stderr",
     "output_type": "stream",
     "text": [
      "/diskmnt/Projects/Users/estorrs/sandbox/tmp/ipykernel_214946/578118905.py:23: DeprecationWarning: <tifffile.imsave> is deprecated. Use tifffile.imwrite\n",
      "  tifffile.imsave(os.path.join(out, f'{sample}.tif'), mask)\n",
      "/diskmnt/Projects/Users/estorrs/miniconda3/envs/mip/lib/python3.8/site-packages/ome_types/_convenience.py:112: FutureWarning: The default XML parser will be changing from 'xmlschema' to 'lxml' in version 0.4.0.  To silence this warning, please provide the `parser` argument, specifying either 'lxml' (to opt into the new behavior), or'xmlschema' (to retain the old behavior).\n",
      "  d = to_dict(os.fspath(xml), parser=parser, validate=validate)\n"
     ]
    },
    {
     "name": "stdout",
     "output_type": "stream",
     "text": [
      "HT305B1_S1H1\n"
     ]
    },
    {
     "name": "stderr",
     "output_type": "stream",
     "text": [
      "/diskmnt/Projects/Users/estorrs/sandbox/tmp/ipykernel_214946/578118905.py:23: DeprecationWarning: <tifffile.imsave> is deprecated. Use tifffile.imwrite\n",
      "  tifffile.imsave(os.path.join(out, f'{sample}.tif'), mask)\n"
     ]
    },
    {
     "name": "stdout",
     "output_type": "stream",
     "text": [
      "HT308B1-S1H5A4_04192023\n"
     ]
    },
    {
     "name": "stderr",
     "output_type": "stream",
     "text": [
      "/diskmnt/Projects/Users/estorrs/miniconda3/envs/mip/lib/python3.8/site-packages/ome_types/_convenience.py:112: FutureWarning: The default XML parser will be changing from 'xmlschema' to 'lxml' in version 0.4.0.  To silence this warning, please provide the `parser` argument, specifying either 'lxml' (to opt into the new behavior), or'xmlschema' (to retain the old behavior).\n",
      "  d = to_dict(os.fspath(xml), parser=parser, validate=validate)\n",
      "/diskmnt/Projects/Users/estorrs/sandbox/tmp/ipykernel_214946/578118905.py:23: DeprecationWarning: <tifffile.imsave> is deprecated. Use tifffile.imwrite\n",
      "  tifffile.imsave(os.path.join(out, f'{sample}.tif'), mask)\n"
     ]
    },
    {
     "name": "stdout",
     "output_type": "stream",
     "text": [
      "HT308B1-S1H5A4_left_05122023\n"
     ]
    },
    {
     "name": "stderr",
     "output_type": "stream",
     "text": [
      "/diskmnt/Projects/Users/estorrs/miniconda3/envs/mip/lib/python3.8/site-packages/ome_types/_convenience.py:112: FutureWarning: The default XML parser will be changing from 'xmlschema' to 'lxml' in version 0.4.0.  To silence this warning, please provide the `parser` argument, specifying either 'lxml' (to opt into the new behavior), or'xmlschema' (to retain the old behavior).\n",
      "  d = to_dict(os.fspath(xml), parser=parser, validate=validate)\n",
      "/diskmnt/Projects/Users/estorrs/sandbox/tmp/ipykernel_214946/578118905.py:23: DeprecationWarning: <tifffile.imsave> is deprecated. Use tifffile.imwrite\n",
      "  tifffile.imsave(os.path.join(out, f'{sample}.tif'), mask)\n"
     ]
    },
    {
     "name": "stdout",
     "output_type": "stream",
     "text": [
      "HT308B1-S1H5A4_left_05262023\n"
     ]
    },
    {
     "name": "stderr",
     "output_type": "stream",
     "text": [
      "/diskmnt/Projects/Users/estorrs/miniconda3/envs/mip/lib/python3.8/site-packages/ome_types/_convenience.py:112: FutureWarning: The default XML parser will be changing from 'xmlschema' to 'lxml' in version 0.4.0.  To silence this warning, please provide the `parser` argument, specifying either 'lxml' (to opt into the new behavior), or'xmlschema' (to retain the old behavior).\n",
      "  d = to_dict(os.fspath(xml), parser=parser, validate=validate)\n",
      "/diskmnt/Projects/Users/estorrs/sandbox/tmp/ipykernel_214946/578118905.py:23: DeprecationWarning: <tifffile.imsave> is deprecated. Use tifffile.imwrite\n",
      "  tifffile.imsave(os.path.join(out, f'{sample}.tif'), mask)\n",
      "/diskmnt/Projects/Users/estorrs/miniconda3/envs/mip/lib/python3.8/site-packages/ome_types/_convenience.py:112: FutureWarning: The default XML parser will be changing from 'xmlschema' to 'lxml' in version 0.4.0.  To silence this warning, please provide the `parser` argument, specifying either 'lxml' (to opt into the new behavior), or'xmlschema' (to retain the old behavior).\n",
      "  d = to_dict(os.fspath(xml), parser=parser, validate=validate)\n"
     ]
    },
    {
     "name": "stdout",
     "output_type": "stream",
     "text": [
      "HT308B1-S1H5A4_right_05122023\n"
     ]
    },
    {
     "name": "stderr",
     "output_type": "stream",
     "text": [
      "/diskmnt/Projects/Users/estorrs/sandbox/tmp/ipykernel_214946/578118905.py:23: DeprecationWarning: <tifffile.imsave> is deprecated. Use tifffile.imwrite\n",
      "  tifffile.imsave(os.path.join(out, f'{sample}.tif'), mask)\n"
     ]
    },
    {
     "name": "stdout",
     "output_type": "stream",
     "text": [
      "HT308B1-S1H5A4_right_05262023\n"
     ]
    },
    {
     "name": "stderr",
     "output_type": "stream",
     "text": [
      "/diskmnt/Projects/Users/estorrs/miniconda3/envs/mip/lib/python3.8/site-packages/ome_types/_convenience.py:112: FutureWarning: The default XML parser will be changing from 'xmlschema' to 'lxml' in version 0.4.0.  To silence this warning, please provide the `parser` argument, specifying either 'lxml' (to opt into the new behavior), or'xmlschema' (to retain the old behavior).\n",
      "  d = to_dict(os.fspath(xml), parser=parser, validate=validate)\n",
      "/diskmnt/Projects/Users/estorrs/sandbox/tmp/ipykernel_214946/578118905.py:23: DeprecationWarning: <tifffile.imsave> is deprecated. Use tifffile.imwrite\n",
      "  tifffile.imsave(os.path.join(out, f'{sample}.tif'), mask)\n",
      "/diskmnt/Projects/Users/estorrs/miniconda3/envs/mip/lib/python3.8/site-packages/ome_types/_convenience.py:112: FutureWarning: The default XML parser will be changing from 'xmlschema' to 'lxml' in version 0.4.0.  To silence this warning, please provide the `parser` argument, specifying either 'lxml' (to opt into the new behavior), or'xmlschema' (to retain the old behavior).\n",
      "  d = to_dict(os.fspath(xml), parser=parser, validate=validate)\n"
     ]
    },
    {
     "name": "stdout",
     "output_type": "stream",
     "text": [
      "HT323B1_H1A1\n"
     ]
    },
    {
     "name": "stderr",
     "output_type": "stream",
     "text": [
      "/diskmnt/Projects/Users/estorrs/sandbox/tmp/ipykernel_214946/578118905.py:23: DeprecationWarning: <tifffile.imsave> is deprecated. Use tifffile.imwrite\n",
      "  tifffile.imsave(os.path.join(out, f'{sample}.tif'), mask)\n",
      "/diskmnt/Projects/Users/estorrs/miniconda3/envs/mip/lib/python3.8/site-packages/ome_types/_convenience.py:112: FutureWarning: The default XML parser will be changing from 'xmlschema' to 'lxml' in version 0.4.0.  To silence this warning, please provide the `parser` argument, specifying either 'lxml' (to opt into the new behavior), or'xmlschema' (to retain the old behavior).\n",
      "  d = to_dict(os.fspath(xml), parser=parser, validate=validate)\n"
     ]
    },
    {
     "name": "stdout",
     "output_type": "stream",
     "text": [
      "HT323B1_H1A4\n"
     ]
    },
    {
     "name": "stderr",
     "output_type": "stream",
     "text": [
      "/diskmnt/Projects/Users/estorrs/sandbox/tmp/ipykernel_214946/578118905.py:23: DeprecationWarning: <tifffile.imsave> is deprecated. Use tifffile.imwrite\n",
      "  tifffile.imsave(os.path.join(out, f'{sample}.tif'), mask)\n",
      "/diskmnt/Projects/Users/estorrs/miniconda3/envs/mip/lib/python3.8/site-packages/ome_types/_convenience.py:112: FutureWarning: The default XML parser will be changing from 'xmlschema' to 'lxml' in version 0.4.0.  To silence this warning, please provide the `parser` argument, specifying either 'lxml' (to opt into the new behavior), or'xmlschema' (to retain the old behavior).\n",
      "  d = to_dict(os.fspath(xml), parser=parser, validate=validate)\n"
     ]
    },
    {
     "name": "stdout",
     "output_type": "stream",
     "text": [
      "HT323B1_H1_08042022\n"
     ]
    },
    {
     "name": "stderr",
     "output_type": "stream",
     "text": [
      "/diskmnt/Projects/Users/estorrs/sandbox/tmp/ipykernel_214946/578118905.py:23: DeprecationWarning: <tifffile.imsave> is deprecated. Use tifffile.imwrite\n",
      "  tifffile.imsave(os.path.join(out, f'{sample}.tif'), mask)\n"
     ]
    },
    {
     "name": "stdout",
     "output_type": "stream",
     "text": [
      "HT323B1_H3\n"
     ]
    },
    {
     "name": "stderr",
     "output_type": "stream",
     "text": [
      "/diskmnt/Projects/Users/estorrs/miniconda3/envs/mip/lib/python3.8/site-packages/ome_types/_convenience.py:112: FutureWarning: The default XML parser will be changing from 'xmlschema' to 'lxml' in version 0.4.0.  To silence this warning, please provide the `parser` argument, specifying either 'lxml' (to opt into the new behavior), or'xmlschema' (to retain the old behavior).\n",
      "  d = to_dict(os.fspath(xml), parser=parser, validate=validate)\n",
      "/diskmnt/Projects/Users/estorrs/sandbox/tmp/ipykernel_214946/578118905.py:23: DeprecationWarning: <tifffile.imsave> is deprecated. Use tifffile.imwrite\n",
      "  tifffile.imsave(os.path.join(out, f'{sample}.tif'), mask)\n",
      "/diskmnt/Projects/Users/estorrs/miniconda3/envs/mip/lib/python3.8/site-packages/ome_types/_convenience.py:112: FutureWarning: The default XML parser will be changing from 'xmlschema' to 'lxml' in version 0.4.0.  To silence this warning, please provide the `parser` argument, specifying either 'lxml' (to opt into the new behavior), or'xmlschema' (to retain the old behavior).\n",
      "  d = to_dict(os.fspath(xml), parser=parser, validate=validate)\n"
     ]
    },
    {
     "name": "stdout",
     "output_type": "stream",
     "text": [
      "HT339B1_H1A1\n"
     ]
    },
    {
     "name": "stderr",
     "output_type": "stream",
     "text": [
      "/diskmnt/Projects/Users/estorrs/sandbox/tmp/ipykernel_214946/578118905.py:23: DeprecationWarning: <tifffile.imsave> is deprecated. Use tifffile.imwrite\n",
      "  tifffile.imsave(os.path.join(out, f'{sample}.tif'), mask)\n",
      "/diskmnt/Projects/Users/estorrs/miniconda3/envs/mip/lib/python3.8/site-packages/ome_types/_convenience.py:112: FutureWarning: The default XML parser will be changing from 'xmlschema' to 'lxml' in version 0.4.0.  To silence this warning, please provide the `parser` argument, specifying either 'lxml' (to opt into the new behavior), or'xmlschema' (to retain the old behavior).\n",
      "  d = to_dict(os.fspath(xml), parser=parser, validate=validate)\n"
     ]
    },
    {
     "name": "stdout",
     "output_type": "stream",
     "text": [
      "HT339B1_H2A1\n"
     ]
    },
    {
     "name": "stderr",
     "output_type": "stream",
     "text": [
      "/diskmnt/Projects/Users/estorrs/sandbox/tmp/ipykernel_214946/578118905.py:23: DeprecationWarning: <tifffile.imsave> is deprecated. Use tifffile.imwrite\n",
      "  tifffile.imsave(os.path.join(out, f'{sample}.tif'), mask)\n",
      "/diskmnt/Projects/Users/estorrs/miniconda3/envs/mip/lib/python3.8/site-packages/ome_types/_convenience.py:112: FutureWarning: The default XML parser will be changing from 'xmlschema' to 'lxml' in version 0.4.0.  To silence this warning, please provide the `parser` argument, specifying either 'lxml' (to opt into the new behavior), or'xmlschema' (to retain the old behavior).\n",
      "  d = to_dict(os.fspath(xml), parser=parser, validate=validate)\n"
     ]
    },
    {
     "name": "stdout",
     "output_type": "stream",
     "text": [
      "HT339B2-H2_U1_07012023\n"
     ]
    },
    {
     "name": "stderr",
     "output_type": "stream",
     "text": [
      "/diskmnt/Projects/Users/estorrs/sandbox/tmp/ipykernel_214946/578118905.py:23: DeprecationWarning: <tifffile.imsave> is deprecated. Use tifffile.imwrite\n",
      "  tifffile.imsave(os.path.join(out, f'{sample}.tif'), mask)\n",
      "/diskmnt/Projects/Users/estorrs/miniconda3/envs/mip/lib/python3.8/site-packages/ome_types/_convenience.py:112: FutureWarning: The default XML parser will be changing from 'xmlschema' to 'lxml' in version 0.4.0.  To silence this warning, please provide the `parser` argument, specifying either 'lxml' (to opt into the new behavior), or'xmlschema' (to retain the old behavior).\n",
      "  d = to_dict(os.fspath(xml), parser=parser, validate=validate)\n"
     ]
    },
    {
     "name": "stdout",
     "output_type": "stream",
     "text": [
      "HT339B2-H2_U2_07012023\n"
     ]
    },
    {
     "name": "stderr",
     "output_type": "stream",
     "text": [
      "/diskmnt/Projects/Users/estorrs/sandbox/tmp/ipykernel_214946/578118905.py:23: DeprecationWarning: <tifffile.imsave> is deprecated. Use tifffile.imwrite\n",
      "  tifffile.imsave(os.path.join(out, f'{sample}.tif'), mask)\n",
      "/diskmnt/Projects/Users/estorrs/miniconda3/envs/mip/lib/python3.8/site-packages/ome_types/_convenience.py:112: FutureWarning: The default XML parser will be changing from 'xmlschema' to 'lxml' in version 0.4.0.  To silence this warning, please provide the `parser` argument, specifying either 'lxml' (to opt into the new behavior), or'xmlschema' (to retain the old behavior).\n",
      "  d = to_dict(os.fspath(xml), parser=parser, validate=validate)\n"
     ]
    },
    {
     "name": "stdout",
     "output_type": "stream",
     "text": [
      "HT365B1_S1H1_02132023\n"
     ]
    },
    {
     "name": "stderr",
     "output_type": "stream",
     "text": [
      "/diskmnt/Projects/Users/estorrs/sandbox/tmp/ipykernel_214946/578118905.py:23: DeprecationWarning: <tifffile.imsave> is deprecated. Use tifffile.imwrite\n",
      "  tifffile.imsave(os.path.join(out, f'{sample}.tif'), mask)\n"
     ]
    },
    {
     "name": "stdout",
     "output_type": "stream",
     "text": [
      "HT397B1_H2A2\n"
     ]
    },
    {
     "name": "stderr",
     "output_type": "stream",
     "text": [
      "/diskmnt/Projects/Users/estorrs/miniconda3/envs/mip/lib/python3.8/site-packages/ome_types/_convenience.py:112: FutureWarning: The default XML parser will be changing from 'xmlschema' to 'lxml' in version 0.4.0.  To silence this warning, please provide the `parser` argument, specifying either 'lxml' (to opt into the new behavior), or'xmlschema' (to retain the old behavior).\n",
      "  d = to_dict(os.fspath(xml), parser=parser, validate=validate)\n",
      "/diskmnt/Projects/Users/estorrs/sandbox/tmp/ipykernel_214946/578118905.py:23: DeprecationWarning: <tifffile.imsave> is deprecated. Use tifffile.imwrite\n",
      "  tifffile.imsave(os.path.join(out, f'{sample}.tif'), mask)\n",
      "/diskmnt/Projects/Users/estorrs/miniconda3/envs/mip/lib/python3.8/site-packages/ome_types/_convenience.py:112: FutureWarning: The default XML parser will be changing from 'xmlschema' to 'lxml' in version 0.4.0.  To silence this warning, please provide the `parser` argument, specifying either 'lxml' (to opt into the new behavior), or'xmlschema' (to retain the old behavior).\n",
      "  d = to_dict(os.fspath(xml), parser=parser, validate=validate)\n"
     ]
    },
    {
     "name": "stdout",
     "output_type": "stream",
     "text": [
      "HT397B1_H3A1\n"
     ]
    },
    {
     "name": "stderr",
     "output_type": "stream",
     "text": [
      "/diskmnt/Projects/Users/estorrs/sandbox/tmp/ipykernel_214946/578118905.py:23: DeprecationWarning: <tifffile.imsave> is deprecated. Use tifffile.imwrite\n",
      "  tifffile.imsave(os.path.join(out, f'{sample}.tif'), mask)\n"
     ]
    },
    {
     "name": "stdout",
     "output_type": "stream",
     "text": [
      "HT397B1_S1H1A3U22_04122023\n"
     ]
    },
    {
     "name": "stderr",
     "output_type": "stream",
     "text": [
      "/diskmnt/Projects/Users/estorrs/miniconda3/envs/mip/lib/python3.8/site-packages/ome_types/_convenience.py:112: FutureWarning: The default XML parser will be changing from 'xmlschema' to 'lxml' in version 0.4.0.  To silence this warning, please provide the `parser` argument, specifying either 'lxml' (to opt into the new behavior), or'xmlschema' (to retain the old behavior).\n",
      "  d = to_dict(os.fspath(xml), parser=parser, validate=validate)\n",
      "/diskmnt/Projects/Users/estorrs/sandbox/tmp/ipykernel_214946/578118905.py:23: DeprecationWarning: <tifffile.imsave> is deprecated. Use tifffile.imwrite\n",
      "  tifffile.imsave(os.path.join(out, f'{sample}.tif'), mask)\n"
     ]
    },
    {
     "name": "stdout",
     "output_type": "stream",
     "text": [
      "HT397B1_S1H1A3U31_04062023\n"
     ]
    },
    {
     "name": "stderr",
     "output_type": "stream",
     "text": [
      "/diskmnt/Projects/Users/estorrs/miniconda3/envs/mip/lib/python3.8/site-packages/ome_types/_convenience.py:112: FutureWarning: The default XML parser will be changing from 'xmlschema' to 'lxml' in version 0.4.0.  To silence this warning, please provide the `parser` argument, specifying either 'lxml' (to opt into the new behavior), or'xmlschema' (to retain the old behavior).\n",
      "  d = to_dict(os.fspath(xml), parser=parser, validate=validate)\n",
      "/diskmnt/Projects/Users/estorrs/sandbox/tmp/ipykernel_214946/578118905.py:23: DeprecationWarning: <tifffile.imsave> is deprecated. Use tifffile.imwrite\n",
      "  tifffile.imsave(os.path.join(out, f'{sample}.tif'), mask)\n"
     ]
    },
    {
     "name": "stdout",
     "output_type": "stream",
     "text": [
      "HT397B1_U12_03172023\n"
     ]
    },
    {
     "name": "stderr",
     "output_type": "stream",
     "text": [
      "/diskmnt/Projects/Users/estorrs/miniconda3/envs/mip/lib/python3.8/site-packages/ome_types/_convenience.py:112: FutureWarning: The default XML parser will be changing from 'xmlschema' to 'lxml' in version 0.4.0.  To silence this warning, please provide the `parser` argument, specifying either 'lxml' (to opt into the new behavior), or'xmlschema' (to retain the old behavior).\n",
      "  d = to_dict(os.fspath(xml), parser=parser, validate=validate)\n",
      "/diskmnt/Projects/Users/estorrs/sandbox/tmp/ipykernel_214946/578118905.py:23: DeprecationWarning: <tifffile.imsave> is deprecated. Use tifffile.imwrite\n",
      "  tifffile.imsave(os.path.join(out, f'{sample}.tif'), mask)\n"
     ]
    },
    {
     "name": "stdout",
     "output_type": "stream",
     "text": [
      "HT397B1_U2_03162023\n"
     ]
    },
    {
     "name": "stderr",
     "output_type": "stream",
     "text": [
      "/diskmnt/Projects/Users/estorrs/miniconda3/envs/mip/lib/python3.8/site-packages/ome_types/_convenience.py:112: FutureWarning: The default XML parser will be changing from 'xmlschema' to 'lxml' in version 0.4.0.  To silence this warning, please provide the `parser` argument, specifying either 'lxml' (to opt into the new behavior), or'xmlschema' (to retain the old behavior).\n",
      "  d = to_dict(os.fspath(xml), parser=parser, validate=validate)\n",
      "/diskmnt/Projects/Users/estorrs/sandbox/tmp/ipykernel_214946/578118905.py:23: DeprecationWarning: <tifffile.imsave> is deprecated. Use tifffile.imwrite\n",
      "  tifffile.imsave(os.path.join(out, f'{sample}.tif'), mask)\n"
     ]
    },
    {
     "name": "stdout",
     "output_type": "stream",
     "text": [
      "HT480B1_S1H2_R001\n"
     ]
    },
    {
     "name": "stderr",
     "output_type": "stream",
     "text": [
      "/diskmnt/Projects/Users/estorrs/miniconda3/envs/mip/lib/python3.8/site-packages/ome_types/_convenience.py:112: FutureWarning: The default XML parser will be changing from 'xmlschema' to 'lxml' in version 0.4.0.  To silence this warning, please provide the `parser` argument, specifying either 'lxml' (to opt into the new behavior), or'xmlschema' (to retain the old behavior).\n",
      "  d = to_dict(os.fspath(xml), parser=parser, validate=validate)\n",
      "/diskmnt/Projects/Users/estorrs/sandbox/tmp/ipykernel_214946/578118905.py:23: DeprecationWarning: <tifffile.imsave> is deprecated. Use tifffile.imwrite\n",
      "  tifffile.imsave(os.path.join(out, f'{sample}.tif'), mask)\n",
      "/diskmnt/Projects/Users/estorrs/miniconda3/envs/mip/lib/python3.8/site-packages/ome_types/_convenience.py:112: FutureWarning: The default XML parser will be changing from 'xmlschema' to 'lxml' in version 0.4.0.  To silence this warning, please provide the `parser` argument, specifying either 'lxml' (to opt into the new behavior), or'xmlschema' (to retain the old behavior).\n",
      "  d = to_dict(os.fspath(xml), parser=parser, validate=validate)\n"
     ]
    },
    {
     "name": "stdout",
     "output_type": "stream",
     "text": [
      "HT480B1_S1H2_R002\n"
     ]
    },
    {
     "name": "stderr",
     "output_type": "stream",
     "text": [
      "/diskmnt/Projects/Users/estorrs/sandbox/tmp/ipykernel_214946/578118905.py:23: DeprecationWarning: <tifffile.imsave> is deprecated. Use tifffile.imwrite\n",
      "  tifffile.imsave(os.path.join(out, f'{sample}.tif'), mask)\n",
      "/diskmnt/Projects/Users/estorrs/miniconda3/envs/mip/lib/python3.8/site-packages/ome_types/_convenience.py:112: FutureWarning: The default XML parser will be changing from 'xmlschema' to 'lxml' in version 0.4.0.  To silence this warning, please provide the `parser` argument, specifying either 'lxml' (to opt into the new behavior), or'xmlschema' (to retain the old behavior).\n",
      "  d = to_dict(os.fspath(xml), parser=parser, validate=validate)\n"
     ]
    },
    {
     "name": "stdout",
     "output_type": "stream",
     "text": [
      "HT565B1-H2_04262023\n"
     ]
    },
    {
     "name": "stderr",
     "output_type": "stream",
     "text": [
      "/diskmnt/Projects/Users/estorrs/sandbox/tmp/ipykernel_214946/578118905.py:23: DeprecationWarning: <tifffile.imsave> is deprecated. Use tifffile.imwrite\n",
      "  tifffile.imsave(os.path.join(out, f'{sample}.tif'), mask)\n",
      "/diskmnt/Projects/Users/estorrs/miniconda3/envs/mip/lib/python3.8/site-packages/ome_types/_convenience.py:112: FutureWarning: The default XML parser will be changing from 'xmlschema' to 'lxml' in version 0.4.0.  To silence this warning, please provide the `parser` argument, specifying either 'lxml' (to opt into the new behavior), or'xmlschema' (to retain the old behavior).\n",
      "  d = to_dict(os.fspath(xml), parser=parser, validate=validate)\n"
     ]
    },
    {
     "name": "stdout",
     "output_type": "stream",
     "text": [
      "HT565B1-S1H2_U1_07012023\n"
     ]
    },
    {
     "name": "stderr",
     "output_type": "stream",
     "text": [
      "/diskmnt/Projects/Users/estorrs/sandbox/tmp/ipykernel_214946/578118905.py:23: DeprecationWarning: <tifffile.imsave> is deprecated. Use tifffile.imwrite\n",
      "  tifffile.imsave(os.path.join(out, f'{sample}.tif'), mask)\n",
      "/diskmnt/Projects/Users/estorrs/miniconda3/envs/mip/lib/python3.8/site-packages/ome_types/_convenience.py:112: FutureWarning: The default XML parser will be changing from 'xmlschema' to 'lxml' in version 0.4.0.  To silence this warning, please provide the `parser` argument, specifying either 'lxml' (to opt into the new behavior), or'xmlschema' (to retain the old behavior).\n",
      "  d = to_dict(os.fspath(xml), parser=parser, validate=validate)\n"
     ]
    },
    {
     "name": "stdout",
     "output_type": "stream",
     "text": [
      "HT565B1-S1H2_U2_07012023\n"
     ]
    },
    {
     "name": "stderr",
     "output_type": "stream",
     "text": [
      "/diskmnt/Projects/Users/estorrs/sandbox/tmp/ipykernel_214946/578118905.py:23: DeprecationWarning: <tifffile.imsave> is deprecated. Use tifffile.imwrite\n",
      "  tifffile.imsave(os.path.join(out, f'{sample}.tif'), mask)\n"
     ]
    }
   ],
   "source": [
    "keep = ['Pan-Cytokeratin', 'E-cadherin']\n",
    "sample_to_mask = {}\n",
    "for sample in sample_to_adata.keys():\n",
    "    print(sample)\n",
    "    channel_to_img = utils.extract_ome_tiff(sample_to_ome[sample])\n",
    "    channel_to_img = {utils.R_CHANNEL_MAPPING.get(k, k):img for k, img in channel_to_img.items()}\n",
    "\n",
    "    a = sc.read_h5ad(sample_to_adata[sample])\n",
    "    \n",
    "    markers = [x.replace('_fraction', '') for x in a.var.index.to_list()]\n",
    "    thresholds = a.uns['thresholds']\n",
    "    mask = np.zeros_like(next(iter(channel_to_img.values())), dtype=bool)\n",
    "    for c in keep:\n",
    "        if c in markers:\n",
    "            val = thresholds[markers.index(c)]\n",
    "            if val > 0:\n",
    "                m = channel_to_img[c] >= val\n",
    "                mask |= m\n",
    "        \n",
    "    mask = generate_mask(mask, sigma=1., min_area=10000)\n",
    "    sample_to_mask[sample] = mask\n",
    "    \n",
    "    tifffile.imsave(os.path.join(out, f'{sample}.tif'), mask)    "
   ]
  },
  {
   "cell_type": "markdown",
   "id": "a22405a5",
   "metadata": {},
   "source": [
    "#### start here to rerun pregen masks"
   ]
  },
  {
   "cell_type": "code",
   "execution_count": 12,
   "id": "86c1b5d6",
   "metadata": {},
   "outputs": [],
   "source": [
    "mask_fps = sorted(utils.listfiles(os.path.join(output_dir, 'region_masks'), regex=r'.tif$'))\n",
    "sample_to_mask = {fp.split('/')[-1].replace('.tif', ''):fp for fp in mask_fps}"
   ]
  },
  {
   "cell_type": "code",
   "execution_count": 13,
   "id": "aeb9a9cf",
   "metadata": {},
   "outputs": [
    {
     "data": {
      "text/plain": [
       "51"
      ]
     },
     "execution_count": 13,
     "metadata": {},
     "output_type": "execute_result"
    }
   ],
   "source": [
    "a = set(sample_to_adata.keys())\n",
    "b = set(sample_to_mask.keys())\n",
    "c = set(sample_to_ome.keys())\n",
    "\n",
    "len(a.intersection(b).intersection(c))"
   ]
  },
  {
   "cell_type": "code",
   "execution_count": 14,
   "id": "4e01d4cc",
   "metadata": {},
   "outputs": [
    {
     "data": {
      "text/plain": [
       "AnnData object with n_obs × n_vars = 77651 × 26\n",
       "    obs: 'row', 'col', 'bbox-r1', 'bbox-c1', 'bbox-r2', 'bbox-c2', 'area', 'DAPI_intensity', 'CD8_intensity', 'CD138_intensity', 'CD4_intensity', 'cKit_intensity', 'Pan-Cytokeratin_intensity', 'GLUT1_intensity', 'Podoplanin_intensity', 'CK17_intensity', 'HLA-DR_intensity', 'GATA3_intensity', 'CD36_intensity', 'MGP_intensity', 'CK14_intensity', 'SMA_intensity', 'CD68_intensity', 'CD20_intensity', 'Vimentin_intensity', 'CD3e_intensity', 'CD163_intensity', 'Ki67_intensity', 'PR_intensity', 'ER_intensity', 'P16_intensity', 'CK19_intensity', 'P21_intensity', 'default_annotation', 'cKit_annotation', 'GATA3_annotation', 'CK14_annotation', 'CK19_annotation', 'PR_annotation', 'ER_annotation', 'Her2_annotation', 'CD8_annotation', 'BCA1_annotation', 'CTLA4_annotation', 'CD68_annotation', 'CD163_annotation', 'Granzyme-B_annotation', 'pan-immune_annotation'\n",
       "    uns: 'gating_strategy', 'thresholds'\n",
       "    obsm: 'spatial'"
      ]
     },
     "execution_count": 14,
     "metadata": {},
     "output_type": "execute_result"
    }
   ],
   "source": [
    "a = sc.read_h5ad(next(iter(sample_to_adata.values())))\n",
    "a"
   ]
  },
  {
   "cell_type": "code",
   "execution_count": 15,
   "id": "e7e5d0a5",
   "metadata": {},
   "outputs": [
    {
     "data": {
      "text/plain": [
       "['default_annotation',\n",
       " 'cKit_annotation',\n",
       " 'GATA3_annotation',\n",
       " 'CK14_annotation',\n",
       " 'CK19_annotation',\n",
       " 'PR_annotation',\n",
       " 'ER_annotation',\n",
       " 'Her2_annotation',\n",
       " 'CD8_annotation',\n",
       " 'BCA1_annotation',\n",
       " 'CTLA4_annotation',\n",
       " 'CD68_annotation',\n",
       " 'CD163_annotation',\n",
       " 'Granzyme-B_annotation',\n",
       " 'pan-immune_annotation']"
      ]
     },
     "execution_count": 15,
     "metadata": {},
     "output_type": "execute_result"
    }
   ],
   "source": [
    "annotation_keys = [c for c in a.obs.columns if '_annotation' in c]\n",
    "annotation_keys"
   ]
  },
  {
   "cell_type": "code",
   "execution_count": 16,
   "id": "062baefa",
   "metadata": {},
   "outputs": [],
   "source": [
    "region_features_dir = os.path.join(output_dir, 'region_features')\n",
    "region_features_masks_dir = os.path.join(output_dir, 'region_features_masks')\n",
    "Path(region_features_dir).mkdir(parents=True, exist_ok=True)\n",
    "Path(region_features_masks_dir).mkdir(parents=True, exist_ok=True)"
   ]
  },
  {
   "cell_type": "code",
   "execution_count": 17,
   "id": "6f79b04b",
   "metadata": {},
   "outputs": [],
   "source": [
    "logging.getLogger().setLevel(logging.INFO)"
   ]
  },
  {
   "cell_type": "code",
   "execution_count": 18,
   "id": "5e993a4a",
   "metadata": {
    "code_folding": [],
    "scrolled": true
   },
   "outputs": [
    {
     "name": "stdout",
     "output_type": "stream",
     "text": [
      "HT110B1_S1H4\n"
     ]
    },
    {
     "name": "stderr",
     "output_type": "stream",
     "text": [
      "/diskmnt/Projects/Users/estorrs/miniconda3/envs/mip/lib/python3.8/site-packages/ome_types/_convenience.py:112: FutureWarning: The default XML parser will be changing from 'xmlschema' to 'lxml' in version 0.4.0.  To silence this warning, please provide the `parser` argument, specifying either 'lxml' (to opt into the new behavior), or'xmlschema' (to retain the old behavior).\n",
      "  d = to_dict(os.fspath(xml), parser=parser, validate=validate)\n",
      "INFO:root:reading mask from /diskmnt/Projects/Users/estorrs/imaging-analysis/results/brca_subtype/revision_v1/region_masks/HT110B1_S1H4.tif\n",
      "INFO:root:generating region features for region\n",
      "INFO:root:generating cell fractions\n",
      "INFO:root:generating marker intensities\n",
      "INFO:root:generating marker fractions\n",
      "INFO:root:Using the following threhsolds to calculate positive fraction: {'CD8': 11.0, 'Pan-Cytokeratin': 10.0, 'Podoplanin': 10.0, 'CK17': 20.0, 'HLA-DR': 12.0, 'GATA3': 9.0, 'CK14': 19.0, 'SMA': 15.0, 'CD20': 12.0, 'CD3e': 15.0, 'CD163': 19.0, 'PR': 39.0, 'ER': 10.0, 'CK19': 10.0}\n",
      "INFO:root:generating region features for ductal\n",
      "INFO:root:generating cell fractions\n",
      "INFO:root:generating marker intensities\n",
      "INFO:root:generating cell fractions\n",
      "INFO:root:generating marker intensities\n",
      "INFO:root:generating marker fractions\n",
      "INFO:root:Using the following threhsolds to calculate positive fraction: {'CD8': 11.0, 'Pan-Cytokeratin': 10.0, 'Podoplanin': 10.0, 'CK17': 20.0, 'HLA-DR': 12.0, 'GATA3': 9.0, 'CK14': 19.0, 'SMA': 15.0, 'CD20': 12.0, 'CD3e': 15.0, 'CD163': 19.0, 'PR': 39.0, 'ER': 10.0, 'CK19': 10.0}\n",
      "INFO:root:generating region features for boundary\n",
      "INFO:root:generating cell fractions\n",
      "INFO:root:generating marker intensities\n",
      "INFO:root:generating marker fractions\n",
      "INFO:root:Using the following threhsolds to calculate positive fraction: {'CD8': 11.0, 'Pan-Cytokeratin': 10.0, 'Podoplanin': 10.0, 'CK17': 20.0, 'HLA-DR': 12.0, 'GATA3': 9.0, 'CK14': 19.0, 'SMA': 15.0, 'CD20': 12.0, 'CD3e': 15.0, 'CD163': 19.0, 'PR': 39.0, 'ER': 10.0, 'CK19': 10.0}\n",
      "INFO:root:generating region features for expanded\n",
      "INFO:root:generating cell fractions\n",
      "INFO:root:generating marker intensities\n",
      "INFO:root:generating marker fractions\n",
      "INFO:root:Using the following threhsolds to calculate positive fraction: {'CD8': 11.0, 'Pan-Cytokeratin': 10.0, 'Podoplanin': 10.0, 'CK17': 20.0, 'HLA-DR': 12.0, 'GATA3': 9.0, 'CK14': 19.0, 'SMA': 15.0, 'CD20': 12.0, 'CD3e': 15.0, 'CD163': 19.0, 'PR': 39.0, 'ER': 10.0, 'CK19': 10.0}\n"
     ]
    },
    {
     "name": "stdout",
     "output_type": "stream",
     "text": [
      "HT171B1-S1H9A1-4_left_05122023\n"
     ]
    },
    {
     "name": "stderr",
     "output_type": "stream",
     "text": [
      "/diskmnt/Projects/Users/estorrs/miniconda3/envs/mip/lib/python3.8/site-packages/ome_types/_convenience.py:112: FutureWarning: The default XML parser will be changing from 'xmlschema' to 'lxml' in version 0.4.0.  To silence this warning, please provide the `parser` argument, specifying either 'lxml' (to opt into the new behavior), or'xmlschema' (to retain the old behavior).\n",
      "  d = to_dict(os.fspath(xml), parser=parser, validate=validate)\n",
      "INFO:root:reading mask from /diskmnt/Projects/Users/estorrs/imaging-analysis/results/brca_subtype/revision_v1/region_masks/HT171B1-S1H9A1-4_left_05122023.tif\n",
      "INFO:root:generating region features for region\n",
      "INFO:root:generating cell fractions\n",
      "INFO:root:generating marker intensities\n",
      "INFO:root:generating marker fractions\n",
      "INFO:root:Using the following threhsolds to calculate positive fraction: {'CD8': 10.0, 'Her2': 10.0, 'GATA3': 29.0, 'cKit': 10.0, 'Pan-Cytokeratin': 15.0, 'GLUT1': 6.0, 'Podoplanin': 10.0, 'HLA-DR': 12.0, 'CK14': 10.0, 'E-cadherin': 212.0, 'SMA': 10.0, 'CD3e': 10.0, 'CD11b': 10.0, 'PR': 10.0, 'ER': 10.0, 'CD31': 10.0, 'CK19': 10.0, 'CK5': 8.0, 'CTLA4': 10.0, 'CD4': 14.0, 'BCA1': 10.0}\n",
      "INFO:root:generating region features for ductal\n",
      "INFO:root:generating cell fractions\n",
      "INFO:root:generating marker intensities\n",
      "INFO:root:generating marker fractions\n",
      "INFO:root:Using the following threhsolds to calculate positive fraction: {'CD8': 10.0, 'Her2': 10.0, 'GATA3': 29.0, 'cKit': 10.0, 'Pan-Cytokeratin': 15.0, 'GLUT1': 6.0, 'Podoplanin': 10.0, 'HLA-DR': 12.0, 'CK14': 10.0, 'E-cadherin': 212.0, 'SMA': 10.0, 'CD3e': 10.0, 'CD11b': 10.0, 'PR': 10.0, 'ER': 10.0, 'CD31': 10.0, 'CK19': 10.0, 'CK5': 8.0, 'CTLA4': 10.0, 'CD4': 14.0, 'BCA1': 10.0}\n",
      "INFO:root:generating region features for myoepi\n",
      "INFO:root:generating cell fractions\n",
      "INFO:root:generating marker intensities\n",
      "INFO:root:generating marker fractions\n",
      "INFO:root:Using the following threhsolds to calculate positive fraction: {'CD8': 10.0, 'Her2': 10.0, 'GATA3': 29.0, 'cKit': 10.0, 'Pan-Cytokeratin': 15.0, 'GLUT1': 6.0, 'Podoplanin': 10.0, 'HLA-DR': 12.0, 'CK14': 10.0, 'E-cadherin': 212.0, 'SMA': 10.0, 'CD3e': 10.0, 'CD11b': 10.0, 'PR': 10.0, 'ER': 10.0, 'CD31': 10.0, 'CK19': 10.0, 'CK5': 8.0, 'CTLA4': 10.0, 'CD4': 14.0, 'BCA1': 10.0}\n",
      "INFO:root:generating region features for boundary\n",
      "INFO:root:generating cell fractions\n",
      "INFO:root:generating marker intensities\n",
      "INFO:root:generating marker fractions\n",
      "INFO:root:Using the following threhsolds to calculate positive fraction: {'CD8': 10.0, 'Her2': 10.0, 'GATA3': 29.0, 'cKit': 10.0, 'Pan-Cytokeratin': 15.0, 'GLUT1': 6.0, 'Podoplanin': 10.0, 'HLA-DR': 12.0, 'CK14': 10.0, 'E-cadherin': 212.0, 'SMA': 10.0, 'CD3e': 10.0, 'CD11b': 10.0, 'PR': 10.0, 'ER': 10.0, 'CD31': 10.0, 'CK19': 10.0, 'CK5': 8.0, 'CTLA4': 10.0, 'CD4': 14.0, 'BCA1': 10.0}\n",
      "INFO:root:generating region features for expanded\n",
      "INFO:root:generating cell fractions\n",
      "INFO:root:generating marker intensities\n",
      "INFO:root:generating marker fractions\n",
      "INFO:root:Using the following threhsolds to calculate positive fraction: {'CD8': 10.0, 'Her2': 10.0, 'GATA3': 29.0, 'cKit': 10.0, 'Pan-Cytokeratin': 15.0, 'GLUT1': 6.0, 'Podoplanin': 10.0, 'HLA-DR': 12.0, 'CK14': 10.0, 'E-cadherin': 212.0, 'SMA': 10.0, 'CD3e': 10.0, 'CD11b': 10.0, 'PR': 10.0, 'ER': 10.0, 'CD31': 10.0, 'CK19': 10.0, 'CK5': 8.0, 'CTLA4': 10.0, 'CD4': 14.0, 'BCA1': 10.0}\n"
     ]
    },
    {
     "name": "stdout",
     "output_type": "stream",
     "text": [
      "HT171B1-S1H9A1-4_right_05122023\n"
     ]
    },
    {
     "name": "stderr",
     "output_type": "stream",
     "text": [
      "/diskmnt/Projects/Users/estorrs/miniconda3/envs/mip/lib/python3.8/site-packages/ome_types/_convenience.py:112: FutureWarning: The default XML parser will be changing from 'xmlschema' to 'lxml' in version 0.4.0.  To silence this warning, please provide the `parser` argument, specifying either 'lxml' (to opt into the new behavior), or'xmlschema' (to retain the old behavior).\n",
      "  d = to_dict(os.fspath(xml), parser=parser, validate=validate)\n",
      "INFO:root:reading mask from /diskmnt/Projects/Users/estorrs/imaging-analysis/results/brca_subtype/revision_v1/region_masks/HT171B1-S1H9A1-4_right_05122023.tif\n",
      "INFO:root:generating region features for region\n",
      "INFO:root:generating cell fractions\n",
      "INFO:root:generating marker intensities\n",
      "INFO:root:generating marker fractions\n",
      "INFO:root:Using the following threhsolds to calculate positive fraction: {'CD8': 10.0, 'Her2': 10.0, 'GATA3': 29.0, 'cKit': 10.0, 'Pan-Cytokeratin': 15.0, 'GLUT1': 6.0, 'Podoplanin': 10.0, 'HLA-DR': 12.0, 'CK14': 10.0, 'E-cadherin': 212.0, 'SMA': 10.0, 'CD3e': 10.0, 'CD11b': 10.0, 'PR': 10.0, 'ER': 10.0, 'CD31': 10.0, 'CK19': 10.0, 'CK5': 8.0, 'CTLA4': 10.0, 'CD4': 14.0, 'BCA1': 10.0}\n",
      "INFO:root:generating region features for ductal\n",
      "INFO:root:generating cell fractions\n",
      "INFO:root:generating marker intensities\n",
      "INFO:root:generating marker fractions\n",
      "INFO:root:Using the following threhsolds to calculate positive fraction: {'CD8': 10.0, 'Her2': 10.0, 'GATA3': 29.0, 'cKit': 10.0, 'Pan-Cytokeratin': 15.0, 'GLUT1': 6.0, 'Podoplanin': 10.0, 'HLA-DR': 12.0, 'CK14': 10.0, 'E-cadherin': 212.0, 'SMA': 10.0, 'CD3e': 10.0, 'CD11b': 10.0, 'PR': 10.0, 'ER': 10.0, 'CD31': 10.0, 'CK19': 10.0, 'CK5': 8.0, 'CTLA4': 10.0, 'CD4': 14.0, 'BCA1': 10.0}\n",
      "INFO:root:generating region features for myoepi\n",
      "INFO:root:generating cell fractions\n",
      "INFO:root:generating marker intensities\n",
      "INFO:root:generating marker fractions\n",
      "INFO:root:Using the following threhsolds to calculate positive fraction: {'CD8': 10.0, 'Her2': 10.0, 'GATA3': 29.0, 'cKit': 10.0, 'Pan-Cytokeratin': 15.0, 'GLUT1': 6.0, 'Podoplanin': 10.0, 'HLA-DR': 12.0, 'CK14': 10.0, 'E-cadherin': 212.0, 'SMA': 10.0, 'CD3e': 10.0, 'CD11b': 10.0, 'PR': 10.0, 'ER': 10.0, 'CD31': 10.0, 'CK19': 10.0, 'CK5': 8.0, 'CTLA4': 10.0, 'CD4': 14.0, 'BCA1': 10.0}\n",
      "INFO:root:generating region features for boundary\n",
      "INFO:root:generating cell fractions\n",
      "INFO:root:generating marker intensities\n",
      "INFO:root:generating marker fractions\n",
      "INFO:root:Using the following threhsolds to calculate positive fraction: {'CD8': 10.0, 'Her2': 10.0, 'GATA3': 29.0, 'cKit': 10.0, 'Pan-Cytokeratin': 15.0, 'GLUT1': 6.0, 'Podoplanin': 10.0, 'HLA-DR': 12.0, 'CK14': 10.0, 'E-cadherin': 212.0, 'SMA': 10.0, 'CD3e': 10.0, 'CD11b': 10.0, 'PR': 10.0, 'ER': 10.0, 'CD31': 10.0, 'CK19': 10.0, 'CK5': 8.0, 'CTLA4': 10.0, 'CD4': 14.0, 'BCA1': 10.0}\n",
      "INFO:root:generating region features for expanded\n",
      "INFO:root:generating cell fractions\n",
      "INFO:root:generating marker intensities\n",
      "INFO:root:generating marker fractions\n",
      "INFO:root:Using the following threhsolds to calculate positive fraction: {'CD8': 10.0, 'Her2': 10.0, 'GATA3': 29.0, 'cKit': 10.0, 'Pan-Cytokeratin': 15.0, 'GLUT1': 6.0, 'Podoplanin': 10.0, 'HLA-DR': 12.0, 'CK14': 10.0, 'E-cadherin': 212.0, 'SMA': 10.0, 'CD3e': 10.0, 'CD11b': 10.0, 'PR': 10.0, 'ER': 10.0, 'CD31': 10.0, 'CK19': 10.0, 'CK5': 8.0, 'CTLA4': 10.0, 'CD4': 14.0, 'BCA1': 10.0}\n"
     ]
    },
    {
     "name": "stdout",
     "output_type": "stream",
     "text": [
      "HT171B1-S1H9A1-A4_left_05262023\n"
     ]
    },
    {
     "name": "stderr",
     "output_type": "stream",
     "text": [
      "/diskmnt/Projects/Users/estorrs/miniconda3/envs/mip/lib/python3.8/site-packages/ome_types/_convenience.py:112: FutureWarning: The default XML parser will be changing from 'xmlschema' to 'lxml' in version 0.4.0.  To silence this warning, please provide the `parser` argument, specifying either 'lxml' (to opt into the new behavior), or'xmlschema' (to retain the old behavior).\n",
      "  d = to_dict(os.fspath(xml), parser=parser, validate=validate)\n",
      "INFO:root:reading mask from /diskmnt/Projects/Users/estorrs/imaging-analysis/results/brca_subtype/revision_v1/region_masks/HT171B1-S1H9A1-A4_left_05262023.tif\n",
      "INFO:root:generating region features for region\n",
      "INFO:root:generating cell fractions\n",
      "INFO:root:generating marker intensities\n",
      "INFO:root:generating marker fractions\n",
      "INFO:root:Using the following threhsolds to calculate positive fraction: {'CD8': 10.0, 'Her2': 10.0, 'GATA3': 15.0, 'cKit': 10.0, 'Pan-Cytokeratin': 22.0, 'GLUT1': 13.0, 'Podoplanin': 10.0, 'HLA-DR': 15.0, 'CK14': 10.0, 'SMA': 10.0, 'PR': 19.0, 'ER': 10.0, 'CD31': 10.0, 'CK19': 10.0, 'CTLA4': 10.0, 'CD4': 12.0, 'BCA1': 11.0}\n",
      "INFO:root:generating region features for ductal\n",
      "INFO:root:generating cell fractions\n",
      "INFO:root:generating marker intensities\n",
      "INFO:root:generating marker fractions\n",
      "INFO:root:Using the following threhsolds to calculate positive fraction: {'CD8': 10.0, 'Her2': 10.0, 'GATA3': 15.0, 'cKit': 10.0, 'Pan-Cytokeratin': 22.0, 'GLUT1': 13.0, 'Podoplanin': 10.0, 'HLA-DR': 15.0, 'CK14': 10.0, 'SMA': 10.0, 'PR': 19.0, 'ER': 10.0, 'CD31': 10.0, 'CK19': 10.0, 'CTLA4': 10.0, 'CD4': 12.0, 'BCA1': 11.0}\n",
      "INFO:root:generating region features for myoepi\n",
      "INFO:root:generating cell fractions\n",
      "INFO:root:generating marker intensities\n",
      "INFO:root:generating marker fractions\n",
      "INFO:root:Using the following threhsolds to calculate positive fraction: {'CD8': 10.0, 'Her2': 10.0, 'GATA3': 15.0, 'cKit': 10.0, 'Pan-Cytokeratin': 22.0, 'GLUT1': 13.0, 'Podoplanin': 10.0, 'HLA-DR': 15.0, 'CK14': 10.0, 'SMA': 10.0, 'PR': 19.0, 'ER': 10.0, 'CD31': 10.0, 'CK19': 10.0, 'CTLA4': 10.0, 'CD4': 12.0, 'BCA1': 11.0}\n",
      "INFO:root:generating region features for boundary\n",
      "INFO:root:generating cell fractions\n",
      "INFO:root:generating marker intensities\n",
      "INFO:root:generating marker fractions\n",
      "INFO:root:Using the following threhsolds to calculate positive fraction: {'CD8': 10.0, 'Her2': 10.0, 'GATA3': 15.0, 'cKit': 10.0, 'Pan-Cytokeratin': 22.0, 'GLUT1': 13.0, 'Podoplanin': 10.0, 'HLA-DR': 15.0, 'CK14': 10.0, 'SMA': 10.0, 'PR': 19.0, 'ER': 10.0, 'CD31': 10.0, 'CK19': 10.0, 'CTLA4': 10.0, 'CD4': 12.0, 'BCA1': 11.0}\n",
      "INFO:root:generating region features for expanded\n",
      "INFO:root:generating cell fractions\n",
      "INFO:root:generating marker intensities\n",
      "INFO:root:generating marker fractions\n",
      "INFO:root:Using the following threhsolds to calculate positive fraction: {'CD8': 10.0, 'Her2': 10.0, 'GATA3': 15.0, 'cKit': 10.0, 'Pan-Cytokeratin': 22.0, 'GLUT1': 13.0, 'Podoplanin': 10.0, 'HLA-DR': 15.0, 'CK14': 10.0, 'SMA': 10.0, 'PR': 19.0, 'ER': 10.0, 'CD31': 10.0, 'CK19': 10.0, 'CTLA4': 10.0, 'CD4': 12.0, 'BCA1': 11.0}\n"
     ]
    },
    {
     "name": "stdout",
     "output_type": "stream",
     "text": [
      "HT171B1-S1H9A1-A4_right_05262023\n"
     ]
    },
    {
     "name": "stderr",
     "output_type": "stream",
     "text": [
      "/diskmnt/Projects/Users/estorrs/miniconda3/envs/mip/lib/python3.8/site-packages/ome_types/_convenience.py:112: FutureWarning: The default XML parser will be changing from 'xmlschema' to 'lxml' in version 0.4.0.  To silence this warning, please provide the `parser` argument, specifying either 'lxml' (to opt into the new behavior), or'xmlschema' (to retain the old behavior).\n",
      "  d = to_dict(os.fspath(xml), parser=parser, validate=validate)\n",
      "INFO:root:reading mask from /diskmnt/Projects/Users/estorrs/imaging-analysis/results/brca_subtype/revision_v1/region_masks/HT171B1-S1H9A1-A4_right_05262023.tif\n",
      "INFO:root:generating region features for region\n",
      "INFO:root:generating cell fractions\n",
      "INFO:root:generating marker intensities\n",
      "INFO:root:generating marker fractions\n",
      "INFO:root:Using the following threhsolds to calculate positive fraction: {'CD8': 10.0, 'Her2': 10.0, 'GATA3': 15.0, 'cKit': 10.0, 'Pan-Cytokeratin': 22.0, 'GLUT1': 13.0, 'Podoplanin': 10.0, 'HLA-DR': 15.0, 'CK14': 10.0, 'SMA': 10.0, 'PR': 19.0, 'ER': 10.0, 'CD31': 10.0, 'CK19': 10.0, 'CTLA4': 10.0, 'CD4': 12.0, 'BCA1': 11.0}\n",
      "INFO:root:generating region features for ductal\n",
      "INFO:root:generating cell fractions\n",
      "INFO:root:generating marker intensities\n",
      "INFO:root:generating marker fractions\n",
      "INFO:root:Using the following threhsolds to calculate positive fraction: {'CD8': 10.0, 'Her2': 10.0, 'GATA3': 15.0, 'cKit': 10.0, 'Pan-Cytokeratin': 22.0, 'GLUT1': 13.0, 'Podoplanin': 10.0, 'HLA-DR': 15.0, 'CK14': 10.0, 'SMA': 10.0, 'PR': 19.0, 'ER': 10.0, 'CD31': 10.0, 'CK19': 10.0, 'CTLA4': 10.0, 'CD4': 12.0, 'BCA1': 11.0}\n",
      "INFO:root:generating region features for myoepi\n",
      "INFO:root:generating cell fractions\n",
      "INFO:root:generating marker intensities\n",
      "INFO:root:generating marker fractions\n",
      "INFO:root:Using the following threhsolds to calculate positive fraction: {'CD8': 10.0, 'Her2': 10.0, 'GATA3': 15.0, 'cKit': 10.0, 'Pan-Cytokeratin': 22.0, 'GLUT1': 13.0, 'Podoplanin': 10.0, 'HLA-DR': 15.0, 'CK14': 10.0, 'SMA': 10.0, 'PR': 19.0, 'ER': 10.0, 'CD31': 10.0, 'CK19': 10.0, 'CTLA4': 10.0, 'CD4': 12.0, 'BCA1': 11.0}\n",
      "INFO:root:generating region features for boundary\n",
      "INFO:root:generating cell fractions\n",
      "INFO:root:generating marker intensities\n",
      "INFO:root:generating marker fractions\n",
      "INFO:root:Using the following threhsolds to calculate positive fraction: {'CD8': 10.0, 'Her2': 10.0, 'GATA3': 15.0, 'cKit': 10.0, 'Pan-Cytokeratin': 22.0, 'GLUT1': 13.0, 'Podoplanin': 10.0, 'HLA-DR': 15.0, 'CK14': 10.0, 'SMA': 10.0, 'PR': 19.0, 'ER': 10.0, 'CD31': 10.0, 'CK19': 10.0, 'CTLA4': 10.0, 'CD4': 12.0, 'BCA1': 11.0}\n",
      "INFO:root:generating region features for expanded\n",
      "INFO:root:generating cell fractions\n",
      "INFO:root:generating marker intensities\n",
      "INFO:root:generating marker fractions\n",
      "INFO:root:Using the following threhsolds to calculate positive fraction: {'CD8': 10.0, 'Her2': 10.0, 'GATA3': 15.0, 'cKit': 10.0, 'Pan-Cytokeratin': 22.0, 'GLUT1': 13.0, 'Podoplanin': 10.0, 'HLA-DR': 15.0, 'CK14': 10.0, 'SMA': 10.0, 'PR': 19.0, 'ER': 10.0, 'CD31': 10.0, 'CK19': 10.0, 'CTLA4': 10.0, 'CD4': 12.0, 'BCA1': 11.0}\n"
     ]
    },
    {
     "name": "stdout",
     "output_type": "stream",
     "text": [
      "HT206B1-S1H5_U1_07012023\n"
     ]
    },
    {
     "name": "stderr",
     "output_type": "stream",
     "text": [
      "/diskmnt/Projects/Users/estorrs/miniconda3/envs/mip/lib/python3.8/site-packages/ome_types/_convenience.py:112: FutureWarning: The default XML parser will be changing from 'xmlschema' to 'lxml' in version 0.4.0.  To silence this warning, please provide the `parser` argument, specifying either 'lxml' (to opt into the new behavior), or'xmlschema' (to retain the old behavior).\n",
      "  d = to_dict(os.fspath(xml), parser=parser, validate=validate)\n",
      "INFO:root:reading mask from /diskmnt/Projects/Users/estorrs/imaging-analysis/results/brca_subtype/revision_v1/region_masks/HT206B1-S1H5_U1_07012023.tif\n",
      "INFO:root:generating region features for region\n",
      "INFO:root:generating cell fractions\n",
      "INFO:root:generating marker intensities\n",
      "INFO:root:generating marker fractions\n",
      "INFO:root:Using the following threhsolds to calculate positive fraction: {'CD8': 10.0, 'Her2': 15.0, 'GATA3': 40.0, 'cKit': 10.0, 'GLUT1': 10.0, 'Podoplanin': 10.0, 'HLA-DR': 12.0, 'CK14': 12.0, 'E-cadherin': 10.0, 'SMA': 10.0, 'CD3e': 39.0, 'CD31': 10.0, 'PR': 39.0, 'CD45': 39.0, 'ER': 10.0, 'Granzyme-B': 24.0, 'CTLA4': 10.0, 'CD4': 19.0}\n",
      "INFO:root:generating region features for ductal\n",
      "INFO:root:generating cell fractions\n",
      "INFO:root:generating marker intensities\n",
      "INFO:root:generating marker fractions\n",
      "INFO:root:Using the following threhsolds to calculate positive fraction: {'CD8': 10.0, 'Her2': 15.0, 'GATA3': 40.0, 'cKit': 10.0, 'GLUT1': 10.0, 'Podoplanin': 10.0, 'HLA-DR': 12.0, 'CK14': 12.0, 'E-cadherin': 10.0, 'SMA': 10.0, 'CD3e': 39.0, 'CD31': 10.0, 'PR': 39.0, 'CD45': 39.0, 'ER': 10.0, 'Granzyme-B': 24.0, 'CTLA4': 10.0, 'CD4': 19.0}\n",
      "INFO:root:generating region features for myoepi\n",
      "INFO:root:generating cell fractions\n",
      "INFO:root:generating marker intensities\n",
      "INFO:root:generating marker fractions\n",
      "INFO:root:Using the following threhsolds to calculate positive fraction: {'CD8': 10.0, 'Her2': 15.0, 'GATA3': 40.0, 'cKit': 10.0, 'GLUT1': 10.0, 'Podoplanin': 10.0, 'HLA-DR': 12.0, 'CK14': 12.0, 'E-cadherin': 10.0, 'SMA': 10.0, 'CD3e': 39.0, 'CD31': 10.0, 'PR': 39.0, 'CD45': 39.0, 'ER': 10.0, 'Granzyme-B': 24.0, 'CTLA4': 10.0, 'CD4': 19.0}\n",
      "INFO:root:generating region features for boundary\n",
      "INFO:root:generating cell fractions\n",
      "INFO:root:generating marker intensities\n",
      "INFO:root:generating marker fractions\n",
      "INFO:root:Using the following threhsolds to calculate positive fraction: {'CD8': 10.0, 'Her2': 15.0, 'GATA3': 40.0, 'cKit': 10.0, 'GLUT1': 10.0, 'Podoplanin': 10.0, 'HLA-DR': 12.0, 'CK14': 12.0, 'E-cadherin': 10.0, 'SMA': 10.0, 'CD3e': 39.0, 'CD31': 10.0, 'PR': 39.0, 'CD45': 39.0, 'ER': 10.0, 'Granzyme-B': 24.0, 'CTLA4': 10.0, 'CD4': 19.0}\n",
      "INFO:root:generating region features for expanded\n",
      "INFO:root:generating cell fractions\n",
      "INFO:root:generating marker intensities\n",
      "INFO:root:generating marker fractions\n",
      "INFO:root:Using the following threhsolds to calculate positive fraction: {'CD8': 10.0, 'Her2': 15.0, 'GATA3': 40.0, 'cKit': 10.0, 'GLUT1': 10.0, 'Podoplanin': 10.0, 'HLA-DR': 12.0, 'CK14': 12.0, 'E-cadherin': 10.0, 'SMA': 10.0, 'CD3e': 39.0, 'CD31': 10.0, 'PR': 39.0, 'CD45': 39.0, 'ER': 10.0, 'Granzyme-B': 24.0, 'CTLA4': 10.0, 'CD4': 19.0}\n"
     ]
    },
    {
     "name": "stdout",
     "output_type": "stream",
     "text": [
      "HT206B1-S1H5_U2_07012023\n"
     ]
    },
    {
     "name": "stderr",
     "output_type": "stream",
     "text": [
      "/diskmnt/Projects/Users/estorrs/miniconda3/envs/mip/lib/python3.8/site-packages/ome_types/_convenience.py:112: FutureWarning: The default XML parser will be changing from 'xmlschema' to 'lxml' in version 0.4.0.  To silence this warning, please provide the `parser` argument, specifying either 'lxml' (to opt into the new behavior), or'xmlschema' (to retain the old behavior).\n",
      "  d = to_dict(os.fspath(xml), parser=parser, validate=validate)\n",
      "INFO:root:reading mask from /diskmnt/Projects/Users/estorrs/imaging-analysis/results/brca_subtype/revision_v1/region_masks/HT206B1-S1H5_U2_07012023.tif\n",
      "INFO:root:generating region features for region\n",
      "INFO:root:generating cell fractions\n",
      "INFO:root:generating marker intensities\n",
      "INFO:root:generating marker fractions\n",
      "INFO:root:Using the following threhsolds to calculate positive fraction: {'CD8': 10.0, 'Her2': 15.0, 'GATA3': 40.0, 'cKit': 10.0, 'GLUT1': 10.0, 'Podoplanin': 10.0, 'HLA-DR': 12.0, 'CK14': 12.0, 'E-cadherin': 10.0, 'SMA': 10.0, 'CD3e': 39.0, 'CD31': 10.0, 'PR': 39.0, 'CD45': 39.0, 'ER': 10.0, 'Granzyme-B': 24.0, 'CTLA4': 10.0, 'CD4': 19.0}\n",
      "INFO:root:generating region features for ductal\n",
      "INFO:root:generating cell fractions\n",
      "INFO:root:generating marker intensities\n",
      "INFO:root:generating marker fractions\n",
      "INFO:root:Using the following threhsolds to calculate positive fraction: {'CD8': 10.0, 'Her2': 15.0, 'GATA3': 40.0, 'cKit': 10.0, 'GLUT1': 10.0, 'Podoplanin': 10.0, 'HLA-DR': 12.0, 'CK14': 12.0, 'E-cadherin': 10.0, 'SMA': 10.0, 'CD3e': 39.0, 'CD31': 10.0, 'PR': 39.0, 'CD45': 39.0, 'ER': 10.0, 'Granzyme-B': 24.0, 'CTLA4': 10.0, 'CD4': 19.0}\n",
      "INFO:root:generating region features for myoepi\n",
      "INFO:root:generating cell fractions\n",
      "INFO:root:generating marker intensities\n",
      "INFO:root:generating marker fractions\n",
      "INFO:root:Using the following threhsolds to calculate positive fraction: {'CD8': 10.0, 'Her2': 15.0, 'GATA3': 40.0, 'cKit': 10.0, 'GLUT1': 10.0, 'Podoplanin': 10.0, 'HLA-DR': 12.0, 'CK14': 12.0, 'E-cadherin': 10.0, 'SMA': 10.0, 'CD3e': 39.0, 'CD31': 10.0, 'PR': 39.0, 'CD45': 39.0, 'ER': 10.0, 'Granzyme-B': 24.0, 'CTLA4': 10.0, 'CD4': 19.0}\n",
      "INFO:root:generating region features for boundary\n",
      "INFO:root:generating cell fractions\n",
      "INFO:root:generating marker intensities\n",
      "INFO:root:generating marker fractions\n",
      "INFO:root:Using the following threhsolds to calculate positive fraction: {'CD8': 10.0, 'Her2': 15.0, 'GATA3': 40.0, 'cKit': 10.0, 'GLUT1': 10.0, 'Podoplanin': 10.0, 'HLA-DR': 12.0, 'CK14': 12.0, 'E-cadherin': 10.0, 'SMA': 10.0, 'CD3e': 39.0, 'CD31': 10.0, 'PR': 39.0, 'CD45': 39.0, 'ER': 10.0, 'Granzyme-B': 24.0, 'CTLA4': 10.0, 'CD4': 19.0}\n",
      "INFO:root:generating region features for expanded\n",
      "INFO:root:generating cell fractions\n",
      "INFO:root:generating marker intensities\n",
      "INFO:root:generating marker fractions\n",
      "INFO:root:Using the following threhsolds to calculate positive fraction: {'CD8': 10.0, 'Her2': 15.0, 'GATA3': 40.0, 'cKit': 10.0, 'GLUT1': 10.0, 'Podoplanin': 10.0, 'HLA-DR': 12.0, 'CK14': 12.0, 'E-cadherin': 10.0, 'SMA': 10.0, 'CD3e': 39.0, 'CD31': 10.0, 'PR': 39.0, 'CD45': 39.0, 'ER': 10.0, 'Granzyme-B': 24.0, 'CTLA4': 10.0, 'CD4': 19.0}\n"
     ]
    },
    {
     "name": "stdout",
     "output_type": "stream",
     "text": [
      "HT206B1_H1\n"
     ]
    },
    {
     "name": "stderr",
     "output_type": "stream",
     "text": [
      "/diskmnt/Projects/Users/estorrs/miniconda3/envs/mip/lib/python3.8/site-packages/ome_types/_convenience.py:112: FutureWarning: The default XML parser will be changing from 'xmlschema' to 'lxml' in version 0.4.0.  To silence this warning, please provide the `parser` argument, specifying either 'lxml' (to opt into the new behavior), or'xmlschema' (to retain the old behavior).\n",
      "  d = to_dict(os.fspath(xml), parser=parser, validate=validate)\n",
      "INFO:root:reading mask from /diskmnt/Projects/Users/estorrs/imaging-analysis/results/brca_subtype/revision_v1/region_masks/HT206B1_H1.tif\n",
      "INFO:root:generating region features for region\n",
      "INFO:root:generating cell fractions\n",
      "INFO:root:generating marker intensities\n",
      "INFO:root:generating marker fractions\n",
      "INFO:root:Using the following threhsolds to calculate positive fraction: {'CD31': 4999.0, 'CD4': 4499.0, 'CD68': 3640.0, 'Pan-Cytokeratin': 5075.0, 'CD8': 4597.0, 'CD163': 3162.0, 'Podoplanin': 4500.0, 'CD3e': 3162.0, 'CD45RO': 5075.0, 'SMA': 2683.0}\n",
      "INFO:root:generating region features for ductal\n",
      "INFO:root:generating cell fractions\n",
      "INFO:root:generating marker intensities\n",
      "INFO:root:generating marker fractions\n",
      "INFO:root:Using the following threhsolds to calculate positive fraction: {'CD31': 4999.0, 'CD4': 4499.0, 'CD68': 3640.0, 'Pan-Cytokeratin': 5075.0, 'CD8': 4597.0, 'CD163': 3162.0, 'Podoplanin': 4500.0, 'CD3e': 3162.0, 'CD45RO': 5075.0, 'SMA': 2683.0}\n",
      "INFO:root:generating region features for myoepi\n",
      "INFO:root:generating cell fractions\n",
      "INFO:root:generating marker intensities\n",
      "INFO:root:generating marker fractions\n",
      "INFO:root:Using the following threhsolds to calculate positive fraction: {'CD31': 4999.0, 'CD4': 4499.0, 'CD68': 3640.0, 'Pan-Cytokeratin': 5075.0, 'CD8': 4597.0, 'CD163': 3162.0, 'Podoplanin': 4500.0, 'CD3e': 3162.0, 'CD45RO': 5075.0, 'SMA': 2683.0}\n",
      "INFO:root:generating region features for boundary\n",
      "INFO:root:generating cell fractions\n",
      "INFO:root:generating marker intensities\n",
      "INFO:root:generating marker fractions\n",
      "INFO:root:Using the following threhsolds to calculate positive fraction: {'CD31': 4999.0, 'CD4': 4499.0, 'CD68': 3640.0, 'Pan-Cytokeratin': 5075.0, 'CD8': 4597.0, 'CD163': 3162.0, 'Podoplanin': 4500.0, 'CD3e': 3162.0, 'CD45RO': 5075.0, 'SMA': 2683.0}\n",
      "INFO:root:generating region features for expanded\n",
      "INFO:root:generating cell fractions\n",
      "INFO:root:generating marker intensities\n",
      "INFO:root:generating marker fractions\n",
      "INFO:root:Using the following threhsolds to calculate positive fraction: {'CD31': 4999.0, 'CD4': 4499.0, 'CD68': 3640.0, 'Pan-Cytokeratin': 5075.0, 'CD8': 4597.0, 'CD163': 3162.0, 'Podoplanin': 4500.0, 'CD3e': 3162.0, 'CD45RO': 5075.0, 'SMA': 2683.0}\n"
     ]
    },
    {
     "name": "stdout",
     "output_type": "stream",
     "text": [
      "HT206B1_H1_06252022\n"
     ]
    },
    {
     "name": "stderr",
     "output_type": "stream",
     "text": [
      "/diskmnt/Projects/Users/estorrs/miniconda3/envs/mip/lib/python3.8/site-packages/ome_types/_convenience.py:112: FutureWarning: The default XML parser will be changing from 'xmlschema' to 'lxml' in version 0.4.0.  To silence this warning, please provide the `parser` argument, specifying either 'lxml' (to opt into the new behavior), or'xmlschema' (to retain the old behavior).\n",
      "  d = to_dict(os.fspath(xml), parser=parser, validate=validate)\n",
      "INFO:root:reading mask from /diskmnt/Projects/Users/estorrs/imaging-analysis/results/brca_subtype/revision_v1/region_masks/HT206B1_H1_06252022.tif\n",
      "INFO:root:generating region features for region\n",
      "INFO:root:generating cell fractions\n",
      "INFO:root:generating marker intensities\n",
      "INFO:root:generating marker fractions\n",
      "INFO:root:Using the following threhsolds to calculate positive fraction: {'CD31': 2000.0, 'E-cadherin': 5000.0, 'CD4': 5000.0, 'CD68': 3645.0, 'Pan-Cytokeratin': 1500.0, 'CD8': 7999.0, 'CD163': 2000.0, 'Podoplanin': 5999.0, 'CD3e': 2000.0, 'ER': 5000.0, 'SMA': 3000.0, 'PR': 9999.0, 'FOXP3': 4999.0, 'CK17': 2000.0, 'cKit': 5000.0, 'HLA-DR': 5000.0, 'CK14': 4000.0, 'GATA3': 5000.0}\n",
      "INFO:root:generating region features for ductal\n",
      "INFO:root:generating cell fractions\n",
      "INFO:root:generating marker intensities\n",
      "INFO:root:generating marker fractions\n",
      "INFO:root:Using the following threhsolds to calculate positive fraction: {'CD31': 2000.0, 'E-cadherin': 5000.0, 'CD4': 5000.0, 'CD68': 3645.0, 'Pan-Cytokeratin': 1500.0, 'CD8': 7999.0, 'CD163': 2000.0, 'Podoplanin': 5999.0, 'CD3e': 2000.0, 'ER': 5000.0, 'SMA': 3000.0, 'PR': 9999.0, 'FOXP3': 4999.0, 'CK17': 2000.0, 'cKit': 5000.0, 'HLA-DR': 5000.0, 'CK14': 4000.0, 'GATA3': 5000.0}\n",
      "INFO:root:generating region features for myoepi\n",
      "INFO:root:generating cell fractions\n",
      "INFO:root:generating marker intensities\n",
      "INFO:root:generating marker fractions\n",
      "INFO:root:Using the following threhsolds to calculate positive fraction: {'CD31': 2000.0, 'E-cadherin': 5000.0, 'CD4': 5000.0, 'CD68': 3645.0, 'Pan-Cytokeratin': 1500.0, 'CD8': 7999.0, 'CD163': 2000.0, 'Podoplanin': 5999.0, 'CD3e': 2000.0, 'ER': 5000.0, 'SMA': 3000.0, 'PR': 9999.0, 'FOXP3': 4999.0, 'CK17': 2000.0, 'cKit': 5000.0, 'HLA-DR': 5000.0, 'CK14': 4000.0, 'GATA3': 5000.0}\n",
      "INFO:root:generating region features for boundary\n",
      "INFO:root:generating cell fractions\n",
      "INFO:root:generating marker intensities\n",
      "INFO:root:generating marker fractions\n",
      "INFO:root:Using the following threhsolds to calculate positive fraction: {'CD31': 2000.0, 'E-cadherin': 5000.0, 'CD4': 5000.0, 'CD68': 3645.0, 'Pan-Cytokeratin': 1500.0, 'CD8': 7999.0, 'CD163': 2000.0, 'Podoplanin': 5999.0, 'CD3e': 2000.0, 'ER': 5000.0, 'SMA': 3000.0, 'PR': 9999.0, 'FOXP3': 4999.0, 'CK17': 2000.0, 'cKit': 5000.0, 'HLA-DR': 5000.0, 'CK14': 4000.0, 'GATA3': 5000.0}\n",
      "INFO:root:generating region features for expanded\n",
      "INFO:root:generating cell fractions\n",
      "INFO:root:generating marker intensities\n",
      "INFO:root:generating marker fractions\n",
      "INFO:root:Using the following threhsolds to calculate positive fraction: {'CD31': 2000.0, 'E-cadherin': 5000.0, 'CD4': 5000.0, 'CD68': 3645.0, 'Pan-Cytokeratin': 1500.0, 'CD8': 7999.0, 'CD163': 2000.0, 'Podoplanin': 5999.0, 'CD3e': 2000.0, 'ER': 5000.0, 'SMA': 3000.0, 'PR': 9999.0, 'FOXP3': 4999.0, 'CK17': 2000.0, 'cKit': 5000.0, 'HLA-DR': 5000.0, 'CK14': 4000.0, 'GATA3': 5000.0}\n"
     ]
    },
    {
     "name": "stdout",
     "output_type": "stream",
     "text": [
      "HT206B1_S1H2L4_20221028\n"
     ]
    },
    {
     "name": "stderr",
     "output_type": "stream",
     "text": [
      "/diskmnt/Projects/Users/estorrs/miniconda3/envs/mip/lib/python3.8/site-packages/ome_types/_convenience.py:112: FutureWarning: The default XML parser will be changing from 'xmlschema' to 'lxml' in version 0.4.0.  To silence this warning, please provide the `parser` argument, specifying either 'lxml' (to opt into the new behavior), or'xmlschema' (to retain the old behavior).\n",
      "  d = to_dict(os.fspath(xml), parser=parser, validate=validate)\n",
      "INFO:root:reading mask from /diskmnt/Projects/Users/estorrs/imaging-analysis/results/brca_subtype/revision_v1/region_masks/HT206B1_S1H2L4_20221028.tif\n",
      "INFO:root:generating region features for region\n",
      "INFO:root:generating cell fractions\n",
      "INFO:root:generating marker intensities\n",
      "INFO:root:generating marker fractions\n",
      "INFO:root:Using the following threhsolds to calculate positive fraction: {'CD31': 10.0, 'CD4': 19.0, 'CD8': 19.0, 'Pan-Cytokeratin': 50.0, 'Podoplanin': 19.0, 'CD3e': 39.0, 'SMA': 10.0, 'CD20': 29.0, 'CD163': 19.0, 'FOXP3': 10.0}\n",
      "INFO:root:generating region features for ductal\n",
      "INFO:root:generating cell fractions\n",
      "INFO:root:generating marker intensities\n",
      "INFO:root:generating marker fractions\n",
      "INFO:root:Using the following threhsolds to calculate positive fraction: {'CD31': 10.0, 'CD4': 19.0, 'CD8': 19.0, 'Pan-Cytokeratin': 50.0, 'Podoplanin': 19.0, 'CD3e': 39.0, 'SMA': 10.0, 'CD20': 29.0, 'CD163': 19.0, 'FOXP3': 10.0}\n",
      "INFO:root:generating region features for myoepi\n",
      "INFO:root:generating cell fractions\n",
      "INFO:root:generating marker intensities\n",
      "INFO:root:generating marker fractions\n",
      "INFO:root:Using the following threhsolds to calculate positive fraction: {'CD31': 10.0, 'CD4': 19.0, 'CD8': 19.0, 'Pan-Cytokeratin': 50.0, 'Podoplanin': 19.0, 'CD3e': 39.0, 'SMA': 10.0, 'CD20': 29.0, 'CD163': 19.0, 'FOXP3': 10.0}\n",
      "INFO:root:generating region features for boundary\n",
      "INFO:root:generating cell fractions\n",
      "INFO:root:generating marker intensities\n",
      "INFO:root:generating marker fractions\n",
      "INFO:root:Using the following threhsolds to calculate positive fraction: {'CD31': 10.0, 'CD4': 19.0, 'CD8': 19.0, 'Pan-Cytokeratin': 50.0, 'Podoplanin': 19.0, 'CD3e': 39.0, 'SMA': 10.0, 'CD20': 29.0, 'CD163': 19.0, 'FOXP3': 10.0}\n",
      "INFO:root:generating region features for expanded\n",
      "INFO:root:generating cell fractions\n",
      "INFO:root:generating marker intensities\n",
      "INFO:root:generating marker fractions\n",
      "INFO:root:Using the following threhsolds to calculate positive fraction: {'CD31': 10.0, 'CD4': 19.0, 'CD8': 19.0, 'Pan-Cytokeratin': 50.0, 'Podoplanin': 19.0, 'CD3e': 39.0, 'SMA': 10.0, 'CD20': 29.0, 'CD163': 19.0, 'FOXP3': 10.0}\n"
     ]
    },
    {
     "name": "stdout",
     "output_type": "stream",
     "text": [
      "HT243B1-S1H4A4_04192023\n"
     ]
    },
    {
     "name": "stderr",
     "output_type": "stream",
     "text": [
      "/diskmnt/Projects/Users/estorrs/miniconda3/envs/mip/lib/python3.8/site-packages/ome_types/_convenience.py:112: FutureWarning: The default XML parser will be changing from 'xmlschema' to 'lxml' in version 0.4.0.  To silence this warning, please provide the `parser` argument, specifying either 'lxml' (to opt into the new behavior), or'xmlschema' (to retain the old behavior).\n",
      "  d = to_dict(os.fspath(xml), parser=parser, validate=validate)\n",
      "INFO:root:reading mask from /diskmnt/Projects/Users/estorrs/imaging-analysis/results/brca_subtype/revision_v1/region_masks/HT243B1-S1H4A4_04192023.tif\n",
      "INFO:root:generating region features for region\n",
      "INFO:root:generating cell fractions\n",
      "INFO:root:generating marker intensities\n",
      "INFO:root:generating marker fractions\n",
      "INFO:root:Using the following threhsolds to calculate positive fraction: {'CD8': 10.0, 'Her2': 10.0, 'GATA3': 49.0, 'cKit': 10.0, 'Pan-Cytokeratin': 20.0, 'GLUT1': 15.0, 'Podoplanin': 15.0, 'HLA-DR': 12.0, 'CK14': 10.0, 'SMA': 10.0, 'CD3e': 39.0, 'CD68': 74.0, 'PR': 49.0, 'ER': 10.0, 'CD31': 19.0, 'CK19': 10.0, 'CTLA4': 10.0, 'CD4': 63.0}\n",
      "INFO:root:generating region features for ductal\n",
      "INFO:root:generating cell fractions\n",
      "INFO:root:generating marker intensities\n",
      "INFO:root:generating marker fractions\n",
      "INFO:root:Using the following threhsolds to calculate positive fraction: {'CD8': 10.0, 'Her2': 10.0, 'GATA3': 49.0, 'cKit': 10.0, 'Pan-Cytokeratin': 20.0, 'GLUT1': 15.0, 'Podoplanin': 15.0, 'HLA-DR': 12.0, 'CK14': 10.0, 'SMA': 10.0, 'CD3e': 39.0, 'CD68': 74.0, 'PR': 49.0, 'ER': 10.0, 'CD31': 19.0, 'CK19': 10.0, 'CTLA4': 10.0, 'CD4': 63.0}\n",
      "INFO:root:generating region features for myoepi\n",
      "INFO:root:generating cell fractions\n",
      "INFO:root:generating marker intensities\n",
      "INFO:root:generating marker fractions\n",
      "INFO:root:Using the following threhsolds to calculate positive fraction: {'CD8': 10.0, 'Her2': 10.0, 'GATA3': 49.0, 'cKit': 10.0, 'Pan-Cytokeratin': 20.0, 'GLUT1': 15.0, 'Podoplanin': 15.0, 'HLA-DR': 12.0, 'CK14': 10.0, 'SMA': 10.0, 'CD3e': 39.0, 'CD68': 74.0, 'PR': 49.0, 'ER': 10.0, 'CD31': 19.0, 'CK19': 10.0, 'CTLA4': 10.0, 'CD4': 63.0}\n",
      "INFO:root:generating region features for boundary\n",
      "INFO:root:generating cell fractions\n",
      "INFO:root:generating marker intensities\n",
      "INFO:root:generating marker fractions\n",
      "INFO:root:Using the following threhsolds to calculate positive fraction: {'CD8': 10.0, 'Her2': 10.0, 'GATA3': 49.0, 'cKit': 10.0, 'Pan-Cytokeratin': 20.0, 'GLUT1': 15.0, 'Podoplanin': 15.0, 'HLA-DR': 12.0, 'CK14': 10.0, 'SMA': 10.0, 'CD3e': 39.0, 'CD68': 74.0, 'PR': 49.0, 'ER': 10.0, 'CD31': 19.0, 'CK19': 10.0, 'CTLA4': 10.0, 'CD4': 63.0}\n",
      "INFO:root:generating region features for expanded\n",
      "INFO:root:generating cell fractions\n",
      "INFO:root:generating marker intensities\n",
      "INFO:root:generating marker fractions\n",
      "INFO:root:Using the following threhsolds to calculate positive fraction: {'CD8': 10.0, 'Her2': 10.0, 'GATA3': 49.0, 'cKit': 10.0, 'Pan-Cytokeratin': 20.0, 'GLUT1': 15.0, 'Podoplanin': 15.0, 'HLA-DR': 12.0, 'CK14': 10.0, 'SMA': 10.0, 'CD3e': 39.0, 'CD68': 74.0, 'PR': 49.0, 'ER': 10.0, 'CD31': 19.0, 'CK19': 10.0, 'CTLA4': 10.0, 'CD4': 63.0}\n"
     ]
    },
    {
     "name": "stdout",
     "output_type": "stream",
     "text": [
      "HT243B1-S1H4A4_left_05122023\n"
     ]
    },
    {
     "name": "stderr",
     "output_type": "stream",
     "text": [
      "/diskmnt/Projects/Users/estorrs/miniconda3/envs/mip/lib/python3.8/site-packages/ome_types/_convenience.py:112: FutureWarning: The default XML parser will be changing from 'xmlschema' to 'lxml' in version 0.4.0.  To silence this warning, please provide the `parser` argument, specifying either 'lxml' (to opt into the new behavior), or'xmlschema' (to retain the old behavior).\n",
      "  d = to_dict(os.fspath(xml), parser=parser, validate=validate)\n",
      "INFO:root:reading mask from /diskmnt/Projects/Users/estorrs/imaging-analysis/results/brca_subtype/revision_v1/region_masks/HT243B1-S1H4A4_left_05122023.tif\n",
      "INFO:root:generating region features for region\n",
      "INFO:root:generating cell fractions\n",
      "INFO:root:generating marker intensities\n",
      "INFO:root:generating marker fractions\n",
      "INFO:root:Using the following threhsolds to calculate positive fraction: {'CD8': 10.0, 'Her2': 10.0, 'GATA3': 29.0, 'cKit': 10.0, 'Pan-Cytokeratin': 15.0, 'GLUT1': 6.0, 'Podoplanin': 10.0, 'HLA-DR': 12.0, 'CK14': 10.0, 'E-cadherin': 212.0, 'SMA': 10.0, 'CD3e': 10.0, 'CD11b': 10.0, 'PR': 10.0, 'ER': 10.0, 'CD31': 10.0, 'CK19': 10.0, 'CK5': 8.0, 'CTLA4': 10.0, 'CD4': 14.0, 'BCA1': 10.0}\n",
      "INFO:root:generating region features for ductal\n",
      "INFO:root:generating cell fractions\n",
      "INFO:root:generating marker intensities\n",
      "INFO:root:generating marker fractions\n",
      "INFO:root:Using the following threhsolds to calculate positive fraction: {'CD8': 10.0, 'Her2': 10.0, 'GATA3': 29.0, 'cKit': 10.0, 'Pan-Cytokeratin': 15.0, 'GLUT1': 6.0, 'Podoplanin': 10.0, 'HLA-DR': 12.0, 'CK14': 10.0, 'E-cadherin': 212.0, 'SMA': 10.0, 'CD3e': 10.0, 'CD11b': 10.0, 'PR': 10.0, 'ER': 10.0, 'CD31': 10.0, 'CK19': 10.0, 'CK5': 8.0, 'CTLA4': 10.0, 'CD4': 14.0, 'BCA1': 10.0}\n",
      "INFO:root:generating region features for myoepi\n",
      "INFO:root:generating cell fractions\n",
      "INFO:root:generating marker intensities\n",
      "INFO:root:generating marker fractions\n",
      "INFO:root:Using the following threhsolds to calculate positive fraction: {'CD8': 10.0, 'Her2': 10.0, 'GATA3': 29.0, 'cKit': 10.0, 'Pan-Cytokeratin': 15.0, 'GLUT1': 6.0, 'Podoplanin': 10.0, 'HLA-DR': 12.0, 'CK14': 10.0, 'E-cadherin': 212.0, 'SMA': 10.0, 'CD3e': 10.0, 'CD11b': 10.0, 'PR': 10.0, 'ER': 10.0, 'CD31': 10.0, 'CK19': 10.0, 'CK5': 8.0, 'CTLA4': 10.0, 'CD4': 14.0, 'BCA1': 10.0}\n",
      "INFO:root:generating region features for boundary\n",
      "INFO:root:generating cell fractions\n",
      "INFO:root:generating marker intensities\n",
      "INFO:root:generating marker fractions\n",
      "INFO:root:Using the following threhsolds to calculate positive fraction: {'CD8': 10.0, 'Her2': 10.0, 'GATA3': 29.0, 'cKit': 10.0, 'Pan-Cytokeratin': 15.0, 'GLUT1': 6.0, 'Podoplanin': 10.0, 'HLA-DR': 12.0, 'CK14': 10.0, 'E-cadherin': 212.0, 'SMA': 10.0, 'CD3e': 10.0, 'CD11b': 10.0, 'PR': 10.0, 'ER': 10.0, 'CD31': 10.0, 'CK19': 10.0, 'CK5': 8.0, 'CTLA4': 10.0, 'CD4': 14.0, 'BCA1': 10.0}\n",
      "INFO:root:generating region features for expanded\n",
      "INFO:root:generating cell fractions\n",
      "INFO:root:generating marker intensities\n",
      "INFO:root:generating marker fractions\n",
      "INFO:root:Using the following threhsolds to calculate positive fraction: {'CD8': 10.0, 'Her2': 10.0, 'GATA3': 29.0, 'cKit': 10.0, 'Pan-Cytokeratin': 15.0, 'GLUT1': 6.0, 'Podoplanin': 10.0, 'HLA-DR': 12.0, 'CK14': 10.0, 'E-cadherin': 212.0, 'SMA': 10.0, 'CD3e': 10.0, 'CD11b': 10.0, 'PR': 10.0, 'ER': 10.0, 'CD31': 10.0, 'CK19': 10.0, 'CK5': 8.0, 'CTLA4': 10.0, 'CD4': 14.0, 'BCA1': 10.0}\n"
     ]
    },
    {
     "name": "stdout",
     "output_type": "stream",
     "text": [
      "HT243B1-S1H4A4_left_05262023\n"
     ]
    },
    {
     "name": "stderr",
     "output_type": "stream",
     "text": [
      "/diskmnt/Projects/Users/estorrs/miniconda3/envs/mip/lib/python3.8/site-packages/ome_types/_convenience.py:112: FutureWarning: The default XML parser will be changing from 'xmlschema' to 'lxml' in version 0.4.0.  To silence this warning, please provide the `parser` argument, specifying either 'lxml' (to opt into the new behavior), or'xmlschema' (to retain the old behavior).\n",
      "  d = to_dict(os.fspath(xml), parser=parser, validate=validate)\n",
      "INFO:root:reading mask from /diskmnt/Projects/Users/estorrs/imaging-analysis/results/brca_subtype/revision_v1/region_masks/HT243B1-S1H4A4_left_05262023.tif\n",
      "INFO:root:generating region features for region\n",
      "INFO:root:generating cell fractions\n",
      "INFO:root:generating marker intensities\n",
      "INFO:root:generating marker fractions\n",
      "INFO:root:Using the following threhsolds to calculate positive fraction: {'CD8': 10.0, 'Her2': 10.0, 'GATA3': 15.0, 'cKit': 10.0, 'Pan-Cytokeratin': 22.0, 'GLUT1': 13.0, 'Podoplanin': 10.0, 'HLA-DR': 15.0, 'CK14': 10.0, 'SMA': 10.0, 'PR': 19.0, 'ER': 10.0, 'CD31': 10.0, 'CK19': 10.0, 'CTLA4': 10.0, 'CD4': 12.0, 'BCA1': 11.0}\n",
      "INFO:root:generating region features for ductal\n",
      "INFO:root:generating cell fractions\n",
      "INFO:root:generating marker intensities\n",
      "INFO:root:generating marker fractions\n",
      "INFO:root:Using the following threhsolds to calculate positive fraction: {'CD8': 10.0, 'Her2': 10.0, 'GATA3': 15.0, 'cKit': 10.0, 'Pan-Cytokeratin': 22.0, 'GLUT1': 13.0, 'Podoplanin': 10.0, 'HLA-DR': 15.0, 'CK14': 10.0, 'SMA': 10.0, 'PR': 19.0, 'ER': 10.0, 'CD31': 10.0, 'CK19': 10.0, 'CTLA4': 10.0, 'CD4': 12.0, 'BCA1': 11.0}\n",
      "INFO:root:generating region features for myoepi\n",
      "INFO:root:generating cell fractions\n",
      "INFO:root:generating marker intensities\n",
      "INFO:root:generating marker fractions\n",
      "INFO:root:Using the following threhsolds to calculate positive fraction: {'CD8': 10.0, 'Her2': 10.0, 'GATA3': 15.0, 'cKit': 10.0, 'Pan-Cytokeratin': 22.0, 'GLUT1': 13.0, 'Podoplanin': 10.0, 'HLA-DR': 15.0, 'CK14': 10.0, 'SMA': 10.0, 'PR': 19.0, 'ER': 10.0, 'CD31': 10.0, 'CK19': 10.0, 'CTLA4': 10.0, 'CD4': 12.0, 'BCA1': 11.0}\n",
      "INFO:root:generating region features for boundary\n",
      "INFO:root:generating cell fractions\n",
      "INFO:root:generating marker intensities\n",
      "INFO:root:generating marker fractions\n",
      "INFO:root:Using the following threhsolds to calculate positive fraction: {'CD8': 10.0, 'Her2': 10.0, 'GATA3': 15.0, 'cKit': 10.0, 'Pan-Cytokeratin': 22.0, 'GLUT1': 13.0, 'Podoplanin': 10.0, 'HLA-DR': 15.0, 'CK14': 10.0, 'SMA': 10.0, 'PR': 19.0, 'ER': 10.0, 'CD31': 10.0, 'CK19': 10.0, 'CTLA4': 10.0, 'CD4': 12.0, 'BCA1': 11.0}\n",
      "INFO:root:generating region features for expanded\n",
      "INFO:root:generating cell fractions\n",
      "INFO:root:generating marker intensities\n",
      "INFO:root:generating marker fractions\n",
      "INFO:root:Using the following threhsolds to calculate positive fraction: {'CD8': 10.0, 'Her2': 10.0, 'GATA3': 15.0, 'cKit': 10.0, 'Pan-Cytokeratin': 22.0, 'GLUT1': 13.0, 'Podoplanin': 10.0, 'HLA-DR': 15.0, 'CK14': 10.0, 'SMA': 10.0, 'PR': 19.0, 'ER': 10.0, 'CD31': 10.0, 'CK19': 10.0, 'CTLA4': 10.0, 'CD4': 12.0, 'BCA1': 11.0}\n"
     ]
    },
    {
     "name": "stdout",
     "output_type": "stream",
     "text": [
      "HT243B1-S1H4A4_right_05122023\n"
     ]
    },
    {
     "name": "stderr",
     "output_type": "stream",
     "text": [
      "/diskmnt/Projects/Users/estorrs/miniconda3/envs/mip/lib/python3.8/site-packages/ome_types/_convenience.py:112: FutureWarning: The default XML parser will be changing from 'xmlschema' to 'lxml' in version 0.4.0.  To silence this warning, please provide the `parser` argument, specifying either 'lxml' (to opt into the new behavior), or'xmlschema' (to retain the old behavior).\n",
      "  d = to_dict(os.fspath(xml), parser=parser, validate=validate)\n",
      "INFO:root:reading mask from /diskmnt/Projects/Users/estorrs/imaging-analysis/results/brca_subtype/revision_v1/region_masks/HT243B1-S1H4A4_right_05122023.tif\n",
      "INFO:root:generating region features for region\n",
      "INFO:root:generating cell fractions\n",
      "INFO:root:generating marker intensities\n",
      "INFO:root:generating marker fractions\n",
      "INFO:root:Using the following threhsolds to calculate positive fraction: {'CD8': 10.0, 'Her2': 10.0, 'GATA3': 29.0, 'cKit': 10.0, 'Pan-Cytokeratin': 15.0, 'GLUT1': 6.0, 'Podoplanin': 10.0, 'HLA-DR': 12.0, 'CK14': 10.0, 'E-cadherin': 212.0, 'SMA': 10.0, 'CD3e': 10.0, 'CD11b': 10.0, 'PR': 10.0, 'ER': 10.0, 'CD31': 10.0, 'CK19': 10.0, 'CK5': 8.0, 'CTLA4': 10.0, 'CD4': 14.0, 'BCA1': 10.0}\n",
      "INFO:root:generating region features for ductal\n",
      "INFO:root:generating cell fractions\n",
      "INFO:root:generating marker intensities\n",
      "INFO:root:generating marker fractions\n",
      "INFO:root:Using the following threhsolds to calculate positive fraction: {'CD8': 10.0, 'Her2': 10.0, 'GATA3': 29.0, 'cKit': 10.0, 'Pan-Cytokeratin': 15.0, 'GLUT1': 6.0, 'Podoplanin': 10.0, 'HLA-DR': 12.0, 'CK14': 10.0, 'E-cadherin': 212.0, 'SMA': 10.0, 'CD3e': 10.0, 'CD11b': 10.0, 'PR': 10.0, 'ER': 10.0, 'CD31': 10.0, 'CK19': 10.0, 'CK5': 8.0, 'CTLA4': 10.0, 'CD4': 14.0, 'BCA1': 10.0}\n",
      "INFO:root:generating region features for myoepi\n",
      "INFO:root:generating cell fractions\n",
      "INFO:root:generating marker intensities\n",
      "INFO:root:generating marker fractions\n",
      "INFO:root:Using the following threhsolds to calculate positive fraction: {'CD8': 10.0, 'Her2': 10.0, 'GATA3': 29.0, 'cKit': 10.0, 'Pan-Cytokeratin': 15.0, 'GLUT1': 6.0, 'Podoplanin': 10.0, 'HLA-DR': 12.0, 'CK14': 10.0, 'E-cadherin': 212.0, 'SMA': 10.0, 'CD3e': 10.0, 'CD11b': 10.0, 'PR': 10.0, 'ER': 10.0, 'CD31': 10.0, 'CK19': 10.0, 'CK5': 8.0, 'CTLA4': 10.0, 'CD4': 14.0, 'BCA1': 10.0}\n",
      "INFO:root:generating region features for boundary\n",
      "INFO:root:generating cell fractions\n",
      "INFO:root:generating marker intensities\n",
      "INFO:root:generating marker fractions\n",
      "INFO:root:Using the following threhsolds to calculate positive fraction: {'CD8': 10.0, 'Her2': 10.0, 'GATA3': 29.0, 'cKit': 10.0, 'Pan-Cytokeratin': 15.0, 'GLUT1': 6.0, 'Podoplanin': 10.0, 'HLA-DR': 12.0, 'CK14': 10.0, 'E-cadherin': 212.0, 'SMA': 10.0, 'CD3e': 10.0, 'CD11b': 10.0, 'PR': 10.0, 'ER': 10.0, 'CD31': 10.0, 'CK19': 10.0, 'CK5': 8.0, 'CTLA4': 10.0, 'CD4': 14.0, 'BCA1': 10.0}\n",
      "INFO:root:generating region features for expanded\n",
      "INFO:root:generating cell fractions\n",
      "INFO:root:generating marker intensities\n",
      "INFO:root:generating marker fractions\n",
      "INFO:root:Using the following threhsolds to calculate positive fraction: {'CD8': 10.0, 'Her2': 10.0, 'GATA3': 29.0, 'cKit': 10.0, 'Pan-Cytokeratin': 15.0, 'GLUT1': 6.0, 'Podoplanin': 10.0, 'HLA-DR': 12.0, 'CK14': 10.0, 'E-cadherin': 212.0, 'SMA': 10.0, 'CD3e': 10.0, 'CD11b': 10.0, 'PR': 10.0, 'ER': 10.0, 'CD31': 10.0, 'CK19': 10.0, 'CK5': 8.0, 'CTLA4': 10.0, 'CD4': 14.0, 'BCA1': 10.0}\n"
     ]
    },
    {
     "name": "stdout",
     "output_type": "stream",
     "text": [
      "HT243B1-S1H4A4_right_05262023\n"
     ]
    },
    {
     "name": "stderr",
     "output_type": "stream",
     "text": [
      "/diskmnt/Projects/Users/estorrs/miniconda3/envs/mip/lib/python3.8/site-packages/ome_types/_convenience.py:112: FutureWarning: The default XML parser will be changing from 'xmlschema' to 'lxml' in version 0.4.0.  To silence this warning, please provide the `parser` argument, specifying either 'lxml' (to opt into the new behavior), or'xmlschema' (to retain the old behavior).\n",
      "  d = to_dict(os.fspath(xml), parser=parser, validate=validate)\n",
      "INFO:root:reading mask from /diskmnt/Projects/Users/estorrs/imaging-analysis/results/brca_subtype/revision_v1/region_masks/HT243B1-S1H4A4_right_05262023.tif\n",
      "INFO:root:generating region features for region\n",
      "INFO:root:generating cell fractions\n",
      "INFO:root:generating marker intensities\n",
      "INFO:root:generating marker fractions\n",
      "INFO:root:Using the following threhsolds to calculate positive fraction: {'CD8': 10.0, 'Her2': 10.0, 'GATA3': 15.0, 'cKit': 10.0, 'Pan-Cytokeratin': 22.0, 'GLUT1': 13.0, 'Podoplanin': 10.0, 'HLA-DR': 15.0, 'CK14': 10.0, 'SMA': 10.0, 'PR': 19.0, 'ER': 10.0, 'CD31': 10.0, 'CK19': 10.0, 'CTLA4': 10.0, 'CD4': 12.0, 'BCA1': 11.0}\n",
      "INFO:root:generating region features for ductal\n",
      "INFO:root:generating cell fractions\n",
      "INFO:root:generating marker intensities\n",
      "INFO:root:generating marker fractions\n",
      "INFO:root:Using the following threhsolds to calculate positive fraction: {'CD8': 10.0, 'Her2': 10.0, 'GATA3': 15.0, 'cKit': 10.0, 'Pan-Cytokeratin': 22.0, 'GLUT1': 13.0, 'Podoplanin': 10.0, 'HLA-DR': 15.0, 'CK14': 10.0, 'SMA': 10.0, 'PR': 19.0, 'ER': 10.0, 'CD31': 10.0, 'CK19': 10.0, 'CTLA4': 10.0, 'CD4': 12.0, 'BCA1': 11.0}\n",
      "INFO:root:generating region features for myoepi\n",
      "INFO:root:generating cell fractions\n",
      "INFO:root:generating marker intensities\n",
      "INFO:root:generating marker fractions\n",
      "INFO:root:Using the following threhsolds to calculate positive fraction: {'CD8': 10.0, 'Her2': 10.0, 'GATA3': 15.0, 'cKit': 10.0, 'Pan-Cytokeratin': 22.0, 'GLUT1': 13.0, 'Podoplanin': 10.0, 'HLA-DR': 15.0, 'CK14': 10.0, 'SMA': 10.0, 'PR': 19.0, 'ER': 10.0, 'CD31': 10.0, 'CK19': 10.0, 'CTLA4': 10.0, 'CD4': 12.0, 'BCA1': 11.0}\n",
      "INFO:root:generating region features for boundary\n",
      "INFO:root:generating cell fractions\n",
      "INFO:root:generating marker intensities\n",
      "INFO:root:generating marker fractions\n",
      "INFO:root:Using the following threhsolds to calculate positive fraction: {'CD8': 10.0, 'Her2': 10.0, 'GATA3': 15.0, 'cKit': 10.0, 'Pan-Cytokeratin': 22.0, 'GLUT1': 13.0, 'Podoplanin': 10.0, 'HLA-DR': 15.0, 'CK14': 10.0, 'SMA': 10.0, 'PR': 19.0, 'ER': 10.0, 'CD31': 10.0, 'CK19': 10.0, 'CTLA4': 10.0, 'CD4': 12.0, 'BCA1': 11.0}\n",
      "INFO:root:generating region features for expanded\n",
      "INFO:root:generating cell fractions\n",
      "INFO:root:generating marker intensities\n",
      "INFO:root:generating marker fractions\n",
      "INFO:root:Using the following threhsolds to calculate positive fraction: {'CD8': 10.0, 'Her2': 10.0, 'GATA3': 15.0, 'cKit': 10.0, 'Pan-Cytokeratin': 22.0, 'GLUT1': 13.0, 'Podoplanin': 10.0, 'HLA-DR': 15.0, 'CK14': 10.0, 'SMA': 10.0, 'PR': 19.0, 'ER': 10.0, 'CD31': 10.0, 'CK19': 10.0, 'CTLA4': 10.0, 'CD4': 12.0, 'BCA1': 11.0}\n"
     ]
    },
    {
     "name": "stdout",
     "output_type": "stream",
     "text": [
      "HT243B1_S1H4\n"
     ]
    },
    {
     "name": "stderr",
     "output_type": "stream",
     "text": [
      "/diskmnt/Projects/Users/estorrs/miniconda3/envs/mip/lib/python3.8/site-packages/ome_types/_convenience.py:112: FutureWarning: The default XML parser will be changing from 'xmlschema' to 'lxml' in version 0.4.0.  To silence this warning, please provide the `parser` argument, specifying either 'lxml' (to opt into the new behavior), or'xmlschema' (to retain the old behavior).\n",
      "  d = to_dict(os.fspath(xml), parser=parser, validate=validate)\n",
      "INFO:root:reading mask from /diskmnt/Projects/Users/estorrs/imaging-analysis/results/brca_subtype/revision_v1/region_masks/HT243B1_S1H4.tif\n",
      "INFO:root:generating region features for region\n",
      "INFO:root:generating cell fractions\n",
      "INFO:root:generating marker intensities\n",
      "INFO:root:generating marker fractions\n",
      "INFO:root:Using the following threhsolds to calculate positive fraction: {'CD8': 11.0, 'Pan-Cytokeratin': 10.0, 'Podoplanin': 10.0, 'CK17': 20.0, 'HLA-DR': 12.0, 'GATA3': 9.0, 'CK14': 19.0, 'SMA': 15.0, 'CD20': 12.0, 'CD3e': 15.0, 'CD163': 19.0, 'PR': 39.0, 'ER': 10.0, 'CK19': 10.0}\n",
      "INFO:root:generating region features for ductal\n",
      "INFO:root:generating cell fractions\n",
      "INFO:root:generating marker intensities\n",
      "INFO:root:generating marker fractions\n",
      "INFO:root:Using the following threhsolds to calculate positive fraction: {'CD8': 11.0, 'Pan-Cytokeratin': 10.0, 'Podoplanin': 10.0, 'CK17': 20.0, 'HLA-DR': 12.0, 'GATA3': 9.0, 'CK14': 19.0, 'SMA': 15.0, 'CD20': 12.0, 'CD3e': 15.0, 'CD163': 19.0, 'PR': 39.0, 'ER': 10.0, 'CK19': 10.0}\n",
      "INFO:root:generating region features for myoepi\n",
      "INFO:root:generating cell fractions\n",
      "INFO:root:generating marker intensities\n",
      "INFO:root:generating marker fractions\n",
      "INFO:root:Using the following threhsolds to calculate positive fraction: {'CD8': 11.0, 'Pan-Cytokeratin': 10.0, 'Podoplanin': 10.0, 'CK17': 20.0, 'HLA-DR': 12.0, 'GATA3': 9.0, 'CK14': 19.0, 'SMA': 15.0, 'CD20': 12.0, 'CD3e': 15.0, 'CD163': 19.0, 'PR': 39.0, 'ER': 10.0, 'CK19': 10.0}\n",
      "INFO:root:generating region features for boundary\n",
      "INFO:root:generating cell fractions\n",
      "INFO:root:generating marker intensities\n",
      "INFO:root:generating marker fractions\n",
      "INFO:root:Using the following threhsolds to calculate positive fraction: {'CD8': 11.0, 'Pan-Cytokeratin': 10.0, 'Podoplanin': 10.0, 'CK17': 20.0, 'HLA-DR': 12.0, 'GATA3': 9.0, 'CK14': 19.0, 'SMA': 15.0, 'CD20': 12.0, 'CD3e': 15.0, 'CD163': 19.0, 'PR': 39.0, 'ER': 10.0, 'CK19': 10.0}\n",
      "INFO:root:generating region features for expanded\n",
      "INFO:root:generating cell fractions\n",
      "INFO:root:generating marker intensities\n",
      "INFO:root:generating marker fractions\n",
      "INFO:root:Using the following threhsolds to calculate positive fraction: {'CD8': 11.0, 'Pan-Cytokeratin': 10.0, 'Podoplanin': 10.0, 'CK17': 20.0, 'HLA-DR': 12.0, 'GATA3': 9.0, 'CK14': 19.0, 'SMA': 15.0, 'CD20': 12.0, 'CD3e': 15.0, 'CD163': 19.0, 'PR': 39.0, 'ER': 10.0, 'CK19': 10.0}\n"
     ]
    },
    {
     "name": "stdout",
     "output_type": "stream",
     "text": [
      "HT271B1-S1H6A5_04192023\n"
     ]
    },
    {
     "name": "stderr",
     "output_type": "stream",
     "text": [
      "/diskmnt/Projects/Users/estorrs/miniconda3/envs/mip/lib/python3.8/site-packages/ome_types/_convenience.py:112: FutureWarning: The default XML parser will be changing from 'xmlschema' to 'lxml' in version 0.4.0.  To silence this warning, please provide the `parser` argument, specifying either 'lxml' (to opt into the new behavior), or'xmlschema' (to retain the old behavior).\n",
      "  d = to_dict(os.fspath(xml), parser=parser, validate=validate)\n",
      "INFO:root:reading mask from /diskmnt/Projects/Users/estorrs/imaging-analysis/results/brca_subtype/revision_v1/region_masks/HT271B1-S1H6A5_04192023.tif\n",
      "INFO:root:generating region features for region\n",
      "INFO:root:generating cell fractions\n",
      "INFO:root:generating marker intensities\n",
      "INFO:root:generating marker fractions\n",
      "INFO:root:Using the following threhsolds to calculate positive fraction: {'CD8': 10.0, 'Her2': 10.0, 'GATA3': 49.0, 'cKit': 10.0, 'Pan-Cytokeratin': 20.0, 'GLUT1': 15.0, 'Podoplanin': 15.0, 'HLA-DR': 12.0, 'SMA': 10.0, 'CD3e': 39.0, 'CD68': 74.0, 'PR': 49.0, 'ER': 10.0, 'CD31': 19.0, 'CK19': 10.0, 'CTLA4': 10.0, 'CD4': 63.0}\n",
      "INFO:root:generating region features for ductal\n",
      "INFO:root:generating cell fractions\n",
      "INFO:root:generating marker intensities\n",
      "INFO:root:generating marker fractions\n",
      "INFO:root:Using the following threhsolds to calculate positive fraction: {'CD8': 10.0, 'Her2': 10.0, 'GATA3': 49.0, 'cKit': 10.0, 'Pan-Cytokeratin': 20.0, 'GLUT1': 15.0, 'Podoplanin': 15.0, 'HLA-DR': 12.0, 'SMA': 10.0, 'CD3e': 39.0, 'CD68': 74.0, 'PR': 49.0, 'ER': 10.0, 'CD31': 19.0, 'CK19': 10.0, 'CTLA4': 10.0, 'CD4': 63.0}\n",
      "INFO:root:generating region features for myoepi\n",
      "INFO:root:generating cell fractions\n",
      "INFO:root:generating marker intensities\n",
      "INFO:root:generating marker fractions\n",
      "INFO:root:Using the following threhsolds to calculate positive fraction: {'CD8': 10.0, 'Her2': 10.0, 'GATA3': 49.0, 'cKit': 10.0, 'Pan-Cytokeratin': 20.0, 'GLUT1': 15.0, 'Podoplanin': 15.0, 'HLA-DR': 12.0, 'SMA': 10.0, 'CD3e': 39.0, 'CD68': 74.0, 'PR': 49.0, 'ER': 10.0, 'CD31': 19.0, 'CK19': 10.0, 'CTLA4': 10.0, 'CD4': 63.0}\n",
      "INFO:root:generating region features for boundary\n",
      "INFO:root:generating cell fractions\n",
      "INFO:root:generating marker intensities\n",
      "INFO:root:generating marker fractions\n",
      "INFO:root:Using the following threhsolds to calculate positive fraction: {'CD8': 10.0, 'Her2': 10.0, 'GATA3': 49.0, 'cKit': 10.0, 'Pan-Cytokeratin': 20.0, 'GLUT1': 15.0, 'Podoplanin': 15.0, 'HLA-DR': 12.0, 'SMA': 10.0, 'CD3e': 39.0, 'CD68': 74.0, 'PR': 49.0, 'ER': 10.0, 'CD31': 19.0, 'CK19': 10.0, 'CTLA4': 10.0, 'CD4': 63.0}\n",
      "INFO:root:generating region features for expanded\n",
      "INFO:root:generating cell fractions\n",
      "INFO:root:generating marker intensities\n",
      "INFO:root:generating marker fractions\n",
      "INFO:root:Using the following threhsolds to calculate positive fraction: {'CD8': 10.0, 'Her2': 10.0, 'GATA3': 49.0, 'cKit': 10.0, 'Pan-Cytokeratin': 20.0, 'GLUT1': 15.0, 'Podoplanin': 15.0, 'HLA-DR': 12.0, 'SMA': 10.0, 'CD3e': 39.0, 'CD68': 74.0, 'PR': 49.0, 'ER': 10.0, 'CD31': 19.0, 'CK19': 10.0, 'CTLA4': 10.0, 'CD4': 63.0}\n"
     ]
    },
    {
     "name": "stdout",
     "output_type": "stream",
     "text": [
      "HT271B1-S1H6A5_left_05122023\n"
     ]
    },
    {
     "name": "stderr",
     "output_type": "stream",
     "text": [
      "/diskmnt/Projects/Users/estorrs/miniconda3/envs/mip/lib/python3.8/site-packages/ome_types/_convenience.py:112: FutureWarning: The default XML parser will be changing from 'xmlschema' to 'lxml' in version 0.4.0.  To silence this warning, please provide the `parser` argument, specifying either 'lxml' (to opt into the new behavior), or'xmlschema' (to retain the old behavior).\n",
      "  d = to_dict(os.fspath(xml), parser=parser, validate=validate)\n",
      "INFO:root:reading mask from /diskmnt/Projects/Users/estorrs/imaging-analysis/results/brca_subtype/revision_v1/region_masks/HT271B1-S1H6A5_left_05122023.tif\n",
      "INFO:root:generating region features for region\n",
      "INFO:root:generating cell fractions\n",
      "INFO:root:generating marker intensities\n",
      "INFO:root:generating marker fractions\n",
      "INFO:root:Using the following threhsolds to calculate positive fraction: {'CD8': 10.0, 'Her2': 10.0, 'GATA3': 29.0, 'cKit': 10.0, 'Pan-Cytokeratin': 15.0, 'GLUT1': 6.0, 'Podoplanin': 10.0, 'HLA-DR': 12.0, 'CK14': 10.0, 'E-cadherin': 212.0, 'SMA': 10.0, 'CD3e': 10.0, 'CD11b': 10.0, 'PR': 10.0, 'ER': 10.0, 'CD31': 10.0, 'CK19': 10.0, 'CK5': 8.0, 'CTLA4': 10.0, 'CD4': 14.0, 'BCA1': 10.0}\n",
      "INFO:root:generating region features for ductal\n",
      "INFO:root:generating cell fractions\n",
      "INFO:root:generating marker intensities\n",
      "INFO:root:generating marker fractions\n",
      "INFO:root:Using the following threhsolds to calculate positive fraction: {'CD8': 10.0, 'Her2': 10.0, 'GATA3': 29.0, 'cKit': 10.0, 'Pan-Cytokeratin': 15.0, 'GLUT1': 6.0, 'Podoplanin': 10.0, 'HLA-DR': 12.0, 'CK14': 10.0, 'E-cadherin': 212.0, 'SMA': 10.0, 'CD3e': 10.0, 'CD11b': 10.0, 'PR': 10.0, 'ER': 10.0, 'CD31': 10.0, 'CK19': 10.0, 'CK5': 8.0, 'CTLA4': 10.0, 'CD4': 14.0, 'BCA1': 10.0}\n",
      "INFO:root:generating region features for myoepi\n",
      "INFO:root:generating cell fractions\n",
      "INFO:root:generating marker intensities\n",
      "INFO:root:generating marker fractions\n",
      "INFO:root:Using the following threhsolds to calculate positive fraction: {'CD8': 10.0, 'Her2': 10.0, 'GATA3': 29.0, 'cKit': 10.0, 'Pan-Cytokeratin': 15.0, 'GLUT1': 6.0, 'Podoplanin': 10.0, 'HLA-DR': 12.0, 'CK14': 10.0, 'E-cadherin': 212.0, 'SMA': 10.0, 'CD3e': 10.0, 'CD11b': 10.0, 'PR': 10.0, 'ER': 10.0, 'CD31': 10.0, 'CK19': 10.0, 'CK5': 8.0, 'CTLA4': 10.0, 'CD4': 14.0, 'BCA1': 10.0}\n",
      "INFO:root:generating region features for boundary\n",
      "INFO:root:generating cell fractions\n",
      "INFO:root:generating marker intensities\n",
      "INFO:root:generating marker fractions\n",
      "INFO:root:Using the following threhsolds to calculate positive fraction: {'CD8': 10.0, 'Her2': 10.0, 'GATA3': 29.0, 'cKit': 10.0, 'Pan-Cytokeratin': 15.0, 'GLUT1': 6.0, 'Podoplanin': 10.0, 'HLA-DR': 12.0, 'CK14': 10.0, 'E-cadherin': 212.0, 'SMA': 10.0, 'CD3e': 10.0, 'CD11b': 10.0, 'PR': 10.0, 'ER': 10.0, 'CD31': 10.0, 'CK19': 10.0, 'CK5': 8.0, 'CTLA4': 10.0, 'CD4': 14.0, 'BCA1': 10.0}\n",
      "INFO:root:generating region features for expanded\n",
      "INFO:root:generating cell fractions\n",
      "INFO:root:generating marker intensities\n",
      "INFO:root:generating marker fractions\n",
      "INFO:root:Using the following threhsolds to calculate positive fraction: {'CD8': 10.0, 'Her2': 10.0, 'GATA3': 29.0, 'cKit': 10.0, 'Pan-Cytokeratin': 15.0, 'GLUT1': 6.0, 'Podoplanin': 10.0, 'HLA-DR': 12.0, 'CK14': 10.0, 'E-cadherin': 212.0, 'SMA': 10.0, 'CD3e': 10.0, 'CD11b': 10.0, 'PR': 10.0, 'ER': 10.0, 'CD31': 10.0, 'CK19': 10.0, 'CK5': 8.0, 'CTLA4': 10.0, 'CD4': 14.0, 'BCA1': 10.0}\n"
     ]
    },
    {
     "name": "stdout",
     "output_type": "stream",
     "text": [
      "HT271B1-S1H6A5_left_05262023\n"
     ]
    },
    {
     "name": "stderr",
     "output_type": "stream",
     "text": [
      "/diskmnt/Projects/Users/estorrs/miniconda3/envs/mip/lib/python3.8/site-packages/ome_types/_convenience.py:112: FutureWarning: The default XML parser will be changing from 'xmlschema' to 'lxml' in version 0.4.0.  To silence this warning, please provide the `parser` argument, specifying either 'lxml' (to opt into the new behavior), or'xmlschema' (to retain the old behavior).\n",
      "  d = to_dict(os.fspath(xml), parser=parser, validate=validate)\n",
      "INFO:root:reading mask from /diskmnt/Projects/Users/estorrs/imaging-analysis/results/brca_subtype/revision_v1/region_masks/HT271B1-S1H6A5_left_05262023.tif\n",
      "INFO:root:generating region features for region\n",
      "INFO:root:generating cell fractions\n",
      "INFO:root:generating marker intensities\n",
      "INFO:root:generating marker fractions\n",
      "INFO:root:Using the following threhsolds to calculate positive fraction: {'CD8': 10.0, 'Her2': 10.0, 'GATA3': 15.0, 'cKit': 10.0, 'Pan-Cytokeratin': 22.0, 'GLUT1': 13.0, 'Podoplanin': 10.0, 'HLA-DR': 15.0, 'CK14': 10.0, 'SMA': 10.0, 'PR': 19.0, 'ER': 10.0, 'CD31': 10.0, 'CK19': 10.0, 'CTLA4': 10.0, 'CD4': 12.0, 'BCA1': 11.0}\n",
      "INFO:root:generating region features for ductal\n",
      "INFO:root:generating cell fractions\n",
      "INFO:root:generating marker intensities\n",
      "INFO:root:generating marker fractions\n",
      "INFO:root:Using the following threhsolds to calculate positive fraction: {'CD8': 10.0, 'Her2': 10.0, 'GATA3': 15.0, 'cKit': 10.0, 'Pan-Cytokeratin': 22.0, 'GLUT1': 13.0, 'Podoplanin': 10.0, 'HLA-DR': 15.0, 'CK14': 10.0, 'SMA': 10.0, 'PR': 19.0, 'ER': 10.0, 'CD31': 10.0, 'CK19': 10.0, 'CTLA4': 10.0, 'CD4': 12.0, 'BCA1': 11.0}\n",
      "INFO:root:generating region features for myoepi\n",
      "INFO:root:generating cell fractions\n",
      "INFO:root:generating marker intensities\n",
      "INFO:root:generating marker fractions\n",
      "INFO:root:Using the following threhsolds to calculate positive fraction: {'CD8': 10.0, 'Her2': 10.0, 'GATA3': 15.0, 'cKit': 10.0, 'Pan-Cytokeratin': 22.0, 'GLUT1': 13.0, 'Podoplanin': 10.0, 'HLA-DR': 15.0, 'CK14': 10.0, 'SMA': 10.0, 'PR': 19.0, 'ER': 10.0, 'CD31': 10.0, 'CK19': 10.0, 'CTLA4': 10.0, 'CD4': 12.0, 'BCA1': 11.0}\n",
      "INFO:root:generating region features for boundary\n",
      "INFO:root:generating cell fractions\n",
      "INFO:root:generating marker intensities\n",
      "INFO:root:generating marker fractions\n",
      "INFO:root:Using the following threhsolds to calculate positive fraction: {'CD8': 10.0, 'Her2': 10.0, 'GATA3': 15.0, 'cKit': 10.0, 'Pan-Cytokeratin': 22.0, 'GLUT1': 13.0, 'Podoplanin': 10.0, 'HLA-DR': 15.0, 'CK14': 10.0, 'SMA': 10.0, 'PR': 19.0, 'ER': 10.0, 'CD31': 10.0, 'CK19': 10.0, 'CTLA4': 10.0, 'CD4': 12.0, 'BCA1': 11.0}\n",
      "INFO:root:generating region features for expanded\n",
      "INFO:root:generating cell fractions\n",
      "INFO:root:generating marker intensities\n",
      "INFO:root:generating marker fractions\n",
      "INFO:root:Using the following threhsolds to calculate positive fraction: {'CD8': 10.0, 'Her2': 10.0, 'GATA3': 15.0, 'cKit': 10.0, 'Pan-Cytokeratin': 22.0, 'GLUT1': 13.0, 'Podoplanin': 10.0, 'HLA-DR': 15.0, 'CK14': 10.0, 'SMA': 10.0, 'PR': 19.0, 'ER': 10.0, 'CD31': 10.0, 'CK19': 10.0, 'CTLA4': 10.0, 'CD4': 12.0, 'BCA1': 11.0}\n"
     ]
    },
    {
     "name": "stdout",
     "output_type": "stream",
     "text": [
      "HT271B1-S1H6A5_mid_05262023\n"
     ]
    },
    {
     "name": "stderr",
     "output_type": "stream",
     "text": [
      "/diskmnt/Projects/Users/estorrs/miniconda3/envs/mip/lib/python3.8/site-packages/ome_types/_convenience.py:112: FutureWarning: The default XML parser will be changing from 'xmlschema' to 'lxml' in version 0.4.0.  To silence this warning, please provide the `parser` argument, specifying either 'lxml' (to opt into the new behavior), or'xmlschema' (to retain the old behavior).\n",
      "  d = to_dict(os.fspath(xml), parser=parser, validate=validate)\n",
      "INFO:root:reading mask from /diskmnt/Projects/Users/estorrs/imaging-analysis/results/brca_subtype/revision_v1/region_masks/HT271B1-S1H6A5_mid_05262023.tif\n",
      "INFO:root:generating region features for region\n",
      "INFO:root:generating cell fractions\n",
      "INFO:root:generating marker intensities\n",
      "INFO:root:generating marker fractions\n",
      "INFO:root:Using the following threhsolds to calculate positive fraction: {'CD8': 10.0, 'Her2': 10.0, 'GATA3': 15.0, 'cKit': 10.0, 'Pan-Cytokeratin': 22.0, 'GLUT1': 13.0, 'Podoplanin': 10.0, 'HLA-DR': 15.0, 'CK14': 10.0, 'SMA': 10.0, 'PR': 19.0, 'ER': 10.0, 'CD31': 10.0, 'CK19': 10.0, 'CTLA4': 10.0, 'CD4': 12.0, 'BCA1': 11.0}\n",
      "INFO:root:generating region features for ductal\n",
      "INFO:root:generating cell fractions\n",
      "INFO:root:generating marker intensities\n",
      "INFO:root:generating marker fractions\n",
      "INFO:root:Using the following threhsolds to calculate positive fraction: {'CD8': 10.0, 'Her2': 10.0, 'GATA3': 15.0, 'cKit': 10.0, 'Pan-Cytokeratin': 22.0, 'GLUT1': 13.0, 'Podoplanin': 10.0, 'HLA-DR': 15.0, 'CK14': 10.0, 'SMA': 10.0, 'PR': 19.0, 'ER': 10.0, 'CD31': 10.0, 'CK19': 10.0, 'CTLA4': 10.0, 'CD4': 12.0, 'BCA1': 11.0}\n",
      "INFO:root:generating region features for myoepi\n",
      "INFO:root:generating cell fractions\n",
      "INFO:root:generating marker intensities\n",
      "INFO:root:generating marker fractions\n",
      "INFO:root:Using the following threhsolds to calculate positive fraction: {'CD8': 10.0, 'Her2': 10.0, 'GATA3': 15.0, 'cKit': 10.0, 'Pan-Cytokeratin': 22.0, 'GLUT1': 13.0, 'Podoplanin': 10.0, 'HLA-DR': 15.0, 'CK14': 10.0, 'SMA': 10.0, 'PR': 19.0, 'ER': 10.0, 'CD31': 10.0, 'CK19': 10.0, 'CTLA4': 10.0, 'CD4': 12.0, 'BCA1': 11.0}\n",
      "INFO:root:generating region features for boundary\n",
      "INFO:root:generating cell fractions\n",
      "INFO:root:generating marker intensities\n",
      "INFO:root:generating marker fractions\n",
      "INFO:root:Using the following threhsolds to calculate positive fraction: {'CD8': 10.0, 'Her2': 10.0, 'GATA3': 15.0, 'cKit': 10.0, 'Pan-Cytokeratin': 22.0, 'GLUT1': 13.0, 'Podoplanin': 10.0, 'HLA-DR': 15.0, 'CK14': 10.0, 'SMA': 10.0, 'PR': 19.0, 'ER': 10.0, 'CD31': 10.0, 'CK19': 10.0, 'CTLA4': 10.0, 'CD4': 12.0, 'BCA1': 11.0}\n",
      "INFO:root:generating region features for expanded\n",
      "INFO:root:generating cell fractions\n",
      "INFO:root:generating marker intensities\n",
      "INFO:root:generating marker fractions\n",
      "INFO:root:Using the following threhsolds to calculate positive fraction: {'CD8': 10.0, 'Her2': 10.0, 'GATA3': 15.0, 'cKit': 10.0, 'Pan-Cytokeratin': 22.0, 'GLUT1': 13.0, 'Podoplanin': 10.0, 'HLA-DR': 15.0, 'CK14': 10.0, 'SMA': 10.0, 'PR': 19.0, 'ER': 10.0, 'CD31': 10.0, 'CK19': 10.0, 'CTLA4': 10.0, 'CD4': 12.0, 'BCA1': 11.0}\n"
     ]
    },
    {
     "name": "stdout",
     "output_type": "stream",
     "text": [
      "HT271B1-S1H6A5_right_05122023\n"
     ]
    },
    {
     "name": "stderr",
     "output_type": "stream",
     "text": [
      "/diskmnt/Projects/Users/estorrs/miniconda3/envs/mip/lib/python3.8/site-packages/ome_types/_convenience.py:112: FutureWarning: The default XML parser will be changing from 'xmlschema' to 'lxml' in version 0.4.0.  To silence this warning, please provide the `parser` argument, specifying either 'lxml' (to opt into the new behavior), or'xmlschema' (to retain the old behavior).\n",
      "  d = to_dict(os.fspath(xml), parser=parser, validate=validate)\n",
      "INFO:root:reading mask from /diskmnt/Projects/Users/estorrs/imaging-analysis/results/brca_subtype/revision_v1/region_masks/HT271B1-S1H6A5_right_05122023.tif\n",
      "INFO:root:generating region features for region\n",
      "INFO:root:generating cell fractions\n",
      "INFO:root:generating marker intensities\n",
      "INFO:root:generating marker fractions\n",
      "INFO:root:Using the following threhsolds to calculate positive fraction: {'CD8': 10.0, 'Her2': 10.0, 'GATA3': 29.0, 'cKit': 10.0, 'Pan-Cytokeratin': 15.0, 'GLUT1': 6.0, 'Podoplanin': 10.0, 'HLA-DR': 12.0, 'CK14': 10.0, 'E-cadherin': 212.0, 'SMA': 10.0, 'CD3e': 10.0, 'CD11b': 10.0, 'PR': 10.0, 'ER': 10.0, 'CD31': 10.0, 'CK19': 10.0, 'CK5': 8.0, 'CTLA4': 10.0, 'CD4': 14.0, 'BCA1': 10.0}\n",
      "INFO:root:generating region features for ductal\n",
      "INFO:root:generating cell fractions\n",
      "INFO:root:generating marker intensities\n",
      "INFO:root:generating marker fractions\n",
      "INFO:root:Using the following threhsolds to calculate positive fraction: {'CD8': 10.0, 'Her2': 10.0, 'GATA3': 29.0, 'cKit': 10.0, 'Pan-Cytokeratin': 15.0, 'GLUT1': 6.0, 'Podoplanin': 10.0, 'HLA-DR': 12.0, 'CK14': 10.0, 'E-cadherin': 212.0, 'SMA': 10.0, 'CD3e': 10.0, 'CD11b': 10.0, 'PR': 10.0, 'ER': 10.0, 'CD31': 10.0, 'CK19': 10.0, 'CK5': 8.0, 'CTLA4': 10.0, 'CD4': 14.0, 'BCA1': 10.0}\n",
      "INFO:root:generating region features for myoepi\n",
      "INFO:root:generating cell fractions\n",
      "INFO:root:generating marker intensities\n",
      "INFO:root:generating marker fractions\n",
      "INFO:root:Using the following threhsolds to calculate positive fraction: {'CD8': 10.0, 'Her2': 10.0, 'GATA3': 29.0, 'cKit': 10.0, 'Pan-Cytokeratin': 15.0, 'GLUT1': 6.0, 'Podoplanin': 10.0, 'HLA-DR': 12.0, 'CK14': 10.0, 'E-cadherin': 212.0, 'SMA': 10.0, 'CD3e': 10.0, 'CD11b': 10.0, 'PR': 10.0, 'ER': 10.0, 'CD31': 10.0, 'CK19': 10.0, 'CK5': 8.0, 'CTLA4': 10.0, 'CD4': 14.0, 'BCA1': 10.0}\n",
      "INFO:root:generating region features for boundary\n",
      "INFO:root:generating cell fractions\n",
      "INFO:root:generating marker intensities\n",
      "INFO:root:generating marker fractions\n",
      "INFO:root:Using the following threhsolds to calculate positive fraction: {'CD8': 10.0, 'Her2': 10.0, 'GATA3': 29.0, 'cKit': 10.0, 'Pan-Cytokeratin': 15.0, 'GLUT1': 6.0, 'Podoplanin': 10.0, 'HLA-DR': 12.0, 'CK14': 10.0, 'E-cadherin': 212.0, 'SMA': 10.0, 'CD3e': 10.0, 'CD11b': 10.0, 'PR': 10.0, 'ER': 10.0, 'CD31': 10.0, 'CK19': 10.0, 'CK5': 8.0, 'CTLA4': 10.0, 'CD4': 14.0, 'BCA1': 10.0}\n",
      "INFO:root:generating region features for expanded\n",
      "INFO:root:generating cell fractions\n",
      "INFO:root:generating marker intensities\n",
      "INFO:root:generating marker fractions\n",
      "INFO:root:Using the following threhsolds to calculate positive fraction: {'CD8': 10.0, 'Her2': 10.0, 'GATA3': 29.0, 'cKit': 10.0, 'Pan-Cytokeratin': 15.0, 'GLUT1': 6.0, 'Podoplanin': 10.0, 'HLA-DR': 12.0, 'CK14': 10.0, 'E-cadherin': 212.0, 'SMA': 10.0, 'CD3e': 10.0, 'CD11b': 10.0, 'PR': 10.0, 'ER': 10.0, 'CD31': 10.0, 'CK19': 10.0, 'CK5': 8.0, 'CTLA4': 10.0, 'CD4': 14.0, 'BCA1': 10.0}\n"
     ]
    },
    {
     "name": "stdout",
     "output_type": "stream",
     "text": [
      "HT271B1-S1H6A5_right_05262023\n"
     ]
    },
    {
     "name": "stderr",
     "output_type": "stream",
     "text": [
      "/diskmnt/Projects/Users/estorrs/miniconda3/envs/mip/lib/python3.8/site-packages/ome_types/_convenience.py:112: FutureWarning: The default XML parser will be changing from 'xmlschema' to 'lxml' in version 0.4.0.  To silence this warning, please provide the `parser` argument, specifying either 'lxml' (to opt into the new behavior), or'xmlschema' (to retain the old behavior).\n",
      "  d = to_dict(os.fspath(xml), parser=parser, validate=validate)\n",
      "INFO:root:reading mask from /diskmnt/Projects/Users/estorrs/imaging-analysis/results/brca_subtype/revision_v1/region_masks/HT271B1-S1H6A5_right_05262023.tif\n",
      "INFO:root:generating region features for region\n",
      "INFO:root:generating cell fractions\n",
      "INFO:root:generating marker intensities\n",
      "INFO:root:generating marker fractions\n",
      "INFO:root:Using the following threhsolds to calculate positive fraction: {'CD8': 10.0, 'Her2': 10.0, 'GATA3': 15.0, 'cKit': 10.0, 'Pan-Cytokeratin': 22.0, 'GLUT1': 13.0, 'Podoplanin': 10.0, 'HLA-DR': 15.0, 'CK14': 10.0, 'SMA': 10.0, 'PR': 19.0, 'ER': 10.0, 'CD31': 10.0, 'CK19': 10.0, 'CTLA4': 10.0, 'CD4': 12.0, 'BCA1': 11.0}\n",
      "INFO:root:generating region features for ductal\n",
      "INFO:root:generating cell fractions\n",
      "INFO:root:generating marker intensities\n",
      "INFO:root:generating marker fractions\n",
      "INFO:root:Using the following threhsolds to calculate positive fraction: {'CD8': 10.0, 'Her2': 10.0, 'GATA3': 15.0, 'cKit': 10.0, 'Pan-Cytokeratin': 22.0, 'GLUT1': 13.0, 'Podoplanin': 10.0, 'HLA-DR': 15.0, 'CK14': 10.0, 'SMA': 10.0, 'PR': 19.0, 'ER': 10.0, 'CD31': 10.0, 'CK19': 10.0, 'CTLA4': 10.0, 'CD4': 12.0, 'BCA1': 11.0}\n",
      "INFO:root:generating region features for myoepi\n",
      "INFO:root:generating cell fractions\n",
      "INFO:root:generating marker intensities\n",
      "INFO:root:generating marker fractions\n",
      "INFO:root:Using the following threhsolds to calculate positive fraction: {'CD8': 10.0, 'Her2': 10.0, 'GATA3': 15.0, 'cKit': 10.0, 'Pan-Cytokeratin': 22.0, 'GLUT1': 13.0, 'Podoplanin': 10.0, 'HLA-DR': 15.0, 'CK14': 10.0, 'SMA': 10.0, 'PR': 19.0, 'ER': 10.0, 'CD31': 10.0, 'CK19': 10.0, 'CTLA4': 10.0, 'CD4': 12.0, 'BCA1': 11.0}\n",
      "INFO:root:generating region features for boundary\n",
      "INFO:root:generating cell fractions\n",
      "INFO:root:generating marker intensities\n",
      "INFO:root:generating marker fractions\n",
      "INFO:root:Using the following threhsolds to calculate positive fraction: {'CD8': 10.0, 'Her2': 10.0, 'GATA3': 15.0, 'cKit': 10.0, 'Pan-Cytokeratin': 22.0, 'GLUT1': 13.0, 'Podoplanin': 10.0, 'HLA-DR': 15.0, 'CK14': 10.0, 'SMA': 10.0, 'PR': 19.0, 'ER': 10.0, 'CD31': 10.0, 'CK19': 10.0, 'CTLA4': 10.0, 'CD4': 12.0, 'BCA1': 11.0}\n",
      "INFO:root:generating region features for expanded\n",
      "INFO:root:generating cell fractions\n",
      "INFO:root:generating marker intensities\n",
      "INFO:root:generating marker fractions\n",
      "INFO:root:Using the following threhsolds to calculate positive fraction: {'CD8': 10.0, 'Her2': 10.0, 'GATA3': 15.0, 'cKit': 10.0, 'Pan-Cytokeratin': 22.0, 'GLUT1': 13.0, 'Podoplanin': 10.0, 'HLA-DR': 15.0, 'CK14': 10.0, 'SMA': 10.0, 'PR': 19.0, 'ER': 10.0, 'CD31': 10.0, 'CK19': 10.0, 'CTLA4': 10.0, 'CD4': 12.0, 'BCA1': 11.0}\n"
     ]
    },
    {
     "name": "stdout",
     "output_type": "stream",
     "text": [
      "HT271B1_S1H3A5_02172023\n"
     ]
    },
    {
     "name": "stderr",
     "output_type": "stream",
     "text": [
      "/diskmnt/Projects/Users/estorrs/miniconda3/envs/mip/lib/python3.8/site-packages/ome_types/_convenience.py:112: FutureWarning: The default XML parser will be changing from 'xmlschema' to 'lxml' in version 0.4.0.  To silence this warning, please provide the `parser` argument, specifying either 'lxml' (to opt into the new behavior), or'xmlschema' (to retain the old behavior).\n",
      "  d = to_dict(os.fspath(xml), parser=parser, validate=validate)\n",
      "INFO:root:reading mask from /diskmnt/Projects/Users/estorrs/imaging-analysis/results/brca_subtype/revision_v1/region_masks/HT271B1_S1H3A5_02172023.tif\n",
      "INFO:root:generating region features for region\n",
      "INFO:root:generating cell fractions\n"
     ]
    },
    {
     "name": "stdout",
     "output_type": "stream",
     "text": [
      "error in sample HT271B1_S1H3A5_02172023\n",
      "HT297B1-S1H1_U1_07012023\n"
     ]
    },
    {
     "name": "stderr",
     "output_type": "stream",
     "text": [
      "/diskmnt/Projects/Users/estorrs/miniconda3/envs/mip/lib/python3.8/site-packages/ome_types/_convenience.py:112: FutureWarning: The default XML parser will be changing from 'xmlschema' to 'lxml' in version 0.4.0.  To silence this warning, please provide the `parser` argument, specifying either 'lxml' (to opt into the new behavior), or'xmlschema' (to retain the old behavior).\n",
      "  d = to_dict(os.fspath(xml), parser=parser, validate=validate)\n",
      "INFO:root:reading mask from /diskmnt/Projects/Users/estorrs/imaging-analysis/results/brca_subtype/revision_v1/region_masks/HT297B1-S1H1_U1_07012023.tif\n",
      "INFO:root:generating region features for region\n",
      "INFO:root:generating cell fractions\n",
      "INFO:root:generating marker intensities\n",
      "INFO:root:generating marker fractions\n",
      "INFO:root:Using the following threhsolds to calculate positive fraction: {'CD8': 10.0, 'Her2': 15.0, 'GATA3': 40.0, 'cKit': 10.0, 'GLUT1': 10.0, 'Podoplanin': 10.0, 'HLA-DR': 12.0, 'CK14': 12.0, 'E-cadherin': 10.0, 'SMA': 10.0, 'CD3e': 39.0, 'CD31': 10.0, 'PR': 39.0, 'CD45': 39.0, 'ER': 10.0, 'Granzyme-B': 24.0, 'CTLA4': 10.0, 'CD4': 19.0}\n",
      "INFO:root:generating region features for ductal\n",
      "INFO:root:generating cell fractions\n",
      "INFO:root:generating marker intensities\n",
      "INFO:root:generating marker fractions\n",
      "INFO:root:Using the following threhsolds to calculate positive fraction: {'CD8': 10.0, 'Her2': 15.0, 'GATA3': 40.0, 'cKit': 10.0, 'GLUT1': 10.0, 'Podoplanin': 10.0, 'HLA-DR': 12.0, 'CK14': 12.0, 'E-cadherin': 10.0, 'SMA': 10.0, 'CD3e': 39.0, 'CD31': 10.0, 'PR': 39.0, 'CD45': 39.0, 'ER': 10.0, 'Granzyme-B': 24.0, 'CTLA4': 10.0, 'CD4': 19.0}\n",
      "INFO:root:generating region features for myoepi\n",
      "INFO:root:generating cell fractions\n",
      "INFO:root:generating marker intensities\n",
      "INFO:root:generating marker fractions\n",
      "INFO:root:Using the following threhsolds to calculate positive fraction: {'CD8': 10.0, 'Her2': 15.0, 'GATA3': 40.0, 'cKit': 10.0, 'GLUT1': 10.0, 'Podoplanin': 10.0, 'HLA-DR': 12.0, 'CK14': 12.0, 'E-cadherin': 10.0, 'SMA': 10.0, 'CD3e': 39.0, 'CD31': 10.0, 'PR': 39.0, 'CD45': 39.0, 'ER': 10.0, 'Granzyme-B': 24.0, 'CTLA4': 10.0, 'CD4': 19.0}\n",
      "INFO:root:generating region features for boundary\n",
      "INFO:root:generating cell fractions\n",
      "INFO:root:generating marker intensities\n",
      "INFO:root:generating marker fractions\n",
      "INFO:root:Using the following threhsolds to calculate positive fraction: {'CD8': 10.0, 'Her2': 15.0, 'GATA3': 40.0, 'cKit': 10.0, 'GLUT1': 10.0, 'Podoplanin': 10.0, 'HLA-DR': 12.0, 'CK14': 12.0, 'E-cadherin': 10.0, 'SMA': 10.0, 'CD3e': 39.0, 'CD31': 10.0, 'PR': 39.0, 'CD45': 39.0, 'ER': 10.0, 'Granzyme-B': 24.0, 'CTLA4': 10.0, 'CD4': 19.0}\n",
      "INFO:root:generating region features for expanded\n",
      "INFO:root:generating cell fractions\n",
      "INFO:root:generating marker intensities\n",
      "INFO:root:generating marker fractions\n",
      "INFO:root:Using the following threhsolds to calculate positive fraction: {'CD8': 10.0, 'Her2': 15.0, 'GATA3': 40.0, 'cKit': 10.0, 'GLUT1': 10.0, 'Podoplanin': 10.0, 'HLA-DR': 12.0, 'CK14': 12.0, 'E-cadherin': 10.0, 'SMA': 10.0, 'CD3e': 39.0, 'CD31': 10.0, 'PR': 39.0, 'CD45': 39.0, 'ER': 10.0, 'Granzyme-B': 24.0, 'CTLA4': 10.0, 'CD4': 19.0}\n"
     ]
    },
    {
     "name": "stdout",
     "output_type": "stream",
     "text": [
      "HT297B1-S1H1_U2_07012023\n"
     ]
    },
    {
     "name": "stderr",
     "output_type": "stream",
     "text": [
      "/diskmnt/Projects/Users/estorrs/miniconda3/envs/mip/lib/python3.8/site-packages/ome_types/_convenience.py:112: FutureWarning: The default XML parser will be changing from 'xmlschema' to 'lxml' in version 0.4.0.  To silence this warning, please provide the `parser` argument, specifying either 'lxml' (to opt into the new behavior), or'xmlschema' (to retain the old behavior).\n",
      "  d = to_dict(os.fspath(xml), parser=parser, validate=validate)\n",
      "INFO:root:reading mask from /diskmnt/Projects/Users/estorrs/imaging-analysis/results/brca_subtype/revision_v1/region_masks/HT297B1-S1H1_U2_07012023.tif\n",
      "INFO:root:generating region features for region\n",
      "INFO:root:generating cell fractions\n",
      "INFO:root:generating marker intensities\n",
      "INFO:root:generating marker fractions\n",
      "INFO:root:Using the following threhsolds to calculate positive fraction: {'CD8': 10.0, 'Her2': 15.0, 'GATA3': 40.0, 'cKit': 10.0, 'GLUT1': 10.0, 'Podoplanin': 10.0, 'HLA-DR': 12.0, 'CK14': 12.0, 'E-cadherin': 10.0, 'SMA': 10.0, 'CD3e': 39.0, 'CD31': 10.0, 'PR': 39.0, 'CD45': 39.0, 'ER': 10.0, 'Granzyme-B': 24.0, 'CTLA4': 10.0, 'CD4': 19.0}\n",
      "INFO:root:generating region features for ductal\n",
      "INFO:root:generating cell fractions\n",
      "INFO:root:generating marker intensities\n",
      "INFO:root:generating marker fractions\n",
      "INFO:root:Using the following threhsolds to calculate positive fraction: {'CD8': 10.0, 'Her2': 15.0, 'GATA3': 40.0, 'cKit': 10.0, 'GLUT1': 10.0, 'Podoplanin': 10.0, 'HLA-DR': 12.0, 'CK14': 12.0, 'E-cadherin': 10.0, 'SMA': 10.0, 'CD3e': 39.0, 'CD31': 10.0, 'PR': 39.0, 'CD45': 39.0, 'ER': 10.0, 'Granzyme-B': 24.0, 'CTLA4': 10.0, 'CD4': 19.0}\n",
      "INFO:root:generating region features for myoepi\n",
      "INFO:root:generating cell fractions\n",
      "INFO:root:generating marker intensities\n",
      "INFO:root:generating marker fractions\n",
      "INFO:root:Using the following threhsolds to calculate positive fraction: {'CD8': 10.0, 'Her2': 15.0, 'GATA3': 40.0, 'cKit': 10.0, 'GLUT1': 10.0, 'Podoplanin': 10.0, 'HLA-DR': 12.0, 'CK14': 12.0, 'E-cadherin': 10.0, 'SMA': 10.0, 'CD3e': 39.0, 'CD31': 10.0, 'PR': 39.0, 'CD45': 39.0, 'ER': 10.0, 'Granzyme-B': 24.0, 'CTLA4': 10.0, 'CD4': 19.0}\n",
      "INFO:root:generating region features for boundary\n",
      "INFO:root:generating cell fractions\n",
      "INFO:root:generating marker intensities\n",
      "INFO:root:generating marker fractions\n",
      "INFO:root:Using the following threhsolds to calculate positive fraction: {'CD8': 10.0, 'Her2': 15.0, 'GATA3': 40.0, 'cKit': 10.0, 'GLUT1': 10.0, 'Podoplanin': 10.0, 'HLA-DR': 12.0, 'CK14': 12.0, 'E-cadherin': 10.0, 'SMA': 10.0, 'CD3e': 39.0, 'CD31': 10.0, 'PR': 39.0, 'CD45': 39.0, 'ER': 10.0, 'Granzyme-B': 24.0, 'CTLA4': 10.0, 'CD4': 19.0}\n",
      "INFO:root:generating region features for expanded\n",
      "INFO:root:generating cell fractions\n",
      "INFO:root:generating marker intensities\n",
      "INFO:root:generating marker fractions\n",
      "INFO:root:Using the following threhsolds to calculate positive fraction: {'CD8': 10.0, 'Her2': 15.0, 'GATA3': 40.0, 'cKit': 10.0, 'GLUT1': 10.0, 'Podoplanin': 10.0, 'HLA-DR': 12.0, 'CK14': 12.0, 'E-cadherin': 10.0, 'SMA': 10.0, 'CD3e': 39.0, 'CD31': 10.0, 'PR': 39.0, 'CD45': 39.0, 'ER': 10.0, 'Granzyme-B': 24.0, 'CTLA4': 10.0, 'CD4': 19.0}\n"
     ]
    },
    {
     "name": "stdout",
     "output_type": "stream",
     "text": [
      "HT305B1_S1H1\n"
     ]
    },
    {
     "name": "stderr",
     "output_type": "stream",
     "text": [
      "/diskmnt/Projects/Users/estorrs/miniconda3/envs/mip/lib/python3.8/site-packages/ome_types/_convenience.py:112: FutureWarning: The default XML parser will be changing from 'xmlschema' to 'lxml' in version 0.4.0.  To silence this warning, please provide the `parser` argument, specifying either 'lxml' (to opt into the new behavior), or'xmlschema' (to retain the old behavior).\n",
      "  d = to_dict(os.fspath(xml), parser=parser, validate=validate)\n",
      "INFO:root:reading mask from /diskmnt/Projects/Users/estorrs/imaging-analysis/results/brca_subtype/revision_v1/region_masks/HT305B1_S1H1.tif\n",
      "INFO:root:generating region features for region\n",
      "INFO:root:generating cell fractions\n",
      "INFO:root:generating marker intensities\n",
      "INFO:root:generating marker fractions\n",
      "INFO:root:Using the following threhsolds to calculate positive fraction: {'CD8': 11.0, 'cKit': 10.0, 'Pan-Cytokeratin': 10.0, 'Podoplanin': 10.0, 'CK17': 20.0, 'HLA-DR': 12.0, 'GATA3': 9.0, 'CK14': 19.0, 'SMA': 15.0, 'CD20': 12.0, 'CD3e': 15.0, 'CD163': 19.0, 'PR': 39.0, 'ER': 10.0, 'CK19': 10.0}\n",
      "INFO:root:generating region features for ductal\n",
      "INFO:root:generating cell fractions\n",
      "INFO:root:generating marker intensities\n",
      "INFO:root:generating marker fractions\n",
      "INFO:root:Using the following threhsolds to calculate positive fraction: {'CD8': 11.0, 'cKit': 10.0, 'Pan-Cytokeratin': 10.0, 'Podoplanin': 10.0, 'CK17': 20.0, 'HLA-DR': 12.0, 'GATA3': 9.0, 'CK14': 19.0, 'SMA': 15.0, 'CD20': 12.0, 'CD3e': 15.0, 'CD163': 19.0, 'PR': 39.0, 'ER': 10.0, 'CK19': 10.0}\n",
      "INFO:root:generating region features for myoepi\n",
      "INFO:root:generating cell fractions\n",
      "INFO:root:generating marker intensities\n",
      "INFO:root:generating marker fractions\n",
      "INFO:root:Using the following threhsolds to calculate positive fraction: {'CD8': 11.0, 'cKit': 10.0, 'Pan-Cytokeratin': 10.0, 'Podoplanin': 10.0, 'CK17': 20.0, 'HLA-DR': 12.0, 'GATA3': 9.0, 'CK14': 19.0, 'SMA': 15.0, 'CD20': 12.0, 'CD3e': 15.0, 'CD163': 19.0, 'PR': 39.0, 'ER': 10.0, 'CK19': 10.0}\n",
      "INFO:root:generating region features for boundary\n",
      "INFO:root:generating cell fractions\n",
      "INFO:root:generating marker intensities\n",
      "INFO:root:generating marker fractions\n",
      "INFO:root:Using the following threhsolds to calculate positive fraction: {'CD8': 11.0, 'cKit': 10.0, 'Pan-Cytokeratin': 10.0, 'Podoplanin': 10.0, 'CK17': 20.0, 'HLA-DR': 12.0, 'GATA3': 9.0, 'CK14': 19.0, 'SMA': 15.0, 'CD20': 12.0, 'CD3e': 15.0, 'CD163': 19.0, 'PR': 39.0, 'ER': 10.0, 'CK19': 10.0}\n",
      "INFO:root:generating region features for expanded\n",
      "INFO:root:generating cell fractions\n",
      "INFO:root:generating marker intensities\n",
      "INFO:root:generating marker fractions\n",
      "INFO:root:Using the following threhsolds to calculate positive fraction: {'CD8': 11.0, 'cKit': 10.0, 'Pan-Cytokeratin': 10.0, 'Podoplanin': 10.0, 'CK17': 20.0, 'HLA-DR': 12.0, 'GATA3': 9.0, 'CK14': 19.0, 'SMA': 15.0, 'CD20': 12.0, 'CD3e': 15.0, 'CD163': 19.0, 'PR': 39.0, 'ER': 10.0, 'CK19': 10.0}\n"
     ]
    },
    {
     "name": "stdout",
     "output_type": "stream",
     "text": [
      "HT308B1-S1H5A4_04192023\n"
     ]
    },
    {
     "name": "stderr",
     "output_type": "stream",
     "text": [
      "/diskmnt/Projects/Users/estorrs/miniconda3/envs/mip/lib/python3.8/site-packages/ome_types/_convenience.py:112: FutureWarning: The default XML parser will be changing from 'xmlschema' to 'lxml' in version 0.4.0.  To silence this warning, please provide the `parser` argument, specifying either 'lxml' (to opt into the new behavior), or'xmlschema' (to retain the old behavior).\n",
      "  d = to_dict(os.fspath(xml), parser=parser, validate=validate)\n",
      "INFO:root:reading mask from /diskmnt/Projects/Users/estorrs/imaging-analysis/results/brca_subtype/revision_v1/region_masks/HT308B1-S1H5A4_04192023.tif\n",
      "INFO:root:generating region features for region\n",
      "INFO:root:generating cell fractions\n",
      "INFO:root:generating marker intensities\n",
      "INFO:root:generating marker fractions\n",
      "INFO:root:Using the following threhsolds to calculate positive fraction: {'CD8': 10.0, 'Her2': 10.0, 'GATA3': 49.0, 'cKit': 10.0, 'Pan-Cytokeratin': 20.0, 'GLUT1': 15.0, 'Podoplanin': 15.0, 'HLA-DR': 12.0, 'CK14': 10.0, 'SMA': 10.0, 'CD3e': 39.0, 'CD68': 74.0, 'PR': 49.0, 'ER': 10.0, 'CD31': 19.0, 'CK19': 10.0, 'CTLA4': 10.0, 'CD4': 63.0}\n",
      "INFO:root:generating region features for ductal\n",
      "INFO:root:generating cell fractions\n",
      "INFO:root:generating marker intensities\n",
      "INFO:root:generating marker fractions\n",
      "INFO:root:Using the following threhsolds to calculate positive fraction: {'CD8': 10.0, 'Her2': 10.0, 'GATA3': 49.0, 'cKit': 10.0, 'Pan-Cytokeratin': 20.0, 'GLUT1': 15.0, 'Podoplanin': 15.0, 'HLA-DR': 12.0, 'CK14': 10.0, 'SMA': 10.0, 'CD3e': 39.0, 'CD68': 74.0, 'PR': 49.0, 'ER': 10.0, 'CD31': 19.0, 'CK19': 10.0, 'CTLA4': 10.0, 'CD4': 63.0}\n",
      "INFO:root:generating region features for myoepi\n",
      "INFO:root:generating cell fractions\n",
      "INFO:root:generating marker intensities\n",
      "INFO:root:generating marker fractions\n",
      "INFO:root:Using the following threhsolds to calculate positive fraction: {'CD8': 10.0, 'Her2': 10.0, 'GATA3': 49.0, 'cKit': 10.0, 'Pan-Cytokeratin': 20.0, 'GLUT1': 15.0, 'Podoplanin': 15.0, 'HLA-DR': 12.0, 'CK14': 10.0, 'SMA': 10.0, 'CD3e': 39.0, 'CD68': 74.0, 'PR': 49.0, 'ER': 10.0, 'CD31': 19.0, 'CK19': 10.0, 'CTLA4': 10.0, 'CD4': 63.0}\n",
      "INFO:root:generating region features for boundary\n",
      "INFO:root:generating cell fractions\n",
      "INFO:root:generating marker intensities\n",
      "INFO:root:generating marker fractions\n",
      "INFO:root:Using the following threhsolds to calculate positive fraction: {'CD8': 10.0, 'Her2': 10.0, 'GATA3': 49.0, 'cKit': 10.0, 'Pan-Cytokeratin': 20.0, 'GLUT1': 15.0, 'Podoplanin': 15.0, 'HLA-DR': 12.0, 'CK14': 10.0, 'SMA': 10.0, 'CD3e': 39.0, 'CD68': 74.0, 'PR': 49.0, 'ER': 10.0, 'CD31': 19.0, 'CK19': 10.0, 'CTLA4': 10.0, 'CD4': 63.0}\n",
      "INFO:root:generating region features for expanded\n",
      "INFO:root:generating cell fractions\n",
      "INFO:root:generating marker intensities\n",
      "INFO:root:generating marker fractions\n",
      "INFO:root:Using the following threhsolds to calculate positive fraction: {'CD8': 10.0, 'Her2': 10.0, 'GATA3': 49.0, 'cKit': 10.0, 'Pan-Cytokeratin': 20.0, 'GLUT1': 15.0, 'Podoplanin': 15.0, 'HLA-DR': 12.0, 'CK14': 10.0, 'SMA': 10.0, 'CD3e': 39.0, 'CD68': 74.0, 'PR': 49.0, 'ER': 10.0, 'CD31': 19.0, 'CK19': 10.0, 'CTLA4': 10.0, 'CD4': 63.0}\n"
     ]
    },
    {
     "name": "stdout",
     "output_type": "stream",
     "text": [
      "HT308B1-S1H5A4_left_05122023\n"
     ]
    },
    {
     "name": "stderr",
     "output_type": "stream",
     "text": [
      "/diskmnt/Projects/Users/estorrs/miniconda3/envs/mip/lib/python3.8/site-packages/ome_types/_convenience.py:112: FutureWarning: The default XML parser will be changing from 'xmlschema' to 'lxml' in version 0.4.0.  To silence this warning, please provide the `parser` argument, specifying either 'lxml' (to opt into the new behavior), or'xmlschema' (to retain the old behavior).\n",
      "  d = to_dict(os.fspath(xml), parser=parser, validate=validate)\n",
      "INFO:root:reading mask from /diskmnt/Projects/Users/estorrs/imaging-analysis/results/brca_subtype/revision_v1/region_masks/HT308B1-S1H5A4_left_05122023.tif\n",
      "INFO:root:generating region features for region\n",
      "INFO:root:generating cell fractions\n",
      "INFO:root:generating marker intensities\n",
      "INFO:root:generating marker fractions\n",
      "INFO:root:Using the following threhsolds to calculate positive fraction: {'CD8': 10.0, 'Her2': 10.0, 'GATA3': 29.0, 'cKit': 10.0, 'Pan-Cytokeratin': 15.0, 'GLUT1': 6.0, 'Podoplanin': 10.0, 'HLA-DR': 12.0, 'CK14': 10.0, 'E-cadherin': 212.0, 'SMA': 10.0, 'CD3e': 10.0, 'CD11b': 10.0, 'PR': 10.0, 'ER': 10.0, 'CD31': 10.0, 'CK19': 10.0, 'CK5': 8.0, 'CTLA4': 10.0, 'CD4': 14.0, 'BCA1': 10.0}\n",
      "INFO:root:generating region features for ductal\n",
      "INFO:root:generating cell fractions\n",
      "INFO:root:generating marker intensities\n",
      "INFO:root:generating marker fractions\n",
      "INFO:root:Using the following threhsolds to calculate positive fraction: {'CD8': 10.0, 'Her2': 10.0, 'GATA3': 29.0, 'cKit': 10.0, 'Pan-Cytokeratin': 15.0, 'GLUT1': 6.0, 'Podoplanin': 10.0, 'HLA-DR': 12.0, 'CK14': 10.0, 'E-cadherin': 212.0, 'SMA': 10.0, 'CD3e': 10.0, 'CD11b': 10.0, 'PR': 10.0, 'ER': 10.0, 'CD31': 10.0, 'CK19': 10.0, 'CK5': 8.0, 'CTLA4': 10.0, 'CD4': 14.0, 'BCA1': 10.0}\n",
      "INFO:root:generating region features for myoepi\n",
      "INFO:root:generating cell fractions\n",
      "INFO:root:generating marker intensities\n",
      "INFO:root:generating marker fractions\n",
      "INFO:root:Using the following threhsolds to calculate positive fraction: {'CD8': 10.0, 'Her2': 10.0, 'GATA3': 29.0, 'cKit': 10.0, 'Pan-Cytokeratin': 15.0, 'GLUT1': 6.0, 'Podoplanin': 10.0, 'HLA-DR': 12.0, 'CK14': 10.0, 'E-cadherin': 212.0, 'SMA': 10.0, 'CD3e': 10.0, 'CD11b': 10.0, 'PR': 10.0, 'ER': 10.0, 'CD31': 10.0, 'CK19': 10.0, 'CK5': 8.0, 'CTLA4': 10.0, 'CD4': 14.0, 'BCA1': 10.0}\n",
      "INFO:root:generating region features for boundary\n",
      "INFO:root:generating cell fractions\n",
      "INFO:root:generating marker intensities\n",
      "INFO:root:generating marker fractions\n",
      "INFO:root:Using the following threhsolds to calculate positive fraction: {'CD8': 10.0, 'Her2': 10.0, 'GATA3': 29.0, 'cKit': 10.0, 'Pan-Cytokeratin': 15.0, 'GLUT1': 6.0, 'Podoplanin': 10.0, 'HLA-DR': 12.0, 'CK14': 10.0, 'E-cadherin': 212.0, 'SMA': 10.0, 'CD3e': 10.0, 'CD11b': 10.0, 'PR': 10.0, 'ER': 10.0, 'CD31': 10.0, 'CK19': 10.0, 'CK5': 8.0, 'CTLA4': 10.0, 'CD4': 14.0, 'BCA1': 10.0}\n",
      "INFO:root:generating region features for expanded\n",
      "INFO:root:generating cell fractions\n",
      "INFO:root:generating marker intensities\n",
      "INFO:root:generating marker fractions\n",
      "INFO:root:Using the following threhsolds to calculate positive fraction: {'CD8': 10.0, 'Her2': 10.0, 'GATA3': 29.0, 'cKit': 10.0, 'Pan-Cytokeratin': 15.0, 'GLUT1': 6.0, 'Podoplanin': 10.0, 'HLA-DR': 12.0, 'CK14': 10.0, 'E-cadherin': 212.0, 'SMA': 10.0, 'CD3e': 10.0, 'CD11b': 10.0, 'PR': 10.0, 'ER': 10.0, 'CD31': 10.0, 'CK19': 10.0, 'CK5': 8.0, 'CTLA4': 10.0, 'CD4': 14.0, 'BCA1': 10.0}\n"
     ]
    },
    {
     "name": "stdout",
     "output_type": "stream",
     "text": [
      "HT308B1-S1H5A4_left_05262023\n"
     ]
    },
    {
     "name": "stderr",
     "output_type": "stream",
     "text": [
      "/diskmnt/Projects/Users/estorrs/miniconda3/envs/mip/lib/python3.8/site-packages/ome_types/_convenience.py:112: FutureWarning: The default XML parser will be changing from 'xmlschema' to 'lxml' in version 0.4.0.  To silence this warning, please provide the `parser` argument, specifying either 'lxml' (to opt into the new behavior), or'xmlschema' (to retain the old behavior).\n",
      "  d = to_dict(os.fspath(xml), parser=parser, validate=validate)\n",
      "INFO:root:reading mask from /diskmnt/Projects/Users/estorrs/imaging-analysis/results/brca_subtype/revision_v1/region_masks/HT308B1-S1H5A4_left_05262023.tif\n",
      "INFO:root:generating region features for region\n",
      "INFO:root:generating cell fractions\n",
      "INFO:root:generating marker intensities\n",
      "INFO:root:generating marker fractions\n",
      "INFO:root:Using the following threhsolds to calculate positive fraction: {'CD8': 10.0, 'Her2': 10.0, 'GATA3': 15.0, 'cKit': 10.0, 'Pan-Cytokeratin': 22.0, 'GLUT1': 13.0, 'Podoplanin': 10.0, 'HLA-DR': 15.0, 'CK14': 10.0, 'SMA': 10.0, 'PR': 19.0, 'ER': 10.0, 'CD31': 10.0, 'CK19': 10.0, 'CTLA4': 10.0, 'CD4': 12.0, 'BCA1': 11.0}\n",
      "INFO:root:generating region features for ductal\n",
      "INFO:root:generating cell fractions\n",
      "INFO:root:generating marker intensities\n",
      "INFO:root:generating marker fractions\n",
      "INFO:root:Using the following threhsolds to calculate positive fraction: {'CD8': 10.0, 'Her2': 10.0, 'GATA3': 15.0, 'cKit': 10.0, 'Pan-Cytokeratin': 22.0, 'GLUT1': 13.0, 'Podoplanin': 10.0, 'HLA-DR': 15.0, 'CK14': 10.0, 'SMA': 10.0, 'PR': 19.0, 'ER': 10.0, 'CD31': 10.0, 'CK19': 10.0, 'CTLA4': 10.0, 'CD4': 12.0, 'BCA1': 11.0}\n",
      "INFO:root:generating region features for myoepi\n",
      "INFO:root:generating cell fractions\n",
      "INFO:root:generating marker intensities\n",
      "INFO:root:generating marker fractions\n",
      "INFO:root:Using the following threhsolds to calculate positive fraction: {'CD8': 10.0, 'Her2': 10.0, 'GATA3': 15.0, 'cKit': 10.0, 'Pan-Cytokeratin': 22.0, 'GLUT1': 13.0, 'Podoplanin': 10.0, 'HLA-DR': 15.0, 'CK14': 10.0, 'SMA': 10.0, 'PR': 19.0, 'ER': 10.0, 'CD31': 10.0, 'CK19': 10.0, 'CTLA4': 10.0, 'CD4': 12.0, 'BCA1': 11.0}\n",
      "INFO:root:generating region features for boundary\n",
      "INFO:root:generating cell fractions\n",
      "INFO:root:generating marker intensities\n",
      "INFO:root:generating marker fractions\n",
      "INFO:root:Using the following threhsolds to calculate positive fraction: {'CD8': 10.0, 'Her2': 10.0, 'GATA3': 15.0, 'cKit': 10.0, 'Pan-Cytokeratin': 22.0, 'GLUT1': 13.0, 'Podoplanin': 10.0, 'HLA-DR': 15.0, 'CK14': 10.0, 'SMA': 10.0, 'PR': 19.0, 'ER': 10.0, 'CD31': 10.0, 'CK19': 10.0, 'CTLA4': 10.0, 'CD4': 12.0, 'BCA1': 11.0}\n",
      "INFO:root:generating region features for expanded\n",
      "INFO:root:generating cell fractions\n",
      "INFO:root:generating marker intensities\n",
      "INFO:root:generating marker fractions\n",
      "INFO:root:Using the following threhsolds to calculate positive fraction: {'CD8': 10.0, 'Her2': 10.0, 'GATA3': 15.0, 'cKit': 10.0, 'Pan-Cytokeratin': 22.0, 'GLUT1': 13.0, 'Podoplanin': 10.0, 'HLA-DR': 15.0, 'CK14': 10.0, 'SMA': 10.0, 'PR': 19.0, 'ER': 10.0, 'CD31': 10.0, 'CK19': 10.0, 'CTLA4': 10.0, 'CD4': 12.0, 'BCA1': 11.0}\n"
     ]
    },
    {
     "name": "stdout",
     "output_type": "stream",
     "text": [
      "HT308B1-S1H5A4_right_05122023\n"
     ]
    },
    {
     "name": "stderr",
     "output_type": "stream",
     "text": [
      "/diskmnt/Projects/Users/estorrs/miniconda3/envs/mip/lib/python3.8/site-packages/ome_types/_convenience.py:112: FutureWarning: The default XML parser will be changing from 'xmlschema' to 'lxml' in version 0.4.0.  To silence this warning, please provide the `parser` argument, specifying either 'lxml' (to opt into the new behavior), or'xmlschema' (to retain the old behavior).\n",
      "  d = to_dict(os.fspath(xml), parser=parser, validate=validate)\n",
      "INFO:root:reading mask from /diskmnt/Projects/Users/estorrs/imaging-analysis/results/brca_subtype/revision_v1/region_masks/HT308B1-S1H5A4_right_05122023.tif\n",
      "INFO:root:generating region features for region\n",
      "INFO:root:generating cell fractions\n",
      "INFO:root:generating marker intensities\n",
      "INFO:root:generating marker fractions\n",
      "INFO:root:Using the following threhsolds to calculate positive fraction: {'CD8': 10.0, 'Her2': 10.0, 'GATA3': 29.0, 'cKit': 10.0, 'Pan-Cytokeratin': 15.0, 'GLUT1': 6.0, 'Podoplanin': 10.0, 'HLA-DR': 12.0, 'CK14': 10.0, 'E-cadherin': 212.0, 'SMA': 10.0, 'CD3e': 10.0, 'CD11b': 10.0, 'PR': 10.0, 'ER': 10.0, 'CD31': 10.0, 'CK19': 10.0, 'CK5': 8.0, 'CTLA4': 10.0, 'CD4': 14.0, 'BCA1': 10.0}\n",
      "INFO:root:generating region features for ductal\n",
      "INFO:root:generating cell fractions\n",
      "INFO:root:generating marker intensities\n",
      "INFO:root:generating marker fractions\n",
      "INFO:root:Using the following threhsolds to calculate positive fraction: {'CD8': 10.0, 'Her2': 10.0, 'GATA3': 29.0, 'cKit': 10.0, 'Pan-Cytokeratin': 15.0, 'GLUT1': 6.0, 'Podoplanin': 10.0, 'HLA-DR': 12.0, 'CK14': 10.0, 'E-cadherin': 212.0, 'SMA': 10.0, 'CD3e': 10.0, 'CD11b': 10.0, 'PR': 10.0, 'ER': 10.0, 'CD31': 10.0, 'CK19': 10.0, 'CK5': 8.0, 'CTLA4': 10.0, 'CD4': 14.0, 'BCA1': 10.0}\n",
      "INFO:root:generating region features for myoepi\n",
      "INFO:root:generating cell fractions\n",
      "INFO:root:generating marker intensities\n",
      "INFO:root:generating marker fractions\n",
      "INFO:root:Using the following threhsolds to calculate positive fraction: {'CD8': 10.0, 'Her2': 10.0, 'GATA3': 29.0, 'cKit': 10.0, 'Pan-Cytokeratin': 15.0, 'GLUT1': 6.0, 'Podoplanin': 10.0, 'HLA-DR': 12.0, 'CK14': 10.0, 'E-cadherin': 212.0, 'SMA': 10.0, 'CD3e': 10.0, 'CD11b': 10.0, 'PR': 10.0, 'ER': 10.0, 'CD31': 10.0, 'CK19': 10.0, 'CK5': 8.0, 'CTLA4': 10.0, 'CD4': 14.0, 'BCA1': 10.0}\n",
      "INFO:root:generating region features for boundary\n",
      "INFO:root:generating cell fractions\n",
      "INFO:root:generating marker intensities\n",
      "INFO:root:generating marker fractions\n",
      "INFO:root:Using the following threhsolds to calculate positive fraction: {'CD8': 10.0, 'Her2': 10.0, 'GATA3': 29.0, 'cKit': 10.0, 'Pan-Cytokeratin': 15.0, 'GLUT1': 6.0, 'Podoplanin': 10.0, 'HLA-DR': 12.0, 'CK14': 10.0, 'E-cadherin': 212.0, 'SMA': 10.0, 'CD3e': 10.0, 'CD11b': 10.0, 'PR': 10.0, 'ER': 10.0, 'CD31': 10.0, 'CK19': 10.0, 'CK5': 8.0, 'CTLA4': 10.0, 'CD4': 14.0, 'BCA1': 10.0}\n",
      "INFO:root:generating region features for expanded\n",
      "INFO:root:generating cell fractions\n",
      "INFO:root:generating marker intensities\n",
      "INFO:root:generating marker fractions\n",
      "INFO:root:Using the following threhsolds to calculate positive fraction: {'CD8': 10.0, 'Her2': 10.0, 'GATA3': 29.0, 'cKit': 10.0, 'Pan-Cytokeratin': 15.0, 'GLUT1': 6.0, 'Podoplanin': 10.0, 'HLA-DR': 12.0, 'CK14': 10.0, 'E-cadherin': 212.0, 'SMA': 10.0, 'CD3e': 10.0, 'CD11b': 10.0, 'PR': 10.0, 'ER': 10.0, 'CD31': 10.0, 'CK19': 10.0, 'CK5': 8.0, 'CTLA4': 10.0, 'CD4': 14.0, 'BCA1': 10.0}\n"
     ]
    },
    {
     "name": "stdout",
     "output_type": "stream",
     "text": [
      "HT308B1-S1H5A4_right_05262023\n"
     ]
    },
    {
     "name": "stderr",
     "output_type": "stream",
     "text": [
      "/diskmnt/Projects/Users/estorrs/miniconda3/envs/mip/lib/python3.8/site-packages/ome_types/_convenience.py:112: FutureWarning: The default XML parser will be changing from 'xmlschema' to 'lxml' in version 0.4.0.  To silence this warning, please provide the `parser` argument, specifying either 'lxml' (to opt into the new behavior), or'xmlschema' (to retain the old behavior).\n",
      "  d = to_dict(os.fspath(xml), parser=parser, validate=validate)\n",
      "INFO:root:reading mask from /diskmnt/Projects/Users/estorrs/imaging-analysis/results/brca_subtype/revision_v1/region_masks/HT308B1-S1H5A4_right_05262023.tif\n",
      "INFO:root:generating region features for region\n",
      "INFO:root:generating cell fractions\n",
      "INFO:root:generating marker intensities\n",
      "INFO:root:generating marker fractions\n",
      "INFO:root:Using the following threhsolds to calculate positive fraction: {'CD8': 10.0, 'Her2': 10.0, 'GATA3': 15.0, 'cKit': 10.0, 'Pan-Cytokeratin': 22.0, 'GLUT1': 13.0, 'Podoplanin': 10.0, 'HLA-DR': 15.0, 'CK14': 10.0, 'SMA': 10.0, 'PR': 19.0, 'ER': 10.0, 'CD31': 10.0, 'CK19': 10.0, 'CTLA4': 10.0, 'CD4': 12.0, 'BCA1': 11.0}\n",
      "INFO:root:generating region features for ductal\n",
      "INFO:root:generating cell fractions\n",
      "INFO:root:generating marker intensities\n",
      "INFO:root:generating marker fractions\n",
      "INFO:root:Using the following threhsolds to calculate positive fraction: {'CD8': 10.0, 'Her2': 10.0, 'GATA3': 15.0, 'cKit': 10.0, 'Pan-Cytokeratin': 22.0, 'GLUT1': 13.0, 'Podoplanin': 10.0, 'HLA-DR': 15.0, 'CK14': 10.0, 'SMA': 10.0, 'PR': 19.0, 'ER': 10.0, 'CD31': 10.0, 'CK19': 10.0, 'CTLA4': 10.0, 'CD4': 12.0, 'BCA1': 11.0}\n",
      "INFO:root:generating region features for myoepi\n",
      "INFO:root:generating cell fractions\n",
      "INFO:root:generating marker intensities\n",
      "INFO:root:generating marker fractions\n",
      "INFO:root:Using the following threhsolds to calculate positive fraction: {'CD8': 10.0, 'Her2': 10.0, 'GATA3': 15.0, 'cKit': 10.0, 'Pan-Cytokeratin': 22.0, 'GLUT1': 13.0, 'Podoplanin': 10.0, 'HLA-DR': 15.0, 'CK14': 10.0, 'SMA': 10.0, 'PR': 19.0, 'ER': 10.0, 'CD31': 10.0, 'CK19': 10.0, 'CTLA4': 10.0, 'CD4': 12.0, 'BCA1': 11.0}\n",
      "INFO:root:generating region features for boundary\n",
      "INFO:root:generating cell fractions\n",
      "INFO:root:generating marker intensities\n",
      "INFO:root:generating marker fractions\n",
      "INFO:root:Using the following threhsolds to calculate positive fraction: {'CD8': 10.0, 'Her2': 10.0, 'GATA3': 15.0, 'cKit': 10.0, 'Pan-Cytokeratin': 22.0, 'GLUT1': 13.0, 'Podoplanin': 10.0, 'HLA-DR': 15.0, 'CK14': 10.0, 'SMA': 10.0, 'PR': 19.0, 'ER': 10.0, 'CD31': 10.0, 'CK19': 10.0, 'CTLA4': 10.0, 'CD4': 12.0, 'BCA1': 11.0}\n",
      "INFO:root:generating region features for expanded\n",
      "INFO:root:generating cell fractions\n",
      "INFO:root:generating marker intensities\n",
      "INFO:root:generating marker fractions\n",
      "INFO:root:Using the following threhsolds to calculate positive fraction: {'CD8': 10.0, 'Her2': 10.0, 'GATA3': 15.0, 'cKit': 10.0, 'Pan-Cytokeratin': 22.0, 'GLUT1': 13.0, 'Podoplanin': 10.0, 'HLA-DR': 15.0, 'CK14': 10.0, 'SMA': 10.0, 'PR': 19.0, 'ER': 10.0, 'CD31': 10.0, 'CK19': 10.0, 'CTLA4': 10.0, 'CD4': 12.0, 'BCA1': 11.0}\n"
     ]
    },
    {
     "name": "stdout",
     "output_type": "stream",
     "text": [
      "HT323B1_H1A1\n"
     ]
    },
    {
     "name": "stderr",
     "output_type": "stream",
     "text": [
      "/diskmnt/Projects/Users/estorrs/miniconda3/envs/mip/lib/python3.8/site-packages/ome_types/_convenience.py:112: FutureWarning: The default XML parser will be changing from 'xmlschema' to 'lxml' in version 0.4.0.  To silence this warning, please provide the `parser` argument, specifying either 'lxml' (to opt into the new behavior), or'xmlschema' (to retain the old behavior).\n",
      "  d = to_dict(os.fspath(xml), parser=parser, validate=validate)\n",
      "INFO:root:reading mask from /diskmnt/Projects/Users/estorrs/imaging-analysis/results/brca_subtype/revision_v1/region_masks/HT323B1_H1A1.tif\n",
      "INFO:root:generating region features for region\n",
      "INFO:root:generating cell fractions\n",
      "INFO:root:generating marker intensities\n",
      "INFO:root:generating marker fractions\n",
      "INFO:root:Using the following threhsolds to calculate positive fraction: {'CD31': 2000.0, 'E-cadherin': 4000.0, 'CD4': 2999.0, 'CD68': 1999.0, 'Pan-Cytokeratin': 1999.0, 'CD8': 2000.0, 'CD163': 1000.0, 'Podoplanin': 3499.0, 'CD3e': 1750.0, 'GATA3': 2000.0, 'CD45RO': 2000.0, 'SMA': 2999.0, 'FOXP3': 2999.0, 'CK17': 2000.0, 'HLA-DR': 2000.0, 'CK14': 2000.0}\n",
      "INFO:root:generating region features for ductal\n",
      "INFO:root:generating cell fractions\n",
      "INFO:root:generating marker intensities\n",
      "INFO:root:generating marker fractions\n",
      "INFO:root:Using the following threhsolds to calculate positive fraction: {'CD31': 2000.0, 'E-cadherin': 4000.0, 'CD4': 2999.0, 'CD68': 1999.0, 'Pan-Cytokeratin': 1999.0, 'CD8': 2000.0, 'CD163': 1000.0, 'Podoplanin': 3499.0, 'CD3e': 1750.0, 'GATA3': 2000.0, 'CD45RO': 2000.0, 'SMA': 2999.0, 'FOXP3': 2999.0, 'CK17': 2000.0, 'HLA-DR': 2000.0, 'CK14': 2000.0}\n",
      "INFO:root:generating region features for myoepi\n",
      "INFO:root:generating cell fractions\n",
      "INFO:root:generating marker intensities\n",
      "INFO:root:generating marker fractions\n",
      "INFO:root:Using the following threhsolds to calculate positive fraction: {'CD31': 2000.0, 'E-cadherin': 4000.0, 'CD4': 2999.0, 'CD68': 1999.0, 'Pan-Cytokeratin': 1999.0, 'CD8': 2000.0, 'CD163': 1000.0, 'Podoplanin': 3499.0, 'CD3e': 1750.0, 'GATA3': 2000.0, 'CD45RO': 2000.0, 'SMA': 2999.0, 'FOXP3': 2999.0, 'CK17': 2000.0, 'HLA-DR': 2000.0, 'CK14': 2000.0}\n",
      "INFO:root:generating region features for boundary\n",
      "INFO:root:generating cell fractions\n",
      "INFO:root:generating marker intensities\n",
      "INFO:root:generating marker fractions\n",
      "INFO:root:Using the following threhsolds to calculate positive fraction: {'CD31': 2000.0, 'E-cadherin': 4000.0, 'CD4': 2999.0, 'CD68': 1999.0, 'Pan-Cytokeratin': 1999.0, 'CD8': 2000.0, 'CD163': 1000.0, 'Podoplanin': 3499.0, 'CD3e': 1750.0, 'GATA3': 2000.0, 'CD45RO': 2000.0, 'SMA': 2999.0, 'FOXP3': 2999.0, 'CK17': 2000.0, 'HLA-DR': 2000.0, 'CK14': 2000.0}\n",
      "INFO:root:generating region features for expanded\n",
      "INFO:root:generating cell fractions\n",
      "INFO:root:generating marker intensities\n",
      "INFO:root:generating marker fractions\n",
      "INFO:root:Using the following threhsolds to calculate positive fraction: {'CD31': 2000.0, 'E-cadherin': 4000.0, 'CD4': 2999.0, 'CD68': 1999.0, 'Pan-Cytokeratin': 1999.0, 'CD8': 2000.0, 'CD163': 1000.0, 'Podoplanin': 3499.0, 'CD3e': 1750.0, 'GATA3': 2000.0, 'CD45RO': 2000.0, 'SMA': 2999.0, 'FOXP3': 2999.0, 'CK17': 2000.0, 'HLA-DR': 2000.0, 'CK14': 2000.0}\n"
     ]
    },
    {
     "name": "stdout",
     "output_type": "stream",
     "text": [
      "HT323B1_H1A4\n"
     ]
    },
    {
     "name": "stderr",
     "output_type": "stream",
     "text": [
      "/diskmnt/Projects/Users/estorrs/miniconda3/envs/mip/lib/python3.8/site-packages/ome_types/_convenience.py:112: FutureWarning: The default XML parser will be changing from 'xmlschema' to 'lxml' in version 0.4.0.  To silence this warning, please provide the `parser` argument, specifying either 'lxml' (to opt into the new behavior), or'xmlschema' (to retain the old behavior).\n",
      "  d = to_dict(os.fspath(xml), parser=parser, validate=validate)\n",
      "INFO:root:reading mask from /diskmnt/Projects/Users/estorrs/imaging-analysis/results/brca_subtype/revision_v1/region_masks/HT323B1_H1A4.tif\n",
      "INFO:root:generating region features for region\n",
      "INFO:root:generating cell fractions\n",
      "INFO:root:generating marker intensities\n",
      "INFO:root:generating marker fractions\n",
      "INFO:root:Using the following threhsolds to calculate positive fraction: {'CD31': 2000.0, 'E-cadherin': 4000.0, 'CD4': 2999.0, 'CD68': 1999.0, 'Pan-Cytokeratin': 1999.0, 'CD8': 2000.0, 'CD163': 1000.0, 'Podoplanin': 3499.0, 'CD3e': 1750.0, 'GATA3': 2000.0, 'CD45RO': 2000.0, 'SMA': 2999.0, 'FOXP3': 2999.0, 'CK17': 2000.0, 'HLA-DR': 2000.0, 'CK14': 2000.0}\n",
      "INFO:root:generating region features for ductal\n",
      "INFO:root:generating cell fractions\n",
      "INFO:root:generating marker intensities\n",
      "INFO:root:generating marker fractions\n",
      "INFO:root:Using the following threhsolds to calculate positive fraction: {'CD31': 2000.0, 'E-cadherin': 4000.0, 'CD4': 2999.0, 'CD68': 1999.0, 'Pan-Cytokeratin': 1999.0, 'CD8': 2000.0, 'CD163': 1000.0, 'Podoplanin': 3499.0, 'CD3e': 1750.0, 'GATA3': 2000.0, 'CD45RO': 2000.0, 'SMA': 2999.0, 'FOXP3': 2999.0, 'CK17': 2000.0, 'HLA-DR': 2000.0, 'CK14': 2000.0}\n",
      "INFO:root:generating region features for myoepi\n",
      "INFO:root:generating cell fractions\n",
      "INFO:root:generating marker intensities\n",
      "INFO:root:generating marker fractions\n",
      "INFO:root:Using the following threhsolds to calculate positive fraction: {'CD31': 2000.0, 'E-cadherin': 4000.0, 'CD4': 2999.0, 'CD68': 1999.0, 'Pan-Cytokeratin': 1999.0, 'CD8': 2000.0, 'CD163': 1000.0, 'Podoplanin': 3499.0, 'CD3e': 1750.0, 'GATA3': 2000.0, 'CD45RO': 2000.0, 'SMA': 2999.0, 'FOXP3': 2999.0, 'CK17': 2000.0, 'HLA-DR': 2000.0, 'CK14': 2000.0}\n",
      "INFO:root:generating region features for boundary\n",
      "INFO:root:generating cell fractions\n",
      "INFO:root:generating marker intensities\n",
      "INFO:root:generating marker fractions\n",
      "INFO:root:Using the following threhsolds to calculate positive fraction: {'CD31': 2000.0, 'E-cadherin': 4000.0, 'CD4': 2999.0, 'CD68': 1999.0, 'Pan-Cytokeratin': 1999.0, 'CD8': 2000.0, 'CD163': 1000.0, 'Podoplanin': 3499.0, 'CD3e': 1750.0, 'GATA3': 2000.0, 'CD45RO': 2000.0, 'SMA': 2999.0, 'FOXP3': 2999.0, 'CK17': 2000.0, 'HLA-DR': 2000.0, 'CK14': 2000.0}\n",
      "INFO:root:generating region features for expanded\n",
      "INFO:root:generating cell fractions\n",
      "INFO:root:generating marker intensities\n",
      "INFO:root:generating marker fractions\n",
      "INFO:root:Using the following threhsolds to calculate positive fraction: {'CD31': 2000.0, 'E-cadherin': 4000.0, 'CD4': 2999.0, 'CD68': 1999.0, 'Pan-Cytokeratin': 1999.0, 'CD8': 2000.0, 'CD163': 1000.0, 'Podoplanin': 3499.0, 'CD3e': 1750.0, 'GATA3': 2000.0, 'CD45RO': 2000.0, 'SMA': 2999.0, 'FOXP3': 2999.0, 'CK17': 2000.0, 'HLA-DR': 2000.0, 'CK14': 2000.0}\n"
     ]
    },
    {
     "name": "stdout",
     "output_type": "stream",
     "text": [
      "HT323B1_H1_08042022\n"
     ]
    },
    {
     "name": "stderr",
     "output_type": "stream",
     "text": [
      "/diskmnt/Projects/Users/estorrs/miniconda3/envs/mip/lib/python3.8/site-packages/ome_types/_convenience.py:112: FutureWarning: The default XML parser will be changing from 'xmlschema' to 'lxml' in version 0.4.0.  To silence this warning, please provide the `parser` argument, specifying either 'lxml' (to opt into the new behavior), or'xmlschema' (to retain the old behavior).\n",
      "  d = to_dict(os.fspath(xml), parser=parser, validate=validate)\n",
      "INFO:root:reading mask from /diskmnt/Projects/Users/estorrs/imaging-analysis/results/brca_subtype/revision_v1/region_masks/HT323B1_H1_08042022.tif\n",
      "INFO:root:generating region features for region\n",
      "INFO:root:generating cell fractions\n",
      "INFO:root:generating marker intensities\n",
      "INFO:root:generating marker fractions\n",
      "INFO:root:Using the following threhsolds to calculate positive fraction: {'CD31': 2000.0, 'E-cadherin': 4999.0, 'CD4': 4999.0, 'CD68': 3000.0, 'Pan-Cytokeratin': 3000.0, 'CD8': 3000.0, 'CD163': 1500.0, 'Podoplanin': 4000.0, 'CD3e': 2000.0, 'ER': 3000.0, 'SMA': 2000.0, 'PR': 3000.0, 'CK17': 3000.0, 'cKit': 3000.0, 'HLA-DR': 3000.0, 'CK14': 3000.0}\n",
      "INFO:root:generating region features for ductal\n",
      "INFO:root:generating cell fractions\n",
      "INFO:root:generating marker intensities\n",
      "INFO:root:generating marker fractions\n",
      "INFO:root:Using the following threhsolds to calculate positive fraction: {'CD31': 2000.0, 'E-cadherin': 4999.0, 'CD4': 4999.0, 'CD68': 3000.0, 'Pan-Cytokeratin': 3000.0, 'CD8': 3000.0, 'CD163': 1500.0, 'Podoplanin': 4000.0, 'CD3e': 2000.0, 'ER': 3000.0, 'SMA': 2000.0, 'PR': 3000.0, 'CK17': 3000.0, 'cKit': 3000.0, 'HLA-DR': 3000.0, 'CK14': 3000.0}\n",
      "INFO:root:generating region features for myoepi\n",
      "INFO:root:generating cell fractions\n",
      "INFO:root:generating marker intensities\n",
      "INFO:root:generating marker fractions\n",
      "INFO:root:Using the following threhsolds to calculate positive fraction: {'CD31': 2000.0, 'E-cadherin': 4999.0, 'CD4': 4999.0, 'CD68': 3000.0, 'Pan-Cytokeratin': 3000.0, 'CD8': 3000.0, 'CD163': 1500.0, 'Podoplanin': 4000.0, 'CD3e': 2000.0, 'ER': 3000.0, 'SMA': 2000.0, 'PR': 3000.0, 'CK17': 3000.0, 'cKit': 3000.0, 'HLA-DR': 3000.0, 'CK14': 3000.0}\n",
      "INFO:root:generating region features for boundary\n",
      "INFO:root:generating cell fractions\n",
      "INFO:root:generating marker intensities\n",
      "INFO:root:generating marker fractions\n",
      "INFO:root:Using the following threhsolds to calculate positive fraction: {'CD31': 2000.0, 'E-cadherin': 4999.0, 'CD4': 4999.0, 'CD68': 3000.0, 'Pan-Cytokeratin': 3000.0, 'CD8': 3000.0, 'CD163': 1500.0, 'Podoplanin': 4000.0, 'CD3e': 2000.0, 'ER': 3000.0, 'SMA': 2000.0, 'PR': 3000.0, 'CK17': 3000.0, 'cKit': 3000.0, 'HLA-DR': 3000.0, 'CK14': 3000.0}\n",
      "INFO:root:generating region features for expanded\n",
      "INFO:root:generating cell fractions\n",
      "INFO:root:generating marker intensities\n",
      "INFO:root:generating marker fractions\n",
      "INFO:root:Using the following threhsolds to calculate positive fraction: {'CD31': 2000.0, 'E-cadherin': 4999.0, 'CD4': 4999.0, 'CD68': 3000.0, 'Pan-Cytokeratin': 3000.0, 'CD8': 3000.0, 'CD163': 1500.0, 'Podoplanin': 4000.0, 'CD3e': 2000.0, 'ER': 3000.0, 'SMA': 2000.0, 'PR': 3000.0, 'CK17': 3000.0, 'cKit': 3000.0, 'HLA-DR': 3000.0, 'CK14': 3000.0}\n"
     ]
    },
    {
     "name": "stdout",
     "output_type": "stream",
     "text": [
      "HT323B1_H3\n"
     ]
    },
    {
     "name": "stderr",
     "output_type": "stream",
     "text": [
      "/diskmnt/Projects/Users/estorrs/miniconda3/envs/mip/lib/python3.8/site-packages/ome_types/_convenience.py:112: FutureWarning: The default XML parser will be changing from 'xmlschema' to 'lxml' in version 0.4.0.  To silence this warning, please provide the `parser` argument, specifying either 'lxml' (to opt into the new behavior), or'xmlschema' (to retain the old behavior).\n",
      "  d = to_dict(os.fspath(xml), parser=parser, validate=validate)\n",
      "INFO:root:reading mask from /diskmnt/Projects/Users/estorrs/imaging-analysis/results/brca_subtype/revision_v1/region_masks/HT323B1_H3.tif\n",
      "INFO:root:generating region features for region\n",
      "INFO:root:generating cell fractions\n",
      "INFO:root:generating marker intensities\n",
      "INFO:root:generating marker fractions\n",
      "INFO:root:Using the following threhsolds to calculate positive fraction: {'CD31': 4000.0, 'E-cadherin': 4000.0, 'CD4': 4000.0, 'CD68': 3000.0, 'Pan-Cytokeratin': 3000.0, 'CD8': 3000.0, 'CD163': 1200.0, 'Podoplanin': 5499.0, 'CD3e': 3000.0, 'GATA3': 2000.0, 'CD45RO': 3000.0, 'SMA': 2000.0, 'HLA-DR': 2000.0, 'CK14': 3000.0}\n",
      "INFO:root:generating region features for ductal\n",
      "INFO:root:generating cell fractions\n",
      "INFO:root:generating marker intensities\n",
      "INFO:root:generating marker fractions\n",
      "INFO:root:Using the following threhsolds to calculate positive fraction: {'CD31': 4000.0, 'E-cadherin': 4000.0, 'CD4': 4000.0, 'CD68': 3000.0, 'Pan-Cytokeratin': 3000.0, 'CD8': 3000.0, 'CD163': 1200.0, 'Podoplanin': 5499.0, 'CD3e': 3000.0, 'GATA3': 2000.0, 'CD45RO': 3000.0, 'SMA': 2000.0, 'HLA-DR': 2000.0, 'CK14': 3000.0}\n",
      "INFO:root:generating region features for myoepi\n",
      "INFO:root:generating cell fractions\n",
      "INFO:root:generating marker intensities\n",
      "INFO:root:generating marker fractions\n",
      "INFO:root:Using the following threhsolds to calculate positive fraction: {'CD31': 4000.0, 'E-cadherin': 4000.0, 'CD4': 4000.0, 'CD68': 3000.0, 'Pan-Cytokeratin': 3000.0, 'CD8': 3000.0, 'CD163': 1200.0, 'Podoplanin': 5499.0, 'CD3e': 3000.0, 'GATA3': 2000.0, 'CD45RO': 3000.0, 'SMA': 2000.0, 'HLA-DR': 2000.0, 'CK14': 3000.0}\n",
      "INFO:root:generating region features for boundary\n",
      "INFO:root:generating cell fractions\n",
      "INFO:root:generating marker intensities\n",
      "INFO:root:generating marker fractions\n",
      "INFO:root:Using the following threhsolds to calculate positive fraction: {'CD31': 4000.0, 'E-cadherin': 4000.0, 'CD4': 4000.0, 'CD68': 3000.0, 'Pan-Cytokeratin': 3000.0, 'CD8': 3000.0, 'CD163': 1200.0, 'Podoplanin': 5499.0, 'CD3e': 3000.0, 'GATA3': 2000.0, 'CD45RO': 3000.0, 'SMA': 2000.0, 'HLA-DR': 2000.0, 'CK14': 3000.0}\n",
      "INFO:root:generating region features for expanded\n",
      "INFO:root:generating cell fractions\n",
      "INFO:root:generating marker intensities\n",
      "INFO:root:generating marker fractions\n",
      "INFO:root:Using the following threhsolds to calculate positive fraction: {'CD31': 4000.0, 'E-cadherin': 4000.0, 'CD4': 4000.0, 'CD68': 3000.0, 'Pan-Cytokeratin': 3000.0, 'CD8': 3000.0, 'CD163': 1200.0, 'Podoplanin': 5499.0, 'CD3e': 3000.0, 'GATA3': 2000.0, 'CD45RO': 3000.0, 'SMA': 2000.0, 'HLA-DR': 2000.0, 'CK14': 3000.0}\n"
     ]
    },
    {
     "name": "stdout",
     "output_type": "stream",
     "text": [
      "HT339B1_H1A1\n"
     ]
    },
    {
     "name": "stderr",
     "output_type": "stream",
     "text": [
      "/diskmnt/Projects/Users/estorrs/miniconda3/envs/mip/lib/python3.8/site-packages/ome_types/_convenience.py:112: FutureWarning: The default XML parser will be changing from 'xmlschema' to 'lxml' in version 0.4.0.  To silence this warning, please provide the `parser` argument, specifying either 'lxml' (to opt into the new behavior), or'xmlschema' (to retain the old behavior).\n",
      "  d = to_dict(os.fspath(xml), parser=parser, validate=validate)\n",
      "INFO:root:reading mask from /diskmnt/Projects/Users/estorrs/imaging-analysis/results/brca_subtype/revision_v1/region_masks/HT339B1_H1A1.tif\n",
      "INFO:root:generating region features for region\n",
      "INFO:root:generating cell fractions\n",
      "INFO:root:generating marker intensities\n",
      "INFO:root:generating marker fractions\n",
      "INFO:root:Using the following threhsolds to calculate positive fraction: {'CD31': 1000.0, 'E-cadherin': 2000.0, 'CD4': 1500.0, 'CD68': 2000.0, 'Pan-Cytokeratin': 1250.0, 'CD8': 2000.0, 'Podoplanin': 2000.0, 'CD3e': 1500.0, 'GATA3': 2000.0, 'SMA': 1500.0, 'CD163': 2000.0, 'HLA-DR': 2000.0, 'CK14': 2000.0, 'cKit': 1500.0}\n",
      "INFO:root:generating region features for ductal\n",
      "INFO:root:generating cell fractions\n",
      "INFO:root:generating marker intensities\n",
      "INFO:root:generating marker fractions\n",
      "INFO:root:Using the following threhsolds to calculate positive fraction: {'CD31': 1000.0, 'E-cadherin': 2000.0, 'CD4': 1500.0, 'CD68': 2000.0, 'Pan-Cytokeratin': 1250.0, 'CD8': 2000.0, 'Podoplanin': 2000.0, 'CD3e': 1500.0, 'GATA3': 2000.0, 'SMA': 1500.0, 'CD163': 2000.0, 'HLA-DR': 2000.0, 'CK14': 2000.0, 'cKit': 1500.0}\n",
      "INFO:root:generating region features for myoepi\n",
      "INFO:root:generating cell fractions\n",
      "INFO:root:generating marker intensities\n",
      "INFO:root:generating marker fractions\n",
      "INFO:root:Using the following threhsolds to calculate positive fraction: {'CD31': 1000.0, 'E-cadherin': 2000.0, 'CD4': 1500.0, 'CD68': 2000.0, 'Pan-Cytokeratin': 1250.0, 'CD8': 2000.0, 'Podoplanin': 2000.0, 'CD3e': 1500.0, 'GATA3': 2000.0, 'SMA': 1500.0, 'CD163': 2000.0, 'HLA-DR': 2000.0, 'CK14': 2000.0, 'cKit': 1500.0}\n",
      "INFO:root:generating region features for boundary\n",
      "INFO:root:generating cell fractions\n",
      "INFO:root:generating marker intensities\n",
      "INFO:root:generating marker fractions\n",
      "INFO:root:Using the following threhsolds to calculate positive fraction: {'CD31': 1000.0, 'E-cadherin': 2000.0, 'CD4': 1500.0, 'CD68': 2000.0, 'Pan-Cytokeratin': 1250.0, 'CD8': 2000.0, 'Podoplanin': 2000.0, 'CD3e': 1500.0, 'GATA3': 2000.0, 'SMA': 1500.0, 'CD163': 2000.0, 'HLA-DR': 2000.0, 'CK14': 2000.0, 'cKit': 1500.0}\n",
      "INFO:root:generating region features for expanded\n",
      "INFO:root:generating cell fractions\n",
      "INFO:root:generating marker intensities\n",
      "INFO:root:generating marker fractions\n",
      "INFO:root:Using the following threhsolds to calculate positive fraction: {'CD31': 1000.0, 'E-cadherin': 2000.0, 'CD4': 1500.0, 'CD68': 2000.0, 'Pan-Cytokeratin': 1250.0, 'CD8': 2000.0, 'Podoplanin': 2000.0, 'CD3e': 1500.0, 'GATA3': 2000.0, 'SMA': 1500.0, 'CD163': 2000.0, 'HLA-DR': 2000.0, 'CK14': 2000.0, 'cKit': 1500.0}\n"
     ]
    },
    {
     "name": "stdout",
     "output_type": "stream",
     "text": [
      "HT339B1_H2A1\n"
     ]
    },
    {
     "name": "stderr",
     "output_type": "stream",
     "text": [
      "/diskmnt/Projects/Users/estorrs/miniconda3/envs/mip/lib/python3.8/site-packages/ome_types/_convenience.py:112: FutureWarning: The default XML parser will be changing from 'xmlschema' to 'lxml' in version 0.4.0.  To silence this warning, please provide the `parser` argument, specifying either 'lxml' (to opt into the new behavior), or'xmlschema' (to retain the old behavior).\n",
      "  d = to_dict(os.fspath(xml), parser=parser, validate=validate)\n",
      "INFO:root:reading mask from /diskmnt/Projects/Users/estorrs/imaging-analysis/results/brca_subtype/revision_v1/region_masks/HT339B1_H2A1.tif\n",
      "INFO:root:generating region features for region\n",
      "INFO:root:generating cell fractions\n",
      "INFO:root:generating marker intensities\n",
      "INFO:root:generating marker fractions\n",
      "INFO:root:Using the following threhsolds to calculate positive fraction: {'CD31': 1000.0, 'E-cadherin': 3000.0, 'CD4': 1500.0, 'CD68': 2000.0, 'Pan-Cytokeratin': 1250.0, 'CD8': 2000.0, 'Podoplanin': 2000.0, 'CD3e': 1500.0, 'GATA3': 2000.0, 'SMA': 1500.0, 'CD163': 2000.0, 'HLA-DR': 2000.0, 'CK14': 2000.0, 'cKit': 1500.0}\n",
      "INFO:root:generating region features for ductal\n",
      "INFO:root:generating cell fractions\n",
      "INFO:root:generating marker intensities\n",
      "INFO:root:generating marker fractions\n",
      "INFO:root:Using the following threhsolds to calculate positive fraction: {'CD31': 1000.0, 'E-cadherin': 3000.0, 'CD4': 1500.0, 'CD68': 2000.0, 'Pan-Cytokeratin': 1250.0, 'CD8': 2000.0, 'Podoplanin': 2000.0, 'CD3e': 1500.0, 'GATA3': 2000.0, 'SMA': 1500.0, 'CD163': 2000.0, 'HLA-DR': 2000.0, 'CK14': 2000.0, 'cKit': 1500.0}\n",
      "INFO:root:generating region features for myoepi\n",
      "INFO:root:generating cell fractions\n",
      "INFO:root:generating marker intensities\n",
      "INFO:root:generating marker fractions\n",
      "INFO:root:Using the following threhsolds to calculate positive fraction: {'CD31': 1000.0, 'E-cadherin': 3000.0, 'CD4': 1500.0, 'CD68': 2000.0, 'Pan-Cytokeratin': 1250.0, 'CD8': 2000.0, 'Podoplanin': 2000.0, 'CD3e': 1500.0, 'GATA3': 2000.0, 'SMA': 1500.0, 'CD163': 2000.0, 'HLA-DR': 2000.0, 'CK14': 2000.0, 'cKit': 1500.0}\n",
      "INFO:root:generating region features for boundary\n",
      "INFO:root:generating cell fractions\n",
      "INFO:root:generating marker intensities\n",
      "INFO:root:generating marker fractions\n",
      "INFO:root:Using the following threhsolds to calculate positive fraction: {'CD31': 1000.0, 'E-cadherin': 3000.0, 'CD4': 1500.0, 'CD68': 2000.0, 'Pan-Cytokeratin': 1250.0, 'CD8': 2000.0, 'Podoplanin': 2000.0, 'CD3e': 1500.0, 'GATA3': 2000.0, 'SMA': 1500.0, 'CD163': 2000.0, 'HLA-DR': 2000.0, 'CK14': 2000.0, 'cKit': 1500.0}\n",
      "INFO:root:generating region features for expanded\n",
      "INFO:root:generating cell fractions\n",
      "INFO:root:generating marker intensities\n",
      "INFO:root:generating marker fractions\n",
      "INFO:root:Using the following threhsolds to calculate positive fraction: {'CD31': 1000.0, 'E-cadherin': 3000.0, 'CD4': 1500.0, 'CD68': 2000.0, 'Pan-Cytokeratin': 1250.0, 'CD8': 2000.0, 'Podoplanin': 2000.0, 'CD3e': 1500.0, 'GATA3': 2000.0, 'SMA': 1500.0, 'CD163': 2000.0, 'HLA-DR': 2000.0, 'CK14': 2000.0, 'cKit': 1500.0}\n"
     ]
    },
    {
     "name": "stdout",
     "output_type": "stream",
     "text": [
      "HT339B2-H2_U1_07012023\n"
     ]
    },
    {
     "name": "stderr",
     "output_type": "stream",
     "text": [
      "/diskmnt/Projects/Users/estorrs/miniconda3/envs/mip/lib/python3.8/site-packages/ome_types/_convenience.py:112: FutureWarning: The default XML parser will be changing from 'xmlschema' to 'lxml' in version 0.4.0.  To silence this warning, please provide the `parser` argument, specifying either 'lxml' (to opt into the new behavior), or'xmlschema' (to retain the old behavior).\n",
      "  d = to_dict(os.fspath(xml), parser=parser, validate=validate)\n",
      "INFO:root:reading mask from /diskmnt/Projects/Users/estorrs/imaging-analysis/results/brca_subtype/revision_v1/region_masks/HT339B2-H2_U1_07012023.tif\n",
      "INFO:root:generating region features for region\n",
      "INFO:root:generating cell fractions\n",
      "INFO:root:generating marker intensities\n",
      "INFO:root:generating marker fractions\n",
      "INFO:root:Using the following threhsolds to calculate positive fraction: {'CD8': 10.0, 'Her2': 15.0, 'GATA3': 40.0, 'cKit': 10.0, 'GLUT1': 10.0, 'Podoplanin': 10.0, 'HLA-DR': 12.0, 'CK14': 12.0, 'E-cadherin': 10.0, 'SMA': 10.0, 'CD3e': 39.0, 'CD31': 10.0, 'PR': 39.0, 'CD45': 39.0, 'ER': 10.0, 'Granzyme-B': 24.0, 'CTLA4': 10.0, 'CD4': 19.0}\n",
      "INFO:root:generating region features for ductal\n",
      "INFO:root:generating cell fractions\n",
      "INFO:root:generating marker intensities\n",
      "INFO:root:generating marker fractions\n",
      "INFO:root:Using the following threhsolds to calculate positive fraction: {'CD8': 10.0, 'Her2': 15.0, 'GATA3': 40.0, 'cKit': 10.0, 'GLUT1': 10.0, 'Podoplanin': 10.0, 'HLA-DR': 12.0, 'CK14': 12.0, 'E-cadherin': 10.0, 'SMA': 10.0, 'CD3e': 39.0, 'CD31': 10.0, 'PR': 39.0, 'CD45': 39.0, 'ER': 10.0, 'Granzyme-B': 24.0, 'CTLA4': 10.0, 'CD4': 19.0}\n",
      "INFO:root:generating region features for myoepi\n",
      "INFO:root:generating cell fractions\n",
      "INFO:root:generating marker intensities\n",
      "INFO:root:generating marker fractions\n",
      "INFO:root:Using the following threhsolds to calculate positive fraction: {'CD8': 10.0, 'Her2': 15.0, 'GATA3': 40.0, 'cKit': 10.0, 'GLUT1': 10.0, 'Podoplanin': 10.0, 'HLA-DR': 12.0, 'CK14': 12.0, 'E-cadherin': 10.0, 'SMA': 10.0, 'CD3e': 39.0, 'CD31': 10.0, 'PR': 39.0, 'CD45': 39.0, 'ER': 10.0, 'Granzyme-B': 24.0, 'CTLA4': 10.0, 'CD4': 19.0}\n",
      "INFO:root:generating region features for boundary\n",
      "INFO:root:generating cell fractions\n",
      "INFO:root:generating marker intensities\n",
      "INFO:root:generating marker fractions\n",
      "INFO:root:Using the following threhsolds to calculate positive fraction: {'CD8': 10.0, 'Her2': 15.0, 'GATA3': 40.0, 'cKit': 10.0, 'GLUT1': 10.0, 'Podoplanin': 10.0, 'HLA-DR': 12.0, 'CK14': 12.0, 'E-cadherin': 10.0, 'SMA': 10.0, 'CD3e': 39.0, 'CD31': 10.0, 'PR': 39.0, 'CD45': 39.0, 'ER': 10.0, 'Granzyme-B': 24.0, 'CTLA4': 10.0, 'CD4': 19.0}\n",
      "INFO:root:generating region features for expanded\n",
      "INFO:root:generating cell fractions\n",
      "INFO:root:generating marker intensities\n",
      "INFO:root:generating marker fractions\n",
      "INFO:root:Using the following threhsolds to calculate positive fraction: {'CD8': 10.0, 'Her2': 15.0, 'GATA3': 40.0, 'cKit': 10.0, 'GLUT1': 10.0, 'Podoplanin': 10.0, 'HLA-DR': 12.0, 'CK14': 12.0, 'E-cadherin': 10.0, 'SMA': 10.0, 'CD3e': 39.0, 'CD31': 10.0, 'PR': 39.0, 'CD45': 39.0, 'ER': 10.0, 'Granzyme-B': 24.0, 'CTLA4': 10.0, 'CD4': 19.0}\n"
     ]
    },
    {
     "name": "stdout",
     "output_type": "stream",
     "text": [
      "HT339B2-H2_U2_07012023\n"
     ]
    },
    {
     "name": "stderr",
     "output_type": "stream",
     "text": [
      "/diskmnt/Projects/Users/estorrs/miniconda3/envs/mip/lib/python3.8/site-packages/ome_types/_convenience.py:112: FutureWarning: The default XML parser will be changing from 'xmlschema' to 'lxml' in version 0.4.0.  To silence this warning, please provide the `parser` argument, specifying either 'lxml' (to opt into the new behavior), or'xmlschema' (to retain the old behavior).\n",
      "  d = to_dict(os.fspath(xml), parser=parser, validate=validate)\n",
      "INFO:root:reading mask from /diskmnt/Projects/Users/estorrs/imaging-analysis/results/brca_subtype/revision_v1/region_masks/HT339B2-H2_U2_07012023.tif\n",
      "INFO:root:generating region features for region\n",
      "INFO:root:generating cell fractions\n",
      "INFO:root:generating marker intensities\n",
      "INFO:root:generating marker fractions\n",
      "INFO:root:Using the following threhsolds to calculate positive fraction: {'CD8': 10.0, 'Her2': 15.0, 'GATA3': 40.0, 'cKit': 10.0, 'GLUT1': 10.0, 'Podoplanin': 10.0, 'HLA-DR': 12.0, 'CK14': 12.0, 'E-cadherin': 10.0, 'SMA': 10.0, 'CD3e': 39.0, 'CD31': 10.0, 'PR': 39.0, 'CD45': 39.0, 'ER': 10.0, 'Granzyme-B': 24.0, 'CTLA4': 10.0, 'CD4': 19.0}\n",
      "INFO:root:generating region features for ductal\n",
      "INFO:root:generating cell fractions\n",
      "INFO:root:generating marker intensities\n",
      "INFO:root:generating marker fractions\n",
      "INFO:root:Using the following threhsolds to calculate positive fraction: {'CD8': 10.0, 'Her2': 15.0, 'GATA3': 40.0, 'cKit': 10.0, 'GLUT1': 10.0, 'Podoplanin': 10.0, 'HLA-DR': 12.0, 'CK14': 12.0, 'E-cadherin': 10.0, 'SMA': 10.0, 'CD3e': 39.0, 'CD31': 10.0, 'PR': 39.0, 'CD45': 39.0, 'ER': 10.0, 'Granzyme-B': 24.0, 'CTLA4': 10.0, 'CD4': 19.0}\n",
      "INFO:root:generating region features for myoepi\n",
      "INFO:root:generating cell fractions\n",
      "INFO:root:generating marker intensities\n",
      "INFO:root:generating marker fractions\n",
      "INFO:root:Using the following threhsolds to calculate positive fraction: {'CD8': 10.0, 'Her2': 15.0, 'GATA3': 40.0, 'cKit': 10.0, 'GLUT1': 10.0, 'Podoplanin': 10.0, 'HLA-DR': 12.0, 'CK14': 12.0, 'E-cadherin': 10.0, 'SMA': 10.0, 'CD3e': 39.0, 'CD31': 10.0, 'PR': 39.0, 'CD45': 39.0, 'ER': 10.0, 'Granzyme-B': 24.0, 'CTLA4': 10.0, 'CD4': 19.0}\n",
      "INFO:root:generating region features for boundary\n",
      "INFO:root:generating cell fractions\n",
      "INFO:root:generating marker intensities\n",
      "INFO:root:generating marker fractions\n",
      "INFO:root:Using the following threhsolds to calculate positive fraction: {'CD8': 10.0, 'Her2': 15.0, 'GATA3': 40.0, 'cKit': 10.0, 'GLUT1': 10.0, 'Podoplanin': 10.0, 'HLA-DR': 12.0, 'CK14': 12.0, 'E-cadherin': 10.0, 'SMA': 10.0, 'CD3e': 39.0, 'CD31': 10.0, 'PR': 39.0, 'CD45': 39.0, 'ER': 10.0, 'Granzyme-B': 24.0, 'CTLA4': 10.0, 'CD4': 19.0}\n",
      "INFO:root:generating region features for expanded\n",
      "INFO:root:generating cell fractions\n",
      "INFO:root:generating marker intensities\n",
      "INFO:root:generating marker fractions\n",
      "INFO:root:Using the following threhsolds to calculate positive fraction: {'CD8': 10.0, 'Her2': 15.0, 'GATA3': 40.0, 'cKit': 10.0, 'GLUT1': 10.0, 'Podoplanin': 10.0, 'HLA-DR': 12.0, 'CK14': 12.0, 'E-cadherin': 10.0, 'SMA': 10.0, 'CD3e': 39.0, 'CD31': 10.0, 'PR': 39.0, 'CD45': 39.0, 'ER': 10.0, 'Granzyme-B': 24.0, 'CTLA4': 10.0, 'CD4': 19.0}\n"
     ]
    },
    {
     "name": "stdout",
     "output_type": "stream",
     "text": [
      "HT365B1_S1H1_02132023\n"
     ]
    },
    {
     "name": "stderr",
     "output_type": "stream",
     "text": [
      "/diskmnt/Projects/Users/estorrs/miniconda3/envs/mip/lib/python3.8/site-packages/ome_types/_convenience.py:112: FutureWarning: The default XML parser will be changing from 'xmlschema' to 'lxml' in version 0.4.0.  To silence this warning, please provide the `parser` argument, specifying either 'lxml' (to opt into the new behavior), or'xmlschema' (to retain the old behavior).\n",
      "  d = to_dict(os.fspath(xml), parser=parser, validate=validate)\n",
      "INFO:root:reading mask from /diskmnt/Projects/Users/estorrs/imaging-analysis/results/brca_subtype/revision_v1/region_masks/HT365B1_S1H1_02132023.tif\n",
      "INFO:root:generating region features for region\n",
      "INFO:root:generating cell fractions\n",
      "INFO:root:generating marker intensities\n",
      "INFO:root:generating marker fractions\n",
      "INFO:root:Using the following threhsolds to calculate positive fraction: {'CD8': 10.0, 'Her2': 14.0, 'GATA3': 19.0, 'cKit': 10.0, 'Pan-Cytokeratin': 35.0, 'GLUT1': 30.0, 'Podoplanin': 10.0, 'CK17': 10.0, 'HLA-DR': 29.0, 'CK14': 20.0, 'FOXP3': 7.0, 'CD20': 10.0, 'SMA': 10.0, 'CD68': 45.0, 'CD3e': 19.0, 'PR': 19.0, 'CD45': 75.0, 'ER': 10.0, 'CK19': 10.0}\n",
      "INFO:root:generating region features for ductal\n",
      "INFO:root:generating cell fractions\n",
      "INFO:root:generating marker intensities\n",
      "INFO:root:generating marker fractions\n",
      "INFO:root:Using the following threhsolds to calculate positive fraction: {'CD8': 10.0, 'Her2': 14.0, 'GATA3': 19.0, 'cKit': 10.0, 'Pan-Cytokeratin': 35.0, 'GLUT1': 30.0, 'Podoplanin': 10.0, 'CK17': 10.0, 'HLA-DR': 29.0, 'CK14': 20.0, 'FOXP3': 7.0, 'CD20': 10.0, 'SMA': 10.0, 'CD68': 45.0, 'CD3e': 19.0, 'PR': 19.0, 'CD45': 75.0, 'ER': 10.0, 'CK19': 10.0}\n",
      "INFO:root:generating region features for myoepi\n",
      "INFO:root:generating cell fractions\n",
      "INFO:root:generating marker intensities\n",
      "INFO:root:generating marker fractions\n",
      "INFO:root:Using the following threhsolds to calculate positive fraction: {'CD8': 10.0, 'Her2': 14.0, 'GATA3': 19.0, 'cKit': 10.0, 'Pan-Cytokeratin': 35.0, 'GLUT1': 30.0, 'Podoplanin': 10.0, 'CK17': 10.0, 'HLA-DR': 29.0, 'CK14': 20.0, 'FOXP3': 7.0, 'CD20': 10.0, 'SMA': 10.0, 'CD68': 45.0, 'CD3e': 19.0, 'PR': 19.0, 'CD45': 75.0, 'ER': 10.0, 'CK19': 10.0}\n",
      "INFO:root:generating region features for boundary\n",
      "INFO:root:generating cell fractions\n",
      "INFO:root:generating marker intensities\n",
      "INFO:root:generating marker fractions\n",
      "INFO:root:Using the following threhsolds to calculate positive fraction: {'CD8': 10.0, 'Her2': 14.0, 'GATA3': 19.0, 'cKit': 10.0, 'Pan-Cytokeratin': 35.0, 'GLUT1': 30.0, 'Podoplanin': 10.0, 'CK17': 10.0, 'HLA-DR': 29.0, 'CK14': 20.0, 'FOXP3': 7.0, 'CD20': 10.0, 'SMA': 10.0, 'CD68': 45.0, 'CD3e': 19.0, 'PR': 19.0, 'CD45': 75.0, 'ER': 10.0, 'CK19': 10.0}\n",
      "INFO:root:generating region features for expanded\n",
      "INFO:root:generating cell fractions\n",
      "INFO:root:generating marker intensities\n",
      "INFO:root:generating marker fractions\n",
      "INFO:root:Using the following threhsolds to calculate positive fraction: {'CD8': 10.0, 'Her2': 14.0, 'GATA3': 19.0, 'cKit': 10.0, 'Pan-Cytokeratin': 35.0, 'GLUT1': 30.0, 'Podoplanin': 10.0, 'CK17': 10.0, 'HLA-DR': 29.0, 'CK14': 20.0, 'FOXP3': 7.0, 'CD20': 10.0, 'SMA': 10.0, 'CD68': 45.0, 'CD3e': 19.0, 'PR': 19.0, 'CD45': 75.0, 'ER': 10.0, 'CK19': 10.0}\n"
     ]
    },
    {
     "name": "stdout",
     "output_type": "stream",
     "text": [
      "HT397B1_H2A2\n"
     ]
    },
    {
     "name": "stderr",
     "output_type": "stream",
     "text": [
      "/diskmnt/Projects/Users/estorrs/miniconda3/envs/mip/lib/python3.8/site-packages/ome_types/_convenience.py:112: FutureWarning: The default XML parser will be changing from 'xmlschema' to 'lxml' in version 0.4.0.  To silence this warning, please provide the `parser` argument, specifying either 'lxml' (to opt into the new behavior), or'xmlschema' (to retain the old behavior).\n",
      "  d = to_dict(os.fspath(xml), parser=parser, validate=validate)\n",
      "INFO:root:reading mask from /diskmnt/Projects/Users/estorrs/imaging-analysis/results/brca_subtype/revision_v1/region_masks/HT397B1_H2A2.tif\n",
      "INFO:root:generating region features for region\n",
      "INFO:root:generating cell fractions\n",
      "INFO:root:generating marker intensities\n",
      "INFO:root:generating marker fractions\n",
      "INFO:root:Using the following threhsolds to calculate positive fraction: {'CD31': 1500.0, 'E-cadherin': 5000.0, 'CD4': 4000.0, 'CD68': 4000.0, 'Pan-Cytokeratin': 2500.0, 'CD8': 1500.0, 'CD163': 1250.0, 'Podoplanin': 4000.0, 'CD3e': 1500.0, 'GATA3': 2000.0, 'CD45RO': 2500.0, 'SMA': 2000.0, 'FOXP3': 2500.0, 'HLA-DR': 2000.0, 'CK14': 3000.0, 'cKit': 2000.0}\n",
      "INFO:root:generating region features for ductal\n",
      "INFO:root:generating cell fractions\n",
      "INFO:root:generating marker intensities\n",
      "INFO:root:generating marker fractions\n",
      "INFO:root:Using the following threhsolds to calculate positive fraction: {'CD31': 1500.0, 'E-cadherin': 5000.0, 'CD4': 4000.0, 'CD68': 4000.0, 'Pan-Cytokeratin': 2500.0, 'CD8': 1500.0, 'CD163': 1250.0, 'Podoplanin': 4000.0, 'CD3e': 1500.0, 'GATA3': 2000.0, 'CD45RO': 2500.0, 'SMA': 2000.0, 'FOXP3': 2500.0, 'HLA-DR': 2000.0, 'CK14': 3000.0, 'cKit': 2000.0}\n",
      "INFO:root:generating region features for myoepi\n",
      "INFO:root:generating cell fractions\n",
      "INFO:root:generating marker intensities\n",
      "INFO:root:generating marker fractions\n",
      "INFO:root:Using the following threhsolds to calculate positive fraction: {'CD31': 1500.0, 'E-cadherin': 5000.0, 'CD4': 4000.0, 'CD68': 4000.0, 'Pan-Cytokeratin': 2500.0, 'CD8': 1500.0, 'CD163': 1250.0, 'Podoplanin': 4000.0, 'CD3e': 1500.0, 'GATA3': 2000.0, 'CD45RO': 2500.0, 'SMA': 2000.0, 'FOXP3': 2500.0, 'HLA-DR': 2000.0, 'CK14': 3000.0, 'cKit': 2000.0}\n",
      "INFO:root:generating region features for boundary\n",
      "INFO:root:generating cell fractions\n",
      "INFO:root:generating marker intensities\n",
      "INFO:root:generating marker fractions\n",
      "INFO:root:Using the following threhsolds to calculate positive fraction: {'CD31': 1500.0, 'E-cadherin': 5000.0, 'CD4': 4000.0, 'CD68': 4000.0, 'Pan-Cytokeratin': 2500.0, 'CD8': 1500.0, 'CD163': 1250.0, 'Podoplanin': 4000.0, 'CD3e': 1500.0, 'GATA3': 2000.0, 'CD45RO': 2500.0, 'SMA': 2000.0, 'FOXP3': 2500.0, 'HLA-DR': 2000.0, 'CK14': 3000.0, 'cKit': 2000.0}\n",
      "INFO:root:generating region features for expanded\n",
      "INFO:root:generating cell fractions\n",
      "INFO:root:generating marker intensities\n",
      "INFO:root:generating marker fractions\n",
      "INFO:root:Using the following threhsolds to calculate positive fraction: {'CD31': 1500.0, 'E-cadherin': 5000.0, 'CD4': 4000.0, 'CD68': 4000.0, 'Pan-Cytokeratin': 2500.0, 'CD8': 1500.0, 'CD163': 1250.0, 'Podoplanin': 4000.0, 'CD3e': 1500.0, 'GATA3': 2000.0, 'CD45RO': 2500.0, 'SMA': 2000.0, 'FOXP3': 2500.0, 'HLA-DR': 2000.0, 'CK14': 3000.0, 'cKit': 2000.0}\n"
     ]
    },
    {
     "name": "stdout",
     "output_type": "stream",
     "text": [
      "HT397B1_H3A1\n"
     ]
    },
    {
     "name": "stderr",
     "output_type": "stream",
     "text": [
      "/diskmnt/Projects/Users/estorrs/miniconda3/envs/mip/lib/python3.8/site-packages/ome_types/_convenience.py:112: FutureWarning: The default XML parser will be changing from 'xmlschema' to 'lxml' in version 0.4.0.  To silence this warning, please provide the `parser` argument, specifying either 'lxml' (to opt into the new behavior), or'xmlschema' (to retain the old behavior).\n",
      "  d = to_dict(os.fspath(xml), parser=parser, validate=validate)\n",
      "INFO:root:reading mask from /diskmnt/Projects/Users/estorrs/imaging-analysis/results/brca_subtype/revision_v1/region_masks/HT397B1_H3A1.tif\n",
      "INFO:root:generating region features for region\n",
      "INFO:root:generating cell fractions\n",
      "INFO:root:generating marker intensities\n",
      "INFO:root:generating marker fractions\n",
      "INFO:root:Using the following threhsolds to calculate positive fraction: {'CD31': 1500.0, 'E-cadherin': 5000.0, 'CD4': 4000.0, 'CD68': 4000.0, 'Pan-Cytokeratin': 2500.0, 'CD8': 1500.0, 'CD163': 1250.0, 'Podoplanin': 4000.0, 'CD3e': 1500.0, 'GATA3': 2000.0, 'CD45RO': 2500.0, 'SMA': 2000.0, 'FOXP3': 2500.0, 'HLA-DR': 2000.0, 'CK14': 3000.0, 'cKit': 2000.0}\n",
      "INFO:root:generating region features for ductal\n",
      "INFO:root:generating cell fractions\n",
      "INFO:root:generating marker intensities\n",
      "INFO:root:generating marker fractions\n",
      "INFO:root:Using the following threhsolds to calculate positive fraction: {'CD31': 1500.0, 'E-cadherin': 5000.0, 'CD4': 4000.0, 'CD68': 4000.0, 'Pan-Cytokeratin': 2500.0, 'CD8': 1500.0, 'CD163': 1250.0, 'Podoplanin': 4000.0, 'CD3e': 1500.0, 'GATA3': 2000.0, 'CD45RO': 2500.0, 'SMA': 2000.0, 'FOXP3': 2500.0, 'HLA-DR': 2000.0, 'CK14': 3000.0, 'cKit': 2000.0}\n",
      "INFO:root:generating region features for myoepi\n",
      "INFO:root:generating cell fractions\n",
      "INFO:root:generating marker intensities\n",
      "INFO:root:generating marker fractions\n",
      "INFO:root:Using the following threhsolds to calculate positive fraction: {'CD31': 1500.0, 'E-cadherin': 5000.0, 'CD4': 4000.0, 'CD68': 4000.0, 'Pan-Cytokeratin': 2500.0, 'CD8': 1500.0, 'CD163': 1250.0, 'Podoplanin': 4000.0, 'CD3e': 1500.0, 'GATA3': 2000.0, 'CD45RO': 2500.0, 'SMA': 2000.0, 'FOXP3': 2500.0, 'HLA-DR': 2000.0, 'CK14': 3000.0, 'cKit': 2000.0}\n",
      "INFO:root:generating region features for boundary\n",
      "INFO:root:generating cell fractions\n",
      "INFO:root:generating marker intensities\n",
      "INFO:root:generating marker fractions\n",
      "INFO:root:Using the following threhsolds to calculate positive fraction: {'CD31': 1500.0, 'E-cadherin': 5000.0, 'CD4': 4000.0, 'CD68': 4000.0, 'Pan-Cytokeratin': 2500.0, 'CD8': 1500.0, 'CD163': 1250.0, 'Podoplanin': 4000.0, 'CD3e': 1500.0, 'GATA3': 2000.0, 'CD45RO': 2500.0, 'SMA': 2000.0, 'FOXP3': 2500.0, 'HLA-DR': 2000.0, 'CK14': 3000.0, 'cKit': 2000.0}\n",
      "INFO:root:generating region features for expanded\n",
      "INFO:root:generating cell fractions\n",
      "INFO:root:generating marker intensities\n",
      "INFO:root:generating marker fractions\n",
      "INFO:root:Using the following threhsolds to calculate positive fraction: {'CD31': 1500.0, 'E-cadherin': 5000.0, 'CD4': 4000.0, 'CD68': 4000.0, 'Pan-Cytokeratin': 2500.0, 'CD8': 1500.0, 'CD163': 1250.0, 'Podoplanin': 4000.0, 'CD3e': 1500.0, 'GATA3': 2000.0, 'CD45RO': 2500.0, 'SMA': 2000.0, 'FOXP3': 2500.0, 'HLA-DR': 2000.0, 'CK14': 3000.0, 'cKit': 2000.0}\n"
     ]
    },
    {
     "name": "stdout",
     "output_type": "stream",
     "text": [
      "HT397B1_S1H1A3U22_04122023\n"
     ]
    },
    {
     "name": "stderr",
     "output_type": "stream",
     "text": [
      "/diskmnt/Projects/Users/estorrs/miniconda3/envs/mip/lib/python3.8/site-packages/ome_types/_convenience.py:112: FutureWarning: The default XML parser will be changing from 'xmlschema' to 'lxml' in version 0.4.0.  To silence this warning, please provide the `parser` argument, specifying either 'lxml' (to opt into the new behavior), or'xmlschema' (to retain the old behavior).\n",
      "  d = to_dict(os.fspath(xml), parser=parser, validate=validate)\n",
      "INFO:root:reading mask from /diskmnt/Projects/Users/estorrs/imaging-analysis/results/brca_subtype/revision_v1/region_masks/HT397B1_S1H1A3U22_04122023.tif\n",
      "INFO:root:generating region features for region\n",
      "INFO:root:generating cell fractions\n",
      "INFO:root:generating marker intensities\n",
      "INFO:root:generating marker fractions\n",
      "INFO:root:Using the following threhsolds to calculate positive fraction: {'CD8': 10.0, 'Her2': 15.0, 'GATA3': 59.0, 'cKit': 10.0, 'Pan-Cytokeratin': 18.0, 'GLUT1': 15.0, 'Podoplanin': 8.0, 'HLA-DR': 12.0, 'CK14': 10.0, 'FOXP3': 8.0, 'E-cadherin': 20.0, 'SMA': 10.0, 'CD3e': 15.0, 'Ki67': 10.0, 'CD11b': 10.0, 'PR': 59.0, 'CD45': 20.0, 'ER': 10.0, 'CD31': 10.0, 'CK19': 10.0}\n",
      "INFO:root:generating region features for ductal\n",
      "INFO:root:generating cell fractions\n",
      "INFO:root:generating marker intensities\n",
      "INFO:root:generating marker fractions\n",
      "INFO:root:Using the following threhsolds to calculate positive fraction: {'CD8': 10.0, 'Her2': 15.0, 'GATA3': 59.0, 'cKit': 10.0, 'Pan-Cytokeratin': 18.0, 'GLUT1': 15.0, 'Podoplanin': 8.0, 'HLA-DR': 12.0, 'CK14': 10.0, 'FOXP3': 8.0, 'E-cadherin': 20.0, 'SMA': 10.0, 'CD3e': 15.0, 'Ki67': 10.0, 'CD11b': 10.0, 'PR': 59.0, 'CD45': 20.0, 'ER': 10.0, 'CD31': 10.0, 'CK19': 10.0}\n",
      "INFO:root:generating region features for myoepi\n",
      "INFO:root:generating cell fractions\n",
      "INFO:root:generating marker intensities\n",
      "INFO:root:generating marker fractions\n",
      "INFO:root:Using the following threhsolds to calculate positive fraction: {'CD8': 10.0, 'Her2': 15.0, 'GATA3': 59.0, 'cKit': 10.0, 'Pan-Cytokeratin': 18.0, 'GLUT1': 15.0, 'Podoplanin': 8.0, 'HLA-DR': 12.0, 'CK14': 10.0, 'FOXP3': 8.0, 'E-cadherin': 20.0, 'SMA': 10.0, 'CD3e': 15.0, 'Ki67': 10.0, 'CD11b': 10.0, 'PR': 59.0, 'CD45': 20.0, 'ER': 10.0, 'CD31': 10.0, 'CK19': 10.0}\n",
      "INFO:root:generating region features for boundary\n",
      "INFO:root:generating cell fractions\n",
      "INFO:root:generating marker intensities\n",
      "INFO:root:generating marker fractions\n",
      "INFO:root:Using the following threhsolds to calculate positive fraction: {'CD8': 10.0, 'Her2': 15.0, 'GATA3': 59.0, 'cKit': 10.0, 'Pan-Cytokeratin': 18.0, 'GLUT1': 15.0, 'Podoplanin': 8.0, 'HLA-DR': 12.0, 'CK14': 10.0, 'FOXP3': 8.0, 'E-cadherin': 20.0, 'SMA': 10.0, 'CD3e': 15.0, 'Ki67': 10.0, 'CD11b': 10.0, 'PR': 59.0, 'CD45': 20.0, 'ER': 10.0, 'CD31': 10.0, 'CK19': 10.0}\n",
      "INFO:root:generating region features for expanded\n",
      "INFO:root:generating cell fractions\n",
      "INFO:root:generating marker intensities\n",
      "INFO:root:generating marker fractions\n",
      "INFO:root:Using the following threhsolds to calculate positive fraction: {'CD8': 10.0, 'Her2': 15.0, 'GATA3': 59.0, 'cKit': 10.0, 'Pan-Cytokeratin': 18.0, 'GLUT1': 15.0, 'Podoplanin': 8.0, 'HLA-DR': 12.0, 'CK14': 10.0, 'FOXP3': 8.0, 'E-cadherin': 20.0, 'SMA': 10.0, 'CD3e': 15.0, 'Ki67': 10.0, 'CD11b': 10.0, 'PR': 59.0, 'CD45': 20.0, 'ER': 10.0, 'CD31': 10.0, 'CK19': 10.0}\n"
     ]
    },
    {
     "name": "stdout",
     "output_type": "stream",
     "text": [
      "HT397B1_S1H1A3U31_04062023\n"
     ]
    },
    {
     "name": "stderr",
     "output_type": "stream",
     "text": [
      "/diskmnt/Projects/Users/estorrs/miniconda3/envs/mip/lib/python3.8/site-packages/ome_types/_convenience.py:112: FutureWarning: The default XML parser will be changing from 'xmlschema' to 'lxml' in version 0.4.0.  To silence this warning, please provide the `parser` argument, specifying either 'lxml' (to opt into the new behavior), or'xmlschema' (to retain the old behavior).\n",
      "  d = to_dict(os.fspath(xml), parser=parser, validate=validate)\n",
      "INFO:root:reading mask from /diskmnt/Projects/Users/estorrs/imaging-analysis/results/brca_subtype/revision_v1/region_masks/HT397B1_S1H1A3U31_04062023.tif\n",
      "INFO:root:generating region features for region\n",
      "INFO:root:generating cell fractions\n",
      "INFO:root:generating marker intensities\n",
      "INFO:root:generating marker fractions\n",
      "INFO:root:Using the following threhsolds to calculate positive fraction: {'CD8': 10.0, 'Her2': 15.0, 'GATA3': 59.0, 'cKit': 10.0, 'Pan-Cytokeratin': 50.0, 'GLUT1': 14.0, 'Podoplanin': 8.0, 'HLA-DR': 12.0, 'CK14': 10.0, 'FOXP3': 8.0, 'SMA': 10.0, 'CD3e': 40.0, 'Ki67': 20.0, 'PR': 59.0, 'CD45': 20.0, 'ER': 30.0, 'CD31': 10.0, 'CK19': 10.0}\n",
      "INFO:root:generating region features for ductal\n",
      "INFO:root:generating cell fractions\n",
      "INFO:root:generating marker intensities\n",
      "INFO:root:generating marker fractions\n",
      "INFO:root:Using the following threhsolds to calculate positive fraction: {'CD8': 10.0, 'Her2': 15.0, 'GATA3': 59.0, 'cKit': 10.0, 'Pan-Cytokeratin': 50.0, 'GLUT1': 14.0, 'Podoplanin': 8.0, 'HLA-DR': 12.0, 'CK14': 10.0, 'FOXP3': 8.0, 'SMA': 10.0, 'CD3e': 40.0, 'Ki67': 20.0, 'PR': 59.0, 'CD45': 20.0, 'ER': 30.0, 'CD31': 10.0, 'CK19': 10.0}\n",
      "INFO:root:generating region features for myoepi\n",
      "INFO:root:generating cell fractions\n",
      "INFO:root:generating marker intensities\n",
      "INFO:root:generating marker fractions\n",
      "INFO:root:Using the following threhsolds to calculate positive fraction: {'CD8': 10.0, 'Her2': 15.0, 'GATA3': 59.0, 'cKit': 10.0, 'Pan-Cytokeratin': 50.0, 'GLUT1': 14.0, 'Podoplanin': 8.0, 'HLA-DR': 12.0, 'CK14': 10.0, 'FOXP3': 8.0, 'SMA': 10.0, 'CD3e': 40.0, 'Ki67': 20.0, 'PR': 59.0, 'CD45': 20.0, 'ER': 30.0, 'CD31': 10.0, 'CK19': 10.0}\n",
      "INFO:root:generating region features for boundary\n",
      "INFO:root:generating cell fractions\n",
      "INFO:root:generating marker intensities\n",
      "INFO:root:generating marker fractions\n",
      "INFO:root:Using the following threhsolds to calculate positive fraction: {'CD8': 10.0, 'Her2': 15.0, 'GATA3': 59.0, 'cKit': 10.0, 'Pan-Cytokeratin': 50.0, 'GLUT1': 14.0, 'Podoplanin': 8.0, 'HLA-DR': 12.0, 'CK14': 10.0, 'FOXP3': 8.0, 'SMA': 10.0, 'CD3e': 40.0, 'Ki67': 20.0, 'PR': 59.0, 'CD45': 20.0, 'ER': 30.0, 'CD31': 10.0, 'CK19': 10.0}\n",
      "INFO:root:generating region features for expanded\n",
      "INFO:root:generating cell fractions\n",
      "INFO:root:generating marker intensities\n",
      "INFO:root:generating marker fractions\n",
      "INFO:root:Using the following threhsolds to calculate positive fraction: {'CD8': 10.0, 'Her2': 15.0, 'GATA3': 59.0, 'cKit': 10.0, 'Pan-Cytokeratin': 50.0, 'GLUT1': 14.0, 'Podoplanin': 8.0, 'HLA-DR': 12.0, 'CK14': 10.0, 'FOXP3': 8.0, 'SMA': 10.0, 'CD3e': 40.0, 'Ki67': 20.0, 'PR': 59.0, 'CD45': 20.0, 'ER': 30.0, 'CD31': 10.0, 'CK19': 10.0}\n"
     ]
    },
    {
     "name": "stdout",
     "output_type": "stream",
     "text": [
      "HT397B1_U12_03172023\n"
     ]
    },
    {
     "name": "stderr",
     "output_type": "stream",
     "text": [
      "/diskmnt/Projects/Users/estorrs/miniconda3/envs/mip/lib/python3.8/site-packages/ome_types/_convenience.py:112: FutureWarning: The default XML parser will be changing from 'xmlschema' to 'lxml' in version 0.4.0.  To silence this warning, please provide the `parser` argument, specifying either 'lxml' (to opt into the new behavior), or'xmlschema' (to retain the old behavior).\n",
      "  d = to_dict(os.fspath(xml), parser=parser, validate=validate)\n",
      "INFO:root:reading mask from /diskmnt/Projects/Users/estorrs/imaging-analysis/results/brca_subtype/revision_v1/region_masks/HT397B1_U12_03172023.tif\n",
      "INFO:root:generating region features for region\n",
      "INFO:root:generating cell fractions\n",
      "INFO:root:generating marker intensities\n",
      "INFO:root:generating marker fractions\n",
      "INFO:root:Using the following threhsolds to calculate positive fraction: {'CD8': 10.0, 'Her2': 15.0, 'GATA3': 59.0, 'cKit': 10.0, 'Pan-Cytokeratin': 46.0, 'GLUT1': 14.0, 'Podoplanin': 10.0, 'HLA-DR': 12.0, 'CK14': 10.0, 'FOXP3': 8.0, 'CD20': 10.0, 'SMA': 10.0, 'Ki67': 10.0, 'PR': 59.0, 'CD45': 20.0, 'ER': 80.0, 'CD31': 10.0, 'CK19': 10.0}\n",
      "INFO:root:generating region features for ductal\n",
      "INFO:root:generating cell fractions\n",
      "INFO:root:generating marker intensities\n",
      "INFO:root:generating marker fractions\n",
      "INFO:root:Using the following threhsolds to calculate positive fraction: {'CD8': 10.0, 'Her2': 15.0, 'GATA3': 59.0, 'cKit': 10.0, 'Pan-Cytokeratin': 46.0, 'GLUT1': 14.0, 'Podoplanin': 10.0, 'HLA-DR': 12.0, 'CK14': 10.0, 'FOXP3': 8.0, 'CD20': 10.0, 'SMA': 10.0, 'Ki67': 10.0, 'PR': 59.0, 'CD45': 20.0, 'ER': 80.0, 'CD31': 10.0, 'CK19': 10.0}\n",
      "INFO:root:generating region features for myoepi\n",
      "INFO:root:generating cell fractions\n",
      "INFO:root:generating marker intensities\n",
      "INFO:root:generating marker fractions\n",
      "INFO:root:Using the following threhsolds to calculate positive fraction: {'CD8': 10.0, 'Her2': 15.0, 'GATA3': 59.0, 'cKit': 10.0, 'Pan-Cytokeratin': 46.0, 'GLUT1': 14.0, 'Podoplanin': 10.0, 'HLA-DR': 12.0, 'CK14': 10.0, 'FOXP3': 8.0, 'CD20': 10.0, 'SMA': 10.0, 'Ki67': 10.0, 'PR': 59.0, 'CD45': 20.0, 'ER': 80.0, 'CD31': 10.0, 'CK19': 10.0}\n",
      "INFO:root:generating region features for boundary\n",
      "INFO:root:generating cell fractions\n",
      "INFO:root:generating marker intensities\n",
      "INFO:root:generating marker fractions\n",
      "INFO:root:Using the following threhsolds to calculate positive fraction: {'CD8': 10.0, 'Her2': 15.0, 'GATA3': 59.0, 'cKit': 10.0, 'Pan-Cytokeratin': 46.0, 'GLUT1': 14.0, 'Podoplanin': 10.0, 'HLA-DR': 12.0, 'CK14': 10.0, 'FOXP3': 8.0, 'CD20': 10.0, 'SMA': 10.0, 'Ki67': 10.0, 'PR': 59.0, 'CD45': 20.0, 'ER': 80.0, 'CD31': 10.0, 'CK19': 10.0}\n",
      "INFO:root:generating region features for expanded\n",
      "INFO:root:generating cell fractions\n",
      "INFO:root:generating marker intensities\n",
      "INFO:root:generating marker fractions\n",
      "INFO:root:Using the following threhsolds to calculate positive fraction: {'CD8': 10.0, 'Her2': 15.0, 'GATA3': 59.0, 'cKit': 10.0, 'Pan-Cytokeratin': 46.0, 'GLUT1': 14.0, 'Podoplanin': 10.0, 'HLA-DR': 12.0, 'CK14': 10.0, 'FOXP3': 8.0, 'CD20': 10.0, 'SMA': 10.0, 'Ki67': 10.0, 'PR': 59.0, 'CD45': 20.0, 'ER': 80.0, 'CD31': 10.0, 'CK19': 10.0}\n"
     ]
    },
    {
     "name": "stdout",
     "output_type": "stream",
     "text": [
      "HT397B1_U2_03162023\n"
     ]
    },
    {
     "name": "stderr",
     "output_type": "stream",
     "text": [
      "/diskmnt/Projects/Users/estorrs/miniconda3/envs/mip/lib/python3.8/site-packages/ome_types/_convenience.py:112: FutureWarning: The default XML parser will be changing from 'xmlschema' to 'lxml' in version 0.4.0.  To silence this warning, please provide the `parser` argument, specifying either 'lxml' (to opt into the new behavior), or'xmlschema' (to retain the old behavior).\n",
      "  d = to_dict(os.fspath(xml), parser=parser, validate=validate)\n",
      "INFO:root:reading mask from /diskmnt/Projects/Users/estorrs/imaging-analysis/results/brca_subtype/revision_v1/region_masks/HT397B1_U2_03162023.tif\n",
      "INFO:root:generating region features for region\n",
      "INFO:root:generating cell fractions\n",
      "INFO:root:generating marker intensities\n",
      "INFO:root:generating marker fractions\n",
      "INFO:root:Using the following threhsolds to calculate positive fraction: {'CD8': 10.0, 'Her2': 15.0, 'GATA3': 59.0, 'cKit': 10.0, 'Pan-Cytokeratin': 46.0, 'GLUT1': 14.0, 'Podoplanin': 10.0, 'HLA-DR': 12.0, 'CK14': 10.0, 'FOXP3': 8.0, 'CD20': 10.0, 'SMA': 10.0, 'Ki67': 10.0, 'PR': 59.0, 'CD45': 20.0, 'ER': 80.0, 'CD31': 10.0, 'CK19': 10.0}\n",
      "INFO:root:generating region features for ductal\n",
      "INFO:root:generating cell fractions\n",
      "INFO:root:generating marker intensities\n",
      "INFO:root:generating marker fractions\n",
      "INFO:root:Using the following threhsolds to calculate positive fraction: {'CD8': 10.0, 'Her2': 15.0, 'GATA3': 59.0, 'cKit': 10.0, 'Pan-Cytokeratin': 46.0, 'GLUT1': 14.0, 'Podoplanin': 10.0, 'HLA-DR': 12.0, 'CK14': 10.0, 'FOXP3': 8.0, 'CD20': 10.0, 'SMA': 10.0, 'Ki67': 10.0, 'PR': 59.0, 'CD45': 20.0, 'ER': 80.0, 'CD31': 10.0, 'CK19': 10.0}\n",
      "INFO:root:generating region features for myoepi\n",
      "INFO:root:generating cell fractions\n",
      "INFO:root:generating marker intensities\n",
      "INFO:root:generating marker fractions\n",
      "INFO:root:Using the following threhsolds to calculate positive fraction: {'CD8': 10.0, 'Her2': 15.0, 'GATA3': 59.0, 'cKit': 10.0, 'Pan-Cytokeratin': 46.0, 'GLUT1': 14.0, 'Podoplanin': 10.0, 'HLA-DR': 12.0, 'CK14': 10.0, 'FOXP3': 8.0, 'CD20': 10.0, 'SMA': 10.0, 'Ki67': 10.0, 'PR': 59.0, 'CD45': 20.0, 'ER': 80.0, 'CD31': 10.0, 'CK19': 10.0}\n",
      "INFO:root:generating region features for boundary\n",
      "INFO:root:generating cell fractions\n",
      "INFO:root:generating marker intensities\n",
      "INFO:root:generating marker fractions\n",
      "INFO:root:Using the following threhsolds to calculate positive fraction: {'CD8': 10.0, 'Her2': 15.0, 'GATA3': 59.0, 'cKit': 10.0, 'Pan-Cytokeratin': 46.0, 'GLUT1': 14.0, 'Podoplanin': 10.0, 'HLA-DR': 12.0, 'CK14': 10.0, 'FOXP3': 8.0, 'CD20': 10.0, 'SMA': 10.0, 'Ki67': 10.0, 'PR': 59.0, 'CD45': 20.0, 'ER': 80.0, 'CD31': 10.0, 'CK19': 10.0}\n",
      "INFO:root:generating region features for expanded\n",
      "INFO:root:generating cell fractions\n",
      "INFO:root:generating marker intensities\n",
      "INFO:root:generating marker fractions\n",
      "INFO:root:Using the following threhsolds to calculate positive fraction: {'CD8': 10.0, 'Her2': 15.0, 'GATA3': 59.0, 'cKit': 10.0, 'Pan-Cytokeratin': 46.0, 'GLUT1': 14.0, 'Podoplanin': 10.0, 'HLA-DR': 12.0, 'CK14': 10.0, 'FOXP3': 8.0, 'CD20': 10.0, 'SMA': 10.0, 'Ki67': 10.0, 'PR': 59.0, 'CD45': 20.0, 'ER': 80.0, 'CD31': 10.0, 'CK19': 10.0}\n"
     ]
    },
    {
     "name": "stdout",
     "output_type": "stream",
     "text": [
      "HT480B1_S1H2_R001\n"
     ]
    },
    {
     "name": "stderr",
     "output_type": "stream",
     "text": [
      "/diskmnt/Projects/Users/estorrs/miniconda3/envs/mip/lib/python3.8/site-packages/ome_types/_convenience.py:112: FutureWarning: The default XML parser will be changing from 'xmlschema' to 'lxml' in version 0.4.0.  To silence this warning, please provide the `parser` argument, specifying either 'lxml' (to opt into the new behavior), or'xmlschema' (to retain the old behavior).\n",
      "  d = to_dict(os.fspath(xml), parser=parser, validate=validate)\n",
      "INFO:root:reading mask from /diskmnt/Projects/Users/estorrs/imaging-analysis/results/brca_subtype/revision_v1/region_masks/HT480B1_S1H2_R001.tif\n",
      "INFO:root:generating region features for region\n",
      "INFO:root:generating cell fractions\n",
      "INFO:root:generating marker intensities\n",
      "INFO:root:generating marker fractions\n",
      "INFO:root:Using the following threhsolds to calculate positive fraction: {'CD31': 1999.0, 'E-cadherin': 5000.0, 'CD4': 4000.0, 'Pan-Cytokeratin': 6000.0, 'cKit': 14999.0, 'Podoplanin': 8000.0, 'CD3e': 4000.0, 'GATA3': 9999.0, 'SMA': 2000.0, 'CK14': 2500.0, 'CD20': 4000.0, 'CD8': 3499.0, 'HLA-DR': 4000.0, 'CD68': 6000.0, 'PR': 8000.0, 'ER': 20000.0}\n",
      "INFO:root:generating region features for ductal\n",
      "INFO:root:generating cell fractions\n",
      "INFO:root:generating marker intensities\n",
      "INFO:root:generating marker fractions\n",
      "INFO:root:Using the following threhsolds to calculate positive fraction: {'CD31': 1999.0, 'E-cadherin': 5000.0, 'CD4': 4000.0, 'Pan-Cytokeratin': 6000.0, 'cKit': 14999.0, 'Podoplanin': 8000.0, 'CD3e': 4000.0, 'GATA3': 9999.0, 'SMA': 2000.0, 'CK14': 2500.0, 'CD20': 4000.0, 'CD8': 3499.0, 'HLA-DR': 4000.0, 'CD68': 6000.0, 'PR': 8000.0, 'ER': 20000.0}\n",
      "INFO:root:generating region features for myoepi\n",
      "INFO:root:generating cell fractions\n",
      "INFO:root:generating marker intensities\n",
      "INFO:root:generating marker fractions\n",
      "INFO:root:Using the following threhsolds to calculate positive fraction: {'CD31': 1999.0, 'E-cadherin': 5000.0, 'CD4': 4000.0, 'Pan-Cytokeratin': 6000.0, 'cKit': 14999.0, 'Podoplanin': 8000.0, 'CD3e': 4000.0, 'GATA3': 9999.0, 'SMA': 2000.0, 'CK14': 2500.0, 'CD20': 4000.0, 'CD8': 3499.0, 'HLA-DR': 4000.0, 'CD68': 6000.0, 'PR': 8000.0, 'ER': 20000.0}\n",
      "INFO:root:generating region features for boundary\n",
      "INFO:root:generating cell fractions\n",
      "INFO:root:generating marker intensities\n",
      "INFO:root:generating marker fractions\n",
      "INFO:root:Using the following threhsolds to calculate positive fraction: {'CD31': 1999.0, 'E-cadherin': 5000.0, 'CD4': 4000.0, 'Pan-Cytokeratin': 6000.0, 'cKit': 14999.0, 'Podoplanin': 8000.0, 'CD3e': 4000.0, 'GATA3': 9999.0, 'SMA': 2000.0, 'CK14': 2500.0, 'CD20': 4000.0, 'CD8': 3499.0, 'HLA-DR': 4000.0, 'CD68': 6000.0, 'PR': 8000.0, 'ER': 20000.0}\n",
      "INFO:root:generating region features for expanded\n",
      "INFO:root:generating cell fractions\n",
      "INFO:root:generating marker intensities\n",
      "INFO:root:generating marker fractions\n",
      "INFO:root:Using the following threhsolds to calculate positive fraction: {'CD31': 1999.0, 'E-cadherin': 5000.0, 'CD4': 4000.0, 'Pan-Cytokeratin': 6000.0, 'cKit': 14999.0, 'Podoplanin': 8000.0, 'CD3e': 4000.0, 'GATA3': 9999.0, 'SMA': 2000.0, 'CK14': 2500.0, 'CD20': 4000.0, 'CD8': 3499.0, 'HLA-DR': 4000.0, 'CD68': 6000.0, 'PR': 8000.0, 'ER': 20000.0}\n"
     ]
    },
    {
     "name": "stdout",
     "output_type": "stream",
     "text": [
      "HT480B1_S1H2_R002\n"
     ]
    },
    {
     "name": "stderr",
     "output_type": "stream",
     "text": [
      "/diskmnt/Projects/Users/estorrs/miniconda3/envs/mip/lib/python3.8/site-packages/ome_types/_convenience.py:112: FutureWarning: The default XML parser will be changing from 'xmlschema' to 'lxml' in version 0.4.0.  To silence this warning, please provide the `parser` argument, specifying either 'lxml' (to opt into the new behavior), or'xmlschema' (to retain the old behavior).\n",
      "  d = to_dict(os.fspath(xml), parser=parser, validate=validate)\n",
      "INFO:root:reading mask from /diskmnt/Projects/Users/estorrs/imaging-analysis/results/brca_subtype/revision_v1/region_masks/HT480B1_S1H2_R002.tif\n",
      "INFO:root:generating region features for region\n",
      "INFO:root:generating cell fractions\n",
      "INFO:root:generating marker intensities\n",
      "INFO:root:generating marker fractions\n",
      "INFO:root:Using the following threhsolds to calculate positive fraction: {'CD31': 1999.0, 'E-cadherin': 5000.0, 'CD4': 4000.0, 'Pan-Cytokeratin': 6000.0, 'cKit': 14999.0, 'Podoplanin': 8000.0, 'CD3e': 4000.0, 'GATA3': 9999.0, 'SMA': 2000.0, 'CK14': 2500.0, 'CD20': 4000.0, 'CD8': 3499.0, 'HLA-DR': 4000.0, 'CD68': 6000.0, 'PR': 8000.0, 'ER': 20000.0}\n",
      "INFO:root:generating region features for ductal\n",
      "INFO:root:generating cell fractions\n",
      "INFO:root:generating marker intensities\n",
      "INFO:root:generating marker fractions\n",
      "INFO:root:Using the following threhsolds to calculate positive fraction: {'CD31': 1999.0, 'E-cadherin': 5000.0, 'CD4': 4000.0, 'Pan-Cytokeratin': 6000.0, 'cKit': 14999.0, 'Podoplanin': 8000.0, 'CD3e': 4000.0, 'GATA3': 9999.0, 'SMA': 2000.0, 'CK14': 2500.0, 'CD20': 4000.0, 'CD8': 3499.0, 'HLA-DR': 4000.0, 'CD68': 6000.0, 'PR': 8000.0, 'ER': 20000.0}\n",
      "INFO:root:generating region features for myoepi\n",
      "INFO:root:generating cell fractions\n",
      "INFO:root:generating marker intensities\n",
      "INFO:root:generating marker fractions\n",
      "INFO:root:Using the following threhsolds to calculate positive fraction: {'CD31': 1999.0, 'E-cadherin': 5000.0, 'CD4': 4000.0, 'Pan-Cytokeratin': 6000.0, 'cKit': 14999.0, 'Podoplanin': 8000.0, 'CD3e': 4000.0, 'GATA3': 9999.0, 'SMA': 2000.0, 'CK14': 2500.0, 'CD20': 4000.0, 'CD8': 3499.0, 'HLA-DR': 4000.0, 'CD68': 6000.0, 'PR': 8000.0, 'ER': 20000.0}\n",
      "INFO:root:generating region features for boundary\n",
      "INFO:root:generating cell fractions\n",
      "INFO:root:generating marker intensities\n",
      "INFO:root:generating marker fractions\n",
      "INFO:root:Using the following threhsolds to calculate positive fraction: {'CD31': 1999.0, 'E-cadherin': 5000.0, 'CD4': 4000.0, 'Pan-Cytokeratin': 6000.0, 'cKit': 14999.0, 'Podoplanin': 8000.0, 'CD3e': 4000.0, 'GATA3': 9999.0, 'SMA': 2000.0, 'CK14': 2500.0, 'CD20': 4000.0, 'CD8': 3499.0, 'HLA-DR': 4000.0, 'CD68': 6000.0, 'PR': 8000.0, 'ER': 20000.0}\n",
      "INFO:root:generating region features for expanded\n",
      "INFO:root:generating cell fractions\n",
      "INFO:root:generating marker intensities\n",
      "INFO:root:generating marker fractions\n",
      "INFO:root:Using the following threhsolds to calculate positive fraction: {'CD31': 1999.0, 'E-cadherin': 5000.0, 'CD4': 4000.0, 'Pan-Cytokeratin': 6000.0, 'cKit': 14999.0, 'Podoplanin': 8000.0, 'CD3e': 4000.0, 'GATA3': 9999.0, 'SMA': 2000.0, 'CK14': 2500.0, 'CD20': 4000.0, 'CD8': 3499.0, 'HLA-DR': 4000.0, 'CD68': 6000.0, 'PR': 8000.0, 'ER': 20000.0}\n"
     ]
    },
    {
     "name": "stdout",
     "output_type": "stream",
     "text": [
      "HT565B1-H2_04262023\n"
     ]
    },
    {
     "name": "stderr",
     "output_type": "stream",
     "text": [
      "/diskmnt/Projects/Users/estorrs/miniconda3/envs/mip/lib/python3.8/site-packages/ome_types/_convenience.py:112: FutureWarning: The default XML parser will be changing from 'xmlschema' to 'lxml' in version 0.4.0.  To silence this warning, please provide the `parser` argument, specifying either 'lxml' (to opt into the new behavior), or'xmlschema' (to retain the old behavior).\n",
      "  d = to_dict(os.fspath(xml), parser=parser, validate=validate)\n",
      "INFO:root:reading mask from /diskmnt/Projects/Users/estorrs/imaging-analysis/results/brca_subtype/revision_v1/region_masks/HT565B1-H2_04262023.tif\n",
      "INFO:root:generating region features for region\n",
      "INFO:root:generating cell fractions\n",
      "INFO:root:generating marker intensities\n",
      "INFO:root:generating marker fractions\n",
      "INFO:root:Using the following threhsolds to calculate positive fraction: {'CD8': 10.0, 'Her2': 10.0, 'GATA3': 19.0, 'cKit': 10.0, 'Pan-Cytokeratin': 12.0, 'GLUT1': 15.0, 'Podoplanin': 10.0, 'HLA-DR': 12.0, 'SMA': 10.0, 'CD3e': 34.0, 'PR': 49.0, 'ER': 15.0, 'CD31': 10.0, 'CK19': 10.0, 'CTLA4': 10.0, 'CD4': 40.0}\n",
      "INFO:root:generating region features for ductal\n",
      "INFO:root:generating cell fractions\n",
      "INFO:root:generating marker intensities\n",
      "INFO:root:generating marker fractions\n",
      "INFO:root:Using the following threhsolds to calculate positive fraction: {'CD8': 10.0, 'Her2': 10.0, 'GATA3': 19.0, 'cKit': 10.0, 'Pan-Cytokeratin': 12.0, 'GLUT1': 15.0, 'Podoplanin': 10.0, 'HLA-DR': 12.0, 'SMA': 10.0, 'CD3e': 34.0, 'PR': 49.0, 'ER': 15.0, 'CD31': 10.0, 'CK19': 10.0, 'CTLA4': 10.0, 'CD4': 40.0}\n",
      "INFO:root:generating region features for myoepi\n",
      "INFO:root:generating cell fractions\n",
      "INFO:root:generating marker intensities\n",
      "INFO:root:generating marker fractions\n",
      "INFO:root:Using the following threhsolds to calculate positive fraction: {'CD8': 10.0, 'Her2': 10.0, 'GATA3': 19.0, 'cKit': 10.0, 'Pan-Cytokeratin': 12.0, 'GLUT1': 15.0, 'Podoplanin': 10.0, 'HLA-DR': 12.0, 'SMA': 10.0, 'CD3e': 34.0, 'PR': 49.0, 'ER': 15.0, 'CD31': 10.0, 'CK19': 10.0, 'CTLA4': 10.0, 'CD4': 40.0}\n",
      "INFO:root:generating region features for boundary\n",
      "INFO:root:generating cell fractions\n",
      "INFO:root:generating marker intensities\n",
      "INFO:root:generating marker fractions\n",
      "INFO:root:Using the following threhsolds to calculate positive fraction: {'CD8': 10.0, 'Her2': 10.0, 'GATA3': 19.0, 'cKit': 10.0, 'Pan-Cytokeratin': 12.0, 'GLUT1': 15.0, 'Podoplanin': 10.0, 'HLA-DR': 12.0, 'SMA': 10.0, 'CD3e': 34.0, 'PR': 49.0, 'ER': 15.0, 'CD31': 10.0, 'CK19': 10.0, 'CTLA4': 10.0, 'CD4': 40.0}\n",
      "INFO:root:generating region features for expanded\n",
      "INFO:root:generating cell fractions\n",
      "INFO:root:generating marker intensities\n",
      "INFO:root:generating marker fractions\n",
      "INFO:root:Using the following threhsolds to calculate positive fraction: {'CD8': 10.0, 'Her2': 10.0, 'GATA3': 19.0, 'cKit': 10.0, 'Pan-Cytokeratin': 12.0, 'GLUT1': 15.0, 'Podoplanin': 10.0, 'HLA-DR': 12.0, 'SMA': 10.0, 'CD3e': 34.0, 'PR': 49.0, 'ER': 15.0, 'CD31': 10.0, 'CK19': 10.0, 'CTLA4': 10.0, 'CD4': 40.0}\n"
     ]
    },
    {
     "name": "stdout",
     "output_type": "stream",
     "text": [
      "HT565B1-S1H2_U1_07012023\n"
     ]
    },
    {
     "name": "stderr",
     "output_type": "stream",
     "text": [
      "/diskmnt/Projects/Users/estorrs/miniconda3/envs/mip/lib/python3.8/site-packages/ome_types/_convenience.py:112: FutureWarning: The default XML parser will be changing from 'xmlschema' to 'lxml' in version 0.4.0.  To silence this warning, please provide the `parser` argument, specifying either 'lxml' (to opt into the new behavior), or'xmlschema' (to retain the old behavior).\n",
      "  d = to_dict(os.fspath(xml), parser=parser, validate=validate)\n",
      "INFO:root:reading mask from /diskmnt/Projects/Users/estorrs/imaging-analysis/results/brca_subtype/revision_v1/region_masks/HT565B1-S1H2_U1_07012023.tif\n",
      "INFO:root:generating region features for region\n",
      "INFO:root:generating cell fractions\n",
      "INFO:root:generating marker intensities\n",
      "INFO:root:generating marker fractions\n",
      "INFO:root:Using the following threhsolds to calculate positive fraction: {'CD8': 10.0, 'Her2': 15.0, 'GATA3': 40.0, 'cKit': 10.0, 'GLUT1': 10.0, 'Podoplanin': 10.0, 'HLA-DR': 12.0, 'CK14': 12.0, 'E-cadherin': 10.0, 'SMA': 10.0, 'CD3e': 39.0, 'CD31': 10.0, 'PR': 39.0, 'CD45': 39.0, 'ER': 10.0, 'Granzyme-B': 24.0, 'CTLA4': 10.0, 'CD4': 19.0}\n",
      "INFO:root:generating region features for ductal\n",
      "INFO:root:generating cell fractions\n",
      "INFO:root:generating marker intensities\n",
      "INFO:root:generating marker fractions\n",
      "INFO:root:Using the following threhsolds to calculate positive fraction: {'CD8': 10.0, 'Her2': 15.0, 'GATA3': 40.0, 'cKit': 10.0, 'GLUT1': 10.0, 'Podoplanin': 10.0, 'HLA-DR': 12.0, 'CK14': 12.0, 'E-cadherin': 10.0, 'SMA': 10.0, 'CD3e': 39.0, 'CD31': 10.0, 'PR': 39.0, 'CD45': 39.0, 'ER': 10.0, 'Granzyme-B': 24.0, 'CTLA4': 10.0, 'CD4': 19.0}\n",
      "INFO:root:generating region features for myoepi\n",
      "INFO:root:generating cell fractions\n",
      "INFO:root:generating marker intensities\n",
      "INFO:root:generating marker fractions\n",
      "INFO:root:Using the following threhsolds to calculate positive fraction: {'CD8': 10.0, 'Her2': 15.0, 'GATA3': 40.0, 'cKit': 10.0, 'GLUT1': 10.0, 'Podoplanin': 10.0, 'HLA-DR': 12.0, 'CK14': 12.0, 'E-cadherin': 10.0, 'SMA': 10.0, 'CD3e': 39.0, 'CD31': 10.0, 'PR': 39.0, 'CD45': 39.0, 'ER': 10.0, 'Granzyme-B': 24.0, 'CTLA4': 10.0, 'CD4': 19.0}\n",
      "INFO:root:generating region features for boundary\n",
      "INFO:root:generating cell fractions\n",
      "INFO:root:generating marker intensities\n",
      "INFO:root:generating marker fractions\n",
      "INFO:root:Using the following threhsolds to calculate positive fraction: {'CD8': 10.0, 'Her2': 15.0, 'GATA3': 40.0, 'cKit': 10.0, 'GLUT1': 10.0, 'Podoplanin': 10.0, 'HLA-DR': 12.0, 'CK14': 12.0, 'E-cadherin': 10.0, 'SMA': 10.0, 'CD3e': 39.0, 'CD31': 10.0, 'PR': 39.0, 'CD45': 39.0, 'ER': 10.0, 'Granzyme-B': 24.0, 'CTLA4': 10.0, 'CD4': 19.0}\n",
      "INFO:root:generating region features for expanded\n",
      "INFO:root:generating cell fractions\n",
      "INFO:root:generating marker intensities\n",
      "INFO:root:generating marker fractions\n",
      "INFO:root:Using the following threhsolds to calculate positive fraction: {'CD8': 10.0, 'Her2': 15.0, 'GATA3': 40.0, 'cKit': 10.0, 'GLUT1': 10.0, 'Podoplanin': 10.0, 'HLA-DR': 12.0, 'CK14': 12.0, 'E-cadherin': 10.0, 'SMA': 10.0, 'CD3e': 39.0, 'CD31': 10.0, 'PR': 39.0, 'CD45': 39.0, 'ER': 10.0, 'Granzyme-B': 24.0, 'CTLA4': 10.0, 'CD4': 19.0}\n"
     ]
    },
    {
     "name": "stdout",
     "output_type": "stream",
     "text": [
      "HT565B1-S1H2_U2_07012023\n"
     ]
    },
    {
     "name": "stderr",
     "output_type": "stream",
     "text": [
      "/diskmnt/Projects/Users/estorrs/miniconda3/envs/mip/lib/python3.8/site-packages/ome_types/_convenience.py:112: FutureWarning: The default XML parser will be changing from 'xmlschema' to 'lxml' in version 0.4.0.  To silence this warning, please provide the `parser` argument, specifying either 'lxml' (to opt into the new behavior), or'xmlschema' (to retain the old behavior).\n",
      "  d = to_dict(os.fspath(xml), parser=parser, validate=validate)\n",
      "INFO:root:reading mask from /diskmnt/Projects/Users/estorrs/imaging-analysis/results/brca_subtype/revision_v1/region_masks/HT565B1-S1H2_U2_07012023.tif\n",
      "INFO:root:generating region features for region\n",
      "INFO:root:generating cell fractions\n",
      "INFO:root:generating marker intensities\n",
      "INFO:root:generating marker fractions\n",
      "INFO:root:Using the following threhsolds to calculate positive fraction: {'CD8': 10.0, 'Her2': 15.0, 'GATA3': 40.0, 'cKit': 10.0, 'GLUT1': 10.0, 'Podoplanin': 10.0, 'HLA-DR': 12.0, 'CK14': 12.0, 'E-cadherin': 10.0, 'SMA': 10.0, 'CD3e': 39.0, 'CD31': 10.0, 'PR': 39.0, 'CD45': 39.0, 'ER': 10.0, 'Granzyme-B': 24.0, 'CTLA4': 10.0, 'CD4': 19.0}\n",
      "INFO:root:generating region features for ductal\n",
      "INFO:root:generating cell fractions\n",
      "INFO:root:generating marker intensities\n",
      "INFO:root:generating marker fractions\n",
      "INFO:root:Using the following threhsolds to calculate positive fraction: {'CD8': 10.0, 'Her2': 15.0, 'GATA3': 40.0, 'cKit': 10.0, 'GLUT1': 10.0, 'Podoplanin': 10.0, 'HLA-DR': 12.0, 'CK14': 12.0, 'E-cadherin': 10.0, 'SMA': 10.0, 'CD3e': 39.0, 'CD31': 10.0, 'PR': 39.0, 'CD45': 39.0, 'ER': 10.0, 'Granzyme-B': 24.0, 'CTLA4': 10.0, 'CD4': 19.0}\n",
      "INFO:root:generating region features for myoepi\n",
      "INFO:root:generating cell fractions\n",
      "INFO:root:generating marker intensities\n",
      "INFO:root:generating marker fractions\n",
      "INFO:root:Using the following threhsolds to calculate positive fraction: {'CD8': 10.0, 'Her2': 15.0, 'GATA3': 40.0, 'cKit': 10.0, 'GLUT1': 10.0, 'Podoplanin': 10.0, 'HLA-DR': 12.0, 'CK14': 12.0, 'E-cadherin': 10.0, 'SMA': 10.0, 'CD3e': 39.0, 'CD31': 10.0, 'PR': 39.0, 'CD45': 39.0, 'ER': 10.0, 'Granzyme-B': 24.0, 'CTLA4': 10.0, 'CD4': 19.0}\n",
      "INFO:root:generating region features for boundary\n",
      "INFO:root:generating cell fractions\n",
      "INFO:root:generating marker intensities\n",
      "INFO:root:generating marker fractions\n",
      "INFO:root:Using the following threhsolds to calculate positive fraction: {'CD8': 10.0, 'Her2': 15.0, 'GATA3': 40.0, 'cKit': 10.0, 'GLUT1': 10.0, 'Podoplanin': 10.0, 'HLA-DR': 12.0, 'CK14': 12.0, 'E-cadherin': 10.0, 'SMA': 10.0, 'CD3e': 39.0, 'CD31': 10.0, 'PR': 39.0, 'CD45': 39.0, 'ER': 10.0, 'Granzyme-B': 24.0, 'CTLA4': 10.0, 'CD4': 19.0}\n",
      "INFO:root:generating region features for expanded\n",
      "INFO:root:generating cell fractions\n",
      "INFO:root:generating marker intensities\n",
      "INFO:root:generating marker fractions\n",
      "INFO:root:Using the following threhsolds to calculate positive fraction: {'CD8': 10.0, 'Her2': 15.0, 'GATA3': 40.0, 'cKit': 10.0, 'GLUT1': 10.0, 'Podoplanin': 10.0, 'HLA-DR': 12.0, 'CK14': 12.0, 'E-cadherin': 10.0, 'SMA': 10.0, 'CD3e': 39.0, 'CD31': 10.0, 'PR': 39.0, 'CD45': 39.0, 'ER': 10.0, 'Granzyme-B': 24.0, 'CTLA4': 10.0, 'CD4': 19.0}\n"
     ]
    }
   ],
   "source": [
    "for sample in sample_to_adata.keys():\n",
    "    print(sample)\n",
    "    try:\n",
    "        combined, labeled_dict = get_region_features(\n",
    "            sample_to_adata[sample], sample_to_ome[sample], mask_fp=sample_to_mask[sample],\n",
    "            annotation_keys=annotation_keys\n",
    "        )\n",
    "        combined.index.name = 'label'\n",
    "        combined.to_csv(os.path.join(region_features_dir, f'{sample}.txt'), sep='\\t', index=True)\n",
    "\n",
    "        for name, img in labeled_dict.items():\n",
    "            tifffile.imwrite(os.path.join(region_features_masks_dir, f'{sample}_{name}.tif'), img, compression='LZW')\n",
    "    except:\n",
    "        print(f'error in sample {sample}')"
   ]
  },
  {
   "cell_type": "code",
   "execution_count": null,
   "id": "2fa28628",
   "metadata": {},
   "outputs": [],
   "source": []
  },
  {
   "cell_type": "code",
   "execution_count": null,
   "id": "476bd676",
   "metadata": {},
   "outputs": [],
   "source": [
    "df = pd.read_csv(\n",
    "    '/diskmnt/Projects/Users/estorrs/imaging-analysis/results/brca_subtype/revision_v1/region_features/HT110B1_S1H4.txt',\n",
    "    sep='\\t'\n",
    ")\n",
    "df"
   ]
  },
  {
   "cell_type": "code",
   "execution_count": null,
   "id": "0c40e16d",
   "metadata": {},
   "outputs": [],
   "source": [
    "list(df.columns)"
   ]
  },
  {
   "cell_type": "code",
   "execution_count": null,
   "id": "d9699150",
   "metadata": {},
   "outputs": [],
   "source": []
  },
  {
   "cell_type": "code",
   "execution_count": null,
   "id": "0bbdabe9",
   "metadata": {},
   "outputs": [],
   "source": []
  },
  {
   "cell_type": "code",
   "execution_count": null,
   "id": "6e129659",
   "metadata": {},
   "outputs": [],
   "source": [
    "out = os.path.join(output_dir, 'pseudo_fullres')\n",
    "Path(out).mkdir(parents=True, exist_ok=True)"
   ]
  },
  {
   "cell_type": "code",
   "execution_count": 96,
   "id": "79dba2ac",
   "metadata": {
    "scrolled": true
   },
   "outputs": [
    {
     "name": "stdout",
     "output_type": "stream",
     "text": [
      "HT110B1_S1H4\n"
     ]
    },
    {
     "name": "stderr",
     "output_type": "stream",
     "text": [
      "/diskmnt/Projects/Users/estorrs/miniconda3/envs/mip/lib/python3.8/site-packages/ome_types/_convenience.py:112: FutureWarning: The default XML parser will be changing from 'xmlschema' to 'lxml' in version 0.4.0.  To silence this warning, please provide the `parser` argument, specifying either 'lxml' (to opt into the new behavior), or'xmlschema' (to retain the old behavior).\n",
      "  d = to_dict(os.fspath(xml), parser=parser, validate=validate)\n"
     ]
    },
    {
     "name": "stdout",
     "output_type": "stream",
     "text": [
      "HT171B1-S1H9A1-4_left_05122023\n",
      "HT171B1-S1H9A1-4_right_05122023\n",
      "HT171B1-S1H9A1-A4_left_05262023\n",
      "HT171B1-S1H9A1-A4_right_05262023\n",
      "HT206B1-S1H5_U1_07012023\n",
      "HT206B1-S1H5_U2_07012023\n",
      "HT206B1_H1\n",
      "HT206B1_H1_06252022\n",
      "HT206B1_S1H2L4_20221028\n",
      "HT243B1-S1H4A4_04192023\n",
      "HT243B1-S1H4A4_left_05122023\n",
      "HT243B1-S1H4A4_left_05262023\n",
      "HT243B1-S1H4A4_right_05122023\n",
      "HT243B1-S1H4A4_right_05262023\n",
      "HT243B1_S1H4\n",
      "HT271B1-S1H6A5_04192023\n",
      "HT271B1-S1H6A5_left_05122023\n",
      "HT271B1-S1H6A5_left_05262023\n",
      "HT271B1-S1H6A5_mid_05262023\n",
      "HT271B1-S1H6A5_right_05122023\n",
      "HT271B1-S1H6A5_right_05262023\n",
      "HT271B1_S1H3A5_02172023\n",
      "HT297B1-S1H1_U1_07012023\n",
      "HT297B1-S1H1_U2_07012023\n",
      "HT305B1_S1H1\n",
      "HT308B1-S1H5A4_04192023\n",
      "HT308B1-S1H5A4_left_05122023\n",
      "HT308B1-S1H5A4_left_05262023\n",
      "HT308B1-S1H5A4_right_05122023\n",
      "HT308B1-S1H5A4_right_05262023\n",
      "HT323B1_H1A1\n",
      "HT323B1_H1A4\n",
      "HT323B1_H1_08042022\n",
      "HT323B1_H3\n",
      "HT339B1_H1A1\n",
      "HT339B1_H2A1\n",
      "HT339B2-H2_U1_07012023\n",
      "HT339B2-H2_U2_07012023\n",
      "HT365B1_S1H1_02132023\n",
      "HT397B1_H2A2\n",
      "HT397B1_H3A1\n",
      "HT397B1_S1H1A3U22_04122023\n",
      "HT397B1_S1H1A3U31_04062023\n",
      "HT397B1_U12_03172023\n",
      "HT397B1_U2_03162023\n",
      "HT480B1_S1H2_R001\n",
      "HT480B1_S1H2_R002\n",
      "HT565B1-H2_04262023\n",
      "HT565B1-S1H2_U1_07012023\n",
      "HT565B1-S1H2_U2_07012023\n"
     ]
    }
   ],
   "source": [
    "cmap = {\n",
    "    'Pan-Cytokeratin': (1., 0., 0.),\n",
    "    'SMA': (0., 1., 0.),\n",
    "    'DAPI': (0., 0., 1.),\n",
    "    'Podoplanin': (1., 1., 1.),    \n",
    "}\n",
    "\n",
    "for sample in sample_to_adata.keys():\n",
    "    print(sample)\n",
    "    fp = sample_to_ome[sample]\n",
    "    channel_to_img = utils.extract_ome_tiff(fp, channels=list(cmap.keys()), flexibility='loose')\n",
    "\n",
    "    pseudo = utils.make_pseudo(channel_to_img, cmap=cmap, contrast_pct=95.)\n",
    "    pseudo *= 255.\n",
    "    pseudo = pseudo.astype(np.uint8)\n",
    "    \n",
    "    tifffile.imwrite(os.path.join(out, f'{sample}.tif'), pseudo, compression='LZW')    "
   ]
  },
  {
   "cell_type": "code",
   "execution_count": null,
   "id": "b46e692f",
   "metadata": {},
   "outputs": [],
   "source": []
  },
  {
   "cell_type": "markdown",
   "id": "8e468f4a",
   "metadata": {},
   "source": [
    "making thumbnails"
   ]
  },
  {
   "cell_type": "code",
   "execution_count": 69,
   "id": "b8fd9dbd",
   "metadata": {},
   "outputs": [],
   "source": [
    "scale = .05"
   ]
  },
  {
   "cell_type": "code",
   "execution_count": 70,
   "id": "e00819c8",
   "metadata": {},
   "outputs": [],
   "source": [
    "mask_fps = sorted(utils.listfiles(os.path.join(output_dir, 'region_features_masks'), regex=r'region.*.tif$'))\n",
    "mask_fps = [fp for fp in mask_fps if 'thumbnail' not in fp]"
   ]
  },
  {
   "cell_type": "code",
   "execution_count": 74,
   "id": "ac7466dc",
   "metadata": {
    "scrolled": true
   },
   "outputs": [
    {
     "name": "stdout",
     "output_type": "stream",
     "text": [
      "/diskmnt/Projects/Users/estorrs/imaging-analysis/results/brca_subtype/revision_v1/region_features_masks/HT110B1_S1H4_boundary.tif\n",
      "/diskmnt/Projects/Users/estorrs/imaging-analysis/results/brca_subtype/revision_v1/region_features_masks/HT110B1_S1H4_ductal.tif\n",
      "/diskmnt/Projects/Users/estorrs/imaging-analysis/results/brca_subtype/revision_v1/region_features_masks/HT110B1_S1H4_expanded.tif\n",
      "/diskmnt/Projects/Users/estorrs/imaging-analysis/results/brca_subtype/revision_v1/region_features_masks/HT110B1_S1H4_myoepi.tif\n",
      "/diskmnt/Projects/Users/estorrs/imaging-analysis/results/brca_subtype/revision_v1/region_features_masks/HT110B1_S1H4_region.tif\n",
      "/diskmnt/Projects/Users/estorrs/imaging-analysis/results/brca_subtype/revision_v1/region_features_masks/HT171B1-S1H9A1-4_left_05122023_boundary.tif\n",
      "/diskmnt/Projects/Users/estorrs/imaging-analysis/results/brca_subtype/revision_v1/region_features_masks/HT171B1-S1H9A1-4_left_05122023_ductal.tif\n",
      "/diskmnt/Projects/Users/estorrs/imaging-analysis/results/brca_subtype/revision_v1/region_features_masks/HT171B1-S1H9A1-4_left_05122023_expanded.tif\n",
      "/diskmnt/Projects/Users/estorrs/imaging-analysis/results/brca_subtype/revision_v1/region_features_masks/HT171B1-S1H9A1-4_left_05122023_myoepi.tif\n",
      "/diskmnt/Projects/Users/estorrs/imaging-analysis/results/brca_subtype/revision_v1/region_features_masks/HT171B1-S1H9A1-4_left_05122023_region.tif\n",
      "/diskmnt/Projects/Users/estorrs/imaging-analysis/results/brca_subtype/revision_v1/region_features_masks/HT171B1-S1H9A1-4_right_05122023_boundary.tif\n",
      "/diskmnt/Projects/Users/estorrs/imaging-analysis/results/brca_subtype/revision_v1/region_features_masks/HT171B1-S1H9A1-4_right_05122023_ductal.tif\n",
      "/diskmnt/Projects/Users/estorrs/imaging-analysis/results/brca_subtype/revision_v1/region_features_masks/HT171B1-S1H9A1-4_right_05122023_expanded.tif\n",
      "/diskmnt/Projects/Users/estorrs/imaging-analysis/results/brca_subtype/revision_v1/region_features_masks/HT171B1-S1H9A1-4_right_05122023_myoepi.tif\n",
      "/diskmnt/Projects/Users/estorrs/imaging-analysis/results/brca_subtype/revision_v1/region_features_masks/HT171B1-S1H9A1-4_right_05122023_region.tif\n",
      "/diskmnt/Projects/Users/estorrs/imaging-analysis/results/brca_subtype/revision_v1/region_features_masks/HT171B1-S1H9A1-A4_left_05262023_boundary.tif\n",
      "/diskmnt/Projects/Users/estorrs/imaging-analysis/results/brca_subtype/revision_v1/region_features_masks/HT171B1-S1H9A1-A4_left_05262023_ductal.tif\n",
      "/diskmnt/Projects/Users/estorrs/imaging-analysis/results/brca_subtype/revision_v1/region_features_masks/HT171B1-S1H9A1-A4_left_05262023_expanded.tif\n",
      "/diskmnt/Projects/Users/estorrs/imaging-analysis/results/brca_subtype/revision_v1/region_features_masks/HT171B1-S1H9A1-A4_left_05262023_myoepi.tif\n",
      "/diskmnt/Projects/Users/estorrs/imaging-analysis/results/brca_subtype/revision_v1/region_features_masks/HT171B1-S1H9A1-A4_left_05262023_region.tif\n",
      "/diskmnt/Projects/Users/estorrs/imaging-analysis/results/brca_subtype/revision_v1/region_features_masks/HT171B1-S1H9A1-A4_right_05262023_boundary.tif\n",
      "/diskmnt/Projects/Users/estorrs/imaging-analysis/results/brca_subtype/revision_v1/region_features_masks/HT171B1-S1H9A1-A4_right_05262023_ductal.tif\n",
      "/diskmnt/Projects/Users/estorrs/imaging-analysis/results/brca_subtype/revision_v1/region_features_masks/HT171B1-S1H9A1-A4_right_05262023_expanded.tif\n",
      "/diskmnt/Projects/Users/estorrs/imaging-analysis/results/brca_subtype/revision_v1/region_features_masks/HT171B1-S1H9A1-A4_right_05262023_myoepi.tif\n",
      "/diskmnt/Projects/Users/estorrs/imaging-analysis/results/brca_subtype/revision_v1/region_features_masks/HT171B1-S1H9A1-A4_right_05262023_region.tif\n",
      "/diskmnt/Projects/Users/estorrs/imaging-analysis/results/brca_subtype/revision_v1/region_features_masks/HT206B1-S1H5_U1_07012023_boundary.tif\n",
      "/diskmnt/Projects/Users/estorrs/imaging-analysis/results/brca_subtype/revision_v1/region_features_masks/HT206B1-S1H5_U1_07012023_ductal.tif\n",
      "/diskmnt/Projects/Users/estorrs/imaging-analysis/results/brca_subtype/revision_v1/region_features_masks/HT206B1-S1H5_U1_07012023_expanded.tif\n",
      "/diskmnt/Projects/Users/estorrs/imaging-analysis/results/brca_subtype/revision_v1/region_features_masks/HT206B1-S1H5_U1_07012023_myoepi.tif\n",
      "/diskmnt/Projects/Users/estorrs/imaging-analysis/results/brca_subtype/revision_v1/region_features_masks/HT206B1-S1H5_U1_07012023_region.tif\n",
      "/diskmnt/Projects/Users/estorrs/imaging-analysis/results/brca_subtype/revision_v1/region_features_masks/HT206B1-S1H5_U2_07012023_boundary.tif\n",
      "/diskmnt/Projects/Users/estorrs/imaging-analysis/results/brca_subtype/revision_v1/region_features_masks/HT206B1-S1H5_U2_07012023_ductal.tif\n",
      "/diskmnt/Projects/Users/estorrs/imaging-analysis/results/brca_subtype/revision_v1/region_features_masks/HT206B1-S1H5_U2_07012023_expanded.tif\n",
      "/diskmnt/Projects/Users/estorrs/imaging-analysis/results/brca_subtype/revision_v1/region_features_masks/HT206B1-S1H5_U2_07012023_myoepi.tif\n",
      "/diskmnt/Projects/Users/estorrs/imaging-analysis/results/brca_subtype/revision_v1/region_features_masks/HT206B1-S1H5_U2_07012023_region.tif\n",
      "/diskmnt/Projects/Users/estorrs/imaging-analysis/results/brca_subtype/revision_v1/region_features_masks/HT206B1_H1_06252022_boundary.tif\n",
      "/diskmnt/Projects/Users/estorrs/imaging-analysis/results/brca_subtype/revision_v1/region_features_masks/HT206B1_H1_06252022_ductal.tif\n",
      "/diskmnt/Projects/Users/estorrs/imaging-analysis/results/brca_subtype/revision_v1/region_features_masks/HT206B1_H1_06252022_expanded.tif\n",
      "/diskmnt/Projects/Users/estorrs/imaging-analysis/results/brca_subtype/revision_v1/region_features_masks/HT206B1_H1_06252022_myoepi.tif\n",
      "/diskmnt/Projects/Users/estorrs/imaging-analysis/results/brca_subtype/revision_v1/region_features_masks/HT206B1_H1_06252022_region.tif\n",
      "/diskmnt/Projects/Users/estorrs/imaging-analysis/results/brca_subtype/revision_v1/region_features_masks/HT206B1_H1_boundary.tif\n",
      "/diskmnt/Projects/Users/estorrs/imaging-analysis/results/brca_subtype/revision_v1/region_features_masks/HT206B1_H1_ductal.tif\n",
      "/diskmnt/Projects/Users/estorrs/imaging-analysis/results/brca_subtype/revision_v1/region_features_masks/HT206B1_H1_expanded.tif\n",
      "/diskmnt/Projects/Users/estorrs/imaging-analysis/results/brca_subtype/revision_v1/region_features_masks/HT206B1_H1_myoepi.tif\n",
      "/diskmnt/Projects/Users/estorrs/imaging-analysis/results/brca_subtype/revision_v1/region_features_masks/HT206B1_H1_region.tif\n",
      "/diskmnt/Projects/Users/estorrs/imaging-analysis/results/brca_subtype/revision_v1/region_features_masks/HT206B1_S1H2L4_20221028_boundary.tif\n",
      "/diskmnt/Projects/Users/estorrs/imaging-analysis/results/brca_subtype/revision_v1/region_features_masks/HT206B1_S1H2L4_20221028_ductal.tif\n",
      "/diskmnt/Projects/Users/estorrs/imaging-analysis/results/brca_subtype/revision_v1/region_features_masks/HT206B1_S1H2L4_20221028_expanded.tif\n",
      "/diskmnt/Projects/Users/estorrs/imaging-analysis/results/brca_subtype/revision_v1/region_features_masks/HT206B1_S1H2L4_20221028_myoepi.tif\n",
      "/diskmnt/Projects/Users/estorrs/imaging-analysis/results/brca_subtype/revision_v1/region_features_masks/HT206B1_S1H2L4_20221028_region.tif\n",
      "/diskmnt/Projects/Users/estorrs/imaging-analysis/results/brca_subtype/revision_v1/region_features_masks/HT243B1-S1H4A4_04192023_boundary.tif\n",
      "/diskmnt/Projects/Users/estorrs/imaging-analysis/results/brca_subtype/revision_v1/region_features_masks/HT243B1-S1H4A4_04192023_ductal.tif\n",
      "/diskmnt/Projects/Users/estorrs/imaging-analysis/results/brca_subtype/revision_v1/region_features_masks/HT243B1-S1H4A4_04192023_expanded.tif\n",
      "/diskmnt/Projects/Users/estorrs/imaging-analysis/results/brca_subtype/revision_v1/region_features_masks/HT243B1-S1H4A4_04192023_myoepi.tif\n",
      "/diskmnt/Projects/Users/estorrs/imaging-analysis/results/brca_subtype/revision_v1/region_features_masks/HT243B1-S1H4A4_04192023_region.tif\n",
      "/diskmnt/Projects/Users/estorrs/imaging-analysis/results/brca_subtype/revision_v1/region_features_masks/HT243B1-S1H4A4_left_05122023_boundary.tif\n",
      "/diskmnt/Projects/Users/estorrs/imaging-analysis/results/brca_subtype/revision_v1/region_features_masks/HT243B1-S1H4A4_left_05122023_ductal.tif\n",
      "/diskmnt/Projects/Users/estorrs/imaging-analysis/results/brca_subtype/revision_v1/region_features_masks/HT243B1-S1H4A4_left_05122023_expanded.tif\n",
      "/diskmnt/Projects/Users/estorrs/imaging-analysis/results/brca_subtype/revision_v1/region_features_masks/HT243B1-S1H4A4_left_05122023_myoepi.tif\n"
     ]
    },
    {
     "name": "stdout",
     "output_type": "stream",
     "text": [
      "/diskmnt/Projects/Users/estorrs/imaging-analysis/results/brca_subtype/revision_v1/region_features_masks/HT243B1-S1H4A4_left_05122023_region.tif\n",
      "/diskmnt/Projects/Users/estorrs/imaging-analysis/results/brca_subtype/revision_v1/region_features_masks/HT243B1-S1H4A4_left_05262023_boundary.tif\n",
      "/diskmnt/Projects/Users/estorrs/imaging-analysis/results/brca_subtype/revision_v1/region_features_masks/HT243B1-S1H4A4_left_05262023_ductal.tif\n",
      "/diskmnt/Projects/Users/estorrs/imaging-analysis/results/brca_subtype/revision_v1/region_features_masks/HT243B1-S1H4A4_left_05262023_expanded.tif\n",
      "/diskmnt/Projects/Users/estorrs/imaging-analysis/results/brca_subtype/revision_v1/region_features_masks/HT243B1-S1H4A4_left_05262023_myoepi.tif\n",
      "/diskmnt/Projects/Users/estorrs/imaging-analysis/results/brca_subtype/revision_v1/region_features_masks/HT243B1-S1H4A4_left_05262023_region.tif\n",
      "/diskmnt/Projects/Users/estorrs/imaging-analysis/results/brca_subtype/revision_v1/region_features_masks/HT243B1-S1H4A4_right_05122023_boundary.tif\n",
      "/diskmnt/Projects/Users/estorrs/imaging-analysis/results/brca_subtype/revision_v1/region_features_masks/HT243B1-S1H4A4_right_05122023_ductal.tif\n",
      "/diskmnt/Projects/Users/estorrs/imaging-analysis/results/brca_subtype/revision_v1/region_features_masks/HT243B1-S1H4A4_right_05122023_expanded.tif\n",
      "/diskmnt/Projects/Users/estorrs/imaging-analysis/results/brca_subtype/revision_v1/region_features_masks/HT243B1-S1H4A4_right_05122023_myoepi.tif\n",
      "/diskmnt/Projects/Users/estorrs/imaging-analysis/results/brca_subtype/revision_v1/region_features_masks/HT243B1-S1H4A4_right_05122023_region.tif\n",
      "/diskmnt/Projects/Users/estorrs/imaging-analysis/results/brca_subtype/revision_v1/region_features_masks/HT243B1-S1H4A4_right_05262023_boundary.tif\n",
      "/diskmnt/Projects/Users/estorrs/imaging-analysis/results/brca_subtype/revision_v1/region_features_masks/HT243B1-S1H4A4_right_05262023_ductal.tif\n",
      "/diskmnt/Projects/Users/estorrs/imaging-analysis/results/brca_subtype/revision_v1/region_features_masks/HT243B1-S1H4A4_right_05262023_expanded.tif\n",
      "/diskmnt/Projects/Users/estorrs/imaging-analysis/results/brca_subtype/revision_v1/region_features_masks/HT243B1-S1H4A4_right_05262023_myoepi.tif\n",
      "/diskmnt/Projects/Users/estorrs/imaging-analysis/results/brca_subtype/revision_v1/region_features_masks/HT243B1-S1H4A4_right_05262023_region.tif\n",
      "/diskmnt/Projects/Users/estorrs/imaging-analysis/results/brca_subtype/revision_v1/region_features_masks/HT243B1_S1H4_boundary.tif\n",
      "/diskmnt/Projects/Users/estorrs/imaging-analysis/results/brca_subtype/revision_v1/region_features_masks/HT243B1_S1H4_ductal.tif\n",
      "/diskmnt/Projects/Users/estorrs/imaging-analysis/results/brca_subtype/revision_v1/region_features_masks/HT243B1_S1H4_expanded.tif\n",
      "/diskmnt/Projects/Users/estorrs/imaging-analysis/results/brca_subtype/revision_v1/region_features_masks/HT243B1_S1H4_myoepi.tif\n",
      "/diskmnt/Projects/Users/estorrs/imaging-analysis/results/brca_subtype/revision_v1/region_features_masks/HT243B1_S1H4_region.tif\n",
      "/diskmnt/Projects/Users/estorrs/imaging-analysis/results/brca_subtype/revision_v1/region_features_masks/HT271B1-S1H6A5_04192023_boundary.tif\n",
      "/diskmnt/Projects/Users/estorrs/imaging-analysis/results/brca_subtype/revision_v1/region_features_masks/HT271B1-S1H6A5_04192023_ductal.tif\n",
      "/diskmnt/Projects/Users/estorrs/imaging-analysis/results/brca_subtype/revision_v1/region_features_masks/HT271B1-S1H6A5_04192023_expanded.tif\n",
      "/diskmnt/Projects/Users/estorrs/imaging-analysis/results/brca_subtype/revision_v1/region_features_masks/HT271B1-S1H6A5_04192023_myoepi.tif\n",
      "/diskmnt/Projects/Users/estorrs/imaging-analysis/results/brca_subtype/revision_v1/region_features_masks/HT271B1-S1H6A5_04192023_region.tif\n",
      "/diskmnt/Projects/Users/estorrs/imaging-analysis/results/brca_subtype/revision_v1/region_features_masks/HT271B1-S1H6A5_left_05122023_boundary.tif\n",
      "/diskmnt/Projects/Users/estorrs/imaging-analysis/results/brca_subtype/revision_v1/region_features_masks/HT271B1-S1H6A5_left_05122023_ductal.tif\n",
      "/diskmnt/Projects/Users/estorrs/imaging-analysis/results/brca_subtype/revision_v1/region_features_masks/HT271B1-S1H6A5_left_05122023_expanded.tif\n",
      "/diskmnt/Projects/Users/estorrs/imaging-analysis/results/brca_subtype/revision_v1/region_features_masks/HT271B1-S1H6A5_left_05122023_myoepi.tif\n",
      "/diskmnt/Projects/Users/estorrs/imaging-analysis/results/brca_subtype/revision_v1/region_features_masks/HT271B1-S1H6A5_left_05122023_region.tif\n",
      "/diskmnt/Projects/Users/estorrs/imaging-analysis/results/brca_subtype/revision_v1/region_features_masks/HT271B1-S1H6A5_left_05262023_boundary.tif\n",
      "/diskmnt/Projects/Users/estorrs/imaging-analysis/results/brca_subtype/revision_v1/region_features_masks/HT271B1-S1H6A5_left_05262023_ductal.tif\n",
      "/diskmnt/Projects/Users/estorrs/imaging-analysis/results/brca_subtype/revision_v1/region_features_masks/HT271B1-S1H6A5_left_05262023_expanded.tif\n",
      "/diskmnt/Projects/Users/estorrs/imaging-analysis/results/brca_subtype/revision_v1/region_features_masks/HT271B1-S1H6A5_left_05262023_myoepi.tif\n",
      "/diskmnt/Projects/Users/estorrs/imaging-analysis/results/brca_subtype/revision_v1/region_features_masks/HT271B1-S1H6A5_left_05262023_region.tif\n",
      "/diskmnt/Projects/Users/estorrs/imaging-analysis/results/brca_subtype/revision_v1/region_features_masks/HT271B1-S1H6A5_mid_05262023_boundary.tif\n",
      "/diskmnt/Projects/Users/estorrs/imaging-analysis/results/brca_subtype/revision_v1/region_features_masks/HT271B1-S1H6A5_mid_05262023_ductal.tif\n",
      "/diskmnt/Projects/Users/estorrs/imaging-analysis/results/brca_subtype/revision_v1/region_features_masks/HT271B1-S1H6A5_mid_05262023_expanded.tif\n",
      "/diskmnt/Projects/Users/estorrs/imaging-analysis/results/brca_subtype/revision_v1/region_features_masks/HT271B1-S1H6A5_mid_05262023_myoepi.tif\n",
      "/diskmnt/Projects/Users/estorrs/imaging-analysis/results/brca_subtype/revision_v1/region_features_masks/HT271B1-S1H6A5_mid_05262023_region.tif\n",
      "/diskmnt/Projects/Users/estorrs/imaging-analysis/results/brca_subtype/revision_v1/region_features_masks/HT271B1-S1H6A5_right_05122023_boundary.tif\n",
      "/diskmnt/Projects/Users/estorrs/imaging-analysis/results/brca_subtype/revision_v1/region_features_masks/HT271B1-S1H6A5_right_05122023_ductal.tif\n",
      "/diskmnt/Projects/Users/estorrs/imaging-analysis/results/brca_subtype/revision_v1/region_features_masks/HT271B1-S1H6A5_right_05122023_expanded.tif\n",
      "/diskmnt/Projects/Users/estorrs/imaging-analysis/results/brca_subtype/revision_v1/region_features_masks/HT271B1-S1H6A5_right_05122023_myoepi.tif\n",
      "/diskmnt/Projects/Users/estorrs/imaging-analysis/results/brca_subtype/revision_v1/region_features_masks/HT271B1-S1H6A5_right_05122023_region.tif\n",
      "/diskmnt/Projects/Users/estorrs/imaging-analysis/results/brca_subtype/revision_v1/region_features_masks/HT271B1-S1H6A5_right_05262023_boundary.tif\n",
      "/diskmnt/Projects/Users/estorrs/imaging-analysis/results/brca_subtype/revision_v1/region_features_masks/HT271B1-S1H6A5_right_05262023_ductal.tif\n",
      "/diskmnt/Projects/Users/estorrs/imaging-analysis/results/brca_subtype/revision_v1/region_features_masks/HT271B1-S1H6A5_right_05262023_expanded.tif\n",
      "/diskmnt/Projects/Users/estorrs/imaging-analysis/results/brca_subtype/revision_v1/region_features_masks/HT271B1-S1H6A5_right_05262023_myoepi.tif\n",
      "/diskmnt/Projects/Users/estorrs/imaging-analysis/results/brca_subtype/revision_v1/region_features_masks/HT271B1-S1H6A5_right_05262023_region.tif\n",
      "/diskmnt/Projects/Users/estorrs/imaging-analysis/results/brca_subtype/revision_v1/region_features_masks/HT297B1-S1H1_U1_07012023_boundary.tif\n",
      "/diskmnt/Projects/Users/estorrs/imaging-analysis/results/brca_subtype/revision_v1/region_features_masks/HT297B1-S1H1_U1_07012023_ductal.tif\n",
      "/diskmnt/Projects/Users/estorrs/imaging-analysis/results/brca_subtype/revision_v1/region_features_masks/HT297B1-S1H1_U1_07012023_expanded.tif\n",
      "/diskmnt/Projects/Users/estorrs/imaging-analysis/results/brca_subtype/revision_v1/region_features_masks/HT297B1-S1H1_U1_07012023_myoepi.tif\n",
      "/diskmnt/Projects/Users/estorrs/imaging-analysis/results/brca_subtype/revision_v1/region_features_masks/HT297B1-S1H1_U1_07012023_region.tif\n",
      "/diskmnt/Projects/Users/estorrs/imaging-analysis/results/brca_subtype/revision_v1/region_features_masks/HT297B1-S1H1_U2_07012023_boundary.tif\n",
      "/diskmnt/Projects/Users/estorrs/imaging-analysis/results/brca_subtype/revision_v1/region_features_masks/HT297B1-S1H1_U2_07012023_ductal.tif\n"
     ]
    },
    {
     "name": "stdout",
     "output_type": "stream",
     "text": [
      "/diskmnt/Projects/Users/estorrs/imaging-analysis/results/brca_subtype/revision_v1/region_features_masks/HT297B1-S1H1_U2_07012023_expanded.tif\n",
      "/diskmnt/Projects/Users/estorrs/imaging-analysis/results/brca_subtype/revision_v1/region_features_masks/HT297B1-S1H1_U2_07012023_myoepi.tif\n",
      "/diskmnt/Projects/Users/estorrs/imaging-analysis/results/brca_subtype/revision_v1/region_features_masks/HT297B1-S1H1_U2_07012023_region.tif\n",
      "/diskmnt/Projects/Users/estorrs/imaging-analysis/results/brca_subtype/revision_v1/region_features_masks/HT305B1_S1H1_boundary.tif\n",
      "/diskmnt/Projects/Users/estorrs/imaging-analysis/results/brca_subtype/revision_v1/region_features_masks/HT305B1_S1H1_ductal.tif\n",
      "/diskmnt/Projects/Users/estorrs/imaging-analysis/results/brca_subtype/revision_v1/region_features_masks/HT305B1_S1H1_expanded.tif\n",
      "/diskmnt/Projects/Users/estorrs/imaging-analysis/results/brca_subtype/revision_v1/region_features_masks/HT305B1_S1H1_myoepi.tif\n",
      "/diskmnt/Projects/Users/estorrs/imaging-analysis/results/brca_subtype/revision_v1/region_features_masks/HT305B1_S1H1_region.tif\n",
      "/diskmnt/Projects/Users/estorrs/imaging-analysis/results/brca_subtype/revision_v1/region_features_masks/HT308B1-S1H5A4_04192023_boundary.tif\n",
      "/diskmnt/Projects/Users/estorrs/imaging-analysis/results/brca_subtype/revision_v1/region_features_masks/HT308B1-S1H5A4_04192023_ductal.tif\n",
      "/diskmnt/Projects/Users/estorrs/imaging-analysis/results/brca_subtype/revision_v1/region_features_masks/HT308B1-S1H5A4_04192023_expanded.tif\n",
      "/diskmnt/Projects/Users/estorrs/imaging-analysis/results/brca_subtype/revision_v1/region_features_masks/HT308B1-S1H5A4_04192023_myoepi.tif\n",
      "/diskmnt/Projects/Users/estorrs/imaging-analysis/results/brca_subtype/revision_v1/region_features_masks/HT308B1-S1H5A4_04192023_region.tif\n",
      "/diskmnt/Projects/Users/estorrs/imaging-analysis/results/brca_subtype/revision_v1/region_features_masks/HT308B1-S1H5A4_left_05122023_boundary.tif\n",
      "/diskmnt/Projects/Users/estorrs/imaging-analysis/results/brca_subtype/revision_v1/region_features_masks/HT308B1-S1H5A4_left_05122023_ductal.tif\n",
      "/diskmnt/Projects/Users/estorrs/imaging-analysis/results/brca_subtype/revision_v1/region_features_masks/HT308B1-S1H5A4_left_05122023_expanded.tif\n",
      "/diskmnt/Projects/Users/estorrs/imaging-analysis/results/brca_subtype/revision_v1/region_features_masks/HT308B1-S1H5A4_left_05122023_myoepi.tif\n",
      "/diskmnt/Projects/Users/estorrs/imaging-analysis/results/brca_subtype/revision_v1/region_features_masks/HT308B1-S1H5A4_left_05122023_region.tif\n",
      "/diskmnt/Projects/Users/estorrs/imaging-analysis/results/brca_subtype/revision_v1/region_features_masks/HT308B1-S1H5A4_left_05262023_boundary.tif\n",
      "/diskmnt/Projects/Users/estorrs/imaging-analysis/results/brca_subtype/revision_v1/region_features_masks/HT308B1-S1H5A4_left_05262023_ductal.tif\n",
      "/diskmnt/Projects/Users/estorrs/imaging-analysis/results/brca_subtype/revision_v1/region_features_masks/HT308B1-S1H5A4_left_05262023_expanded.tif\n",
      "/diskmnt/Projects/Users/estorrs/imaging-analysis/results/brca_subtype/revision_v1/region_features_masks/HT308B1-S1H5A4_left_05262023_myoepi.tif\n",
      "/diskmnt/Projects/Users/estorrs/imaging-analysis/results/brca_subtype/revision_v1/region_features_masks/HT308B1-S1H5A4_left_05262023_region.tif\n",
      "/diskmnt/Projects/Users/estorrs/imaging-analysis/results/brca_subtype/revision_v1/region_features_masks/HT308B1-S1H5A4_right_05122023_boundary.tif\n",
      "/diskmnt/Projects/Users/estorrs/imaging-analysis/results/brca_subtype/revision_v1/region_features_masks/HT308B1-S1H5A4_right_05122023_ductal.tif\n",
      "/diskmnt/Projects/Users/estorrs/imaging-analysis/results/brca_subtype/revision_v1/region_features_masks/HT308B1-S1H5A4_right_05122023_expanded.tif\n",
      "/diskmnt/Projects/Users/estorrs/imaging-analysis/results/brca_subtype/revision_v1/region_features_masks/HT308B1-S1H5A4_right_05122023_myoepi.tif\n",
      "/diskmnt/Projects/Users/estorrs/imaging-analysis/results/brca_subtype/revision_v1/region_features_masks/HT308B1-S1H5A4_right_05122023_region.tif\n",
      "/diskmnt/Projects/Users/estorrs/imaging-analysis/results/brca_subtype/revision_v1/region_features_masks/HT308B1-S1H5A4_right_05262023_boundary.tif\n",
      "/diskmnt/Projects/Users/estorrs/imaging-analysis/results/brca_subtype/revision_v1/region_features_masks/HT308B1-S1H5A4_right_05262023_ductal.tif\n",
      "/diskmnt/Projects/Users/estorrs/imaging-analysis/results/brca_subtype/revision_v1/region_features_masks/HT308B1-S1H5A4_right_05262023_expanded.tif\n",
      "/diskmnt/Projects/Users/estorrs/imaging-analysis/results/brca_subtype/revision_v1/region_features_masks/HT308B1-S1H5A4_right_05262023_myoepi.tif\n",
      "/diskmnt/Projects/Users/estorrs/imaging-analysis/results/brca_subtype/revision_v1/region_features_masks/HT308B1-S1H5A4_right_05262023_region.tif\n",
      "/diskmnt/Projects/Users/estorrs/imaging-analysis/results/brca_subtype/revision_v1/region_features_masks/HT323B1_H1A1_boundary.tif\n",
      "/diskmnt/Projects/Users/estorrs/imaging-analysis/results/brca_subtype/revision_v1/region_features_masks/HT323B1_H1A1_ductal.tif\n",
      "/diskmnt/Projects/Users/estorrs/imaging-analysis/results/brca_subtype/revision_v1/region_features_masks/HT323B1_H1A1_expanded.tif\n",
      "/diskmnt/Projects/Users/estorrs/imaging-analysis/results/brca_subtype/revision_v1/region_features_masks/HT323B1_H1A1_myoepi.tif\n",
      "/diskmnt/Projects/Users/estorrs/imaging-analysis/results/brca_subtype/revision_v1/region_features_masks/HT323B1_H1A1_region.tif\n",
      "/diskmnt/Projects/Users/estorrs/imaging-analysis/results/brca_subtype/revision_v1/region_features_masks/HT323B1_H1A4_boundary.tif\n",
      "/diskmnt/Projects/Users/estorrs/imaging-analysis/results/brca_subtype/revision_v1/region_features_masks/HT323B1_H1A4_ductal.tif\n",
      "/diskmnt/Projects/Users/estorrs/imaging-analysis/results/brca_subtype/revision_v1/region_features_masks/HT323B1_H1A4_expanded.tif\n",
      "/diskmnt/Projects/Users/estorrs/imaging-analysis/results/brca_subtype/revision_v1/region_features_masks/HT323B1_H1A4_myoepi.tif\n",
      "/diskmnt/Projects/Users/estorrs/imaging-analysis/results/brca_subtype/revision_v1/region_features_masks/HT323B1_H1A4_region.tif\n",
      "/diskmnt/Projects/Users/estorrs/imaging-analysis/results/brca_subtype/revision_v1/region_features_masks/HT323B1_H1_08042022_boundary.tif\n",
      "/diskmnt/Projects/Users/estorrs/imaging-analysis/results/brca_subtype/revision_v1/region_features_masks/HT323B1_H1_08042022_ductal.tif\n",
      "/diskmnt/Projects/Users/estorrs/imaging-analysis/results/brca_subtype/revision_v1/region_features_masks/HT323B1_H1_08042022_expanded.tif\n",
      "/diskmnt/Projects/Users/estorrs/imaging-analysis/results/brca_subtype/revision_v1/region_features_masks/HT323B1_H1_08042022_myoepi.tif\n",
      "/diskmnt/Projects/Users/estorrs/imaging-analysis/results/brca_subtype/revision_v1/region_features_masks/HT323B1_H1_08042022_region.tif\n",
      "/diskmnt/Projects/Users/estorrs/imaging-analysis/results/brca_subtype/revision_v1/region_features_masks/HT323B1_H3_boundary.tif\n",
      "/diskmnt/Projects/Users/estorrs/imaging-analysis/results/brca_subtype/revision_v1/region_features_masks/HT323B1_H3_ductal.tif\n",
      "/diskmnt/Projects/Users/estorrs/imaging-analysis/results/brca_subtype/revision_v1/region_features_masks/HT323B1_H3_expanded.tif\n",
      "/diskmnt/Projects/Users/estorrs/imaging-analysis/results/brca_subtype/revision_v1/region_features_masks/HT323B1_H3_myoepi.tif\n",
      "/diskmnt/Projects/Users/estorrs/imaging-analysis/results/brca_subtype/revision_v1/region_features_masks/HT323B1_H3_region.tif\n",
      "/diskmnt/Projects/Users/estorrs/imaging-analysis/results/brca_subtype/revision_v1/region_features_masks/HT339B1_H1A1_boundary.tif\n",
      "/diskmnt/Projects/Users/estorrs/imaging-analysis/results/brca_subtype/revision_v1/region_features_masks/HT339B1_H1A1_ductal.tif\n",
      "/diskmnt/Projects/Users/estorrs/imaging-analysis/results/brca_subtype/revision_v1/region_features_masks/HT339B1_H1A1_expanded.tif\n",
      "/diskmnt/Projects/Users/estorrs/imaging-analysis/results/brca_subtype/revision_v1/region_features_masks/HT339B1_H1A1_myoepi.tif\n",
      "/diskmnt/Projects/Users/estorrs/imaging-analysis/results/brca_subtype/revision_v1/region_features_masks/HT339B1_H1A1_region.tif\n",
      "/diskmnt/Projects/Users/estorrs/imaging-analysis/results/brca_subtype/revision_v1/region_features_masks/HT339B1_H2A1_boundary.tif\n",
      "/diskmnt/Projects/Users/estorrs/imaging-analysis/results/brca_subtype/revision_v1/region_features_masks/HT339B1_H2A1_ductal.tif\n",
      "/diskmnt/Projects/Users/estorrs/imaging-analysis/results/brca_subtype/revision_v1/region_features_masks/HT339B1_H2A1_expanded.tif\n"
     ]
    },
    {
     "name": "stdout",
     "output_type": "stream",
     "text": [
      "/diskmnt/Projects/Users/estorrs/imaging-analysis/results/brca_subtype/revision_v1/region_features_masks/HT339B1_H2A1_myoepi.tif\n",
      "/diskmnt/Projects/Users/estorrs/imaging-analysis/results/brca_subtype/revision_v1/region_features_masks/HT339B1_H2A1_region.tif\n",
      "/diskmnt/Projects/Users/estorrs/imaging-analysis/results/brca_subtype/revision_v1/region_features_masks/HT339B2-H2_U1_07012023_boundary.tif\n",
      "/diskmnt/Projects/Users/estorrs/imaging-analysis/results/brca_subtype/revision_v1/region_features_masks/HT339B2-H2_U1_07012023_ductal.tif\n",
      "/diskmnt/Projects/Users/estorrs/imaging-analysis/results/brca_subtype/revision_v1/region_features_masks/HT339B2-H2_U1_07012023_expanded.tif\n",
      "/diskmnt/Projects/Users/estorrs/imaging-analysis/results/brca_subtype/revision_v1/region_features_masks/HT339B2-H2_U1_07012023_myoepi.tif\n",
      "/diskmnt/Projects/Users/estorrs/imaging-analysis/results/brca_subtype/revision_v1/region_features_masks/HT339B2-H2_U1_07012023_region.tif\n",
      "/diskmnt/Projects/Users/estorrs/imaging-analysis/results/brca_subtype/revision_v1/region_features_masks/HT339B2-H2_U2_07012023_boundary.tif\n",
      "/diskmnt/Projects/Users/estorrs/imaging-analysis/results/brca_subtype/revision_v1/region_features_masks/HT339B2-H2_U2_07012023_ductal.tif\n",
      "/diskmnt/Projects/Users/estorrs/imaging-analysis/results/brca_subtype/revision_v1/region_features_masks/HT339B2-H2_U2_07012023_expanded.tif\n",
      "/diskmnt/Projects/Users/estorrs/imaging-analysis/results/brca_subtype/revision_v1/region_features_masks/HT339B2-H2_U2_07012023_myoepi.tif\n",
      "/diskmnt/Projects/Users/estorrs/imaging-analysis/results/brca_subtype/revision_v1/region_features_masks/HT339B2-H2_U2_07012023_region.tif\n",
      "/diskmnt/Projects/Users/estorrs/imaging-analysis/results/brca_subtype/revision_v1/region_features_masks/HT365B1_S1H1_02132023_boundary.tif\n",
      "/diskmnt/Projects/Users/estorrs/imaging-analysis/results/brca_subtype/revision_v1/region_features_masks/HT365B1_S1H1_02132023_ductal.tif\n",
      "/diskmnt/Projects/Users/estorrs/imaging-analysis/results/brca_subtype/revision_v1/region_features_masks/HT365B1_S1H1_02132023_expanded.tif\n",
      "/diskmnt/Projects/Users/estorrs/imaging-analysis/results/brca_subtype/revision_v1/region_features_masks/HT365B1_S1H1_02132023_myoepi.tif\n",
      "/diskmnt/Projects/Users/estorrs/imaging-analysis/results/brca_subtype/revision_v1/region_features_masks/HT365B1_S1H1_02132023_region.tif\n",
      "/diskmnt/Projects/Users/estorrs/imaging-analysis/results/brca_subtype/revision_v1/region_features_masks/HT397B1_H2A2_boundary.tif\n",
      "/diskmnt/Projects/Users/estorrs/imaging-analysis/results/brca_subtype/revision_v1/region_features_masks/HT397B1_H2A2_ductal.tif\n",
      "/diskmnt/Projects/Users/estorrs/imaging-analysis/results/brca_subtype/revision_v1/region_features_masks/HT397B1_H2A2_expanded.tif\n",
      "/diskmnt/Projects/Users/estorrs/imaging-analysis/results/brca_subtype/revision_v1/region_features_masks/HT397B1_H2A2_myoepi.tif\n",
      "/diskmnt/Projects/Users/estorrs/imaging-analysis/results/brca_subtype/revision_v1/region_features_masks/HT397B1_H2A2_region.tif\n",
      "/diskmnt/Projects/Users/estorrs/imaging-analysis/results/brca_subtype/revision_v1/region_features_masks/HT397B1_H3A1_boundary.tif\n",
      "/diskmnt/Projects/Users/estorrs/imaging-analysis/results/brca_subtype/revision_v1/region_features_masks/HT397B1_H3A1_ductal.tif\n",
      "/diskmnt/Projects/Users/estorrs/imaging-analysis/results/brca_subtype/revision_v1/region_features_masks/HT397B1_H3A1_expanded.tif\n",
      "/diskmnt/Projects/Users/estorrs/imaging-analysis/results/brca_subtype/revision_v1/region_features_masks/HT397B1_H3A1_myoepi.tif\n",
      "/diskmnt/Projects/Users/estorrs/imaging-analysis/results/brca_subtype/revision_v1/region_features_masks/HT397B1_H3A1_region.tif\n",
      "/diskmnt/Projects/Users/estorrs/imaging-analysis/results/brca_subtype/revision_v1/region_features_masks/HT397B1_S1H1A3U22_04122023_boundary.tif\n",
      "/diskmnt/Projects/Users/estorrs/imaging-analysis/results/brca_subtype/revision_v1/region_features_masks/HT397B1_S1H1A3U22_04122023_ductal.tif\n",
      "/diskmnt/Projects/Users/estorrs/imaging-analysis/results/brca_subtype/revision_v1/region_features_masks/HT397B1_S1H1A3U22_04122023_expanded.tif\n",
      "/diskmnt/Projects/Users/estorrs/imaging-analysis/results/brca_subtype/revision_v1/region_features_masks/HT397B1_S1H1A3U22_04122023_myoepi.tif\n",
      "/diskmnt/Projects/Users/estorrs/imaging-analysis/results/brca_subtype/revision_v1/region_features_masks/HT397B1_S1H1A3U22_04122023_region.tif\n",
      "/diskmnt/Projects/Users/estorrs/imaging-analysis/results/brca_subtype/revision_v1/region_features_masks/HT397B1_S1H1A3U31_04062023_boundary.tif\n",
      "/diskmnt/Projects/Users/estorrs/imaging-analysis/results/brca_subtype/revision_v1/region_features_masks/HT397B1_S1H1A3U31_04062023_ductal.tif\n",
      "/diskmnt/Projects/Users/estorrs/imaging-analysis/results/brca_subtype/revision_v1/region_features_masks/HT397B1_S1H1A3U31_04062023_expanded.tif\n",
      "/diskmnt/Projects/Users/estorrs/imaging-analysis/results/brca_subtype/revision_v1/region_features_masks/HT397B1_S1H1A3U31_04062023_myoepi.tif\n",
      "/diskmnt/Projects/Users/estorrs/imaging-analysis/results/brca_subtype/revision_v1/region_features_masks/HT397B1_S1H1A3U31_04062023_region.tif\n",
      "/diskmnt/Projects/Users/estorrs/imaging-analysis/results/brca_subtype/revision_v1/region_features_masks/HT397B1_U12_03172023_boundary.tif\n",
      "/diskmnt/Projects/Users/estorrs/imaging-analysis/results/brca_subtype/revision_v1/region_features_masks/HT397B1_U12_03172023_ductal.tif\n",
      "/diskmnt/Projects/Users/estorrs/imaging-analysis/results/brca_subtype/revision_v1/region_features_masks/HT397B1_U12_03172023_expanded.tif\n",
      "/diskmnt/Projects/Users/estorrs/imaging-analysis/results/brca_subtype/revision_v1/region_features_masks/HT397B1_U12_03172023_myoepi.tif\n",
      "/diskmnt/Projects/Users/estorrs/imaging-analysis/results/brca_subtype/revision_v1/region_features_masks/HT397B1_U12_03172023_region.tif\n",
      "/diskmnt/Projects/Users/estorrs/imaging-analysis/results/brca_subtype/revision_v1/region_features_masks/HT397B1_U2_03162023_boundary.tif\n",
      "/diskmnt/Projects/Users/estorrs/imaging-analysis/results/brca_subtype/revision_v1/region_features_masks/HT397B1_U2_03162023_ductal.tif\n",
      "/diskmnt/Projects/Users/estorrs/imaging-analysis/results/brca_subtype/revision_v1/region_features_masks/HT397B1_U2_03162023_expanded.tif\n",
      "/diskmnt/Projects/Users/estorrs/imaging-analysis/results/brca_subtype/revision_v1/region_features_masks/HT397B1_U2_03162023_myoepi.tif\n",
      "/diskmnt/Projects/Users/estorrs/imaging-analysis/results/brca_subtype/revision_v1/region_features_masks/HT397B1_U2_03162023_region.tif\n",
      "/diskmnt/Projects/Users/estorrs/imaging-analysis/results/brca_subtype/revision_v1/region_features_masks/HT480B1_S1H2_R001_boundary.tif\n",
      "/diskmnt/Projects/Users/estorrs/imaging-analysis/results/brca_subtype/revision_v1/region_features_masks/HT480B1_S1H2_R001_ductal.tif\n",
      "/diskmnt/Projects/Users/estorrs/imaging-analysis/results/brca_subtype/revision_v1/region_features_masks/HT480B1_S1H2_R001_expanded.tif\n",
      "/diskmnt/Projects/Users/estorrs/imaging-analysis/results/brca_subtype/revision_v1/region_features_masks/HT480B1_S1H2_R001_myoepi.tif\n",
      "/diskmnt/Projects/Users/estorrs/imaging-analysis/results/brca_subtype/revision_v1/region_features_masks/HT480B1_S1H2_R001_region.tif\n",
      "/diskmnt/Projects/Users/estorrs/imaging-analysis/results/brca_subtype/revision_v1/region_features_masks/HT480B1_S1H2_R002_boundary.tif\n",
      "/diskmnt/Projects/Users/estorrs/imaging-analysis/results/brca_subtype/revision_v1/region_features_masks/HT480B1_S1H2_R002_ductal.tif\n",
      "/diskmnt/Projects/Users/estorrs/imaging-analysis/results/brca_subtype/revision_v1/region_features_masks/HT480B1_S1H2_R002_expanded.tif\n",
      "/diskmnt/Projects/Users/estorrs/imaging-analysis/results/brca_subtype/revision_v1/region_features_masks/HT480B1_S1H2_R002_myoepi.tif\n",
      "/diskmnt/Projects/Users/estorrs/imaging-analysis/results/brca_subtype/revision_v1/region_features_masks/HT480B1_S1H2_R002_region.tif\n",
      "/diskmnt/Projects/Users/estorrs/imaging-analysis/results/brca_subtype/revision_v1/region_features_masks/HT565B1-H2_04262023_boundary.tif\n",
      "/diskmnt/Projects/Users/estorrs/imaging-analysis/results/brca_subtype/revision_v1/region_features_masks/HT565B1-H2_04262023_ductal.tif\n",
      "/diskmnt/Projects/Users/estorrs/imaging-analysis/results/brca_subtype/revision_v1/region_features_masks/HT565B1-H2_04262023_expanded.tif\n",
      "/diskmnt/Projects/Users/estorrs/imaging-analysis/results/brca_subtype/revision_v1/region_features_masks/HT565B1-H2_04262023_myoepi.tif\n"
     ]
    },
    {
     "name": "stdout",
     "output_type": "stream",
     "text": [
      "/diskmnt/Projects/Users/estorrs/imaging-analysis/results/brca_subtype/revision_v1/region_features_masks/HT565B1-H2_04262023_region.tif\n",
      "/diskmnt/Projects/Users/estorrs/imaging-analysis/results/brca_subtype/revision_v1/region_features_masks/HT565B1-S1H2_U1_07012023_boundary.tif\n",
      "/diskmnt/Projects/Users/estorrs/imaging-analysis/results/brca_subtype/revision_v1/region_features_masks/HT565B1-S1H2_U1_07012023_ductal.tif\n",
      "/diskmnt/Projects/Users/estorrs/imaging-analysis/results/brca_subtype/revision_v1/region_features_masks/HT565B1-S1H2_U1_07012023_expanded.tif\n",
      "/diskmnt/Projects/Users/estorrs/imaging-analysis/results/brca_subtype/revision_v1/region_features_masks/HT565B1-S1H2_U1_07012023_myoepi.tif\n",
      "/diskmnt/Projects/Users/estorrs/imaging-analysis/results/brca_subtype/revision_v1/region_features_masks/HT565B1-S1H2_U1_07012023_region.tif\n",
      "/diskmnt/Projects/Users/estorrs/imaging-analysis/results/brca_subtype/revision_v1/region_features_masks/HT565B1-S1H2_U2_07012023_boundary.tif\n",
      "/diskmnt/Projects/Users/estorrs/imaging-analysis/results/brca_subtype/revision_v1/region_features_masks/HT565B1-S1H2_U2_07012023_ductal.tif\n",
      "/diskmnt/Projects/Users/estorrs/imaging-analysis/results/brca_subtype/revision_v1/region_features_masks/HT565B1-S1H2_U2_07012023_expanded.tif\n",
      "/diskmnt/Projects/Users/estorrs/imaging-analysis/results/brca_subtype/revision_v1/region_features_masks/HT565B1-S1H2_U2_07012023_myoepi.tif\n",
      "/diskmnt/Projects/Users/estorrs/imaging-analysis/results/brca_subtype/revision_v1/region_features_masks/HT565B1-S1H2_U2_07012023_region.tif\n"
     ]
    }
   ],
   "source": [
    "for fp in mask_fps:\n",
    "    print(fp)\n",
    "    new_fp = fp.replace('.tif', '_thumbnail_05.tif')\n",
    "    img = tifffile.imread(fp)\n",
    "    img = torch.tensor(img).unsqueeze(0)\n",
    "    thumb = TF.resize(img, (int(img.shape[-2] * scale), int(img.shape[-1] * scale)),\n",
    "                     interpolation=TF.InterpolationMode.NEAREST, antialias=False)\n",
    "    thumb = thumb.squeeze().numpy()\n",
    "    tifffile.imwrite(new_fp, thumb, compression='LZW')"
   ]
  },
  {
   "cell_type": "code",
   "execution_count": null,
   "id": "7657404a",
   "metadata": {},
   "outputs": [],
   "source": []
  }
 ],
 "metadata": {
  "kernelspec": {
   "display_name": "Python 3 (ipykernel)",
   "language": "python",
   "name": "python3"
  },
  "language_info": {
   "codemirror_mode": {
    "name": "ipython",
    "version": 3
   },
   "file_extension": ".py",
   "mimetype": "text/x-python",
   "name": "python",
   "nbconvert_exporter": "python",
   "pygments_lexer": "ipython3",
   "version": "3.8.0"
  }
 },
 "nbformat": 4,
 "nbformat_minor": 5
}
