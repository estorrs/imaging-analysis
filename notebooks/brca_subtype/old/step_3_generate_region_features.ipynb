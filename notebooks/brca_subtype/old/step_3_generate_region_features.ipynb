{
 "cells": [
  {
   "cell_type": "code",
   "execution_count": 38,
   "id": "35e15e46",
   "metadata": {},
   "outputs": [],
   "source": [
    "import logging\n",
    "import os\n",
    "import math\n",
    "import shutil\n",
    "import subprocess\n",
    "from pathlib import Path\n",
    "from collections import Counter\n",
    "\n",
    "import tifffile\n",
    "import scanpy as sc\n",
    "import pandas as pd\n",
    "import numpy as np\n",
    "import seaborn as sns\n",
    "import matplotlib.pyplot as plt\n",
    "import torchvision.transforms.functional as TF\n",
    "import torch\n",
    "from skimage.filters import gaussian\n",
    "from skimage.morphology import binary_erosion, remove_small_objects, binary_dilation, label\n",
    "from skimage.measure import regionprops_table, regionprops\n",
    "from scipy.ndimage import binary_fill_holes\n",
    "from skimage.segmentation import expand_labels\n",
    "from skimage.exposure import rescale_intensity\n",
    "from einops import rearrange\n"
   ]
  },
  {
   "cell_type": "code",
   "execution_count": 26,
   "id": "f6d0238a",
   "metadata": {},
   "outputs": [
    {
     "name": "stdout",
     "output_type": "stream",
     "text": [
      "The autoreload extension is already loaded. To reload it, use:\n",
      "  %reload_ext autoreload\n"
     ]
    }
   ],
   "source": [
    "%load_ext autoreload"
   ]
  },
  {
   "cell_type": "code",
   "execution_count": 27,
   "id": "7dc4b660",
   "metadata": {},
   "outputs": [],
   "source": [
    "%autoreload 2"
   ]
  },
  {
   "cell_type": "code",
   "execution_count": 28,
   "id": "42285c2d",
   "metadata": {},
   "outputs": [],
   "source": [
    "import multiplex_imaging_pipeline.utils as utils\n",
    "from multiplex_imaging_pipeline.region_features import get_region_features"
   ]
  },
  {
   "cell_type": "code",
   "execution_count": 5,
   "id": "daf8b926",
   "metadata": {},
   "outputs": [],
   "source": [
    "output_dir = '/diskmnt/Projects/Users/estorrs/imaging-analysis/results/brca_subtype/revision_v1'\n",
    "Path(output_dir).mkdir(parents=True, exist_ok=True)"
   ]
  },
  {
   "cell_type": "code",
   "execution_count": 7,
   "id": "fcf22e72",
   "metadata": {},
   "outputs": [],
   "source": [
    "adata_fps = sorted(utils.listfiles(os.path.join(output_dir, 'spatial_features'), regex=r'.h5ad$'))\n",
    "sample_to_adata = {fp.split('/')[-1].replace('.h5ad', ''):fp for fp in adata_fps}"
   ]
  },
  {
   "cell_type": "code",
   "execution_count": 8,
   "id": "da45828c",
   "metadata": {},
   "outputs": [],
   "source": [
    "ome_fps = sorted(utils.listfiles('/diskmnt/Projects/Users/estorrs/multiplex_data/codex/htan',\n",
    "                         regex='/level_2/[^/]+.ome.tiff$'))\n",
    "sample_to_ome = {fp.split('/')[-1].replace('.ome.tiff', ''):fp for fp in ome_fps}"
   ]
  },
  {
   "cell_type": "code",
   "execution_count": null,
   "id": "5e53a14e",
   "metadata": {},
   "outputs": [],
   "source": []
  },
  {
   "cell_type": "code",
   "execution_count": null,
   "id": "49fd432c",
   "metadata": {},
   "outputs": [],
   "source": []
  },
  {
   "cell_type": "code",
   "execution_count": 11,
   "id": "f1eccd72",
   "metadata": {},
   "outputs": [
    {
     "data": {
      "text/plain": [
       "dict_keys(['HT110B1_S1H4', 'HT171B1-S1H9A1-4_left_05122023', 'HT171B1-S1H9A1-4_right_05122023', 'HT171B1-S1H9A1-A4_left_05262023', 'HT171B1-S1H9A1-A4_right_05262023', 'HT206B1-S1H5_U1_07012023', 'HT206B1-S1H5_U2_07012023', 'HT206B1_H1', 'HT206B1_H1_06252022', 'HT206B1_S1H2L4_20221028', 'HT243B1-S1H4A4_04192023', 'HT243B1-S1H4A4_left_05122023', 'HT243B1-S1H4A4_left_05262023', 'HT243B1-S1H4A4_right_05122023', 'HT243B1-S1H4A4_right_05262023', 'HT243B1_S1H4', 'HT271B1-S1H6A5_04192023', 'HT271B1-S1H6A5_left_05122023', 'HT271B1-S1H6A5_left_05262023', 'HT271B1-S1H6A5_mid_05262023', 'HT271B1-S1H6A5_right_05122023', 'HT271B1-S1H6A5_right_05262023', 'HT271B1_S1H3A5_02172023', 'HT297B1-S1H1_U1_07012023', 'HT297B1-S1H1_U2_07012023', 'HT305B1_S1H1', 'HT308B1-S1H5A4_04192023', 'HT308B1-S1H5A4_left_05122023', 'HT308B1-S1H5A4_left_05262023', 'HT308B1-S1H5A4_right_05122023', 'HT308B1-S1H5A4_right_05262023', 'HT323B1_H1A1', 'HT323B1_H1A4', 'HT323B1_H1_08042022', 'HT323B1_H3', 'HT339B1_H1A1', 'HT339B1_H2A1', 'HT339B2-H2_U1_07012023', 'HT339B2-H2_U2_07012023', 'HT365B1_S1H1_02132023', 'HT397B1_H2A2', 'HT397B1_H3A1', 'HT397B1_S1H1A3U22_04122023', 'HT397B1_S1H1A3U31_04062023', 'HT397B1_U12_03172023', 'HT397B1_U2_03162023', 'HT480B1_S1H2_R001', 'HT480B1_S1H2_R002', 'HT565B1-H2_04262023', 'HT565B1-S1H2_U1_07012023', 'HT565B1-S1H2_U2_07012023'])"
      ]
     },
     "execution_count": 11,
     "metadata": {},
     "output_type": "execute_result"
    }
   ],
   "source": [
    "sample_to_adata.keys()"
   ]
  },
  {
   "cell_type": "code",
   "execution_count": 14,
   "id": "b5ec5844",
   "metadata": {},
   "outputs": [
    {
     "data": {
      "text/plain": [
       "['20230120_PKD_K1301459',\n",
       " '20230120_PKD_K200452_2PB',\n",
       " '20230120_PKD_K2200446_4PB',\n",
       " 'CRC112',\n",
       " 'E16.5_female_section1_04272023',\n",
       " 'E16.5_female_section2_04272023',\n",
       " 'E16.5_male_section1_04272023',\n",
       " 'E16.5_male_section2_04272023',\n",
       " 'HS-18-11250-1B_06102023',\n",
       " 'HS-18-6934-2A_06062023',\n",
       " 'HS-19-14816-1J_06062023',\n",
       " 'HS-19-6647-1B_06102023',\n",
       " 'HT110B1-S1H4',\n",
       " 'HT171B1-S1H1A1',\n",
       " 'HT171B1-S1H1A4',\n",
       " 'HT171B1-S1H9A1-4_04192023',\n",
       " 'HT171B1-S1H9A1-4_left_05122023',\n",
       " 'HT171B1-S1H9A1-4_right_05122023',\n",
       " 'HT171B1-S1H9A1-A4_left_05262023',\n",
       " 'HT171B1-S1H9A1-A4_right_05262023',\n",
       " 'HT171B1_20221205',\n",
       " 'HT171B1_S1H1A1',\n",
       " 'HT171B1_S1H1A4',\n",
       " 'HT171B1_S1H8A1_20221122',\n",
       " 'HT206B1-H1',\n",
       " 'HT206B1-S1H5_U1_07012023',\n",
       " 'HT206B1-S1H5_U2_07012023',\n",
       " 'HT206B1_Ctrl',\n",
       " 'HT206B1_H1_06252022',\n",
       " 'HT206B1_S1H2L4',\n",
       " 'HT243B1-S1H4',\n",
       " 'HT243B1-S1H4A4_04192023',\n",
       " 'HT243B1-S1H4A4_left_05122023',\n",
       " 'HT243B1-S1H4A4_left_05262023',\n",
       " 'HT243B1-S1H4A4_right_05122023',\n",
       " 'HT243B1-S1H4A4_right_05262023',\n",
       " 'HT271B1-S1H3A5',\n",
       " 'HT271B1-S1H6A5_04192023',\n",
       " 'HT271B1-S1H6A5_left_05122023',\n",
       " 'HT271B1-S1H6A5_left_05262023',\n",
       " 'HT271B1-S1H6A5_mid_05262023',\n",
       " 'HT271B1-S1H6A5_right_05122023',\n",
       " 'HT271B1-S1H6A5_right_05262023',\n",
       " 'HT271B1_S1H3A5',\n",
       " 'HT297B1-H1-08042022',\n",
       " 'HT297B1-S1H1_U1_07012023',\n",
       " 'HT297B1-S1H1_U2_07012023',\n",
       " 'HT305B1-S1H1',\n",
       " 'HT308B1',\n",
       " 'HT308B1-S1H5A4_04192023',\n",
       " 'HT308B1-S1H5A4_left_05122023',\n",
       " 'HT308B1-S1H5A4_left_05262023',\n",
       " 'HT308B1-S1H5A4_right_05122023',\n",
       " 'HT308B1-S1H5A4_right_05262023',\n",
       " 'HT323B1-H1-08042022',\n",
       " 'HT323B1-H1A1',\n",
       " 'HT323B1-H1A4',\n",
       " 'HT323B1-H3',\n",
       " 'HT339B1-H1A1',\n",
       " 'HT339B1-H2A1',\n",
       " 'HT339B1-H4A4',\n",
       " 'HT339B2-H1_04262023',\n",
       " 'HT339B2-H2_U1_07012023',\n",
       " 'HT339B2-H2_U2_07012023',\n",
       " 'HT342C1_Th1K4A1_section1_03042022',\n",
       " 'HT342C1_Th1K4A1_section2_03042022',\n",
       " 'HT347C1_Th1K2A1_section1_03042022',\n",
       " 'HT347C1_Th1K2A1_section2_03042022',\n",
       " 'HT365B1_S1H1',\n",
       " 'HT397B1-H2A2',\n",
       " 'HT397B1-H3A1',\n",
       " 'HT397B1_S1H1A3U22_04122023',\n",
       " 'HT397B1_S1H1A3U31_04062023',\n",
       " 'HT397B1_U12_03172023',\n",
       " 'HT397B1_U2_03162023',\n",
       " 'HT413C1-K2_04262023',\n",
       " 'HT427P1_S1H1A3',\n",
       " 'HT434P1-H1',\n",
       " 'HT480B1-S1H2-R001',\n",
       " 'HT480B1-S1H2-R002',\n",
       " 'HT488C1-Th1K1Fp1-U14_041823',\n",
       " 'HT488C1-Th1K1Fp1-U2_041323',\n",
       " 'HT553P1-H2_04262023',\n",
       " 'HT565B1-H2_04262023',\n",
       " 'HT565B1-S1H2_U1_07012023',\n",
       " 'HT565B1-S1H2_U2_07012023',\n",
       " 'K1301459',\n",
       " 'K1301459_3',\n",
       " 'K2200110-6',\n",
       " 'K2200444_2PB',\n",
       " 'K2200446_3PB',\n",
       " 'K2200452_2PB',\n",
       " 'K2200453_2_03012023',\n",
       " 'K2200487_2_03012023',\n",
       " 'K2200493_2_03012023',\n",
       " 'K2200581-3_04202023',\n",
       " 'K2200591-2_04202023',\n",
       " 'K2200609-2_04202023',\n",
       " 'K2300120-3_06232023',\n",
       " 'K2300125-2_06232023',\n",
       " 'K2300132-3_06232023',\n",
       " 'MMTV_PYV1_12wk_06052023',\n",
       " 'MMTV_PYV1_15wk_06052023',\n",
       " 'MMTV_PYV1_3wk_06052023',\n",
       " 'MMTV_PYV1_6wk_06052023',\n",
       " 'Mouse_PKD_741',\n",
       " 'P1_female_section1_04272023',\n",
       " 'P1_female_section2_04272023',\n",
       " 'P1_male_section1_04272023',\n",
       " 'P1_male_section2_04272023',\n",
       " 'P21_male_04272023',\n",
       " 'S15_1909_A3_Section3_03082023',\n",
       " 'S15_1909_C2_Section3_03092023',\n",
       " 'SN001H1',\n",
       " 'SN002_SN050',\n",
       " 'SN002_left_04152023',\n",
       " 'SN002_right_04152023',\n",
       " 'SN024_left_04152023',\n",
       " 'SN024_right_04152023',\n",
       " 'SN056_left_04152023',\n",
       " 'SN056_right_04152023',\n",
       " 'codex_processed_hu_pancreas_TrisEDTA_2020-10-08',\n",
       " 'p21_female_04272023',\n",
       " 'pkd_14504',\n",
       " 'pkd_14508',\n",
       " 'pkd_14519_38d_02232023',\n",
       " 'pkd_14801_38d_02232023',\n",
       " 'pkd_21d_04212023',\n",
       " 'pkd_28d_04212023',\n",
       " 'pkd_38d_s1_04212023',\n",
       " 'pkd_38d_s2_04212023',\n",
       " 'pkd_738_21d_02232023',\n",
       " 'pkd_743_21d_02232023',\n",
       " 'pkd_811',\n",
       " 'pkd_813',\n",
       " 'test']"
      ]
     },
     "execution_count": 14,
     "metadata": {},
     "output_type": "execute_result"
    }
   ],
   "source": [
    "sorted(sample_to_ome.keys())"
   ]
  },
  {
   "cell_type": "code",
   "execution_count": 10,
   "id": "ea0caad3",
   "metadata": {},
   "outputs": [
    {
     "data": {
      "text/plain": [
       "{'HT110B1_S1H4',\n",
       " 'HT206B1_H1',\n",
       " 'HT206B1_S1H2L4_20221028',\n",
       " 'HT243B1_S1H4',\n",
       " 'HT271B1_S1H3A5_02172023',\n",
       " 'HT305B1_S1H1',\n",
       " 'HT323B1_H1A1',\n",
       " 'HT323B1_H1A4',\n",
       " 'HT323B1_H1_08042022',\n",
       " 'HT323B1_H3',\n",
       " 'HT339B1_H1A1',\n",
       " 'HT339B1_H2A1',\n",
       " 'HT365B1_S1H1_02132023',\n",
       " 'HT397B1_H2A2',\n",
       " 'HT397B1_H3A1',\n",
       " 'HT480B1_S1H2_R001',\n",
       " 'HT480B1_S1H2_R002'}"
      ]
     },
     "execution_count": 10,
     "metadata": {},
     "output_type": "execute_result"
    }
   ],
   "source": [
    "set(sample_to_adata.keys()).difference(set(sample_to_ome.keys()))"
   ]
  },
  {
   "cell_type": "code",
   "execution_count": 15,
   "id": "dc724736",
   "metadata": {},
   "outputs": [],
   "source": [
    "name_map = {\n",
    "    'HT110B1-S1H4': 'HT110B1_S1H4',\n",
    "    'HT206B1-H1': 'HT206B1_H1',\n",
    "    'HT206B1_S1H2L4': 'HT206B1_S1H2L4_20221028',\n",
    "    'HT243B1-S1H4': 'HT243B1_S1H4',\n",
    "    'HT271B1-S1H3A5': 'HT271B1_S1H3A5_02172023',\n",
    "    'HT305B1-S1H1': 'HT305B1_S1H1',\n",
    "    'HT323B1-H1A1': 'HT323B1_H1A1',\n",
    "    'HT323B1-H1A4': 'HT323B1_H1A4',\n",
    "    'HT323B1-H1-08042022': 'HT323B1_H1_08042022',\n",
    "    'HT323B1-H3': 'HT323B1_H3',\n",
    "    'HT339B1-H1A1': 'HT339B1_H1A1',\n",
    "    'HT339B1-H2A1': 'HT339B1_H2A1',\n",
    "    'HT365B1_S1H1': 'HT365B1_S1H1_02132023',\n",
    "    'HT397B1-H2A2': 'HT397B1_H2A2',\n",
    "    'HT397B1-H3A1': 'HT397B1_H3A1',\n",
    "    'HT480B1-S1H2-R001': 'HT480B1_S1H2_R001',\n",
    "    'HT480B1-S1H2-R002': 'HT480B1_S1H2_R002'\n",
    "}\n",
    "\n",
    "sample_to_ome = {name_map.get(k, k):v for k, v in sample_to_ome.items()}"
   ]
  },
  {
   "cell_type": "code",
   "execution_count": 17,
   "id": "e3561467",
   "metadata": {},
   "outputs": [],
   "source": [
    "def generate_mask(mask, sigma=1., min_area=10000):\n",
    "    mask = gaussian(mask, sigma=sigma)\n",
    "    mask = binary_fill_holes(mask)\n",
    "    \n",
    "    labeled = label(mask)\n",
    "    props = regionprops(labeled)\n",
    "    \n",
    "    mask = labeled > 0\n",
    "    for prop in props:\n",
    "        if prop.area < min_area:\n",
    "            r1, c1, r2, c2 = prop.bbox\n",
    "            r1, c1 = max(r1 - 10, 0), max(c1 - 10, 0)\n",
    "            r2, c2, = r2 + 10, c2 + 10\n",
    "            mask[r1:r2, c1:c2][labeled[r1:r2, c1:c2]==prop.label] = 0\n",
    "            \n",
    "    return mask"
   ]
  },
  {
   "cell_type": "code",
   "execution_count": 18,
   "id": "500734e0",
   "metadata": {},
   "outputs": [],
   "source": [
    "out = os.path.join(output_dir, 'region_masks')\n",
    "Path(out).mkdir(parents=True, exist_ok=True)"
   ]
  },
  {
   "cell_type": "code",
   "execution_count": 21,
   "id": "0e95ef7a",
   "metadata": {},
   "outputs": [
    {
     "name": "stdout",
     "output_type": "stream",
     "text": [
      "HT110B1_S1H4\n"
     ]
    },
    {
     "name": "stderr",
     "output_type": "stream",
     "text": [
      "/diskmnt/Projects/Users/estorrs/miniconda3/envs/mip/lib/python3.8/site-packages/ome_types/_convenience.py:112: FutureWarning: The default XML parser will be changing from 'xmlschema' to 'lxml' in version 0.4.0.  To silence this warning, please provide the `parser` argument, specifying either 'lxml' (to opt into the new behavior), or'xmlschema' (to retain the old behavior).\n",
      "  d = to_dict(os.fspath(xml), parser=parser, validate=validate)\n",
      "/diskmnt/Projects/Users/estorrs/sandbox/tmp/ipykernel_214946/578118905.py:23: DeprecationWarning: <tifffile.imsave> is deprecated. Use tifffile.imwrite\n",
      "  tifffile.imsave(os.path.join(out, f'{sample}.tif'), mask)\n"
     ]
    },
    {
     "name": "stdout",
     "output_type": "stream",
     "text": [
      "HT171B1-S1H9A1-4_left_05122023\n"
     ]
    },
    {
     "name": "stderr",
     "output_type": "stream",
     "text": [
      "/diskmnt/Projects/Users/estorrs/miniconda3/envs/mip/lib/python3.8/site-packages/ome_types/_convenience.py:112: FutureWarning: The default XML parser will be changing from 'xmlschema' to 'lxml' in version 0.4.0.  To silence this warning, please provide the `parser` argument, specifying either 'lxml' (to opt into the new behavior), or'xmlschema' (to retain the old behavior).\n",
      "  d = to_dict(os.fspath(xml), parser=parser, validate=validate)\n",
      "/diskmnt/Projects/Users/estorrs/sandbox/tmp/ipykernel_214946/578118905.py:23: DeprecationWarning: <tifffile.imsave> is deprecated. Use tifffile.imwrite\n",
      "  tifffile.imsave(os.path.join(out, f'{sample}.tif'), mask)\n",
      "/diskmnt/Projects/Users/estorrs/miniconda3/envs/mip/lib/python3.8/site-packages/ome_types/_convenience.py:112: FutureWarning: The default XML parser will be changing from 'xmlschema' to 'lxml' in version 0.4.0.  To silence this warning, please provide the `parser` argument, specifying either 'lxml' (to opt into the new behavior), or'xmlschema' (to retain the old behavior).\n",
      "  d = to_dict(os.fspath(xml), parser=parser, validate=validate)\n"
     ]
    },
    {
     "name": "stdout",
     "output_type": "stream",
     "text": [
      "HT171B1-S1H9A1-4_right_05122023\n"
     ]
    },
    {
     "name": "stderr",
     "output_type": "stream",
     "text": [
      "/diskmnt/Projects/Users/estorrs/sandbox/tmp/ipykernel_214946/578118905.py:23: DeprecationWarning: <tifffile.imsave> is deprecated. Use tifffile.imwrite\n",
      "  tifffile.imsave(os.path.join(out, f'{sample}.tif'), mask)\n",
      "/diskmnt/Projects/Users/estorrs/miniconda3/envs/mip/lib/python3.8/site-packages/ome_types/_convenience.py:112: FutureWarning: The default XML parser will be changing from 'xmlschema' to 'lxml' in version 0.4.0.  To silence this warning, please provide the `parser` argument, specifying either 'lxml' (to opt into the new behavior), or'xmlschema' (to retain the old behavior).\n",
      "  d = to_dict(os.fspath(xml), parser=parser, validate=validate)\n"
     ]
    },
    {
     "name": "stdout",
     "output_type": "stream",
     "text": [
      "HT171B1-S1H9A1-A4_left_05262023\n"
     ]
    },
    {
     "name": "stderr",
     "output_type": "stream",
     "text": [
      "/diskmnt/Projects/Users/estorrs/sandbox/tmp/ipykernel_214946/578118905.py:23: DeprecationWarning: <tifffile.imsave> is deprecated. Use tifffile.imwrite\n",
      "  tifffile.imsave(os.path.join(out, f'{sample}.tif'), mask)\n",
      "/diskmnt/Projects/Users/estorrs/miniconda3/envs/mip/lib/python3.8/site-packages/ome_types/_convenience.py:112: FutureWarning: The default XML parser will be changing from 'xmlschema' to 'lxml' in version 0.4.0.  To silence this warning, please provide the `parser` argument, specifying either 'lxml' (to opt into the new behavior), or'xmlschema' (to retain the old behavior).\n",
      "  d = to_dict(os.fspath(xml), parser=parser, validate=validate)\n"
     ]
    },
    {
     "name": "stdout",
     "output_type": "stream",
     "text": [
      "HT171B1-S1H9A1-A4_right_05262023\n"
     ]
    },
    {
     "name": "stderr",
     "output_type": "stream",
     "text": [
      "/diskmnt/Projects/Users/estorrs/sandbox/tmp/ipykernel_214946/578118905.py:23: DeprecationWarning: <tifffile.imsave> is deprecated. Use tifffile.imwrite\n",
      "  tifffile.imsave(os.path.join(out, f'{sample}.tif'), mask)\n",
      "/diskmnt/Projects/Users/estorrs/miniconda3/envs/mip/lib/python3.8/site-packages/ome_types/_convenience.py:112: FutureWarning: The default XML parser will be changing from 'xmlschema' to 'lxml' in version 0.4.0.  To silence this warning, please provide the `parser` argument, specifying either 'lxml' (to opt into the new behavior), or'xmlschema' (to retain the old behavior).\n",
      "  d = to_dict(os.fspath(xml), parser=parser, validate=validate)\n"
     ]
    },
    {
     "name": "stdout",
     "output_type": "stream",
     "text": [
      "HT206B1-S1H5_U1_07012023\n"
     ]
    },
    {
     "name": "stderr",
     "output_type": "stream",
     "text": [
      "/diskmnt/Projects/Users/estorrs/sandbox/tmp/ipykernel_214946/578118905.py:23: DeprecationWarning: <tifffile.imsave> is deprecated. Use tifffile.imwrite\n",
      "  tifffile.imsave(os.path.join(out, f'{sample}.tif'), mask)\n",
      "/diskmnt/Projects/Users/estorrs/miniconda3/envs/mip/lib/python3.8/site-packages/ome_types/_convenience.py:112: FutureWarning: The default XML parser will be changing from 'xmlschema' to 'lxml' in version 0.4.0.  To silence this warning, please provide the `parser` argument, specifying either 'lxml' (to opt into the new behavior), or'xmlschema' (to retain the old behavior).\n",
      "  d = to_dict(os.fspath(xml), parser=parser, validate=validate)\n"
     ]
    },
    {
     "name": "stdout",
     "output_type": "stream",
     "text": [
      "HT206B1-S1H5_U2_07012023\n"
     ]
    },
    {
     "name": "stderr",
     "output_type": "stream",
     "text": [
      "/diskmnt/Projects/Users/estorrs/sandbox/tmp/ipykernel_214946/578118905.py:23: DeprecationWarning: <tifffile.imsave> is deprecated. Use tifffile.imwrite\n",
      "  tifffile.imsave(os.path.join(out, f'{sample}.tif'), mask)\n",
      "/diskmnt/Projects/Users/estorrs/miniconda3/envs/mip/lib/python3.8/site-packages/ome_types/_convenience.py:112: FutureWarning: The default XML parser will be changing from 'xmlschema' to 'lxml' in version 0.4.0.  To silence this warning, please provide the `parser` argument, specifying either 'lxml' (to opt into the new behavior), or'xmlschema' (to retain the old behavior).\n",
      "  d = to_dict(os.fspath(xml), parser=parser, validate=validate)\n"
     ]
    },
    {
     "name": "stdout",
     "output_type": "stream",
     "text": [
      "HT206B1_H1\n"
     ]
    },
    {
     "name": "stderr",
     "output_type": "stream",
     "text": [
      "/diskmnt/Projects/Users/estorrs/sandbox/tmp/ipykernel_214946/578118905.py:23: DeprecationWarning: <tifffile.imsave> is deprecated. Use tifffile.imwrite\n",
      "  tifffile.imsave(os.path.join(out, f'{sample}.tif'), mask)\n",
      "/diskmnt/Projects/Users/estorrs/miniconda3/envs/mip/lib/python3.8/site-packages/ome_types/_convenience.py:112: FutureWarning: The default XML parser will be changing from 'xmlschema' to 'lxml' in version 0.4.0.  To silence this warning, please provide the `parser` argument, specifying either 'lxml' (to opt into the new behavior), or'xmlschema' (to retain the old behavior).\n",
      "  d = to_dict(os.fspath(xml), parser=parser, validate=validate)\n"
     ]
    },
    {
     "name": "stdout",
     "output_type": "stream",
     "text": [
      "HT206B1_H1_06252022\n"
     ]
    },
    {
     "name": "stderr",
     "output_type": "stream",
     "text": [
      "/diskmnt/Projects/Users/estorrs/sandbox/tmp/ipykernel_214946/578118905.py:23: DeprecationWarning: <tifffile.imsave> is deprecated. Use tifffile.imwrite\n",
      "  tifffile.imsave(os.path.join(out, f'{sample}.tif'), mask)\n"
     ]
    },
    {
     "name": "stdout",
     "output_type": "stream",
     "text": [
      "HT206B1_S1H2L4_20221028\n"
     ]
    },
    {
     "name": "stderr",
     "output_type": "stream",
     "text": [
      "/diskmnt/Projects/Users/estorrs/miniconda3/envs/mip/lib/python3.8/site-packages/ome_types/_convenience.py:112: FutureWarning: The default XML parser will be changing from 'xmlschema' to 'lxml' in version 0.4.0.  To silence this warning, please provide the `parser` argument, specifying either 'lxml' (to opt into the new behavior), or'xmlschema' (to retain the old behavior).\n",
      "  d = to_dict(os.fspath(xml), parser=parser, validate=validate)\n",
      "/diskmnt/Projects/Users/estorrs/sandbox/tmp/ipykernel_214946/578118905.py:23: DeprecationWarning: <tifffile.imsave> is deprecated. Use tifffile.imwrite\n",
      "  tifffile.imsave(os.path.join(out, f'{sample}.tif'), mask)\n"
     ]
    },
    {
     "name": "stdout",
     "output_type": "stream",
     "text": [
      "HT243B1-S1H4A4_04192023\n"
     ]
    },
    {
     "name": "stderr",
     "output_type": "stream",
     "text": [
      "/diskmnt/Projects/Users/estorrs/miniconda3/envs/mip/lib/python3.8/site-packages/ome_types/_convenience.py:112: FutureWarning: The default XML parser will be changing from 'xmlschema' to 'lxml' in version 0.4.0.  To silence this warning, please provide the `parser` argument, specifying either 'lxml' (to opt into the new behavior), or'xmlschema' (to retain the old behavior).\n",
      "  d = to_dict(os.fspath(xml), parser=parser, validate=validate)\n",
      "/diskmnt/Projects/Users/estorrs/sandbox/tmp/ipykernel_214946/578118905.py:23: DeprecationWarning: <tifffile.imsave> is deprecated. Use tifffile.imwrite\n",
      "  tifffile.imsave(os.path.join(out, f'{sample}.tif'), mask)\n"
     ]
    },
    {
     "name": "stdout",
     "output_type": "stream",
     "text": [
      "HT243B1-S1H4A4_left_05122023\n"
     ]
    },
    {
     "name": "stderr",
     "output_type": "stream",
     "text": [
      "/diskmnt/Projects/Users/estorrs/miniconda3/envs/mip/lib/python3.8/site-packages/ome_types/_convenience.py:112: FutureWarning: The default XML parser will be changing from 'xmlschema' to 'lxml' in version 0.4.0.  To silence this warning, please provide the `parser` argument, specifying either 'lxml' (to opt into the new behavior), or'xmlschema' (to retain the old behavior).\n",
      "  d = to_dict(os.fspath(xml), parser=parser, validate=validate)\n",
      "/diskmnt/Projects/Users/estorrs/sandbox/tmp/ipykernel_214946/578118905.py:23: DeprecationWarning: <tifffile.imsave> is deprecated. Use tifffile.imwrite\n",
      "  tifffile.imsave(os.path.join(out, f'{sample}.tif'), mask)\n"
     ]
    },
    {
     "name": "stdout",
     "output_type": "stream",
     "text": [
      "HT243B1-S1H4A4_left_05262023\n"
     ]
    },
    {
     "name": "stderr",
     "output_type": "stream",
     "text": [
      "/diskmnt/Projects/Users/estorrs/miniconda3/envs/mip/lib/python3.8/site-packages/ome_types/_convenience.py:112: FutureWarning: The default XML parser will be changing from 'xmlschema' to 'lxml' in version 0.4.0.  To silence this warning, please provide the `parser` argument, specifying either 'lxml' (to opt into the new behavior), or'xmlschema' (to retain the old behavior).\n",
      "  d = to_dict(os.fspath(xml), parser=parser, validate=validate)\n",
      "/diskmnt/Projects/Users/estorrs/sandbox/tmp/ipykernel_214946/578118905.py:23: DeprecationWarning: <tifffile.imsave> is deprecated. Use tifffile.imwrite\n",
      "  tifffile.imsave(os.path.join(out, f'{sample}.tif'), mask)\n",
      "/diskmnt/Projects/Users/estorrs/miniconda3/envs/mip/lib/python3.8/site-packages/ome_types/_convenience.py:112: FutureWarning: The default XML parser will be changing from 'xmlschema' to 'lxml' in version 0.4.0.  To silence this warning, please provide the `parser` argument, specifying either 'lxml' (to opt into the new behavior), or'xmlschema' (to retain the old behavior).\n",
      "  d = to_dict(os.fspath(xml), parser=parser, validate=validate)\n"
     ]
    },
    {
     "name": "stdout",
     "output_type": "stream",
     "text": [
      "HT243B1-S1H4A4_right_05122023\n"
     ]
    },
    {
     "name": "stderr",
     "output_type": "stream",
     "text": [
      "/diskmnt/Projects/Users/estorrs/sandbox/tmp/ipykernel_214946/578118905.py:23: DeprecationWarning: <tifffile.imsave> is deprecated. Use tifffile.imwrite\n",
      "  tifffile.imsave(os.path.join(out, f'{sample}.tif'), mask)\n"
     ]
    },
    {
     "name": "stdout",
     "output_type": "stream",
     "text": [
      "HT243B1-S1H4A4_right_05262023\n"
     ]
    },
    {
     "name": "stderr",
     "output_type": "stream",
     "text": [
      "/diskmnt/Projects/Users/estorrs/miniconda3/envs/mip/lib/python3.8/site-packages/ome_types/_convenience.py:112: FutureWarning: The default XML parser will be changing from 'xmlschema' to 'lxml' in version 0.4.0.  To silence this warning, please provide the `parser` argument, specifying either 'lxml' (to opt into the new behavior), or'xmlschema' (to retain the old behavior).\n",
      "  d = to_dict(os.fspath(xml), parser=parser, validate=validate)\n",
      "/diskmnt/Projects/Users/estorrs/sandbox/tmp/ipykernel_214946/578118905.py:23: DeprecationWarning: <tifffile.imsave> is deprecated. Use tifffile.imwrite\n",
      "  tifffile.imsave(os.path.join(out, f'{sample}.tif'), mask)\n",
      "/diskmnt/Projects/Users/estorrs/miniconda3/envs/mip/lib/python3.8/site-packages/ome_types/_convenience.py:112: FutureWarning: The default XML parser will be changing from 'xmlschema' to 'lxml' in version 0.4.0.  To silence this warning, please provide the `parser` argument, specifying either 'lxml' (to opt into the new behavior), or'xmlschema' (to retain the old behavior).\n",
      "  d = to_dict(os.fspath(xml), parser=parser, validate=validate)\n"
     ]
    },
    {
     "name": "stdout",
     "output_type": "stream",
     "text": [
      "HT243B1_S1H4\n"
     ]
    },
    {
     "name": "stderr",
     "output_type": "stream",
     "text": [
      "/diskmnt/Projects/Users/estorrs/sandbox/tmp/ipykernel_214946/578118905.py:23: DeprecationWarning: <tifffile.imsave> is deprecated. Use tifffile.imwrite\n",
      "  tifffile.imsave(os.path.join(out, f'{sample}.tif'), mask)\n"
     ]
    },
    {
     "name": "stdout",
     "output_type": "stream",
     "text": [
      "HT271B1-S1H6A5_04192023\n"
     ]
    },
    {
     "name": "stderr",
     "output_type": "stream",
     "text": [
      "/diskmnt/Projects/Users/estorrs/miniconda3/envs/mip/lib/python3.8/site-packages/ome_types/_convenience.py:112: FutureWarning: The default XML parser will be changing from 'xmlschema' to 'lxml' in version 0.4.0.  To silence this warning, please provide the `parser` argument, specifying either 'lxml' (to opt into the new behavior), or'xmlschema' (to retain the old behavior).\n",
      "  d = to_dict(os.fspath(xml), parser=parser, validate=validate)\n",
      "/diskmnt/Projects/Users/estorrs/sandbox/tmp/ipykernel_214946/578118905.py:23: DeprecationWarning: <tifffile.imsave> is deprecated. Use tifffile.imwrite\n",
      "  tifffile.imsave(os.path.join(out, f'{sample}.tif'), mask)\n"
     ]
    },
    {
     "name": "stdout",
     "output_type": "stream",
     "text": [
      "HT271B1-S1H6A5_left_05122023\n"
     ]
    },
    {
     "name": "stderr",
     "output_type": "stream",
     "text": [
      "/diskmnt/Projects/Users/estorrs/miniconda3/envs/mip/lib/python3.8/site-packages/ome_types/_convenience.py:112: FutureWarning: The default XML parser will be changing from 'xmlschema' to 'lxml' in version 0.4.0.  To silence this warning, please provide the `parser` argument, specifying either 'lxml' (to opt into the new behavior), or'xmlschema' (to retain the old behavior).\n",
      "  d = to_dict(os.fspath(xml), parser=parser, validate=validate)\n",
      "/diskmnt/Projects/Users/estorrs/sandbox/tmp/ipykernel_214946/578118905.py:23: DeprecationWarning: <tifffile.imsave> is deprecated. Use tifffile.imwrite\n",
      "  tifffile.imsave(os.path.join(out, f'{sample}.tif'), mask)\n",
      "/diskmnt/Projects/Users/estorrs/miniconda3/envs/mip/lib/python3.8/site-packages/ome_types/_convenience.py:112: FutureWarning: The default XML parser will be changing from 'xmlschema' to 'lxml' in version 0.4.0.  To silence this warning, please provide the `parser` argument, specifying either 'lxml' (to opt into the new behavior), or'xmlschema' (to retain the old behavior).\n",
      "  d = to_dict(os.fspath(xml), parser=parser, validate=validate)\n"
     ]
    },
    {
     "name": "stdout",
     "output_type": "stream",
     "text": [
      "HT271B1-S1H6A5_left_05262023\n"
     ]
    },
    {
     "name": "stderr",
     "output_type": "stream",
     "text": [
      "/diskmnt/Projects/Users/estorrs/sandbox/tmp/ipykernel_214946/578118905.py:23: DeprecationWarning: <tifffile.imsave> is deprecated. Use tifffile.imwrite\n",
      "  tifffile.imsave(os.path.join(out, f'{sample}.tif'), mask)\n",
      "/diskmnt/Projects/Users/estorrs/miniconda3/envs/mip/lib/python3.8/site-packages/ome_types/_convenience.py:112: FutureWarning: The default XML parser will be changing from 'xmlschema' to 'lxml' in version 0.4.0.  To silence this warning, please provide the `parser` argument, specifying either 'lxml' (to opt into the new behavior), or'xmlschema' (to retain the old behavior).\n",
      "  d = to_dict(os.fspath(xml), parser=parser, validate=validate)\n"
     ]
    },
    {
     "name": "stdout",
     "output_type": "stream",
     "text": [
      "HT271B1-S1H6A5_mid_05262023\n"
     ]
    },
    {
     "name": "stderr",
     "output_type": "stream",
     "text": [
      "/diskmnt/Projects/Users/estorrs/sandbox/tmp/ipykernel_214946/578118905.py:23: DeprecationWarning: <tifffile.imsave> is deprecated. Use tifffile.imwrite\n",
      "  tifffile.imsave(os.path.join(out, f'{sample}.tif'), mask)\n",
      "/diskmnt/Projects/Users/estorrs/miniconda3/envs/mip/lib/python3.8/site-packages/ome_types/_convenience.py:112: FutureWarning: The default XML parser will be changing from 'xmlschema' to 'lxml' in version 0.4.0.  To silence this warning, please provide the `parser` argument, specifying either 'lxml' (to opt into the new behavior), or'xmlschema' (to retain the old behavior).\n",
      "  d = to_dict(os.fspath(xml), parser=parser, validate=validate)\n"
     ]
    },
    {
     "name": "stdout",
     "output_type": "stream",
     "text": [
      "HT271B1-S1H6A5_right_05122023\n"
     ]
    },
    {
     "name": "stderr",
     "output_type": "stream",
     "text": [
      "/diskmnt/Projects/Users/estorrs/sandbox/tmp/ipykernel_214946/578118905.py:23: DeprecationWarning: <tifffile.imsave> is deprecated. Use tifffile.imwrite\n",
      "  tifffile.imsave(os.path.join(out, f'{sample}.tif'), mask)\n"
     ]
    },
    {
     "name": "stdout",
     "output_type": "stream",
     "text": [
      "HT271B1-S1H6A5_right_05262023\n"
     ]
    },
    {
     "name": "stderr",
     "output_type": "stream",
     "text": [
      "/diskmnt/Projects/Users/estorrs/miniconda3/envs/mip/lib/python3.8/site-packages/ome_types/_convenience.py:112: FutureWarning: The default XML parser will be changing from 'xmlschema' to 'lxml' in version 0.4.0.  To silence this warning, please provide the `parser` argument, specifying either 'lxml' (to opt into the new behavior), or'xmlschema' (to retain the old behavior).\n",
      "  d = to_dict(os.fspath(xml), parser=parser, validate=validate)\n",
      "/diskmnt/Projects/Users/estorrs/sandbox/tmp/ipykernel_214946/578118905.py:23: DeprecationWarning: <tifffile.imsave> is deprecated. Use tifffile.imwrite\n",
      "  tifffile.imsave(os.path.join(out, f'{sample}.tif'), mask)\n",
      "/diskmnt/Projects/Users/estorrs/miniconda3/envs/mip/lib/python3.8/site-packages/ome_types/_convenience.py:112: FutureWarning: The default XML parser will be changing from 'xmlschema' to 'lxml' in version 0.4.0.  To silence this warning, please provide the `parser` argument, specifying either 'lxml' (to opt into the new behavior), or'xmlschema' (to retain the old behavior).\n",
      "  d = to_dict(os.fspath(xml), parser=parser, validate=validate)\n"
     ]
    },
    {
     "name": "stdout",
     "output_type": "stream",
     "text": [
      "HT271B1_S1H3A5_02172023\n"
     ]
    },
    {
     "name": "stderr",
     "output_type": "stream",
     "text": [
      "/diskmnt/Projects/Users/estorrs/sandbox/tmp/ipykernel_214946/578118905.py:23: DeprecationWarning: <tifffile.imsave> is deprecated. Use tifffile.imwrite\n",
      "  tifffile.imsave(os.path.join(out, f'{sample}.tif'), mask)\n",
      "/diskmnt/Projects/Users/estorrs/miniconda3/envs/mip/lib/python3.8/site-packages/ome_types/_convenience.py:112: FutureWarning: The default XML parser will be changing from 'xmlschema' to 'lxml' in version 0.4.0.  To silence this warning, please provide the `parser` argument, specifying either 'lxml' (to opt into the new behavior), or'xmlschema' (to retain the old behavior).\n",
      "  d = to_dict(os.fspath(xml), parser=parser, validate=validate)\n"
     ]
    },
    {
     "name": "stdout",
     "output_type": "stream",
     "text": [
      "HT297B1-S1H1_U1_07012023\n"
     ]
    },
    {
     "name": "stderr",
     "output_type": "stream",
     "text": [
      "/diskmnt/Projects/Users/estorrs/sandbox/tmp/ipykernel_214946/578118905.py:23: DeprecationWarning: <tifffile.imsave> is deprecated. Use tifffile.imwrite\n",
      "  tifffile.imsave(os.path.join(out, f'{sample}.tif'), mask)\n",
      "/diskmnt/Projects/Users/estorrs/miniconda3/envs/mip/lib/python3.8/site-packages/ome_types/_convenience.py:112: FutureWarning: The default XML parser will be changing from 'xmlschema' to 'lxml' in version 0.4.0.  To silence this warning, please provide the `parser` argument, specifying either 'lxml' (to opt into the new behavior), or'xmlschema' (to retain the old behavior).\n",
      "  d = to_dict(os.fspath(xml), parser=parser, validate=validate)\n"
     ]
    },
    {
     "name": "stdout",
     "output_type": "stream",
     "text": [
      "HT297B1-S1H1_U2_07012023\n"
     ]
    },
    {
     "name": "stderr",
     "output_type": "stream",
     "text": [
      "/diskmnt/Projects/Users/estorrs/sandbox/tmp/ipykernel_214946/578118905.py:23: DeprecationWarning: <tifffile.imsave> is deprecated. Use tifffile.imwrite\n",
      "  tifffile.imsave(os.path.join(out, f'{sample}.tif'), mask)\n",
      "/diskmnt/Projects/Users/estorrs/miniconda3/envs/mip/lib/python3.8/site-packages/ome_types/_convenience.py:112: FutureWarning: The default XML parser will be changing from 'xmlschema' to 'lxml' in version 0.4.0.  To silence this warning, please provide the `parser` argument, specifying either 'lxml' (to opt into the new behavior), or'xmlschema' (to retain the old behavior).\n",
      "  d = to_dict(os.fspath(xml), parser=parser, validate=validate)\n"
     ]
    },
    {
     "name": "stdout",
     "output_type": "stream",
     "text": [
      "HT305B1_S1H1\n"
     ]
    },
    {
     "name": "stderr",
     "output_type": "stream",
     "text": [
      "/diskmnt/Projects/Users/estorrs/sandbox/tmp/ipykernel_214946/578118905.py:23: DeprecationWarning: <tifffile.imsave> is deprecated. Use tifffile.imwrite\n",
      "  tifffile.imsave(os.path.join(out, f'{sample}.tif'), mask)\n"
     ]
    },
    {
     "name": "stdout",
     "output_type": "stream",
     "text": [
      "HT308B1-S1H5A4_04192023\n"
     ]
    },
    {
     "name": "stderr",
     "output_type": "stream",
     "text": [
      "/diskmnt/Projects/Users/estorrs/miniconda3/envs/mip/lib/python3.8/site-packages/ome_types/_convenience.py:112: FutureWarning: The default XML parser will be changing from 'xmlschema' to 'lxml' in version 0.4.0.  To silence this warning, please provide the `parser` argument, specifying either 'lxml' (to opt into the new behavior), or'xmlschema' (to retain the old behavior).\n",
      "  d = to_dict(os.fspath(xml), parser=parser, validate=validate)\n",
      "/diskmnt/Projects/Users/estorrs/sandbox/tmp/ipykernel_214946/578118905.py:23: DeprecationWarning: <tifffile.imsave> is deprecated. Use tifffile.imwrite\n",
      "  tifffile.imsave(os.path.join(out, f'{sample}.tif'), mask)\n"
     ]
    },
    {
     "name": "stdout",
     "output_type": "stream",
     "text": [
      "HT308B1-S1H5A4_left_05122023\n"
     ]
    },
    {
     "name": "stderr",
     "output_type": "stream",
     "text": [
      "/diskmnt/Projects/Users/estorrs/miniconda3/envs/mip/lib/python3.8/site-packages/ome_types/_convenience.py:112: FutureWarning: The default XML parser will be changing from 'xmlschema' to 'lxml' in version 0.4.0.  To silence this warning, please provide the `parser` argument, specifying either 'lxml' (to opt into the new behavior), or'xmlschema' (to retain the old behavior).\n",
      "  d = to_dict(os.fspath(xml), parser=parser, validate=validate)\n",
      "/diskmnt/Projects/Users/estorrs/sandbox/tmp/ipykernel_214946/578118905.py:23: DeprecationWarning: <tifffile.imsave> is deprecated. Use tifffile.imwrite\n",
      "  tifffile.imsave(os.path.join(out, f'{sample}.tif'), mask)\n"
     ]
    },
    {
     "name": "stdout",
     "output_type": "stream",
     "text": [
      "HT308B1-S1H5A4_left_05262023\n"
     ]
    },
    {
     "name": "stderr",
     "output_type": "stream",
     "text": [
      "/diskmnt/Projects/Users/estorrs/miniconda3/envs/mip/lib/python3.8/site-packages/ome_types/_convenience.py:112: FutureWarning: The default XML parser will be changing from 'xmlschema' to 'lxml' in version 0.4.0.  To silence this warning, please provide the `parser` argument, specifying either 'lxml' (to opt into the new behavior), or'xmlschema' (to retain the old behavior).\n",
      "  d = to_dict(os.fspath(xml), parser=parser, validate=validate)\n",
      "/diskmnt/Projects/Users/estorrs/sandbox/tmp/ipykernel_214946/578118905.py:23: DeprecationWarning: <tifffile.imsave> is deprecated. Use tifffile.imwrite\n",
      "  tifffile.imsave(os.path.join(out, f'{sample}.tif'), mask)\n",
      "/diskmnt/Projects/Users/estorrs/miniconda3/envs/mip/lib/python3.8/site-packages/ome_types/_convenience.py:112: FutureWarning: The default XML parser will be changing from 'xmlschema' to 'lxml' in version 0.4.0.  To silence this warning, please provide the `parser` argument, specifying either 'lxml' (to opt into the new behavior), or'xmlschema' (to retain the old behavior).\n",
      "  d = to_dict(os.fspath(xml), parser=parser, validate=validate)\n"
     ]
    },
    {
     "name": "stdout",
     "output_type": "stream",
     "text": [
      "HT308B1-S1H5A4_right_05122023\n"
     ]
    },
    {
     "name": "stderr",
     "output_type": "stream",
     "text": [
      "/diskmnt/Projects/Users/estorrs/sandbox/tmp/ipykernel_214946/578118905.py:23: DeprecationWarning: <tifffile.imsave> is deprecated. Use tifffile.imwrite\n",
      "  tifffile.imsave(os.path.join(out, f'{sample}.tif'), mask)\n"
     ]
    },
    {
     "name": "stdout",
     "output_type": "stream",
     "text": [
      "HT308B1-S1H5A4_right_05262023\n"
     ]
    },
    {
     "name": "stderr",
     "output_type": "stream",
     "text": [
      "/diskmnt/Projects/Users/estorrs/miniconda3/envs/mip/lib/python3.8/site-packages/ome_types/_convenience.py:112: FutureWarning: The default XML parser will be changing from 'xmlschema' to 'lxml' in version 0.4.0.  To silence this warning, please provide the `parser` argument, specifying either 'lxml' (to opt into the new behavior), or'xmlschema' (to retain the old behavior).\n",
      "  d = to_dict(os.fspath(xml), parser=parser, validate=validate)\n",
      "/diskmnt/Projects/Users/estorrs/sandbox/tmp/ipykernel_214946/578118905.py:23: DeprecationWarning: <tifffile.imsave> is deprecated. Use tifffile.imwrite\n",
      "  tifffile.imsave(os.path.join(out, f'{sample}.tif'), mask)\n",
      "/diskmnt/Projects/Users/estorrs/miniconda3/envs/mip/lib/python3.8/site-packages/ome_types/_convenience.py:112: FutureWarning: The default XML parser will be changing from 'xmlschema' to 'lxml' in version 0.4.0.  To silence this warning, please provide the `parser` argument, specifying either 'lxml' (to opt into the new behavior), or'xmlschema' (to retain the old behavior).\n",
      "  d = to_dict(os.fspath(xml), parser=parser, validate=validate)\n"
     ]
    },
    {
     "name": "stdout",
     "output_type": "stream",
     "text": [
      "HT323B1_H1A1\n"
     ]
    },
    {
     "name": "stderr",
     "output_type": "stream",
     "text": [
      "/diskmnt/Projects/Users/estorrs/sandbox/tmp/ipykernel_214946/578118905.py:23: DeprecationWarning: <tifffile.imsave> is deprecated. Use tifffile.imwrite\n",
      "  tifffile.imsave(os.path.join(out, f'{sample}.tif'), mask)\n",
      "/diskmnt/Projects/Users/estorrs/miniconda3/envs/mip/lib/python3.8/site-packages/ome_types/_convenience.py:112: FutureWarning: The default XML parser will be changing from 'xmlschema' to 'lxml' in version 0.4.0.  To silence this warning, please provide the `parser` argument, specifying either 'lxml' (to opt into the new behavior), or'xmlschema' (to retain the old behavior).\n",
      "  d = to_dict(os.fspath(xml), parser=parser, validate=validate)\n"
     ]
    },
    {
     "name": "stdout",
     "output_type": "stream",
     "text": [
      "HT323B1_H1A4\n"
     ]
    },
    {
     "name": "stderr",
     "output_type": "stream",
     "text": [
      "/diskmnt/Projects/Users/estorrs/sandbox/tmp/ipykernel_214946/578118905.py:23: DeprecationWarning: <tifffile.imsave> is deprecated. Use tifffile.imwrite\n",
      "  tifffile.imsave(os.path.join(out, f'{sample}.tif'), mask)\n",
      "/diskmnt/Projects/Users/estorrs/miniconda3/envs/mip/lib/python3.8/site-packages/ome_types/_convenience.py:112: FutureWarning: The default XML parser will be changing from 'xmlschema' to 'lxml' in version 0.4.0.  To silence this warning, please provide the `parser` argument, specifying either 'lxml' (to opt into the new behavior), or'xmlschema' (to retain the old behavior).\n",
      "  d = to_dict(os.fspath(xml), parser=parser, validate=validate)\n"
     ]
    },
    {
     "name": "stdout",
     "output_type": "stream",
     "text": [
      "HT323B1_H1_08042022\n"
     ]
    },
    {
     "name": "stderr",
     "output_type": "stream",
     "text": [
      "/diskmnt/Projects/Users/estorrs/sandbox/tmp/ipykernel_214946/578118905.py:23: DeprecationWarning: <tifffile.imsave> is deprecated. Use tifffile.imwrite\n",
      "  tifffile.imsave(os.path.join(out, f'{sample}.tif'), mask)\n"
     ]
    },
    {
     "name": "stdout",
     "output_type": "stream",
     "text": [
      "HT323B1_H3\n"
     ]
    },
    {
     "name": "stderr",
     "output_type": "stream",
     "text": [
      "/diskmnt/Projects/Users/estorrs/miniconda3/envs/mip/lib/python3.8/site-packages/ome_types/_convenience.py:112: FutureWarning: The default XML parser will be changing from 'xmlschema' to 'lxml' in version 0.4.0.  To silence this warning, please provide the `parser` argument, specifying either 'lxml' (to opt into the new behavior), or'xmlschema' (to retain the old behavior).\n",
      "  d = to_dict(os.fspath(xml), parser=parser, validate=validate)\n",
      "/diskmnt/Projects/Users/estorrs/sandbox/tmp/ipykernel_214946/578118905.py:23: DeprecationWarning: <tifffile.imsave> is deprecated. Use tifffile.imwrite\n",
      "  tifffile.imsave(os.path.join(out, f'{sample}.tif'), mask)\n",
      "/diskmnt/Projects/Users/estorrs/miniconda3/envs/mip/lib/python3.8/site-packages/ome_types/_convenience.py:112: FutureWarning: The default XML parser will be changing from 'xmlschema' to 'lxml' in version 0.4.0.  To silence this warning, please provide the `parser` argument, specifying either 'lxml' (to opt into the new behavior), or'xmlschema' (to retain the old behavior).\n",
      "  d = to_dict(os.fspath(xml), parser=parser, validate=validate)\n"
     ]
    },
    {
     "name": "stdout",
     "output_type": "stream",
     "text": [
      "HT339B1_H1A1\n"
     ]
    },
    {
     "name": "stderr",
     "output_type": "stream",
     "text": [
      "/diskmnt/Projects/Users/estorrs/sandbox/tmp/ipykernel_214946/578118905.py:23: DeprecationWarning: <tifffile.imsave> is deprecated. Use tifffile.imwrite\n",
      "  tifffile.imsave(os.path.join(out, f'{sample}.tif'), mask)\n",
      "/diskmnt/Projects/Users/estorrs/miniconda3/envs/mip/lib/python3.8/site-packages/ome_types/_convenience.py:112: FutureWarning: The default XML parser will be changing from 'xmlschema' to 'lxml' in version 0.4.0.  To silence this warning, please provide the `parser` argument, specifying either 'lxml' (to opt into the new behavior), or'xmlschema' (to retain the old behavior).\n",
      "  d = to_dict(os.fspath(xml), parser=parser, validate=validate)\n"
     ]
    },
    {
     "name": "stdout",
     "output_type": "stream",
     "text": [
      "HT339B1_H2A1\n"
     ]
    },
    {
     "name": "stderr",
     "output_type": "stream",
     "text": [
      "/diskmnt/Projects/Users/estorrs/sandbox/tmp/ipykernel_214946/578118905.py:23: DeprecationWarning: <tifffile.imsave> is deprecated. Use tifffile.imwrite\n",
      "  tifffile.imsave(os.path.join(out, f'{sample}.tif'), mask)\n",
      "/diskmnt/Projects/Users/estorrs/miniconda3/envs/mip/lib/python3.8/site-packages/ome_types/_convenience.py:112: FutureWarning: The default XML parser will be changing from 'xmlschema' to 'lxml' in version 0.4.0.  To silence this warning, please provide the `parser` argument, specifying either 'lxml' (to opt into the new behavior), or'xmlschema' (to retain the old behavior).\n",
      "  d = to_dict(os.fspath(xml), parser=parser, validate=validate)\n"
     ]
    },
    {
     "name": "stdout",
     "output_type": "stream",
     "text": [
      "HT339B2-H2_U1_07012023\n"
     ]
    },
    {
     "name": "stderr",
     "output_type": "stream",
     "text": [
      "/diskmnt/Projects/Users/estorrs/sandbox/tmp/ipykernel_214946/578118905.py:23: DeprecationWarning: <tifffile.imsave> is deprecated. Use tifffile.imwrite\n",
      "  tifffile.imsave(os.path.join(out, f'{sample}.tif'), mask)\n",
      "/diskmnt/Projects/Users/estorrs/miniconda3/envs/mip/lib/python3.8/site-packages/ome_types/_convenience.py:112: FutureWarning: The default XML parser will be changing from 'xmlschema' to 'lxml' in version 0.4.0.  To silence this warning, please provide the `parser` argument, specifying either 'lxml' (to opt into the new behavior), or'xmlschema' (to retain the old behavior).\n",
      "  d = to_dict(os.fspath(xml), parser=parser, validate=validate)\n"
     ]
    },
    {
     "name": "stdout",
     "output_type": "stream",
     "text": [
      "HT339B2-H2_U2_07012023\n"
     ]
    },
    {
     "name": "stderr",
     "output_type": "stream",
     "text": [
      "/diskmnt/Projects/Users/estorrs/sandbox/tmp/ipykernel_214946/578118905.py:23: DeprecationWarning: <tifffile.imsave> is deprecated. Use tifffile.imwrite\n",
      "  tifffile.imsave(os.path.join(out, f'{sample}.tif'), mask)\n",
      "/diskmnt/Projects/Users/estorrs/miniconda3/envs/mip/lib/python3.8/site-packages/ome_types/_convenience.py:112: FutureWarning: The default XML parser will be changing from 'xmlschema' to 'lxml' in version 0.4.0.  To silence this warning, please provide the `parser` argument, specifying either 'lxml' (to opt into the new behavior), or'xmlschema' (to retain the old behavior).\n",
      "  d = to_dict(os.fspath(xml), parser=parser, validate=validate)\n"
     ]
    },
    {
     "name": "stdout",
     "output_type": "stream",
     "text": [
      "HT365B1_S1H1_02132023\n"
     ]
    },
    {
     "name": "stderr",
     "output_type": "stream",
     "text": [
      "/diskmnt/Projects/Users/estorrs/sandbox/tmp/ipykernel_214946/578118905.py:23: DeprecationWarning: <tifffile.imsave> is deprecated. Use tifffile.imwrite\n",
      "  tifffile.imsave(os.path.join(out, f'{sample}.tif'), mask)\n"
     ]
    },
    {
     "name": "stdout",
     "output_type": "stream",
     "text": [
      "HT397B1_H2A2\n"
     ]
    },
    {
     "name": "stderr",
     "output_type": "stream",
     "text": [
      "/diskmnt/Projects/Users/estorrs/miniconda3/envs/mip/lib/python3.8/site-packages/ome_types/_convenience.py:112: FutureWarning: The default XML parser will be changing from 'xmlschema' to 'lxml' in version 0.4.0.  To silence this warning, please provide the `parser` argument, specifying either 'lxml' (to opt into the new behavior), or'xmlschema' (to retain the old behavior).\n",
      "  d = to_dict(os.fspath(xml), parser=parser, validate=validate)\n",
      "/diskmnt/Projects/Users/estorrs/sandbox/tmp/ipykernel_214946/578118905.py:23: DeprecationWarning: <tifffile.imsave> is deprecated. Use tifffile.imwrite\n",
      "  tifffile.imsave(os.path.join(out, f'{sample}.tif'), mask)\n",
      "/diskmnt/Projects/Users/estorrs/miniconda3/envs/mip/lib/python3.8/site-packages/ome_types/_convenience.py:112: FutureWarning: The default XML parser will be changing from 'xmlschema' to 'lxml' in version 0.4.0.  To silence this warning, please provide the `parser` argument, specifying either 'lxml' (to opt into the new behavior), or'xmlschema' (to retain the old behavior).\n",
      "  d = to_dict(os.fspath(xml), parser=parser, validate=validate)\n"
     ]
    },
    {
     "name": "stdout",
     "output_type": "stream",
     "text": [
      "HT397B1_H3A1\n"
     ]
    },
    {
     "name": "stderr",
     "output_type": "stream",
     "text": [
      "/diskmnt/Projects/Users/estorrs/sandbox/tmp/ipykernel_214946/578118905.py:23: DeprecationWarning: <tifffile.imsave> is deprecated. Use tifffile.imwrite\n",
      "  tifffile.imsave(os.path.join(out, f'{sample}.tif'), mask)\n"
     ]
    },
    {
     "name": "stdout",
     "output_type": "stream",
     "text": [
      "HT397B1_S1H1A3U22_04122023\n"
     ]
    },
    {
     "name": "stderr",
     "output_type": "stream",
     "text": [
      "/diskmnt/Projects/Users/estorrs/miniconda3/envs/mip/lib/python3.8/site-packages/ome_types/_convenience.py:112: FutureWarning: The default XML parser will be changing from 'xmlschema' to 'lxml' in version 0.4.0.  To silence this warning, please provide the `parser` argument, specifying either 'lxml' (to opt into the new behavior), or'xmlschema' (to retain the old behavior).\n",
      "  d = to_dict(os.fspath(xml), parser=parser, validate=validate)\n",
      "/diskmnt/Projects/Users/estorrs/sandbox/tmp/ipykernel_214946/578118905.py:23: DeprecationWarning: <tifffile.imsave> is deprecated. Use tifffile.imwrite\n",
      "  tifffile.imsave(os.path.join(out, f'{sample}.tif'), mask)\n"
     ]
    },
    {
     "name": "stdout",
     "output_type": "stream",
     "text": [
      "HT397B1_S1H1A3U31_04062023\n"
     ]
    },
    {
     "name": "stderr",
     "output_type": "stream",
     "text": [
      "/diskmnt/Projects/Users/estorrs/miniconda3/envs/mip/lib/python3.8/site-packages/ome_types/_convenience.py:112: FutureWarning: The default XML parser will be changing from 'xmlschema' to 'lxml' in version 0.4.0.  To silence this warning, please provide the `parser` argument, specifying either 'lxml' (to opt into the new behavior), or'xmlschema' (to retain the old behavior).\n",
      "  d = to_dict(os.fspath(xml), parser=parser, validate=validate)\n",
      "/diskmnt/Projects/Users/estorrs/sandbox/tmp/ipykernel_214946/578118905.py:23: DeprecationWarning: <tifffile.imsave> is deprecated. Use tifffile.imwrite\n",
      "  tifffile.imsave(os.path.join(out, f'{sample}.tif'), mask)\n"
     ]
    },
    {
     "name": "stdout",
     "output_type": "stream",
     "text": [
      "HT397B1_U12_03172023\n"
     ]
    },
    {
     "name": "stderr",
     "output_type": "stream",
     "text": [
      "/diskmnt/Projects/Users/estorrs/miniconda3/envs/mip/lib/python3.8/site-packages/ome_types/_convenience.py:112: FutureWarning: The default XML parser will be changing from 'xmlschema' to 'lxml' in version 0.4.0.  To silence this warning, please provide the `parser` argument, specifying either 'lxml' (to opt into the new behavior), or'xmlschema' (to retain the old behavior).\n",
      "  d = to_dict(os.fspath(xml), parser=parser, validate=validate)\n",
      "/diskmnt/Projects/Users/estorrs/sandbox/tmp/ipykernel_214946/578118905.py:23: DeprecationWarning: <tifffile.imsave> is deprecated. Use tifffile.imwrite\n",
      "  tifffile.imsave(os.path.join(out, f'{sample}.tif'), mask)\n"
     ]
    },
    {
     "name": "stdout",
     "output_type": "stream",
     "text": [
      "HT397B1_U2_03162023\n"
     ]
    },
    {
     "name": "stderr",
     "output_type": "stream",
     "text": [
      "/diskmnt/Projects/Users/estorrs/miniconda3/envs/mip/lib/python3.8/site-packages/ome_types/_convenience.py:112: FutureWarning: The default XML parser will be changing from 'xmlschema' to 'lxml' in version 0.4.0.  To silence this warning, please provide the `parser` argument, specifying either 'lxml' (to opt into the new behavior), or'xmlschema' (to retain the old behavior).\n",
      "  d = to_dict(os.fspath(xml), parser=parser, validate=validate)\n",
      "/diskmnt/Projects/Users/estorrs/sandbox/tmp/ipykernel_214946/578118905.py:23: DeprecationWarning: <tifffile.imsave> is deprecated. Use tifffile.imwrite\n",
      "  tifffile.imsave(os.path.join(out, f'{sample}.tif'), mask)\n"
     ]
    },
    {
     "name": "stdout",
     "output_type": "stream",
     "text": [
      "HT480B1_S1H2_R001\n"
     ]
    },
    {
     "name": "stderr",
     "output_type": "stream",
     "text": [
      "/diskmnt/Projects/Users/estorrs/miniconda3/envs/mip/lib/python3.8/site-packages/ome_types/_convenience.py:112: FutureWarning: The default XML parser will be changing from 'xmlschema' to 'lxml' in version 0.4.0.  To silence this warning, please provide the `parser` argument, specifying either 'lxml' (to opt into the new behavior), or'xmlschema' (to retain the old behavior).\n",
      "  d = to_dict(os.fspath(xml), parser=parser, validate=validate)\n",
      "/diskmnt/Projects/Users/estorrs/sandbox/tmp/ipykernel_214946/578118905.py:23: DeprecationWarning: <tifffile.imsave> is deprecated. Use tifffile.imwrite\n",
      "  tifffile.imsave(os.path.join(out, f'{sample}.tif'), mask)\n",
      "/diskmnt/Projects/Users/estorrs/miniconda3/envs/mip/lib/python3.8/site-packages/ome_types/_convenience.py:112: FutureWarning: The default XML parser will be changing from 'xmlschema' to 'lxml' in version 0.4.0.  To silence this warning, please provide the `parser` argument, specifying either 'lxml' (to opt into the new behavior), or'xmlschema' (to retain the old behavior).\n",
      "  d = to_dict(os.fspath(xml), parser=parser, validate=validate)\n"
     ]
    },
    {
     "name": "stdout",
     "output_type": "stream",
     "text": [
      "HT480B1_S1H2_R002\n"
     ]
    },
    {
     "name": "stderr",
     "output_type": "stream",
     "text": [
      "/diskmnt/Projects/Users/estorrs/sandbox/tmp/ipykernel_214946/578118905.py:23: DeprecationWarning: <tifffile.imsave> is deprecated. Use tifffile.imwrite\n",
      "  tifffile.imsave(os.path.join(out, f'{sample}.tif'), mask)\n",
      "/diskmnt/Projects/Users/estorrs/miniconda3/envs/mip/lib/python3.8/site-packages/ome_types/_convenience.py:112: FutureWarning: The default XML parser will be changing from 'xmlschema' to 'lxml' in version 0.4.0.  To silence this warning, please provide the `parser` argument, specifying either 'lxml' (to opt into the new behavior), or'xmlschema' (to retain the old behavior).\n",
      "  d = to_dict(os.fspath(xml), parser=parser, validate=validate)\n"
     ]
    },
    {
     "name": "stdout",
     "output_type": "stream",
     "text": [
      "HT565B1-H2_04262023\n"
     ]
    },
    {
     "name": "stderr",
     "output_type": "stream",
     "text": [
      "/diskmnt/Projects/Users/estorrs/sandbox/tmp/ipykernel_214946/578118905.py:23: DeprecationWarning: <tifffile.imsave> is deprecated. Use tifffile.imwrite\n",
      "  tifffile.imsave(os.path.join(out, f'{sample}.tif'), mask)\n",
      "/diskmnt/Projects/Users/estorrs/miniconda3/envs/mip/lib/python3.8/site-packages/ome_types/_convenience.py:112: FutureWarning: The default XML parser will be changing from 'xmlschema' to 'lxml' in version 0.4.0.  To silence this warning, please provide the `parser` argument, specifying either 'lxml' (to opt into the new behavior), or'xmlschema' (to retain the old behavior).\n",
      "  d = to_dict(os.fspath(xml), parser=parser, validate=validate)\n"
     ]
    },
    {
     "name": "stdout",
     "output_type": "stream",
     "text": [
      "HT565B1-S1H2_U1_07012023\n"
     ]
    },
    {
     "name": "stderr",
     "output_type": "stream",
     "text": [
      "/diskmnt/Projects/Users/estorrs/sandbox/tmp/ipykernel_214946/578118905.py:23: DeprecationWarning: <tifffile.imsave> is deprecated. Use tifffile.imwrite\n",
      "  tifffile.imsave(os.path.join(out, f'{sample}.tif'), mask)\n",
      "/diskmnt/Projects/Users/estorrs/miniconda3/envs/mip/lib/python3.8/site-packages/ome_types/_convenience.py:112: FutureWarning: The default XML parser will be changing from 'xmlschema' to 'lxml' in version 0.4.0.  To silence this warning, please provide the `parser` argument, specifying either 'lxml' (to opt into the new behavior), or'xmlschema' (to retain the old behavior).\n",
      "  d = to_dict(os.fspath(xml), parser=parser, validate=validate)\n"
     ]
    },
    {
     "name": "stdout",
     "output_type": "stream",
     "text": [
      "HT565B1-S1H2_U2_07012023\n"
     ]
    },
    {
     "name": "stderr",
     "output_type": "stream",
     "text": [
      "/diskmnt/Projects/Users/estorrs/sandbox/tmp/ipykernel_214946/578118905.py:23: DeprecationWarning: <tifffile.imsave> is deprecated. Use tifffile.imwrite\n",
      "  tifffile.imsave(os.path.join(out, f'{sample}.tif'), mask)\n"
     ]
    }
   ],
   "source": [
    "keep = ['Pan-Cytokeratin', 'E-cadherin']\n",
    "sample_to_mask = {}\n",
    "for sample in sample_to_adata.keys():\n",
    "    print(sample)\n",
    "    channel_to_img = utils.extract_ome_tiff(sample_to_ome[sample])\n",
    "    channel_to_img = {utils.R_CHANNEL_MAPPING.get(k, k):img for k, img in channel_to_img.items()}\n",
    "\n",
    "    a = sc.read_h5ad(sample_to_adata[sample])\n",
    "    \n",
    "    markers = [x.replace('_fraction', '') for x in a.var.index.to_list()]\n",
    "    thresholds = a.uns['thresholds']\n",
    "    mask = np.zeros_like(next(iter(channel_to_img.values())), dtype=bool)\n",
    "    for c in keep:\n",
    "        if c in markers:\n",
    "            val = thresholds[markers.index(c)]\n",
    "            if val > 0:\n",
    "                m = channel_to_img[c] >= val\n",
    "                mask |= m\n",
    "        \n",
    "    mask = generate_mask(mask, sigma=1., min_area=10000)\n",
    "    sample_to_mask[sample] = mask\n",
    "    \n",
    "    tifffile.imsave(os.path.join(out, f'{sample}.tif'), mask)    "
   ]
  },
  {
   "cell_type": "code",
   "execution_count": null,
   "id": "87bf072e",
   "metadata": {},
   "outputs": [],
   "source": []
  },
  {
   "cell_type": "code",
   "execution_count": 31,
   "id": "045bf58f",
   "metadata": {},
   "outputs": [],
   "source": [
    "mask_fps = sorted(utils.listfiles(os.path.join(output_dir, 'region_masks'), regex=r'.tif$'))\n",
    "sample_to_mask = {fp.split('/')[-1].replace('.tif', ''):fp for fp in mask_fps}"
   ]
  },
  {
   "cell_type": "code",
   "execution_count": 32,
   "id": "91a356e1",
   "metadata": {},
   "outputs": [
    {
     "data": {
      "text/plain": [
       "51"
      ]
     },
     "execution_count": 32,
     "metadata": {},
     "output_type": "execute_result"
    }
   ],
   "source": [
    "a = set(sample_to_adata.keys())\n",
    "b = set(sample_to_mask.keys())\n",
    "c = set(sample_to_ome.keys())\n",
    "\n",
    "len(a.intersection(b).intersection(c))"
   ]
  },
  {
   "cell_type": "code",
   "execution_count": 35,
   "id": "e9b607f2",
   "metadata": {},
   "outputs": [
    {
     "data": {
      "text/plain": [
       "AnnData object with n_obs × n_vars = 77651 × 26\n",
       "    obs: 'row', 'col', 'bbox-r1', 'bbox-c1', 'bbox-r2', 'bbox-c2', 'area', 'DAPI_intensity', 'CD8_intensity', 'CD138_intensity', 'CD4_intensity', 'cKit_intensity', 'Pan-Cytokeratin_intensity', 'GLUT1_intensity', 'Podoplanin_intensity', 'CK17_intensity', 'HLA-DR_intensity', 'GATA3_intensity', 'CD36_intensity', 'MGP_intensity', 'CK14_intensity', 'SMA_intensity', 'CD68_intensity', 'CD20_intensity', 'Vimentin_intensity', 'CD3e_intensity', 'CD163_intensity', 'Ki67_intensity', 'PR_intensity', 'ER_intensity', 'P16_intensity', 'CK19_intensity', 'P21_intensity', 'default_annotation', 'cKit_annotation', 'GATA3_annotation', 'CK14_annotation', 'CK19_annotation', 'PR_annotation', 'ER_annotation', 'Her2_annotation', 'CD8_annotation', 'BCA1_annotation', 'CTLA4_annotation', 'CD68_annotation', 'CD163_annotation', 'Granzyme-B_annotation', 'pan-immune_annotation'\n",
       "    uns: 'gating_strategy', 'thresholds'\n",
       "    obsm: 'spatial'"
      ]
     },
     "execution_count": 35,
     "metadata": {},
     "output_type": "execute_result"
    }
   ],
   "source": [
    "a = sc.read_h5ad(next(iter(sample_to_adata.values())))\n",
    "a"
   ]
  },
  {
   "cell_type": "code",
   "execution_count": 36,
   "id": "0c6b4e85",
   "metadata": {},
   "outputs": [
    {
     "data": {
      "text/plain": [
       "['default_annotation',\n",
       " 'cKit_annotation',\n",
       " 'GATA3_annotation',\n",
       " 'CK14_annotation',\n",
       " 'CK19_annotation',\n",
       " 'PR_annotation',\n",
       " 'ER_annotation',\n",
       " 'Her2_annotation',\n",
       " 'CD8_annotation',\n",
       " 'BCA1_annotation',\n",
       " 'CTLA4_annotation',\n",
       " 'CD68_annotation',\n",
       " 'CD163_annotation',\n",
       " 'Granzyme-B_annotation',\n",
       " 'pan-immune_annotation']"
      ]
     },
     "execution_count": 36,
     "metadata": {},
     "output_type": "execute_result"
    }
   ],
   "source": [
    "annotation_keys = [c for c in a.obs.columns if '_annotation' in c]\n",
    "annotation_keys"
   ]
  },
  {
   "cell_type": "code",
   "execution_count": 33,
   "id": "4a1619d3",
   "metadata": {},
   "outputs": [],
   "source": [
    "region_features_dir = os.path.join(output_dir, 'region_features')\n",
    "region_features_masks_dir = os.path.join(output_dir, 'region_features_masks')\n",
    "Path(region_features_dir).mkdir(parents=True, exist_ok=True)\n",
    "Path(region_features_masks_dir).mkdir(parents=True, exist_ok=True)"
   ]
  },
  {
   "cell_type": "code",
   "execution_count": 40,
   "id": "15dcdb56",
   "metadata": {},
   "outputs": [],
   "source": [
    "logging.getLogger().setLevel(logging.INFO)"
   ]
  },
  {
   "cell_type": "code",
   "execution_count": null,
   "id": "c08f0628",
   "metadata": {
    "code_folding": [],
    "scrolled": true
   },
   "outputs": [
    {
     "name": "stdout",
     "output_type": "stream",
     "text": [
      "HT110B1_S1H4\n"
     ]
    },
    {
     "name": "stderr",
     "output_type": "stream",
     "text": [
      "/diskmnt/Projects/Users/estorrs/miniconda3/envs/mip/lib/python3.8/site-packages/ome_types/_convenience.py:112: FutureWarning: The default XML parser will be changing from 'xmlschema' to 'lxml' in version 0.4.0.  To silence this warning, please provide the `parser` argument, specifying either 'lxml' (to opt into the new behavior), or'xmlschema' (to retain the old behavior).\n",
      "  d = to_dict(os.fspath(xml), parser=parser, validate=validate)\n",
      "INFO:root:reading mask from /diskmnt/Projects/Users/estorrs/imaging-analysis/results/brca_subtype/revision_v1/region_masks/HT110B1_S1H4.tif\n",
      "INFO:root:generating region features for region\n",
      "INFO:root:generating cell fractions\n",
      "INFO:root:generating marker intensities\n",
      "INFO:root:generating marker fractions\n",
      "INFO:root:Using the following threhsolds to calculate positive fraction: {'CD8': 11.0, 'Pan-Cytokeratin': 10.0, 'Podoplanin': 10.0, 'CK17': 20.0, 'HLA-DR': 12.0, 'GATA3': 9.0, 'CK14': 19.0, 'SMA': 15.0, 'CD20': 12.0, 'CD3e': 15.0, 'CD163': 19.0, 'PR': 39.0, 'ER': 10.0, 'CK19': 10.0}\n",
      "INFO:root:generating region features for ductal\n",
      "INFO:root:generating cell fractions\n",
      "INFO:root:generating marker intensities\n",
      "INFO:root:generating marker fractions\n",
      "INFO:root:Using the following threhsolds to calculate positive fraction: {'CD8': 11.0, 'Pan-Cytokeratin': 10.0, 'Podoplanin': 10.0, 'CK17': 20.0, 'HLA-DR': 12.0, 'GATA3': 9.0, 'CK14': 19.0, 'SMA': 15.0, 'CD20': 12.0, 'CD3e': 15.0, 'CD163': 19.0, 'PR': 39.0, 'ER': 10.0, 'CK19': 10.0}\n",
      "INFO:root:generating region features for myoepi\n",
      "INFO:root:generating cell fractions\n",
      "INFO:root:generating marker intensities\n",
      "INFO:root:generating marker fractions\n",
      "INFO:root:Using the following threhsolds to calculate positive fraction: {'CD8': 11.0, 'Pan-Cytokeratin': 10.0, 'Podoplanin': 10.0, 'CK17': 20.0, 'HLA-DR': 12.0, 'GATA3': 9.0, 'CK14': 19.0, 'SMA': 15.0, 'CD20': 12.0, 'CD3e': 15.0, 'CD163': 19.0, 'PR': 39.0, 'ER': 10.0, 'CK19': 10.0}\n",
      "INFO:root:generating region features for boundary\n",
      "INFO:root:generating cell fractions\n",
      "INFO:root:generating marker intensities\n",
      "INFO:root:generating marker fractions\n",
      "INFO:root:Using the following threhsolds to calculate positive fraction: {'CD8': 11.0, 'Pan-Cytokeratin': 10.0, 'Podoplanin': 10.0, 'CK17': 20.0, 'HLA-DR': 12.0, 'GATA3': 9.0, 'CK14': 19.0, 'SMA': 15.0, 'CD20': 12.0, 'CD3e': 15.0, 'CD163': 19.0, 'PR': 39.0, 'ER': 10.0, 'CK19': 10.0}\n",
      "INFO:root:generating region features for expanded\n",
      "INFO:root:generating cell fractions\n",
      "INFO:root:generating marker intensities\n",
      "INFO:root:generating marker fractions\n",
      "INFO:root:Using the following threhsolds to calculate positive fraction: {'CD8': 11.0, 'Pan-Cytokeratin': 10.0, 'Podoplanin': 10.0, 'CK17': 20.0, 'HLA-DR': 12.0, 'GATA3': 9.0, 'CK14': 19.0, 'SMA': 15.0, 'CD20': 12.0, 'CD3e': 15.0, 'CD163': 19.0, 'PR': 39.0, 'ER': 10.0, 'CK19': 10.0}\n"
     ]
    },
    {
     "name": "stdout",
     "output_type": "stream",
     "text": [
      "HT171B1-S1H9A1-4_left_05122023\n"
     ]
    },
    {
     "name": "stderr",
     "output_type": "stream",
     "text": [
      "/diskmnt/Projects/Users/estorrs/miniconda3/envs/mip/lib/python3.8/site-packages/ome_types/_convenience.py:112: FutureWarning: The default XML parser will be changing from 'xmlschema' to 'lxml' in version 0.4.0.  To silence this warning, please provide the `parser` argument, specifying either 'lxml' (to opt into the new behavior), or'xmlschema' (to retain the old behavior).\n",
      "  d = to_dict(os.fspath(xml), parser=parser, validate=validate)\n",
      "INFO:root:reading mask from /diskmnt/Projects/Users/estorrs/imaging-analysis/results/brca_subtype/revision_v1/region_masks/HT171B1-S1H9A1-4_left_05122023.tif\n",
      "INFO:root:generating region features for region\n",
      "INFO:root:generating cell fractions\n",
      "INFO:root:generating marker intensities\n",
      "INFO:root:generating marker fractions\n",
      "INFO:root:Using the following threhsolds to calculate positive fraction: {'CD8': 10.0, 'Her2': 10.0, 'GATA3': 29.0, 'cKit': 29.0, 'Pan-Cytokeratin': 15.0, 'GLUT1': 6.0, 'Podoplanin': 10.0, 'HLA-DR': 12.0, 'CK14': 10.0, 'E-cadherin': 212.0, 'SMA': 10.0, 'CD3e': 10.0, 'CD11b': 10.0, 'PR': 10.0, 'ER': 10.0, 'CD31': 10.0, 'CK19': 10.0, 'CK5': 8.0, 'CTLA4': 10.0, 'CD4': 14.0, 'BCA1': 10.0}\n",
      "INFO:root:generating region features for ductal\n",
      "INFO:root:generating cell fractions\n",
      "INFO:root:generating marker intensities\n",
      "INFO:root:generating marker fractions\n",
      "INFO:root:Using the following threhsolds to calculate positive fraction: {'CD8': 10.0, 'Her2': 10.0, 'GATA3': 29.0, 'cKit': 29.0, 'Pan-Cytokeratin': 15.0, 'GLUT1': 6.0, 'Podoplanin': 10.0, 'HLA-DR': 12.0, 'CK14': 10.0, 'E-cadherin': 212.0, 'SMA': 10.0, 'CD3e': 10.0, 'CD11b': 10.0, 'PR': 10.0, 'ER': 10.0, 'CD31': 10.0, 'CK19': 10.0, 'CK5': 8.0, 'CTLA4': 10.0, 'CD4': 14.0, 'BCA1': 10.0}\n",
      "INFO:root:generating region features for myoepi\n",
      "INFO:root:generating cell fractions\n",
      "INFO:root:generating marker intensities\n",
      "INFO:root:generating marker fractions\n",
      "INFO:root:Using the following threhsolds to calculate positive fraction: {'CD8': 10.0, 'Her2': 10.0, 'GATA3': 29.0, 'cKit': 29.0, 'Pan-Cytokeratin': 15.0, 'GLUT1': 6.0, 'Podoplanin': 10.0, 'HLA-DR': 12.0, 'CK14': 10.0, 'E-cadherin': 212.0, 'SMA': 10.0, 'CD3e': 10.0, 'CD11b': 10.0, 'PR': 10.0, 'ER': 10.0, 'CD31': 10.0, 'CK19': 10.0, 'CK5': 8.0, 'CTLA4': 10.0, 'CD4': 14.0, 'BCA1': 10.0}\n",
      "INFO:root:generating region features for boundary\n",
      "INFO:root:generating cell fractions\n",
      "INFO:root:generating marker intensities\n",
      "INFO:root:generating marker fractions\n",
      "INFO:root:Using the following threhsolds to calculate positive fraction: {'CD8': 10.0, 'Her2': 10.0, 'GATA3': 29.0, 'cKit': 29.0, 'Pan-Cytokeratin': 15.0, 'GLUT1': 6.0, 'Podoplanin': 10.0, 'HLA-DR': 12.0, 'CK14': 10.0, 'E-cadherin': 212.0, 'SMA': 10.0, 'CD3e': 10.0, 'CD11b': 10.0, 'PR': 10.0, 'ER': 10.0, 'CD31': 10.0, 'CK19': 10.0, 'CK5': 8.0, 'CTLA4': 10.0, 'CD4': 14.0, 'BCA1': 10.0}\n",
      "INFO:root:generating region features for expanded\n",
      "INFO:root:generating cell fractions\n",
      "INFO:root:generating marker intensities\n",
      "INFO:root:generating marker fractions\n",
      "INFO:root:Using the following threhsolds to calculate positive fraction: {'CD8': 10.0, 'Her2': 10.0, 'GATA3': 29.0, 'cKit': 29.0, 'Pan-Cytokeratin': 15.0, 'GLUT1': 6.0, 'Podoplanin': 10.0, 'HLA-DR': 12.0, 'CK14': 10.0, 'E-cadherin': 212.0, 'SMA': 10.0, 'CD3e': 10.0, 'CD11b': 10.0, 'PR': 10.0, 'ER': 10.0, 'CD31': 10.0, 'CK19': 10.0, 'CK5': 8.0, 'CTLA4': 10.0, 'CD4': 14.0, 'BCA1': 10.0}\n"
     ]
    },
    {
     "name": "stdout",
     "output_type": "stream",
     "text": [
      "HT171B1-S1H9A1-4_right_05122023\n"
     ]
    },
    {
     "name": "stderr",
     "output_type": "stream",
     "text": [
      "/diskmnt/Projects/Users/estorrs/miniconda3/envs/mip/lib/python3.8/site-packages/ome_types/_convenience.py:112: FutureWarning: The default XML parser will be changing from 'xmlschema' to 'lxml' in version 0.4.0.  To silence this warning, please provide the `parser` argument, specifying either 'lxml' (to opt into the new behavior), or'xmlschema' (to retain the old behavior).\n",
      "  d = to_dict(os.fspath(xml), parser=parser, validate=validate)\n",
      "INFO:root:reading mask from /diskmnt/Projects/Users/estorrs/imaging-analysis/results/brca_subtype/revision_v1/region_masks/HT171B1-S1H9A1-4_right_05122023.tif\n",
      "INFO:root:generating region features for region\n",
      "INFO:root:generating cell fractions\n",
      "INFO:root:generating marker intensities\n",
      "INFO:root:generating marker fractions\n",
      "INFO:root:Using the following threhsolds to calculate positive fraction: {'CD8': 10.0, 'Her2': 10.0, 'GATA3': 29.0, 'cKit': 29.0, 'Pan-Cytokeratin': 15.0, 'GLUT1': 6.0, 'Podoplanin': 10.0, 'HLA-DR': 12.0, 'CK14': 10.0, 'E-cadherin': 212.0, 'SMA': 10.0, 'CD3e': 10.0, 'CD11b': 10.0, 'PR': 10.0, 'ER': 10.0, 'CD31': 10.0, 'CK19': 10.0, 'CK5': 8.0, 'CTLA4': 10.0, 'CD4': 14.0, 'BCA1': 10.0}\n",
      "INFO:root:generating region features for ductal\n",
      "INFO:root:generating cell fractions\n",
      "INFO:root:generating marker intensities\n",
      "INFO:root:generating marker fractions\n",
      "INFO:root:Using the following threhsolds to calculate positive fraction: {'CD8': 10.0, 'Her2': 10.0, 'GATA3': 29.0, 'cKit': 29.0, 'Pan-Cytokeratin': 15.0, 'GLUT1': 6.0, 'Podoplanin': 10.0, 'HLA-DR': 12.0, 'CK14': 10.0, 'E-cadherin': 212.0, 'SMA': 10.0, 'CD3e': 10.0, 'CD11b': 10.0, 'PR': 10.0, 'ER': 10.0, 'CD31': 10.0, 'CK19': 10.0, 'CK5': 8.0, 'CTLA4': 10.0, 'CD4': 14.0, 'BCA1': 10.0}\n",
      "INFO:root:generating region features for myoepi\n",
      "INFO:root:generating cell fractions\n",
      "INFO:root:generating marker intensities\n",
      "INFO:root:generating marker fractions\n",
      "INFO:root:Using the following threhsolds to calculate positive fraction: {'CD8': 10.0, 'Her2': 10.0, 'GATA3': 29.0, 'cKit': 29.0, 'Pan-Cytokeratin': 15.0, 'GLUT1': 6.0, 'Podoplanin': 10.0, 'HLA-DR': 12.0, 'CK14': 10.0, 'E-cadherin': 212.0, 'SMA': 10.0, 'CD3e': 10.0, 'CD11b': 10.0, 'PR': 10.0, 'ER': 10.0, 'CD31': 10.0, 'CK19': 10.0, 'CK5': 8.0, 'CTLA4': 10.0, 'CD4': 14.0, 'BCA1': 10.0}\n",
      "INFO:root:generating region features for boundary\n",
      "INFO:root:generating cell fractions\n",
      "INFO:root:generating marker intensities\n",
      "INFO:root:generating marker fractions\n",
      "INFO:root:Using the following threhsolds to calculate positive fraction: {'CD8': 10.0, 'Her2': 10.0, 'GATA3': 29.0, 'cKit': 29.0, 'Pan-Cytokeratin': 15.0, 'GLUT1': 6.0, 'Podoplanin': 10.0, 'HLA-DR': 12.0, 'CK14': 10.0, 'E-cadherin': 212.0, 'SMA': 10.0, 'CD3e': 10.0, 'CD11b': 10.0, 'PR': 10.0, 'ER': 10.0, 'CD31': 10.0, 'CK19': 10.0, 'CK5': 8.0, 'CTLA4': 10.0, 'CD4': 14.0, 'BCA1': 10.0}\n",
      "INFO:root:generating region features for expanded\n",
      "INFO:root:generating cell fractions\n",
      "INFO:root:generating marker intensities\n",
      "INFO:root:generating marker fractions\n",
      "INFO:root:Using the following threhsolds to calculate positive fraction: {'CD8': 10.0, 'Her2': 10.0, 'GATA3': 29.0, 'cKit': 29.0, 'Pan-Cytokeratin': 15.0, 'GLUT1': 6.0, 'Podoplanin': 10.0, 'HLA-DR': 12.0, 'CK14': 10.0, 'E-cadherin': 212.0, 'SMA': 10.0, 'CD3e': 10.0, 'CD11b': 10.0, 'PR': 10.0, 'ER': 10.0, 'CD31': 10.0, 'CK19': 10.0, 'CK5': 8.0, 'CTLA4': 10.0, 'CD4': 14.0, 'BCA1': 10.0}\n"
     ]
    },
    {
     "name": "stdout",
     "output_type": "stream",
     "text": [
      "HT171B1-S1H9A1-A4_left_05262023\n"
     ]
    },
    {
     "name": "stderr",
     "output_type": "stream",
     "text": [
      "/diskmnt/Projects/Users/estorrs/miniconda3/envs/mip/lib/python3.8/site-packages/ome_types/_convenience.py:112: FutureWarning: The default XML parser will be changing from 'xmlschema' to 'lxml' in version 0.4.0.  To silence this warning, please provide the `parser` argument, specifying either 'lxml' (to opt into the new behavior), or'xmlschema' (to retain the old behavior).\n",
      "  d = to_dict(os.fspath(xml), parser=parser, validate=validate)\n",
      "INFO:root:reading mask from /diskmnt/Projects/Users/estorrs/imaging-analysis/results/brca_subtype/revision_v1/region_masks/HT171B1-S1H9A1-A4_left_05262023.tif\n",
      "INFO:root:generating region features for region\n",
      "INFO:root:generating cell fractions\n",
      "INFO:root:generating marker intensities\n",
      "INFO:root:generating marker fractions\n",
      "INFO:root:Using the following threhsolds to calculate positive fraction: {'CD8': 10.0, 'Her2': 10.0, 'GATA3': 15.0, 'cKit': 10.0, 'Pan-Cytokeratin': 22.0, 'GLUT1': 13.0, 'Podoplanin': 10.0, 'HLA-DR': 15.0, 'CK14': 10.0, 'SMA': 10.0, 'PR': 19.0, 'ER': 10.0, 'CD31': 10.0, 'CK19': 10.0, 'CTLA4': 10.0, 'CD4': 12.0, 'BCA1': 11.0}\n",
      "INFO:root:generating region features for ductal\n",
      "INFO:root:generating cell fractions\n",
      "INFO:root:generating marker intensities\n",
      "INFO:root:generating marker fractions\n",
      "INFO:root:Using the following threhsolds to calculate positive fraction: {'CD8': 10.0, 'Her2': 10.0, 'GATA3': 15.0, 'cKit': 10.0, 'Pan-Cytokeratin': 22.0, 'GLUT1': 13.0, 'Podoplanin': 10.0, 'HLA-DR': 15.0, 'CK14': 10.0, 'SMA': 10.0, 'PR': 19.0, 'ER': 10.0, 'CD31': 10.0, 'CK19': 10.0, 'CTLA4': 10.0, 'CD4': 12.0, 'BCA1': 11.0}\n",
      "INFO:root:generating region features for myoepi\n",
      "INFO:root:generating cell fractions\n",
      "INFO:root:generating marker intensities\n",
      "INFO:root:generating marker fractions\n",
      "INFO:root:Using the following threhsolds to calculate positive fraction: {'CD8': 10.0, 'Her2': 10.0, 'GATA3': 15.0, 'cKit': 10.0, 'Pan-Cytokeratin': 22.0, 'GLUT1': 13.0, 'Podoplanin': 10.0, 'HLA-DR': 15.0, 'CK14': 10.0, 'SMA': 10.0, 'PR': 19.0, 'ER': 10.0, 'CD31': 10.0, 'CK19': 10.0, 'CTLA4': 10.0, 'CD4': 12.0, 'BCA1': 11.0}\n",
      "INFO:root:generating region features for boundary\n",
      "INFO:root:generating cell fractions\n",
      "INFO:root:generating marker intensities\n",
      "INFO:root:generating marker fractions\n",
      "INFO:root:Using the following threhsolds to calculate positive fraction: {'CD8': 10.0, 'Her2': 10.0, 'GATA3': 15.0, 'cKit': 10.0, 'Pan-Cytokeratin': 22.0, 'GLUT1': 13.0, 'Podoplanin': 10.0, 'HLA-DR': 15.0, 'CK14': 10.0, 'SMA': 10.0, 'PR': 19.0, 'ER': 10.0, 'CD31': 10.0, 'CK19': 10.0, 'CTLA4': 10.0, 'CD4': 12.0, 'BCA1': 11.0}\n",
      "INFO:root:generating region features for expanded\n",
      "INFO:root:generating cell fractions\n",
      "INFO:root:generating marker intensities\n",
      "INFO:root:generating marker fractions\n",
      "INFO:root:Using the following threhsolds to calculate positive fraction: {'CD8': 10.0, 'Her2': 10.0, 'GATA3': 15.0, 'cKit': 10.0, 'Pan-Cytokeratin': 22.0, 'GLUT1': 13.0, 'Podoplanin': 10.0, 'HLA-DR': 15.0, 'CK14': 10.0, 'SMA': 10.0, 'PR': 19.0, 'ER': 10.0, 'CD31': 10.0, 'CK19': 10.0, 'CTLA4': 10.0, 'CD4': 12.0, 'BCA1': 11.0}\n"
     ]
    },
    {
     "name": "stdout",
     "output_type": "stream",
     "text": [
      "HT171B1-S1H9A1-A4_right_05262023\n"
     ]
    },
    {
     "name": "stderr",
     "output_type": "stream",
     "text": [
      "/diskmnt/Projects/Users/estorrs/miniconda3/envs/mip/lib/python3.8/site-packages/ome_types/_convenience.py:112: FutureWarning: The default XML parser will be changing from 'xmlschema' to 'lxml' in version 0.4.0.  To silence this warning, please provide the `parser` argument, specifying either 'lxml' (to opt into the new behavior), or'xmlschema' (to retain the old behavior).\n",
      "  d = to_dict(os.fspath(xml), parser=parser, validate=validate)\n",
      "INFO:root:reading mask from /diskmnt/Projects/Users/estorrs/imaging-analysis/results/brca_subtype/revision_v1/region_masks/HT171B1-S1H9A1-A4_right_05262023.tif\n",
      "INFO:root:generating region features for region\n",
      "INFO:root:generating cell fractions\n",
      "INFO:root:generating marker intensities\n",
      "INFO:root:generating marker fractions\n",
      "INFO:root:Using the following threhsolds to calculate positive fraction: {'CD8': 10.0, 'Her2': 10.0, 'GATA3': 15.0, 'cKit': 10.0, 'Pan-Cytokeratin': 22.0, 'GLUT1': 13.0, 'Podoplanin': 10.0, 'HLA-DR': 15.0, 'CK14': 10.0, 'SMA': 10.0, 'PR': 19.0, 'ER': 10.0, 'CD31': 10.0, 'CK19': 10.0, 'CTLA4': 10.0, 'CD4': 12.0, 'BCA1': 11.0}\n"
     ]
    }
   ],
   "source": [
    "for sample in sample_to_adata.keys():\n",
    "    print(sample)\n",
    "    try:\n",
    "        combined, labeled_dict = get_region_features(\n",
    "            sample_to_adata[sample], sample_to_ome[sample], mask_fp=sample_to_mask[sample],\n",
    "            annotation_keys=annotation_keys\n",
    "        )\n",
    "        combined.index.name = 'label'\n",
    "        combined.to_csv(os.path.join(region_features_dir, f'{sample}.txt'), sep='\\t', index=True)\n",
    "\n",
    "        for name, img in labeled_dict.items():\n",
    "            tifffile.imwrite(os.path.join(region_features_masks_dir, f'{sample}_{name}.tif'), img, compression='LZW')\n",
    "    except:\n",
    "        print(f'error in sample {sample}')"
   ]
  },
  {
   "cell_type": "code",
   "execution_count": null,
   "id": "e176300d",
   "metadata": {},
   "outputs": [],
   "source": []
  },
  {
   "cell_type": "code",
   "execution_count": 42,
   "id": "e88f5a06",
   "metadata": {},
   "outputs": [
    {
     "data": {
      "text/html": [
       "<div>\n",
       "<style scoped>\n",
       "    .dataframe tbody tr th:only-of-type {\n",
       "        vertical-align: middle;\n",
       "    }\n",
       "\n",
       "    .dataframe tbody tr th {\n",
       "        vertical-align: top;\n",
       "    }\n",
       "\n",
       "    .dataframe thead th {\n",
       "        text-align: right;\n",
       "    }\n",
       "</style>\n",
       "<table border=\"1\" class=\"dataframe\">\n",
       "  <thead>\n",
       "    <tr style=\"text-align: right;\">\n",
       "      <th></th>\n",
       "      <th>region_r1</th>\n",
       "      <th>region_c1</th>\n",
       "      <th>region_r2</th>\n",
       "      <th>region_c2</th>\n",
       "      <th>region_area</th>\n",
       "      <th>region_perimeter</th>\n",
       "      <th>region_row</th>\n",
       "      <th>region_col</th>\n",
       "      <th>region_compactness</th>\n",
       "      <th>region_cell_fraction_default_annotation_CD8 T cell</th>\n",
       "      <th>...</th>\n",
       "      <th>expanded_marker_fraction_CK14</th>\n",
       "      <th>expanded_marker_fraction_CK17</th>\n",
       "      <th>expanded_marker_fraction_CK19</th>\n",
       "      <th>expanded_marker_fraction_ER</th>\n",
       "      <th>expanded_marker_fraction_GATA3</th>\n",
       "      <th>expanded_marker_fraction_HLA-DR</th>\n",
       "      <th>expanded_marker_fraction_PR</th>\n",
       "      <th>expanded_marker_fraction_Pan-Cytokeratin</th>\n",
       "      <th>expanded_marker_fraction_Podoplanin</th>\n",
       "      <th>expanded_marker_fraction_SMA</th>\n",
       "    </tr>\n",
       "  </thead>\n",
       "  <tbody>\n",
       "    <tr>\n",
       "      <th>0</th>\n",
       "      <td>12393</td>\n",
       "      <td>1635</td>\n",
       "      <td>20321</td>\n",
       "      <td>8363</td>\n",
       "      <td>145261</td>\n",
       "      <td>29305.071068</td>\n",
       "      <td>14656.459545</td>\n",
       "      <td>3607.557810</td>\n",
       "      <td>0.002126</td>\n",
       "      <td>0.000000</td>\n",
       "      <td>...</td>\n",
       "      <td>0.000742</td>\n",
       "      <td>0.000505</td>\n",
       "      <td>0.000278</td>\n",
       "      <td>0.000701</td>\n",
       "      <td>0.000646</td>\n",
       "      <td>0.000584</td>\n",
       "      <td>0.000350</td>\n",
       "      <td>0.000486</td>\n",
       "      <td>0.000585</td>\n",
       "      <td>0.000712</td>\n",
       "    </tr>\n",
       "    <tr>\n",
       "      <th>1</th>\n",
       "      <td>13107</td>\n",
       "      <td>4566</td>\n",
       "      <td>13340</td>\n",
       "      <td>4692</td>\n",
       "      <td>19471</td>\n",
       "      <td>654.433550</td>\n",
       "      <td>13221.489446</td>\n",
       "      <td>4628.472035</td>\n",
       "      <td>0.571304</td>\n",
       "      <td>0.000000</td>\n",
       "      <td>...</td>\n",
       "      <td>0.000009</td>\n",
       "      <td>0.000009</td>\n",
       "      <td>0.008284</td>\n",
       "      <td>0.000167</td>\n",
       "      <td>0.000405</td>\n",
       "      <td>0.000009</td>\n",
       "      <td>0.000009</td>\n",
       "      <td>0.070268</td>\n",
       "      <td>0.000282</td>\n",
       "      <td>0.000009</td>\n",
       "    </tr>\n",
       "    <tr>\n",
       "      <th>2</th>\n",
       "      <td>13113</td>\n",
       "      <td>8356</td>\n",
       "      <td>13124</td>\n",
       "      <td>9323</td>\n",
       "      <td>10637</td>\n",
       "      <td>1952.000000</td>\n",
       "      <td>13118.000000</td>\n",
       "      <td>8839.000000</td>\n",
       "      <td>0.035081</td>\n",
       "      <td>NaN</td>\n",
       "      <td>...</td>\n",
       "      <td>0.009743</td>\n",
       "      <td>0.004662</td>\n",
       "      <td>0.005114</td>\n",
       "      <td>0.015615</td>\n",
       "      <td>0.010070</td>\n",
       "      <td>0.007304</td>\n",
       "      <td>0.007596</td>\n",
       "      <td>0.007306</td>\n",
       "      <td>0.007438</td>\n",
       "      <td>0.009347</td>\n",
       "    </tr>\n",
       "    <tr>\n",
       "      <th>3</th>\n",
       "      <td>13833</td>\n",
       "      <td>9316</td>\n",
       "      <td>13844</td>\n",
       "      <td>10283</td>\n",
       "      <td>10637</td>\n",
       "      <td>1952.000000</td>\n",
       "      <td>13838.000000</td>\n",
       "      <td>9799.000000</td>\n",
       "      <td>0.035081</td>\n",
       "      <td>NaN</td>\n",
       "      <td>...</td>\n",
       "      <td>0.009740</td>\n",
       "      <td>0.003962</td>\n",
       "      <td>0.005279</td>\n",
       "      <td>0.013265</td>\n",
       "      <td>0.010073</td>\n",
       "      <td>0.007304</td>\n",
       "      <td>0.007469</td>\n",
       "      <td>0.007306</td>\n",
       "      <td>0.007466</td>\n",
       "      <td>0.009446</td>\n",
       "    </tr>\n",
       "    <tr>\n",
       "      <th>4</th>\n",
       "      <td>15630</td>\n",
       "      <td>5176</td>\n",
       "      <td>16261</td>\n",
       "      <td>5799</td>\n",
       "      <td>183966</td>\n",
       "      <td>3108.049999</td>\n",
       "      <td>15945.783536</td>\n",
       "      <td>5494.163280</td>\n",
       "      <td>0.239316</td>\n",
       "      <td>0.006211</td>\n",
       "      <td>...</td>\n",
       "      <td>0.006817</td>\n",
       "      <td>0.000061</td>\n",
       "      <td>0.147570</td>\n",
       "      <td>0.016393</td>\n",
       "      <td>0.000098</td>\n",
       "      <td>0.081942</td>\n",
       "      <td>0.036244</td>\n",
       "      <td>0.200717</td>\n",
       "      <td>0.035409</td>\n",
       "      <td>0.025373</td>\n",
       "    </tr>\n",
       "    <tr>\n",
       "      <th>...</th>\n",
       "      <td>...</td>\n",
       "      <td>...</td>\n",
       "      <td>...</td>\n",
       "      <td>...</td>\n",
       "      <td>...</td>\n",
       "      <td>...</td>\n",
       "      <td>...</td>\n",
       "      <td>...</td>\n",
       "      <td>...</td>\n",
       "      <td>...</td>\n",
       "      <td>...</td>\n",
       "      <td>...</td>\n",
       "      <td>...</td>\n",
       "      <td>...</td>\n",
       "      <td>...</td>\n",
       "      <td>...</td>\n",
       "      <td>...</td>\n",
       "      <td>...</td>\n",
       "      <td>...</td>\n",
       "      <td>...</td>\n",
       "      <td>...</td>\n",
       "    </tr>\n",
       "    <tr>\n",
       "      <th>302</th>\n",
       "      <td>25087</td>\n",
       "      <td>13207</td>\n",
       "      <td>25256</td>\n",
       "      <td>13425</td>\n",
       "      <td>21537</td>\n",
       "      <td>951.286363</td>\n",
       "      <td>25165.226448</td>\n",
       "      <td>13318.306449</td>\n",
       "      <td>0.299070</td>\n",
       "      <td>0.000000</td>\n",
       "      <td>...</td>\n",
       "      <td>0.018457</td>\n",
       "      <td>0.000068</td>\n",
       "      <td>0.161217</td>\n",
       "      <td>0.009170</td>\n",
       "      <td>0.000010</td>\n",
       "      <td>0.068815</td>\n",
       "      <td>0.011404</td>\n",
       "      <td>0.201754</td>\n",
       "      <td>0.000476</td>\n",
       "      <td>0.019603</td>\n",
       "    </tr>\n",
       "    <tr>\n",
       "      <th>303</th>\n",
       "      <td>25147</td>\n",
       "      <td>13659</td>\n",
       "      <td>25343</td>\n",
       "      <td>13880</td>\n",
       "      <td>21002</td>\n",
       "      <td>835.955411</td>\n",
       "      <td>25246.970574</td>\n",
       "      <td>13754.373012</td>\n",
       "      <td>0.377663</td>\n",
       "      <td>0.000000</td>\n",
       "      <td>...</td>\n",
       "      <td>0.012991</td>\n",
       "      <td>0.000005</td>\n",
       "      <td>0.080930</td>\n",
       "      <td>0.009343</td>\n",
       "      <td>0.000103</td>\n",
       "      <td>0.076452</td>\n",
       "      <td>0.000717</td>\n",
       "      <td>0.093894</td>\n",
       "      <td>0.005152</td>\n",
       "      <td>0.018870</td>\n",
       "    </tr>\n",
       "    <tr>\n",
       "      <th>304</th>\n",
       "      <td>25170</td>\n",
       "      <td>13846</td>\n",
       "      <td>25283</td>\n",
       "      <td>14111</td>\n",
       "      <td>16435</td>\n",
       "      <td>863.144228</td>\n",
       "      <td>25226.698509</td>\n",
       "      <td>13975.475814</td>\n",
       "      <td>0.277213</td>\n",
       "      <td>0.000000</td>\n",
       "      <td>...</td>\n",
       "      <td>0.009155</td>\n",
       "      <td>0.000015</td>\n",
       "      <td>0.095551</td>\n",
       "      <td>0.006074</td>\n",
       "      <td>0.000643</td>\n",
       "      <td>0.186165</td>\n",
       "      <td>0.000044</td>\n",
       "      <td>0.116409</td>\n",
       "      <td>0.000805</td>\n",
       "      <td>0.060292</td>\n",
       "    </tr>\n",
       "    <tr>\n",
       "      <th>305</th>\n",
       "      <td>25264</td>\n",
       "      <td>15223</td>\n",
       "      <td>25436</td>\n",
       "      <td>15400</td>\n",
       "      <td>19207</td>\n",
       "      <td>891.730014</td>\n",
       "      <td>25347.975790</td>\n",
       "      <td>15310.674702</td>\n",
       "      <td>0.303531</td>\n",
       "      <td>0.000000</td>\n",
       "      <td>...</td>\n",
       "      <td>0.000038</td>\n",
       "      <td>0.000011</td>\n",
       "      <td>0.019016</td>\n",
       "      <td>0.000131</td>\n",
       "      <td>0.000925</td>\n",
       "      <td>0.001691</td>\n",
       "      <td>0.000011</td>\n",
       "      <td>0.106157</td>\n",
       "      <td>0.005501</td>\n",
       "      <td>0.117307</td>\n",
       "    </tr>\n",
       "    <tr>\n",
       "      <th>306</th>\n",
       "      <td>25394</td>\n",
       "      <td>13358</td>\n",
       "      <td>25596</td>\n",
       "      <td>13755</td>\n",
       "      <td>32917</td>\n",
       "      <td>1356.494516</td>\n",
       "      <td>25489.820214</td>\n",
       "      <td>13580.177537</td>\n",
       "      <td>0.224799</td>\n",
       "      <td>0.000000</td>\n",
       "      <td>...</td>\n",
       "      <td>0.008509</td>\n",
       "      <td>0.000007</td>\n",
       "      <td>0.067760</td>\n",
       "      <td>0.003008</td>\n",
       "      <td>0.000128</td>\n",
       "      <td>0.053629</td>\n",
       "      <td>0.000027</td>\n",
       "      <td>0.090579</td>\n",
       "      <td>0.000172</td>\n",
       "      <td>0.019548</td>\n",
       "    </tr>\n",
       "  </tbody>\n",
       "</table>\n",
       "<p>307 rows × 390 columns</p>\n",
       "</div>"
      ],
      "text/plain": [
       "     region_r1  region_c1  region_r2  region_c2  region_area  \\\n",
       "0        12393       1635      20321       8363       145261   \n",
       "1        13107       4566      13340       4692        19471   \n",
       "2        13113       8356      13124       9323        10637   \n",
       "3        13833       9316      13844      10283        10637   \n",
       "4        15630       5176      16261       5799       183966   \n",
       "..         ...        ...        ...        ...          ...   \n",
       "302      25087      13207      25256      13425        21537   \n",
       "303      25147      13659      25343      13880        21002   \n",
       "304      25170      13846      25283      14111        16435   \n",
       "305      25264      15223      25436      15400        19207   \n",
       "306      25394      13358      25596      13755        32917   \n",
       "\n",
       "     region_perimeter    region_row    region_col  region_compactness  \\\n",
       "0        29305.071068  14656.459545   3607.557810            0.002126   \n",
       "1          654.433550  13221.489446   4628.472035            0.571304   \n",
       "2         1952.000000  13118.000000   8839.000000            0.035081   \n",
       "3         1952.000000  13838.000000   9799.000000            0.035081   \n",
       "4         3108.049999  15945.783536   5494.163280            0.239316   \n",
       "..                ...           ...           ...                 ...   \n",
       "302        951.286363  25165.226448  13318.306449            0.299070   \n",
       "303        835.955411  25246.970574  13754.373012            0.377663   \n",
       "304        863.144228  25226.698509  13975.475814            0.277213   \n",
       "305        891.730014  25347.975790  15310.674702            0.303531   \n",
       "306       1356.494516  25489.820214  13580.177537            0.224799   \n",
       "\n",
       "     region_cell_fraction_default_annotation_CD8 T cell  ...  \\\n",
       "0                                             0.000000   ...   \n",
       "1                                             0.000000   ...   \n",
       "2                                                  NaN   ...   \n",
       "3                                                  NaN   ...   \n",
       "4                                             0.006211   ...   \n",
       "..                                                 ...   ...   \n",
       "302                                           0.000000   ...   \n",
       "303                                           0.000000   ...   \n",
       "304                                           0.000000   ...   \n",
       "305                                           0.000000   ...   \n",
       "306                                           0.000000   ...   \n",
       "\n",
       "     expanded_marker_fraction_CK14  expanded_marker_fraction_CK17  \\\n",
       "0                         0.000742                       0.000505   \n",
       "1                         0.000009                       0.000009   \n",
       "2                         0.009743                       0.004662   \n",
       "3                         0.009740                       0.003962   \n",
       "4                         0.006817                       0.000061   \n",
       "..                             ...                            ...   \n",
       "302                       0.018457                       0.000068   \n",
       "303                       0.012991                       0.000005   \n",
       "304                       0.009155                       0.000015   \n",
       "305                       0.000038                       0.000011   \n",
       "306                       0.008509                       0.000007   \n",
       "\n",
       "     expanded_marker_fraction_CK19  expanded_marker_fraction_ER  \\\n",
       "0                         0.000278                     0.000701   \n",
       "1                         0.008284                     0.000167   \n",
       "2                         0.005114                     0.015615   \n",
       "3                         0.005279                     0.013265   \n",
       "4                         0.147570                     0.016393   \n",
       "..                             ...                          ...   \n",
       "302                       0.161217                     0.009170   \n",
       "303                       0.080930                     0.009343   \n",
       "304                       0.095551                     0.006074   \n",
       "305                       0.019016                     0.000131   \n",
       "306                       0.067760                     0.003008   \n",
       "\n",
       "     expanded_marker_fraction_GATA3  expanded_marker_fraction_HLA-DR  \\\n",
       "0                          0.000646                         0.000584   \n",
       "1                          0.000405                         0.000009   \n",
       "2                          0.010070                         0.007304   \n",
       "3                          0.010073                         0.007304   \n",
       "4                          0.000098                         0.081942   \n",
       "..                              ...                              ...   \n",
       "302                        0.000010                         0.068815   \n",
       "303                        0.000103                         0.076452   \n",
       "304                        0.000643                         0.186165   \n",
       "305                        0.000925                         0.001691   \n",
       "306                        0.000128                         0.053629   \n",
       "\n",
       "     expanded_marker_fraction_PR  expanded_marker_fraction_Pan-Cytokeratin  \\\n",
       "0                       0.000350                                  0.000486   \n",
       "1                       0.000009                                  0.070268   \n",
       "2                       0.007596                                  0.007306   \n",
       "3                       0.007469                                  0.007306   \n",
       "4                       0.036244                                  0.200717   \n",
       "..                           ...                                       ...   \n",
       "302                     0.011404                                  0.201754   \n",
       "303                     0.000717                                  0.093894   \n",
       "304                     0.000044                                  0.116409   \n",
       "305                     0.000011                                  0.106157   \n",
       "306                     0.000027                                  0.090579   \n",
       "\n",
       "     expanded_marker_fraction_Podoplanin  expanded_marker_fraction_SMA  \n",
       "0                               0.000585                      0.000712  \n",
       "1                               0.000282                      0.000009  \n",
       "2                               0.007438                      0.009347  \n",
       "3                               0.007466                      0.009446  \n",
       "4                               0.035409                      0.025373  \n",
       "..                                   ...                           ...  \n",
       "302                             0.000476                      0.019603  \n",
       "303                             0.005152                      0.018870  \n",
       "304                             0.000805                      0.060292  \n",
       "305                             0.005501                      0.117307  \n",
       "306                             0.000172                      0.019548  \n",
       "\n",
       "[307 rows x 390 columns]"
      ]
     },
     "execution_count": 42,
     "metadata": {},
     "output_type": "execute_result"
    }
   ],
   "source": [
    "df = pd.read_csv(\n",
    "    '/diskmnt/Projects/Users/estorrs/imaging-analysis/results/brca_subtype/revision_v1/region_features/HT110B1_S1H4.txt',\n",
    "    sep='\\t'\n",
    ")\n",
    "df"
   ]
  },
  {
   "cell_type": "code",
   "execution_count": 43,
   "id": "07004b1c",
   "metadata": {},
   "outputs": [
    {
     "data": {
      "text/plain": [
       "['region_r1',\n",
       " 'region_c1',\n",
       " 'region_r2',\n",
       " 'region_c2',\n",
       " 'region_area',\n",
       " 'region_perimeter',\n",
       " 'region_row',\n",
       " 'region_col',\n",
       " 'region_compactness',\n",
       " 'region_cell_fraction_default_annotation_CD8 T cell',\n",
       " 'region_cell_fraction_default_annotation_Epithelial',\n",
       " 'region_cell_fraction_default_annotation_Immune',\n",
       " 'region_cell_fraction_default_annotation_Macrophage - M1',\n",
       " 'region_cell_fraction_default_annotation_Stroma',\n",
       " 'region_cell_fraction_default_annotation_Unlabeled',\n",
       " 'region_cell_fraction_cKit_annotation_Unlabeled',\n",
       " 'region_cell_fraction_GATA3_annotation_Unlabeled',\n",
       " 'region_cell_fraction_GATA3_annotation_epithelial - GATA3 positive',\n",
       " 'region_cell_fraction_CK14_annotation_Unlabeled',\n",
       " 'region_cell_fraction_CK14_annotation_epithelial - CK14 positive',\n",
       " 'region_cell_fraction_CK19_annotation_Unlabeled',\n",
       " 'region_cell_fraction_CK19_annotation_epithelial - CK19 positive',\n",
       " 'region_cell_fraction_PR_annotation_Unlabeled',\n",
       " 'region_cell_fraction_PR_annotation_epithelial - PR positive',\n",
       " 'region_cell_fraction_ER_annotation_Unlabeled',\n",
       " 'region_cell_fraction_ER_annotation_epithelial - ER positive',\n",
       " 'region_cell_fraction_Her2_annotation_Unlabeled',\n",
       " 'region_cell_fraction_CD8_annotation_CD8 positive',\n",
       " 'region_cell_fraction_CD8_annotation_Unlabeled',\n",
       " 'region_cell_fraction_BCA1_annotation_Unlabeled',\n",
       " 'region_cell_fraction_CTLA4_annotation_Unlabeled',\n",
       " 'region_cell_fraction_CD68_annotation_CD68 positive',\n",
       " 'region_cell_fraction_CD68_annotation_Unlabeled',\n",
       " 'region_cell_fraction_CD163_annotation_CD163 positive',\n",
       " 'region_cell_fraction_CD163_annotation_Unlabeled',\n",
       " 'region_cell_fraction_Granzyme-B_annotation_Unlabeled',\n",
       " 'region_cell_fraction_pan-immune_annotation_Unlabeled',\n",
       " 'region_cell_fraction_pan-immune_annotation_immune',\n",
       " 'region_marker_intensity_CD138',\n",
       " 'region_marker_intensity_CD163',\n",
       " 'region_marker_intensity_CD20',\n",
       " 'region_marker_intensity_CD36',\n",
       " 'region_marker_intensity_CD3e',\n",
       " 'region_marker_intensity_CD4',\n",
       " 'region_marker_intensity_CD68',\n",
       " 'region_marker_intensity_CD8',\n",
       " 'region_marker_intensity_CK14',\n",
       " 'region_marker_intensity_CK17',\n",
       " 'region_marker_intensity_CK19',\n",
       " 'region_marker_intensity_DAPI',\n",
       " 'region_marker_intensity_ER',\n",
       " 'region_marker_intensity_GATA3',\n",
       " 'region_marker_intensity_GLUT1',\n",
       " 'region_marker_intensity_HLA-DR',\n",
       " 'region_marker_intensity_Ki67',\n",
       " 'region_marker_intensity_MGP',\n",
       " 'region_marker_intensity_P16',\n",
       " 'region_marker_intensity_P21',\n",
       " 'region_marker_intensity_PR',\n",
       " 'region_marker_intensity_Pan-Cytokeratin',\n",
       " 'region_marker_intensity_Podoplanin',\n",
       " 'region_marker_intensity_SMA',\n",
       " 'region_marker_intensity_Vimentin',\n",
       " 'region_marker_intensity_cKit',\n",
       " 'region_marker_fraction_CD163',\n",
       " 'region_marker_fraction_CD20',\n",
       " 'region_marker_fraction_CD3e',\n",
       " 'region_marker_fraction_CD8',\n",
       " 'region_marker_fraction_CK14',\n",
       " 'region_marker_fraction_CK17',\n",
       " 'region_marker_fraction_CK19',\n",
       " 'region_marker_fraction_ER',\n",
       " 'region_marker_fraction_GATA3',\n",
       " 'region_marker_fraction_HLA-DR',\n",
       " 'region_marker_fraction_PR',\n",
       " 'region_marker_fraction_Pan-Cytokeratin',\n",
       " 'region_marker_fraction_Podoplanin',\n",
       " 'region_marker_fraction_SMA',\n",
       " 'ductal_r1',\n",
       " 'ductal_c1',\n",
       " 'ductal_r2',\n",
       " 'ductal_c2',\n",
       " 'ductal_area',\n",
       " 'ductal_perimeter',\n",
       " 'ductal_row',\n",
       " 'ductal_col',\n",
       " 'ductal_compactness',\n",
       " 'ductal_cell_fraction_default_annotation_CD8 T cell',\n",
       " 'ductal_cell_fraction_default_annotation_Epithelial',\n",
       " 'ductal_cell_fraction_default_annotation_Immune',\n",
       " 'ductal_cell_fraction_default_annotation_Macrophage - M1',\n",
       " 'ductal_cell_fraction_default_annotation_Stroma',\n",
       " 'ductal_cell_fraction_default_annotation_Unlabeled',\n",
       " 'ductal_cell_fraction_cKit_annotation_Unlabeled',\n",
       " 'ductal_cell_fraction_GATA3_annotation_Unlabeled',\n",
       " 'ductal_cell_fraction_GATA3_annotation_epithelial - GATA3 positive',\n",
       " 'ductal_cell_fraction_CK14_annotation_Unlabeled',\n",
       " 'ductal_cell_fraction_CK14_annotation_epithelial - CK14 positive',\n",
       " 'ductal_cell_fraction_CK19_annotation_Unlabeled',\n",
       " 'ductal_cell_fraction_CK19_annotation_epithelial - CK19 positive',\n",
       " 'ductal_cell_fraction_PR_annotation_Unlabeled',\n",
       " 'ductal_cell_fraction_PR_annotation_epithelial - PR positive',\n",
       " 'ductal_cell_fraction_ER_annotation_Unlabeled',\n",
       " 'ductal_cell_fraction_ER_annotation_epithelial - ER positive',\n",
       " 'ductal_cell_fraction_Her2_annotation_Unlabeled',\n",
       " 'ductal_cell_fraction_CD8_annotation_CD8 positive',\n",
       " 'ductal_cell_fraction_CD8_annotation_Unlabeled',\n",
       " 'ductal_cell_fraction_BCA1_annotation_Unlabeled',\n",
       " 'ductal_cell_fraction_CTLA4_annotation_Unlabeled',\n",
       " 'ductal_cell_fraction_CD68_annotation_CD68 positive',\n",
       " 'ductal_cell_fraction_CD68_annotation_Unlabeled',\n",
       " 'ductal_cell_fraction_CD163_annotation_CD163 positive',\n",
       " 'ductal_cell_fraction_CD163_annotation_Unlabeled',\n",
       " 'ductal_cell_fraction_Granzyme-B_annotation_Unlabeled',\n",
       " 'ductal_cell_fraction_pan-immune_annotation_Unlabeled',\n",
       " 'ductal_cell_fraction_pan-immune_annotation_immune',\n",
       " 'ductal_marker_intensity_CD138',\n",
       " 'ductal_marker_intensity_CD163',\n",
       " 'ductal_marker_intensity_CD20',\n",
       " 'ductal_marker_intensity_CD36',\n",
       " 'ductal_marker_intensity_CD3e',\n",
       " 'ductal_marker_intensity_CD4',\n",
       " 'ductal_marker_intensity_CD68',\n",
       " 'ductal_marker_intensity_CD8',\n",
       " 'ductal_marker_intensity_CK14',\n",
       " 'ductal_marker_intensity_CK17',\n",
       " 'ductal_marker_intensity_CK19',\n",
       " 'ductal_marker_intensity_DAPI',\n",
       " 'ductal_marker_intensity_ER',\n",
       " 'ductal_marker_intensity_GATA3',\n",
       " 'ductal_marker_intensity_GLUT1',\n",
       " 'ductal_marker_intensity_HLA-DR',\n",
       " 'ductal_marker_intensity_Ki67',\n",
       " 'ductal_marker_intensity_MGP',\n",
       " 'ductal_marker_intensity_P16',\n",
       " 'ductal_marker_intensity_P21',\n",
       " 'ductal_marker_intensity_PR',\n",
       " 'ductal_marker_intensity_Pan-Cytokeratin',\n",
       " 'ductal_marker_intensity_Podoplanin',\n",
       " 'ductal_marker_intensity_SMA',\n",
       " 'ductal_marker_intensity_Vimentin',\n",
       " 'ductal_marker_intensity_cKit',\n",
       " 'ductal_marker_fraction_CD163',\n",
       " 'ductal_marker_fraction_CD20',\n",
       " 'ductal_marker_fraction_CD3e',\n",
       " 'ductal_marker_fraction_CD8',\n",
       " 'ductal_marker_fraction_CK14',\n",
       " 'ductal_marker_fraction_CK17',\n",
       " 'ductal_marker_fraction_CK19',\n",
       " 'ductal_marker_fraction_ER',\n",
       " 'ductal_marker_fraction_GATA3',\n",
       " 'ductal_marker_fraction_HLA-DR',\n",
       " 'ductal_marker_fraction_PR',\n",
       " 'ductal_marker_fraction_Pan-Cytokeratin',\n",
       " 'ductal_marker_fraction_Podoplanin',\n",
       " 'ductal_marker_fraction_SMA',\n",
       " 'myoepi_r1',\n",
       " 'myoepi_c1',\n",
       " 'myoepi_r2',\n",
       " 'myoepi_c2',\n",
       " 'myoepi_area',\n",
       " 'myoepi_perimeter',\n",
       " 'myoepi_row',\n",
       " 'myoepi_col',\n",
       " 'myoepi_compactness',\n",
       " 'myoepi_cell_fraction_default_annotation_CD8 T cell',\n",
       " 'myoepi_cell_fraction_default_annotation_Epithelial',\n",
       " 'myoepi_cell_fraction_default_annotation_Immune',\n",
       " 'myoepi_cell_fraction_default_annotation_Macrophage - M1',\n",
       " 'myoepi_cell_fraction_default_annotation_Stroma',\n",
       " 'myoepi_cell_fraction_default_annotation_Unlabeled',\n",
       " 'myoepi_cell_fraction_cKit_annotation_Unlabeled',\n",
       " 'myoepi_cell_fraction_GATA3_annotation_Unlabeled',\n",
       " 'myoepi_cell_fraction_GATA3_annotation_epithelial - GATA3 positive',\n",
       " 'myoepi_cell_fraction_CK14_annotation_Unlabeled',\n",
       " 'myoepi_cell_fraction_CK14_annotation_epithelial - CK14 positive',\n",
       " 'myoepi_cell_fraction_CK19_annotation_Unlabeled',\n",
       " 'myoepi_cell_fraction_CK19_annotation_epithelial - CK19 positive',\n",
       " 'myoepi_cell_fraction_PR_annotation_Unlabeled',\n",
       " 'myoepi_cell_fraction_PR_annotation_epithelial - PR positive',\n",
       " 'myoepi_cell_fraction_ER_annotation_Unlabeled',\n",
       " 'myoepi_cell_fraction_ER_annotation_epithelial - ER positive',\n",
       " 'myoepi_cell_fraction_Her2_annotation_Unlabeled',\n",
       " 'myoepi_cell_fraction_CD8_annotation_CD8 positive',\n",
       " 'myoepi_cell_fraction_CD8_annotation_Unlabeled',\n",
       " 'myoepi_cell_fraction_BCA1_annotation_Unlabeled',\n",
       " 'myoepi_cell_fraction_CTLA4_annotation_Unlabeled',\n",
       " 'myoepi_cell_fraction_CD68_annotation_CD68 positive',\n",
       " 'myoepi_cell_fraction_CD68_annotation_Unlabeled',\n",
       " 'myoepi_cell_fraction_CD163_annotation_CD163 positive',\n",
       " 'myoepi_cell_fraction_CD163_annotation_Unlabeled',\n",
       " 'myoepi_cell_fraction_Granzyme-B_annotation_Unlabeled',\n",
       " 'myoepi_cell_fraction_pan-immune_annotation_Unlabeled',\n",
       " 'myoepi_cell_fraction_pan-immune_annotation_immune',\n",
       " 'myoepi_marker_intensity_CD138',\n",
       " 'myoepi_marker_intensity_CD163',\n",
       " 'myoepi_marker_intensity_CD20',\n",
       " 'myoepi_marker_intensity_CD36',\n",
       " 'myoepi_marker_intensity_CD3e',\n",
       " 'myoepi_marker_intensity_CD4',\n",
       " 'myoepi_marker_intensity_CD68',\n",
       " 'myoepi_marker_intensity_CD8',\n",
       " 'myoepi_marker_intensity_CK14',\n",
       " 'myoepi_marker_intensity_CK17',\n",
       " 'myoepi_marker_intensity_CK19',\n",
       " 'myoepi_marker_intensity_DAPI',\n",
       " 'myoepi_marker_intensity_ER',\n",
       " 'myoepi_marker_intensity_GATA3',\n",
       " 'myoepi_marker_intensity_GLUT1',\n",
       " 'myoepi_marker_intensity_HLA-DR',\n",
       " 'myoepi_marker_intensity_Ki67',\n",
       " 'myoepi_marker_intensity_MGP',\n",
       " 'myoepi_marker_intensity_P16',\n",
       " 'myoepi_marker_intensity_P21',\n",
       " 'myoepi_marker_intensity_PR',\n",
       " 'myoepi_marker_intensity_Pan-Cytokeratin',\n",
       " 'myoepi_marker_intensity_Podoplanin',\n",
       " 'myoepi_marker_intensity_SMA',\n",
       " 'myoepi_marker_intensity_Vimentin',\n",
       " 'myoepi_marker_intensity_cKit',\n",
       " 'myoepi_marker_fraction_CD163',\n",
       " 'myoepi_marker_fraction_CD20',\n",
       " 'myoepi_marker_fraction_CD3e',\n",
       " 'myoepi_marker_fraction_CD8',\n",
       " 'myoepi_marker_fraction_CK14',\n",
       " 'myoepi_marker_fraction_CK17',\n",
       " 'myoepi_marker_fraction_CK19',\n",
       " 'myoepi_marker_fraction_ER',\n",
       " 'myoepi_marker_fraction_GATA3',\n",
       " 'myoepi_marker_fraction_HLA-DR',\n",
       " 'myoepi_marker_fraction_PR',\n",
       " 'myoepi_marker_fraction_Pan-Cytokeratin',\n",
       " 'myoepi_marker_fraction_Podoplanin',\n",
       " 'myoepi_marker_fraction_SMA',\n",
       " 'boundary_r1',\n",
       " 'boundary_c1',\n",
       " 'boundary_r2',\n",
       " 'boundary_c2',\n",
       " 'boundary_area',\n",
       " 'boundary_perimeter',\n",
       " 'boundary_row',\n",
       " 'boundary_col',\n",
       " 'boundary_compactness',\n",
       " 'boundary_cell_fraction_default_annotation_CD8 T cell',\n",
       " 'boundary_cell_fraction_default_annotation_Epithelial',\n",
       " 'boundary_cell_fraction_default_annotation_Immune',\n",
       " 'boundary_cell_fraction_default_annotation_Macrophage - M1',\n",
       " 'boundary_cell_fraction_default_annotation_Stroma',\n",
       " 'boundary_cell_fraction_default_annotation_Unlabeled',\n",
       " 'boundary_cell_fraction_cKit_annotation_Unlabeled',\n",
       " 'boundary_cell_fraction_GATA3_annotation_Unlabeled',\n",
       " 'boundary_cell_fraction_GATA3_annotation_epithelial - GATA3 positive',\n",
       " 'boundary_cell_fraction_CK14_annotation_Unlabeled',\n",
       " 'boundary_cell_fraction_CK14_annotation_epithelial - CK14 positive',\n",
       " 'boundary_cell_fraction_CK19_annotation_Unlabeled',\n",
       " 'boundary_cell_fraction_CK19_annotation_epithelial - CK19 positive',\n",
       " 'boundary_cell_fraction_PR_annotation_Unlabeled',\n",
       " 'boundary_cell_fraction_PR_annotation_epithelial - PR positive',\n",
       " 'boundary_cell_fraction_ER_annotation_Unlabeled',\n",
       " 'boundary_cell_fraction_ER_annotation_epithelial - ER positive',\n",
       " 'boundary_cell_fraction_Her2_annotation_Unlabeled',\n",
       " 'boundary_cell_fraction_CD8_annotation_CD8 positive',\n",
       " 'boundary_cell_fraction_CD8_annotation_Unlabeled',\n",
       " 'boundary_cell_fraction_BCA1_annotation_Unlabeled',\n",
       " 'boundary_cell_fraction_CTLA4_annotation_Unlabeled',\n",
       " 'boundary_cell_fraction_CD68_annotation_CD68 positive',\n",
       " 'boundary_cell_fraction_CD68_annotation_Unlabeled',\n",
       " 'boundary_cell_fraction_CD163_annotation_CD163 positive',\n",
       " 'boundary_cell_fraction_CD163_annotation_Unlabeled',\n",
       " 'boundary_cell_fraction_Granzyme-B_annotation_Unlabeled',\n",
       " 'boundary_cell_fraction_pan-immune_annotation_Unlabeled',\n",
       " 'boundary_cell_fraction_pan-immune_annotation_immune',\n",
       " 'boundary_marker_intensity_CD138',\n",
       " 'boundary_marker_intensity_CD163',\n",
       " 'boundary_marker_intensity_CD20',\n",
       " 'boundary_marker_intensity_CD36',\n",
       " 'boundary_marker_intensity_CD3e',\n",
       " 'boundary_marker_intensity_CD4',\n",
       " 'boundary_marker_intensity_CD68',\n",
       " 'boundary_marker_intensity_CD8',\n",
       " 'boundary_marker_intensity_CK14',\n",
       " 'boundary_marker_intensity_CK17',\n",
       " 'boundary_marker_intensity_CK19',\n",
       " 'boundary_marker_intensity_DAPI',\n",
       " 'boundary_marker_intensity_ER',\n",
       " 'boundary_marker_intensity_GATA3',\n",
       " 'boundary_marker_intensity_GLUT1',\n",
       " 'boundary_marker_intensity_HLA-DR',\n",
       " 'boundary_marker_intensity_Ki67',\n",
       " 'boundary_marker_intensity_MGP',\n",
       " 'boundary_marker_intensity_P16',\n",
       " 'boundary_marker_intensity_P21',\n",
       " 'boundary_marker_intensity_PR',\n",
       " 'boundary_marker_intensity_Pan-Cytokeratin',\n",
       " 'boundary_marker_intensity_Podoplanin',\n",
       " 'boundary_marker_intensity_SMA',\n",
       " 'boundary_marker_intensity_Vimentin',\n",
       " 'boundary_marker_intensity_cKit',\n",
       " 'boundary_marker_fraction_CD163',\n",
       " 'boundary_marker_fraction_CD20',\n",
       " 'boundary_marker_fraction_CD3e',\n",
       " 'boundary_marker_fraction_CD8',\n",
       " 'boundary_marker_fraction_CK14',\n",
       " 'boundary_marker_fraction_CK17',\n",
       " 'boundary_marker_fraction_CK19',\n",
       " 'boundary_marker_fraction_ER',\n",
       " 'boundary_marker_fraction_GATA3',\n",
       " 'boundary_marker_fraction_HLA-DR',\n",
       " 'boundary_marker_fraction_PR',\n",
       " 'boundary_marker_fraction_Pan-Cytokeratin',\n",
       " 'boundary_marker_fraction_Podoplanin',\n",
       " 'boundary_marker_fraction_SMA',\n",
       " 'expanded_r1',\n",
       " 'expanded_c1',\n",
       " 'expanded_r2',\n",
       " 'expanded_c2',\n",
       " 'expanded_area',\n",
       " 'expanded_perimeter',\n",
       " 'expanded_row',\n",
       " 'expanded_col',\n",
       " 'expanded_compactness',\n",
       " 'expanded_cell_fraction_default_annotation_CD8 T cell',\n",
       " 'expanded_cell_fraction_default_annotation_Epithelial',\n",
       " 'expanded_cell_fraction_default_annotation_Immune',\n",
       " 'expanded_cell_fraction_default_annotation_Macrophage - M1',\n",
       " 'expanded_cell_fraction_default_annotation_Stroma',\n",
       " 'expanded_cell_fraction_default_annotation_Unlabeled',\n",
       " 'expanded_cell_fraction_cKit_annotation_Unlabeled',\n",
       " 'expanded_cell_fraction_GATA3_annotation_Unlabeled',\n",
       " 'expanded_cell_fraction_GATA3_annotation_epithelial - GATA3 positive',\n",
       " 'expanded_cell_fraction_CK14_annotation_Unlabeled',\n",
       " 'expanded_cell_fraction_CK14_annotation_epithelial - CK14 positive',\n",
       " 'expanded_cell_fraction_CK19_annotation_Unlabeled',\n",
       " 'expanded_cell_fraction_CK19_annotation_epithelial - CK19 positive',\n",
       " 'expanded_cell_fraction_PR_annotation_Unlabeled',\n",
       " 'expanded_cell_fraction_PR_annotation_epithelial - PR positive',\n",
       " 'expanded_cell_fraction_ER_annotation_Unlabeled',\n",
       " 'expanded_cell_fraction_ER_annotation_epithelial - ER positive',\n",
       " 'expanded_cell_fraction_Her2_annotation_Unlabeled',\n",
       " 'expanded_cell_fraction_CD8_annotation_CD8 positive',\n",
       " 'expanded_cell_fraction_CD8_annotation_Unlabeled',\n",
       " 'expanded_cell_fraction_BCA1_annotation_Unlabeled',\n",
       " 'expanded_cell_fraction_CTLA4_annotation_Unlabeled',\n",
       " 'expanded_cell_fraction_CD68_annotation_CD68 positive',\n",
       " 'expanded_cell_fraction_CD68_annotation_Unlabeled',\n",
       " 'expanded_cell_fraction_CD163_annotation_CD163 positive',\n",
       " 'expanded_cell_fraction_CD163_annotation_Unlabeled',\n",
       " 'expanded_cell_fraction_Granzyme-B_annotation_Unlabeled',\n",
       " 'expanded_cell_fraction_pan-immune_annotation_Unlabeled',\n",
       " 'expanded_cell_fraction_pan-immune_annotation_immune',\n",
       " 'expanded_marker_intensity_CD138',\n",
       " 'expanded_marker_intensity_CD163',\n",
       " 'expanded_marker_intensity_CD20',\n",
       " 'expanded_marker_intensity_CD36',\n",
       " 'expanded_marker_intensity_CD3e',\n",
       " 'expanded_marker_intensity_CD4',\n",
       " 'expanded_marker_intensity_CD68',\n",
       " 'expanded_marker_intensity_CD8',\n",
       " 'expanded_marker_intensity_CK14',\n",
       " 'expanded_marker_intensity_CK17',\n",
       " 'expanded_marker_intensity_CK19',\n",
       " 'expanded_marker_intensity_DAPI',\n",
       " 'expanded_marker_intensity_ER',\n",
       " 'expanded_marker_intensity_GATA3',\n",
       " 'expanded_marker_intensity_GLUT1',\n",
       " 'expanded_marker_intensity_HLA-DR',\n",
       " 'expanded_marker_intensity_Ki67',\n",
       " 'expanded_marker_intensity_MGP',\n",
       " 'expanded_marker_intensity_P16',\n",
       " 'expanded_marker_intensity_P21',\n",
       " 'expanded_marker_intensity_PR',\n",
       " 'expanded_marker_intensity_Pan-Cytokeratin',\n",
       " 'expanded_marker_intensity_Podoplanin',\n",
       " 'expanded_marker_intensity_SMA',\n",
       " 'expanded_marker_intensity_Vimentin',\n",
       " 'expanded_marker_intensity_cKit',\n",
       " 'expanded_marker_fraction_CD163',\n",
       " 'expanded_marker_fraction_CD20',\n",
       " 'expanded_marker_fraction_CD3e',\n",
       " 'expanded_marker_fraction_CD8',\n",
       " 'expanded_marker_fraction_CK14',\n",
       " 'expanded_marker_fraction_CK17',\n",
       " 'expanded_marker_fraction_CK19',\n",
       " 'expanded_marker_fraction_ER',\n",
       " 'expanded_marker_fraction_GATA3',\n",
       " 'expanded_marker_fraction_HLA-DR',\n",
       " 'expanded_marker_fraction_PR',\n",
       " 'expanded_marker_fraction_Pan-Cytokeratin',\n",
       " 'expanded_marker_fraction_Podoplanin',\n",
       " 'expanded_marker_fraction_SMA']"
      ]
     },
     "execution_count": 43,
     "metadata": {},
     "output_type": "execute_result"
    }
   ],
   "source": [
    "list(df.columns)"
   ]
  },
  {
   "cell_type": "code",
   "execution_count": null,
   "id": "1a588214",
   "metadata": {},
   "outputs": [],
   "source": []
  },
  {
   "cell_type": "code",
   "execution_count": null,
   "id": "889e4486",
   "metadata": {},
   "outputs": [],
   "source": []
  },
  {
   "cell_type": "code",
   "execution_count": null,
   "id": "c3d5f517",
   "metadata": {},
   "outputs": [],
   "source": [
    "out = os.path.join(output_dir, 'pseudo_fullres')\n",
    "Path(out).mkdir(parents=True, exist_ok=True)"
   ]
  },
  {
   "cell_type": "code",
   "execution_count": null,
   "id": "cfc4fa8e",
   "metadata": {},
   "outputs": [],
   "source": [
    "cmap = {\n",
    "    'Pan-Cytokeratin': (1., 0., 0.),\n",
    "    'SMA': (0., 1., 0.),\n",
    "    'DAPI': (0., 0., 1.),\n",
    "    'Podoplanin': (1., 1., 1.),    \n",
    "}\n",
    "\n",
    "for sample, fp in sample_to_ome.items():\n",
    "    print(sample)\n",
    "    channel_to_img = utils.extract_ome_tiff(fp, channels=list(cmap.keys()), flexibility='loose')\n",
    "\n",
    "    pseudo = utils.make_pseudo(channel_to_img, cmap=cmap, contrast_pct=95.)\n",
    "    pseudo *= 255.\n",
    "    pseudo = pseudo.astype(np.uint8)\n",
    "    \n",
    "    tifffile.imsave(os.path.join(out, f'{sample}.tif'), pseudo)    "
   ]
  },
  {
   "cell_type": "code",
   "execution_count": null,
   "id": "0139fb1d",
   "metadata": {},
   "outputs": [],
   "source": []
  }
 ],
 "metadata": {
  "kernelspec": {
   "display_name": "Python 3 (ipykernel)",
   "language": "python",
   "name": "python3"
  },
  "language_info": {
   "codemirror_mode": {
    "name": "ipython",
    "version": 3
   },
   "file_extension": ".py",
   "mimetype": "text/x-python",
   "name": "python",
   "nbconvert_exporter": "python",
   "pygments_lexer": "ipython3",
   "version": "3.8.0"
  }
 },
 "nbformat": 4,
 "nbformat_minor": 5
}
