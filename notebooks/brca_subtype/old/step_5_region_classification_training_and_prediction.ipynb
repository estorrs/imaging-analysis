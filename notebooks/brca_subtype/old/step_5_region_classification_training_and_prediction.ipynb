{
 "cells": [
  {
   "cell_type": "code",
   "execution_count": null,
   "id": "d25bcb77",
   "metadata": {},
   "outputs": [],
   "source": [
    "import os\n",
    "import re\n",
    "from pathlib import Path\n",
    "\n",
    "import numpy as np\n",
    "import pandas as pd\n",
    "import matplotlib.pyplot as plt\n",
    "import torch\n",
    "import torch.nn as nn\n",
    "import pytorch_lightning as pl\n",
    "import wandb\n",
    "from timm import create_model\n",
    "from einops import rearrange, reduce\n",
    "from sklearn.metrics import accuracy_score, f1_score\n",
    "from pytorch_lightning.callbacks import ModelCheckpoint"
   ]
  },
  {
   "cell_type": "code",
   "execution_count": null,
   "id": "788ce69a",
   "metadata": {},
   "outputs": [],
   "source": [
    "from torch.utils.data import Dataset, DataLoader\n",
    "import torchvision.transforms.functional as TF\n",
    "from torchvision.transforms import ColorJitter, Normalize, Compose, RandomAffine"
   ]
  },
  {
   "cell_type": "code",
   "execution_count": null,
   "id": "268a04e0",
   "metadata": {},
   "outputs": [],
   "source": [
    "%load_ext autoreload"
   ]
  },
  {
   "cell_type": "code",
   "execution_count": null,
   "id": "9949b4db",
   "metadata": {},
   "outputs": [],
   "source": [
    "%autoreload 2"
   ]
  },
  {
   "cell_type": "code",
   "execution_count": null,
   "id": "ab71c37e",
   "metadata": {},
   "outputs": [],
   "source": [
    "from multiplex_imaging_pipeline.region_classification import RegionImgTransform, RegionDataset, RegionClassifier, ModelLightning\n"
   ]
  },
  {
   "cell_type": "code",
   "execution_count": null,
   "id": "dad38930",
   "metadata": {},
   "outputs": [],
   "source": [
    "torch.cuda.is_available()"
   ]
  },
  {
   "cell_type": "code",
   "execution_count": null,
   "id": "b4da4902",
   "metadata": {},
   "outputs": [],
   "source": [
    "train_ds = torch.load('/data/estorrs/multiplex_data/analysis/dcis_region_analysis/classifier_v4/datasets/train.pt')\n",
    "val_ds = torch.load('/data/estorrs/multiplex_data/analysis/dcis_region_analysis/classifier_v4/datasets/val.pt')\n",
    "pred_ds = torch.load('/data/estorrs/multiplex_data/analysis/dcis_region_analysis/classifier_v4/datasets/prediction.pt')"
   ]
  },
  {
   "cell_type": "code",
   "execution_count": null,
   "id": "282d5bc1",
   "metadata": {},
   "outputs": [],
   "source": [
    "batch_size = 32\n",
    "train_dl = DataLoader(train_ds, batch_size=batch_size, shuffle=True, num_workers=10)\n",
    "val_dl = DataLoader(val_ds, batch_size=batch_size, num_workers=10)\n",
    "pred_dl = DataLoader(pred_ds, batch_size=batch_size, num_workers=10)"
   ]
  },
  {
   "cell_type": "code",
   "execution_count": null,
   "id": "2b34c247",
   "metadata": {},
   "outputs": [],
   "source": [
    "d = train_ds[0]\n",
    "d.keys()"
   ]
  },
  {
   "cell_type": "code",
   "execution_count": null,
   "id": "9a76e1ad",
   "metadata": {},
   "outputs": [],
   "source": [
    "d['rgb'].dtype, d['mask'].dtype, d['y'].shape"
   ]
  },
  {
   "cell_type": "code",
   "execution_count": null,
   "id": "c5a4d153",
   "metadata": {},
   "outputs": [],
   "source": [
    "img = rearrange(d['rgb'], 'c h w -> h w c')\n",
    "img -= img.min()\n",
    "img /= img.max()\n",
    "plt.imshow(img)"
   ]
  },
  {
   "cell_type": "code",
   "execution_count": null,
   "id": "e5bad124",
   "metadata": {},
   "outputs": [],
   "source": [
    "plt.imshow(d['mask'][0])"
   ]
  },
  {
   "cell_type": "code",
   "execution_count": null,
   "id": "796e6149",
   "metadata": {},
   "outputs": [],
   "source": [
    "d['y']"
   ]
  },
  {
   "cell_type": "code",
   "execution_count": null,
   "id": "af33e242",
   "metadata": {},
   "outputs": [],
   "source": [
    "b = next(iter(train_dl))\n",
    "b.keys()"
   ]
  },
  {
   "cell_type": "code",
   "execution_count": null,
   "id": "83352524",
   "metadata": {},
   "outputs": [],
   "source": [
    "b['rgb'].dtype, b['mask'].dtype"
   ]
  },
  {
   "cell_type": "code",
   "execution_count": null,
   "id": "38f251a1",
   "metadata": {},
   "outputs": [],
   "source": []
  },
  {
   "cell_type": "code",
   "execution_count": null,
   "id": "4bb8bbac",
   "metadata": {},
   "outputs": [],
   "source": [
    "n_classes, n_channels = b['y'].shape[1], b['rgb'].shape[1]\n",
    "\n",
    "model = RegionClassifier(n_classes, n_channels=n_channels)\n",
    "out = model(b['rgb'], b['mask'])\n",
    "out.shape"
   ]
  },
  {
   "cell_type": "code",
   "execution_count": null,
   "id": "cbdcf50f",
   "metadata": {},
   "outputs": [],
   "source": [
    "model.calculate_loss(out, b['y'])"
   ]
  },
  {
   "cell_type": "code",
   "execution_count": null,
   "id": "e5c3238a",
   "metadata": {},
   "outputs": [],
   "source": []
  },
  {
   "cell_type": "code",
   "execution_count": null,
   "id": "eac346c4",
   "metadata": {},
   "outputs": [],
   "source": [
    "class LoggingCallback(pl.Callback):\n",
    "    def __init__(self, log_every=10, log_n_samples=8):\n",
    "        self.log_every = log_every\n",
    "        self.log_n_samples = log_n_samples\n",
    "    \n",
    "    def on_train_batch_end(self, trainer, pl_module, outputs, batch, batch_idx):\n",
    "        if trainer.current_epoch % self.log_every == 0 and batch_idx==0:\n",
    "            img = batch['rgb'][:self.log_n_samples].clone().detach().cpu()\n",
    "            img -= img.min()\n",
    "            img /= img.max()\n",
    "            logger.log_image(\n",
    "                key=f\"train/rgb\",\n",
    "                images=[i[0] if i.shape[0] not in [1, 3] else i for i in img],\n",
    "                caption=[train_ds.labels[i]\n",
    "                         for i in outputs['probs'][:self.log_n_samples].argmax(dim=-1).clone().detach().cpu().numpy()]\n",
    "            )\n",
    "    def on_validation_batch_end(self, trainer, pl_module, outputs, batch, batch_idx, dataloader_idx=0):\n",
    "        if trainer.current_epoch % self.log_every == 0 and batch_idx==0:\n",
    "            img = batch['rgb'][:self.log_n_samples].clone().detach().cpu()\n",
    "            img -= img.min()\n",
    "            img /= img.max()\n",
    "            logger.log_image(\n",
    "                key=f\"val/rgb\",\n",
    "                images=[i[0] if i.shape[0] not in [1, 3] else i for i in img],\n",
    "                caption=[train_ds.labels[i]\n",
    "                         for i in outputs['probs'][:self.log_n_samples].argmax(dim=-1).clone().detach().cpu().numpy()]\n",
    "            )\n"
   ]
  },
  {
   "cell_type": "code",
   "execution_count": null,
   "id": "d7e0ce03",
   "metadata": {},
   "outputs": [],
   "source": []
  },
  {
   "cell_type": "markdown",
   "id": "2b78478c",
   "metadata": {},
   "source": [
    "## training model"
   ]
  },
  {
   "cell_type": "code",
   "execution_count": null,
   "id": "11518473",
   "metadata": {},
   "outputs": [],
   "source": [
    "project = 'region_classifier'\n",
    "log_dir = '/data/estorrs/multiplex_data/analysis/dcis_region_analysis/classifier_v4/logs'\n",
    "Path(log_dir).mkdir(parents=True, exist_ok=True)"
   ]
  },
  {
   "cell_type": "code",
   "execution_count": null,
   "id": "ee31e18f",
   "metadata": {},
   "outputs": [],
   "source": [
    "from pytorch_lightning.loggers import WandbLogger\n",
    "logger = WandbLogger(project=project, save_dir=log_dir)"
   ]
  },
  {
   "cell_type": "code",
   "execution_count": null,
   "id": "eb5cb8e2",
   "metadata": {},
   "outputs": [],
   "source": [
    "# wandb.finish()"
   ]
  },
  {
   "cell_type": "code",
   "execution_count": null,
   "id": "058ff232",
   "metadata": {},
   "outputs": [],
   "source": [
    "config = {\n",
    "    'n_classes': train_ds.y.shape[1],\n",
    "    'n_features': 100,\n",
    "    'backbone': 'resnet34',\n",
    "    'n_channels': train_ds[0]['rgb'].shape[0],\n",
    "    'training': {\n",
    "        'train_samples': len(train_ds),\n",
    "        'val_samples': len(val_ds),\n",
    "        'log_n_samples': 16,\n",
    "        'max_epochs': 500,\n",
    "        'check_val_every_n_epoch': 1,\n",
    "        'log_every': 1,\n",
    "        'accelerator': 'gpu',\n",
    "        'devices': [1],\n",
    "        'lr': 2e-4,\n",
    "        'batch_size': batch_size,\n",
    "        'precision': 32\n",
    "    },\n",
    "}\n",
    "logger.experiment.config.update(config)"
   ]
  },
  {
   "cell_type": "code",
   "execution_count": null,
   "id": "7c830adf",
   "metadata": {},
   "outputs": [],
   "source": [
    "m = RegionClassifier(\n",
    "    config['n_classes'],\n",
    "    n_channels=config['n_channels'],\n",
    "    backbone=config['backbone']\n",
    ")\n",
    "model = ModelLightning(m, lr=config['training']['lr'])"
   ]
  },
  {
   "cell_type": "code",
   "execution_count": null,
   "id": "00ad4745",
   "metadata": {},
   "outputs": [],
   "source": [
    "# !mkdir /data/estorrs/multiplex_data/analysis/dcis_region_analysis/classifier_v3/ckpts"
   ]
  },
  {
   "cell_type": "code",
   "execution_count": null,
   "id": "9ad0aa2c",
   "metadata": {},
   "outputs": [],
   "source": [
    "trainer = pl.Trainer(\n",
    "    callbacks=[\n",
    "        LoggingCallback(\n",
    "            log_every=config['training']['log_every'],\n",
    "            log_n_samples=config['training']['log_n_samples']\n",
    "        ),\n",
    "        ModelCheckpoint(\n",
    "            dirpath=\"/data/estorrs/multiplex_data/analysis/dcis_region_analysis/classifier_v3/ckpts\",\n",
    "            save_top_k=5, monitor=\"val/loss\"\n",
    "        )\n",
    "    ],\n",
    "    devices=config['training']['devices'],\n",
    "    accelerator=config['training']['accelerator'],\n",
    "    check_val_every_n_epoch=config['training']['check_val_every_n_epoch'],\n",
    "    enable_checkpointing=True,\n",
    "    max_epochs=config['training']['max_epochs'],\n",
    "    precision=config['training']['precision'],\n",
    "    logger=logger\n",
    ")"
   ]
  },
  {
   "cell_type": "code",
   "execution_count": null,
   "id": "71e1246b",
   "metadata": {},
   "outputs": [],
   "source": [
    "trainer.fit(model=model, train_dataloaders=train_dl, val_dataloaders=val_dl)"
   ]
  },
  {
   "cell_type": "code",
   "execution_count": null,
   "id": "2eff0af2",
   "metadata": {},
   "outputs": [],
   "source": [
    "cb = [c for c in trainer.callbacks if 'ModelCheckpoint' in str(type(c))][0]\n",
    "cb.best_model_path"
   ]
  },
  {
   "cell_type": "code",
   "execution_count": null,
   "id": "c3c99139",
   "metadata": {},
   "outputs": [],
   "source": [
    "best = ModelLightning.load_from_checkpoint(cb.best_model_path)"
   ]
  },
  {
   "cell_type": "code",
   "execution_count": null,
   "id": "6644c8bb",
   "metadata": {},
   "outputs": [],
   "source": [
    "result = trainer.predict(best, dataloaders=pred_dl)"
   ]
  },
  {
   "cell_type": "code",
   "execution_count": null,
   "id": "ce2284e9",
   "metadata": {},
   "outputs": [],
   "source": [
    "probs = result[0]\n",
    "for x in result[1:]:\n",
    "    probs = torch.concat((probs, x), dim=0)\n",
    "probs.shape"
   ]
  },
  {
   "cell_type": "code",
   "execution_count": null,
   "id": "35369b4d",
   "metadata": {},
   "outputs": [],
   "source": [
    "df = pd.DataFrame(data=probs.detach().cpu().numpy(), columns=train_ds.labels, index=pred_ds.keys)\n",
    "df.index.name = 'region_id'\n",
    "df"
   ]
  },
  {
   "cell_type": "code",
   "execution_count": null,
   "id": "8138dabd",
   "metadata": {},
   "outputs": [],
   "source": [
    "df.to_csv('/data/estorrs/multiplex_data/analysis/dcis_region_analysis/classifier_v4/results/probs.txt', sep='\\t')"
   ]
  },
  {
   "cell_type": "code",
   "execution_count": null,
   "id": "8a8fee12",
   "metadata": {},
   "outputs": [],
   "source": []
  },
  {
   "cell_type": "code",
   "execution_count": null,
   "id": "4a99be00",
   "metadata": {},
   "outputs": [],
   "source": []
  },
  {
   "cell_type": "code",
   "execution_count": null,
   "id": "936da76a",
   "metadata": {},
   "outputs": [],
   "source": []
  },
  {
   "cell_type": "code",
   "execution_count": null,
   "id": "93acfe2b",
   "metadata": {},
   "outputs": [],
   "source": []
  }
 ],
 "metadata": {
  "kernelspec": {
   "display_name": "Python 3 (ipykernel)",
   "language": "python",
   "name": "python3"
  },
  "language_info": {
   "codemirror_mode": {
    "name": "ipython",
    "version": 3
   },
   "file_extension": ".py",
   "mimetype": "text/x-python",
   "name": "python",
   "nbconvert_exporter": "python",
   "pygments_lexer": "ipython3",
   "version": "3.8.0"
  }
 },
 "nbformat": 4,
 "nbformat_minor": 5
}
