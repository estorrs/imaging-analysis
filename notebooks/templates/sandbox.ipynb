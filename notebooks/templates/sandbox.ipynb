{
 "cells": [
  {
   "cell_type": "code",
   "execution_count": 1,
   "id": "7604dde5",
   "metadata": {},
   "outputs": [],
   "source": [
    "import logging\n",
    "import re\n",
    "import os\n",
    "\n",
    "import numpy as np\n",
    "import tifffile\n",
    "import torchvision.transforms.functional as TF\n",
    "import torch\n",
    "from ome_types import from_tiff, from_xml, to_xml, model\n",
    "from ome_types.model.simple_types import UnitsLength\n",
    "from einops import rearrange\n",
    "from skimage.transform import rescale\n",
    "\n",
    "from multiplex_imaging_pipeline.utils import listfiles"
   ]
  },
  {
   "cell_type": "code",
   "execution_count": 2,
   "id": "4a1c5a03",
   "metadata": {},
   "outputs": [],
   "source": [
    "%load_ext autoreload"
   ]
  },
  {
   "cell_type": "code",
   "execution_count": 3,
   "id": "b136fb43",
   "metadata": {},
   "outputs": [],
   "source": [
    "%autoreload 2"
   ]
  },
  {
   "cell_type": "code",
   "execution_count": 4,
   "id": "57ae37be",
   "metadata": {},
   "outputs": [],
   "source": [
    "import multiplex_imaging_pipeline.ome as ome"
   ]
  },
  {
   "cell_type": "code",
   "execution_count": 5,
   "id": "df0bfef8",
   "metadata": {},
   "outputs": [],
   "source": [
    "qptiff_fp = '/diskmnt/primary/CODEX/HTAN/20230304_Liver_mCRC_SenNet_HT342C1_HT347C1/HT342C1_Th1K4A1_HT347C1_Th1K2A1_Scan1.qptiff'\n",
    "ome.generate_ome_from_qptiff(\n",
    "    qptiff_fp,\n",
    "    '/diskmnt/Projects/Users/estorrs/sandbox/test_small.ome.tiff',\n",
    "    bbox=(5000,6000,5000,6000),\n",
    ")\n"
   ]
  },
  {
   "cell_type": "code",
   "execution_count": 8,
   "id": "d4ded870",
   "metadata": {},
   "outputs": [],
   "source": [
    "fp = '/diskmnt/Projects/Users/estorrs/sandbox/test_small.ome.tiff'\n",
    "tif = tifffile.TiffFile(fp)"
   ]
  },
  {
   "cell_type": "code",
   "execution_count": 11,
   "id": "e4638ca0",
   "metadata": {},
   "outputs": [
    {
     "data": {
      "text/plain": [
       "OME(images=[<1 Images>])"
      ]
     },
     "execution_count": 11,
     "metadata": {},
     "output_type": "execute_result"
    }
   ],
   "source": [
    "meta = from_tiff(fp)\n",
    "meta"
   ]
  },
  {
   "cell_type": "code",
   "execution_count": 12,
   "id": "301c0e00",
   "metadata": {},
   "outputs": [
    {
     "data": {
      "text/plain": [
       "[Image(\n",
       "    id='Image:0',\n",
       "    pixels=Pixels(\n",
       "       id='Pixels:1',\n",
       "       dimension_order='XYCZT',\n",
       "       size_c=38,\n",
       "       size_t=1,\n",
       "       size_x=1000,\n",
       "       size_y=1000,\n",
       "       size_z=1,\n",
       "       type='uint8',\n",
       "       big_endian=False,\n",
       "       channels=[<38 Channels>],\n",
       "       physical_size_x=0.5100762527233116,\n",
       "       physical_size_y=0.5100762527233116,\n",
       "       planes=[<38 Planes>],\n",
       "       tiff_data_blocks=[<1 Tiff_Data_Blocks>],\n",
       "    ),\n",
       " )]"
      ]
     },
     "execution_count": 12,
     "metadata": {},
     "output_type": "execute_result"
    }
   ],
   "source": [
    "meta.images"
   ]
  },
  {
   "cell_type": "code",
   "execution_count": 16,
   "id": "bbf14b66",
   "metadata": {},
   "outputs": [
    {
     "data": {
      "text/plain": [
       "tifffile.tifffile.TIFF.BIG_LE.<locals>.BigTiffLe"
      ]
     },
     "execution_count": 16,
     "metadata": {},
     "output_type": "execute_result"
    }
   ],
   "source": [
    "temp_fp = '/diskmnt/Projects/Users/estorrs/sandbox/test2.ome.tiff'\n",
    "tif.tiff."
   ]
  },
  {
   "cell_type": "code",
   "execution_count": 6,
   "id": "4db28433",
   "metadata": {},
   "outputs": [
    {
     "ename": "AttributeError",
     "evalue": "module 'multiplex_imaging_pipeline' has no attribute 'ome'",
     "output_type": "error",
     "traceback": [
      "\u001b[0;31m---------------------------------------------------------------------------\u001b[0m",
      "\u001b[0;31mAttributeError\u001b[0m                            Traceback (most recent call last)",
      "\u001b[0;32m/diskmnt/Projects/Users/estorrs/sandbox/tmp/ipykernel_96828/210074799.py\u001b[0m in \u001b[0;36m<module>\u001b[0;34m\u001b[0m\n\u001b[0;32m----> 1\u001b[0;31m \u001b[0mmip\u001b[0m\u001b[0;34m.\u001b[0m\u001b[0mome\u001b[0m\u001b[0;34m\u001b[0m\u001b[0;34m\u001b[0m\u001b[0m\n\u001b[0m",
      "\u001b[0;31mAttributeError\u001b[0m: module 'multiplex_imaging_pipeline' has no attribute 'ome'"
     ]
    }
   ],
   "source": [
    "xml_str = to_xml(o)\n",
    "out_tif.overwrite_description(xml_str.encode())"
   ]
  },
  {
   "cell_type": "code",
   "execution_count": null,
   "id": "fb9dbad6",
   "metadata": {},
   "outputs": [],
   "source": []
  }
 ],
 "metadata": {
  "kernelspec": {
   "display_name": "Python 3 (ipykernel)",
   "language": "python",
   "name": "python3"
  },
  "language_info": {
   "codemirror_mode": {
    "name": "ipython",
    "version": 3
   },
   "file_extension": ".py",
   "mimetype": "text/x-python",
   "name": "python",
   "nbconvert_exporter": "python",
   "pygments_lexer": "ipython3",
   "version": "3.10.13"
  }
 },
 "nbformat": 4,
 "nbformat_minor": 5
}
