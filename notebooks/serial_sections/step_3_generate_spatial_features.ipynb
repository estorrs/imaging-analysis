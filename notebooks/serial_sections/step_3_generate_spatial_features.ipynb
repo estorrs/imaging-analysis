{
 "cells": [
  {
   "cell_type": "code",
   "execution_count": 1,
   "id": "8f1e490f",
   "metadata": {},
   "outputs": [],
   "source": [
    "import logging\n",
    "import json\n",
    "import os\n",
    "import re\n",
    "from pathlib import Path\n",
    "from collections import Counter\n",
    "\n",
    "import anndata\n",
    "import pandas as pd\n",
    "import numpy as np\n",
    "import tifffile\n",
    "from einops import rearrange\n",
    "from skimage.measure import regionprops"
   ]
  },
  {
   "cell_type": "code",
   "execution_count": 2,
   "id": "069689f8",
   "metadata": {},
   "outputs": [],
   "source": [
    "%load_ext autoreload"
   ]
  },
  {
   "cell_type": "code",
   "execution_count": 3,
   "id": "599a72a9",
   "metadata": {},
   "outputs": [],
   "source": [
    "%autoreload 2"
   ]
  },
  {
   "cell_type": "code",
   "execution_count": 4,
   "id": "447d9928",
   "metadata": {},
   "outputs": [
    {
     "name": "stderr",
     "output_type": "stream",
     "text": [
      "2024-01-30 16:05:26.284866: W tensorflow/stream_executor/platform/default/dso_loader.cc:64] Could not load dynamic library 'libcudart.so.11.0'; dlerror: libcudart.so.11.0: cannot open shared object file: No such file or directory; LD_LIBRARY_PATH: /diskmnt/Projects/Users/estorrs/miniconda3/envs/imaging_analysis_v2/lib/python3.10/site-packages/cv2/../../lib64:/usr/local/lib:/usr/lib64:/usr/local/lib:/usr/lib64:\n",
      "2024-01-30 16:05:26.284905: I tensorflow/stream_executor/cuda/cudart_stub.cc:29] Ignore above cudart dlerror if you do not have a GPU set up on your machine.\n"
     ]
    }
   ],
   "source": [
    "import multiplex_imaging_pipeline.utils as utils\n",
    "import multiplex_imaging_pipeline.ome as ome\n",
    "import multiplex_imaging_pipeline.segmentation as seg\n",
    "import multiplex_imaging_pipeline.multiplex_imaging_pipeline as mip\n",
    "from multiplex_imaging_pipeline.spatial_features import DEFAULT_GATING_STRATEGY"
   ]
  },
  {
   "cell_type": "code",
   "execution_count": 11,
   "id": "adaa84c7",
   "metadata": {},
   "outputs": [],
   "source": [
    "case = 'HT413C1-Th1k4A1'\n",
    "runs = [\n",
    "    '2024-01-11_HT413C1_Th1k4A1',\n",
    "    '2024-01-10_HT413C1_Th1k4A1'\n",
    "]\n",
    "output_dir = f'/diskmnt/Projects/Users/estorrs/imaging-analysis/results/serial_sections/{case}'\n",
    "spatial_dir = os.path.join(output_dir, 'spatial_features')\n",
    "Path(spatial_dir).mkdir(parents=True, exist_ok=True)"
   ]
  },
  {
   "cell_type": "code",
   "execution_count": 27,
   "id": "3b0204d9",
   "metadata": {},
   "outputs": [
    {
     "data": {
      "text/plain": [
       "[{'name': 'Epithelial',\n",
       "  'strategy': [{'channel': 'Pan-Cytokeratin',\n",
       "    'value': 0.05,\n",
       "    'direction': 'pos'}]},\n",
       " {'name': 'Epithelial',\n",
       "  'strategy': [{'channel': 'E-cadherin', 'value': 0.05, 'direction': 'pos'}]},\n",
       " {'name': 'Treg',\n",
       "  'strategy': [{'channel': 'CD3e', 'value': 0.05, 'direction': 'pos'},\n",
       "   {'channel': 'CD4', 'value': 0.05, 'direction': 'pos'},\n",
       "   {'channel': 'FOXP3', 'value': 0.05, 'direction': 'pos'}]},\n",
       " {'name': 'CD4 T cell',\n",
       "  'strategy': [{'channel': 'CD3e', 'value': 0.05, 'direction': 'pos'},\n",
       "   {'channel': 'CD4', 'value': 0.05, 'direction': 'pos'}]},\n",
       " {'name': 'CD8 T cell',\n",
       "  'strategy': [{'channel': 'CD3e', 'value': 0.05, 'direction': 'pos'},\n",
       "   {'channel': 'CD8', 'value': 0.05, 'direction': 'pos'}]},\n",
       " {'name': 'B cell',\n",
       "  'strategy': [{'channel': 'CD20', 'value': 0.05, 'direction': 'pos'},\n",
       "   {'channel': 'Pan-Cytokeratin', 'value': 0.05, 'direction': 'neg'},\n",
       "   {'channel': 'E-cadherin', 'value': 0.05, 'direction': 'neg'}]},\n",
       " {'name': 'Macrophage - M1',\n",
       "  'strategy': [{'channel': 'CD68', 'value': 0.05, 'direction': 'pos'}]},\n",
       " {'name': 'Macrophage - M2',\n",
       "  'strategy': [{'channel': 'CD68', 'value': 0.05, 'direction': 'pos'},\n",
       "   {'channel': 'CD163', 'value': 0.05, 'direction': 'pos'}]},\n",
       " {'name': 'Endothelial',\n",
       "  'strategy': [{'channel': 'CD31', 'value': 0.05, 'direction': 'pos'}]},\n",
       " {'name': 'Immune',\n",
       "  'strategy': [{'channel': 'CD45', 'value': 0.05, 'direction': 'pos'}]},\n",
       " {'name': 'Immune',\n",
       "  'strategy': [{'channel': 'CD3e', 'value': 0.05, 'direction': 'pos'}]},\n",
       " {'name': 'Immune',\n",
       "  'strategy': [{'channel': 'CD4', 'value': 0.05, 'direction': 'pos'}]},\n",
       " {'name': 'Immune',\n",
       "  'strategy': [{'channel': 'CD68', 'value': 0.05, 'direction': 'pos'}]},\n",
       " {'name': 'Immune',\n",
       "  'strategy': [{'channel': 'CD163', 'value': 0.05, 'direction': 'pos'}]},\n",
       " {'name': 'Stroma',\n",
       "  'strategy': [{'channel': 'SMA', 'value': 0.05, 'direction': 'pos'}]},\n",
       " {'name': 'Stroma',\n",
       "  'strategy': [{'channel': 'Podoplanin', 'value': 0.05, 'direction': 'pos'}]}]"
      ]
     },
     "execution_count": 27,
     "metadata": {},
     "output_type": "execute_result"
    }
   ],
   "source": [
    "gating_strategy = DEFAULT_GATING_STRATEGY.copy()\n",
    "gating_strategy"
   ]
  },
  {
   "cell_type": "code",
   "execution_count": 28,
   "id": "fc881152",
   "metadata": {},
   "outputs": [
    {
     "data": {
      "text/plain": [
       "[{'name': 'Epithelial',\n",
       "  'strategy': [{'channel': 'Pan-Cytokeratin',\n",
       "    'value': 0.05,\n",
       "    'direction': 'pos'}]},\n",
       " {'name': 'Epithelial',\n",
       "  'strategy': [{'channel': 'E-cadherin', 'value': 0.05, 'direction': 'pos'}]},\n",
       " {'name': 'Hepatocyte',\n",
       "  'strategy': [{'channel': 'Hep-Par-1', 'value': 0.05, 'direction': 'pos'}]},\n",
       " {'name': 'Treg',\n",
       "  'strategy': [{'channel': 'CD3e', 'value': 0.05, 'direction': 'pos'},\n",
       "   {'channel': 'CD4', 'value': 0.05, 'direction': 'pos'},\n",
       "   {'channel': 'FOXP3', 'value': 0.05, 'direction': 'pos'}]},\n",
       " {'name': 'CD4 T cell',\n",
       "  'strategy': [{'channel': 'CD3e', 'value': 0.05, 'direction': 'pos'},\n",
       "   {'channel': 'CD4', 'value': 0.05, 'direction': 'pos'}]},\n",
       " {'name': 'CD8 T cell',\n",
       "  'strategy': [{'channel': 'CD3e', 'value': 0.05, 'direction': 'pos'},\n",
       "   {'channel': 'CD8', 'value': 0.05, 'direction': 'pos'}]},\n",
       " {'name': 'Macrophage - M1',\n",
       "  'strategy': [{'channel': 'CD68', 'value': 0.05, 'direction': 'pos'}]},\n",
       " {'name': 'Macrophage - M2',\n",
       "  'strategy': [{'channel': 'CD68', 'value': 0.05, 'direction': 'pos'},\n",
       "   {'channel': 'CD163', 'value': 0.05, 'direction': 'pos'}]},\n",
       " {'name': 'Immune',\n",
       "  'strategy': [{'channel': 'HLA-DR', 'value': 0.05, 'direction': 'pos'}]},\n",
       " {'name': 'Endothelial',\n",
       "  'strategy': [{'channel': 'CD31', 'value': 0.05, 'direction': 'pos'}]},\n",
       " {'name': 'Immune',\n",
       "  'strategy': [{'channel': 'CD45', 'value': 0.05, 'direction': 'pos'}]},\n",
       " {'name': 'Immune',\n",
       "  'strategy': [{'channel': 'CD3e', 'value': 0.05, 'direction': 'pos'}]},\n",
       " {'name': 'Immune',\n",
       "  'strategy': [{'channel': 'CD4', 'value': 0.05, 'direction': 'pos'}]},\n",
       " {'name': 'Immune',\n",
       "  'strategy': [{'channel': 'CD68', 'value': 0.05, 'direction': 'pos'}]},\n",
       " {'name': 'Immune',\n",
       "  'strategy': [{'channel': 'CD163', 'value': 0.05, 'direction': 'pos'}]},\n",
       " {'name': 'Stroma',\n",
       "  'strategy': [{'channel': 'SMA', 'value': 0.05, 'direction': 'pos'}]},\n",
       " {'name': 'Stroma',\n",
       "  'strategy': [{'channel': 'Podoplanin', 'value': 0.05, 'direction': 'pos'}]}]"
      ]
     },
     "execution_count": 28,
     "metadata": {},
     "output_type": "execute_result"
    }
   ],
   "source": [
    "gating_strategy.insert(2,\n",
    "    {\n",
    "        'name': 'Hepatocyte',\n",
    "        'strategy': [{'channel': 'Hep-Par-1', 'value': .05, 'direction': 'pos'}]\n",
    "    }\n",
    ")\n",
    "gating_strategy.insert(9,\n",
    "    {\n",
    "        'name': 'Immune',\n",
    "        'strategy': [{'channel': 'HLA-DR', 'value': .05, 'direction': 'pos'}]\n",
    "    }\n",
    ")\n",
    "gating_strategy.pop(6)\n",
    "gating_strategy"
   ]
  },
  {
   "cell_type": "code",
   "execution_count": 21,
   "id": "3e5c9a1a",
   "metadata": {},
   "outputs": [
    {
     "data": {
      "text/html": [
       "<div>\n",
       "<style scoped>\n",
       "    .dataframe tbody tr th:only-of-type {\n",
       "        vertical-align: middle;\n",
       "    }\n",
       "\n",
       "    .dataframe tbody tr th {\n",
       "        vertical-align: top;\n",
       "    }\n",
       "\n",
       "    .dataframe thead th {\n",
       "        text-align: right;\n",
       "    }\n",
       "</style>\n",
       "<table border=\"1\" class=\"dataframe\">\n",
       "  <thead>\n",
       "    <tr style=\"text-align: right;\">\n",
       "      <th></th>\n",
       "      <th>run_name</th>\n",
       "      <th>omero_run_name</th>\n",
       "      <th>date</th>\n",
       "      <th>case</th>\n",
       "      <th>specimen</th>\n",
       "      <th>bbox</th>\n",
       "      <th>filepath</th>\n",
       "    </tr>\n",
       "  </thead>\n",
       "  <tbody>\n",
       "    <tr>\n",
       "      <th>6</th>\n",
       "      <td>20240111_Human_mCRC_serial_sectrion_HT413C1_Th...</td>\n",
       "      <td>2024-01-11_HT413C1_Th1k4A1</td>\n",
       "      <td>20240111</td>\n",
       "      <td>HT413C1_Th1k4A1</td>\n",
       "      <td>HT413C1_Th1k4A1_U10</td>\n",
       "      <td>0,7000,0,8000</td>\n",
       "      <td>/diskmnt/primary/CODEX/HTAN/20240111_Human_mCR...</td>\n",
       "    </tr>\n",
       "    <tr>\n",
       "      <th>7</th>\n",
       "      <td>20240111_Human_mCRC_serial_sectrion_HT413C1_Th...</td>\n",
       "      <td>2024-01-11_HT413C1_Th1k4A1</td>\n",
       "      <td>20240111</td>\n",
       "      <td>HT413C1_Th1k4A1</td>\n",
       "      <td>HT413C1_Th1k4A1_U26</td>\n",
       "      <td>11000,20000,2000,9000</td>\n",
       "      <td>/diskmnt/primary/CODEX/HTAN/20240111_Human_mCR...</td>\n",
       "    </tr>\n",
       "    <tr>\n",
       "      <th>8</th>\n",
       "      <td>20240111_Human_mCRC_serial_sectrion_HT413C1_Th...</td>\n",
       "      <td>2024-01-11_HT413C1_Th1k4A1</td>\n",
       "      <td>20240111</td>\n",
       "      <td>HT413C1_Th1k4A1</td>\n",
       "      <td>HT413C1_Th1k4A1_U37</td>\n",
       "      <td>24000,33000,1000,9000</td>\n",
       "      <td>/diskmnt/primary/CODEX/HTAN/20240111_Human_mCR...</td>\n",
       "    </tr>\n",
       "    <tr>\n",
       "      <th>9</th>\n",
       "      <td>20240111_Human_mCRC_serial_sectrion_HT413C1_Th...</td>\n",
       "      <td>2024-01-11_HT413C1_Th1k4A1</td>\n",
       "      <td>20240111</td>\n",
       "      <td>HT413C1_Th1k4A1</td>\n",
       "      <td>HT413C1_Th1k4A1_U42</td>\n",
       "      <td>36000,45000,1000,9000</td>\n",
       "      <td>/diskmnt/primary/CODEX/HTAN/20240111_Human_mCR...</td>\n",
       "    </tr>\n",
       "    <tr>\n",
       "      <th>10</th>\n",
       "      <td>20240110_Human_mCRC_Serial_section_HT413C1_Th1...</td>\n",
       "      <td>2024-01-10_HT413C1_Th1k4A1</td>\n",
       "      <td>20240110</td>\n",
       "      <td>HT413C1_Th1k4A1</td>\n",
       "      <td>HT413C1_Th1k4A1_U3</td>\n",
       "      <td>0,9000,1000,8000</td>\n",
       "      <td>/diskmnt/primary/CODEX/HTAN/20240110_Human_mCR...</td>\n",
       "    </tr>\n",
       "    <tr>\n",
       "      <th>11</th>\n",
       "      <td>20240110_Human_mCRC_Serial_section_HT413C1_Th1...</td>\n",
       "      <td>2024-01-10_HT413C1_Th1k4A1</td>\n",
       "      <td>20240110</td>\n",
       "      <td>HT413C1_Th1k4A1</td>\n",
       "      <td>HT413C1_Th1k4A1_U20</td>\n",
       "      <td>12000,22000,0,8000</td>\n",
       "      <td>/diskmnt/primary/CODEX/HTAN/20240110_Human_mCR...</td>\n",
       "    </tr>\n",
       "    <tr>\n",
       "      <th>12</th>\n",
       "      <td>20240110_Human_mCRC_Serial_section_HT413C1_Th1...</td>\n",
       "      <td>2024-01-10_HT413C1_Th1k4A1</td>\n",
       "      <td>20240110</td>\n",
       "      <td>HT413C1_Th1k4A1</td>\n",
       "      <td>HT413C1_Th1k4A1_U32</td>\n",
       "      <td>24000,34000,0,8000</td>\n",
       "      <td>/diskmnt/primary/CODEX/HTAN/20240110_Human_mCR...</td>\n",
       "    </tr>\n",
       "    <tr>\n",
       "      <th>13</th>\n",
       "      <td>20240110_Human_mCRC_Serial_section_HT413C1_Th1...</td>\n",
       "      <td>2024-01-10_HT413C1_Th1k4A1</td>\n",
       "      <td>20240110</td>\n",
       "      <td>HT413C1_Th1k4A1</td>\n",
       "      <td>HT413C1_Th1k4A1_U41</td>\n",
       "      <td>37000,46000,1000,9000</td>\n",
       "      <td>/diskmnt/primary/CODEX/HTAN/20240110_Human_mCR...</td>\n",
       "    </tr>\n",
       "  </tbody>\n",
       "</table>\n",
       "</div>"
      ],
      "text/plain": [
       "                                             run_name  \\\n",
       "6   20240111_Human_mCRC_serial_sectrion_HT413C1_Th...   \n",
       "7   20240111_Human_mCRC_serial_sectrion_HT413C1_Th...   \n",
       "8   20240111_Human_mCRC_serial_sectrion_HT413C1_Th...   \n",
       "9   20240111_Human_mCRC_serial_sectrion_HT413C1_Th...   \n",
       "10  20240110_Human_mCRC_Serial_section_HT413C1_Th1...   \n",
       "11  20240110_Human_mCRC_Serial_section_HT413C1_Th1...   \n",
       "12  20240110_Human_mCRC_Serial_section_HT413C1_Th1...   \n",
       "13  20240110_Human_mCRC_Serial_section_HT413C1_Th1...   \n",
       "\n",
       "                omero_run_name      date             case  \\\n",
       "6   2024-01-11_HT413C1_Th1k4A1  20240111  HT413C1_Th1k4A1   \n",
       "7   2024-01-11_HT413C1_Th1k4A1  20240111  HT413C1_Th1k4A1   \n",
       "8   2024-01-11_HT413C1_Th1k4A1  20240111  HT413C1_Th1k4A1   \n",
       "9   2024-01-11_HT413C1_Th1k4A1  20240111  HT413C1_Th1k4A1   \n",
       "10  2024-01-10_HT413C1_Th1k4A1  20240110  HT413C1_Th1k4A1   \n",
       "11  2024-01-10_HT413C1_Th1k4A1  20240110  HT413C1_Th1k4A1   \n",
       "12  2024-01-10_HT413C1_Th1k4A1  20240110  HT413C1_Th1k4A1   \n",
       "13  2024-01-10_HT413C1_Th1k4A1  20240110  HT413C1_Th1k4A1   \n",
       "\n",
       "               specimen                   bbox  \\\n",
       "6   HT413C1_Th1k4A1_U10          0,7000,0,8000   \n",
       "7   HT413C1_Th1k4A1_U26  11000,20000,2000,9000   \n",
       "8   HT413C1_Th1k4A1_U37  24000,33000,1000,9000   \n",
       "9   HT413C1_Th1k4A1_U42  36000,45000,1000,9000   \n",
       "10   HT413C1_Th1k4A1_U3       0,9000,1000,8000   \n",
       "11  HT413C1_Th1k4A1_U20     12000,22000,0,8000   \n",
       "12  HT413C1_Th1k4A1_U32     24000,34000,0,8000   \n",
       "13  HT413C1_Th1k4A1_U41  37000,46000,1000,9000   \n",
       "\n",
       "                                             filepath  \n",
       "6   /diskmnt/primary/CODEX/HTAN/20240111_Human_mCR...  \n",
       "7   /diskmnt/primary/CODEX/HTAN/20240111_Human_mCR...  \n",
       "8   /diskmnt/primary/CODEX/HTAN/20240111_Human_mCR...  \n",
       "9   /diskmnt/primary/CODEX/HTAN/20240111_Human_mCR...  \n",
       "10  /diskmnt/primary/CODEX/HTAN/20240110_Human_mCR...  \n",
       "11  /diskmnt/primary/CODEX/HTAN/20240110_Human_mCR...  \n",
       "12  /diskmnt/primary/CODEX/HTAN/20240110_Human_mCR...  \n",
       "13  /diskmnt/primary/CODEX/HTAN/20240110_Human_mCR...  "
      ]
     },
     "execution_count": 21,
     "metadata": {},
     "output_type": "execute_result"
    }
   ],
   "source": [
    "metadata = pd.read_csv('/diskmnt/Projects/Users/estorrs/sandbox/specimen_tracking.tsv', sep='\\t')\n",
    "metadata = metadata[[True if x in runs else False for x in metadata['omero_run_name']]]\n",
    "metadata"
   ]
  },
  {
   "cell_type": "code",
   "execution_count": 22,
   "id": "b44ccb0a",
   "metadata": {},
   "outputs": [
    {
     "name": "stdout",
     "output_type": "stream",
     "text": [
      "/diskmnt/primary/CODEX/HTAN/20240111_Human_mCRC_serial_sectrion_HT413C1_Th1k4A1_Slide_8/HT413C1_Th1k4A1_U10__20240111.ome.tiff ['DAPI', 'Podoplanin', 'Pan-Cytokeratin', 'HLA-DR', 'CD8', 'SMA', 'CD45', 'Ki67', 'Hep-Par-1', 'GLUT1', 'CK14', 'CD31', 'CCL2', 'E-cadherin', 'MUC2', 'CD11b', 'SOX9', 'CD20', 'FOXP3', 'P21', 'CK7', 'CD68', 'P16', 'CD4', 'PAI1', 'CD3e', 'CK8/18']\n",
      "/diskmnt/primary/CODEX/HTAN/20240111_Human_mCRC_serial_sectrion_HT413C1_Th1k4A1_Slide_8/HT413C1_Th1k4A1_U26__20240111.ome.tiff ['DAPI', 'Podoplanin', 'Pan-Cytokeratin', 'HLA-DR', 'CD8', 'SMA', 'CD45', 'Ki67', 'Hep-Par-1', 'GLUT1', 'CK14', 'CD31', 'CCL2', 'E-cadherin', 'MUC2', 'CD11b', 'SOX9', 'CD20', 'FOXP3', 'P21', 'CK7', 'CD68', 'P16', 'CD4', 'PAI1', 'CD3e', 'CK8/18']\n",
      "/diskmnt/primary/CODEX/HTAN/20240111_Human_mCRC_serial_sectrion_HT413C1_Th1k4A1_Slide_8/HT413C1_Th1k4A1_U37__20240111.ome.tiff ['DAPI', 'Podoplanin', 'Pan-Cytokeratin', 'HLA-DR', 'CD8', 'SMA', 'CD45', 'Ki67', 'Hep-Par-1', 'GLUT1', 'CK14', 'CD31', 'CCL2', 'E-cadherin', 'MUC2', 'CD11b', 'SOX9', 'CD20', 'FOXP3', 'P21', 'CK7', 'CD68', 'P16', 'CD4', 'PAI1', 'CD3e', 'CK8/18']\n",
      "/diskmnt/primary/CODEX/HTAN/20240111_Human_mCRC_serial_sectrion_HT413C1_Th1k4A1_Slide_8/HT413C1_Th1k4A1_U42__20240111.ome.tiff ['DAPI', 'Podoplanin', 'Pan-Cytokeratin', 'HLA-DR', 'CD8', 'SMA', 'CD45', 'Ki67', 'Hep-Par-1', 'GLUT1', 'CK14', 'CD31', 'CCL2', 'E-cadherin', 'MUC2', 'CD11b', 'SOX9', 'CD20', 'FOXP3', 'P21', 'CK7', 'CD68', 'P16', 'CD4', 'PAI1', 'CD3e', 'CK8/18']\n",
      "/diskmnt/primary/CODEX/HTAN/20240110_Human_mCRC_Serial_section_HT413C1_Th1k4A1_Slide3/HT413C1_Th1k4A1_U3__20240110.ome.tiff ['DAPI', 'Podoplanin', 'Pan-Cytokeratin', 'HLA-DR', 'CD8', 'SMA', 'CD45', 'Ki67', 'Hep-Par-1', 'GLUT1', 'CK14', 'CD31', 'CCL2', 'E-cadherin', 'MUC2', 'CD11b', 'SOX9', 'CD20', 'FOXP3', 'P21', 'CK7', 'CD68', 'P16', 'CD4', 'PAI1', 'CD3e', 'CK8/18']\n",
      "/diskmnt/primary/CODEX/HTAN/20240110_Human_mCRC_Serial_section_HT413C1_Th1k4A1_Slide3/HT413C1_Th1k4A1_U20__20240110.ome.tiff ['DAPI', 'Podoplanin', 'Pan-Cytokeratin', 'HLA-DR', 'CD8', 'SMA', 'CD45', 'Ki67', 'Hep-Par-1', 'GLUT1', 'CK14', 'CD31', 'CCL2', 'E-cadherin', 'MUC2', 'CD11b', 'SOX9', 'CD20', 'FOXP3', 'P21', 'CK7', 'CD68', 'P16', 'CD4', 'PAI1', 'CD3e', 'CK8/18']\n",
      "/diskmnt/primary/CODEX/HTAN/20240110_Human_mCRC_Serial_section_HT413C1_Th1k4A1_Slide3/HT413C1_Th1k4A1_U32__20240110.ome.tiff ['DAPI', 'Podoplanin', 'Pan-Cytokeratin', 'HLA-DR', 'CD8', 'SMA', 'CD45', 'Ki67', 'Hep-Par-1', 'GLUT1', 'CK14', 'CD31', 'CCL2', 'E-cadherin', 'MUC2', 'CD11b', 'SOX9', 'CD20', 'FOXP3', 'P21', 'CK7', 'CD68', 'P16', 'CD4', 'PAI1', 'CD3e', 'CK8/18']\n",
      "/diskmnt/primary/CODEX/HTAN/20240110_Human_mCRC_Serial_section_HT413C1_Th1k4A1_Slide3/HT413C1_Th1k4A1_U41__20240110.ome.tiff ['DAPI', 'Podoplanin', 'Pan-Cytokeratin', 'HLA-DR', 'CD8', 'SMA', 'CD45', 'Ki67', 'Hep-Par-1', 'GLUT1', 'CK14', 'CD31', 'CCL2', 'E-cadherin', 'MUC2', 'CD11b', 'SOX9', 'CD20', 'FOXP3', 'P21', 'CK7', 'CD68', 'P16', 'CD4', 'PAI1', 'CD3e', 'CK8/18']\n"
     ]
    }
   ],
   "source": [
    "mapping = utils.R_CHANNEL_MAPPING\n",
    "for fp in metadata['filepath']:\n",
    "    channels = utils.get_ome_tiff_channels(fp)\n",
    "    for c in channels:\n",
    "        assert c in mapping, f'channel {c} is not in channel mapping, to ensure all channel names match consider adding {c} to channel mapping'\n",
    "        \n",
    "    print(fp, [mapping[c] for c in channels])"
   ]
  },
  {
   "cell_type": "code",
   "execution_count": 23,
   "id": "26fefa6f",
   "metadata": {},
   "outputs": [
    {
     "data": {
      "text/plain": [
       "set()"
      ]
     },
     "execution_count": 23,
     "metadata": {},
     "output_type": "execute_result"
    }
   ],
   "source": [
    "fps = sorted(utils.listfiles(output_dir, f'cell_segmentation.tif$'))\n",
    "specimen_to_ome = {specimen:fp for specimen, fp in zip(metadata['specimen'], metadata['filepath'])}\n",
    "specimen_to_seg = {fp.split('/')[-1].replace('_cell_segmentation.tif', ''):fp for fp in fps}\n",
    "set(specimen_to_ome.keys()) - set(specimen_to_seg.keys())"
   ]
  },
  {
   "cell_type": "code",
   "execution_count": 24,
   "id": "88488ed4",
   "metadata": {},
   "outputs": [
    {
     "data": {
      "text/plain": [
       "(dict_keys(['HT413C1_Th1k4A1_U20__20240110.ome.tiff', 'HT413C1_Th1k4A1_U32__20240110.ome.tiff', 'HT413C1_Th1k4A1_U3__20240110.ome.tiff', 'HT413C1_Th1k4A1_U41__20240110.ome.tiff', 'HT413C1_Th1k4A1_U10__20240111.ome.tiff', 'HT413C1_Th1k4A1_U26__20240111.ome.tiff', 'HT413C1_Th1k4A1_U37__20240111.ome.tiff', 'HT413C1_Th1k4A1_U42__20240111.ome.tiff']),\n",
       " [0.0,\n",
       "  0.0,\n",
       "  19.0,\n",
       "  99.0,\n",
       "  10.0,\n",
       "  19.0,\n",
       "  99.0,\n",
       "  0.0,\n",
       "  40.0,\n",
       "  0.0,\n",
       "  0.0,\n",
       "  10.0,\n",
       "  0.0,\n",
       "  20.0,\n",
       "  0.0,\n",
       "  10.0,\n",
       "  0.0,\n",
       "  0.0,\n",
       "  100.0,\n",
       "  0.0,\n",
       "  149.0,\n",
       "  60.0,\n",
       "  0.0,\n",
       "  29.0,\n",
       "  0.0,\n",
       "  19.0,\n",
       "  0.0])"
      ]
     },
     "execution_count": 24,
     "metadata": {},
     "output_type": "execute_result"
    }
   ],
   "source": [
    "channel_thresholds = json.load(open(os.path.join(output_dir, 'channel_thresholds.json')))\n",
    "channel_thresholds = {k.split(' | ')[-1]:v for k, v in channel_thresholds.items()} # fps should be unique\n",
    "channel_thresholds.keys(), next(iter(channel_thresholds.values()))"
   ]
  },
  {
   "cell_type": "code",
   "execution_count": null,
   "id": "3abbb8db",
   "metadata": {
    "scrolled": true
   },
   "outputs": [
    {
     "name": "stderr",
     "output_type": "stream",
     "text": [
      "2024-01-30 16:46:37,766 - extracting /diskmnt/primary/CODEX/HTAN/20240111_Human_mCRC_serial_sectrion_HT413C1_Th1k4A1_Slide_8/HT413C1_Th1k4A1_U10__20240111.ome.tiff\n"
     ]
    },
    {
     "name": "stdout",
     "output_type": "stream",
     "text": [
      "HT413C1_Th1k4A1_U10\n"
     ]
    },
    {
     "name": "stderr",
     "output_type": "stream",
     "text": [
      "2024-01-30 16:46:44,613 - extracting /diskmnt/Projects/Users/estorrs/imaging-analysis/results/serial_sections/HT413C1-Th1k4A1/segmentation/HT413C1_Th1k4A1_U10_cell_segmentation.tif\n",
      "2024-01-30 16:46:44,949 - thresholds detected: [('DAPI', 0.0), ('Podoplanin', 0.0), ('PanCytokeratin', 19.0), ('HLA-DR', 99.0), ('CD8', 10.0), ('SMA (D)', 19.0), ('CD45', 99.0), ('Ki67', 0.0), ('Hep-Par-1 (D)', 40.0), ('GLUT1 (D)', 0.0), ('CK14', 0.0), ('CD31', 10.0), ('CCL2', 0.0), ('E-cadherin', 20.0), ('MUC2', 0.0), ('CD11b', 10.0), ('SOX9', 0.0), ('CD20 (D)', 0.0), ('FoxP3', 100.0), ('P21 (D)', 0.0), ('CK7', 149.0), ('CD68 (D)', 60.0), ('P16 (Dnew)', 0.0), ('CD4 (D)', 29.0), ('PAI1 (D)', 0.0), ('CD3e (D)', 19.0), ('CK8/18', 0.0)]\n",
      "2024-01-30 16:46:48,801 - num cells: 58765\n",
      "2024-01-30 16:47:23,619 - cell typing key is: fraction\n",
      "2024-01-30 16:47:23,620 - gating cells with the following markers: ['CCL2', 'CD11b', 'CD20', 'CD31', 'CD3e', 'CD45', 'CD4', 'CD68', 'CD8', 'CK14', 'CK7', 'CK8/18', 'DAPI', 'E-cadherin', 'FOXP3', 'GLUT1', 'HLA-DR', 'Hep-Par-1', 'Ki67', 'MUC2', 'P16', 'P21', 'PAI1', 'Pan-Cytokeratin', 'Podoplanin', 'SMA', 'SOX9']\n",
      "2024-01-30 16:47:23,676 - cells gated: [('Epithelial', 43933), ('Stroma', 4619), ('Hepatocyte', 3201), ('CD4 T cell', 2731), ('Macrophage - M1', 1756), ('Endothelial', 1297), ('Immune', 540), ('CD8 T cell', 475), ('Treg', 211), ('Unlabeled', 2)]\n",
      "/diskmnt/Projects/Users/estorrs/miniconda3/envs/imaging_analysis_v2/lib/python3.10/site-packages/anndata/_core/anndata.py:183: ImplicitModificationWarning: Transforming to str index.\n",
      "  warnings.warn(\"Transforming to str index.\", ImplicitModificationWarning)\n",
      "... storing 'cell_type' as categorical\n",
      "2024-01-30 16:47:29,227 - extracting /diskmnt/primary/CODEX/HTAN/20240111_Human_mCRC_serial_sectrion_HT413C1_Th1k4A1_Slide_8/HT413C1_Th1k4A1_U26__20240111.ome.tiff\n"
     ]
    },
    {
     "name": "stdout",
     "output_type": "stream",
     "text": [
      "HT413C1_Th1k4A1_U26\n"
     ]
    },
    {
     "name": "stderr",
     "output_type": "stream",
     "text": [
      "2024-01-30 16:47:35,938 - extracting /diskmnt/Projects/Users/estorrs/imaging-analysis/results/serial_sections/HT413C1-Th1k4A1/segmentation/HT413C1_Th1k4A1_U26_cell_segmentation.tif\n",
      "2024-01-30 16:47:36,341 - thresholds detected: [('DAPI', 0.0), ('Podoplanin', 0.0), ('PanCytokeratin', 19.0), ('HLA-DR', 99.0), ('CD8', 10.0), ('SMA (D)', 19.0), ('CD45', 99.0), ('Ki67', 0.0), ('Hep-Par-1 (D)', 40.0), ('GLUT1 (D)', 0.0), ('CK14', 0.0), ('CD31', 10.0), ('CCL2', 0.0), ('E-cadherin', 20.0), ('MUC2', 0.0), ('CD11b', 10.0), ('SOX9', 0.0), ('CD20 (D)', 0.0), ('FoxP3', 100.0), ('P21 (D)', 0.0), ('CK7', 149.0), ('CD68 (D)', 60.0), ('P16 (Dnew)', 0.0), ('CD4 (D)', 29.0), ('PAI1 (D)', 0.0), ('CD3e (D)', 19.0), ('CK8/18', 0.0)]\n",
      "2024-01-30 16:47:40,519 - num cells: 63966\n",
      "2024-01-30 16:48:17,805 - cell typing key is: fraction\n",
      "2024-01-30 16:48:17,808 - gating cells with the following markers: ['CCL2', 'CD11b', 'CD20', 'CD31', 'CD3e', 'CD45', 'CD4', 'CD68', 'CD8', 'CK14', 'CK7', 'CK8/18', 'DAPI', 'E-cadherin', 'FOXP3', 'GLUT1', 'HLA-DR', 'Hep-Par-1', 'Ki67', 'MUC2', 'P16', 'P21', 'PAI1', 'Pan-Cytokeratin', 'Podoplanin', 'SMA', 'SOX9']\n",
      "2024-01-30 16:48:17,869 - cells gated: [('Epithelial', 42252), ('Stroma', 5655), ('CD4 T cell', 5219), ('Hepatocyte', 4301), ('Macrophage - M1', 2975), ('Endothelial', 1725), ('Immune', 750), ('CD8 T cell', 727), ('Treg', 321), ('Unlabeled', 41)]\n",
      "/diskmnt/Projects/Users/estorrs/miniconda3/envs/imaging_analysis_v2/lib/python3.10/site-packages/anndata/_core/anndata.py:183: ImplicitModificationWarning: Transforming to str index.\n",
      "  warnings.warn(\"Transforming to str index.\", ImplicitModificationWarning)\n",
      "... storing 'cell_type' as categorical\n",
      "2024-01-30 16:48:24,098 - extracting /diskmnt/primary/CODEX/HTAN/20240111_Human_mCRC_serial_sectrion_HT413C1_Th1k4A1_Slide_8/HT413C1_Th1k4A1_U37__20240111.ome.tiff\n"
     ]
    },
    {
     "name": "stdout",
     "output_type": "stream",
     "text": [
      "HT413C1_Th1k4A1_U37\n"
     ]
    },
    {
     "name": "stderr",
     "output_type": "stream",
     "text": [
      "2024-01-30 16:48:32,935 - extracting /diskmnt/Projects/Users/estorrs/imaging-analysis/results/serial_sections/HT413C1-Th1k4A1/segmentation/HT413C1_Th1k4A1_U37_cell_segmentation.tif\n",
      "2024-01-30 16:48:33,357 - thresholds detected: [('DAPI', 0.0), ('Podoplanin', 0.0), ('PanCytokeratin', 19.0), ('HLA-DR', 99.0), ('CD8', 10.0), ('SMA (D)', 19.0), ('CD45', 99.0), ('Ki67', 0.0), ('Hep-Par-1 (D)', 40.0), ('GLUT1 (D)', 0.0), ('CK14', 0.0), ('CD31', 10.0), ('CCL2', 0.0), ('E-cadherin', 20.0), ('MUC2', 0.0), ('CD11b', 10.0), ('SOX9', 0.0), ('CD20 (D)', 0.0), ('FoxP3', 100.0), ('P21 (D)', 0.0), ('CK7', 149.0), ('CD68 (D)', 60.0), ('P16 (Dnew)', 0.0), ('CD4 (D)', 29.0), ('PAI1 (D)', 0.0), ('CD3e (D)', 19.0), ('CK8/18', 0.0)]\n",
      "2024-01-30 16:48:37,295 - num cells: 54981\n",
      "2024-01-30 16:49:09,831 - cell typing key is: fraction\n",
      "2024-01-30 16:49:09,833 - gating cells with the following markers: ['CCL2', 'CD11b', 'CD20', 'CD31', 'CD3e', 'CD45', 'CD4', 'CD68', 'CD8', 'CK14', 'CK7', 'CK8/18', 'DAPI', 'E-cadherin', 'FOXP3', 'GLUT1', 'HLA-DR', 'Hep-Par-1', 'Ki67', 'MUC2', 'P16', 'P21', 'PAI1', 'Pan-Cytokeratin', 'Podoplanin', 'SMA', 'SOX9']\n",
      "2024-01-30 16:49:09,884 - cells gated: [('Epithelial', 34524), ('Stroma', 4917), ('Hepatocyte', 4810), ('CD4 T cell', 4713), ('Macrophage - M1', 2674), ('Endothelial', 1567), ('CD8 T cell', 750), ('Immune', 655), ('Treg', 306), ('Unlabeled', 65)]\n",
      "/diskmnt/Projects/Users/estorrs/miniconda3/envs/imaging_analysis_v2/lib/python3.10/site-packages/anndata/_core/anndata.py:183: ImplicitModificationWarning: Transforming to str index.\n",
      "  warnings.warn(\"Transforming to str index.\", ImplicitModificationWarning)\n",
      "... storing 'cell_type' as categorical\n",
      "2024-01-30 16:49:15,211 - extracting /diskmnt/primary/CODEX/HTAN/20240111_Human_mCRC_serial_sectrion_HT413C1_Th1k4A1_Slide_8/HT413C1_Th1k4A1_U42__20240111.ome.tiff\n"
     ]
    },
    {
     "name": "stdout",
     "output_type": "stream",
     "text": [
      "HT413C1_Th1k4A1_U42\n"
     ]
    },
    {
     "name": "stderr",
     "output_type": "stream",
     "text": [
      "2024-01-30 16:49:22,835 - extracting /diskmnt/Projects/Users/estorrs/imaging-analysis/results/serial_sections/HT413C1-Th1k4A1/segmentation/HT413C1_Th1k4A1_U42_cell_segmentation.tif\n",
      "2024-01-30 16:49:23,282 - thresholds detected: [('DAPI', 0.0), ('Podoplanin', 0.0), ('PanCytokeratin', 19.0), ('HLA-DR', 99.0), ('CD8', 10.0), ('SMA (D)', 19.0), ('CD45', 99.0), ('Ki67', 0.0), ('Hep-Par-1 (D)', 40.0), ('GLUT1 (D)', 0.0), ('CK14', 0.0), ('CD31', 10.0), ('CCL2', 0.0), ('E-cadherin', 20.0), ('MUC2', 0.0), ('CD11b', 10.0), ('SOX9', 0.0), ('CD20 (D)', 0.0), ('FoxP3', 100.0), ('P21 (D)', 0.0), ('CK7', 149.0), ('CD68 (D)', 60.0), ('P16 (Dnew)', 0.0), ('CD4 (D)', 29.0), ('PAI1 (D)', 0.0), ('CD3e (D)', 19.0), ('CK8/18', 0.0)]\n",
      "2024-01-30 16:49:27,171 - num cells: 52184\n",
      "2024-01-30 16:49:57,661 - cell typing key is: fraction\n",
      "2024-01-30 16:49:57,663 - gating cells with the following markers: ['CCL2', 'CD11b', 'CD20', 'CD31', 'CD3e', 'CD45', 'CD4', 'CD68', 'CD8', 'CK14', 'CK7', 'CK8/18', 'DAPI', 'E-cadherin', 'FOXP3', 'GLUT1', 'HLA-DR', 'Hep-Par-1', 'Ki67', 'MUC2', 'P16', 'P21', 'PAI1', 'Pan-Cytokeratin', 'Podoplanin', 'SMA', 'SOX9']\n",
      "2024-01-30 16:49:57,763 - cells gated: [('Epithelial', 34226), ('CD4 T cell', 4457), ('Hepatocyte', 4339), ('Stroma', 3914), ('Macrophage - M1', 2404), ('Endothelial', 1175), ('Immune', 712), ('CD8 T cell', 646), ('Treg', 259), ('Unlabeled', 52)]\n",
      "/diskmnt/Projects/Users/estorrs/miniconda3/envs/imaging_analysis_v2/lib/python3.10/site-packages/anndata/_core/anndata.py:183: ImplicitModificationWarning: Transforming to str index.\n",
      "  warnings.warn(\"Transforming to str index.\", ImplicitModificationWarning)\n",
      "... storing 'cell_type' as categorical\n",
      "2024-01-30 16:50:02,890 - extracting /diskmnt/primary/CODEX/HTAN/20240110_Human_mCRC_Serial_section_HT413C1_Th1k4A1_Slide3/HT413C1_Th1k4A1_U3__20240110.ome.tiff\n"
     ]
    },
    {
     "name": "stdout",
     "output_type": "stream",
     "text": [
      "HT413C1_Th1k4A1_U3\n"
     ]
    },
    {
     "name": "stderr",
     "output_type": "stream",
     "text": [
      "2024-01-30 16:50:09,908 - extracting /diskmnt/Projects/Users/estorrs/imaging-analysis/results/serial_sections/HT413C1-Th1k4A1/segmentation/HT413C1_Th1k4A1_U3_cell_segmentation.tif\n",
      "2024-01-30 16:50:10,311 - thresholds detected: [('DAPI', 0.0), ('Podoplanin', 0.0), ('PanCytokeratin', 19.0), ('HLA-DR', 99.0), ('CD8', 10.0), ('SMA (D)', 19.0), ('CD45', 99.0), ('Ki67', 0.0), ('Hep-Par-1 (D)', 40.0), ('GLUT1 (D)', 0.0), ('CK14', 0.0), ('CD31', 10.0), ('CCL2', 0.0), ('E-cadherin', 20.0), ('MUC2', 0.0), ('CD11b', 10.0), ('SOX9', 0.0), ('CD20 (D)', 0.0), ('FoxP3', 100.0), ('P21 (D)', 0.0), ('CK7', 149.0), ('CD68 (D)', 60.0), ('P16 (Dnew)', 0.0), ('CD4 (D)', 29.0), ('PAI1 (D)', 0.0), ('CD3e (D)', 19.0), ('CK8/18', 0.0)]\n",
      "2024-01-30 16:50:15,349 - num cells: 70234\n",
      "2024-01-30 16:50:56,413 - cell typing key is: fraction\n",
      "2024-01-30 16:50:56,417 - gating cells with the following markers: ['CCL2', 'CD11b', 'CD20', 'CD31', 'CD3e', 'CD45', 'CD4', 'CD68', 'CD8', 'CK14', 'CK7', 'CK8/18', 'DAPI', 'E-cadherin', 'FOXP3', 'GLUT1', 'HLA-DR', 'Hep-Par-1', 'Ki67', 'MUC2', 'P16', 'P21', 'PAI1', 'Pan-Cytokeratin', 'Podoplanin', 'SMA', 'SOX9']\n",
      "2024-01-30 16:50:56,479 - cells gated: [('Epithelial', 50716), ('Stroma', 5441), ('CD4 T cell', 4038), ('Hepatocyte', 3649), ('Macrophage - M1', 2680), ('Endothelial', 2053), ('CD8 T cell', 644), ('Immune', 612), ('Treg', 354), ('Unlabeled', 47)]\n",
      "/diskmnt/Projects/Users/estorrs/miniconda3/envs/imaging_analysis_v2/lib/python3.10/site-packages/anndata/_core/anndata.py:183: ImplicitModificationWarning: Transforming to str index.\n",
      "  warnings.warn(\"Transforming to str index.\", ImplicitModificationWarning)\n",
      "... storing 'cell_type' as categorical\n",
      "2024-01-30 16:51:03,179 - extracting /diskmnt/primary/CODEX/HTAN/20240110_Human_mCRC_Serial_section_HT413C1_Th1k4A1_Slide3/HT413C1_Th1k4A1_U20__20240110.ome.tiff\n"
     ]
    },
    {
     "name": "stdout",
     "output_type": "stream",
     "text": [
      "HT413C1_Th1k4A1_U20\n"
     ]
    },
    {
     "name": "stderr",
     "output_type": "stream",
     "text": [
      "2024-01-30 16:51:11,089 - extracting /diskmnt/Projects/Users/estorrs/imaging-analysis/results/serial_sections/HT413C1-Th1k4A1/segmentation/HT413C1_Th1k4A1_U20_cell_segmentation.tif\n",
      "2024-01-30 16:51:11,517 - thresholds detected: [('DAPI', 0.0), ('Podoplanin', 0.0), ('PanCytokeratin', 19.0), ('HLA-DR', 99.0), ('CD8', 10.0), ('SMA (D)', 19.0), ('CD45', 99.0), ('Ki67', 0.0), ('Hep-Par-1 (D)', 40.0), ('GLUT1 (D)', 0.0), ('CK14', 0.0), ('CD31', 10.0), ('CCL2', 0.0), ('E-cadherin', 20.0), ('MUC2', 0.0), ('CD11b', 10.0), ('SOX9', 0.0), ('CD20 (D)', 0.0), ('FoxP3', 100.0), ('P21 (D)', 0.0), ('CK7', 149.0), ('CD68 (D)', 60.0), ('P16 (Dnew)', 0.0), ('CD4 (D)', 29.0), ('PAI1 (D)', 0.0), ('CD3e (D)', 19.0), ('CK8/18', 0.0)]\n",
      "2024-01-30 16:51:16,300 - num cells: 68068\n",
      "2024-01-30 16:51:55,697 - cell typing key is: fraction\n",
      "2024-01-30 16:51:55,701 - gating cells with the following markers: ['CCL2', 'CD11b', 'CD20', 'CD31', 'CD3e', 'CD45', 'CD4', 'CD68', 'CD8', 'CK14', 'CK7', 'CK8/18', 'DAPI', 'E-cadherin', 'FOXP3', 'GLUT1', 'HLA-DR', 'Hep-Par-1', 'Ki67', 'MUC2', 'P16', 'P21', 'PAI1', 'Pan-Cytokeratin', 'Podoplanin', 'SMA', 'SOX9']\n",
      "2024-01-30 16:51:55,763 - cells gated: [('Epithelial', 50345), ('Stroma', 4896), ('CD4 T cell', 3758), ('Hepatocyte', 3176), ('Macrophage - M1', 2546), ('Endothelial', 1817), ('CD8 T cell', 626), ('Immune', 559), ('Treg', 323), ('Unlabeled', 22)]\n",
      "/diskmnt/Projects/Users/estorrs/miniconda3/envs/imaging_analysis_v2/lib/python3.10/site-packages/anndata/_core/anndata.py:183: ImplicitModificationWarning: Transforming to str index.\n",
      "  warnings.warn(\"Transforming to str index.\", ImplicitModificationWarning)\n",
      "... storing 'cell_type' as categorical\n",
      "2024-01-30 16:52:02,354 - extracting /diskmnt/primary/CODEX/HTAN/20240110_Human_mCRC_Serial_section_HT413C1_Th1k4A1_Slide3/HT413C1_Th1k4A1_U32__20240110.ome.tiff\n"
     ]
    },
    {
     "name": "stdout",
     "output_type": "stream",
     "text": [
      "HT413C1_Th1k4A1_U32\n"
     ]
    },
    {
     "name": "stderr",
     "output_type": "stream",
     "text": [
      "2024-01-30 16:52:10,991 - extracting /diskmnt/Projects/Users/estorrs/imaging-analysis/results/serial_sections/HT413C1-Th1k4A1/segmentation/HT413C1_Th1k4A1_U32_cell_segmentation.tif\n",
      "2024-01-30 16:52:11,515 - thresholds detected: [('DAPI', 0.0), ('Podoplanin', 0.0), ('PanCytokeratin', 19.0), ('HLA-DR', 99.0), ('CD8', 10.0), ('SMA (D)', 19.0), ('CD45', 99.0), ('Ki67', 0.0), ('Hep-Par-1 (D)', 40.0), ('GLUT1 (D)', 0.0), ('CK14', 0.0), ('CD31', 10.0), ('CCL2', 0.0), ('E-cadherin', 20.0), ('MUC2', 0.0), ('CD11b', 10.0), ('SOX9', 0.0), ('CD20 (D)', 0.0), ('FoxP3', 100.0), ('P21 (D)', 0.0), ('CK7', 149.0), ('CD68 (D)', 60.0), ('P16 (Dnew)', 0.0), ('CD4 (D)', 29.0), ('PAI1 (D)', 0.0), ('CD3e (D)', 19.0), ('CK8/18', 0.0)]\n",
      "2024-01-30 16:52:16,211 - num cells: 60658\n"
     ]
    }
   ],
   "source": [
    "for specimen, ome_fp in specimen_to_ome.items():\n",
    "    print(specimen)\n",
    "    seg_fp = specimen_to_seg[specimen]\n",
    "    \n",
    "    channels = utils.get_ome_tiff_channels(ome_fp)\n",
    "#     channels = [utils.R_CHANNEL_MAPPING[c] for c in channels]\n",
    "    thresholds = {c:v for c, v in zip(channels, channel_thresholds[ome_fp.split('/')[-1]])}\n",
    "    \n",
    "    df, a = mip.get_spatial_features(seg_fp, ome_fp, thresholds=thresholds, gating_strategy=gating_strategy)\n",
    "    a.write_h5ad(os.path.join(spatial_dir, f'{specimen}_spatial_features.h5ad'))\n",
    "    df.to_csv(os.path.join(spatial_dir, f'{specimen}_spatial_features.txt'), sep='\\t', index=False)"
   ]
  },
  {
   "cell_type": "code",
   "execution_count": 30,
   "id": "95ebcd32",
   "metadata": {},
   "outputs": [
    {
     "data": {
      "text/plain": [
       "1"
      ]
     },
     "execution_count": 30,
     "metadata": {},
     "output_type": "execute_result"
    }
   ],
   "source": [
    "1"
   ]
  },
  {
   "cell_type": "code",
   "execution_count": null,
   "id": "816db9e6",
   "metadata": {},
   "outputs": [],
   "source": []
  }
 ],
 "metadata": {
  "kernelspec": {
   "display_name": "Python 3 (ipykernel)",
   "language": "python",
   "name": "python3"
  },
  "language_info": {
   "codemirror_mode": {
    "name": "ipython",
    "version": 3
   },
   "file_extension": ".py",
   "mimetype": "text/x-python",
   "name": "python",
   "nbconvert_exporter": "python",
   "pygments_lexer": "ipython3",
   "version": "3.10.13"
  }
 },
 "nbformat": 4,
 "nbformat_minor": 5
}
