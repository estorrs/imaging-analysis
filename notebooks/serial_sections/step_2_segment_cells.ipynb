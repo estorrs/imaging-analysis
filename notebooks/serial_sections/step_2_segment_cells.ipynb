{
 "cells": [
  {
   "cell_type": "code",
   "execution_count": 1,
   "id": "8f1e490f",
   "metadata": {},
   "outputs": [],
   "source": [
    "import logging\n",
    "import json\n",
    "import os\n",
    "import re\n",
    "from pathlib import Path\n",
    "from collections import Counter\n",
    "\n",
    "import anndata\n",
    "import pandas as pd\n",
    "import numpy as np\n",
    "import tifffile\n",
    "from einops import rearrange\n",
    "from skimage.measure import regionprops"
   ]
  },
  {
   "cell_type": "code",
   "execution_count": 2,
   "id": "069689f8",
   "metadata": {},
   "outputs": [],
   "source": [
    "%load_ext autoreload"
   ]
  },
  {
   "cell_type": "code",
   "execution_count": 3,
   "id": "599a72a9",
   "metadata": {},
   "outputs": [],
   "source": [
    "%autoreload 2"
   ]
  },
  {
   "cell_type": "code",
   "execution_count": 4,
   "id": "447d9928",
   "metadata": {},
   "outputs": [
    {
     "name": "stderr",
     "output_type": "stream",
     "text": [
      "2024-11-03 19:09:46.301121: W tensorflow/stream_executor/platform/default/dso_loader.cc:64] Could not load dynamic library 'libcudart.so.11.0'; dlerror: libcudart.so.11.0: cannot open shared object file: No such file or directory; LD_LIBRARY_PATH: /diskmnt/Projects/Users/estorrs/miniconda3/envs/imaging_analysis_v2/lib/python3.10/site-packages/cv2/../../lib64:/usr/local/lib:/usr/lib64:/usr/local/lib:/usr/lib64:\n",
      "2024-11-03 19:09:46.301156: I tensorflow/stream_executor/cuda/cudart_stub.cc:29] Ignore above cudart dlerror if you do not have a GPU set up on your machine.\n"
     ]
    }
   ],
   "source": [
    "import multiplex_imaging_pipeline.utils as utils\n",
    "import multiplex_imaging_pipeline.ome as ome\n",
    "import multiplex_imaging_pipeline.segmentation as seg\n",
    "import multiplex_imaging_pipeline.multiplex_imaging_pipeline as mip\n",
    "from multiplex_imaging_pipeline.spatial_features import DEFAULT_GATING_STRATEGY"
   ]
  },
  {
   "cell_type": "code",
   "execution_count": 5,
   "id": "043d6119",
   "metadata": {},
   "outputs": [],
   "source": [
    "# multiplex_mapping = {\n",
    "#     'keratin-5': 'ck5',\n",
    "#     'keratin-14': 'ck14',\n",
    "# }\n",
    "# pattern = r'[ -]?\\(?[dD]\\)?$'\n",
    "# def alter_name(x):\n",
    "#     x = re.sub(pattern, '', x)\n",
    "#     x = x.lower()\n",
    "#     x = x.replace(' ', '-')\n",
    "#     x = multiplex_mapping.get(x, x)\n",
    "#     return x"
   ]
  },
  {
   "cell_type": "code",
   "execution_count": 6,
   "id": "adaa84c7",
   "metadata": {},
   "outputs": [],
   "source": [
    "# case = 'HT413C1-Th1k4A1'\n",
    "# runs = [\n",
    "#     '2024-01-11_HT413C1_Th1k4A1',\n",
    "#     '2024-01-10_HT413C1_Th1k4A1'\n",
    "# ]\n",
    "# output_dir = f'/diskmnt/Projects/Users/estorrs/imaging-analysis/results/serial_sections/{case}'"
   ]
  },
  {
   "cell_type": "code",
   "execution_count": 5,
   "id": "de1a7273",
   "metadata": {},
   "outputs": [],
   "source": [
    "# case = 'HT704B1'\n",
    "# runs = [\n",
    "#     '2024-07-05_HT704B1',\n",
    "#     '2024-07-05_HT704B1_2',\n",
    "#     '2024-07-05_HT704B1_3'\n",
    "# ]\n",
    "# output_dir = f'/diskmnt/Projects/Users/estorrs/imaging-analysis/results/serial_sections/{case}'"
   ]
  },
  {
   "cell_type": "code",
   "execution_count": 5,
   "id": "efc9ee6d",
   "metadata": {},
   "outputs": [],
   "source": [
    "# case = 'HT891Z1'\n",
    "# runs = [\n",
    "#     '2024-07-23_HT891Z1',\n",
    "#     '2024-07-23_HT891Z1_2',\n",
    "#     '2024-07-20_HT891Z1',\n",
    "#     '2024-07-20_HT891Z1_2'\n",
    "# ]\n",
    "# output_dir = f'/diskmnt/Projects/Users/estorrs/imaging-analysis/results/serial_sections/{case}'"
   ]
  },
  {
   "cell_type": "code",
   "execution_count": 8,
   "id": "0cb0300a",
   "metadata": {},
   "outputs": [],
   "source": [
    "# case = 'HT913Z1'\n",
    "# runs = [\n",
    "#     '2024-08-12_HT913Z1',\n",
    "#     '2024-08-12_HT913Z1_2',\n",
    "#     '2024-08-12_HT913Z1_3',\n",
    "#     '2024-08-12_HT913Z1_4'\n",
    "# ]\n",
    "# output_dir = f'/diskmnt/Projects/Users/estorrs/imaging-analysis/results/serial_sections/{case}'"
   ]
  },
  {
   "cell_type": "code",
   "execution_count": 9,
   "id": "3e5c9a1a",
   "metadata": {},
   "outputs": [
    {
     "data": {
      "text/html": [
       "<div>\n",
       "<style scoped>\n",
       "    .dataframe tbody tr th:only-of-type {\n",
       "        vertical-align: middle;\n",
       "    }\n",
       "\n",
       "    .dataframe tbody tr th {\n",
       "        vertical-align: top;\n",
       "    }\n",
       "\n",
       "    .dataframe thead th {\n",
       "        text-align: right;\n",
       "    }\n",
       "</style>\n",
       "<table border=\"1\" class=\"dataframe\">\n",
       "  <thead>\n",
       "    <tr style=\"text-align: right;\">\n",
       "      <th></th>\n",
       "      <th>run_name</th>\n",
       "      <th>omero_run_name</th>\n",
       "      <th>date</th>\n",
       "      <th>case</th>\n",
       "      <th>specimen</th>\n",
       "      <th>bbox</th>\n",
       "      <th>filepath</th>\n",
       "      <th>geojson</th>\n",
       "    </tr>\n",
       "  </thead>\n",
       "  <tbody>\n",
       "    <tr>\n",
       "      <th>0</th>\n",
       "      <td>20240812_Prostate_serial_HT913Z1-S2H1FP1-CODEX_1</td>\n",
       "      <td>2024-08-12_HT913Z1</td>\n",
       "      <td>20240812</td>\n",
       "      <td>HT913Z1</td>\n",
       "      <td>HT913Z1-S2H1FP1_U2</td>\n",
       "      <td>562,14052,0,16950</td>\n",
       "      <td>/diskmnt/primary/CODEX/HTAN/20240812_Prostate_...</td>\n",
       "      <td>/diskmnt/primary/CODEX/HTAN/20240812_Prostate_...</td>\n",
       "    </tr>\n",
       "    <tr>\n",
       "      <th>1</th>\n",
       "      <td>20240812_Prostate_serial_HT913Z1-S2H1FP1-CODEX_1</td>\n",
       "      <td>2024-08-12_HT913Z1</td>\n",
       "      <td>20240812</td>\n",
       "      <td>HT913Z1</td>\n",
       "      <td>HT913Z1-S2H1FP1_U12</td>\n",
       "      <td>18424,31915,774,17324</td>\n",
       "      <td>/diskmnt/primary/CODEX/HTAN/20240812_Prostate_...</td>\n",
       "      <td>/diskmnt/primary/CODEX/HTAN/20240812_Prostate_...</td>\n",
       "    </tr>\n",
       "    <tr>\n",
       "      <th>2</th>\n",
       "      <td>20240812_Prostate_serial_HT913Z1-S2H1FP1-CODEX_1</td>\n",
       "      <td>2024-08-12_HT913Z1</td>\n",
       "      <td>20240812</td>\n",
       "      <td>HT913Z1</td>\n",
       "      <td>HT913Z1-S2H1FP1_U22</td>\n",
       "      <td>33663,47341,649,17012</td>\n",
       "      <td>/diskmnt/primary/CODEX/HTAN/20240812_Prostate_...</td>\n",
       "      <td>/diskmnt/primary/CODEX/HTAN/20240812_Prostate_...</td>\n",
       "    </tr>\n",
       "    <tr>\n",
       "      <th>3</th>\n",
       "      <td>20240812_Prostate_serial_HT913Z1-S2H1FP1-CODEX_1</td>\n",
       "      <td>2024-08-12_HT913Z1</td>\n",
       "      <td>20240812</td>\n",
       "      <td>HT913Z1</td>\n",
       "      <td>HT913Z1-S2H1FP1_U41</td>\n",
       "      <td>49777,63330,3084,19261</td>\n",
       "      <td>/diskmnt/primary/CODEX/HTAN/20240812_Prostate_...</td>\n",
       "      <td>/diskmnt/primary/CODEX/HTAN/20240812_Prostate_...</td>\n",
       "    </tr>\n",
       "    <tr>\n",
       "      <th>4</th>\n",
       "      <td>20240812_Prostate_serial_HT913Z1-S2H1FP1-CODEX_2</td>\n",
       "      <td>2024-08-12_HT913Z1_2</td>\n",
       "      <td>20240812</td>\n",
       "      <td>HT913Z1</td>\n",
       "      <td>HT913Z1-S2H1FP1_U51</td>\n",
       "      <td>589,13911,404,16732</td>\n",
       "      <td>/diskmnt/primary/CODEX/HTAN/20240812_Prostate_...</td>\n",
       "      <td>/diskmnt/primary/CODEX/HTAN/20240812_Prostate_...</td>\n",
       "    </tr>\n",
       "    <tr>\n",
       "      <th>5</th>\n",
       "      <td>20240812_Prostate_serial_HT913Z1-S2H1FP1-CODEX_2</td>\n",
       "      <td>2024-08-12_HT913Z1_2</td>\n",
       "      <td>20240812</td>\n",
       "      <td>HT913Z1</td>\n",
       "      <td>HT913Z1-S2H1FP1_U52</td>\n",
       "      <td>16387,29120,816,17498</td>\n",
       "      <td>/diskmnt/primary/CODEX/HTAN/20240812_Prostate_...</td>\n",
       "      <td>/diskmnt/primary/CODEX/HTAN/20240812_Prostate_...</td>\n",
       "    </tr>\n",
       "    <tr>\n",
       "      <th>6</th>\n",
       "      <td>20240812_Prostate_serial_HT913Z1-S2H1FP1-CODEX_2</td>\n",
       "      <td>2024-08-12_HT913Z1_2</td>\n",
       "      <td>20240812</td>\n",
       "      <td>HT913Z1</td>\n",
       "      <td>HT913Z1-S2H1FP1_U53</td>\n",
       "      <td>32185,44848,1111,17675</td>\n",
       "      <td>/diskmnt/primary/CODEX/HTAN/20240812_Prostate_...</td>\n",
       "      <td>/diskmnt/primary/CODEX/HTAN/20240812_Prostate_...</td>\n",
       "    </tr>\n",
       "    <tr>\n",
       "      <th>7</th>\n",
       "      <td>20240812_Prostate_serial_HT913Z1-S2H1FP1-CODEX_2</td>\n",
       "      <td>2024-08-12_HT913Z1_2</td>\n",
       "      <td>20240812</td>\n",
       "      <td>HT913Z1</td>\n",
       "      <td>HT913Z1-S2H1FP1_U54</td>\n",
       "      <td>46686,59772,2290,18618</td>\n",
       "      <td>/diskmnt/primary/CODEX/HTAN/20240812_Prostate_...</td>\n",
       "      <td>/diskmnt/primary/CODEX/HTAN/20240812_Prostate_...</td>\n",
       "    </tr>\n",
       "    <tr>\n",
       "      <th>8</th>\n",
       "      <td>20240812_Prostate_serial_HT913Z1-S2H1FP1-CODEX_3</td>\n",
       "      <td>2024-08-12_HT913Z1_3</td>\n",
       "      <td>20240812</td>\n",
       "      <td>HT913Z1</td>\n",
       "      <td>HT913Z1-S2H1FP1_U62</td>\n",
       "      <td>524,13396,1315,17507</td>\n",
       "      <td>/diskmnt/primary/CODEX/HTAN/20240812_Prostate_...</td>\n",
       "      <td>/diskmnt/primary/CODEX/HTAN/20240812_Prostate_...</td>\n",
       "    </tr>\n",
       "    <tr>\n",
       "      <th>9</th>\n",
       "      <td>20240812_Prostate_serial_HT913Z1-S2H1FP1-CODEX_3</td>\n",
       "      <td>2024-08-12_HT913Z1_3</td>\n",
       "      <td>20240812</td>\n",
       "      <td>HT913Z1</td>\n",
       "      <td>HT913Z1-S2H1FP1_U71</td>\n",
       "      <td>17590,30171,1664,17565</td>\n",
       "      <td>/diskmnt/primary/CODEX/HTAN/20240812_Prostate_...</td>\n",
       "      <td>/diskmnt/primary/CODEX/HTAN/20240812_Prostate_...</td>\n",
       "    </tr>\n",
       "    <tr>\n",
       "      <th>10</th>\n",
       "      <td>20240812_Prostate_serial_HT913Z1-S2H1FP1-CODEX_3</td>\n",
       "      <td>2024-08-12_HT913Z1_3</td>\n",
       "      <td>20240812</td>\n",
       "      <td>HT913Z1</td>\n",
       "      <td>HT913Z1-S2H1FP1_U82</td>\n",
       "      <td>33141,45256,557,16225</td>\n",
       "      <td>/diskmnt/primary/CODEX/HTAN/20240812_Prostate_...</td>\n",
       "      <td>/diskmnt/primary/CODEX/HTAN/20240812_Prostate_...</td>\n",
       "    </tr>\n",
       "    <tr>\n",
       "      <th>11</th>\n",
       "      <td>20240812_Prostate_serial_HT913Z1-S2H1FP1-CODEX_3</td>\n",
       "      <td>2024-08-12_HT913Z1_3</td>\n",
       "      <td>20240812</td>\n",
       "      <td>HT913Z1</td>\n",
       "      <td>HT913Z1-S2H1FP1_U91</td>\n",
       "      <td>47295,59119,2712,17740</td>\n",
       "      <td>/diskmnt/primary/CODEX/HTAN/20240812_Prostate_...</td>\n",
       "      <td>/diskmnt/primary/CODEX/HTAN/20240812_Prostate_...</td>\n",
       "    </tr>\n",
       "    <tr>\n",
       "      <th>12</th>\n",
       "      <td>20240812_Prostate_serial_HT913Z1-S2H1FP1-CODEX_4</td>\n",
       "      <td>2024-08-12_HT913Z1_4</td>\n",
       "      <td>20240812</td>\n",
       "      <td>HT913Z1</td>\n",
       "      <td>HT913Z1-S2H1FP1_U102</td>\n",
       "      <td>512,11833,373,14461</td>\n",
       "      <td>/diskmnt/primary/CODEX/HTAN/20240812_Prostate_...</td>\n",
       "      <td>/diskmnt/primary/CODEX/HTAN/20240812_Prostate_...</td>\n",
       "    </tr>\n",
       "    <tr>\n",
       "      <th>13</th>\n",
       "      <td>20240812_Prostate_serial_HT913Z1-S2H1FP1-CODEX_4</td>\n",
       "      <td>2024-08-12_HT913Z1_4</td>\n",
       "      <td>20240812</td>\n",
       "      <td>HT913Z1</td>\n",
       "      <td>HT913Z1-S2H1FP1_U111</td>\n",
       "      <td>14651,25460,2063,15844</td>\n",
       "      <td>/diskmnt/primary/CODEX/HTAN/20240812_Prostate_...</td>\n",
       "      <td>/diskmnt/primary/CODEX/HTAN/20240812_Prostate_...</td>\n",
       "    </tr>\n",
       "    <tr>\n",
       "      <th>14</th>\n",
       "      <td>20240812_Prostate_serial_HT913Z1-S2H1FP1-CODEX_4</td>\n",
       "      <td>2024-08-12_HT913Z1_4</td>\n",
       "      <td>20240812</td>\n",
       "      <td>HT913Z1</td>\n",
       "      <td>HT913Z1-S2H1FP1_U121</td>\n",
       "      <td>27816,37191,2729,13897</td>\n",
       "      <td>/diskmnt/primary/CODEX/HTAN/20240812_Prostate_...</td>\n",
       "      <td>/diskmnt/primary/CODEX/HTAN/20240812_Prostate_...</td>\n",
       "    </tr>\n",
       "    <tr>\n",
       "      <th>15</th>\n",
       "      <td>20240812_Prostate_serial_HT913Z1-S2H1FP1-CODEX_4</td>\n",
       "      <td>2024-08-12_HT913Z1_4</td>\n",
       "      <td>20240812</td>\n",
       "      <td>HT913Z1</td>\n",
       "      <td>HT913Z1-S2H1FP1_U125</td>\n",
       "      <td>42519,51894,2985,14870</td>\n",
       "      <td>/diskmnt/primary/CODEX/HTAN/20240812_Prostate_...</td>\n",
       "      <td>/diskmnt/primary/CODEX/HTAN/20240812_Prostate_...</td>\n",
       "    </tr>\n",
       "  </tbody>\n",
       "</table>\n",
       "</div>"
      ],
      "text/plain": [
       "                                            run_name        omero_run_name  \\\n",
       "0   20240812_Prostate_serial_HT913Z1-S2H1FP1-CODEX_1    2024-08-12_HT913Z1   \n",
       "1   20240812_Prostate_serial_HT913Z1-S2H1FP1-CODEX_1    2024-08-12_HT913Z1   \n",
       "2   20240812_Prostate_serial_HT913Z1-S2H1FP1-CODEX_1    2024-08-12_HT913Z1   \n",
       "3   20240812_Prostate_serial_HT913Z1-S2H1FP1-CODEX_1    2024-08-12_HT913Z1   \n",
       "4   20240812_Prostate_serial_HT913Z1-S2H1FP1-CODEX_2  2024-08-12_HT913Z1_2   \n",
       "5   20240812_Prostate_serial_HT913Z1-S2H1FP1-CODEX_2  2024-08-12_HT913Z1_2   \n",
       "6   20240812_Prostate_serial_HT913Z1-S2H1FP1-CODEX_2  2024-08-12_HT913Z1_2   \n",
       "7   20240812_Prostate_serial_HT913Z1-S2H1FP1-CODEX_2  2024-08-12_HT913Z1_2   \n",
       "8   20240812_Prostate_serial_HT913Z1-S2H1FP1-CODEX_3  2024-08-12_HT913Z1_3   \n",
       "9   20240812_Prostate_serial_HT913Z1-S2H1FP1-CODEX_3  2024-08-12_HT913Z1_3   \n",
       "10  20240812_Prostate_serial_HT913Z1-S2H1FP1-CODEX_3  2024-08-12_HT913Z1_3   \n",
       "11  20240812_Prostate_serial_HT913Z1-S2H1FP1-CODEX_3  2024-08-12_HT913Z1_3   \n",
       "12  20240812_Prostate_serial_HT913Z1-S2H1FP1-CODEX_4  2024-08-12_HT913Z1_4   \n",
       "13  20240812_Prostate_serial_HT913Z1-S2H1FP1-CODEX_4  2024-08-12_HT913Z1_4   \n",
       "14  20240812_Prostate_serial_HT913Z1-S2H1FP1-CODEX_4  2024-08-12_HT913Z1_4   \n",
       "15  20240812_Prostate_serial_HT913Z1-S2H1FP1-CODEX_4  2024-08-12_HT913Z1_4   \n",
       "\n",
       "        date     case              specimen                    bbox  \\\n",
       "0   20240812  HT913Z1    HT913Z1-S2H1FP1_U2       562,14052,0,16950   \n",
       "1   20240812  HT913Z1   HT913Z1-S2H1FP1_U12   18424,31915,774,17324   \n",
       "2   20240812  HT913Z1   HT913Z1-S2H1FP1_U22   33663,47341,649,17012   \n",
       "3   20240812  HT913Z1   HT913Z1-S2H1FP1_U41  49777,63330,3084,19261   \n",
       "4   20240812  HT913Z1   HT913Z1-S2H1FP1_U51     589,13911,404,16732   \n",
       "5   20240812  HT913Z1   HT913Z1-S2H1FP1_U52   16387,29120,816,17498   \n",
       "6   20240812  HT913Z1   HT913Z1-S2H1FP1_U53  32185,44848,1111,17675   \n",
       "7   20240812  HT913Z1   HT913Z1-S2H1FP1_U54  46686,59772,2290,18618   \n",
       "8   20240812  HT913Z1   HT913Z1-S2H1FP1_U62    524,13396,1315,17507   \n",
       "9   20240812  HT913Z1   HT913Z1-S2H1FP1_U71  17590,30171,1664,17565   \n",
       "10  20240812  HT913Z1   HT913Z1-S2H1FP1_U82   33141,45256,557,16225   \n",
       "11  20240812  HT913Z1   HT913Z1-S2H1FP1_U91  47295,59119,2712,17740   \n",
       "12  20240812  HT913Z1  HT913Z1-S2H1FP1_U102     512,11833,373,14461   \n",
       "13  20240812  HT913Z1  HT913Z1-S2H1FP1_U111  14651,25460,2063,15844   \n",
       "14  20240812  HT913Z1  HT913Z1-S2H1FP1_U121  27816,37191,2729,13897   \n",
       "15  20240812  HT913Z1  HT913Z1-S2H1FP1_U125  42519,51894,2985,14870   \n",
       "\n",
       "                                             filepath  \\\n",
       "0   /diskmnt/primary/CODEX/HTAN/20240812_Prostate_...   \n",
       "1   /diskmnt/primary/CODEX/HTAN/20240812_Prostate_...   \n",
       "2   /diskmnt/primary/CODEX/HTAN/20240812_Prostate_...   \n",
       "3   /diskmnt/primary/CODEX/HTAN/20240812_Prostate_...   \n",
       "4   /diskmnt/primary/CODEX/HTAN/20240812_Prostate_...   \n",
       "5   /diskmnt/primary/CODEX/HTAN/20240812_Prostate_...   \n",
       "6   /diskmnt/primary/CODEX/HTAN/20240812_Prostate_...   \n",
       "7   /diskmnt/primary/CODEX/HTAN/20240812_Prostate_...   \n",
       "8   /diskmnt/primary/CODEX/HTAN/20240812_Prostate_...   \n",
       "9   /diskmnt/primary/CODEX/HTAN/20240812_Prostate_...   \n",
       "10  /diskmnt/primary/CODEX/HTAN/20240812_Prostate_...   \n",
       "11  /diskmnt/primary/CODEX/HTAN/20240812_Prostate_...   \n",
       "12  /diskmnt/primary/CODEX/HTAN/20240812_Prostate_...   \n",
       "13  /diskmnt/primary/CODEX/HTAN/20240812_Prostate_...   \n",
       "14  /diskmnt/primary/CODEX/HTAN/20240812_Prostate_...   \n",
       "15  /diskmnt/primary/CODEX/HTAN/20240812_Prostate_...   \n",
       "\n",
       "                                              geojson  \n",
       "0   /diskmnt/primary/CODEX/HTAN/20240812_Prostate_...  \n",
       "1   /diskmnt/primary/CODEX/HTAN/20240812_Prostate_...  \n",
       "2   /diskmnt/primary/CODEX/HTAN/20240812_Prostate_...  \n",
       "3   /diskmnt/primary/CODEX/HTAN/20240812_Prostate_...  \n",
       "4   /diskmnt/primary/CODEX/HTAN/20240812_Prostate_...  \n",
       "5   /diskmnt/primary/CODEX/HTAN/20240812_Prostate_...  \n",
       "6   /diskmnt/primary/CODEX/HTAN/20240812_Prostate_...  \n",
       "7   /diskmnt/primary/CODEX/HTAN/20240812_Prostate_...  \n",
       "8   /diskmnt/primary/CODEX/HTAN/20240812_Prostate_...  \n",
       "9   /diskmnt/primary/CODEX/HTAN/20240812_Prostate_...  \n",
       "10  /diskmnt/primary/CODEX/HTAN/20240812_Prostate_...  \n",
       "11  /diskmnt/primary/CODEX/HTAN/20240812_Prostate_...  \n",
       "12  /diskmnt/primary/CODEX/HTAN/20240812_Prostate_...  \n",
       "13  /diskmnt/primary/CODEX/HTAN/20240812_Prostate_...  \n",
       "14  /diskmnt/primary/CODEX/HTAN/20240812_Prostate_...  \n",
       "15  /diskmnt/primary/CODEX/HTAN/20240812_Prostate_...  "
      ]
     },
     "execution_count": 9,
     "metadata": {},
     "output_type": "execute_result"
    }
   ],
   "source": [
    "metadata = pd.read_csv('/diskmnt/Projects/Users/estorrs/sandbox/specimen_tracking.tsv', sep='\\t')\n",
    "metadata = metadata[[True if x in runs else False for x in metadata['omero_run_name']]]\n",
    "metadata"
   ]
  },
  {
   "cell_type": "code",
   "execution_count": 10,
   "id": "b44ccb0a",
   "metadata": {},
   "outputs": [
    {
     "name": "stdout",
     "output_type": "stream",
     "text": [
      "/diskmnt/primary/CODEX/HTAN/20240812_Prostate_serial_HT913Z1-S2H1FP1-CODEX_1/HT913Z1-S2H1FP1_U2__20240812.ome.tiff ['DAPI', 'CK14', 'LYVE1', 'CD4', 'CK5', 'STEAP4', 'CD68', 'E-Cadherin', 'SMA (D)', 'CD45(D)', 'p63', 'Pan-Cytokeratin', 'HLA-DR', 'Podoplanin', 'Vimentin', 'CD3e', 'CD8', 'CK7', 'CD44', 'Foxp3', 'CD20', 'Ki67', 'AR', 'AMACR', 'CD31']\n",
      "/diskmnt/primary/CODEX/HTAN/20240812_Prostate_serial_HT913Z1-S2H1FP1-CODEX_1/HT913Z1-S2H1FP1_U12__20240812.ome.tiff ['DAPI', 'CK14', 'LYVE1', 'CD4', 'CK5', 'STEAP4', 'CD68', 'E-Cadherin', 'SMA (D)', 'CD45(D)', 'p63', 'Pan-Cytokeratin', 'HLA-DR', 'Podoplanin', 'Vimentin', 'CD3e', 'CD8', 'CK7', 'CD44', 'Foxp3', 'CD20', 'Ki67', 'AR', 'AMACR', 'CD31']\n",
      "/diskmnt/primary/CODEX/HTAN/20240812_Prostate_serial_HT913Z1-S2H1FP1-CODEX_1/HT913Z1-S2H1FP1_U22__20240812.ome.tiff ['DAPI', 'CK14', 'LYVE1', 'CD4', 'CK5', 'STEAP4', 'CD68', 'E-Cadherin', 'SMA (D)', 'CD45(D)', 'p63', 'Pan-Cytokeratin', 'HLA-DR', 'Podoplanin', 'Vimentin', 'CD3e', 'CD8', 'CK7', 'CD44', 'Foxp3', 'CD20', 'Ki67', 'AR', 'AMACR', 'CD31']\n",
      "/diskmnt/primary/CODEX/HTAN/20240812_Prostate_serial_HT913Z1-S2H1FP1-CODEX_1/HT913Z1-S2H1FP1_U41__20240812.ome.tiff ['DAPI', 'CK14', 'LYVE1', 'CD4', 'CK5', 'STEAP4', 'CD68', 'E-Cadherin', 'SMA (D)', 'CD45(D)', 'p63', 'Pan-Cytokeratin', 'HLA-DR', 'Podoplanin', 'Vimentin', 'CD3e', 'CD8', 'CK7', 'CD44', 'Foxp3', 'CD20', 'Ki67', 'AR', 'AMACR', 'CD31']\n",
      "/diskmnt/primary/CODEX/HTAN/20240812_Prostate_serial_HT913Z1-S2H1FP1-CODEX_2/HT913Z1-S2H1FP1_U51__20240812.ome.tiff ['DAPI', 'CK14', 'LYVE1', 'CD4', 'CK5', 'STEAP4', 'CD68', 'E-Cadherin', 'SMA (D)', 'CD45(D)', 'p63', 'Pan-Cytokeratin', 'HLA-DR', 'Podoplanin', 'Vimentin', 'CD3e', 'CD8', 'CK7', 'CD44', 'Foxp3', 'CD20', 'Ki67', 'AR', 'AMACR', 'CD31']\n",
      "/diskmnt/primary/CODEX/HTAN/20240812_Prostate_serial_HT913Z1-S2H1FP1-CODEX_2/HT913Z1-S2H1FP1_U52__20240812.ome.tiff ['DAPI', 'CK14', 'LYVE1', 'CD4', 'CK5', 'STEAP4', 'CD68', 'E-Cadherin', 'SMA (D)', 'CD45(D)', 'p63', 'Pan-Cytokeratin', 'HLA-DR', 'Podoplanin', 'Vimentin', 'CD3e', 'CD8', 'CK7', 'CD44', 'Foxp3', 'CD20', 'Ki67', 'AR', 'AMACR', 'CD31']\n",
      "/diskmnt/primary/CODEX/HTAN/20240812_Prostate_serial_HT913Z1-S2H1FP1-CODEX_2/HT913Z1-S2H1FP1_U53__20240812.ome.tiff ['DAPI', 'CK14', 'LYVE1', 'CD4', 'CK5', 'STEAP4', 'CD68', 'E-Cadherin', 'SMA (D)', 'CD45(D)', 'p63', 'Pan-Cytokeratin', 'HLA-DR', 'Podoplanin', 'Vimentin', 'CD3e', 'CD8', 'CK7', 'CD44', 'Foxp3', 'CD20', 'Ki67', 'AR', 'AMACR', 'CD31']\n",
      "/diskmnt/primary/CODEX/HTAN/20240812_Prostate_serial_HT913Z1-S2H1FP1-CODEX_2/HT913Z1-S2H1FP1_U54__20240812.ome.tiff ['DAPI', 'CK14', 'LYVE1', 'CD4', 'CK5', 'STEAP4', 'CD68', 'E-Cadherin', 'SMA (D)', 'CD45(D)', 'p63', 'Pan-Cytokeratin', 'HLA-DR', 'Podoplanin', 'Vimentin', 'CD3e', 'CD8', 'CK7', 'CD44', 'Foxp3', 'CD20', 'Ki67', 'AR', 'AMACR', 'CD31']\n",
      "/diskmnt/primary/CODEX/HTAN/20240812_Prostate_serial_HT913Z1-S2H1FP1-CODEX_3/HT913Z1-S2H1FP1_U62__20240812.ome.tiff ['DAPI', 'CK14', 'LYVE1', 'CD4', 'CK5', 'STEAP4', 'CD68', 'E-Cadherin', 'SMA (D)', 'CD45(D)', 'p63', 'Pan-Cytokeratin', 'HLA-DR', 'Podoplanin', 'Vimentin', 'CD3e', 'CD8', 'CK7', 'CD44', 'Foxp3', 'CD20', 'Ki67', 'AR', 'AMACR', 'CD31']\n",
      "/diskmnt/primary/CODEX/HTAN/20240812_Prostate_serial_HT913Z1-S2H1FP1-CODEX_3/HT913Z1-S2H1FP1_U71__20240812.ome.tiff ['DAPI', 'CK14', 'LYVE1', 'CD4', 'CK5', 'STEAP4', 'CD68', 'E-Cadherin', 'SMA (D)', 'CD45(D)', 'p63', 'Pan-Cytokeratin', 'HLA-DR', 'Podoplanin', 'Vimentin', 'CD3e', 'CD8', 'CK7', 'CD44', 'Foxp3', 'CD20', 'Ki67', 'AR', 'AMACR', 'CD31']\n",
      "/diskmnt/primary/CODEX/HTAN/20240812_Prostate_serial_HT913Z1-S2H1FP1-CODEX_3/HT913Z1-S2H1FP1_U82__20240812.ome.tiff ['DAPI', 'CK14', 'LYVE1', 'CD4', 'CK5', 'STEAP4', 'CD68', 'E-Cadherin', 'SMA (D)', 'CD45(D)', 'p63', 'Pan-Cytokeratin', 'HLA-DR', 'Podoplanin', 'Vimentin', 'CD3e', 'CD8', 'CK7', 'CD44', 'Foxp3', 'CD20', 'Ki67', 'AR', 'AMACR', 'CD31']\n",
      "/diskmnt/primary/CODEX/HTAN/20240812_Prostate_serial_HT913Z1-S2H1FP1-CODEX_3/HT913Z1-S2H1FP1_U91__20240812.ome.tiff ['DAPI', 'CK14', 'LYVE1', 'CD4', 'CK5', 'STEAP4', 'CD68', 'E-Cadherin', 'SMA (D)', 'CD45(D)', 'p63', 'Pan-Cytokeratin', 'HLA-DR', 'Podoplanin', 'Vimentin', 'CD3e', 'CD8', 'CK7', 'CD44', 'Foxp3', 'CD20', 'Ki67', 'AR', 'AMACR', 'CD31']\n",
      "/diskmnt/primary/CODEX/HTAN/20240812_Prostate_serial_HT913Z1-S2H1FP1-CODEX_4/HT913Z1-S2H1FP1_U102__20240812.ome.tiff ['DAPI', 'CK14', 'LYVE1', 'CD4', 'CK5', 'STEAP4', 'CD68', 'E-Cadherin', 'SMA (D)', 'CD45(D)', 'p63', 'Pan-Cytokeratin', 'HLA-DR', 'Podoplanin', 'Vimentin', 'CD3e', 'CD8', 'CK7', 'CD44', 'Foxp3', 'CD20', 'Ki67', 'AR', 'AMACR', 'CD31']\n",
      "/diskmnt/primary/CODEX/HTAN/20240812_Prostate_serial_HT913Z1-S2H1FP1-CODEX_4/HT913Z1-S2H1FP1_U111__20240812.ome.tiff ['DAPI', 'CK14', 'LYVE1', 'CD4', 'CK5', 'STEAP4', 'CD68', 'E-Cadherin', 'SMA (D)', 'CD45(D)', 'p63', 'Pan-Cytokeratin', 'HLA-DR', 'Podoplanin', 'Vimentin', 'CD3e', 'CD8', 'CK7', 'CD44', 'Foxp3', 'CD20', 'Ki67', 'AR', 'AMACR', 'CD31']\n",
      "/diskmnt/primary/CODEX/HTAN/20240812_Prostate_serial_HT913Z1-S2H1FP1-CODEX_4/HT913Z1-S2H1FP1_U121__20240812.ome.tiff ['DAPI', 'CK14', 'LYVE1', 'CD4', 'CK5', 'STEAP4', 'CD68', 'E-Cadherin', 'SMA (D)', 'CD45(D)', 'p63', 'Pan-Cytokeratin', 'HLA-DR', 'Podoplanin', 'Vimentin', 'CD3e', 'CD8', 'CK7', 'CD44', 'Foxp3', 'CD20', 'Ki67', 'AR', 'AMACR', 'CD31']\n",
      "/diskmnt/primary/CODEX/HTAN/20240812_Prostate_serial_HT913Z1-S2H1FP1-CODEX_4/HT913Z1-S2H1FP1_U125__20240812.ome.tiff ['DAPI', 'CK14', 'LYVE1', 'CD4', 'CK5', 'STEAP4', 'CD68', 'E-Cadherin', 'SMA (D)', 'CD45(D)', 'p63', 'Pan-Cytokeratin', 'HLA-DR', 'Podoplanin', 'Vimentin', 'CD3e', 'CD8', 'CK7', 'CD44', 'Foxp3', 'CD20', 'Ki67', 'AR', 'AMACR', 'CD31']\n"
     ]
    }
   ],
   "source": [
    "for fp in metadata['filepath']:\n",
    "    channels = utils.get_ome_tiff_channels(fp)\n",
    "#     channels = [alter_name(x) for x in channels]\n",
    "    print(fp, channels)"
   ]
  },
  {
   "cell_type": "code",
   "execution_count": 11,
   "id": "9cfd0f25",
   "metadata": {},
   "outputs": [
    {
     "name": "stderr",
     "output_type": "stream",
     "text": [
      "2024-11-03 19:11:09,256 - starting segmentation for /diskmnt/primary/CODEX/HTAN/20240812_Prostate_serial_HT913Z1-S2H1FP1-CODEX_1/HT913Z1-S2H1FP1_U2__20240812.ome.tiff\n",
      "2024-11-03 19:11:09,258 - Checking for cached data\n"
     ]
    },
    {
     "name": "stdout",
     "output_type": "stream",
     "text": [
      "HT913Z1-S2H1FP1_U2\n"
     ]
    },
    {
     "name": "stderr",
     "output_type": "stream",
     "text": [
      "2024-11-03 19:11:09,510 - Checking MultiplexSegmentation-9.tar.gz against provided file_hash...\n",
      "2024-11-03 19:11:09,511 - MultiplexSegmentation-9.tar.gz with hash a1dfbce2594f927b9112f23a0a1739e0 already available.\n",
      "2024-11-03 19:11:09,512 - Extracting /home/estorrs/.deepcell/models/MultiplexSegmentation-9.tar.gz\n",
      "2024-11-03 19:11:12,270 - Successfully extracted /home/estorrs/.deepcell/models/MultiplexSegmentation-9.tar.gz into /home/estorrs/.deepcell/models\n",
      "2024-11-03 19:11:12.457509: W tensorflow/stream_executor/platform/default/dso_loader.cc:64] Could not load dynamic library 'libcuda.so.1'; dlerror: libcuda.so.1: cannot open shared object file: No such file or directory; LD_LIBRARY_PATH: /diskmnt/Projects/Users/estorrs/miniconda3/envs/imaging_analysis_v2/lib/python3.10/site-packages/cv2/../../lib64:/usr/local/lib:/usr/lib64:/usr/local/lib:/usr/lib64:\n",
      "2024-11-03 19:11:12.457565: W tensorflow/stream_executor/cuda/cuda_driver.cc:269] failed call to cuInit: UNKNOWN ERROR (303)\n",
      "2024-11-03 19:11:12.457599: I tensorflow/stream_executor/cuda/cuda_diagnostics.cc:156] kernel driver does not appear to be running on this host (tortugas): /proc/driver/nvidia/version does not exist\n",
      "2024-11-03 19:11:12.458078: I tensorflow/core/platform/cpu_feature_guard.cc:151] This TensorFlow binary is optimized with oneAPI Deep Neural Network Library (oneDNN) to use the following CPU instructions in performance-critical operations:  AVX2 AVX512F FMA\n",
      "To enable them in other operations, rebuild TensorFlow with the appropriate compiler flags.\n"
     ]
    },
    {
     "name": "stdout",
     "output_type": "stream",
     "text": [
      "WARNING:tensorflow:No training configuration found in save file, so the model was *not* compiled. Compile it manually.\n"
     ]
    },
    {
     "name": "stderr",
     "output_type": "stream",
     "text": [
      "2024-11-03 19:11:19,902 - No training configuration found in save file, so the model was *not* compiled. Compile it manually.\n",
      "/diskmnt/Projects/Users/estorrs/miniconda3/envs/imaging_analysis_v2/lib/python3.10/site-packages/deepcell_toolbox/deep_watershed.py:108: UserWarning: h_maxima peak finding algorithm was selected, but the provided image is larger than 5k x 5k pixels.This will lead to slow prediction performance.\n",
      "  warnings.warn('h_maxima peak finding algorithm was selected, '\n",
      "2024-11-03 19:49:30,910 - finished segmentation\n",
      "2024-11-03 19:49:30,914 - writing /diskmnt/Projects/Users/estorrs/imaging-analysis/results/serial_sections/HT913Z1/segmentation/HT913Z1-S2H1FP1_U2_nuclei_segmentation.tif\n",
      "2024-11-03 19:49:32,311 - writing /diskmnt/Projects/Users/estorrs/imaging-analysis/results/serial_sections/HT913Z1/segmentation/HT913Z1-S2H1FP1_U2_cell_segmentation.tif\n",
      "2024-11-03 19:49:35,517 - extracting /diskmnt/primary/CODEX/HTAN/20240812_Prostate_serial_HT913Z1-S2H1FP1-CODEX_1/HT913Z1-S2H1FP1_U2__20240812.ome.tiff\n",
      "2024-11-03 19:49:46,848 - extracting /diskmnt/Projects/Users/estorrs/imaging-analysis/results/serial_sections/HT913Z1/segmentation/HT913Z1-S2H1FP1_U2_cell_segmentation.tif\n",
      "2024-11-03 19:49:50,033 - thresholds detected: [('DAPI', 0.0), ('CK14', 0.0), ('LYVE1', 0.0), ('CD4', 0.0), ('CK5', 0.0), ('STEAP4', 0.0), ('CD68', 0.0), ('E-Cadherin', 0.0), ('SMA (D)', 0.0), ('CD45(D)', 0.0), ('p63', 0.0), ('Pan-Cytokeratin', 0.0), ('HLA-DR', 0.0), ('Podoplanin', 0.0), ('Vimentin', 0.0), ('CD3e', 0.0), ('CD8', 0.0), ('CK7', 0.0), ('CD44', 0.0), ('Foxp3', 0.0), ('CD20', 0.0), ('Ki67', 0.0), ('AR', 0.0), ('AMACR', 0.0), ('CD31', 0.0)]\n",
      "2024-11-03 19:50:13,029 - num cells: 266414\n",
      "2024-11-03 19:52:45,875 - cell typing key is: fraction\n",
      "2024-11-03 19:52:45,880 - gating cells with the following markers: ['AMACR', 'AR', 'CD20', 'CD31', 'CD3e', 'CD44', 'CD45', 'CD4', 'CD68', 'CD8', 'CK14', 'CK5', 'CK7', 'DAPI', 'E-cadherin', 'FOXP3', 'HLA-DR', 'Ki67', 'Lyve-1', 'P63', 'Pan-Cytokeratin', 'Podoplanin', 'SMA', 'STEAP4', 'Vimentin']\n",
      "2024-11-03 19:52:46,090 - cells gated: [('Epithelial', 266372), ('Unlabeled', 38), ('CD4 T cell', 2), ('B cell', 2)]\n",
      "/diskmnt/Projects/Users/estorrs/miniconda3/envs/imaging_analysis_v2/lib/python3.10/site-packages/anndata/_core/anndata.py:183: ImplicitModificationWarning: Transforming to str index.\n",
      "  warnings.warn(\"Transforming to str index.\", ImplicitModificationWarning)\n",
      "... storing 'cell_type' as categorical\n",
      "2024-11-03 19:53:12,954 - starting segmentation for /diskmnt/primary/CODEX/HTAN/20240812_Prostate_serial_HT913Z1-S2H1FP1-CODEX_1/HT913Z1-S2H1FP1_U12__20240812.ome.tiff\n",
      "2024-11-03 19:53:12,960 - Checking for cached data\n"
     ]
    },
    {
     "name": "stdout",
     "output_type": "stream",
     "text": [
      "HT913Z1-S2H1FP1_U12\n"
     ]
    },
    {
     "name": "stderr",
     "output_type": "stream",
     "text": [
      "2024-11-03 19:53:13,260 - Checking MultiplexSegmentation-9.tar.gz against provided file_hash...\n",
      "2024-11-03 19:53:13,261 - MultiplexSegmentation-9.tar.gz with hash a1dfbce2594f927b9112f23a0a1739e0 already available.\n",
      "2024-11-03 19:53:13,262 - Extracting /home/estorrs/.deepcell/models/MultiplexSegmentation-9.tar.gz\n",
      "2024-11-03 19:53:16,033 - Successfully extracted /home/estorrs/.deepcell/models/MultiplexSegmentation-9.tar.gz into /home/estorrs/.deepcell/models\n"
     ]
    },
    {
     "name": "stdout",
     "output_type": "stream",
     "text": [
      "WARNING:tensorflow:No training configuration found in save file, so the model was *not* compiled. Compile it manually.\n"
     ]
    },
    {
     "name": "stderr",
     "output_type": "stream",
     "text": [
      "2024-11-03 19:53:24,707 - No training configuration found in save file, so the model was *not* compiled. Compile it manually.\n",
      "/diskmnt/Projects/Users/estorrs/miniconda3/envs/imaging_analysis_v2/lib/python3.10/site-packages/deepcell_toolbox/deep_watershed.py:108: UserWarning: h_maxima peak finding algorithm was selected, but the provided image is larger than 5k x 5k pixels.This will lead to slow prediction performance.\n",
      "  warnings.warn('h_maxima peak finding algorithm was selected, '\n",
      "2024-11-03 20:33:13,602 - finished segmentation\n",
      "2024-11-03 20:33:13,606 - writing /diskmnt/Projects/Users/estorrs/imaging-analysis/results/serial_sections/HT913Z1/segmentation/HT913Z1-S2H1FP1_U12_nuclei_segmentation.tif\n",
      "2024-11-03 20:33:16,755 - writing /diskmnt/Projects/Users/estorrs/imaging-analysis/results/serial_sections/HT913Z1/segmentation/HT913Z1-S2H1FP1_U12_cell_segmentation.tif\n",
      "2024-11-03 20:33:18,811 - extracting /diskmnt/primary/CODEX/HTAN/20240812_Prostate_serial_HT913Z1-S2H1FP1-CODEX_1/HT913Z1-S2H1FP1_U12__20240812.ome.tiff\n",
      "2024-11-03 20:33:31,133 - extracting /diskmnt/Projects/Users/estorrs/imaging-analysis/results/serial_sections/HT913Z1/segmentation/HT913Z1-S2H1FP1_U12_cell_segmentation.tif\n",
      "2024-11-03 20:33:34,138 - thresholds detected: [('DAPI', 0.0), ('CK14', 0.0), ('LYVE1', 0.0), ('CD4', 0.0), ('CK5', 0.0), ('STEAP4', 0.0), ('CD68', 0.0), ('E-Cadherin', 0.0), ('SMA (D)', 0.0), ('CD45(D)', 0.0), ('p63', 0.0), ('Pan-Cytokeratin', 0.0), ('HLA-DR', 0.0), ('Podoplanin', 0.0), ('Vimentin', 0.0), ('CD3e', 0.0), ('CD8', 0.0), ('CK7', 0.0), ('CD44', 0.0), ('Foxp3', 0.0), ('CD20', 0.0), ('Ki67', 0.0), ('AR', 0.0), ('AMACR', 0.0), ('CD31', 0.0)]\n",
      "2024-11-03 20:33:52,016 - num cells: 273617\n",
      "2024-11-03 20:36:24,904 - cell typing key is: fraction\n",
      "2024-11-03 20:36:24,909 - gating cells with the following markers: ['AMACR', 'AR', 'CD20', 'CD31', 'CD3e', 'CD44', 'CD45', 'CD4', 'CD68', 'CD8', 'CK14', 'CK5', 'CK7', 'DAPI', 'E-cadherin', 'FOXP3', 'HLA-DR', 'Ki67', 'Lyve-1', 'P63', 'Pan-Cytokeratin', 'Podoplanin', 'SMA', 'STEAP4', 'Vimentin']\n",
      "2024-11-03 20:36:25,115 - cells gated: [('Epithelial', 273590), ('Unlabeled', 16), ('B cell', 5), ('Immune', 3), ('CD4 T cell', 2), ('Treg', 1)]\n",
      "/diskmnt/Projects/Users/estorrs/miniconda3/envs/imaging_analysis_v2/lib/python3.10/site-packages/anndata/_core/anndata.py:183: ImplicitModificationWarning: Transforming to str index.\n",
      "  warnings.warn(\"Transforming to str index.\", ImplicitModificationWarning)\n",
      "... storing 'cell_type' as categorical\n",
      "2024-11-03 20:36:51,819 - starting segmentation for /diskmnt/primary/CODEX/HTAN/20240812_Prostate_serial_HT913Z1-S2H1FP1-CODEX_1/HT913Z1-S2H1FP1_U22__20240812.ome.tiff\n",
      "2024-11-03 20:36:51,824 - Checking for cached data\n"
     ]
    },
    {
     "name": "stdout",
     "output_type": "stream",
     "text": [
      "HT913Z1-S2H1FP1_U22\n"
     ]
    },
    {
     "name": "stderr",
     "output_type": "stream",
     "text": [
      "2024-11-03 20:36:52,089 - Checking MultiplexSegmentation-9.tar.gz against provided file_hash...\n",
      "2024-11-03 20:36:52,090 - MultiplexSegmentation-9.tar.gz with hash a1dfbce2594f927b9112f23a0a1739e0 already available.\n",
      "2024-11-03 20:36:52,091 - Extracting /home/estorrs/.deepcell/models/MultiplexSegmentation-9.tar.gz\n",
      "2024-11-03 20:36:54,929 - Successfully extracted /home/estorrs/.deepcell/models/MultiplexSegmentation-9.tar.gz into /home/estorrs/.deepcell/models\n"
     ]
    },
    {
     "name": "stdout",
     "output_type": "stream",
     "text": [
      "WARNING:tensorflow:No training configuration found in save file, so the model was *not* compiled. Compile it manually.\n"
     ]
    },
    {
     "name": "stderr",
     "output_type": "stream",
     "text": [
      "2024-11-03 20:37:02,291 - No training configuration found in save file, so the model was *not* compiled. Compile it manually.\n",
      "/diskmnt/Projects/Users/estorrs/miniconda3/envs/imaging_analysis_v2/lib/python3.10/site-packages/deepcell_toolbox/deep_watershed.py:108: UserWarning: h_maxima peak finding algorithm was selected, but the provided image is larger than 5k x 5k pixels.This will lead to slow prediction performance.\n",
      "  warnings.warn('h_maxima peak finding algorithm was selected, '\n",
      "2024-11-03 21:14:34,209 - finished segmentation\n",
      "2024-11-03 21:14:34,212 - writing /diskmnt/Projects/Users/estorrs/imaging-analysis/results/serial_sections/HT913Z1/segmentation/HT913Z1-S2H1FP1_U22_nuclei_segmentation.tif\n",
      "2024-11-03 21:14:35,476 - writing /diskmnt/Projects/Users/estorrs/imaging-analysis/results/serial_sections/HT913Z1/segmentation/HT913Z1-S2H1FP1_U22_cell_segmentation.tif\n",
      "2024-11-03 21:14:39,620 - extracting /diskmnt/primary/CODEX/HTAN/20240812_Prostate_serial_HT913Z1-S2H1FP1-CODEX_1/HT913Z1-S2H1FP1_U22__20240812.ome.tiff\n",
      "2024-11-03 21:14:50,840 - extracting /diskmnt/Projects/Users/estorrs/imaging-analysis/results/serial_sections/HT913Z1/segmentation/HT913Z1-S2H1FP1_U22_cell_segmentation.tif\n",
      "2024-11-03 21:14:52,631 - thresholds detected: [('DAPI', 0.0), ('CK14', 0.0), ('LYVE1', 0.0), ('CD4', 0.0), ('CK5', 0.0), ('STEAP4', 0.0), ('CD68', 0.0), ('E-Cadherin', 0.0), ('SMA (D)', 0.0), ('CD45(D)', 0.0), ('p63', 0.0), ('Pan-Cytokeratin', 0.0), ('HLA-DR', 0.0), ('Podoplanin', 0.0), ('Vimentin', 0.0), ('CD3e', 0.0), ('CD8', 0.0), ('CK7', 0.0), ('CD44', 0.0), ('Foxp3', 0.0), ('CD20', 0.0), ('Ki67', 0.0), ('AR', 0.0), ('AMACR', 0.0), ('CD31', 0.0)]\n",
      "2024-11-03 21:15:09,984 - num cells: 275188\n",
      "2024-11-03 21:17:35,221 - cell typing key is: fraction\n",
      "2024-11-03 21:17:35,224 - gating cells with the following markers: ['AMACR', 'AR', 'CD20', 'CD31', 'CD3e', 'CD44', 'CD45', 'CD4', 'CD68', 'CD8', 'CK14', 'CK5', 'CK7', 'DAPI', 'E-cadherin', 'FOXP3', 'HLA-DR', 'Ki67', 'Lyve-1', 'P63', 'Pan-Cytokeratin', 'Podoplanin', 'SMA', 'STEAP4', 'Vimentin']\n",
      "2024-11-03 21:17:35,458 - cells gated: [('Epithelial', 275179), ('CD4 T cell', 3), ('Unlabeled', 2), ('B cell', 2), ('Stroma', 1), ('Immune', 1)]\n",
      "/diskmnt/Projects/Users/estorrs/miniconda3/envs/imaging_analysis_v2/lib/python3.10/site-packages/anndata/_core/anndata.py:183: ImplicitModificationWarning: Transforming to str index.\n",
      "  warnings.warn(\"Transforming to str index.\", ImplicitModificationWarning)\n",
      "... storing 'cell_type' as categorical\n",
      "2024-11-03 21:18:02,106 - starting segmentation for /diskmnt/primary/CODEX/HTAN/20240812_Prostate_serial_HT913Z1-S2H1FP1-CODEX_1/HT913Z1-S2H1FP1_U41__20240812.ome.tiff\n",
      "2024-11-03 21:18:02,111 - Checking for cached data\n"
     ]
    },
    {
     "name": "stdout",
     "output_type": "stream",
     "text": [
      "HT913Z1-S2H1FP1_U41\n"
     ]
    },
    {
     "name": "stderr",
     "output_type": "stream",
     "text": [
      "2024-11-03 21:18:02,386 - Checking MultiplexSegmentation-9.tar.gz against provided file_hash...\n",
      "2024-11-03 21:18:02,387 - MultiplexSegmentation-9.tar.gz with hash a1dfbce2594f927b9112f23a0a1739e0 already available.\n",
      "2024-11-03 21:18:02,388 - Extracting /home/estorrs/.deepcell/models/MultiplexSegmentation-9.tar.gz\n",
      "2024-11-03 21:18:05,142 - Successfully extracted /home/estorrs/.deepcell/models/MultiplexSegmentation-9.tar.gz into /home/estorrs/.deepcell/models\n"
     ]
    },
    {
     "name": "stdout",
     "output_type": "stream",
     "text": [
      "WARNING:tensorflow:No training configuration found in save file, so the model was *not* compiled. Compile it manually.\n"
     ]
    },
    {
     "name": "stderr",
     "output_type": "stream",
     "text": [
      "2024-11-03 21:18:12,310 - No training configuration found in save file, so the model was *not* compiled. Compile it manually.\n",
      "/diskmnt/Projects/Users/estorrs/miniconda3/envs/imaging_analysis_v2/lib/python3.10/site-packages/deepcell_toolbox/deep_watershed.py:108: UserWarning: h_maxima peak finding algorithm was selected, but the provided image is larger than 5k x 5k pixels.This will lead to slow prediction performance.\n",
      "  warnings.warn('h_maxima peak finding algorithm was selected, '\n",
      "2024-11-03 21:55:03,832 - finished segmentation\n",
      "2024-11-03 21:55:03,837 - writing /diskmnt/Projects/Users/estorrs/imaging-analysis/results/serial_sections/HT913Z1/segmentation/HT913Z1-S2H1FP1_U41_nuclei_segmentation.tif\n",
      "2024-11-03 21:55:04,888 - writing /diskmnt/Projects/Users/estorrs/imaging-analysis/results/serial_sections/HT913Z1/segmentation/HT913Z1-S2H1FP1_U41_cell_segmentation.tif\n",
      "2024-11-03 21:55:08,347 - extracting /diskmnt/primary/CODEX/HTAN/20240812_Prostate_serial_HT913Z1-S2H1FP1-CODEX_1/HT913Z1-S2H1FP1_U41__20240812.ome.tiff\n",
      "2024-11-03 21:55:20,205 - extracting /diskmnt/Projects/Users/estorrs/imaging-analysis/results/serial_sections/HT913Z1/segmentation/HT913Z1-S2H1FP1_U41_cell_segmentation.tif\n",
      "2024-11-03 21:55:21,629 - thresholds detected: [('DAPI', 0.0), ('CK14', 0.0), ('LYVE1', 0.0), ('CD4', 0.0), ('CK5', 0.0), ('STEAP4', 0.0), ('CD68', 0.0), ('E-Cadherin', 0.0), ('SMA (D)', 0.0), ('CD45(D)', 0.0), ('p63', 0.0), ('Pan-Cytokeratin', 0.0), ('HLA-DR', 0.0), ('Podoplanin', 0.0), ('Vimentin', 0.0), ('CD3e', 0.0), ('CD8', 0.0), ('CK7', 0.0), ('CD44', 0.0), ('Foxp3', 0.0), ('CD20', 0.0), ('Ki67', 0.0), ('AR', 0.0), ('AMACR', 0.0), ('CD31', 0.0)]\n",
      "2024-11-03 21:55:36,388 - num cells: 268463\n",
      "2024-11-03 21:57:56,782 - cell typing key is: fraction\n",
      "2024-11-03 21:57:56,786 - gating cells with the following markers: ['AMACR', 'AR', 'CD20', 'CD31', 'CD3e', 'CD44', 'CD45', 'CD4', 'CD68', 'CD8', 'CK14', 'CK5', 'CK7', 'DAPI', 'E-cadherin', 'FOXP3', 'HLA-DR', 'Ki67', 'Lyve-1', 'P63', 'Pan-Cytokeratin', 'Podoplanin', 'SMA', 'STEAP4', 'Vimentin']\n",
      "2024-11-03 21:57:56,998 - cells gated: [('Epithelial', 268432), ('Unlabeled', 27), ('B cell', 2), ('Immune', 2)]\n",
      "/diskmnt/Projects/Users/estorrs/miniconda3/envs/imaging_analysis_v2/lib/python3.10/site-packages/anndata/_core/anndata.py:183: ImplicitModificationWarning: Transforming to str index.\n",
      "  warnings.warn(\"Transforming to str index.\", ImplicitModificationWarning)\n",
      "... storing 'cell_type' as categorical\n",
      "2024-11-03 21:58:23,067 - starting segmentation for /diskmnt/primary/CODEX/HTAN/20240812_Prostate_serial_HT913Z1-S2H1FP1-CODEX_2/HT913Z1-S2H1FP1_U51__20240812.ome.tiff\n",
      "2024-11-03 21:58:23,071 - Checking for cached data\n"
     ]
    },
    {
     "name": "stdout",
     "output_type": "stream",
     "text": [
      "HT913Z1-S2H1FP1_U51\n"
     ]
    },
    {
     "name": "stderr",
     "output_type": "stream",
     "text": [
      "2024-11-03 21:58:23,284 - Checking MultiplexSegmentation-9.tar.gz against provided file_hash...\n",
      "2024-11-03 21:58:23,285 - MultiplexSegmentation-9.tar.gz with hash a1dfbce2594f927b9112f23a0a1739e0 already available.\n",
      "2024-11-03 21:58:23,286 - Extracting /home/estorrs/.deepcell/models/MultiplexSegmentation-9.tar.gz\n",
      "2024-11-03 21:58:26,075 - Successfully extracted /home/estorrs/.deepcell/models/MultiplexSegmentation-9.tar.gz into /home/estorrs/.deepcell/models\n"
     ]
    },
    {
     "name": "stdout",
     "output_type": "stream",
     "text": [
      "WARNING:tensorflow:No training configuration found in save file, so the model was *not* compiled. Compile it manually.\n"
     ]
    },
    {
     "name": "stderr",
     "output_type": "stream",
     "text": [
      "2024-11-03 21:58:33,172 - No training configuration found in save file, so the model was *not* compiled. Compile it manually.\n",
      "/diskmnt/Projects/Users/estorrs/miniconda3/envs/imaging_analysis_v2/lib/python3.10/site-packages/deepcell_toolbox/deep_watershed.py:108: UserWarning: h_maxima peak finding algorithm was selected, but the provided image is larger than 5k x 5k pixels.This will lead to slow prediction performance.\n",
      "  warnings.warn('h_maxima peak finding algorithm was selected, '\n",
      "2024-11-03 22:35:18,162 - finished segmentation\n",
      "2024-11-03 22:35:18,168 - writing /diskmnt/Projects/Users/estorrs/imaging-analysis/results/serial_sections/HT913Z1/segmentation/HT913Z1-S2H1FP1_U51_nuclei_segmentation.tif\n",
      "2024-11-03 22:35:19,206 - writing /diskmnt/Projects/Users/estorrs/imaging-analysis/results/serial_sections/HT913Z1/segmentation/HT913Z1-S2H1FP1_U51_cell_segmentation.tif\n",
      "2024-11-03 22:35:20,668 - extracting /diskmnt/primary/CODEX/HTAN/20240812_Prostate_serial_HT913Z1-S2H1FP1-CODEX_2/HT913Z1-S2H1FP1_U51__20240812.ome.tiff\n",
      "2024-11-03 22:35:32,521 - extracting /diskmnt/Projects/Users/estorrs/imaging-analysis/results/serial_sections/HT913Z1/segmentation/HT913Z1-S2H1FP1_U51_cell_segmentation.tif\n",
      "2024-11-03 22:35:34,466 - thresholds detected: [('DAPI', 0.0), ('CK14', 0.0), ('LYVE1', 0.0), ('CD4', 0.0), ('CK5', 0.0), ('STEAP4', 0.0), ('CD68', 0.0), ('E-Cadherin', 0.0), ('SMA (D)', 0.0), ('CD45(D)', 0.0), ('p63', 0.0), ('Pan-Cytokeratin', 0.0), ('HLA-DR', 0.0), ('Podoplanin', 0.0), ('Vimentin', 0.0), ('CD3e', 0.0), ('CD8', 0.0), ('CK7', 0.0), ('CD44', 0.0), ('Foxp3', 0.0), ('CD20', 0.0), ('Ki67', 0.0), ('AR', 0.0), ('AMACR', 0.0), ('CD31', 0.0)]\n",
      "2024-11-03 22:35:50,387 - num cells: 264581\n",
      "2024-11-03 22:38:22,301 - cell typing key is: fraction\n",
      "2024-11-03 22:38:22,305 - gating cells with the following markers: ['AMACR', 'AR', 'CD20', 'CD31', 'CD3e', 'CD44', 'CD45', 'CD4', 'CD68', 'CD8', 'CK14', 'CK5', 'CK7', 'DAPI', 'E-cadherin', 'FOXP3', 'HLA-DR', 'Ki67', 'Lyve-1', 'P63', 'Pan-Cytokeratin', 'Podoplanin', 'SMA', 'STEAP4', 'Vimentin']\n",
      "2024-11-03 22:38:22,518 - cells gated: [('Epithelial', 264379), ('CD4 T cell', 111), ('B cell', 45), ('Immune', 35), ('Macrophage - M1', 8), ('Treg', 3)]\n",
      "/diskmnt/Projects/Users/estorrs/miniconda3/envs/imaging_analysis_v2/lib/python3.10/site-packages/anndata/_core/anndata.py:183: ImplicitModificationWarning: Transforming to str index.\n",
      "  warnings.warn(\"Transforming to str index.\", ImplicitModificationWarning)\n",
      "... storing 'cell_type' as categorical\n",
      "2024-11-03 22:38:49,204 - starting segmentation for /diskmnt/primary/CODEX/HTAN/20240812_Prostate_serial_HT913Z1-S2H1FP1-CODEX_2/HT913Z1-S2H1FP1_U52__20240812.ome.tiff\n",
      "2024-11-03 22:38:49,209 - Checking for cached data\n"
     ]
    },
    {
     "name": "stdout",
     "output_type": "stream",
     "text": [
      "HT913Z1-S2H1FP1_U52\n"
     ]
    },
    {
     "name": "stderr",
     "output_type": "stream",
     "text": [
      "2024-11-03 22:38:49,441 - Checking MultiplexSegmentation-9.tar.gz against provided file_hash...\n",
      "2024-11-03 22:38:49,442 - MultiplexSegmentation-9.tar.gz with hash a1dfbce2594f927b9112f23a0a1739e0 already available.\n",
      "2024-11-03 22:38:49,443 - Extracting /home/estorrs/.deepcell/models/MultiplexSegmentation-9.tar.gz\n",
      "2024-11-03 22:38:52,110 - Successfully extracted /home/estorrs/.deepcell/models/MultiplexSegmentation-9.tar.gz into /home/estorrs/.deepcell/models\n"
     ]
    },
    {
     "name": "stdout",
     "output_type": "stream",
     "text": [
      "WARNING:tensorflow:No training configuration found in save file, so the model was *not* compiled. Compile it manually.\n"
     ]
    },
    {
     "name": "stderr",
     "output_type": "stream",
     "text": [
      "2024-11-03 22:38:58,745 - No training configuration found in save file, so the model was *not* compiled. Compile it manually.\n",
      "/diskmnt/Projects/Users/estorrs/miniconda3/envs/imaging_analysis_v2/lib/python3.10/site-packages/deepcell_toolbox/deep_watershed.py:108: UserWarning: h_maxima peak finding algorithm was selected, but the provided image is larger than 5k x 5k pixels.This will lead to slow prediction performance.\n",
      "  warnings.warn('h_maxima peak finding algorithm was selected, '\n",
      "2024-11-03 23:14:16,233 - finished segmentation\n",
      "2024-11-03 23:14:16,239 - writing /diskmnt/Projects/Users/estorrs/imaging-analysis/results/serial_sections/HT913Z1/segmentation/HT913Z1-S2H1FP1_U52_nuclei_segmentation.tif\n",
      "2024-11-03 23:14:18,804 - writing /diskmnt/Projects/Users/estorrs/imaging-analysis/results/serial_sections/HT913Z1/segmentation/HT913Z1-S2H1FP1_U52_cell_segmentation.tif\n",
      "2024-11-03 23:14:20,843 - extracting /diskmnt/primary/CODEX/HTAN/20240812_Prostate_serial_HT913Z1-S2H1FP1-CODEX_2/HT913Z1-S2H1FP1_U52__20240812.ome.tiff\n",
      "2024-11-03 23:14:31,334 - extracting /diskmnt/Projects/Users/estorrs/imaging-analysis/results/serial_sections/HT913Z1/segmentation/HT913Z1-S2H1FP1_U52_cell_segmentation.tif\n",
      "2024-11-03 23:14:34,367 - thresholds detected: [('DAPI', 0.0), ('CK14', 0.0), ('LYVE1', 0.0), ('CD4', 0.0), ('CK5', 0.0), ('STEAP4', 0.0), ('CD68', 0.0), ('E-Cadherin', 0.0), ('SMA (D)', 0.0), ('CD45(D)', 0.0), ('p63', 0.0), ('Pan-Cytokeratin', 0.0), ('HLA-DR', 0.0), ('Podoplanin', 0.0), ('Vimentin', 0.0), ('CD3e', 0.0), ('CD8', 0.0), ('CK7', 0.0), ('CD44', 0.0), ('Foxp3', 0.0), ('CD20', 0.0), ('Ki67', 0.0), ('AR', 0.0), ('AMACR', 0.0), ('CD31', 0.0)]\n",
      "2024-11-03 23:14:49,380 - num cells: 261858\n",
      "2024-11-03 23:17:05,286 - cell typing key is: fraction\n",
      "2024-11-03 23:17:05,292 - gating cells with the following markers: ['AMACR', 'AR', 'CD20', 'CD31', 'CD3e', 'CD44', 'CD45', 'CD4', 'CD68', 'CD8', 'CK14', 'CK5', 'CK7', 'DAPI', 'E-cadherin', 'FOXP3', 'HLA-DR', 'Ki67', 'Lyve-1', 'P63', 'Pan-Cytokeratin', 'Podoplanin', 'SMA', 'STEAP4', 'Vimentin']\n",
      "2024-11-03 23:17:05,576 - cells gated: [('Epithelial', 261740), ('CD4 T cell', 64), ('Treg', 21), ('B cell', 17), ('Immune', 10), ('Unlabeled', 5), ('Macrophage - M1', 1)]\n",
      "/diskmnt/Projects/Users/estorrs/miniconda3/envs/imaging_analysis_v2/lib/python3.10/site-packages/anndata/_core/anndata.py:183: ImplicitModificationWarning: Transforming to str index.\n",
      "  warnings.warn(\"Transforming to str index.\", ImplicitModificationWarning)\n",
      "... storing 'cell_type' as categorical\n",
      "2024-11-03 23:17:32,785 - starting segmentation for /diskmnt/primary/CODEX/HTAN/20240812_Prostate_serial_HT913Z1-S2H1FP1-CODEX_2/HT913Z1-S2H1FP1_U53__20240812.ome.tiff\n",
      "2024-11-03 23:17:32,792 - Checking for cached data\n"
     ]
    },
    {
     "name": "stdout",
     "output_type": "stream",
     "text": [
      "HT913Z1-S2H1FP1_U53\n"
     ]
    },
    {
     "name": "stderr",
     "output_type": "stream",
     "text": [
      "2024-11-03 23:17:33,034 - Checking MultiplexSegmentation-9.tar.gz against provided file_hash...\n",
      "2024-11-03 23:17:33,035 - MultiplexSegmentation-9.tar.gz with hash a1dfbce2594f927b9112f23a0a1739e0 already available.\n",
      "2024-11-03 23:17:33,036 - Extracting /home/estorrs/.deepcell/models/MultiplexSegmentation-9.tar.gz\n",
      "2024-11-03 23:17:35,838 - Successfully extracted /home/estorrs/.deepcell/models/MultiplexSegmentation-9.tar.gz into /home/estorrs/.deepcell/models\n"
     ]
    },
    {
     "name": "stdout",
     "output_type": "stream",
     "text": [
      "WARNING:tensorflow:No training configuration found in save file, so the model was *not* compiled. Compile it manually.\n"
     ]
    },
    {
     "name": "stderr",
     "output_type": "stream",
     "text": [
      "2024-11-03 23:17:43,219 - No training configuration found in save file, so the model was *not* compiled. Compile it manually.\n",
      "/diskmnt/Projects/Users/estorrs/miniconda3/envs/imaging_analysis_v2/lib/python3.10/site-packages/deepcell_toolbox/deep_watershed.py:108: UserWarning: h_maxima peak finding algorithm was selected, but the provided image is larger than 5k x 5k pixels.This will lead to slow prediction performance.\n",
      "  warnings.warn('h_maxima peak finding algorithm was selected, '\n",
      "2024-11-03 23:54:09,533 - finished segmentation\n",
      "2024-11-03 23:54:09,537 - writing /diskmnt/Projects/Users/estorrs/imaging-analysis/results/serial_sections/HT913Z1/segmentation/HT913Z1-S2H1FP1_U53_nuclei_segmentation.tif\n",
      "2024-11-03 23:54:11,020 - writing /diskmnt/Projects/Users/estorrs/imaging-analysis/results/serial_sections/HT913Z1/segmentation/HT913Z1-S2H1FP1_U53_cell_segmentation.tif\n",
      "2024-11-03 23:54:14,811 - extracting /diskmnt/primary/CODEX/HTAN/20240812_Prostate_serial_HT913Z1-S2H1FP1-CODEX_2/HT913Z1-S2H1FP1_U53__20240812.ome.tiff\n",
      "2024-11-03 23:54:26,733 - extracting /diskmnt/Projects/Users/estorrs/imaging-analysis/results/serial_sections/HT913Z1/segmentation/HT913Z1-S2H1FP1_U53_cell_segmentation.tif\n",
      "2024-11-03 23:54:29,539 - thresholds detected: [('DAPI', 0.0), ('CK14', 0.0), ('LYVE1', 0.0), ('CD4', 0.0), ('CK5', 0.0), ('STEAP4', 0.0), ('CD68', 0.0), ('E-Cadherin', 0.0), ('SMA (D)', 0.0), ('CD45(D)', 0.0), ('p63', 0.0), ('Pan-Cytokeratin', 0.0), ('HLA-DR', 0.0), ('Podoplanin', 0.0), ('Vimentin', 0.0), ('CD3e', 0.0), ('CD8', 0.0), ('CK7', 0.0), ('CD44', 0.0), ('Foxp3', 0.0), ('CD20', 0.0), ('Ki67', 0.0), ('AR', 0.0), ('AMACR', 0.0), ('CD31', 0.0)]\n",
      "2024-11-03 23:54:46,051 - num cells: 261167\n",
      "2024-11-03 23:57:07,250 - cell typing key is: fraction\n",
      "2024-11-03 23:57:07,254 - gating cells with the following markers: ['AMACR', 'AR', 'CD20', 'CD31', 'CD3e', 'CD44', 'CD45', 'CD4', 'CD68', 'CD8', 'CK14', 'CK5', 'CK7', 'DAPI', 'E-cadherin', 'FOXP3', 'HLA-DR', 'Ki67', 'Lyve-1', 'P63', 'Pan-Cytokeratin', 'Podoplanin', 'SMA', 'STEAP4', 'Vimentin']\n",
      "2024-11-03 23:57:07,471 - cells gated: [('Epithelial', 261156), ('CD4 T cell', 7), ('Unlabeled', 2), ('B cell', 2)]\n",
      "/diskmnt/Projects/Users/estorrs/miniconda3/envs/imaging_analysis_v2/lib/python3.10/site-packages/anndata/_core/anndata.py:183: ImplicitModificationWarning: Transforming to str index.\n",
      "  warnings.warn(\"Transforming to str index.\", ImplicitModificationWarning)\n",
      "... storing 'cell_type' as categorical\n",
      "2024-11-03 23:57:34,276 - starting segmentation for /diskmnt/primary/CODEX/HTAN/20240812_Prostate_serial_HT913Z1-S2H1FP1-CODEX_2/HT913Z1-S2H1FP1_U54__20240812.ome.tiff\n",
      "2024-11-03 23:57:34,286 - Checking for cached data\n"
     ]
    },
    {
     "name": "stdout",
     "output_type": "stream",
     "text": [
      "HT913Z1-S2H1FP1_U54\n"
     ]
    },
    {
     "name": "stderr",
     "output_type": "stream",
     "text": [
      "2024-11-03 23:57:34,535 - Checking MultiplexSegmentation-9.tar.gz against provided file_hash...\n",
      "2024-11-03 23:57:34,536 - MultiplexSegmentation-9.tar.gz with hash a1dfbce2594f927b9112f23a0a1739e0 already available.\n",
      "2024-11-03 23:57:34,537 - Extracting /home/estorrs/.deepcell/models/MultiplexSegmentation-9.tar.gz\n",
      "2024-11-03 23:57:37,414 - Successfully extracted /home/estorrs/.deepcell/models/MultiplexSegmentation-9.tar.gz into /home/estorrs/.deepcell/models\n"
     ]
    },
    {
     "name": "stdout",
     "output_type": "stream",
     "text": [
      "WARNING:tensorflow:No training configuration found in save file, so the model was *not* compiled. Compile it manually.\n"
     ]
    },
    {
     "name": "stderr",
     "output_type": "stream",
     "text": [
      "2024-11-03 23:57:44,242 - No training configuration found in save file, so the model was *not* compiled. Compile it manually.\n",
      "/diskmnt/Projects/Users/estorrs/miniconda3/envs/imaging_analysis_v2/lib/python3.10/site-packages/deepcell_toolbox/deep_watershed.py:108: UserWarning: h_maxima peak finding algorithm was selected, but the provided image is larger than 5k x 5k pixels.This will lead to slow prediction performance.\n",
      "  warnings.warn('h_maxima peak finding algorithm was selected, '\n",
      "2024-11-04 00:33:22,055 - finished segmentation\n",
      "2024-11-04 00:33:22,059 - writing /diskmnt/Projects/Users/estorrs/imaging-analysis/results/serial_sections/HT913Z1/segmentation/HT913Z1-S2H1FP1_U54_nuclei_segmentation.tif\n",
      "2024-11-04 00:33:24,399 - writing /diskmnt/Projects/Users/estorrs/imaging-analysis/results/serial_sections/HT913Z1/segmentation/HT913Z1-S2H1FP1_U54_cell_segmentation.tif\n",
      "2024-11-04 00:33:25,768 - extracting /diskmnt/primary/CODEX/HTAN/20240812_Prostate_serial_HT913Z1-S2H1FP1-CODEX_2/HT913Z1-S2H1FP1_U54__20240812.ome.tiff\n",
      "2024-11-04 00:33:36,255 - extracting /diskmnt/Projects/Users/estorrs/imaging-analysis/results/serial_sections/HT913Z1/segmentation/HT913Z1-S2H1FP1_U54_cell_segmentation.tif\n",
      "2024-11-04 00:33:37,673 - thresholds detected: [('DAPI', 0.0), ('CK14', 0.0), ('LYVE1', 0.0), ('CD4', 0.0), ('CK5', 0.0), ('STEAP4', 0.0), ('CD68', 0.0), ('E-Cadherin', 0.0), ('SMA (D)', 0.0), ('CD45(D)', 0.0), ('p63', 0.0), ('Pan-Cytokeratin', 0.0), ('HLA-DR', 0.0), ('Podoplanin', 0.0), ('Vimentin', 0.0), ('CD3e', 0.0), ('CD8', 0.0), ('CK7', 0.0), ('CD44', 0.0), ('Foxp3', 0.0), ('CD20', 0.0), ('Ki67', 0.0), ('AR', 0.0), ('AMACR', 0.0), ('CD31', 0.0)]\n",
      "2024-11-04 00:33:51,653 - num cells: 260651\n",
      "2024-11-04 00:36:08,670 - cell typing key is: fraction\n",
      "2024-11-04 00:36:08,675 - gating cells with the following markers: ['AMACR', 'AR', 'CD20', 'CD31', 'CD3e', 'CD44', 'CD45', 'CD4', 'CD68', 'CD8', 'CK14', 'CK5', 'CK7', 'DAPI', 'E-cadherin', 'FOXP3', 'HLA-DR', 'Ki67', 'Lyve-1', 'P63', 'Pan-Cytokeratin', 'Podoplanin', 'SMA', 'STEAP4', 'Vimentin']\n",
      "2024-11-04 00:36:08,905 - cells gated: [('Epithelial', 260609), ('CD4 T cell', 16), ('Unlabeled', 12), ('Immune', 8), ('B cell', 5), ('Treg', 1)]\n",
      "/diskmnt/Projects/Users/estorrs/miniconda3/envs/imaging_analysis_v2/lib/python3.10/site-packages/anndata/_core/anndata.py:183: ImplicitModificationWarning: Transforming to str index.\n",
      "  warnings.warn(\"Transforming to str index.\", ImplicitModificationWarning)\n",
      "... storing 'cell_type' as categorical\n",
      "2024-11-04 00:36:34,724 - starting segmentation for /diskmnt/primary/CODEX/HTAN/20240812_Prostate_serial_HT913Z1-S2H1FP1-CODEX_3/HT913Z1-S2H1FP1_U62__20240812.ome.tiff\n",
      "2024-11-04 00:36:34,729 - Checking for cached data\n"
     ]
    },
    {
     "name": "stdout",
     "output_type": "stream",
     "text": [
      "HT913Z1-S2H1FP1_U62\n"
     ]
    },
    {
     "name": "stderr",
     "output_type": "stream",
     "text": [
      "2024-11-04 00:36:34,966 - Checking MultiplexSegmentation-9.tar.gz against provided file_hash...\n",
      "2024-11-04 00:36:34,967 - MultiplexSegmentation-9.tar.gz with hash a1dfbce2594f927b9112f23a0a1739e0 already available.\n",
      "2024-11-04 00:36:34,968 - Extracting /home/estorrs/.deepcell/models/MultiplexSegmentation-9.tar.gz\n",
      "2024-11-04 00:36:38,122 - Successfully extracted /home/estorrs/.deepcell/models/MultiplexSegmentation-9.tar.gz into /home/estorrs/.deepcell/models\n"
     ]
    },
    {
     "name": "stdout",
     "output_type": "stream",
     "text": [
      "WARNING:tensorflow:No training configuration found in save file, so the model was *not* compiled. Compile it manually.\n"
     ]
    },
    {
     "name": "stderr",
     "output_type": "stream",
     "text": [
      "2024-11-04 00:36:45,222 - No training configuration found in save file, so the model was *not* compiled. Compile it manually.\n",
      "/diskmnt/Projects/Users/estorrs/miniconda3/envs/imaging_analysis_v2/lib/python3.10/site-packages/deepcell_toolbox/deep_watershed.py:108: UserWarning: h_maxima peak finding algorithm was selected, but the provided image is larger than 5k x 5k pixels.This will lead to slow prediction performance.\n",
      "  warnings.warn('h_maxima peak finding algorithm was selected, '\n",
      "2024-11-04 01:13:03,447 - finished segmentation\n",
      "2024-11-04 01:13:03,452 - writing /diskmnt/Projects/Users/estorrs/imaging-analysis/results/serial_sections/HT913Z1/segmentation/HT913Z1-S2H1FP1_U62_nuclei_segmentation.tif\n",
      "2024-11-04 01:13:04,501 - writing /diskmnt/Projects/Users/estorrs/imaging-analysis/results/serial_sections/HT913Z1/segmentation/HT913Z1-S2H1FP1_U62_cell_segmentation.tif\n",
      "2024-11-04 01:13:05,973 - extracting /diskmnt/primary/CODEX/HTAN/20240812_Prostate_serial_HT913Z1-S2H1FP1-CODEX_3/HT913Z1-S2H1FP1_U62__20240812.ome.tiff\n",
      "2024-11-04 01:13:17,256 - extracting /diskmnt/Projects/Users/estorrs/imaging-analysis/results/serial_sections/HT913Z1/segmentation/HT913Z1-S2H1FP1_U62_cell_segmentation.tif\n",
      "2024-11-04 01:13:18,633 - thresholds detected: [('DAPI', 0.0), ('CK14', 0.0), ('LYVE1', 0.0), ('CD4', 0.0), ('CK5', 0.0), ('STEAP4', 0.0), ('CD68', 0.0), ('E-Cadherin', 0.0), ('SMA (D)', 0.0), ('CD45(D)', 0.0), ('p63', 0.0), ('Pan-Cytokeratin', 0.0), ('HLA-DR', 0.0), ('Podoplanin', 0.0), ('Vimentin', 0.0), ('CD3e', 0.0), ('CD8', 0.0), ('CK7', 0.0), ('CD44', 0.0), ('Foxp3', 0.0), ('CD20', 0.0), ('Ki67', 0.0), ('AR', 0.0), ('AMACR', 0.0), ('CD31', 0.0)]\n",
      "2024-11-04 01:13:33,006 - num cells: 255293\n",
      "2024-11-04 01:15:46,360 - cell typing key is: fraction\n",
      "2024-11-04 01:15:46,364 - gating cells with the following markers: ['AMACR', 'AR', 'CD20', 'CD31', 'CD3e', 'CD44', 'CD45', 'CD4', 'CD68', 'CD8', 'CK14', 'CK5', 'CK7', 'DAPI', 'E-cadherin', 'FOXP3', 'HLA-DR', 'Ki67', 'Lyve-1', 'P63', 'Pan-Cytokeratin', 'Podoplanin', 'SMA', 'STEAP4', 'Vimentin']\n",
      "2024-11-04 01:15:46,573 - cells gated: [('Epithelial', 255290), ('Unlabeled', 3)]\n",
      "/diskmnt/Projects/Users/estorrs/miniconda3/envs/imaging_analysis_v2/lib/python3.10/site-packages/anndata/_core/anndata.py:183: ImplicitModificationWarning: Transforming to str index.\n",
      "  warnings.warn(\"Transforming to str index.\", ImplicitModificationWarning)\n",
      "... storing 'cell_type' as categorical\n",
      "2024-11-04 01:16:12,402 - starting segmentation for /diskmnt/primary/CODEX/HTAN/20240812_Prostate_serial_HT913Z1-S2H1FP1-CODEX_3/HT913Z1-S2H1FP1_U71__20240812.ome.tiff\n",
      "2024-11-04 01:16:12,407 - Checking for cached data\n"
     ]
    },
    {
     "name": "stdout",
     "output_type": "stream",
     "text": [
      "HT913Z1-S2H1FP1_U71\n"
     ]
    },
    {
     "name": "stderr",
     "output_type": "stream",
     "text": [
      "2024-11-04 01:16:12,645 - Checking MultiplexSegmentation-9.tar.gz against provided file_hash...\n",
      "2024-11-04 01:16:12,646 - MultiplexSegmentation-9.tar.gz with hash a1dfbce2594f927b9112f23a0a1739e0 already available.\n",
      "2024-11-04 01:16:12,646 - Extracting /home/estorrs/.deepcell/models/MultiplexSegmentation-9.tar.gz\n",
      "2024-11-04 01:16:15,430 - Successfully extracted /home/estorrs/.deepcell/models/MultiplexSegmentation-9.tar.gz into /home/estorrs/.deepcell/models\n"
     ]
    },
    {
     "name": "stdout",
     "output_type": "stream",
     "text": [
      "WARNING:tensorflow:No training configuration found in save file, so the model was *not* compiled. Compile it manually.\n"
     ]
    },
    {
     "name": "stderr",
     "output_type": "stream",
     "text": [
      "2024-11-04 01:16:22,066 - No training configuration found in save file, so the model was *not* compiled. Compile it manually.\n",
      "/diskmnt/Projects/Users/estorrs/miniconda3/envs/imaging_analysis_v2/lib/python3.10/site-packages/deepcell_toolbox/deep_watershed.py:108: UserWarning: h_maxima peak finding algorithm was selected, but the provided image is larger than 5k x 5k pixels.This will lead to slow prediction performance.\n",
      "  warnings.warn('h_maxima peak finding algorithm was selected, '\n",
      "2024-11-04 01:50:36,539 - finished segmentation\n",
      "2024-11-04 01:50:36,543 - writing /diskmnt/Projects/Users/estorrs/imaging-analysis/results/serial_sections/HT913Z1/segmentation/HT913Z1-S2H1FP1_U71_nuclei_segmentation.tif\n",
      "2024-11-04 01:50:37,534 - writing /diskmnt/Projects/Users/estorrs/imaging-analysis/results/serial_sections/HT913Z1/segmentation/HT913Z1-S2H1FP1_U71_cell_segmentation.tif\n",
      "2024-11-04 01:50:38,925 - extracting /diskmnt/primary/CODEX/HTAN/20240812_Prostate_serial_HT913Z1-S2H1FP1-CODEX_3/HT913Z1-S2H1FP1_U71__20240812.ome.tiff\n",
      "2024-11-04 01:50:48,334 - extracting /diskmnt/Projects/Users/estorrs/imaging-analysis/results/serial_sections/HT913Z1/segmentation/HT913Z1-S2H1FP1_U71_cell_segmentation.tif\n",
      "2024-11-04 01:50:49,793 - thresholds detected: [('DAPI', 0.0), ('CK14', 0.0), ('LYVE1', 0.0), ('CD4', 0.0), ('CK5', 0.0), ('STEAP4', 0.0), ('CD68', 0.0), ('E-Cadherin', 0.0), ('SMA (D)', 0.0), ('CD45(D)', 0.0), ('p63', 0.0), ('Pan-Cytokeratin', 0.0), ('HLA-DR', 0.0), ('Podoplanin', 0.0), ('Vimentin', 0.0), ('CD3e', 0.0), ('CD8', 0.0), ('CK7', 0.0), ('CD44', 0.0), ('Foxp3', 0.0), ('CD20', 0.0), ('Ki67', 0.0), ('AR', 0.0), ('AMACR', 0.0), ('CD31', 0.0)]\n",
      "2024-11-04 01:51:04,470 - num cells: 248081\n",
      "2024-11-04 01:53:17,928 - cell typing key is: fraction\n",
      "2024-11-04 01:53:17,931 - gating cells with the following markers: ['AMACR', 'AR', 'CD20', 'CD31', 'CD3e', 'CD44', 'CD45', 'CD4', 'CD68', 'CD8', 'CK14', 'CK5', 'CK7', 'DAPI', 'E-cadherin', 'FOXP3', 'HLA-DR', 'Ki67', 'Lyve-1', 'P63', 'Pan-Cytokeratin', 'Podoplanin', 'SMA', 'STEAP4', 'Vimentin']\n",
      "2024-11-04 01:53:18,135 - cells gated: [('Epithelial', 248053), ('Immune', 25), ('Unlabeled', 3)]\n",
      "/diskmnt/Projects/Users/estorrs/miniconda3/envs/imaging_analysis_v2/lib/python3.10/site-packages/anndata/_core/anndata.py:183: ImplicitModificationWarning: Transforming to str index.\n",
      "  warnings.warn(\"Transforming to str index.\", ImplicitModificationWarning)\n",
      "... storing 'cell_type' as categorical\n",
      "2024-11-04 01:53:43,204 - starting segmentation for /diskmnt/primary/CODEX/HTAN/20240812_Prostate_serial_HT913Z1-S2H1FP1-CODEX_3/HT913Z1-S2H1FP1_U82__20240812.ome.tiff\n",
      "2024-11-04 01:53:43,209 - Checking for cached data\n"
     ]
    },
    {
     "name": "stdout",
     "output_type": "stream",
     "text": [
      "HT913Z1-S2H1FP1_U82\n"
     ]
    },
    {
     "name": "stderr",
     "output_type": "stream",
     "text": [
      "2024-11-04 01:53:43,460 - Checking MultiplexSegmentation-9.tar.gz against provided file_hash...\n",
      "2024-11-04 01:53:43,461 - MultiplexSegmentation-9.tar.gz with hash a1dfbce2594f927b9112f23a0a1739e0 already available.\n",
      "2024-11-04 01:53:43,462 - Extracting /home/estorrs/.deepcell/models/MultiplexSegmentation-9.tar.gz\n",
      "2024-11-04 01:53:46,339 - Successfully extracted /home/estorrs/.deepcell/models/MultiplexSegmentation-9.tar.gz into /home/estorrs/.deepcell/models\n"
     ]
    },
    {
     "name": "stdout",
     "output_type": "stream",
     "text": [
      "WARNING:tensorflow:No training configuration found in save file, so the model was *not* compiled. Compile it manually.\n"
     ]
    },
    {
     "name": "stderr",
     "output_type": "stream",
     "text": [
      "2024-11-04 01:53:53,028 - No training configuration found in save file, so the model was *not* compiled. Compile it manually.\n",
      "/diskmnt/Projects/Users/estorrs/miniconda3/envs/imaging_analysis_v2/lib/python3.10/site-packages/deepcell_toolbox/deep_watershed.py:108: UserWarning: h_maxima peak finding algorithm was selected, but the provided image is larger than 5k x 5k pixels.This will lead to slow prediction performance.\n",
      "  warnings.warn('h_maxima peak finding algorithm was selected, '\n",
      "2024-11-04 02:26:25,915 - finished segmentation\n",
      "2024-11-04 02:26:25,922 - writing /diskmnt/Projects/Users/estorrs/imaging-analysis/results/serial_sections/HT913Z1/segmentation/HT913Z1-S2H1FP1_U82_nuclei_segmentation.tif\n",
      "2024-11-04 02:26:26,850 - writing /diskmnt/Projects/Users/estorrs/imaging-analysis/results/serial_sections/HT913Z1/segmentation/HT913Z1-S2H1FP1_U82_cell_segmentation.tif\n",
      "2024-11-04 02:26:28,099 - extracting /diskmnt/primary/CODEX/HTAN/20240812_Prostate_serial_HT913Z1-S2H1FP1-CODEX_3/HT913Z1-S2H1FP1_U82__20240812.ome.tiff\n",
      "2024-11-04 02:26:37,049 - extracting /diskmnt/Projects/Users/estorrs/imaging-analysis/results/serial_sections/HT913Z1/segmentation/HT913Z1-S2H1FP1_U82_cell_segmentation.tif\n",
      "2024-11-04 02:26:38,416 - thresholds detected: [('DAPI', 0.0), ('CK14', 0.0), ('LYVE1', 0.0), ('CD4', 0.0), ('CK5', 0.0), ('STEAP4', 0.0), ('CD68', 0.0), ('E-Cadherin', 0.0), ('SMA (D)', 0.0), ('CD45(D)', 0.0), ('p63', 0.0), ('Pan-Cytokeratin', 0.0), ('HLA-DR', 0.0), ('Podoplanin', 0.0), ('Vimentin', 0.0), ('CD3e', 0.0), ('CD8', 0.0), ('CK7', 0.0), ('CD44', 0.0), ('Foxp3', 0.0), ('CD20', 0.0), ('Ki67', 0.0), ('AR', 0.0), ('AMACR', 0.0), ('CD31', 0.0)]\n",
      "2024-11-04 02:26:54,420 - num cells: 233875\n",
      "2024-11-04 02:29:03,673 - cell typing key is: fraction\n",
      "2024-11-04 02:29:03,681 - gating cells with the following markers: ['AMACR', 'AR', 'CD20', 'CD31', 'CD3e', 'CD44', 'CD45', 'CD4', 'CD68', 'CD8', 'CK14', 'CK5', 'CK7', 'DAPI', 'E-cadherin', 'FOXP3', 'HLA-DR', 'Ki67', 'Lyve-1', 'P63', 'Pan-Cytokeratin', 'Podoplanin', 'SMA', 'STEAP4', 'Vimentin']\n",
      "2024-11-04 02:29:03,864 - cells gated: [('Epithelial', 233872), ('CD4 T cell', 2), ('Unlabeled', 1)]\n",
      "/diskmnt/Projects/Users/estorrs/miniconda3/envs/imaging_analysis_v2/lib/python3.10/site-packages/anndata/_core/anndata.py:183: ImplicitModificationWarning: Transforming to str index.\n",
      "  warnings.warn(\"Transforming to str index.\", ImplicitModificationWarning)\n",
      "... storing 'cell_type' as categorical\n",
      "2024-11-04 02:29:27,319 - starting segmentation for /diskmnt/primary/CODEX/HTAN/20240812_Prostate_serial_HT913Z1-S2H1FP1-CODEX_3/HT913Z1-S2H1FP1_U91__20240812.ome.tiff\n",
      "2024-11-04 02:29:27,325 - Checking for cached data\n"
     ]
    },
    {
     "name": "stdout",
     "output_type": "stream",
     "text": [
      "HT913Z1-S2H1FP1_U91\n"
     ]
    },
    {
     "name": "stderr",
     "output_type": "stream",
     "text": [
      "2024-11-04 02:29:27,597 - Checking MultiplexSegmentation-9.tar.gz against provided file_hash...\n",
      "2024-11-04 02:29:27,598 - MultiplexSegmentation-9.tar.gz with hash a1dfbce2594f927b9112f23a0a1739e0 already available.\n",
      "2024-11-04 02:29:27,599 - Extracting /home/estorrs/.deepcell/models/MultiplexSegmentation-9.tar.gz\n",
      "2024-11-04 02:29:30,320 - Successfully extracted /home/estorrs/.deepcell/models/MultiplexSegmentation-9.tar.gz into /home/estorrs/.deepcell/models\n"
     ]
    },
    {
     "name": "stdout",
     "output_type": "stream",
     "text": [
      "WARNING:tensorflow:No training configuration found in save file, so the model was *not* compiled. Compile it manually.\n"
     ]
    },
    {
     "name": "stderr",
     "output_type": "stream",
     "text": [
      "2024-11-04 02:29:37,592 - No training configuration found in save file, so the model was *not* compiled. Compile it manually.\n",
      "/diskmnt/Projects/Users/estorrs/miniconda3/envs/imaging_analysis_v2/lib/python3.10/site-packages/deepcell_toolbox/deep_watershed.py:108: UserWarning: h_maxima peak finding algorithm was selected, but the provided image is larger than 5k x 5k pixels.This will lead to slow prediction performance.\n",
      "  warnings.warn('h_maxima peak finding algorithm was selected, '\n",
      "2024-11-04 03:00:24,875 - finished segmentation\n",
      "2024-11-04 03:00:24,877 - writing /diskmnt/Projects/Users/estorrs/imaging-analysis/results/serial_sections/HT913Z1/segmentation/HT913Z1-S2H1FP1_U91_nuclei_segmentation.tif\n",
      "2024-11-04 03:00:25,738 - writing /diskmnt/Projects/Users/estorrs/imaging-analysis/results/serial_sections/HT913Z1/segmentation/HT913Z1-S2H1FP1_U91_cell_segmentation.tif\n",
      "2024-11-04 03:00:28,434 - extracting /diskmnt/primary/CODEX/HTAN/20240812_Prostate_serial_HT913Z1-S2H1FP1-CODEX_3/HT913Z1-S2H1FP1_U91__20240812.ome.tiff\n",
      "2024-11-04 03:00:37,209 - extracting /diskmnt/Projects/Users/estorrs/imaging-analysis/results/serial_sections/HT913Z1/segmentation/HT913Z1-S2H1FP1_U91_cell_segmentation.tif\n",
      "2024-11-04 03:00:38,197 - thresholds detected: [('DAPI', 0.0), ('CK14', 0.0), ('LYVE1', 0.0), ('CD4', 0.0), ('CK5', 0.0), ('STEAP4', 0.0), ('CD68', 0.0), ('E-Cadherin', 0.0), ('SMA (D)', 0.0), ('CD45(D)', 0.0), ('p63', 0.0), ('Pan-Cytokeratin', 0.0), ('HLA-DR', 0.0), ('Podoplanin', 0.0), ('Vimentin', 0.0), ('CD3e', 0.0), ('CD8', 0.0), ('CK7', 0.0), ('CD44', 0.0), ('Foxp3', 0.0), ('CD20', 0.0), ('Ki67', 0.0), ('AR', 0.0), ('AMACR', 0.0), ('CD31', 0.0)]\n",
      "2024-11-04 03:00:52,102 - num cells: 214999\n",
      "2024-11-04 03:02:50,007 - cell typing key is: fraction\n",
      "2024-11-04 03:02:50,013 - gating cells with the following markers: ['AMACR', 'AR', 'CD20', 'CD31', 'CD3e', 'CD44', 'CD45', 'CD4', 'CD68', 'CD8', 'CK14', 'CK5', 'CK7', 'DAPI', 'E-cadherin', 'FOXP3', 'HLA-DR', 'Ki67', 'Lyve-1', 'P63', 'Pan-Cytokeratin', 'Podoplanin', 'SMA', 'STEAP4', 'Vimentin']\n",
      "2024-11-04 03:02:50,215 - cells gated: [('Epithelial', 214996), ('Immune', 1), ('Unlabeled', 1), ('B cell', 1)]\n",
      "/diskmnt/Projects/Users/estorrs/miniconda3/envs/imaging_analysis_v2/lib/python3.10/site-packages/anndata/_core/anndata.py:183: ImplicitModificationWarning: Transforming to str index.\n",
      "  warnings.warn(\"Transforming to str index.\", ImplicitModificationWarning)\n",
      "... storing 'cell_type' as categorical\n",
      "2024-11-04 03:03:11,833 - starting segmentation for /diskmnt/primary/CODEX/HTAN/20240812_Prostate_serial_HT913Z1-S2H1FP1-CODEX_4/HT913Z1-S2H1FP1_U102__20240812.ome.tiff\n",
      "2024-11-04 03:03:11,838 - Checking for cached data\n"
     ]
    },
    {
     "name": "stdout",
     "output_type": "stream",
     "text": [
      "HT913Z1-S2H1FP1_U102\n"
     ]
    },
    {
     "name": "stderr",
     "output_type": "stream",
     "text": [
      "2024-11-04 03:03:12,089 - Checking MultiplexSegmentation-9.tar.gz against provided file_hash...\n",
      "2024-11-04 03:03:12,090 - MultiplexSegmentation-9.tar.gz with hash a1dfbce2594f927b9112f23a0a1739e0 already available.\n",
      "2024-11-04 03:03:12,091 - Extracting /home/estorrs/.deepcell/models/MultiplexSegmentation-9.tar.gz\n",
      "2024-11-04 03:03:14,933 - Successfully extracted /home/estorrs/.deepcell/models/MultiplexSegmentation-9.tar.gz into /home/estorrs/.deepcell/models\n"
     ]
    },
    {
     "name": "stdout",
     "output_type": "stream",
     "text": [
      "WARNING:tensorflow:No training configuration found in save file, so the model was *not* compiled. Compile it manually.\n"
     ]
    },
    {
     "name": "stderr",
     "output_type": "stream",
     "text": [
      "2024-11-04 03:03:22,221 - No training configuration found in save file, so the model was *not* compiled. Compile it manually.\n",
      "/diskmnt/Projects/Users/estorrs/miniconda3/envs/imaging_analysis_v2/lib/python3.10/site-packages/deepcell_toolbox/deep_watershed.py:108: UserWarning: h_maxima peak finding algorithm was selected, but the provided image is larger than 5k x 5k pixels.This will lead to slow prediction performance.\n",
      "  warnings.warn('h_maxima peak finding algorithm was selected, '\n",
      "2024-11-04 03:30:36,612 - finished segmentation\n",
      "2024-11-04 03:30:36,622 - writing /diskmnt/Projects/Users/estorrs/imaging-analysis/results/serial_sections/HT913Z1/segmentation/HT913Z1-S2H1FP1_U102_nuclei_segmentation.tif\n",
      "2024-11-04 03:30:38,009 - writing /diskmnt/Projects/Users/estorrs/imaging-analysis/results/serial_sections/HT913Z1/segmentation/HT913Z1-S2H1FP1_U102_cell_segmentation.tif\n",
      "2024-11-04 03:30:39,167 - extracting /diskmnt/primary/CODEX/HTAN/20240812_Prostate_serial_HT913Z1-S2H1FP1-CODEX_4/HT913Z1-S2H1FP1_U102__20240812.ome.tiff\n",
      "2024-11-04 03:30:47,942 - extracting /diskmnt/Projects/Users/estorrs/imaging-analysis/results/serial_sections/HT913Z1/segmentation/HT913Z1-S2H1FP1_U102_cell_segmentation.tif\n",
      "2024-11-04 03:30:49,646 - thresholds detected: [('DAPI', 0.0), ('CK14', 0.0), ('LYVE1', 0.0), ('CD4', 0.0), ('CK5', 0.0), ('STEAP4', 0.0), ('CD68', 0.0), ('E-Cadherin', 0.0), ('SMA (D)', 0.0), ('CD45(D)', 0.0), ('p63', 0.0), ('Pan-Cytokeratin', 0.0), ('HLA-DR', 0.0), ('Podoplanin', 0.0), ('Vimentin', 0.0), ('CD3e', 0.0), ('CD8', 0.0), ('CK7', 0.0), ('CD44', 0.0), ('Foxp3', 0.0), ('CD20', 0.0), ('Ki67', 0.0), ('AR', 0.0), ('AMACR', 0.0), ('CD31', 0.0)]\n",
      "2024-11-04 03:31:01,783 - num cells: 184777\n",
      "2024-11-04 03:32:52,461 - cell typing key is: fraction\n",
      "2024-11-04 03:32:52,466 - gating cells with the following markers: ['AMACR', 'AR', 'CD20', 'CD31', 'CD3e', 'CD44', 'CD45', 'CD4', 'CD68', 'CD8', 'CK14', 'CK5', 'CK7', 'DAPI', 'E-cadherin', 'FOXP3', 'HLA-DR', 'Ki67', 'Lyve-1', 'P63', 'Pan-Cytokeratin', 'Podoplanin', 'SMA', 'STEAP4', 'Vimentin']\n",
      "2024-11-04 03:32:52,620 - cells gated: [('Epithelial', 184753), ('Unlabeled', 23), ('B cell', 1)]\n",
      "/diskmnt/Projects/Users/estorrs/miniconda3/envs/imaging_analysis_v2/lib/python3.10/site-packages/anndata/_core/anndata.py:183: ImplicitModificationWarning: Transforming to str index.\n",
      "  warnings.warn(\"Transforming to str index.\", ImplicitModificationWarning)\n",
      "... storing 'cell_type' as categorical\n",
      "2024-11-04 03:33:11,924 - starting segmentation for /diskmnt/primary/CODEX/HTAN/20240812_Prostate_serial_HT913Z1-S2H1FP1-CODEX_4/HT913Z1-S2H1FP1_U111__20240812.ome.tiff\n",
      "2024-11-04 03:33:11,930 - Checking for cached data\n"
     ]
    },
    {
     "name": "stdout",
     "output_type": "stream",
     "text": [
      "HT913Z1-S2H1FP1_U111\n"
     ]
    },
    {
     "name": "stderr",
     "output_type": "stream",
     "text": [
      "2024-11-04 03:33:12,177 - Checking MultiplexSegmentation-9.tar.gz against provided file_hash...\n",
      "2024-11-04 03:33:12,179 - MultiplexSegmentation-9.tar.gz with hash a1dfbce2594f927b9112f23a0a1739e0 already available.\n",
      "2024-11-04 03:33:12,179 - Extracting /home/estorrs/.deepcell/models/MultiplexSegmentation-9.tar.gz\n",
      "2024-11-04 03:33:15,017 - Successfully extracted /home/estorrs/.deepcell/models/MultiplexSegmentation-9.tar.gz into /home/estorrs/.deepcell/models\n"
     ]
    },
    {
     "name": "stdout",
     "output_type": "stream",
     "text": [
      "WARNING:tensorflow:No training configuration found in save file, so the model was *not* compiled. Compile it manually.\n"
     ]
    },
    {
     "name": "stderr",
     "output_type": "stream",
     "text": [
      "2024-11-04 03:33:23,289 - No training configuration found in save file, so the model was *not* compiled. Compile it manually.\n",
      "/diskmnt/Projects/Users/estorrs/miniconda3/envs/imaging_analysis_v2/lib/python3.10/site-packages/deepcell_toolbox/deep_watershed.py:108: UserWarning: h_maxima peak finding algorithm was selected, but the provided image is larger than 5k x 5k pixels.This will lead to slow prediction performance.\n",
      "  warnings.warn('h_maxima peak finding algorithm was selected, '\n",
      "2024-11-04 03:56:36,465 - finished segmentation\n",
      "2024-11-04 03:56:36,468 - writing /diskmnt/Projects/Users/estorrs/imaging-analysis/results/serial_sections/HT913Z1/segmentation/HT913Z1-S2H1FP1_U111_nuclei_segmentation.tif\n",
      "2024-11-04 03:56:37,239 - writing /diskmnt/Projects/Users/estorrs/imaging-analysis/results/serial_sections/HT913Z1/segmentation/HT913Z1-S2H1FP1_U111_cell_segmentation.tif\n",
      "2024-11-04 03:56:38,221 - extracting /diskmnt/primary/CODEX/HTAN/20240812_Prostate_serial_HT913Z1-S2H1FP1-CODEX_4/HT913Z1-S2H1FP1_U111__20240812.ome.tiff\n",
      "2024-11-04 03:56:46,185 - extracting /diskmnt/Projects/Users/estorrs/imaging-analysis/results/serial_sections/HT913Z1/segmentation/HT913Z1-S2H1FP1_U111_cell_segmentation.tif\n",
      "2024-11-04 03:56:47,345 - thresholds detected: [('DAPI', 0.0), ('CK14', 0.0), ('LYVE1', 0.0), ('CD4', 0.0), ('CK5', 0.0), ('STEAP4', 0.0), ('CD68', 0.0), ('E-Cadherin', 0.0), ('SMA (D)', 0.0), ('CD45(D)', 0.0), ('p63', 0.0), ('Pan-Cytokeratin', 0.0), ('HLA-DR', 0.0), ('Podoplanin', 0.0), ('Vimentin', 0.0), ('CD3e', 0.0), ('CD8', 0.0), ('CK7', 0.0), ('CD44', 0.0), ('Foxp3', 0.0), ('CD20', 0.0), ('Ki67', 0.0), ('AR', 0.0), ('AMACR', 0.0), ('CD31', 0.0)]\n",
      "2024-11-04 03:56:56,929 - num cells: 155827\n",
      "2024-11-04 03:58:28,521 - cell typing key is: fraction\n",
      "2024-11-04 03:58:28,526 - gating cells with the following markers: ['AMACR', 'AR', 'CD20', 'CD31', 'CD3e', 'CD44', 'CD45', 'CD4', 'CD68', 'CD8', 'CK14', 'CK5', 'CK7', 'DAPI', 'E-cadherin', 'FOXP3', 'HLA-DR', 'Ki67', 'Lyve-1', 'P63', 'Pan-Cytokeratin', 'Podoplanin', 'SMA', 'STEAP4', 'Vimentin']\n",
      "2024-11-04 03:58:28,666 - cells gated: [('Epithelial', 155799), ('Unlabeled', 18), ('B cell', 5), ('Immune', 4), ('Treg', 1)]\n",
      "/diskmnt/Projects/Users/estorrs/miniconda3/envs/imaging_analysis_v2/lib/python3.10/site-packages/anndata/_core/anndata.py:183: ImplicitModificationWarning: Transforming to str index.\n",
      "  warnings.warn(\"Transforming to str index.\", ImplicitModificationWarning)\n",
      "... storing 'cell_type' as categorical\n",
      "2024-11-04 03:58:45,335 - starting segmentation for /diskmnt/primary/CODEX/HTAN/20240812_Prostate_serial_HT913Z1-S2H1FP1-CODEX_4/HT913Z1-S2H1FP1_U121__20240812.ome.tiff\n",
      "2024-11-04 03:58:45,343 - Checking for cached data\n"
     ]
    },
    {
     "name": "stdout",
     "output_type": "stream",
     "text": [
      "HT913Z1-S2H1FP1_U121\n"
     ]
    },
    {
     "name": "stderr",
     "output_type": "stream",
     "text": [
      "2024-11-04 03:58:45,717 - Checking MultiplexSegmentation-9.tar.gz against provided file_hash...\n",
      "2024-11-04 03:58:45,718 - MultiplexSegmentation-9.tar.gz with hash a1dfbce2594f927b9112f23a0a1739e0 already available.\n",
      "2024-11-04 03:58:45,719 - Extracting /home/estorrs/.deepcell/models/MultiplexSegmentation-9.tar.gz\n",
      "2024-11-04 03:58:48,360 - Successfully extracted /home/estorrs/.deepcell/models/MultiplexSegmentation-9.tar.gz into /home/estorrs/.deepcell/models\n"
     ]
    },
    {
     "name": "stdout",
     "output_type": "stream",
     "text": [
      "WARNING:tensorflow:No training configuration found in save file, so the model was *not* compiled. Compile it manually.\n"
     ]
    },
    {
     "name": "stderr",
     "output_type": "stream",
     "text": [
      "2024-11-04 03:58:55,861 - No training configuration found in save file, so the model was *not* compiled. Compile it manually.\n",
      "/diskmnt/Projects/Users/estorrs/miniconda3/envs/imaging_analysis_v2/lib/python3.10/site-packages/deepcell_toolbox/deep_watershed.py:108: UserWarning: h_maxima peak finding algorithm was selected, but the provided image is larger than 5k x 5k pixels.This will lead to slow prediction performance.\n",
      "  warnings.warn('h_maxima peak finding algorithm was selected, '\n",
      "2024-11-04 04:15:48,765 - finished segmentation\n",
      "2024-11-04 04:15:48,771 - writing /diskmnt/Projects/Users/estorrs/imaging-analysis/results/serial_sections/HT913Z1/segmentation/HT913Z1-S2H1FP1_U121_nuclei_segmentation.tif\n",
      "2024-11-04 04:15:49,353 - writing /diskmnt/Projects/Users/estorrs/imaging-analysis/results/serial_sections/HT913Z1/segmentation/HT913Z1-S2H1FP1_U121_cell_segmentation.tif\n",
      "2024-11-04 04:15:50,141 - extracting /diskmnt/primary/CODEX/HTAN/20240812_Prostate_serial_HT913Z1-S2H1FP1-CODEX_4/HT913Z1-S2H1FP1_U121__20240812.ome.tiff\n",
      "2024-11-04 04:15:56,722 - extracting /diskmnt/Projects/Users/estorrs/imaging-analysis/results/serial_sections/HT913Z1/segmentation/HT913Z1-S2H1FP1_U121_cell_segmentation.tif\n",
      "2024-11-04 04:15:57,705 - thresholds detected: [('DAPI', 0.0), ('CK14', 0.0), ('LYVE1', 0.0), ('CD4', 0.0), ('CK5', 0.0), ('STEAP4', 0.0), ('CD68', 0.0), ('E-Cadherin', 0.0), ('SMA (D)', 0.0), ('CD45(D)', 0.0), ('p63', 0.0), ('Pan-Cytokeratin', 0.0), ('HLA-DR', 0.0), ('Podoplanin', 0.0), ('Vimentin', 0.0), ('CD3e', 0.0), ('CD8', 0.0), ('CK7', 0.0), ('CD44', 0.0), ('Foxp3', 0.0), ('CD20', 0.0), ('Ki67', 0.0), ('AR', 0.0), ('AMACR', 0.0), ('CD31', 0.0)]\n",
      "2024-11-04 04:16:05,894 - num cells: 124513\n",
      "2024-11-04 04:17:13,752 - cell typing key is: fraction\n",
      "2024-11-04 04:17:13,755 - gating cells with the following markers: ['AMACR', 'AR', 'CD20', 'CD31', 'CD3e', 'CD44', 'CD45', 'CD4', 'CD68', 'CD8', 'CK14', 'CK5', 'CK7', 'DAPI', 'E-cadherin', 'FOXP3', 'HLA-DR', 'Ki67', 'Lyve-1', 'P63', 'Pan-Cytokeratin', 'Podoplanin', 'SMA', 'STEAP4', 'Vimentin']\n",
      "2024-11-04 04:17:13,868 - cells gated: [('Epithelial', 124492), ('Unlabeled', 17), ('B cell', 4)]\n",
      "/diskmnt/Projects/Users/estorrs/miniconda3/envs/imaging_analysis_v2/lib/python3.10/site-packages/anndata/_core/anndata.py:183: ImplicitModificationWarning: Transforming to str index.\n",
      "  warnings.warn(\"Transforming to str index.\", ImplicitModificationWarning)\n",
      "... storing 'cell_type' as categorical\n",
      "2024-11-04 04:17:26,624 - starting segmentation for /diskmnt/primary/CODEX/HTAN/20240812_Prostate_serial_HT913Z1-S2H1FP1-CODEX_4/HT913Z1-S2H1FP1_U125__20240812.ome.tiff\n",
      "2024-11-04 04:17:26,630 - Checking for cached data\n"
     ]
    },
    {
     "name": "stdout",
     "output_type": "stream",
     "text": [
      "HT913Z1-S2H1FP1_U125\n"
     ]
    },
    {
     "name": "stderr",
     "output_type": "stream",
     "text": [
      "2024-11-04 04:17:26,863 - Checking MultiplexSegmentation-9.tar.gz against provided file_hash...\n",
      "2024-11-04 04:17:26,864 - MultiplexSegmentation-9.tar.gz with hash a1dfbce2594f927b9112f23a0a1739e0 already available.\n",
      "2024-11-04 04:17:26,865 - Extracting /home/estorrs/.deepcell/models/MultiplexSegmentation-9.tar.gz\n",
      "2024-11-04 04:17:29,735 - Successfully extracted /home/estorrs/.deepcell/models/MultiplexSegmentation-9.tar.gz into /home/estorrs/.deepcell/models\n"
     ]
    },
    {
     "name": "stdout",
     "output_type": "stream",
     "text": [
      "WARNING:tensorflow:No training configuration found in save file, so the model was *not* compiled. Compile it manually.\n"
     ]
    },
    {
     "name": "stderr",
     "output_type": "stream",
     "text": [
      "2024-11-04 04:17:36,847 - No training configuration found in save file, so the model was *not* compiled. Compile it manually.\n",
      "/diskmnt/Projects/Users/estorrs/miniconda3/envs/imaging_analysis_v2/lib/python3.10/site-packages/deepcell_toolbox/deep_watershed.py:108: UserWarning: h_maxima peak finding algorithm was selected, but the provided image is larger than 5k x 5k pixels.This will lead to slow prediction performance.\n",
      "  warnings.warn('h_maxima peak finding algorithm was selected, '\n",
      "2024-11-04 04:35:36,781 - finished segmentation\n",
      "2024-11-04 04:35:36,786 - writing /diskmnt/Projects/Users/estorrs/imaging-analysis/results/serial_sections/HT913Z1/segmentation/HT913Z1-S2H1FP1_U125_nuclei_segmentation.tif\n",
      "2024-11-04 04:35:37,363 - writing /diskmnt/Projects/Users/estorrs/imaging-analysis/results/serial_sections/HT913Z1/segmentation/HT913Z1-S2H1FP1_U125_cell_segmentation.tif\n",
      "2024-11-04 04:35:40,405 - extracting /diskmnt/primary/CODEX/HTAN/20240812_Prostate_serial_HT913Z1-S2H1FP1-CODEX_4/HT913Z1-S2H1FP1_U125__20240812.ome.tiff\n",
      "2024-11-04 04:35:45,915 - extracting /diskmnt/Projects/Users/estorrs/imaging-analysis/results/serial_sections/HT913Z1/segmentation/HT913Z1-S2H1FP1_U125_cell_segmentation.tif\n",
      "2024-11-04 04:35:47,366 - thresholds detected: [('DAPI', 0.0), ('CK14', 0.0), ('LYVE1', 0.0), ('CD4', 0.0), ('CK5', 0.0), ('STEAP4', 0.0), ('CD68', 0.0), ('E-Cadherin', 0.0), ('SMA (D)', 0.0), ('CD45(D)', 0.0), ('p63', 0.0), ('Pan-Cytokeratin', 0.0), ('HLA-DR', 0.0), ('Podoplanin', 0.0), ('Vimentin', 0.0), ('CD3e', 0.0), ('CD8', 0.0), ('CK7', 0.0), ('CD44', 0.0), ('Foxp3', 0.0), ('CD20', 0.0), ('Ki67', 0.0), ('AR', 0.0), ('AMACR', 0.0), ('CD31', 0.0)]\n",
      "2024-11-04 04:35:55,950 - num cells: 132019\n",
      "2024-11-04 04:37:05,166 - cell typing key is: fraction\n",
      "2024-11-04 04:37:05,170 - gating cells with the following markers: ['AMACR', 'AR', 'CD20', 'CD31', 'CD3e', 'CD44', 'CD45', 'CD4', 'CD68', 'CD8', 'CK14', 'CK5', 'CK7', 'DAPI', 'E-cadherin', 'FOXP3', 'HLA-DR', 'Ki67', 'Lyve-1', 'P63', 'Pan-Cytokeratin', 'Podoplanin', 'SMA', 'STEAP4', 'Vimentin']\n",
      "2024-11-04 04:37:05,306 - cells gated: [('Epithelial', 132015), ('B cell', 2), ('Endothelial', 2)]\n",
      "/diskmnt/Projects/Users/estorrs/miniconda3/envs/imaging_analysis_v2/lib/python3.10/site-packages/anndata/_core/anndata.py:183: ImplicitModificationWarning: Transforming to str index.\n",
      "  warnings.warn(\"Transforming to str index.\", ImplicitModificationWarning)\n",
      "... storing 'cell_type' as categorical\n"
     ]
    }
   ],
   "source": [
    "nuclei_channels = ['DAPI']\n",
    "# membrane_channels = ['Pan-Cytokeratin', 'HLA-DR', 'SMA (D)', 'CD45 (D)', 'CD31', 'E-cadherin', 'CD68', 'CD3e', 'Vimentin']\n",
    "membrane_channels = ['Pan-Cytokeratin', 'HLA-DR', 'SMA (D)', 'CD31', 'E-Cadherin', 'CD68', 'CD3e', 'Vimentin']\n",
    "seg_dir = os.path.join(output_dir, 'segmentation')\n",
    "Path(seg_dir).mkdir(parents=True, exist_ok=True)\n",
    "for specimen, fp in zip(metadata['specimen'], metadata['filepath']):\n",
    "    print(specimen)\n",
    "    prefix = os.path.join(seg_dir, specimen)\n",
    "    mip.segment_ome(fp, prefix, 25000, nuclei_channels, membrane_channels)\n",
    "    \n",
    "    seg_fp = prefix + '_cell_segmentation.tif'\n",
    "    df, a = mip.get_spatial_features(seg_fp, fp, thresholds={})\n",
    "    \n",
    "    a.write_h5ad(os.path.join(output_dir, f'{specimen}_spatial_features.h5ad'))\n",
    "    df.to_csv(os.path.join(output_dir, f'{specimen}_spatial_features.txt'), sep='\\t', index=False)\n"
   ]
  },
  {
   "cell_type": "code",
   "execution_count": 12,
   "id": "816db9e6",
   "metadata": {},
   "outputs": [
    {
     "data": {
      "text/plain": [
       "'/diskmnt/Projects/Users/estorrs/imaging-analysis/results/serial_sections/HT913Z1'"
      ]
     },
     "execution_count": 12,
     "metadata": {},
     "output_type": "execute_result"
    }
   ],
   "source": [
    "output_dir"
   ]
  },
  {
   "cell_type": "code",
   "execution_count": null,
   "id": "c8a5e975",
   "metadata": {},
   "outputs": [],
   "source": []
  }
 ],
 "metadata": {
  "kernelspec": {
   "display_name": "Python 3 (ipykernel)",
   "language": "python",
   "name": "python3"
  },
  "language_info": {
   "codemirror_mode": {
    "name": "ipython",
    "version": 3
   },
   "file_extension": ".py",
   "mimetype": "text/x-python",
   "name": "python",
   "nbconvert_exporter": "python",
   "pygments_lexer": "ipython3",
   "version": "3.10.13"
  }
 },
 "nbformat": 4,
 "nbformat_minor": 5
}
