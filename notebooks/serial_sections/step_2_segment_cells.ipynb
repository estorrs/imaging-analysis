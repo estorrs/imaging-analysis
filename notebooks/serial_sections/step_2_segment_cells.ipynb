{
 "cells": [
  {
   "cell_type": "code",
   "execution_count": 1,
   "id": "8f1e490f",
   "metadata": {},
   "outputs": [],
   "source": [
    "import logging\n",
    "import json\n",
    "import os\n",
    "import re\n",
    "from pathlib import Path\n",
    "from collections import Counter\n",
    "\n",
    "import anndata\n",
    "import pandas as pd\n",
    "import numpy as np\n",
    "import tifffile\n",
    "from einops import rearrange\n",
    "from skimage.measure import regionprops"
   ]
  },
  {
   "cell_type": "code",
   "execution_count": 2,
   "id": "069689f8",
   "metadata": {},
   "outputs": [],
   "source": [
    "%load_ext autoreload"
   ]
  },
  {
   "cell_type": "code",
   "execution_count": 3,
   "id": "599a72a9",
   "metadata": {},
   "outputs": [],
   "source": [
    "%autoreload 2"
   ]
  },
  {
   "cell_type": "code",
   "execution_count": 10,
   "id": "447d9928",
   "metadata": {},
   "outputs": [],
   "source": [
    "import multiplex_imaging_pipeline.utils as utils\n",
    "import multiplex_imaging_pipeline.ome as ome\n",
    "import multiplex_imaging_pipeline.segmentation as seg\n",
    "import multiplex_imaging_pipeline.multiplex_imaging_pipeline as mip\n",
    "from multiplex_imaging_pipeline.spatial_features import DEFAULT_GATING_STRATEGY"
   ]
  },
  {
   "cell_type": "code",
   "execution_count": 6,
   "id": "adaa84c7",
   "metadata": {},
   "outputs": [],
   "source": [
    "case = 'HT413C1-Th1k4A1'\n",
    "runs = [\n",
    "    '2024-01-11_HT413C1_Th1k4A1',\n",
    "    '2024-01-10_HT413C1_Th1k4A1'\n",
    "]\n",
    "output_dir = f'/diskmnt/Projects/Users/estorrs/imaging-analysis/results/serial_sections/{case}'"
   ]
  },
  {
   "cell_type": "code",
   "execution_count": 7,
   "id": "3e5c9a1a",
   "metadata": {},
   "outputs": [
    {
     "data": {
      "text/html": [
       "<div>\n",
       "<style scoped>\n",
       "    .dataframe tbody tr th:only-of-type {\n",
       "        vertical-align: middle;\n",
       "    }\n",
       "\n",
       "    .dataframe tbody tr th {\n",
       "        vertical-align: top;\n",
       "    }\n",
       "\n",
       "    .dataframe thead th {\n",
       "        text-align: right;\n",
       "    }\n",
       "</style>\n",
       "<table border=\"1\" class=\"dataframe\">\n",
       "  <thead>\n",
       "    <tr style=\"text-align: right;\">\n",
       "      <th></th>\n",
       "      <th>run_name</th>\n",
       "      <th>omero_run_name</th>\n",
       "      <th>date</th>\n",
       "      <th>case</th>\n",
       "      <th>specimen</th>\n",
       "      <th>bbox</th>\n",
       "      <th>filepath</th>\n",
       "    </tr>\n",
       "  </thead>\n",
       "  <tbody>\n",
       "    <tr>\n",
       "      <th>6</th>\n",
       "      <td>20240111_Human_mCRC_serial_sectrion_HT413C1_Th...</td>\n",
       "      <td>2024-01-11_HT413C1_Th1k4A1</td>\n",
       "      <td>20240111</td>\n",
       "      <td>HT413C1_Th1k4A1</td>\n",
       "      <td>HT413C1_Th1k4A1_U10</td>\n",
       "      <td>0,7000,0,8000</td>\n",
       "      <td>/diskmnt/primary/CODEX/HTAN/20240111_Human_mCR...</td>\n",
       "    </tr>\n",
       "    <tr>\n",
       "      <th>7</th>\n",
       "      <td>20240111_Human_mCRC_serial_sectrion_HT413C1_Th...</td>\n",
       "      <td>2024-01-11_HT413C1_Th1k4A1</td>\n",
       "      <td>20240111</td>\n",
       "      <td>HT413C1_Th1k4A1</td>\n",
       "      <td>HT413C1_Th1k4A1_U26</td>\n",
       "      <td>11000,20000,2000,9000</td>\n",
       "      <td>/diskmnt/primary/CODEX/HTAN/20240111_Human_mCR...</td>\n",
       "    </tr>\n",
       "    <tr>\n",
       "      <th>8</th>\n",
       "      <td>20240111_Human_mCRC_serial_sectrion_HT413C1_Th...</td>\n",
       "      <td>2024-01-11_HT413C1_Th1k4A1</td>\n",
       "      <td>20240111</td>\n",
       "      <td>HT413C1_Th1k4A1</td>\n",
       "      <td>HT413C1_Th1k4A1_U37</td>\n",
       "      <td>24000,33000,1000,9000</td>\n",
       "      <td>/diskmnt/primary/CODEX/HTAN/20240111_Human_mCR...</td>\n",
       "    </tr>\n",
       "    <tr>\n",
       "      <th>9</th>\n",
       "      <td>20240111_Human_mCRC_serial_sectrion_HT413C1_Th...</td>\n",
       "      <td>2024-01-11_HT413C1_Th1k4A1</td>\n",
       "      <td>20240111</td>\n",
       "      <td>HT413C1_Th1k4A1</td>\n",
       "      <td>HT413C1_Th1k4A1_U42</td>\n",
       "      <td>36000,45000,1000,9000</td>\n",
       "      <td>/diskmnt/primary/CODEX/HTAN/20240111_Human_mCR...</td>\n",
       "    </tr>\n",
       "    <tr>\n",
       "      <th>10</th>\n",
       "      <td>20240110_Human_mCRC_Serial_section_HT413C1_Th1...</td>\n",
       "      <td>2024-01-10_HT413C1_Th1k4A1</td>\n",
       "      <td>20240110</td>\n",
       "      <td>HT413C1_Th1k4A1</td>\n",
       "      <td>HT413C1_Th1k4A1_U3</td>\n",
       "      <td>0,9000,1000,8000</td>\n",
       "      <td>/diskmnt/primary/CODEX/HTAN/20240110_Human_mCR...</td>\n",
       "    </tr>\n",
       "    <tr>\n",
       "      <th>11</th>\n",
       "      <td>20240110_Human_mCRC_Serial_section_HT413C1_Th1...</td>\n",
       "      <td>2024-01-10_HT413C1_Th1k4A1</td>\n",
       "      <td>20240110</td>\n",
       "      <td>HT413C1_Th1k4A1</td>\n",
       "      <td>HT413C1_Th1k4A1_U20</td>\n",
       "      <td>12000,22000,0,8000</td>\n",
       "      <td>/diskmnt/primary/CODEX/HTAN/20240110_Human_mCR...</td>\n",
       "    </tr>\n",
       "    <tr>\n",
       "      <th>12</th>\n",
       "      <td>20240110_Human_mCRC_Serial_section_HT413C1_Th1...</td>\n",
       "      <td>2024-01-10_HT413C1_Th1k4A1</td>\n",
       "      <td>20240110</td>\n",
       "      <td>HT413C1_Th1k4A1</td>\n",
       "      <td>HT413C1_Th1k4A1_U32</td>\n",
       "      <td>24000,34000,0,8000</td>\n",
       "      <td>/diskmnt/primary/CODEX/HTAN/20240110_Human_mCR...</td>\n",
       "    </tr>\n",
       "    <tr>\n",
       "      <th>13</th>\n",
       "      <td>20240110_Human_mCRC_Serial_section_HT413C1_Th1...</td>\n",
       "      <td>2024-01-10_HT413C1_Th1k4A1</td>\n",
       "      <td>20240110</td>\n",
       "      <td>HT413C1_Th1k4A1</td>\n",
       "      <td>HT413C1_Th1k4A1_U41</td>\n",
       "      <td>37000,46000,1000,9000</td>\n",
       "      <td>/diskmnt/primary/CODEX/HTAN/20240110_Human_mCR...</td>\n",
       "    </tr>\n",
       "  </tbody>\n",
       "</table>\n",
       "</div>"
      ],
      "text/plain": [
       "                                             run_name  \\\n",
       "6   20240111_Human_mCRC_serial_sectrion_HT413C1_Th...   \n",
       "7   20240111_Human_mCRC_serial_sectrion_HT413C1_Th...   \n",
       "8   20240111_Human_mCRC_serial_sectrion_HT413C1_Th...   \n",
       "9   20240111_Human_mCRC_serial_sectrion_HT413C1_Th...   \n",
       "10  20240110_Human_mCRC_Serial_section_HT413C1_Th1...   \n",
       "11  20240110_Human_mCRC_Serial_section_HT413C1_Th1...   \n",
       "12  20240110_Human_mCRC_Serial_section_HT413C1_Th1...   \n",
       "13  20240110_Human_mCRC_Serial_section_HT413C1_Th1...   \n",
       "\n",
       "                omero_run_name      date             case  \\\n",
       "6   2024-01-11_HT413C1_Th1k4A1  20240111  HT413C1_Th1k4A1   \n",
       "7   2024-01-11_HT413C1_Th1k4A1  20240111  HT413C1_Th1k4A1   \n",
       "8   2024-01-11_HT413C1_Th1k4A1  20240111  HT413C1_Th1k4A1   \n",
       "9   2024-01-11_HT413C1_Th1k4A1  20240111  HT413C1_Th1k4A1   \n",
       "10  2024-01-10_HT413C1_Th1k4A1  20240110  HT413C1_Th1k4A1   \n",
       "11  2024-01-10_HT413C1_Th1k4A1  20240110  HT413C1_Th1k4A1   \n",
       "12  2024-01-10_HT413C1_Th1k4A1  20240110  HT413C1_Th1k4A1   \n",
       "13  2024-01-10_HT413C1_Th1k4A1  20240110  HT413C1_Th1k4A1   \n",
       "\n",
       "               specimen                   bbox  \\\n",
       "6   HT413C1_Th1k4A1_U10          0,7000,0,8000   \n",
       "7   HT413C1_Th1k4A1_U26  11000,20000,2000,9000   \n",
       "8   HT413C1_Th1k4A1_U37  24000,33000,1000,9000   \n",
       "9   HT413C1_Th1k4A1_U42  36000,45000,1000,9000   \n",
       "10   HT413C1_Th1k4A1_U3       0,9000,1000,8000   \n",
       "11  HT413C1_Th1k4A1_U20     12000,22000,0,8000   \n",
       "12  HT413C1_Th1k4A1_U32     24000,34000,0,8000   \n",
       "13  HT413C1_Th1k4A1_U41  37000,46000,1000,9000   \n",
       "\n",
       "                                             filepath  \n",
       "6   /diskmnt/primary/CODEX/HTAN/20240111_Human_mCR...  \n",
       "7   /diskmnt/primary/CODEX/HTAN/20240111_Human_mCR...  \n",
       "8   /diskmnt/primary/CODEX/HTAN/20240111_Human_mCR...  \n",
       "9   /diskmnt/primary/CODEX/HTAN/20240111_Human_mCR...  \n",
       "10  /diskmnt/primary/CODEX/HTAN/20240110_Human_mCR...  \n",
       "11  /diskmnt/primary/CODEX/HTAN/20240110_Human_mCR...  \n",
       "12  /diskmnt/primary/CODEX/HTAN/20240110_Human_mCR...  \n",
       "13  /diskmnt/primary/CODEX/HTAN/20240110_Human_mCR...  "
      ]
     },
     "execution_count": 7,
     "metadata": {},
     "output_type": "execute_result"
    }
   ],
   "source": [
    "metadata = pd.read_csv('/diskmnt/Projects/Users/estorrs/sandbox/specimen_tracking.tsv', sep='\\t')\n",
    "metadata = metadata[[True if x in runs else False for x in metadata['omero_run_name']]]\n",
    "metadata"
   ]
  },
  {
   "cell_type": "code",
   "execution_count": 14,
   "id": "b44ccb0a",
   "metadata": {},
   "outputs": [
    {
     "name": "stdout",
     "output_type": "stream",
     "text": [
      "/diskmnt/primary/CODEX/HTAN/20240111_Human_mCRC_serial_sectrion_HT413C1_Th1k4A1_Slide_8/HT413C1_Th1k4A1_U10__20240111.ome.tiff ['DAPI', 'Podoplanin', 'Pan-Cytokeratin', 'HLA-DR', 'CD8', 'SMA', 'CD45', 'Ki67', 'Hep-Par-1', 'GLUT1', 'CK14', 'CD31', 'CCL2', 'E-cadherin', 'MUC2', 'CD11b', 'SOX9', 'CD20', 'FOXP3', 'P21', 'CK7', 'CD68', 'P16', 'CD4', 'PAI1', 'CD3e', 'CK8/18']\n",
      "/diskmnt/primary/CODEX/HTAN/20240111_Human_mCRC_serial_sectrion_HT413C1_Th1k4A1_Slide_8/HT413C1_Th1k4A1_U26__20240111.ome.tiff ['DAPI', 'Podoplanin', 'Pan-Cytokeratin', 'HLA-DR', 'CD8', 'SMA', 'CD45', 'Ki67', 'Hep-Par-1', 'GLUT1', 'CK14', 'CD31', 'CCL2', 'E-cadherin', 'MUC2', 'CD11b', 'SOX9', 'CD20', 'FOXP3', 'P21', 'CK7', 'CD68', 'P16', 'CD4', 'PAI1', 'CD3e', 'CK8/18']\n",
      "/diskmnt/primary/CODEX/HTAN/20240111_Human_mCRC_serial_sectrion_HT413C1_Th1k4A1_Slide_8/HT413C1_Th1k4A1_U37__20240111.ome.tiff ['DAPI', 'Podoplanin', 'Pan-Cytokeratin', 'HLA-DR', 'CD8', 'SMA', 'CD45', 'Ki67', 'Hep-Par-1', 'GLUT1', 'CK14', 'CD31', 'CCL2', 'E-cadherin', 'MUC2', 'CD11b', 'SOX9', 'CD20', 'FOXP3', 'P21', 'CK7', 'CD68', 'P16', 'CD4', 'PAI1', 'CD3e', 'CK8/18']\n",
      "/diskmnt/primary/CODEX/HTAN/20240111_Human_mCRC_serial_sectrion_HT413C1_Th1k4A1_Slide_8/HT413C1_Th1k4A1_U42__20240111.ome.tiff ['DAPI', 'Podoplanin', 'Pan-Cytokeratin', 'HLA-DR', 'CD8', 'SMA', 'CD45', 'Ki67', 'Hep-Par-1', 'GLUT1', 'CK14', 'CD31', 'CCL2', 'E-cadherin', 'MUC2', 'CD11b', 'SOX9', 'CD20', 'FOXP3', 'P21', 'CK7', 'CD68', 'P16', 'CD4', 'PAI1', 'CD3e', 'CK8/18']\n",
      "/diskmnt/primary/CODEX/HTAN/20240110_Human_mCRC_Serial_section_HT413C1_Th1k4A1_Slide3/HT413C1_Th1k4A1_U3__20240110.ome.tiff ['DAPI', 'Podoplanin', 'Pan-Cytokeratin', 'HLA-DR', 'CD8', 'SMA', 'CD45', 'Ki67', 'Hep-Par-1', 'GLUT1', 'CK14', 'CD31', 'CCL2', 'E-cadherin', 'MUC2', 'CD11b', 'SOX9', 'CD20', 'FOXP3', 'P21', 'CK7', 'CD68', 'P16', 'CD4', 'PAI1', 'CD3e', 'CK8/18']\n",
      "/diskmnt/primary/CODEX/HTAN/20240110_Human_mCRC_Serial_section_HT413C1_Th1k4A1_Slide3/HT413C1_Th1k4A1_U20__20240110.ome.tiff ['DAPI', 'Podoplanin', 'Pan-Cytokeratin', 'HLA-DR', 'CD8', 'SMA', 'CD45', 'Ki67', 'Hep-Par-1', 'GLUT1', 'CK14', 'CD31', 'CCL2', 'E-cadherin', 'MUC2', 'CD11b', 'SOX9', 'CD20', 'FOXP3', 'P21', 'CK7', 'CD68', 'P16', 'CD4', 'PAI1', 'CD3e', 'CK8/18']\n",
      "/diskmnt/primary/CODEX/HTAN/20240110_Human_mCRC_Serial_section_HT413C1_Th1k4A1_Slide3/HT413C1_Th1k4A1_U32__20240110.ome.tiff ['DAPI', 'Podoplanin', 'Pan-Cytokeratin', 'HLA-DR', 'CD8', 'SMA', 'CD45', 'Ki67', 'Hep-Par-1', 'GLUT1', 'CK14', 'CD31', 'CCL2', 'E-cadherin', 'MUC2', 'CD11b', 'SOX9', 'CD20', 'FOXP3', 'P21', 'CK7', 'CD68', 'P16', 'CD4', 'PAI1', 'CD3e', 'CK8/18']\n",
      "/diskmnt/primary/CODEX/HTAN/20240110_Human_mCRC_Serial_section_HT413C1_Th1k4A1_Slide3/HT413C1_Th1k4A1_U41__20240110.ome.tiff ['DAPI', 'Podoplanin', 'Pan-Cytokeratin', 'HLA-DR', 'CD8', 'SMA', 'CD45', 'Ki67', 'Hep-Par-1', 'GLUT1', 'CK14', 'CD31', 'CCL2', 'E-cadherin', 'MUC2', 'CD11b', 'SOX9', 'CD20', 'FOXP3', 'P21', 'CK7', 'CD68', 'P16', 'CD4', 'PAI1', 'CD3e', 'CK8/18']\n"
     ]
    }
   ],
   "source": [
    "mapping = utils.R_CHANNEL_MAPPING\n",
    "for fp in metadata['filepath']:\n",
    "    channels = utils.get_ome_tiff_channels(fp)\n",
    "    for c in channels:\n",
    "        assert c in mapping, f'channel {c} is not in channel mapping, to ensure all channel names match consider adding {c} to channel mapping'\n",
    "        \n",
    "    print(fp, [mapping[c] for c in channels])"
   ]
  },
  {
   "cell_type": "code",
   "execution_count": 17,
   "id": "9cfd0f25",
   "metadata": {},
   "outputs": [
    {
     "name": "stderr",
     "output_type": "stream",
     "text": [
      "2024-01-30 14:27:05,917 - starting segmentation for /diskmnt/primary/CODEX/HTAN/20240111_Human_mCRC_serial_sectrion_HT413C1_Th1k4A1_Slide_8/HT413C1_Th1k4A1_U10__20240111.ome.tiff\n",
      "2024-01-30 14:27:05,968 - Checking for cached data\n"
     ]
    },
    {
     "name": "stdout",
     "output_type": "stream",
     "text": [
      "HT413C1_Th1k4A1_U10\n"
     ]
    },
    {
     "name": "stderr",
     "output_type": "stream",
     "text": [
      "2024-01-30 14:27:07,278 - Checking MultiplexSegmentation-9.tar.gz against provided file_hash...\n",
      "2024-01-30 14:27:07,279 - MultiplexSegmentation-9.tar.gz with hash a1dfbce2594f927b9112f23a0a1739e0 already available.\n",
      "2024-01-30 14:27:07,280 - Extracting /home/estorrs/.deepcell/models/MultiplexSegmentation-9.tar.gz\n",
      "2024-01-30 14:27:10,052 - Successfully extracted /home/estorrs/.deepcell/models/MultiplexSegmentation-9.tar.gz into /home/estorrs/.deepcell/models\n",
      "2024-01-30 14:27:10.304000: W tensorflow/stream_executor/platform/default/dso_loader.cc:64] Could not load dynamic library 'libcuda.so.1'; dlerror: libcuda.so.1: cannot open shared object file: No such file or directory; LD_LIBRARY_PATH: /diskmnt/Projects/Users/estorrs/miniconda3/envs/imaging_analysis_v2/lib/python3.10/site-packages/cv2/../../lib64:/usr/local/lib:/usr/lib64:/usr/local/lib:/usr/lib64:\n",
      "2024-01-30 14:27:10.304089: W tensorflow/stream_executor/cuda/cuda_driver.cc:269] failed call to cuInit: UNKNOWN ERROR (303)\n",
      "2024-01-30 14:27:10.304155: I tensorflow/stream_executor/cuda/cuda_diagnostics.cc:156] kernel driver does not appear to be running on this host (tortugas): /proc/driver/nvidia/version does not exist\n",
      "2024-01-30 14:27:10.305024: I tensorflow/core/platform/cpu_feature_guard.cc:151] This TensorFlow binary is optimized with oneAPI Deep Neural Network Library (oneDNN) to use the following CPU instructions in performance-critical operations:  AVX2 AVX512F FMA\n",
      "To enable them in other operations, rebuild TensorFlow with the appropriate compiler flags.\n"
     ]
    },
    {
     "name": "stdout",
     "output_type": "stream",
     "text": [
      "WARNING:tensorflow:No training configuration found in save file, so the model was *not* compiled. Compile it manually.\n"
     ]
    },
    {
     "name": "stderr",
     "output_type": "stream",
     "text": [
      "2024-01-30 14:27:19,113 - No training configuration found in save file, so the model was *not* compiled. Compile it manually.\n",
      "/diskmnt/Projects/Users/estorrs/miniconda3/envs/imaging_analysis_v2/lib/python3.10/site-packages/deepcell_toolbox/deep_watershed.py:108: UserWarning: h_maxima peak finding algorithm was selected, but the provided image is larger than 5k x 5k pixels.This will lead to slow prediction performance.\n",
      "  warnings.warn('h_maxima peak finding algorithm was selected, '\n",
      "2024-01-30 14:36:16,214 - finished segmentation\n",
      "2024-01-30 14:36:16,215 - writing /diskmnt/Projects/Users/estorrs/imaging-analysis/results/serial_sections/HT413C1-Th1k4A1/segmentation/HT413C1_Th1k4A1_U10_nuclei_segmentation.tif\n",
      "2024-01-30 14:36:16,691 - writing /diskmnt/Projects/Users/estorrs/imaging-analysis/results/serial_sections/HT413C1-Th1k4A1/segmentation/HT413C1_Th1k4A1_U10_cell_segmentation.tif\n",
      "2024-01-30 14:36:17,149 - starting segmentation for /diskmnt/primary/CODEX/HTAN/20240111_Human_mCRC_serial_sectrion_HT413C1_Th1k4A1_Slide_8/HT413C1_Th1k4A1_U26__20240111.ome.tiff\n",
      "2024-01-30 14:36:17,153 - Checking for cached data\n"
     ]
    },
    {
     "name": "stdout",
     "output_type": "stream",
     "text": [
      "HT413C1_Th1k4A1_U26\n"
     ]
    },
    {
     "name": "stderr",
     "output_type": "stream",
     "text": [
      "2024-01-30 14:36:17,392 - Checking MultiplexSegmentation-9.tar.gz against provided file_hash...\n",
      "2024-01-30 14:36:17,393 - MultiplexSegmentation-9.tar.gz with hash a1dfbce2594f927b9112f23a0a1739e0 already available.\n",
      "2024-01-30 14:36:17,394 - Extracting /home/estorrs/.deepcell/models/MultiplexSegmentation-9.tar.gz\n",
      "2024-01-30 14:36:20,176 - Successfully extracted /home/estorrs/.deepcell/models/MultiplexSegmentation-9.tar.gz into /home/estorrs/.deepcell/models\n"
     ]
    },
    {
     "name": "stdout",
     "output_type": "stream",
     "text": [
      "WARNING:tensorflow:No training configuration found in save file, so the model was *not* compiled. Compile it manually.\n"
     ]
    },
    {
     "name": "stderr",
     "output_type": "stream",
     "text": [
      "2024-01-30 14:36:29,230 - No training configuration found in save file, so the model was *not* compiled. Compile it manually.\n",
      "/diskmnt/Projects/Users/estorrs/miniconda3/envs/imaging_analysis_v2/lib/python3.10/site-packages/deepcell_toolbox/deep_watershed.py:108: UserWarning: h_maxima peak finding algorithm was selected, but the provided image is larger than 5k x 5k pixels.This will lead to slow prediction performance.\n",
      "  warnings.warn('h_maxima peak finding algorithm was selected, '\n",
      "2024-01-30 14:46:23,149 - finished segmentation\n",
      "2024-01-30 14:46:23,153 - writing /diskmnt/Projects/Users/estorrs/imaging-analysis/results/serial_sections/HT413C1-Th1k4A1/segmentation/HT413C1_Th1k4A1_U26_nuclei_segmentation.tif\n",
      "2024-01-30 14:46:23,554 - writing /diskmnt/Projects/Users/estorrs/imaging-analysis/results/serial_sections/HT413C1-Th1k4A1/segmentation/HT413C1_Th1k4A1_U26_cell_segmentation.tif\n",
      "2024-01-30 14:46:24,026 - starting segmentation for /diskmnt/primary/CODEX/HTAN/20240111_Human_mCRC_serial_sectrion_HT413C1_Th1k4A1_Slide_8/HT413C1_Th1k4A1_U37__20240111.ome.tiff\n",
      "2024-01-30 14:46:24,027 - Checking for cached data\n"
     ]
    },
    {
     "name": "stdout",
     "output_type": "stream",
     "text": [
      "HT413C1_Th1k4A1_U37\n"
     ]
    },
    {
     "name": "stderr",
     "output_type": "stream",
     "text": [
      "2024-01-30 14:46:24,273 - Checking MultiplexSegmentation-9.tar.gz against provided file_hash...\n",
      "2024-01-30 14:46:24,274 - MultiplexSegmentation-9.tar.gz with hash a1dfbce2594f927b9112f23a0a1739e0 already available.\n",
      "2024-01-30 14:46:24,275 - Extracting /home/estorrs/.deepcell/models/MultiplexSegmentation-9.tar.gz\n",
      "2024-01-30 14:46:27,003 - Successfully extracted /home/estorrs/.deepcell/models/MultiplexSegmentation-9.tar.gz into /home/estorrs/.deepcell/models\n"
     ]
    },
    {
     "name": "stdout",
     "output_type": "stream",
     "text": [
      "WARNING:tensorflow:No training configuration found in save file, so the model was *not* compiled. Compile it manually.\n"
     ]
    },
    {
     "name": "stderr",
     "output_type": "stream",
     "text": [
      "2024-01-30 14:46:35,307 - No training configuration found in save file, so the model was *not* compiled. Compile it manually.\n",
      "/diskmnt/Projects/Users/estorrs/miniconda3/envs/imaging_analysis_v2/lib/python3.10/site-packages/deepcell_toolbox/deep_watershed.py:108: UserWarning: h_maxima peak finding algorithm was selected, but the provided image is larger than 5k x 5k pixels.This will lead to slow prediction performance.\n",
      "  warnings.warn('h_maxima peak finding algorithm was selected, '\n",
      "2024-01-30 14:56:46,627 - finished segmentation\n",
      "2024-01-30 14:56:46,629 - writing /diskmnt/Projects/Users/estorrs/imaging-analysis/results/serial_sections/HT413C1-Th1k4A1/segmentation/HT413C1_Th1k4A1_U37_nuclei_segmentation.tif\n",
      "2024-01-30 14:56:47,004 - writing /diskmnt/Projects/Users/estorrs/imaging-analysis/results/serial_sections/HT413C1-Th1k4A1/segmentation/HT413C1_Th1k4A1_U37_cell_segmentation.tif\n",
      "2024-01-30 14:56:48,877 - starting segmentation for /diskmnt/primary/CODEX/HTAN/20240111_Human_mCRC_serial_sectrion_HT413C1_Th1k4A1_Slide_8/HT413C1_Th1k4A1_U42__20240111.ome.tiff\n",
      "2024-01-30 14:56:48,884 - Checking for cached data\n"
     ]
    },
    {
     "name": "stdout",
     "output_type": "stream",
     "text": [
      "HT413C1_Th1k4A1_U42\n"
     ]
    },
    {
     "name": "stderr",
     "output_type": "stream",
     "text": [
      "2024-01-30 14:56:49,199 - Checking MultiplexSegmentation-9.tar.gz against provided file_hash...\n",
      "2024-01-30 14:56:49,200 - MultiplexSegmentation-9.tar.gz with hash a1dfbce2594f927b9112f23a0a1739e0 already available.\n",
      "2024-01-30 14:56:49,201 - Extracting /home/estorrs/.deepcell/models/MultiplexSegmentation-9.tar.gz\n",
      "2024-01-30 14:56:51,946 - Successfully extracted /home/estorrs/.deepcell/models/MultiplexSegmentation-9.tar.gz into /home/estorrs/.deepcell/models\n"
     ]
    },
    {
     "name": "stdout",
     "output_type": "stream",
     "text": [
      "WARNING:tensorflow:No training configuration found in save file, so the model was *not* compiled. Compile it manually.\n"
     ]
    },
    {
     "name": "stderr",
     "output_type": "stream",
     "text": [
      "2024-01-30 14:56:59,646 - No training configuration found in save file, so the model was *not* compiled. Compile it manually.\n",
      "/diskmnt/Projects/Users/estorrs/miniconda3/envs/imaging_analysis_v2/lib/python3.10/site-packages/deepcell_toolbox/deep_watershed.py:108: UserWarning: h_maxima peak finding algorithm was selected, but the provided image is larger than 5k x 5k pixels.This will lead to slow prediction performance.\n",
      "  warnings.warn('h_maxima peak finding algorithm was selected, '\n",
      "2024-01-30 15:06:57,624 - finished segmentation\n",
      "2024-01-30 15:06:57,628 - writing /diskmnt/Projects/Users/estorrs/imaging-analysis/results/serial_sections/HT413C1-Th1k4A1/segmentation/HT413C1_Th1k4A1_U42_nuclei_segmentation.tif\n",
      "2024-01-30 15:06:59,444 - writing /diskmnt/Projects/Users/estorrs/imaging-analysis/results/serial_sections/HT413C1-Th1k4A1/segmentation/HT413C1_Th1k4A1_U42_cell_segmentation.tif\n",
      "2024-01-30 15:06:59,895 - starting segmentation for /diskmnt/primary/CODEX/HTAN/20240110_Human_mCRC_Serial_section_HT413C1_Th1k4A1_Slide3/HT413C1_Th1k4A1_U3__20240110.ome.tiff\n",
      "2024-01-30 15:06:59,897 - Checking for cached data\n"
     ]
    },
    {
     "name": "stdout",
     "output_type": "stream",
     "text": [
      "HT413C1_Th1k4A1_U3\n"
     ]
    },
    {
     "name": "stderr",
     "output_type": "stream",
     "text": [
      "2024-01-30 15:07:00,146 - Checking MultiplexSegmentation-9.tar.gz against provided file_hash...\n",
      "2024-01-30 15:07:00,147 - MultiplexSegmentation-9.tar.gz with hash a1dfbce2594f927b9112f23a0a1739e0 already available.\n",
      "2024-01-30 15:07:00,148 - Extracting /home/estorrs/.deepcell/models/MultiplexSegmentation-9.tar.gz\n",
      "2024-01-30 15:07:03,047 - Successfully extracted /home/estorrs/.deepcell/models/MultiplexSegmentation-9.tar.gz into /home/estorrs/.deepcell/models\n"
     ]
    },
    {
     "name": "stdout",
     "output_type": "stream",
     "text": [
      "WARNING:tensorflow:No training configuration found in save file, so the model was *not* compiled. Compile it manually.\n"
     ]
    },
    {
     "name": "stderr",
     "output_type": "stream",
     "text": [
      "2024-01-30 15:07:10,119 - No training configuration found in save file, so the model was *not* compiled. Compile it manually.\n",
      "/diskmnt/Projects/Users/estorrs/miniconda3/envs/imaging_analysis_v2/lib/python3.10/site-packages/deepcell_toolbox/deep_watershed.py:108: UserWarning: h_maxima peak finding algorithm was selected, but the provided image is larger than 5k x 5k pixels.This will lead to slow prediction performance.\n",
      "  warnings.warn('h_maxima peak finding algorithm was selected, '\n",
      "2024-01-30 15:16:40,076 - finished segmentation\n",
      "2024-01-30 15:16:40,079 - writing /diskmnt/Projects/Users/estorrs/imaging-analysis/results/serial_sections/HT413C1-Th1k4A1/segmentation/HT413C1_Th1k4A1_U3_nuclei_segmentation.tif\n",
      "2024-01-30 15:16:40,448 - writing /diskmnt/Projects/Users/estorrs/imaging-analysis/results/serial_sections/HT413C1-Th1k4A1/segmentation/HT413C1_Th1k4A1_U3_cell_segmentation.tif\n",
      "2024-01-30 15:16:40,873 - starting segmentation for /diskmnt/primary/CODEX/HTAN/20240110_Human_mCRC_Serial_section_HT413C1_Th1k4A1_Slide3/HT413C1_Th1k4A1_U20__20240110.ome.tiff\n",
      "2024-01-30 15:16:40,875 - Checking for cached data\n"
     ]
    },
    {
     "name": "stdout",
     "output_type": "stream",
     "text": [
      "HT413C1_Th1k4A1_U20\n"
     ]
    },
    {
     "name": "stderr",
     "output_type": "stream",
     "text": [
      "2024-01-30 15:16:41,120 - Checking MultiplexSegmentation-9.tar.gz against provided file_hash...\n",
      "2024-01-30 15:16:41,122 - MultiplexSegmentation-9.tar.gz with hash a1dfbce2594f927b9112f23a0a1739e0 already available.\n",
      "2024-01-30 15:16:41,122 - Extracting /home/estorrs/.deepcell/models/MultiplexSegmentation-9.tar.gz\n",
      "2024-01-30 15:16:43,846 - Successfully extracted /home/estorrs/.deepcell/models/MultiplexSegmentation-9.tar.gz into /home/estorrs/.deepcell/models\n"
     ]
    },
    {
     "name": "stdout",
     "output_type": "stream",
     "text": [
      "WARNING:tensorflow:No training configuration found in save file, so the model was *not* compiled. Compile it manually.\n"
     ]
    },
    {
     "name": "stderr",
     "output_type": "stream",
     "text": [
      "2024-01-30 15:16:51,887 - No training configuration found in save file, so the model was *not* compiled. Compile it manually.\n",
      "/diskmnt/Projects/Users/estorrs/miniconda3/envs/imaging_analysis_v2/lib/python3.10/site-packages/deepcell_toolbox/deep_watershed.py:108: UserWarning: h_maxima peak finding algorithm was selected, but the provided image is larger than 5k x 5k pixels.This will lead to slow prediction performance.\n",
      "  warnings.warn('h_maxima peak finding algorithm was selected, '\n",
      "2024-01-30 15:28:18,122 - finished segmentation\n",
      "2024-01-30 15:28:18,126 - writing /diskmnt/Projects/Users/estorrs/imaging-analysis/results/serial_sections/HT413C1-Th1k4A1/segmentation/HT413C1_Th1k4A1_U20_nuclei_segmentation.tif\n",
      "2024-01-30 15:28:18,554 - writing /diskmnt/Projects/Users/estorrs/imaging-analysis/results/serial_sections/HT413C1-Th1k4A1/segmentation/HT413C1_Th1k4A1_U20_cell_segmentation.tif\n",
      "2024-01-30 15:28:19,083 - starting segmentation for /diskmnt/primary/CODEX/HTAN/20240110_Human_mCRC_Serial_section_HT413C1_Th1k4A1_Slide3/HT413C1_Th1k4A1_U32__20240110.ome.tiff\n",
      "2024-01-30 15:28:19,086 - Checking for cached data\n"
     ]
    },
    {
     "name": "stdout",
     "output_type": "stream",
     "text": [
      "HT413C1_Th1k4A1_U32\n"
     ]
    },
    {
     "name": "stderr",
     "output_type": "stream",
     "text": [
      "2024-01-30 15:28:19,332 - Checking MultiplexSegmentation-9.tar.gz against provided file_hash...\n",
      "2024-01-30 15:28:19,333 - MultiplexSegmentation-9.tar.gz with hash a1dfbce2594f927b9112f23a0a1739e0 already available.\n",
      "2024-01-30 15:28:19,334 - Extracting /home/estorrs/.deepcell/models/MultiplexSegmentation-9.tar.gz\n",
      "2024-01-30 15:28:22,146 - Successfully extracted /home/estorrs/.deepcell/models/MultiplexSegmentation-9.tar.gz into /home/estorrs/.deepcell/models\n"
     ]
    },
    {
     "name": "stdout",
     "output_type": "stream",
     "text": [
      "WARNING:tensorflow:No training configuration found in save file, so the model was *not* compiled. Compile it manually.\n"
     ]
    },
    {
     "name": "stderr",
     "output_type": "stream",
     "text": [
      "2024-01-30 15:28:30,679 - No training configuration found in save file, so the model was *not* compiled. Compile it manually.\n",
      "/diskmnt/Projects/Users/estorrs/miniconda3/envs/imaging_analysis_v2/lib/python3.10/site-packages/deepcell_toolbox/deep_watershed.py:108: UserWarning: h_maxima peak finding algorithm was selected, but the provided image is larger than 5k x 5k pixels.This will lead to slow prediction performance.\n",
      "  warnings.warn('h_maxima peak finding algorithm was selected, '\n",
      "2024-01-30 15:39:58,056 - finished segmentation\n",
      "2024-01-30 15:39:58,060 - writing /diskmnt/Projects/Users/estorrs/imaging-analysis/results/serial_sections/HT413C1-Th1k4A1/segmentation/HT413C1_Th1k4A1_U32_nuclei_segmentation.tif\n",
      "2024-01-30 15:39:58,657 - writing /diskmnt/Projects/Users/estorrs/imaging-analysis/results/serial_sections/HT413C1-Th1k4A1/segmentation/HT413C1_Th1k4A1_U32_cell_segmentation.tif\n",
      "2024-01-30 15:39:59,196 - starting segmentation for /diskmnt/primary/CODEX/HTAN/20240110_Human_mCRC_Serial_section_HT413C1_Th1k4A1_Slide3/HT413C1_Th1k4A1_U41__20240110.ome.tiff\n",
      "2024-01-30 15:39:59,198 - Checking for cached data\n"
     ]
    },
    {
     "name": "stdout",
     "output_type": "stream",
     "text": [
      "HT413C1_Th1k4A1_U41\n"
     ]
    },
    {
     "name": "stderr",
     "output_type": "stream",
     "text": [
      "2024-01-30 15:39:59,441 - Checking MultiplexSegmentation-9.tar.gz against provided file_hash...\n",
      "2024-01-30 15:39:59,441 - MultiplexSegmentation-9.tar.gz with hash a1dfbce2594f927b9112f23a0a1739e0 already available.\n",
      "2024-01-30 15:39:59,442 - Extracting /home/estorrs/.deepcell/models/MultiplexSegmentation-9.tar.gz\n",
      "2024-01-30 15:40:02,361 - Successfully extracted /home/estorrs/.deepcell/models/MultiplexSegmentation-9.tar.gz into /home/estorrs/.deepcell/models\n"
     ]
    },
    {
     "name": "stdout",
     "output_type": "stream",
     "text": [
      "WARNING:tensorflow:No training configuration found in save file, so the model was *not* compiled. Compile it manually.\n"
     ]
    },
    {
     "name": "stderr",
     "output_type": "stream",
     "text": [
      "2024-01-30 15:40:11,346 - No training configuration found in save file, so the model was *not* compiled. Compile it manually.\n",
      "/diskmnt/Projects/Users/estorrs/miniconda3/envs/imaging_analysis_v2/lib/python3.10/site-packages/deepcell_toolbox/deep_watershed.py:108: UserWarning: h_maxima peak finding algorithm was selected, but the provided image is larger than 5k x 5k pixels.This will lead to slow prediction performance.\n",
      "  warnings.warn('h_maxima peak finding algorithm was selected, '\n",
      "2024-01-30 15:50:09,885 - finished segmentation\n",
      "2024-01-30 15:50:09,886 - writing /diskmnt/Projects/Users/estorrs/imaging-analysis/results/serial_sections/HT413C1-Th1k4A1/segmentation/HT413C1_Th1k4A1_U41_nuclei_segmentation.tif\n",
      "2024-01-30 15:50:10,268 - writing /diskmnt/Projects/Users/estorrs/imaging-analysis/results/serial_sections/HT413C1-Th1k4A1/segmentation/HT413C1_Th1k4A1_U41_cell_segmentation.tif\n"
     ]
    }
   ],
   "source": [
    "nuclei_channels = ['DAPI']\n",
    "membrane_channels = [\n",
    "    'Pan-Cytokeratin', 'HLA-DR', 'SMA', 'CD45', 'Hep-Par-1', 'CD31', 'E-cadherin', 'CD68', 'CD3e']\n",
    "seg_dir = os.path.join(output_dir, 'segmentation')\n",
    "Path(seg_dir).mkdir(parents=True, exist_ok=True)\n",
    "for specimen, fp in zip(metadata['specimen'], metadata['filepath']):\n",
    "    print(specimen)\n",
    "    prefix = os.path.join(seg_dir, specimen)\n",
    "    mip.segment_ome(fp, prefix, 25000, nuclei_channels, membrane_channels)"
   ]
  },
  {
   "cell_type": "code",
   "execution_count": null,
   "id": "816db9e6",
   "metadata": {},
   "outputs": [],
   "source": []
  }
 ],
 "metadata": {
  "kernelspec": {
   "display_name": "Python 3 (ipykernel)",
   "language": "python",
   "name": "python3"
  },
  "language_info": {
   "codemirror_mode": {
    "name": "ipython",
    "version": 3
   },
   "file_extension": ".py",
   "mimetype": "text/x-python",
   "name": "python",
   "nbconvert_exporter": "python",
   "pygments_lexer": "ipython3",
   "version": "3.10.13"
  }
 },
 "nbformat": 4,
 "nbformat_minor": 5
}
